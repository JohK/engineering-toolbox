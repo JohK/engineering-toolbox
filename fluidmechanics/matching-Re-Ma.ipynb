{
 "cells": [
  {
   "cell_type": "markdown",
   "id": "alert-jacob",
   "metadata": {},
   "source": [
    "Matching Reynolds- and Machnumber\n",
    "===\n",
    "\n",
    "To achieve similarity between fluid dynamic problems the Reynolds- and Machnumber may need to be matched.\n",
    "\n",
    "DEF Re\n",
    "\n",
    "DEF Ma\n",
    "\n",
    "original condition  <> simliar condition\n"
   ]
  },
  {
   "cell_type": "code",
   "execution_count": null,
   "id": "closing-miniature",
   "metadata": {},
   "outputs": [],
   "source": []
  }
 ],
 "metadata": {
  "kernelspec": {
   "display_name": "Python 3",
   "language": "python",
   "name": "python3"
  },
  "language_info": {
   "codemirror_mode": {
    "name": "ipython",
    "version": 3
   },
   "file_extension": ".py",
   "mimetype": "text/x-python",
   "name": "python",
   "nbconvert_exporter": "python",
   "pygments_lexer": "ipython3",
   "version": "3.8.6"
  }
 },
 "nbformat": 4,
 "nbformat_minor": 5
}
