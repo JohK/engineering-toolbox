{
 "cells": [
  {
   "cell_type": "markdown",
   "metadata": {},
   "source": [
    "Boundary Layer Thickness on a Flat Plate\n",
    "===\n",
    "\n",
    "This is a tool for a quick estimation of the boundary layer thickness on a flat plate.\n",
    "\n",
    "The momentum loss thickness of a laminar boundary layer $\\delta_l$ (Blasius solution):\n",
    "$$ \\delta_l = 0.664 \\cdot \\sqrt{\\frac{\\nu \\cdot x}{u}} $$\n",
    "\n",
    "For a turbulent flow:\n",
    "$$ \\delta_t = 0.0142 \\cdot x \\cdot \\left(\\frac{u\\cdot x}{\\nu}\\right)^\\left(-\\frac{1}{7}\\right) $$"
   ]
  },
  {
   "cell_type": "code",
   "execution_count": 79,
   "metadata": {
    "jupyter": {
     "source_hidden": true
    }
   },
   "outputs": [],
   "source": [
    "%run '../_libtoolbox/init-notebook.py'\n",
    "%run '../_libtoolbox/tbwidgets.py'\n",
    "         \n",
    "@np.vectorize\n",
    "def momentum_boundarylayer(x, u, gas):\n",
    "    rho = gas.density\n",
    "    nu = gas.kinematic_viscosity\n",
    "    \n",
    "    fdelta_laminar = lambda x: 0.664*np.sqrt(nu*x/u)\n",
    "    fdelta_turbulent = lambda x: 0.0142*(u*x/nu)**(-1/7)*x\n",
    "    \n",
    "    try:\n",
    "        boundarylayer_thickness = [np.max(fdelta_laminar(xi), fdelta_turbulent(xi)) for xi in x]\n",
    "    except TypeError:\n",
    "        boundarylayer_thickness = np.max([fdelta_laminar(x), fdelta_turbulent(x)])\n",
    "    \n",
    "    # find where laminar and turbulent boundary layer thickness intersect\n",
    "    sol = root_scalar(lambda x: fdelta_laminar(x)-fdelta_turbulent(x), bracket=[1e-6,10e6])\n",
    "    if sol.converged:\n",
    "        transition_position = sol.root\n",
    "    else:\n",
    "        transition_position = np.nan\n",
    "    \n",
    "    return(boundarylayer_thickness,\n",
    "           transition_position)\n"
   ]
  },
  {
   "cell_type": "code",
   "execution_count": 80,
   "metadata": {
    "jupyter": {
     "source_hidden": true
    }
   },
   "outputs": [],
   "source": [
    "def fplot(platelength, u, pressure, temperature, gasname):\n",
    "    g = gas.state(gasname, 273.15+temperature, pressure)\n",
    "    \n",
    "    desc = '{:s}: T={:.1f}°C, p={:.3f}bar'.format(gasname, temperature, pressure/1e5)\n",
    "    \n",
    "    plt.figure()\n",
    "    #print(xmax, u, gas.gasname)\n",
    "    x = np.linspace(0.0000001, platelength, num=1000)\n",
    "    \n",
    "    if not np.isnan(g.density):\n",
    "        bl, transition = momentum_boundarylayer(x, u, g)\n",
    "        transition_bl, _ =  momentum_boundarylayer(transition[0], u, g)\n",
    "\n",
    "        plt.plot(x, bl*1000, '-k', label='boundary layer thickness')\n",
    "        plt.plot(transition[0], transition_bl*1000, '.k', label='laminar-turbulent transition')\n",
    "        plt.xlim([0, platelength])\n",
    "        plt.ylim([0, np.max(bl)*1000])\n",
    "        plt.legend()\n",
    "    else:\n",
    "        plt.text(0.2, 0.5, 'Data not available, or\\nnot a fluid in the property range',\n",
    "                 transform=plt.gca().transAxes, \n",
    "                 bbox=dict(facecolor='red', alpha=0.2))\n",
    "    plt.xlabel('length of flat plate in m')\n",
    "    plt.ylabel('boundary layer thickness in mm')\n",
    "    plt.grid()\n",
    "    plt.title(desc)\n",
    "\n",
    "    plt.show()"
   ]
  },
  {
   "cell_type": "code",
   "execution_count": 81,
   "metadata": {
    "jupyter": {
     "source_hidden": true
    }
   },
   "outputs": [
    {
     "data": {
      "application/vnd.jupyter.widget-view+json": {
       "model_id": "6d7ad784ffa34244a17277d19680ae2e",
       "version_major": 2,
       "version_minor": 0
      },
      "text/plain": [
       "Accordion(children=(VBox(children=(HBox(children=(Label(value='Pressure in Pa:', layout=Layout(flex='1 1 auto'…"
      ]
     },
     "metadata": {},
     "output_type": "display_data"
    },
    {
     "data": {
      "application/vnd.jupyter.widget-view+json": {
       "model_id": "4d8d3aaade97448f9767a0bf159f8fc1",
       "version_major": 2,
       "version_minor": 0
      },
      "text/plain": [
       "Output()"
      ]
     },
     "metadata": {},
     "output_type": "display_data"
    }
   ],
   "source": [
    "gas_dropdown = widgets.Dropdown(options=gas.state.fluids_list(), value='Air')\n",
    "\n",
    "pwidget, pslider, _ = quantity('Pressure in Pa:', min=1, max=150e5, step=1e5, value=101325)\n",
    "Twidget, Tslider, _ = quantity('Temperature in °C:', min=-30, max=55, step=1, value=20)\n",
    "\n",
    "thermostate = widgets.VBox([\n",
    "    pwidget,\n",
    "    Twidget,\n",
    "    widgets.HBox([widgets.Label('Gas / Specie Mixture:'), gas_dropdown])\n",
    "])\n",
    "\n",
    "platewidget, plateslider, _ = quantity('Platelength in m', min=0.001, max=10, step=0.001, value=0.1)\n",
    "uwidget, uslider, _ = quantity('Velocity in m/s:', min=0.001, max=200, step=0.001, value=20)\n",
    "\n",
    "flow = widgets.VBox([platewidget, uwidget])\n",
    "\n",
    "accordion = widgets.Accordion(children=[thermostate, flow])\n",
    "accordion.set_title(0, 'Thermodynamic State')\n",
    "accordion.set_title(1, 'Flat Plate')\n",
    "\n",
    "\n",
    "interactive_plot = interactive_output(fplot,\n",
    "                               {'platelength': plateslider,\n",
    "                                'u': uslider,\n",
    "                                'pressure': pslider,\n",
    "                                'temperature': Tslider,\n",
    "                                'gasname': gas_dropdown})\n",
    "\n",
    "display(accordion, interactive_plot)"
   ]
  },
  {
   "cell_type": "code",
   "execution_count": null,
   "metadata": {},
   "outputs": [],
   "source": []
  }
 ],
 "metadata": {
  "kernelspec": {
   "display_name": "Python 3",
   "language": "python",
   "name": "python3"
  },
  "language_info": {
   "codemirror_mode": {
    "name": "ipython",
    "version": 3
   },
   "file_extension": ".py",
   "mimetype": "text/x-python",
   "name": "python",
   "nbconvert_exporter": "python",
   "pygments_lexer": "ipython3",
   "version": "3.8.6"
  }
 },
 "nbformat": 4,
 "nbformat_minor": 4
}
