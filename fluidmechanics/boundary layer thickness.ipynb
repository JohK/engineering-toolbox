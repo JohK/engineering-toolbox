{
 "cells": [
  {
   "cell_type": "code",
   "execution_count": 1,
   "metadata": {},
   "outputs": [
    {
     "data": {
      "text/markdown": [
       "&nbsp;<a href=\"https://nuflo.de\"><img hspace=\"45%\" align=\"middle\" src=\"../_libtoolbox/nuflo-logo-N-512x512.png\" alt=\"logo-N\" width=\"8%\" /></a>\n",
       "\n",
       "<center><h1>nuflo Engineering Toolbox</h1></center>\n",
       "\n",
       "[nuflo is an engineering company](https://nuflo.de) that supports digitalization of engineering processes in fluid mechanics.\n",
       "\n",
       "*The code for this tool can be found over at [github](https://github.com/JohK/engineering-toolbox).*  \n",
       "*More interactive tools are located at [toolbox.nuflo.de](http://toolbox.nuflo.de).*\n"
      ],
      "text/plain": [
       "<IPython.core.display.Markdown object>"
      ]
     },
     "metadata": {},
     "output_type": "display_data"
    }
   ],
   "source": [
    "%matplotlib widget\n",
    "%run '../_libtoolbox/init-notebook.py'\n",
    "%run '../_libtoolbox/tbwidgets.py'\n",
    "%run '../_libtoolbox/header.py'"
   ]
  },
  {
   "cell_type": "markdown",
   "metadata": {},
   "source": [
    "Boundary Layer Thickness on a Flat Plate\n",
    "---\n",
    "This is a tool for a quick estimation of the boundary layer thickness on a flat plate. For this estimation we use the momentum loss thickness based on two simple correlations:\n",
    "\n",
    "The momentum loss thickness of a laminar boundary layer $\\delta_l$ (Blasius solution):\n",
    "$$ \\delta_l = 0.664 \\cdot \\sqrt{\\frac{\\nu \\cdot x}{u}} $$\n",
    "\n",
    "For a turbulent flow:\n",
    "$$ \\delta_t = 0.0142 \\cdot x \\cdot \\left(\\frac{u\\cdot x}{\\nu}\\right)^\\left(-\\frac{1}{7}\\right) $$\n",
    "\n",
    "Depending on the physical problem these may not be the right choice, if unsure ask an experienced engineer."
   ]
  },
  {
   "cell_type": "code",
   "execution_count": 2,
   "metadata": {},
   "outputs": [],
   "source": [
    "@np.vectorize\n",
    "def momentum_boundarylayer(x, u, gas):\n",
    "    rho = gas.density\n",
    "    nu = gas.kinematic_viscosity\n",
    "    \n",
    "    fdelta_laminar = lambda x: 0.664*np.sqrt(nu*x/u)\n",
    "    fdelta_turbulent = lambda x: 0.0142*(u*x/nu)**(-1/7)*x\n",
    "    \n",
    "    try:\n",
    "        boundarylayer_thickness = [np.max(fdelta_laminar(xi), fdelta_turbulent(xi)) for xi in x]\n",
    "    except TypeError:\n",
    "        boundarylayer_thickness = np.max([fdelta_laminar(x), fdelta_turbulent(x)])\n",
    "    \n",
    "    # find where laminar and turbulent boundary layer thickness intersect\n",
    "    sol = root_scalar(lambda x: fdelta_laminar(x)-fdelta_turbulent(x), bracket=[1e-6,10e6])\n",
    "    if sol.converged:\n",
    "        transition_position = sol.root\n",
    "    else:\n",
    "        transition_position = np.nan\n",
    "    \n",
    "    return(boundarylayer_thickness,\n",
    "           transition_position)"
   ]
  },
  {
   "cell_type": "code",
   "execution_count": 6,
   "metadata": {},
   "outputs": [],
   "source": [
    "def fplot(platelength, u, pressure, temperature, gasname):\n",
    "    g = gas.state(gasname, 273.15+temperature, pressure)\n",
    "    \n",
    "    desc = '{:s}: T={:.1f}°C, p={:.3f}bar'.format(gasname, temperature, pressure/1e5)\n",
    "    \n",
    "    fig = plt.figure(dpi=300)\n",
    "    #print(xmax, u, gas.gasname)\n",
    "    x = np.linspace(0.0000001, platelength, num=1000)\n",
    "    \n",
    "    if not np.isnan(g.density):\n",
    "        bl, transition = momentum_boundarylayer(x, u, g)\n",
    "        transition_bl, _ =  momentum_boundarylayer(transition[0], u, g)\n",
    "\n",
    "        plt.plot(x, bl*1000, '-', label='boundary layer thickness')\n",
    "        plt.plot(transition[0], transition_bl*1000, '.', label='laminar-turbulent transition')\n",
    "        plt.xlim([0, platelength])\n",
    "        plt.ylim([0, np.max(bl)*1000])\n",
    "        plt.legend()\n",
    "    else:\n",
    "        plt.text(0.2, 0.5, 'Data not available, or\\nnot a fluid in the property range',\n",
    "                 transform=plt.gca().transAxes, \n",
    "                 bbox=dict(facecolor='red', alpha=0.2))\n",
    "    plt.xlabel('length of flat plate in m')\n",
    "    plt.ylabel('boundary layer thickness in mm')\n",
    "    plt.grid()\n",
    "    plt.title(desc)\n",
    "  \n",
    "# with widget\n",
    " #   fig.canvas.layout.width = '100%'\n",
    " #   fig.canvas.layout.height = '750px'\n",
    "\n",
    "    plt.show()\n",
    "    \n",
    "    \n",
    "def plot_init():\n",
    "    fig = plt.figure()#(dpi=300)\n",
    "    blline, = plt.plot(0, 0, '-', label='boundary layer thickness')\n",
    "    trline, = plt.plot(0, 0, '.', label='laminar-turbulent transition')\n",
    "    warningtext = plt.text(0.2, 0.5,\n",
    "                            'Data not available, or\\nnot a fluid in the property range',\n",
    "                            transform=plt.gca().transAxes, \n",
    "                            bbox=dict(facecolor='red', alpha=0.2))\n",
    "    plt.legend()\n",
    "    plt.xlabel('length of flat plate in m')\n",
    "    plt.ylabel('boundary layer thickness in mm')\n",
    "\n",
    "    fig.canvas.layout.width = '100%'\n",
    "    fig.canvas.layout.height = '600px'\n",
    "    \n",
    "    plt.grid()\n",
    "    plt.show()\n",
    "    \n",
    "    def update(platelength, u, pressure, temperature, gasname):\n",
    "        g = gas.state(gasname, 273.15+temperature, pressure)\n",
    "        desc = '{:s}: T={:.1f}°C, p={:.3f}bar'.format(gasname, temperature, pressure/1e5)\n",
    "        x = np.linspace(0.0000001, platelength, num=1000)\n",
    "        fig.gca().set_title(desc)\n",
    "        if not np.isnan(g.density):\n",
    "            bl, transition = momentum_boundarylayer(x, u, g)\n",
    "            transition_bl, _ =  momentum_boundarylayer(transition[0], u, g)\n",
    "            warningtext.set_visible(False)\n",
    "            blline.set_xdata(x)\n",
    "            blline.set_ydata(bl*1000)\n",
    "            trline.set_xdata(transition[0])\n",
    "            trline.set_ydata(transition_bl*1000)\n",
    "            fig.gca().set_xlim([0, platelength])\n",
    "            fig.gca().set_ylim([0, np.max(bl)*1000])\n",
    "        else:\n",
    "            warningtext.set_visible(True)\n",
    "            blline.set_xdata(0)\n",
    "            blline.set_ydata(0)\n",
    "            trline.set_xdata(0)\n",
    "            trline.set_ydata(0)\n",
    "        fig.canvas.draw_idle()\n",
    "            \n",
    "    return update\n",
    "        "
   ]
  },
  {
   "cell_type": "code",
   "execution_count": 7,
   "metadata": {},
   "outputs": [
    {
     "data": {
      "application/vnd.jupyter.widget-view+json": {
       "model_id": "4245449624084f738d74299e24cf996f",
       "version_major": 2,
       "version_minor": 0
      },
      "text/plain": [
       "Canvas(toolbar=Toolbar(toolitems=[('Home', 'Reset original view', 'home', 'home'), ('Back', 'Back to previous …"
      ]
     },
     "metadata": {},
     "output_type": "display_data"
    },
    {
     "data": {
      "application/vnd.jupyter.widget-view+json": {
       "model_id": "fd467abde78047ce9b122c7acbf651f5",
       "version_major": 2,
       "version_minor": 0
      },
      "text/plain": [
       "Accordion(children=(VBox(children=(HBox(children=(Label(value='Pressure in Pa:', layout=Layout(flex='1 1 auto'…"
      ]
     },
     "metadata": {},
     "output_type": "display_data"
    },
    {
     "data": {
      "application/vnd.jupyter.widget-view+json": {
       "model_id": "eeec0b566ea3404e97de56a215abbf11",
       "version_major": 2,
       "version_minor": 0
      },
      "text/plain": [
       "Output()"
      ]
     },
     "metadata": {},
     "output_type": "display_data"
    }
   ],
   "source": [
    "gas_dropdown = widgets.Dropdown(options=gas.state.fluids_list(), value='Air')\n",
    "\n",
    "pwidget, pslider, _ = quantity('Pressure in Pa:', min=1, max=150e5, step=1e5, value=101325)\n",
    "Twidget, Tslider, _ = quantity('Temperature in °C:', min=-30, max=55, step=1, value=20)\n",
    "\n",
    "thermostate = widgets.VBox([\n",
    "    pwidget,\n",
    "    Twidget,\n",
    "    widgets.HBox([widgets.Label('Gas / Specie Mixture:'), gas_dropdown])\n",
    "])\n",
    "\n",
    "platewidget, plateslider, _ = quantity('Platelength in m', min=0.001, max=10, step=0.001, value=0.1)\n",
    "uwidget, uslider, _ = quantity('Velocity in m/s:', min=0.001, max=200, step=0.001, value=20)\n",
    "\n",
    "flow = widgets.VBox([platewidget, uwidget])\n",
    "\n",
    "accordion = widgets.Accordion(children=[thermostate, flow])\n",
    "accordion.set_title(0, 'Thermodynamic State')\n",
    "accordion.set_title(1, 'Flat Plate')\n",
    "\n",
    "update_plot = plot_init()\n",
    "interactive_plot = interactive_output(update_plot,\n",
    "                                      {'platelength': plateslider,\n",
    "                                       'u': uslider,\n",
    "                                       'pressure': pslider,\n",
    "                                       'temperature': Tslider,\n",
    "                                       'gasname': gas_dropdown})\n",
    "#interactive_plot = interactive_output(fplot,\n",
    "#                               {'platelength': plateslider,\n",
    "#                                'u': uslider,\n",
    "#                                'pressure': pslider,\n",
    "#                                'temperature': Tslider,\n",
    "#                                'gasname': gas_dropdown})\n",
    "\n",
    "display(accordion, interactive_plot)"
   ]
  },
  {
   "cell_type": "code",
   "execution_count": 8,
   "metadata": {},
   "outputs": [
    {
     "data": {
      "text/markdown": [
       "\n",
       "<div style='position: fixed; left: 0; bottom: 0; width: 100%; background-color: #f7b500; color: #000000; text-align: center; vertical-align: middle; padding: 10px'> \n",
       "<b><a style='color: #000000;' href=\"https://nuflo.de/\"><img src=\"../_libtoolbox/nuflo-logo-N-512x512.png\" alt=\"logo-N\" width=\"16px\" />&nbsp;&nbsp;&nbsp;nuflo</a></b></div>"
      ],
      "text/plain": [
       "<IPython.core.display.Markdown object>"
      ]
     },
     "metadata": {},
     "output_type": "display_data"
    }
   ],
   "source": [
    "%run '../_libtoolbox/footer.py'"
   ]
  }
 ],
 "metadata": {
  "kernelspec": {
   "display_name": "Python 3",
   "language": "python",
   "name": "python3"
  },
  "language_info": {
   "codemirror_mode": {
    "name": "ipython",
    "version": 3
   },
   "file_extension": ".py",
   "mimetype": "text/x-python",
   "name": "python",
   "nbconvert_exporter": "python",
   "pygments_lexer": "ipython3",
   "version": "3.8.6"
  },
  "widgets": {
   "application/vnd.jupyter.widget-state+json": {
    "state": {
     "010523171c05438b8a0c49a3fe58d395": {
      "model_module": "@jupyter-widgets/base",
      "model_module_version": "1.2.0",
      "model_name": "LayoutModel",
      "state": {
       "flex": "1 1 auto",
       "width": "auto"
      }
     },
     "014088ba2a4646ee9916b3ea1b68efda": {
      "model_module": "@jupyter-widgets/controls",
      "model_module_version": "1.5.0",
      "model_name": "DescriptionStyleModel",
      "state": {
       "description_width": ""
      }
     },
     "0364e3855afb4b4897ab0aea0fd79e41": {
      "model_module": "@jupyter-widgets/controls",
      "model_module_version": "1.5.0",
      "model_name": "DescriptionStyleModel",
      "state": {
       "description_width": ""
      }
     },
     "0414587f5de149d0927f0505e45b28f0": {
      "model_module": "@jupyter-widgets/base",
      "model_module_version": "1.2.0",
      "model_name": "LayoutModel",
      "state": {
       "flex": "1 1 auto",
       "width": "auto"
      }
     },
     "058b0ba296db405aad9370acbd66aa5a": {
      "model_module": "@jupyter-widgets/controls",
      "model_module_version": "1.5.0",
      "model_name": "DescriptionStyleModel",
      "state": {
       "description_width": ""
      }
     },
     "06377edb34fb4c19b32e92c941b3336f": {
      "model_module": "@jupyter-widgets/base",
      "model_module_version": "1.2.0",
      "model_name": "LayoutModel",
      "state": {}
     },
     "0d234cd4b839412584bb7839eded83f8": {
      "model_module": "@jupyter-widgets/base",
      "model_module_version": "1.2.0",
      "model_name": "LayoutModel",
      "state": {
       "display": "flex",
       "width": "100%"
      }
     },
     "1525f5ae8ff64023888ed080e260f057": {
      "model_module": "@jupyter-widgets/base",
      "model_module_version": "1.2.0",
      "model_name": "LayoutModel",
      "state": {
       "display": "flex",
       "width": "100%"
      }
     },
     "156974e630e54b369f870cb7eab13993": {
      "model_module": "@jupyter-widgets/controls",
      "model_module_version": "1.5.0",
      "model_name": "FloatSliderModel",
      "state": {
       "layout": "IPY_MODEL_93bd6dc7599e4eaa8597e111bfc8f33c",
       "max": 10,
       "min": 0.001,
       "readout": false,
       "step": 0.001,
       "style": "IPY_MODEL_d0ca9911e5714500b46e332489aa766c",
       "value": 0.1
      }
     },
     "169ebe127b704c03a3fb8ef7b99f13ca": {
      "model_module": "@jupyter-widgets/controls",
      "model_module_version": "1.5.0",
      "model_name": "BoundedFloatTextModel",
      "state": {
       "layout": "IPY_MODEL_507c4be5803d4b649638db71eac8bc56",
       "max": 200,
       "min": 0.001,
       "step": 0.001,
       "style": "IPY_MODEL_85c6b2fe4f2c49f9978b9c7a23830049",
       "value": 20
      }
     },
     "1744d5cf07a340408db184b9ca4f309f": {
      "model_module": "@jupyter-widgets/base",
      "model_module_version": "1.2.0",
      "model_name": "LayoutModel",
      "state": {
       "display": "flex",
       "flex_flow": "row"
      }
     },
     "187cf5ad8df54238b51a20f40db0e2f6": {
      "model_module": "@jupyter-widgets/controls",
      "model_module_version": "1.5.0",
      "model_name": "BoundedFloatTextModel",
      "state": {
       "layout": "IPY_MODEL_fd19f90dce074c56adc385fb67d7be18",
       "max": 10,
       "min": 0.001,
       "step": 0.001,
       "style": "IPY_MODEL_d3222af5bd2f43b181bdb61be15ac75a",
       "value": 0.1
      }
     },
     "197aa65c49ba4412965fc77047ad9f17": {
      "model_module": "@jupyter-widgets/controls",
      "model_module_version": "1.5.0",
      "model_name": "FloatSliderModel",
      "state": {
       "layout": "IPY_MODEL_87271c6fafd64a4a87cbb5ae51392325",
       "max": 55,
       "min": -30,
       "readout": false,
       "style": "IPY_MODEL_e290e720d78f4224bcf67e286d699407",
       "value": 20
      }
     },
     "1a60b5e7888f43428b6a05a37e7246eb": {
      "model_module": "@jupyter-widgets/controls",
      "model_module_version": "1.5.0",
      "model_name": "DescriptionStyleModel",
      "state": {
       "description_width": ""
      }
     },
     "2166e211238c4c078cc65884b82e0f11": {
      "model_module": "@jupyter-widgets/base",
      "model_module_version": "1.2.0",
      "model_name": "LayoutModel",
      "state": {
       "flex": "1 1 auto",
       "width": "auto"
      }
     },
     "24396cc4362a4ea2983286d35767f43f": {
      "model_module": "@jupyter-widgets/base",
      "model_module_version": "1.2.0",
      "model_name": "LayoutModel",
      "state": {
       "flex": "1 1 auto",
       "width": "auto"
      }
     },
     "2633e019d4d94a78b08d2b241f800f37": {
      "model_module": "@jupyter-widgets/base",
      "model_module_version": "1.2.0",
      "model_name": "LayoutModel",
      "state": {
       "flex": "10 1 auto",
       "width": "auto"
      }
     },
     "2e9ebdeeff4d4139ab9b8514ff5cdd85": {
      "model_module": "@jupyter-widgets/base",
      "model_module_version": "1.2.0",
      "model_name": "LayoutModel",
      "state": {
       "flex": "1 1 auto",
       "width": "auto"
      }
     },
     "329f5ef6463040f9a2fcc6909aa936b0": {
      "model_module": "@jupyter-widgets/base",
      "model_module_version": "1.2.0",
      "model_name": "LayoutModel",
      "state": {
       "display": "flex",
       "width": "100%"
      }
     },
     "36bf2ebbbab7417e810c7e664d558f26": {
      "model_module": "@jupyter-widgets/base",
      "model_module_version": "1.2.0",
      "model_name": "LayoutModel",
      "state": {
       "flex": "10 1 auto",
       "width": "auto"
      }
     },
     "3991131788d04f86b62d3845008ed753": {
      "model_module": "@jupyter-widgets/controls",
      "model_module_version": "1.5.0",
      "model_name": "FloatSliderModel",
      "state": {
       "layout": "IPY_MODEL_36bf2ebbbab7417e810c7e664d558f26",
       "max": 15000000,
       "min": 1,
       "readout": false,
       "step": 100000,
       "style": "IPY_MODEL_470c6f3d52404ea5809f987b72cd4234",
       "value": 101325
      }
     },
     "3b98778c3a1847d69ffa66a83d3f4634": {
      "model_module": "@jupyter-widgets/base",
      "model_module_version": "1.2.0",
      "model_name": "LayoutModel",
      "state": {
       "flex": "1 1 auto",
       "width": "auto"
      }
     },
     "3f2295eb9da54d62973b88c1dcd9ab1b": {
      "model_module": "@jupyter-widgets/base",
      "model_module_version": "1.2.0",
      "model_name": "LayoutModel",
      "state": {}
     },
     "3f31e1b3902f4d279402b96b8057f92b": {
      "model_module": "@jupyter-widgets/controls",
      "model_module_version": "1.5.0",
      "model_name": "FloatSliderModel",
      "state": {
       "layout": "IPY_MODEL_eb47a93fa87e4a7bbe9b5a293def2aa7",
       "max": 55,
       "min": -30,
       "readout": false,
       "style": "IPY_MODEL_e4c4f92ff2e44d8a82e52166d118d3f9",
       "value": 20
      }
     },
     "44bb3b3af2b74b4c85d60b30a90ba104": {
      "model_module": "@jupyter-widgets/base",
      "model_module_version": "1.2.0",
      "model_name": "LayoutModel",
      "state": {
       "display": "flex",
       "flex_flow": "row"
      }
     },
     "470c6f3d52404ea5809f987b72cd4234": {
      "model_module": "@jupyter-widgets/controls",
      "model_module_version": "1.5.0",
      "model_name": "SliderStyleModel",
      "state": {
       "description_width": ""
      }
     },
     "4a466f3ebc114d59ae2b00df45ea9dc9": {
      "model_module": "@jupyter-widgets/base",
      "model_module_version": "1.2.0",
      "model_name": "LayoutModel",
      "state": {
       "flex": "1 1 auto",
       "width": "auto"
      }
     },
     "505f35cdf6f945ad8ea3c594480a846b": {
      "model_module": "@jupyter-widgets/controls",
      "model_module_version": "1.5.0",
      "model_name": "BoundedFloatTextModel",
      "state": {
       "layout": "IPY_MODEL_24396cc4362a4ea2983286d35767f43f",
       "max": 15000000,
       "min": 1,
       "step": 100000,
       "style": "IPY_MODEL_b69f5974bd5b40dfb580e3646b06e7ca",
       "value": 101325
      }
     },
     "507c4be5803d4b649638db71eac8bc56": {
      "model_module": "@jupyter-widgets/base",
      "model_module_version": "1.2.0",
      "model_name": "LayoutModel",
      "state": {
       "flex": "1 1 auto",
       "width": "auto"
      }
     },
     "51046522dfdc456e9f89237d1c84e634": {
      "model_module": "@jupyter-widgets/base",
      "model_module_version": "1.2.0",
      "model_name": "LayoutModel",
      "state": {}
     },
     "5b71de9050be4dfa999ba193a1ec8f66": {
      "model_module": "@jupyter-widgets/base",
      "model_module_version": "1.2.0",
      "model_name": "LayoutModel",
      "state": {}
     },
     "5c7007875bf24489a697cbf3168b70b4": {
      "model_module": "@jupyter-widgets/controls",
      "model_module_version": "1.5.0",
      "model_name": "HBoxModel",
      "state": {
       "children": [
        "IPY_MODEL_7dda40b0691c4f00a4d700d57a338524",
        "IPY_MODEL_3991131788d04f86b62d3845008ed753",
        "IPY_MODEL_505f35cdf6f945ad8ea3c594480a846b"
       ],
       "layout": "IPY_MODEL_1525f5ae8ff64023888ed080e260f057"
      }
     },
     "5e3921a564454f038378ac0c13dc63f4": {
      "model_module": "@jupyter-widgets/base",
      "model_module_version": "1.2.0",
      "model_name": "LayoutModel",
      "state": {}
     },
     "5f1a78ef81304dd1937665e012ad5ec1": {
      "model_module": "@jupyter-widgets/controls",
      "model_module_version": "1.5.0",
      "model_name": "LabelModel",
      "state": {
       "layout": "IPY_MODEL_0414587f5de149d0927f0505e45b28f0",
       "style": "IPY_MODEL_f1c35722d6864b2bac0bb1b2de98ffa8",
       "value": "Velocity in m/s:"
      }
     },
     "61a0e3caed9f4e368a36be1189a9733b": {
      "model_module": "@jupyter-widgets/controls",
      "model_module_version": "1.5.0",
      "model_name": "FloatSliderModel",
      "state": {
       "layout": "IPY_MODEL_d2555ffddf5c419fae9c18889edce366",
       "max": 200,
       "min": 0.001,
       "readout": false,
       "step": 0.001,
       "style": "IPY_MODEL_d436b8f9eb5a425d8a7eb1c65bd8c2c7",
       "value": 20
      }
     },
     "61b0bf5537204166881b5afe73ca24ec": {
      "model_module": "@jupyter-widgets/controls",
      "model_module_version": "1.5.0",
      "model_name": "HBoxModel",
      "state": {
       "children": [
        "IPY_MODEL_67c94158a48a47d68c328d61b50d4fa8",
        "IPY_MODEL_61a0e3caed9f4e368a36be1189a9733b",
        "IPY_MODEL_169ebe127b704c03a3fb8ef7b99f13ca"
       ],
       "layout": "IPY_MODEL_0d234cd4b839412584bb7839eded83f8"
      }
     },
     "61dd7ca2d4c2412f8a1a950a94363097": {
      "model_module": "@jupyter-widgets/controls",
      "model_module_version": "1.5.0",
      "model_name": "HBoxModel",
      "state": {
       "children": [
        "IPY_MODEL_ca54e02083334b0799124d8fd935b1b6",
        "IPY_MODEL_197aa65c49ba4412965fc77047ad9f17",
        "IPY_MODEL_67071bcb237a4a24811e02a7b1e0cb85"
       ],
       "layout": "IPY_MODEL_329f5ef6463040f9a2fcc6909aa936b0"
      }
     },
     "62b4b51ca63e4e5a86329332ee5149ab": {
      "model_module": "@jupyter-widgets/base",
      "model_module_version": "1.2.0",
      "model_name": "LayoutModel",
      "state": {
       "display": "flex",
       "flex_flow": "row"
      }
     },
     "631e48bf149146e9b3faa3c60f7e0f9b": {
      "model_module": "@jupyter-widgets/base",
      "model_module_version": "1.2.0",
      "model_name": "LayoutModel",
      "state": {
       "display": "flex",
       "flex_flow": "row"
      }
     },
     "638ae1bf5851451c8fd654b84acb8501": {
      "model_module": "@jupyter-widgets/controls",
      "model_module_version": "1.5.0",
      "model_name": "BoundedFloatTextModel",
      "state": {
       "layout": "IPY_MODEL_c27908dd6757402dbb564c0e24d86344",
       "max": 55,
       "min": -30,
       "step": 1,
       "style": "IPY_MODEL_9158a3ef3f024f09875d8574173844bc",
       "value": 20
      }
     },
     "67071bcb237a4a24811e02a7b1e0cb85": {
      "model_module": "@jupyter-widgets/controls",
      "model_module_version": "1.5.0",
      "model_name": "BoundedFloatTextModel",
      "state": {
       "layout": "IPY_MODEL_010523171c05438b8a0c49a3fe58d395",
       "max": 55,
       "min": -30,
       "step": 1,
       "style": "IPY_MODEL_e54d9f4841bd40a3887b3d08040c7b96",
       "value": 20
      }
     },
     "67a624e1b67346a3b7c6e5c81c491e73": {
      "model_module": "@jupyter-widgets/base",
      "model_module_version": "1.2.0",
      "model_name": "LayoutModel",
      "state": {
       "display": "flex",
       "flex_flow": "row"
      }
     },
     "67c94158a48a47d68c328d61b50d4fa8": {
      "model_module": "@jupyter-widgets/controls",
      "model_module_version": "1.5.0",
      "model_name": "LabelModel",
      "state": {
       "layout": "IPY_MODEL_76163779f1284351b54198c65cdc24ac",
       "style": "IPY_MODEL_1a60b5e7888f43428b6a05a37e7246eb",
       "value": "Velocity in m/s:"
      }
     },
     "67fa25b9215a423d89bbb7db44e82d03": {
      "model_module": "@jupyter-widgets/controls",
      "model_module_version": "1.5.0",
      "model_name": "DropdownModel",
      "state": {
       "_options_labels": [
        "1-Butene",
        "Acetone",
        "Air",
        "Ammonia",
        "Argon",
        "Benzene",
        "CarbonDioxide",
        "CarbonMonoxide",
        "CarbonylSulfide",
        "CycloHexane",
        "CycloPropane",
        "Cyclopentane",
        "D4",
        "D5",
        "D6",
        "Deuterium",
        "Dichloroethane",
        "DiethylEther",
        "DimethylCarbonate",
        "DimethylEther",
        "Ethane",
        "Ethanol",
        "EthylBenzene",
        "Ethylene",
        "EthyleneOxide",
        "Fluorine",
        "HFE143m",
        "HeavyWater",
        "Helium",
        "Hydrogen",
        "HydrogenChloride",
        "HydrogenSulfide",
        "IsoButane",
        "IsoButene",
        "Isohexane",
        "Isopentane",
        "Krypton",
        "MD2M",
        "MD3M",
        "MD4M",
        "MDM",
        "MM",
        "Methane",
        "Methanol",
        "MethylLinoleate",
        "MethylLinolenate",
        "MethylOleate",
        "MethylPalmitate",
        "MethylStearate",
        "Neon",
        "Neopentane",
        "Nitrogen",
        "NitrousOxide",
        "Novec649",
        "OrthoDeuterium",
        "OrthoHydrogen",
        "Oxygen",
        "ParaDeuterium",
        "ParaHydrogen",
        "Propylene",
        "Propyne",
        "R11",
        "R113",
        "R114",
        "R115",
        "R116",
        "R12",
        "R123",
        "R1233zd(E)",
        "R1234yf",
        "R1234ze(E)",
        "R1234ze(Z)",
        "R124",
        "R1243zf",
        "R125",
        "R13",
        "R134a",
        "R13I1",
        "R14",
        "R141b",
        "R142b",
        "R143a",
        "R152A",
        "R161",
        "R21",
        "R218",
        "R22",
        "R227EA",
        "R23",
        "R236EA",
        "R236FA",
        "R245ca",
        "R245fa",
        "R32",
        "R365MFC",
        "R40",
        "R404A",
        "R407C",
        "R41",
        "R410A",
        "R507A",
        "RC318",
        "SES36",
        "SulfurDioxide",
        "SulfurHexafluoride",
        "Toluene",
        "Water",
        "Xenon",
        "cis-2-Butene",
        "m-Xylene",
        "n-Butane",
        "n-Decane",
        "n-Dodecane",
        "n-Heptane",
        "n-Hexane",
        "n-Nonane",
        "n-Octane",
        "n-Pentane",
        "n-Propane",
        "n-Undecane",
        "o-Xylene",
        "p-Xylene",
        "trans-2-Butene"
       ],
       "index": 2,
       "layout": "IPY_MODEL_76e4f4feca8c48c0af3d6dedd1a0141d",
       "style": "IPY_MODEL_058b0ba296db405aad9370acbd66aa5a"
      }
     },
     "693d146b7c584e358abfe12023bba8df": {
      "model_module": "@jupyter-widgets/controls",
      "model_module_version": "1.5.0",
      "model_name": "DescriptionStyleModel",
      "state": {
       "description_width": ""
      }
     },
     "69423e08d5ea44a99e2421e1a206f6db": {
      "model_module": "@jupyter-widgets/controls",
      "model_module_version": "1.5.0",
      "model_name": "VBoxModel",
      "state": {
       "children": [
        "IPY_MODEL_d3fc4ba8494548629ebadba033e44585",
        "IPY_MODEL_b2f6adceddb94915a2c139b07492e7f6",
        "IPY_MODEL_f945487461234b63aa8e854632feada6"
       ],
       "layout": "IPY_MODEL_b83710b60e324294991380cf3b231765"
      }
     },
     "6942b60955064a4aa31342f0e240a4e7": {
      "model_module": "@jupyter-widgets/base",
      "model_module_version": "1.2.0",
      "model_name": "LayoutModel",
      "state": {
       "flex": "1 1 auto",
       "width": "auto"
      }
     },
     "6a8146adb33e45dba44a4f3a3530d2a4": {
      "model_module": "@jupyter-widgets/base",
      "model_module_version": "1.2.0",
      "model_name": "LayoutModel",
      "state": {
       "flex": "1 1 auto",
       "width": "auto"
      }
     },
     "6c06b94b7b2d4d56b01d00e7539dc701": {
      "model_module": "@jupyter-widgets/base",
      "model_module_version": "1.2.0",
      "model_name": "LayoutModel",
      "state": {
       "flex": "1 1 auto",
       "width": "auto"
      }
     },
     "6d6ff2c49b304db0b083deb71a7c16b7": {
      "model_module": "@jupyter-widgets/base",
      "model_module_version": "1.2.0",
      "model_name": "LayoutModel",
      "state": {}
     },
     "709ac8f952d947e5a6c9ca260504fb79": {
      "model_module": "@jupyter-widgets/controls",
      "model_module_version": "1.5.0",
      "model_name": "LabelModel",
      "state": {
       "layout": "IPY_MODEL_c815f3507a634d93b9ecb541acc743e4",
       "style": "IPY_MODEL_9789f875287b454997f1a4f588daa62f",
       "value": "Gas / Specie Mixture:"
      }
     },
     "76163779f1284351b54198c65cdc24ac": {
      "model_module": "@jupyter-widgets/base",
      "model_module_version": "1.2.0",
      "model_name": "LayoutModel",
      "state": {
       "flex": "1 1 auto",
       "width": "auto"
      }
     },
     "76e4f4feca8c48c0af3d6dedd1a0141d": {
      "model_module": "@jupyter-widgets/base",
      "model_module_version": "1.2.0",
      "model_name": "LayoutModel",
      "state": {}
     },
     "770466c30dd3478c99a68407c07c9a06": {
      "model_module": "@jupyter-widgets/controls",
      "model_module_version": "1.5.0",
      "model_name": "HBoxModel",
      "state": {
       "children": [
        "IPY_MODEL_db403e91042a4661a9890b7208688f82",
        "IPY_MODEL_7d5a185bcbb74d0194358322c13016ed"
       ],
       "layout": "IPY_MODEL_a6790a3117da4b5b869c126158ee8239"
      }
     },
     "78949eae91e54ce99889f63702eab979": {
      "model_module": "@jupyter-widgets/base",
      "model_module_version": "1.2.0",
      "model_name": "LayoutModel",
      "state": {
       "display": "flex",
       "width": "100%"
      }
     },
     "7a0ba68e888344dea552e7c4bdf7ab4f": {
      "model_module": "@jupyter-widgets/controls",
      "model_module_version": "1.5.0",
      "model_name": "SliderStyleModel",
      "state": {
       "description_width": ""
      }
     },
     "7d5a185bcbb74d0194358322c13016ed": {
      "model_module": "@jupyter-widgets/controls",
      "model_module_version": "1.5.0",
      "model_name": "DropdownModel",
      "state": {
       "_options_labels": [
        "1-Butene",
        "Acetone",
        "Air",
        "Ammonia",
        "Argon",
        "Benzene",
        "CarbonDioxide",
        "CarbonMonoxide",
        "CarbonylSulfide",
        "CycloHexane",
        "CycloPropane",
        "Cyclopentane",
        "D4",
        "D5",
        "D6",
        "Deuterium",
        "Dichloroethane",
        "DiethylEther",
        "DimethylCarbonate",
        "DimethylEther",
        "Ethane",
        "Ethanol",
        "EthylBenzene",
        "Ethylene",
        "EthyleneOxide",
        "Fluorine",
        "HFE143m",
        "HeavyWater",
        "Helium",
        "Hydrogen",
        "HydrogenChloride",
        "HydrogenSulfide",
        "IsoButane",
        "IsoButene",
        "Isohexane",
        "Isopentane",
        "Krypton",
        "MD2M",
        "MD3M",
        "MD4M",
        "MDM",
        "MM",
        "Methane",
        "Methanol",
        "MethylLinoleate",
        "MethylLinolenate",
        "MethylOleate",
        "MethylPalmitate",
        "MethylStearate",
        "Neon",
        "Neopentane",
        "Nitrogen",
        "NitrousOxide",
        "Novec649",
        "OrthoDeuterium",
        "OrthoHydrogen",
        "Oxygen",
        "ParaDeuterium",
        "ParaHydrogen",
        "Propylene",
        "Propyne",
        "R11",
        "R113",
        "R114",
        "R115",
        "R116",
        "R12",
        "R123",
        "R1233zd(E)",
        "R1234yf",
        "R1234ze(E)",
        "R1234ze(Z)",
        "R124",
        "R1243zf",
        "R125",
        "R13",
        "R134a",
        "R13I1",
        "R14",
        "R141b",
        "R142b",
        "R143a",
        "R152A",
        "R161",
        "R21",
        "R218",
        "R22",
        "R227EA",
        "R23",
        "R236EA",
        "R236FA",
        "R245ca",
        "R245fa",
        "R32",
        "R365MFC",
        "R40",
        "R404A",
        "R407C",
        "R41",
        "R410A",
        "R507A",
        "RC318",
        "SES36",
        "SulfurDioxide",
        "SulfurHexafluoride",
        "Toluene",
        "Water",
        "Xenon",
        "cis-2-Butene",
        "m-Xylene",
        "n-Butane",
        "n-Decane",
        "n-Dodecane",
        "n-Heptane",
        "n-Hexane",
        "n-Nonane",
        "n-Octane",
        "n-Pentane",
        "n-Propane",
        "n-Undecane",
        "o-Xylene",
        "p-Xylene",
        "trans-2-Butene"
       ],
       "index": 2,
       "layout": "IPY_MODEL_9cdab42d861444bb9c35908d62b1b348",
       "style": "IPY_MODEL_97c33e03ad9642f88e3f65db4c34b872"
      }
     },
     "7dda40b0691c4f00a4d700d57a338524": {
      "model_module": "@jupyter-widgets/controls",
      "model_module_version": "1.5.0",
      "model_name": "LabelModel",
      "state": {
       "layout": "IPY_MODEL_4a466f3ebc114d59ae2b00df45ea9dc9",
       "style": "IPY_MODEL_b2a73001f85e4586ae3c2b8b78daed32",
       "value": "Pressure in Pa:"
      }
     },
     "7de430a0b55640fd808fa6baedbe0b9b": {
      "model_module": "@jupyter-widgets/controls",
      "model_module_version": "1.5.0",
      "model_name": "VBoxModel",
      "state": {
       "children": [
        "IPY_MODEL_b1c0d22ccd3a4b2bb668efff43206dfd",
        "IPY_MODEL_985282f3ff784de692e19c0e06e779a0"
       ],
       "layout": "IPY_MODEL_5e3921a564454f038378ac0c13dc63f4"
      }
     },
     "809912dab8c249f2bee5ea823301ce38": {
      "model_module": "@jupyter-widgets/controls",
      "model_module_version": "1.5.0",
      "model_name": "BoundedFloatTextModel",
      "state": {
       "layout": "IPY_MODEL_ae0017db298a48a0bc858de2c52dea57",
       "max": 15000000,
       "min": 1,
       "step": 100000,
       "style": "IPY_MODEL_f80956dbef53447f8e03303bb726f092",
       "value": 101325
      }
     },
     "84e784c561a5443b9a1f8baf3acccbbb": {
      "model_module": "@jupyter-widgets/base",
      "model_module_version": "1.2.0",
      "model_name": "LayoutModel",
      "state": {}
     },
     "85c6b2fe4f2c49f9978b9c7a23830049": {
      "model_module": "@jupyter-widgets/controls",
      "model_module_version": "1.5.0",
      "model_name": "DescriptionStyleModel",
      "state": {
       "description_width": ""
      }
     },
     "87271c6fafd64a4a87cbb5ae51392325": {
      "model_module": "@jupyter-widgets/base",
      "model_module_version": "1.2.0",
      "model_name": "LayoutModel",
      "state": {
       "flex": "10 1 auto",
       "width": "auto"
      }
     },
     "8e04b62501f0473eb08647a2c814583c": {
      "model_module": "@jupyter-widgets/controls",
      "model_module_version": "1.5.0",
      "model_name": "LabelModel",
      "state": {
       "layout": "IPY_MODEL_3b98778c3a1847d69ffa66a83d3f4634",
       "style": "IPY_MODEL_d0e56ae7328b4f81afc6c187516e6d25",
       "value": "Platelength in m"
      }
     },
     "9158a3ef3f024f09875d8574173844bc": {
      "model_module": "@jupyter-widgets/controls",
      "model_module_version": "1.5.0",
      "model_name": "DescriptionStyleModel",
      "state": {
       "description_width": ""
      }
     },
     "91a221b902c44e29992e3d1cbe482473": {
      "model_module": "@jupyter-widgets/base",
      "model_module_version": "1.2.0",
      "model_name": "LayoutModel",
      "state": {
       "display": "flex",
       "flex_flow": "row"
      }
     },
     "9262e6302aba489dbf1b80148f1b92b9": {
      "model_module": "@jupyter-widgets/base",
      "model_module_version": "1.2.0",
      "model_name": "LayoutModel",
      "state": {
       "display": "flex",
       "flex_flow": "row"
      }
     },
     "92d8df336c4e42b694ef04ac7299706d": {
      "model_module": "@jupyter-widgets/controls",
      "model_module_version": "1.5.0",
      "model_name": "LabelModel",
      "state": {
       "layout": "IPY_MODEL_fc5efe6956d841cf87ecaeab1bd0d498",
       "style": "IPY_MODEL_014088ba2a4646ee9916b3ea1b68efda",
       "value": "Temperature in °C:"
      }
     },
     "93bd6dc7599e4eaa8597e111bfc8f33c": {
      "model_module": "@jupyter-widgets/base",
      "model_module_version": "1.2.0",
      "model_name": "LayoutModel",
      "state": {
       "flex": "10 1 auto",
       "width": "auto"
      }
     },
     "9789f875287b454997f1a4f588daa62f": {
      "model_module": "@jupyter-widgets/controls",
      "model_module_version": "1.5.0",
      "model_name": "DescriptionStyleModel",
      "state": {
       "description_width": ""
      }
     },
     "97c33e03ad9642f88e3f65db4c34b872": {
      "model_module": "@jupyter-widgets/controls",
      "model_module_version": "1.5.0",
      "model_name": "DescriptionStyleModel",
      "state": {
       "description_width": ""
      }
     },
     "97dfba119cc240af88fa04d5531e178f": {
      "model_module": "@jupyter-widgets/base",
      "model_module_version": "1.2.0",
      "model_name": "LayoutModel",
      "state": {
       "height": "600px",
       "width": "100%"
      }
     },
     "985282f3ff784de692e19c0e06e779a0": {
      "model_module": "@jupyter-widgets/controls",
      "model_module_version": "1.5.0",
      "model_name": "HBoxModel",
      "state": {
       "children": [
        "IPY_MODEL_5f1a78ef81304dd1937665e012ad5ec1",
        "IPY_MODEL_e571e85f3ae74645bc5bc7c239685f57",
        "IPY_MODEL_a3c2d72d17df4989996d5e79917e4fd0"
       ],
       "layout": "IPY_MODEL_78949eae91e54ce99889f63702eab979"
      }
     },
     "987699ce14f94906b61e0b33d81da651": {
      "model_module": "@jupyter-widgets/controls",
      "model_module_version": "1.5.0",
      "model_name": "LabelModel",
      "state": {
       "layout": "IPY_MODEL_2e9ebdeeff4d4139ab9b8514ff5cdd85",
       "style": "IPY_MODEL_adbac4fec25347b2a3d7587019d898a9",
       "value": "Pressure in Pa:"
      }
     },
     "9b8da553edd245a0a72ae82f384bda70": {
      "model_module": "@jupyter-widgets/controls",
      "model_module_version": "1.5.0",
      "model_name": "FloatSliderModel",
      "state": {
       "layout": "IPY_MODEL_b3652505aad7485c9faa22e49cd411fd",
       "max": 15000000,
       "min": 1,
       "readout": false,
       "step": 100000,
       "style": "IPY_MODEL_cacbe7bb712b4aa6a0f14425cd459793",
       "value": 101325
      }
     },
     "9cdab42d861444bb9c35908d62b1b348": {
      "model_module": "@jupyter-widgets/base",
      "model_module_version": "1.2.0",
      "model_name": "LayoutModel",
      "state": {}
     },
     "9e560bd3758a497da5e94cdef72f438e": {
      "model_module": "@jupyter-widgets/base",
      "model_module_version": "1.2.0",
      "model_name": "LayoutModel",
      "state": {}
     },
     "9e7ddcd2e5e74b6fa489815ab8561887": {
      "model_module": "@jupyter-widgets/output",
      "model_module_version": "1.0.0",
      "model_name": "OutputModel",
      "state": {
       "layout": "IPY_MODEL_3f2295eb9da54d62973b88c1dcd9ab1b"
      }
     },
     "a16ff1bf529e48299cecac34e8d988a8": {
      "model_module": "@jupyter-widgets/controls",
      "model_module_version": "1.5.0",
      "model_name": "VBoxModel",
      "state": {
       "children": [
        "IPY_MODEL_fc2fb21173eb4efcad20f3870192ffea",
        "IPY_MODEL_61b0bf5537204166881b5afe73ca24ec"
       ],
       "layout": "IPY_MODEL_9e560bd3758a497da5e94cdef72f438e"
      }
     },
     "a1c6b2737a2e48e1b180866f83f11f08": {
      "model_module": "@jupyter-widgets/base",
      "model_module_version": "1.2.0",
      "model_name": "LayoutModel",
      "state": {}
     },
     "a3c2d72d17df4989996d5e79917e4fd0": {
      "model_module": "@jupyter-widgets/controls",
      "model_module_version": "1.5.0",
      "model_name": "BoundedFloatTextModel",
      "state": {
       "layout": "IPY_MODEL_6942b60955064a4aa31342f0e240a4e7",
       "max": 200,
       "min": 0.001,
       "step": 0.001,
       "style": "IPY_MODEL_693d146b7c584e358abfe12023bba8df",
       "value": 20
      }
     },
     "a6790a3117da4b5b869c126158ee8239": {
      "model_module": "@jupyter-widgets/base",
      "model_module_version": "1.2.0",
      "model_name": "LayoutModel",
      "state": {}
     },
     "a76cf043a34e407eadef7d4d1e2f9115": {
      "model_module": "@jupyter-widgets/base",
      "model_module_version": "1.2.0",
      "model_name": "LayoutModel",
      "state": {
       "flex": "10 1 auto",
       "width": "auto"
      }
     },
     "a893ac36b116427fa78b73351ee668a7": {
      "model_module": "@jupyter-widgets/base",
      "model_module_version": "1.2.0",
      "model_name": "LayoutModel",
      "state": {
       "height": "600px",
       "width": "100%"
      }
     },
     "a96e46e7af3b4b50b15c44dc3b843c1a": {
      "model_module": "@jupyter-widgets/controls",
      "model_module_version": "1.5.0",
      "model_name": "DescriptionStyleModel",
      "state": {
       "description_width": ""
      }
     },
     "adbac4fec25347b2a3d7587019d898a9": {
      "model_module": "@jupyter-widgets/controls",
      "model_module_version": "1.5.0",
      "model_name": "DescriptionStyleModel",
      "state": {
       "description_width": ""
      }
     },
     "ae0017db298a48a0bc858de2c52dea57": {
      "model_module": "@jupyter-widgets/base",
      "model_module_version": "1.2.0",
      "model_name": "LayoutModel",
      "state": {
       "flex": "1 1 auto",
       "width": "auto"
      }
     },
     "af3c5de50fc94b1992042d631c64f8b1": {
      "model_module": "@jupyter-widgets/controls",
      "model_module_version": "1.5.0",
      "model_name": "VBoxModel",
      "state": {
       "children": [
        "IPY_MODEL_5c7007875bf24489a697cbf3168b70b4",
        "IPY_MODEL_61dd7ca2d4c2412f8a1a950a94363097",
        "IPY_MODEL_770466c30dd3478c99a68407c07c9a06"
       ],
       "layout": "IPY_MODEL_a1c6b2737a2e48e1b180866f83f11f08"
      }
     },
     "b03e5e67c0a04da688a9646f6f377749": {
      "model_module": "@jupyter-widgets/base",
      "model_module_version": "1.2.0",
      "model_name": "LayoutModel",
      "state": {}
     },
     "b1c0d22ccd3a4b2bb668efff43206dfd": {
      "model_module": "@jupyter-widgets/controls",
      "model_module_version": "1.5.0",
      "model_name": "HBoxModel",
      "state": {
       "children": [
        "IPY_MODEL_d55783f0a13944d9959d72c6e50fd82b",
        "IPY_MODEL_156974e630e54b369f870cb7eab13993",
        "IPY_MODEL_de92bb51321c48fc98c6ab0e94dc405b"
       ],
       "layout": "IPY_MODEL_e368f7399db34270b9cee8f5eb30345c"
      }
     },
     "b2a73001f85e4586ae3c2b8b78daed32": {
      "model_module": "@jupyter-widgets/controls",
      "model_module_version": "1.5.0",
      "model_name": "DescriptionStyleModel",
      "state": {
       "description_width": ""
      }
     },
     "b2f6adceddb94915a2c139b07492e7f6": {
      "model_module": "@jupyter-widgets/controls",
      "model_module_version": "1.5.0",
      "model_name": "HBoxModel",
      "state": {
       "children": [
        "IPY_MODEL_92d8df336c4e42b694ef04ac7299706d",
        "IPY_MODEL_3f31e1b3902f4d279402b96b8057f92b",
        "IPY_MODEL_638ae1bf5851451c8fd654b84acb8501"
       ],
       "layout": "IPY_MODEL_ba5f2a45f31241d8a0e91155cdc1ed87"
      }
     },
     "b3652505aad7485c9faa22e49cd411fd": {
      "model_module": "@jupyter-widgets/base",
      "model_module_version": "1.2.0",
      "model_name": "LayoutModel",
      "state": {
       "flex": "10 1 auto",
       "width": "auto"
      }
     },
     "b69f5974bd5b40dfb580e3646b06e7ca": {
      "model_module": "@jupyter-widgets/controls",
      "model_module_version": "1.5.0",
      "model_name": "DescriptionStyleModel",
      "state": {
       "description_width": ""
      }
     },
     "b83710b60e324294991380cf3b231765": {
      "model_module": "@jupyter-widgets/base",
      "model_module_version": "1.2.0",
      "model_name": "LayoutModel",
      "state": {}
     },
     "ba5f2a45f31241d8a0e91155cdc1ed87": {
      "model_module": "@jupyter-widgets/base",
      "model_module_version": "1.2.0",
      "model_name": "LayoutModel",
      "state": {
       "display": "flex",
       "width": "100%"
      }
     },
     "bb963527372b4744a4d07abebc23f1f2": {
      "model_module": "@jupyter-widgets/controls",
      "model_module_version": "1.5.0",
      "model_name": "DescriptionStyleModel",
      "state": {
       "description_width": ""
      }
     },
     "c27908dd6757402dbb564c0e24d86344": {
      "model_module": "@jupyter-widgets/base",
      "model_module_version": "1.2.0",
      "model_name": "LayoutModel",
      "state": {
       "flex": "1 1 auto",
       "width": "auto"
      }
     },
     "c815f3507a634d93b9ecb541acc743e4": {
      "model_module": "@jupyter-widgets/base",
      "model_module_version": "1.2.0",
      "model_name": "LayoutModel",
      "state": {}
     },
     "ca54e02083334b0799124d8fd935b1b6": {
      "model_module": "@jupyter-widgets/controls",
      "model_module_version": "1.5.0",
      "model_name": "LabelModel",
      "state": {
       "layout": "IPY_MODEL_2166e211238c4c078cc65884b82e0f11",
       "style": "IPY_MODEL_bb963527372b4744a4d07abebc23f1f2",
       "value": "Temperature in °C:"
      }
     },
     "cacbe7bb712b4aa6a0f14425cd459793": {
      "model_module": "@jupyter-widgets/controls",
      "model_module_version": "1.5.0",
      "model_name": "SliderStyleModel",
      "state": {
       "description_width": ""
      }
     },
     "cdcd57d51ecc429caf1458c94b491163": {
      "model_module": "@jupyter-widgets/controls",
      "model_module_version": "1.5.0",
      "model_name": "FloatSliderModel",
      "state": {
       "layout": "IPY_MODEL_2633e019d4d94a78b08d2b241f800f37",
       "max": 10,
       "min": 0.001,
       "readout": false,
       "step": 0.001,
       "style": "IPY_MODEL_7a0ba68e888344dea552e7c4bdf7ab4f",
       "value": 0.1
      }
     },
     "d0ca9911e5714500b46e332489aa766c": {
      "model_module": "@jupyter-widgets/controls",
      "model_module_version": "1.5.0",
      "model_name": "SliderStyleModel",
      "state": {
       "description_width": ""
      }
     },
     "d0e56ae7328b4f81afc6c187516e6d25": {
      "model_module": "@jupyter-widgets/controls",
      "model_module_version": "1.5.0",
      "model_name": "DescriptionStyleModel",
      "state": {
       "description_width": ""
      }
     },
     "d2555ffddf5c419fae9c18889edce366": {
      "model_module": "@jupyter-widgets/base",
      "model_module_version": "1.2.0",
      "model_name": "LayoutModel",
      "state": {
       "flex": "10 1 auto",
       "width": "auto"
      }
     },
     "d3222af5bd2f43b181bdb61be15ac75a": {
      "model_module": "@jupyter-widgets/controls",
      "model_module_version": "1.5.0",
      "model_name": "DescriptionStyleModel",
      "state": {
       "description_width": ""
      }
     },
     "d3fc4ba8494548629ebadba033e44585": {
      "model_module": "@jupyter-widgets/controls",
      "model_module_version": "1.5.0",
      "model_name": "HBoxModel",
      "state": {
       "children": [
        "IPY_MODEL_987699ce14f94906b61e0b33d81da651",
        "IPY_MODEL_9b8da553edd245a0a72ae82f384bda70",
        "IPY_MODEL_809912dab8c249f2bee5ea823301ce38"
       ],
       "layout": "IPY_MODEL_e038319324144f90a62547c15966b295"
      }
     },
     "d436b8f9eb5a425d8a7eb1c65bd8c2c7": {
      "model_module": "@jupyter-widgets/controls",
      "model_module_version": "1.5.0",
      "model_name": "SliderStyleModel",
      "state": {
       "description_width": ""
      }
     },
     "d50b9ee30de8403c9b9a73a596061580": {
      "model_module": "@jupyter-widgets/base",
      "model_module_version": "1.2.0",
      "model_name": "LayoutModel",
      "state": {
       "display": "flex",
       "width": "100%"
      }
     },
     "d55783f0a13944d9959d72c6e50fd82b": {
      "model_module": "@jupyter-widgets/controls",
      "model_module_version": "1.5.0",
      "model_name": "LabelModel",
      "state": {
       "layout": "IPY_MODEL_6c06b94b7b2d4d56b01d00e7539dc701",
       "style": "IPY_MODEL_a96e46e7af3b4b50b15c44dc3b843c1a",
       "value": "Platelength in m"
      }
     },
     "d6e01be020c949939d848530bbdd8c08": {
      "model_module": "@jupyter-widgets/base",
      "model_module_version": "1.2.0",
      "model_name": "LayoutModel",
      "state": {
       "display": "flex",
       "flex_flow": "row"
      }
     },
     "db403e91042a4661a9890b7208688f82": {
      "model_module": "@jupyter-widgets/controls",
      "model_module_version": "1.5.0",
      "model_name": "LabelModel",
      "state": {
       "layout": "IPY_MODEL_84e784c561a5443b9a1f8baf3acccbbb",
       "style": "IPY_MODEL_0364e3855afb4b4897ab0aea0fd79e41",
       "value": "Gas / Specie Mixture:"
      }
     },
     "de92bb51321c48fc98c6ab0e94dc405b": {
      "model_module": "@jupyter-widgets/controls",
      "model_module_version": "1.5.0",
      "model_name": "BoundedFloatTextModel",
      "state": {
       "layout": "IPY_MODEL_6a8146adb33e45dba44a4f3a3530d2a4",
       "max": 10,
       "min": 0.001,
       "step": 0.001,
       "style": "IPY_MODEL_f44e40d111504ca7b2aa30c7bac22496",
       "value": 0.1
      }
     },
     "e038319324144f90a62547c15966b295": {
      "model_module": "@jupyter-widgets/base",
      "model_module_version": "1.2.0",
      "model_name": "LayoutModel",
      "state": {
       "display": "flex",
       "width": "100%"
      }
     },
     "e290e720d78f4224bcf67e286d699407": {
      "model_module": "@jupyter-widgets/controls",
      "model_module_version": "1.5.0",
      "model_name": "SliderStyleModel",
      "state": {
       "description_width": ""
      }
     },
     "e368f7399db34270b9cee8f5eb30345c": {
      "model_module": "@jupyter-widgets/base",
      "model_module_version": "1.2.0",
      "model_name": "LayoutModel",
      "state": {
       "display": "flex",
       "width": "100%"
      }
     },
     "e4c4f92ff2e44d8a82e52166d118d3f9": {
      "model_module": "@jupyter-widgets/controls",
      "model_module_version": "1.5.0",
      "model_name": "SliderStyleModel",
      "state": {
       "description_width": ""
      }
     },
     "e54d9f4841bd40a3887b3d08040c7b96": {
      "model_module": "@jupyter-widgets/controls",
      "model_module_version": "1.5.0",
      "model_name": "DescriptionStyleModel",
      "state": {
       "description_width": ""
      }
     },
     "e571e85f3ae74645bc5bc7c239685f57": {
      "model_module": "@jupyter-widgets/controls",
      "model_module_version": "1.5.0",
      "model_name": "FloatSliderModel",
      "state": {
       "layout": "IPY_MODEL_a76cf043a34e407eadef7d4d1e2f9115",
       "max": 200,
       "min": 0.001,
       "readout": false,
       "step": 0.001,
       "style": "IPY_MODEL_f4de944db1f0451ca25f6bda9da632bf",
       "value": 20
      }
     },
     "eb47a93fa87e4a7bbe9b5a293def2aa7": {
      "model_module": "@jupyter-widgets/base",
      "model_module_version": "1.2.0",
      "model_name": "LayoutModel",
      "state": {
       "flex": "10 1 auto",
       "width": "auto"
      }
     },
     "eeec0b566ea3404e97de56a215abbf11": {
      "model_module": "@jupyter-widgets/output",
      "model_module_version": "1.0.0",
      "model_name": "OutputModel",
      "state": {
       "layout": "IPY_MODEL_6d6ff2c49b304db0b083deb71a7c16b7"
      }
     },
     "f084b486f9be4650afcc15358c085220": {
      "model_module": "@jupyter-widgets/controls",
      "model_module_version": "1.5.0",
      "model_name": "AccordionModel",
      "state": {
       "_titles": {
        "0": "Thermodynamic State",
        "1": "Flat Plate"
       },
       "children": [
        "IPY_MODEL_af3c5de50fc94b1992042d631c64f8b1",
        "IPY_MODEL_a16ff1bf529e48299cecac34e8d988a8"
       ],
       "layout": "IPY_MODEL_fe5f99ad595c4c8bb8d25df69e5d029b"
      }
     },
     "f1c35722d6864b2bac0bb1b2de98ffa8": {
      "model_module": "@jupyter-widgets/controls",
      "model_module_version": "1.5.0",
      "model_name": "DescriptionStyleModel",
      "state": {
       "description_width": ""
      }
     },
     "f44e40d111504ca7b2aa30c7bac22496": {
      "model_module": "@jupyter-widgets/controls",
      "model_module_version": "1.5.0",
      "model_name": "DescriptionStyleModel",
      "state": {
       "description_width": ""
      }
     },
     "f4de944db1f0451ca25f6bda9da632bf": {
      "model_module": "@jupyter-widgets/controls",
      "model_module_version": "1.5.0",
      "model_name": "SliderStyleModel",
      "state": {
       "description_width": ""
      }
     },
     "f80956dbef53447f8e03303bb726f092": {
      "model_module": "@jupyter-widgets/controls",
      "model_module_version": "1.5.0",
      "model_name": "DescriptionStyleModel",
      "state": {
       "description_width": ""
      }
     },
     "f945487461234b63aa8e854632feada6": {
      "model_module": "@jupyter-widgets/controls",
      "model_module_version": "1.5.0",
      "model_name": "HBoxModel",
      "state": {
       "children": [
        "IPY_MODEL_709ac8f952d947e5a6c9ca260504fb79",
        "IPY_MODEL_67fa25b9215a423d89bbb7db44e82d03"
       ],
       "layout": "IPY_MODEL_51046522dfdc456e9f89237d1c84e634"
      }
     },
     "fc2fb21173eb4efcad20f3870192ffea": {
      "model_module": "@jupyter-widgets/controls",
      "model_module_version": "1.5.0",
      "model_name": "HBoxModel",
      "state": {
       "children": [
        "IPY_MODEL_8e04b62501f0473eb08647a2c814583c",
        "IPY_MODEL_cdcd57d51ecc429caf1458c94b491163",
        "IPY_MODEL_187cf5ad8df54238b51a20f40db0e2f6"
       ],
       "layout": "IPY_MODEL_d50b9ee30de8403c9b9a73a596061580"
      }
     },
     "fc5efe6956d841cf87ecaeab1bd0d498": {
      "model_module": "@jupyter-widgets/base",
      "model_module_version": "1.2.0",
      "model_name": "LayoutModel",
      "state": {
       "flex": "1 1 auto",
       "width": "auto"
      }
     },
     "fd19f90dce074c56adc385fb67d7be18": {
      "model_module": "@jupyter-widgets/base",
      "model_module_version": "1.2.0",
      "model_name": "LayoutModel",
      "state": {
       "flex": "1 1 auto",
       "width": "auto"
      }
     },
     "fd467abde78047ce9b122c7acbf651f5": {
      "model_module": "@jupyter-widgets/controls",
      "model_module_version": "1.5.0",
      "model_name": "AccordionModel",
      "state": {
       "_titles": {
        "0": "Thermodynamic State",
        "1": "Flat Plate"
       },
       "children": [
        "IPY_MODEL_69423e08d5ea44a99e2421e1a206f6db",
        "IPY_MODEL_7de430a0b55640fd808fa6baedbe0b9b"
       ],
       "layout": "IPY_MODEL_06377edb34fb4c19b32e92c941b3336f"
      }
     },
     "fe5f99ad595c4c8bb8d25df69e5d029b": {
      "model_module": "@jupyter-widgets/base",
      "model_module_version": "1.2.0",
      "model_name": "LayoutModel",
      "state": {}
     }
    },
    "version_major": 2,
    "version_minor": 0
   }
  }
 },
 "nbformat": 4,
 "nbformat_minor": 4
}
