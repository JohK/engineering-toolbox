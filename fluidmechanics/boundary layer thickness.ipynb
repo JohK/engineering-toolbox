{
 "cells": [
  {
   "cell_type": "code",
   "execution_count": 30,
   "metadata": {},
   "outputs": [
    {
     "data": {
      "text/markdown": [
       "&nbsp;<a href=\"https://nuflo.de\"><img hspace=\"45%\" align=\"middle\" src=\"../_libtoolbox/nuflo-logo-N-512x512.png\" alt=\"logo-N\" width=\"8%\" /></a>\n",
       "\n",
       "<center><h1>nuflo Engineering Toolbox</h1></center>\n",
       "\n",
       "[nuflo is an engineering company](https://nuflo.de) that supports digitalization of engineering processes in fluid mechanics.\n",
       "\n",
       "*The code for this tool can be found over at [github](https://github.com/JohK/engineering-toolbox).*  \n",
       "*More interactive tools are located at [toolbox.nuflo.de](http://toolbox.nuflo.de).*\n"
      ],
      "text/plain": [
       "<IPython.core.display.Markdown object>"
      ]
     },
     "metadata": {},
     "output_type": "display_data"
    }
   ],
   "source": [
    "%matplotlib widget\n",
    "%run '../_libtoolbox/init-notebook.py'\n",
    "%run '../_libtoolbox/tbwidgets.py'\n",
    "%run '../_libtoolbox/header.py'"
   ]
  },
  {
   "cell_type": "markdown",
   "metadata": {},
   "source": [
    "Boundary Layer Thickness on a Flat Plate\n",
    "---\n",
    "This is a tool for a quick estimation of the boundary layer thickness on a flat plate. For this estimation we use the momentum loss thickness based on two simple correlations:\n",
    "\n",
    "The momentum loss thickness of a laminar boundary layer $\\delta_l$ (Blasius solution):\n",
    "$$ \\delta_l = 0.664 \\cdot \\sqrt{\\frac{\\nu \\cdot x}{u}} $$\n",
    "\n",
    "For a turbulent flow:\n",
    "$$ \\delta_t = 0.0142 \\cdot x \\cdot \\left(\\frac{u\\cdot x}{\\nu}\\right)^\\left(-\\frac{1}{7}\\right) $$\n",
    "\n",
    "Depending on the physical problem these may not be the right choice, if unsure ask an experienced engineer."
   ]
  },
  {
   "cell_type": "code",
   "execution_count": 2,
   "metadata": {},
   "outputs": [],
   "source": [
    "@np.vectorize\n",
    "def momentum_boundarylayer(x, u, gas):\n",
    "    rho = gas.density\n",
    "    nu = gas.kinematic_viscosity\n",
    "    \n",
    "    fdelta_laminar = lambda x: 0.664*np.sqrt(nu*x/u)\n",
    "    fdelta_turbulent = lambda x: 0.0142*(u*x/nu)**(-1/7)*x\n",
    "    \n",
    "    try:\n",
    "        boundarylayer_thickness = [np.max(fdelta_laminar(xi), fdelta_turbulent(xi)) for xi in x]\n",
    "    except TypeError:\n",
    "        boundarylayer_thickness = np.max([fdelta_laminar(x), fdelta_turbulent(x)])\n",
    "    \n",
    "    # find where laminar and turbulent boundary layer thickness intersect\n",
    "    sol = root_scalar(lambda x: fdelta_laminar(x)-fdelta_turbulent(x), bracket=[1e-6,10e6])\n",
    "    if sol.converged:\n",
    "        transition_position = sol.root\n",
    "    else:\n",
    "        transition_position = np.nan\n",
    "    \n",
    "    return(boundarylayer_thickness,\n",
    "           transition_position)"
   ]
  },
  {
   "cell_type": "code",
   "execution_count": 29,
   "metadata": {},
   "outputs": [],
   "source": [
    "def plot_init():\n",
    "    fig = plt.figure(figsize=(4, 4), dpi=100, constrained_layout=False)\n",
    "    fig.canvas.header_visible = False\n",
    "    fig.canvas.toolbar_visible = True\n",
    "    fig.canvas.resizable = True\n",
    "    fig.canvas.layout.min_height = '300px'\n",
    "    fig.canvas.layout.min_width = '400px'\n",
    "    fig.canvas.layout.flex='1 1 auto'\n",
    "    fig.canvas.layout.width = 'auto'\n",
    "    \n",
    "    blline, = plt.plot(0, 0, '-', label='boundary layer thickness')\n",
    "    trline, = plt.plot(0, 0, '.', label='laminar-turbulent transition')\n",
    "    warningtext = plt.text(0.2, 0.5,\n",
    "                            'Data not available, or\\nnot a fluid in the property range',\n",
    "                            transform=plt.gca().transAxes, \n",
    "                            bbox=dict(facecolor='red', alpha=0.2))\n",
    "    plt.legend()\n",
    "    plt.xlabel('length of flat plate in m')\n",
    "    plt.ylabel('boundary layer thickness in mm')\n",
    "    \n",
    "    plt.grid()\n",
    "    #plt.show()\n",
    "\n",
    "#    fig.canvas.layout.display = 'flex'\n",
    "    #fig.canvas.layout.height = '600px'\n",
    "    \n",
    "    def update(platelength, u, pressure, temperature, gasname):\n",
    "        g = gas.state(gasname, 273.15+temperature, pressure)\n",
    "        desc = '{:s}: T={:.1f}°C, p={:.3f}bar'.format(gasname, temperature, pressure/1e5)\n",
    "        x = np.linspace(0.0000001, platelength, num=1000)\n",
    "        fig.gca().set_title(desc)\n",
    "        if not np.isnan(g.density):\n",
    "            bl, transition = momentum_boundarylayer(x, u, g)\n",
    "            transition_bl, _ =  momentum_boundarylayer(transition[0], u, g)\n",
    "            warningtext.set_visible(False)\n",
    "            blline.set_xdata(x)\n",
    "            blline.set_ydata(bl*1000)\n",
    "            trline.set_xdata(transition[0])\n",
    "            trline.set_ydata(transition_bl*1000)\n",
    "            fig.gca().set_xlim([0, platelength])\n",
    "            fig.gca().set_ylim([0, np.max(bl)*1000])\n",
    "        else:\n",
    "            warningtext.set_visible(True)\n",
    "            blline.set_xdata(0)\n",
    "            blline.set_ydata(0)\n",
    "            trline.set_xdata(0)\n",
    "            trline.set_ydata(0)\n",
    "        fig.canvas.draw()\n",
    "        \n",
    "    #def resize(event):\n",
    "    #    print('resize')\n",
    "    #    dpi = fig.get_dpi()\n",
    "    #    #fig.set_size_inches(event.width/dpi, event.height/dpi)\n",
    "    #    warningtext.set_visible(True)\n",
    "    #    warningtext.set_text(event.width/dpi)\n",
    "        \n",
    "    #fig.canvas.mpl_connect('resize_event', resize)\n",
    "            \n",
    "    return update\n",
    "        "
   ]
  },
  {
   "cell_type": "code",
   "execution_count": 22,
   "metadata": {},
   "outputs": [
    {
     "data": {
      "application/vnd.jupyter.widget-view+json": {
       "model_id": "9f304dee74824ade8938deb3f07f5126",
       "version_major": 2,
       "version_minor": 0
      },
      "text/plain": [
       "Canvas(toolbar=Toolbar(toolitems=[('Home', 'Reset original view', 'home', 'home'), ('Back', 'Back to previous …"
      ]
     },
     "metadata": {},
     "output_type": "display_data"
    },
    {
     "data": {
      "application/vnd.jupyter.widget-view+json": {
       "model_id": "27a040a3904a4f16be75879c9b32f4a6",
       "version_major": 2,
       "version_minor": 0
      },
      "text/plain": [
       "Accordion(children=(VBox(children=(HBox(children=(Label(value='Pressure in Pa:', layout=Layout(flex='1 1 auto'…"
      ]
     },
     "metadata": {},
     "output_type": "display_data"
    },
    {
     "data": {
      "application/vnd.jupyter.widget-view+json": {
       "model_id": "393b5bece26049529d0a673766708686",
       "version_major": 2,
       "version_minor": 0
      },
      "text/plain": [
       "Output(layout=Layout(display='flex', width='100%'))"
      ]
     },
     "metadata": {},
     "output_type": "display_data"
    }
   ],
   "source": [
    "gas_dropdown = widgets.Dropdown(options=gas.state.fluids_list(), value='Air')\n",
    "\n",
    "pwidget, pslider, _ = quantity('Pressure in Pa:', min=1, max=150e5, step=1e5, value=101325)\n",
    "Twidget, Tslider, _ = quantity('Temperature in °C:', min=-30, max=55, step=1, value=20)\n",
    "\n",
    "thermostate = widgets.VBox([\n",
    "    pwidget,\n",
    "    Twidget,\n",
    "    widgets.HBox([widgets.Label('Gas / Specie Mixture:'), gas_dropdown])\n",
    "])\n",
    "\n",
    "platewidget, plateslider, _ = quantity('Platelength in m', min=0.001, max=10, step=0.001, value=0.1)\n",
    "uwidget, uslider, _ = quantity('Velocity in m/s:', min=0.001, max=200, step=0.001, value=20)\n",
    "\n",
    "flow = widgets.VBox([platewidget, uwidget])\n",
    "\n",
    "accordion = widgets.Accordion(children=[thermostate, flow])\n",
    "accordion.set_title(0, 'Thermodynamic State')\n",
    "accordion.set_title(1, 'Flat Plate')\n",
    "\n",
    "def interactive_output(f, controls, layout=None):\n",
    "    \"\"\"Connect widget controls to a function.\n",
    "    This function does not generate a user interface for the widgets (unlike `interact`).\n",
    "    This enables customisation of the widget user interface layout.\n",
    "    The user interface layout must be defined and displayed manually.\n",
    "    \"\"\"\n",
    "    from IPython.display import clear_output\n",
    "    out = widgets.Output(layout=layout)\n",
    "    def observer(change):\n",
    "        kwargs = {k:v.value for k,v in controls.items()}\n",
    "        #widgets.show_inline_matplotlib_plots()\n",
    "        with out:\n",
    "            \n",
    "            clear_output(wait=True)\n",
    "            f(**kwargs)\n",
    "            #widgets.show_inline_matplotlib_plots()\n",
    "    for k,w in controls.items():\n",
    "        w.observe(observer, 'value')\n",
    "    #widgets.show_inline_matplotlib_plots()\n",
    "    observer(None)\n",
    "    return out\n",
    "\n",
    "update_plot = plot_init()\n",
    "#interactive_plot = widget.Output(widgets.Layout(display='flex', width='100%'))\n",
    "\n",
    "interactive_plot = interactive_output(update_plot,\n",
    "                                      {'platelength': plateslider,\n",
    "                                       'u': uslider,\n",
    "                                       'pressure': pslider,\n",
    "                                       'temperature': Tslider,\n",
    "                                       'gasname': gas_dropdown},\n",
    "                                     layout=widgets.Layout(display='flex', width='100%'))\n",
    "#interactive_plot.layout = widgets.Layout(display='flex', width='100%')\n",
    "\n",
    "display(accordion, interactive_plot)"
   ]
  },
  {
   "cell_type": "code",
   "execution_count": 25,
   "metadata": {},
   "outputs": [
    {
     "data": {
      "text/markdown": [
       "\n",
       "<div style='position: fixed; left: 0; bottom: 0; width: 100%; background-color: #f7b500; color: #000000; text-align: center; vertical-align: middle; padding: 10px'> \n",
       "<b><a style='color: #000000;' href=\"https://nuflo.de/\"><img src=\"../_libtoolbox/nuflo-logo-N-512x512.png\" alt=\"logo-N\" width=\"16px\" />&nbsp;&nbsp;&nbsp;nuflo</a></b></div>"
      ],
      "text/plain": [
       "<IPython.core.display.Markdown object>"
      ]
     },
     "metadata": {},
     "output_type": "display_data"
    }
   ],
   "source": [
    "%run '../_libtoolbox/footer.py'"
   ]
  }
 ],
 "metadata": {
  "kernelspec": {
   "display_name": "Python 3",
   "language": "python",
   "name": "python3"
  },
  "language_info": {
   "codemirror_mode": {
    "name": "ipython",
    "version": 3
   },
   "file_extension": ".py",
   "mimetype": "text/x-python",
   "name": "python",
   "nbconvert_exporter": "python",
   "pygments_lexer": "ipython3",
   "version": "3.8.6"
  },
  "widgets": {
   "application/vnd.jupyter.widget-state+json": {
    "state": {
     "003be9464f294baab1c0345dd4d19e29": {
      "model_module": "@jupyter-widgets/base",
      "model_module_version": "1.2.0",
      "model_name": "LayoutModel",
      "state": {}
     },
     "00537d8d9a1044c5ac3436eeb6834291": {
      "model_module": "@jupyter-widgets/controls",
      "model_module_version": "1.5.0",
      "model_name": "DescriptionStyleModel",
      "state": {
       "description_width": ""
      }
     },
     "007cec7346b84757bca9eda028d1e2cd": {
      "model_module": "@jupyter-widgets/controls",
      "model_module_version": "1.5.0",
      "model_name": "DescriptionStyleModel",
      "state": {
       "description_width": ""
      }
     },
     "008c6ed283484dfda813d3ef3f1a213e": {
      "model_module": "@jupyter-widgets/controls",
      "model_module_version": "1.5.0",
      "model_name": "SliderStyleModel",
      "state": {
       "description_width": ""
      }
     },
     "008fac406f194fbbb5d3b2739332ccdc": {
      "model_module": "@jupyter-widgets/base",
      "model_module_version": "1.2.0",
      "model_name": "LayoutModel",
      "state": {}
     },
     "00ed5241b0ed4ff3af61ec1302e6a3a3": {
      "model_module": "@jupyter-widgets/controls",
      "model_module_version": "1.5.0",
      "model_name": "SliderStyleModel",
      "state": {
       "description_width": ""
      }
     },
     "0124341ed41c43e3ad2fcb0035e93340": {
      "model_module": "@jupyter-widgets/controls",
      "model_module_version": "1.5.0",
      "model_name": "SliderStyleModel",
      "state": {
       "description_width": ""
      }
     },
     "01800b465ed649389dec0782a8dd45a5": {
      "model_module": "@jupyter-widgets/base",
      "model_module_version": "1.2.0",
      "model_name": "LayoutModel",
      "state": {
       "display": "flex",
       "width": "100%"
      }
     },
     "0252eb00f14b4558919a25c4a53bf8d3": {
      "model_module": "@jupyter-widgets/controls",
      "model_module_version": "1.5.0",
      "model_name": "DescriptionStyleModel",
      "state": {
       "description_width": ""
      }
     },
     "027d6d18aadc4c48b6847b5dffb400ac": {
      "model_module": "@jupyter-widgets/base",
      "model_module_version": "1.2.0",
      "model_name": "LayoutModel",
      "state": {}
     },
     "02aa8370759f4a3b979baad4a00d4df8": {
      "model_module": "@jupyter-widgets/base",
      "model_module_version": "1.2.0",
      "model_name": "LayoutModel",
      "state": {
       "display": "flex",
       "width": "100%"
      }
     },
     "02bd85daecb74d11ad31f16cc0981bb2": {
      "model_module": "@jupyter-widgets/base",
      "model_module_version": "1.2.0",
      "model_name": "LayoutModel",
      "state": {}
     },
     "031e68bc793d438591ce2016718fe08b": {
      "model_module": "@jupyter-widgets/controls",
      "model_module_version": "1.5.0",
      "model_name": "LabelModel",
      "state": {
       "layout": "IPY_MODEL_56cc158e5c2b43bb96ba75437e8f7409",
       "style": "IPY_MODEL_31412183232a4a3199ef69565ce0794a",
       "value": "Gas / Specie Mixture:"
      }
     },
     "03ee94235c0b412fba4a658ec305520f": {
      "model_module": "@jupyter-widgets/base",
      "model_module_version": "1.2.0",
      "model_name": "LayoutModel",
      "state": {}
     },
     "0425fa3674024001b62bb459e713c534": {
      "model_module": "@jupyter-widgets/base",
      "model_module_version": "1.2.0",
      "model_name": "LayoutModel",
      "state": {
       "display": "flex",
       "width": "100%"
      }
     },
     "049fc604f87f46fbb47bc2f355e6fc46": {
      "model_module": "@jupyter-widgets/base",
      "model_module_version": "1.2.0",
      "model_name": "LayoutModel",
      "state": {
       "display": "flex",
       "flex_flow": "row"
      }
     },
     "051e98533afa4f4980bf3f568b7a3699": {
      "model_module": "@jupyter-widgets/base",
      "model_module_version": "1.2.0",
      "model_name": "LayoutModel",
      "state": {
       "display": "flex",
       "flex_flow": "row"
      }
     },
     "055f24484e9446cf85dd74f64a4b9ed5": {
      "model_module": "@jupyter-widgets/base",
      "model_module_version": "1.2.0",
      "model_name": "LayoutModel",
      "state": {
       "flex": "10 1 auto",
       "width": "auto"
      }
     },
     "057dede7bb534c9cb8c8d7dc9f44ab0c": {
      "model_module": "@jupyter-widgets/base",
      "model_module_version": "1.2.0",
      "model_name": "LayoutModel",
      "state": {
       "display": "flex",
       "min_height": "300px",
       "width": "100%"
      }
     },
     "05ab5b7b33a64e5db3769f9ac9fb2a29": {
      "model_module": "@jupyter-widgets/controls",
      "model_module_version": "1.5.0",
      "model_name": "BoundedFloatTextModel",
      "state": {
       "layout": "IPY_MODEL_883bc49cec114df5954a17e912c30fb9",
       "max": 200,
       "min": 0.001,
       "step": 0.001,
       "style": "IPY_MODEL_bd75a23311bb4c3b9bcddb0ceb1def4d",
       "value": 20
      }
     },
     "05bad4dc6bac4ae481f44e56fc454d37": {
      "model_module": "@jupyter-widgets/base",
      "model_module_version": "1.2.0",
      "model_name": "LayoutModel",
      "state": {
       "flex": "1 1 auto",
       "width": "auto"
      }
     },
     "05fc1d04c6c345df950546ce3ce7443d": {
      "model_module": "@jupyter-widgets/controls",
      "model_module_version": "1.5.0",
      "model_name": "HBoxModel",
      "state": {
       "children": [
        "IPY_MODEL_16b1f85f7c20490db98b17261fe5510e",
        "IPY_MODEL_12079a798a4246b68ddf36d952c6595f"
       ],
       "layout": "IPY_MODEL_3a2c43234ce547ef86250a437d70df50"
      }
     },
     "060753671b9140b498455f2d2f9b5b6e": {
      "model_module": "@jupyter-widgets/base",
      "model_module_version": "1.2.0",
      "model_name": "LayoutModel",
      "state": {}
     },
     "060a66a3d04d4dff98bf0e516f98a5b6": {
      "model_module": "@jupyter-widgets/controls",
      "model_module_version": "1.5.0",
      "model_name": "BoundedFloatTextModel",
      "state": {
       "layout": "IPY_MODEL_8148cb6569364d758927f0b6d678060b",
       "max": 10,
       "min": 0.001,
       "step": 0.001,
       "style": "IPY_MODEL_0d9056354c2d466194044abbc1b5b167",
       "value": 0.1
      }
     },
     "061d5b5700e444028576a989d59a84ff": {
      "model_module": "@jupyter-widgets/controls",
      "model_module_version": "1.5.0",
      "model_name": "HBoxModel",
      "state": {
       "children": [
        "IPY_MODEL_031e68bc793d438591ce2016718fe08b",
        "IPY_MODEL_7d696d57d5624a1fb60c4ec76acff46a"
       ],
       "layout": "IPY_MODEL_abddbf1c3bca43d4b42c4fb36a974fb5"
      }
     },
     "06347a86447d4b05b08d194f9cb697f4": {
      "model_module": "@jupyter-widgets/controls",
      "model_module_version": "1.5.0",
      "model_name": "DescriptionStyleModel",
      "state": {
       "description_width": ""
      }
     },
     "06553a33e4c242a9a5da4273606b3e03": {
      "model_module": "@jupyter-widgets/controls",
      "model_module_version": "1.5.0",
      "model_name": "FloatSliderModel",
      "state": {
       "layout": "IPY_MODEL_a0f5c35bba224b9f8b0fcc46562e637a",
       "max": 200,
       "min": 0.001,
       "readout": false,
       "step": 0.001,
       "style": "IPY_MODEL_6c749a71285742d4a53c42baf8014ede",
       "value": 20
      }
     },
     "06879a1e01924ff7bbf69219a4e6e59c": {
      "model_module": "@jupyter-widgets/controls",
      "model_module_version": "1.5.0",
      "model_name": "SliderStyleModel",
      "state": {
       "description_width": ""
      }
     },
     "069df7de08ed455e85a4d1a2ba38614c": {
      "model_module": "@jupyter-widgets/controls",
      "model_module_version": "1.5.0",
      "model_name": "FloatSliderModel",
      "state": {
       "layout": "IPY_MODEL_435e2c1dedfb4d43bc7a96e8da2f7faf",
       "max": 15000000,
       "min": 1,
       "readout": false,
       "step": 100000,
       "style": "IPY_MODEL_ccb7d0c9f101474d94b94faad9492f2a",
       "value": 101325
      }
     },
     "06e9fdefb7e5489fa7d7a04c4049b466": {
      "model_module": "@jupyter-widgets/base",
      "model_module_version": "1.2.0",
      "model_name": "LayoutModel",
      "state": {
       "display": "flex",
       "width": "100%"
      }
     },
     "071e35956d3e480b957b74422e1c518d": {
      "model_module": "@jupyter-widgets/base",
      "model_module_version": "1.2.0",
      "model_name": "LayoutModel",
      "state": {
       "display": "flex",
       "flex_flow": "row"
      }
     },
     "075ca536cf3d423eb77f690ad0bae21a": {
      "model_module": "@jupyter-widgets/base",
      "model_module_version": "1.2.0",
      "model_name": "LayoutModel",
      "state": {}
     },
     "0769f1b97e354f1db4236beb3f57fc5d": {
      "model_module": "@jupyter-widgets/base",
      "model_module_version": "1.2.0",
      "model_name": "LayoutModel",
      "state": {
       "display": "flex",
       "min_height": "300px",
       "width": "100%"
      }
     },
     "07a8eb9719d94dc0930ca23964903d84": {
      "model_module": "@jupyter-widgets/base",
      "model_module_version": "1.2.0",
      "model_name": "LayoutModel",
      "state": {
       "flex": "1 1 auto",
       "width": "auto"
      }
     },
     "088cb5ae797040aab8ab2e02e1877752": {
      "model_module": "@jupyter-widgets/base",
      "model_module_version": "1.2.0",
      "model_name": "LayoutModel",
      "state": {
       "display": "flex",
       "width": "100%"
      }
     },
     "096c7543e08945b5965bb5352cfe883a": {
      "model_module": "@jupyter-widgets/base",
      "model_module_version": "1.2.0",
      "model_name": "LayoutModel",
      "state": {
       "display": "flex",
       "width": "100%"
      }
     },
     "0981c6bbe3484cc4b7ffcdbfd059c159": {
      "model_module": "@jupyter-widgets/controls",
      "model_module_version": "1.5.0",
      "model_name": "LabelModel",
      "state": {
       "layout": "IPY_MODEL_87ece380443b48b0a5eabda8d62a5559",
       "style": "IPY_MODEL_2ddb93f06df84b18b8a3a82535d9ab32",
       "value": "Gas / Specie Mixture:"
      }
     },
     "0982bd9feac447d8a87e5db50b01de20": {
      "model_module": "@jupyter-widgets/base",
      "model_module_version": "1.2.0",
      "model_name": "LayoutModel",
      "state": {
       "flex": "10 1 auto",
       "width": "auto"
      }
     },
     "09c517d7eacf413fae617652c8ede62f": {
      "model_module": "@jupyter-widgets/controls",
      "model_module_version": "1.5.0",
      "model_name": "LabelModel",
      "state": {
       "layout": "IPY_MODEL_2ac041e76a31429e800264895d054e65",
       "style": "IPY_MODEL_a8566c91b7c14208bf239d1bc32b3684",
       "value": "Temperature in °C:"
      }
     },
     "09d9ccf7253d434f97356669c3498528": {
      "model_module": "@jupyter-widgets/controls",
      "model_module_version": "1.5.0",
      "model_name": "HBoxModel",
      "state": {
       "children": [
        "IPY_MODEL_6dafee1c9cf44c39adabdc619633bd70",
        "IPY_MODEL_8e0960830c314d16a78e9ae526e6f7ba",
        "IPY_MODEL_f3ab0e1508644da385b0a2096fcc6d72"
       ],
       "layout": "IPY_MODEL_8a97c944cd454707b6e3e77c993e3419"
      }
     },
     "09ff7d35fa844a7a932a498fdcd568ef": {
      "model_module": "@jupyter-widgets/controls",
      "model_module_version": "1.5.0",
      "model_name": "HBoxModel",
      "state": {
       "children": [
        "IPY_MODEL_2da759788c9b4bd9a2726bcc6360c3f6",
        "IPY_MODEL_986905e6a273464f8439c27db55c46e8"
       ],
       "layout": "IPY_MODEL_060753671b9140b498455f2d2f9b5b6e"
      }
     },
     "0a5123d89632414fb35d29cc6fc33466": {
      "model_module": "@jupyter-widgets/controls",
      "model_module_version": "1.5.0",
      "model_name": "HBoxModel",
      "state": {
       "children": [
        "IPY_MODEL_798c54bf07e6443d82f4def831894d95",
        "IPY_MODEL_c55301a5d7ea4bb7ab4b96bb3a1b83a7",
        "IPY_MODEL_cddc8cb40fe747bea3c1eb6e8d19bf18"
       ],
       "layout": "IPY_MODEL_0425fa3674024001b62bb459e713c534"
      }
     },
     "0a8481f1d72d4795ac552330a902eb6c": {
      "model_module": "@jupyter-widgets/base",
      "model_module_version": "1.2.0",
      "model_name": "LayoutModel",
      "state": {
       "flex": "10 1 auto",
       "width": "auto"
      }
     },
     "0a94414280b34f6191545c9a27428c0b": {
      "model_module": "@jupyter-widgets/base",
      "model_module_version": "1.2.0",
      "model_name": "LayoutModel",
      "state": {
       "flex": "1 1 auto",
       "width": "auto"
      }
     },
     "0aa39d221fe34ebebd2902e65c32e07a": {
      "model_module": "@jupyter-widgets/base",
      "model_module_version": "1.2.0",
      "model_name": "LayoutModel",
      "state": {}
     },
     "0aa602429c6d4563b182ebfb3e8702de": {
      "model_module": "@jupyter-widgets/controls",
      "model_module_version": "1.5.0",
      "model_name": "DescriptionStyleModel",
      "state": {
       "description_width": ""
      }
     },
     "0aaa350536c8421b8386926aba951daf": {
      "model_module": "@jupyter-widgets/base",
      "model_module_version": "1.2.0",
      "model_name": "LayoutModel",
      "state": {}
     },
     "0aaeb87e15454ab2827c5ff6d0796073": {
      "model_module": "@jupyter-widgets/controls",
      "model_module_version": "1.5.0",
      "model_name": "DescriptionStyleModel",
      "state": {
       "description_width": ""
      }
     },
     "0ab71b1ec2cc4ea7a7bdc670f82ca74e": {
      "model_module": "@jupyter-widgets/base",
      "model_module_version": "1.2.0",
      "model_name": "LayoutModel",
      "state": {
       "display": "flex",
       "flex_flow": "row"
      }
     },
     "0b0292603e604390bff482b80c57e6d7": {
      "model_module": "@jupyter-widgets/controls",
      "model_module_version": "1.5.0",
      "model_name": "FloatSliderModel",
      "state": {
       "layout": "IPY_MODEL_94b98d285e8d44a3a55e060f4f362e97",
       "max": 55,
       "min": -30,
       "readout": false,
       "style": "IPY_MODEL_38a29bb45d2241688586052af09156c0",
       "value": 20
      }
     },
     "0b434f134c934f4c826cf159be161711": {
      "model_module": "@jupyter-widgets/controls",
      "model_module_version": "1.5.0",
      "model_name": "DescriptionStyleModel",
      "state": {
       "description_width": ""
      }
     },
     "0b553b63d453471baa20c9b7bb1b127a": {
      "model_module": "@jupyter-widgets/controls",
      "model_module_version": "1.5.0",
      "model_name": "DropdownModel",
      "state": {
       "_options_labels": [
        "1-Butene",
        "Acetone",
        "Air",
        "Ammonia",
        "Argon",
        "Benzene",
        "CarbonDioxide",
        "CarbonMonoxide",
        "CarbonylSulfide",
        "CycloHexane",
        "CycloPropane",
        "Cyclopentane",
        "D4",
        "D5",
        "D6",
        "Deuterium",
        "Dichloroethane",
        "DiethylEther",
        "DimethylCarbonate",
        "DimethylEther",
        "Ethane",
        "Ethanol",
        "EthylBenzene",
        "Ethylene",
        "EthyleneOxide",
        "Fluorine",
        "HFE143m",
        "HeavyWater",
        "Helium",
        "Hydrogen",
        "HydrogenChloride",
        "HydrogenSulfide",
        "IsoButane",
        "IsoButene",
        "Isohexane",
        "Isopentane",
        "Krypton",
        "MD2M",
        "MD3M",
        "MD4M",
        "MDM",
        "MM",
        "Methane",
        "Methanol",
        "MethylLinoleate",
        "MethylLinolenate",
        "MethylOleate",
        "MethylPalmitate",
        "MethylStearate",
        "Neon",
        "Neopentane",
        "Nitrogen",
        "NitrousOxide",
        "Novec649",
        "OrthoDeuterium",
        "OrthoHydrogen",
        "Oxygen",
        "ParaDeuterium",
        "ParaHydrogen",
        "Propylene",
        "Propyne",
        "R11",
        "R113",
        "R114",
        "R115",
        "R116",
        "R12",
        "R123",
        "R1233zd(E)",
        "R1234yf",
        "R1234ze(E)",
        "R1234ze(Z)",
        "R124",
        "R1243zf",
        "R125",
        "R13",
        "R134a",
        "R13I1",
        "R14",
        "R141b",
        "R142b",
        "R143a",
        "R152A",
        "R161",
        "R21",
        "R218",
        "R22",
        "R227EA",
        "R23",
        "R236EA",
        "R236FA",
        "R245ca",
        "R245fa",
        "R32",
        "R365MFC",
        "R40",
        "R404A",
        "R407C",
        "R41",
        "R410A",
        "R507A",
        "RC318",
        "SES36",
        "SulfurDioxide",
        "SulfurHexafluoride",
        "Toluene",
        "Water",
        "Xenon",
        "cis-2-Butene",
        "m-Xylene",
        "n-Butane",
        "n-Decane",
        "n-Dodecane",
        "n-Heptane",
        "n-Hexane",
        "n-Nonane",
        "n-Octane",
        "n-Pentane",
        "n-Propane",
        "n-Undecane",
        "o-Xylene",
        "p-Xylene",
        "trans-2-Butene"
       ],
       "index": 2,
       "layout": "IPY_MODEL_ff1629b8fb82406bbb0d20cd6def2949",
       "style": "IPY_MODEL_e66e20cded494286b961a73e90c0002e"
      }
     },
     "0b9f212557444185b350e81b48261863": {
      "model_module": "@jupyter-widgets/controls",
      "model_module_version": "1.5.0",
      "model_name": "DescriptionStyleModel",
      "state": {
       "description_width": ""
      }
     },
     "0bec925143ec4fa98e71c03cb21c429d": {
      "model_module": "@jupyter-widgets/base",
      "model_module_version": "1.2.0",
      "model_name": "LayoutModel",
      "state": {
       "flex": "1 1 auto",
       "width": "auto"
      }
     },
     "0c35ec5faf8942fcb349c421c2c22a5b": {
      "model_module": "@jupyter-widgets/controls",
      "model_module_version": "1.5.0",
      "model_name": "VBoxModel",
      "state": {
       "children": [
        "IPY_MODEL_19f0ca69dfe14fb698c8d738dc59ee4d",
        "IPY_MODEL_22f5d1a78d5142efb2ca79c34c8c4806"
       ],
       "layout": "IPY_MODEL_003be9464f294baab1c0345dd4d19e29"
      }
     },
     "0c830cf94d634e6293f112da0544933f": {
      "model_module": "@jupyter-widgets/base",
      "model_module_version": "1.2.0",
      "model_name": "LayoutModel",
      "state": {
       "display": "flex",
       "min_height": "300px",
       "width": "100%"
      }
     },
     "0cada49970ad491c82cd7d687695f868": {
      "model_module": "@jupyter-widgets/controls",
      "model_module_version": "1.5.0",
      "model_name": "DescriptionStyleModel",
      "state": {
       "description_width": ""
      }
     },
     "0cdfdc013a36450585ab8bd2d5aa7f51": {
      "model_module": "@jupyter-widgets/base",
      "model_module_version": "1.2.0",
      "model_name": "LayoutModel",
      "state": {
       "display": "flex",
       "flex_flow": "row"
      }
     },
     "0d06a2208d3c459d9657c3e134773a7c": {
      "model_module": "@jupyter-widgets/base",
      "model_module_version": "1.2.0",
      "model_name": "LayoutModel",
      "state": {}
     },
     "0d0e9e1cbb4147bda417527934fa4d6c": {
      "model_module": "@jupyter-widgets/controls",
      "model_module_version": "1.5.0",
      "model_name": "SliderStyleModel",
      "state": {
       "description_width": ""
      }
     },
     "0d1091aee808413db38b95f6062de6ae": {
      "model_module": "@jupyter-widgets/base",
      "model_module_version": "1.2.0",
      "model_name": "LayoutModel",
      "state": {
       "display": "flex",
       "width": "100%"
      }
     },
     "0d9056354c2d466194044abbc1b5b167": {
      "model_module": "@jupyter-widgets/controls",
      "model_module_version": "1.5.0",
      "model_name": "DescriptionStyleModel",
      "state": {
       "description_width": ""
      }
     },
     "0d9d115ab44c4b98b6c34ea63c3152e1": {
      "model_module": "@jupyter-widgets/base",
      "model_module_version": "1.2.0",
      "model_name": "LayoutModel",
      "state": {
       "flex": "10 1 auto",
       "width": "auto"
      }
     },
     "0e30ecce94184ba7b0ff5a9bce91b56d": {
      "model_module": "@jupyter-widgets/controls",
      "model_module_version": "1.5.0",
      "model_name": "HBoxModel",
      "state": {
       "children": [
        "IPY_MODEL_e82db2f5cf6845f8af31fc2712aabeae",
        "IPY_MODEL_c64801d37a5442e1ae0cb68282e5acac",
        "IPY_MODEL_b507a191a8d342af8f8d3895cdc64e18"
       ],
       "layout": "IPY_MODEL_c8c48c0811b84aa982877b8f576d23ff"
      }
     },
     "0e60eef2dec4436aaca1341ab6d59e83": {
      "model_module": "@jupyter-widgets/controls",
      "model_module_version": "1.5.0",
      "model_name": "HBoxModel",
      "state": {
       "children": [
        "IPY_MODEL_5cb60554ce1f47f3bdc4c1d26819c6f2",
        "IPY_MODEL_b896923d7e294bdbbc7457fc94824f9f",
        "IPY_MODEL_d581d59a78224eada4288d546e267ee9"
       ],
       "layout": "IPY_MODEL_6e456a9af4ad4d368e652e11bc44105d"
      }
     },
     "0e644882490b40abb201836893721e43": {
      "model_module": "@jupyter-widgets/base",
      "model_module_version": "1.2.0",
      "model_name": "LayoutModel",
      "state": {}
     },
     "0e87124cc2f5491c8fd26ce7f7345c7a": {
      "model_module": "@jupyter-widgets/controls",
      "model_module_version": "1.5.0",
      "model_name": "DescriptionStyleModel",
      "state": {
       "description_width": ""
      }
     },
     "0ec3fcd8edee4f1ba592ce499edc3e2e": {
      "model_module": "@jupyter-widgets/base",
      "model_module_version": "1.2.0",
      "model_name": "LayoutModel",
      "state": {
       "display": "flex",
       "flex_flow": "row"
      }
     },
     "0edecb1bb7dc4ee59f087fa56c14e8ef": {
      "model_module": "@jupyter-widgets/controls",
      "model_module_version": "1.5.0",
      "model_name": "SliderStyleModel",
      "state": {
       "description_width": ""
      }
     },
     "0effd024ebfc4cdf8289ba24daf296c4": {
      "model_module": "@jupyter-widgets/controls",
      "model_module_version": "1.5.0",
      "model_name": "DescriptionStyleModel",
      "state": {
       "description_width": ""
      }
     },
     "0f16099fdbd5429689f1afa8aade80ff": {
      "model_module": "@jupyter-widgets/base",
      "model_module_version": "1.2.0",
      "model_name": "LayoutModel",
      "state": {
       "display": "flex",
       "flex_flow": "row"
      }
     },
     "0f8ad4b8c4c1446a9e87c748033c530e": {
      "model_module": "@jupyter-widgets/controls",
      "model_module_version": "1.5.0",
      "model_name": "HBoxModel",
      "state": {
       "children": [
        "IPY_MODEL_212f7f3b611c4c87a4c95c12e88b0fad",
        "IPY_MODEL_bad30caaebd9464a8bc2c6c972b74edf",
        "IPY_MODEL_6bbe4d1ba46241e9be1daff8a4db6989"
       ],
       "layout": "IPY_MODEL_e4dbff912a7c48b8b2e87ec8eec55a14"
      }
     },
     "0f97f4fd5cfc4f31974c61b37cc160fb": {
      "model_module": "@jupyter-widgets/base",
      "model_module_version": "1.2.0",
      "model_name": "LayoutModel",
      "state": {}
     },
     "0ffbfc3126c6494ea255988c88d83c7d": {
      "model_module": "@jupyter-widgets/controls",
      "model_module_version": "1.5.0",
      "model_name": "DescriptionStyleModel",
      "state": {
       "description_width": ""
      }
     },
     "1053b9b664034110beea1562f55cf1f2": {
      "model_module": "@jupyter-widgets/base",
      "model_module_version": "1.2.0",
      "model_name": "LayoutModel",
      "state": {
       "flex": "1 1 auto",
       "width": "auto"
      }
     },
     "1073a4dc93b04852bd8634fb4ddfea20": {
      "model_module": "@jupyter-widgets/controls",
      "model_module_version": "1.5.0",
      "model_name": "DescriptionStyleModel",
      "state": {
       "description_width": ""
      }
     },
     "10d4c46048e3498c8a7a3a56f0f134c7": {
      "model_module": "@jupyter-widgets/controls",
      "model_module_version": "1.5.0",
      "model_name": "SliderStyleModel",
      "state": {
       "description_width": ""
      }
     },
     "10f71ac8a7e74765a07f226b78840552": {
      "model_module": "@jupyter-widgets/base",
      "model_module_version": "1.2.0",
      "model_name": "LayoutModel",
      "state": {
       "flex": "1 1 auto",
       "width": "auto"
      }
     },
     "10ffa0db167948d4b8caae90fe19a941": {
      "model_module": "@jupyter-widgets/controls",
      "model_module_version": "1.5.0",
      "model_name": "DescriptionStyleModel",
      "state": {
       "description_width": ""
      }
     },
     "11097c4e3b204f82a9bc685fe8b8becf": {
      "model_module": "@jupyter-widgets/base",
      "model_module_version": "1.2.0",
      "model_name": "LayoutModel",
      "state": {
       "flex": "1 1 auto",
       "width": "auto"
      }
     },
     "11269ba8cb884cb29ddef3fd83472d68": {
      "model_module": "@jupyter-widgets/controls",
      "model_module_version": "1.5.0",
      "model_name": "DescriptionStyleModel",
      "state": {
       "description_width": ""
      }
     },
     "113eabe981434a6cb37c07245887b37e": {
      "model_module": "@jupyter-widgets/controls",
      "model_module_version": "1.5.0",
      "model_name": "LabelModel",
      "state": {
       "layout": "IPY_MODEL_8ae2c27b42f94cae8f469514d7bcabaf",
       "style": "IPY_MODEL_eac2626b8cbf4699b7045aa49608c756",
       "value": "Temperature in °C:"
      }
     },
     "11a328286aa44379b15966740ee52f2b": {
      "model_module": "@jupyter-widgets/base",
      "model_module_version": "1.2.0",
      "model_name": "LayoutModel",
      "state": {}
     },
     "11d0918225ec4471b178f6cc03290ae6": {
      "model_module": "@jupyter-widgets/controls",
      "model_module_version": "1.5.0",
      "model_name": "DescriptionStyleModel",
      "state": {
       "description_width": ""
      }
     },
     "11d5aff87904493a9344784b1597011e": {
      "model_module": "@jupyter-widgets/base",
      "model_module_version": "1.2.0",
      "model_name": "LayoutModel",
      "state": {
       "flex": "10 1 auto",
       "width": "auto"
      }
     },
     "11ee631fea2f4c50a811a5fc1bf125b2": {
      "model_module": "@jupyter-widgets/controls",
      "model_module_version": "1.5.0",
      "model_name": "BoundedFloatTextModel",
      "state": {
       "layout": "IPY_MODEL_7019eb2228714e69a672766147703516",
       "max": 200,
       "min": 0.001,
       "step": 0.001,
       "style": "IPY_MODEL_cd1876e884cc49688c3a79645d46a771",
       "value": 20
      }
     },
     "12079a798a4246b68ddf36d952c6595f": {
      "model_module": "@jupyter-widgets/controls",
      "model_module_version": "1.5.0",
      "model_name": "DropdownModel",
      "state": {
       "_options_labels": [
        "1-Butene",
        "Acetone",
        "Air",
        "Ammonia",
        "Argon",
        "Benzene",
        "CarbonDioxide",
        "CarbonMonoxide",
        "CarbonylSulfide",
        "CycloHexane",
        "CycloPropane",
        "Cyclopentane",
        "D4",
        "D5",
        "D6",
        "Deuterium",
        "Dichloroethane",
        "DiethylEther",
        "DimethylCarbonate",
        "DimethylEther",
        "Ethane",
        "Ethanol",
        "EthylBenzene",
        "Ethylene",
        "EthyleneOxide",
        "Fluorine",
        "HFE143m",
        "HeavyWater",
        "Helium",
        "Hydrogen",
        "HydrogenChloride",
        "HydrogenSulfide",
        "IsoButane",
        "IsoButene",
        "Isohexane",
        "Isopentane",
        "Krypton",
        "MD2M",
        "MD3M",
        "MD4M",
        "MDM",
        "MM",
        "Methane",
        "Methanol",
        "MethylLinoleate",
        "MethylLinolenate",
        "MethylOleate",
        "MethylPalmitate",
        "MethylStearate",
        "Neon",
        "Neopentane",
        "Nitrogen",
        "NitrousOxide",
        "Novec649",
        "OrthoDeuterium",
        "OrthoHydrogen",
        "Oxygen",
        "ParaDeuterium",
        "ParaHydrogen",
        "Propylene",
        "Propyne",
        "R11",
        "R113",
        "R114",
        "R115",
        "R116",
        "R12",
        "R123",
        "R1233zd(E)",
        "R1234yf",
        "R1234ze(E)",
        "R1234ze(Z)",
        "R124",
        "R1243zf",
        "R125",
        "R13",
        "R134a",
        "R13I1",
        "R14",
        "R141b",
        "R142b",
        "R143a",
        "R152A",
        "R161",
        "R21",
        "R218",
        "R22",
        "R227EA",
        "R23",
        "R236EA",
        "R236FA",
        "R245ca",
        "R245fa",
        "R32",
        "R365MFC",
        "R40",
        "R404A",
        "R407C",
        "R41",
        "R410A",
        "R507A",
        "RC318",
        "SES36",
        "SulfurDioxide",
        "SulfurHexafluoride",
        "Toluene",
        "Water",
        "Xenon",
        "cis-2-Butene",
        "m-Xylene",
        "n-Butane",
        "n-Decane",
        "n-Dodecane",
        "n-Heptane",
        "n-Hexane",
        "n-Nonane",
        "n-Octane",
        "n-Pentane",
        "n-Propane",
        "n-Undecane",
        "o-Xylene",
        "p-Xylene",
        "trans-2-Butene"
       ],
       "index": 2,
       "layout": "IPY_MODEL_0aaa350536c8421b8386926aba951daf",
       "style": "IPY_MODEL_e2860cdee8234733aec6a9b5988749dd"
      }
     },
     "120cd95d316c4b348941bd709ae24366": {
      "model_module": "@jupyter-widgets/controls",
      "model_module_version": "1.5.0",
      "model_name": "DropdownModel",
      "state": {
       "_options_labels": [
        "1-Butene",
        "Acetone",
        "Air",
        "Ammonia",
        "Argon",
        "Benzene",
        "CarbonDioxide",
        "CarbonMonoxide",
        "CarbonylSulfide",
        "CycloHexane",
        "CycloPropane",
        "Cyclopentane",
        "D4",
        "D5",
        "D6",
        "Deuterium",
        "Dichloroethane",
        "DiethylEther",
        "DimethylCarbonate",
        "DimethylEther",
        "Ethane",
        "Ethanol",
        "EthylBenzene",
        "Ethylene",
        "EthyleneOxide",
        "Fluorine",
        "HFE143m",
        "HeavyWater",
        "Helium",
        "Hydrogen",
        "HydrogenChloride",
        "HydrogenSulfide",
        "IsoButane",
        "IsoButene",
        "Isohexane",
        "Isopentane",
        "Krypton",
        "MD2M",
        "MD3M",
        "MD4M",
        "MDM",
        "MM",
        "Methane",
        "Methanol",
        "MethylLinoleate",
        "MethylLinolenate",
        "MethylOleate",
        "MethylPalmitate",
        "MethylStearate",
        "Neon",
        "Neopentane",
        "Nitrogen",
        "NitrousOxide",
        "Novec649",
        "OrthoDeuterium",
        "OrthoHydrogen",
        "Oxygen",
        "ParaDeuterium",
        "ParaHydrogen",
        "Propylene",
        "Propyne",
        "R11",
        "R113",
        "R114",
        "R115",
        "R116",
        "R12",
        "R123",
        "R1233zd(E)",
        "R1234yf",
        "R1234ze(E)",
        "R1234ze(Z)",
        "R124",
        "R1243zf",
        "R125",
        "R13",
        "R134a",
        "R13I1",
        "R14",
        "R141b",
        "R142b",
        "R143a",
        "R152A",
        "R161",
        "R21",
        "R218",
        "R22",
        "R227EA",
        "R23",
        "R236EA",
        "R236FA",
        "R245ca",
        "R245fa",
        "R32",
        "R365MFC",
        "R40",
        "R404A",
        "R407C",
        "R41",
        "R410A",
        "R507A",
        "RC318",
        "SES36",
        "SulfurDioxide",
        "SulfurHexafluoride",
        "Toluene",
        "Water",
        "Xenon",
        "cis-2-Butene",
        "m-Xylene",
        "n-Butane",
        "n-Decane",
        "n-Dodecane",
        "n-Heptane",
        "n-Hexane",
        "n-Nonane",
        "n-Octane",
        "n-Pentane",
        "n-Propane",
        "n-Undecane",
        "o-Xylene",
        "p-Xylene",
        "trans-2-Butene"
       ],
       "index": 2,
       "layout": "IPY_MODEL_9ce887f7724242aa964e350911af4241",
       "style": "IPY_MODEL_0ffbfc3126c6494ea255988c88d83c7d"
      }
     },
     "12c110881e5342c4840736001bd45f60": {
      "model_module": "@jupyter-widgets/controls",
      "model_module_version": "1.5.0",
      "model_name": "AccordionModel",
      "state": {
       "_titles": {
        "0": "Thermodynamic State",
        "1": "Flat Plate"
       },
       "children": [
        "IPY_MODEL_57b92dacdc9b495fbef86f3a5e775057",
        "IPY_MODEL_2a18e276919247a0942c1ce42bb6be8a"
       ],
       "layout": "IPY_MODEL_2bd2b960768747ab842d240b09879b1b"
      }
     },
     "1324359e043d4a87ab353392077e6e31": {
      "model_module": "@jupyter-widgets/controls",
      "model_module_version": "1.5.0",
      "model_name": "HBoxModel",
      "state": {
       "children": [
        "IPY_MODEL_f7ceedc86e9e4a018b26978a5117f654",
        "IPY_MODEL_2aaba1e93e8d49a0ac5aa5305912edc9"
       ],
       "layout": "IPY_MODEL_68985da20ec446419940ae1b39096454"
      }
     },
     "132b37c4e61d4b1795ec5563ace3fd12": {
      "model_module": "@jupyter-widgets/controls",
      "model_module_version": "1.5.0",
      "model_name": "SliderStyleModel",
      "state": {
       "description_width": ""
      }
     },
     "1356a4143c354417980b41ccb89704bf": {
      "model_module": "@jupyter-widgets/base",
      "model_module_version": "1.2.0",
      "model_name": "LayoutModel",
      "state": {
       "display": "flex",
       "min_height": "300px",
       "width": "100%"
      }
     },
     "138ae3e4ad0e4a83b92e783316ed7ce8": {
      "model_module": "@jupyter-widgets/controls",
      "model_module_version": "1.5.0",
      "model_name": "DescriptionStyleModel",
      "state": {
       "description_width": ""
      }
     },
     "1392bb7533d041e8a817809a2719559b": {
      "model_module": "@jupyter-widgets/base",
      "model_module_version": "1.2.0",
      "model_name": "LayoutModel",
      "state": {
       "flex": "1 1 auto",
       "width": "auto"
      }
     },
     "13c048383cc44263b174c0d5e13e5689": {
      "model_module": "@jupyter-widgets/controls",
      "model_module_version": "1.5.0",
      "model_name": "BoundedFloatTextModel",
      "state": {
       "layout": "IPY_MODEL_6562caa601864a90a12bdc3471bc4c99",
       "max": 200,
       "min": 0.001,
       "step": 0.001,
       "style": "IPY_MODEL_cc0f7bc4468f40daacc398e780857995",
       "value": 20
      }
     },
     "14494f7846a441a3966229024b9c6015": {
      "model_module": "@jupyter-widgets/controls",
      "model_module_version": "1.5.0",
      "model_name": "FloatSliderModel",
      "state": {
       "layout": "IPY_MODEL_f3cca6309d0a4e20b12da6824b1799c6",
       "max": 200,
       "min": 0.001,
       "readout": false,
       "step": 0.001,
       "style": "IPY_MODEL_3fe4bc8b18ea4ea0b1beef1d9bd79bd6",
       "value": 20
      }
     },
     "147332810cc94b10b081d63d139099f2": {
      "model_module": "@jupyter-widgets/controls",
      "model_module_version": "1.5.0",
      "model_name": "DescriptionStyleModel",
      "state": {
       "description_width": ""
      }
     },
     "14d37420a6254e2da7f52454a9ba2a9a": {
      "model_module": "@jupyter-widgets/controls",
      "model_module_version": "1.5.0",
      "model_name": "DescriptionStyleModel",
      "state": {
       "description_width": ""
      }
     },
     "1529d934b9cf495abe6121a56e8ae9b1": {
      "model_module": "@jupyter-widgets/base",
      "model_module_version": "1.2.0",
      "model_name": "LayoutModel",
      "state": {
       "display": "flex",
       "flex_flow": "row"
      }
     },
     "15f41801190b49b4aee2bfd995d665d1": {
      "model_module": "@jupyter-widgets/controls",
      "model_module_version": "1.5.0",
      "model_name": "BoundedFloatTextModel",
      "state": {
       "layout": "IPY_MODEL_9c1e9782bda04c409eb360dbe8786a54",
       "max": 10,
       "min": 0.001,
       "step": 0.001,
       "style": "IPY_MODEL_007cec7346b84757bca9eda028d1e2cd",
       "value": 0.1
      }
     },
     "160657fd8f114c59a8949d568f7283ed": {
      "model_module": "@jupyter-widgets/output",
      "model_module_version": "1.0.0",
      "model_name": "OutputModel",
      "state": {
       "layout": "IPY_MODEL_79a07f690f4b42f2a1bf5faacd95a047"
      }
     },
     "162b8dabf6d14260b547595bd2d4f9bd": {
      "model_module": "@jupyter-widgets/controls",
      "model_module_version": "1.5.0",
      "model_name": "FloatSliderModel",
      "state": {
       "layout": "IPY_MODEL_f0a91ab0c49945b38e3e9bab26802469",
       "max": 10,
       "min": 0.001,
       "readout": false,
       "step": 0.001,
       "style": "IPY_MODEL_8946198cffd2456abc21e8778e38a70c",
       "value": 0.1
      }
     },
     "16982d43724d4476a3aa432a7fd605f6": {
      "model_module": "@jupyter-widgets/base",
      "model_module_version": "1.2.0",
      "model_name": "LayoutModel",
      "state": {
       "flex": "10 1 auto",
       "width": "auto"
      }
     },
     "16b1f85f7c20490db98b17261fe5510e": {
      "model_module": "@jupyter-widgets/controls",
      "model_module_version": "1.5.0",
      "model_name": "LabelModel",
      "state": {
       "layout": "IPY_MODEL_944783260bd9469f835c8ab222f3c1c6",
       "style": "IPY_MODEL_2f7ed3b7b215479cb127d5cba9847995",
       "value": "Gas / Specie Mixture:"
      }
     },
     "16be639b7c564870b7301361fc02cb07": {
      "model_module": "@jupyter-widgets/output",
      "model_module_version": "1.0.0",
      "model_name": "OutputModel",
      "state": {
       "layout": "IPY_MODEL_cb6c804d0ac74976b425cb4b70cd6cc8",
       "outputs": [
        {
         "ename": "NameError",
         "evalue": "name 'clear_output' is not defined",
         "output_type": "error",
         "traceback": [
          "\u001b[0;31m\u001b[0m",
          "\u001b[0;31mNameError\u001b[0mTraceback (most recent call last)",
          "\u001b[0;32m<ipython-input-20-136851cf9122>\u001b[0m in \u001b[0;36mobserver\u001b[0;34m(change)\u001b[0m\n\u001b[1;32m     31\u001b[0m         \u001b[0;31m#widgets.show_inline_matplotlib_plots()\u001b[0m\u001b[0;34m\u001b[0m\u001b[0;34m\u001b[0m\u001b[0;34m\u001b[0m\u001b[0m\n\u001b[1;32m     32\u001b[0m         \u001b[0;32mwith\u001b[0m \u001b[0mout\u001b[0m\u001b[0;34m:\u001b[0m\u001b[0;34m\u001b[0m\u001b[0;34m\u001b[0m\u001b[0m\n\u001b[0;32m---> 33\u001b[0;31m             \u001b[0mclear_output\u001b[0m\u001b[0;34m(\u001b[0m\u001b[0mwait\u001b[0m\u001b[0;34m=\u001b[0m\u001b[0;32mTrue\u001b[0m\u001b[0;34m)\u001b[0m\u001b[0;34m\u001b[0m\u001b[0;34m\u001b[0m\u001b[0m\n\u001b[0m\u001b[1;32m     34\u001b[0m             \u001b[0mf\u001b[0m\u001b[0;34m(\u001b[0m\u001b[0;34m**\u001b[0m\u001b[0mkwargs\u001b[0m\u001b[0;34m)\u001b[0m\u001b[0;34m\u001b[0m\u001b[0;34m\u001b[0m\u001b[0m\n\u001b[1;32m     35\u001b[0m             \u001b[0;31m#widgets.show_inline_matplotlib_plots()\u001b[0m\u001b[0;34m\u001b[0m\u001b[0;34m\u001b[0m\u001b[0;34m\u001b[0m\u001b[0m\n",
          "\u001b[0;31mNameError\u001b[0m: name 'clear_output' is not defined"
         ]
        }
       ]
      }
     },
     "16d420467faf441487c42c8d0780dbf2": {
      "model_module": "@jupyter-widgets/controls",
      "model_module_version": "1.5.0",
      "model_name": "HBoxModel",
      "state": {
       "children": [
        "IPY_MODEL_a1e6a9c89d604c47bdfbcbfe95ef83d5",
        "IPY_MODEL_a3661257f5bb4b8392d48147c8c48a68"
       ],
       "layout": "IPY_MODEL_778fa45a2dbb4d5aba0efadc408819cd"
      }
     },
     "1704a27cc40647d4ba63fa6e26e99938": {
      "model_module": "@jupyter-widgets/base",
      "model_module_version": "1.2.0",
      "model_name": "LayoutModel",
      "state": {
       "display": "flex",
       "width": "100%"
      }
     },
     "171f421c8e774e5fa8b99b56bbdb5456": {
      "model_module": "@jupyter-widgets/controls",
      "model_module_version": "1.5.0",
      "model_name": "HBoxModel",
      "state": {
       "children": [
        "IPY_MODEL_c4fa01df4cc7428595deb642ef78e0ae",
        "IPY_MODEL_5101b931969c4aecab9ec0f8dcd87c09",
        "IPY_MODEL_b35d5995a21d46049dfc76f1cee718b3"
       ],
       "layout": "IPY_MODEL_644e44d3b66d4428ae68f4aa6f506ef2"
      }
     },
     "17596cf6c1d9440485d7cf1bf75195e3": {
      "model_module": "@jupyter-widgets/base",
      "model_module_version": "1.2.0",
      "model_name": "LayoutModel",
      "state": {}
     },
     "176f5dece09f4198a04bc18c3f9dd281": {
      "model_module": "@jupyter-widgets/base",
      "model_module_version": "1.2.0",
      "model_name": "LayoutModel",
      "state": {}
     },
     "17f3129d3b8b4cdbb70365a8174410f2": {
      "model_module": "@jupyter-widgets/controls",
      "model_module_version": "1.5.0",
      "model_name": "HBoxModel",
      "state": {
       "children": [
        "IPY_MODEL_f99e5c5e6c2b407baa60830a3dc6a3f6",
        "IPY_MODEL_56c200a30f3d43a295d0981f5b5718ff",
        "IPY_MODEL_e1abf468b20b4599be6ec3131195695d"
       ],
       "layout": "IPY_MODEL_632c49bf53a74873a9893640db792dc2"
      }
     },
     "184d59d3cb51416b811fc82b0abb0e96": {
      "model_module": "@jupyter-widgets/controls",
      "model_module_version": "1.5.0",
      "model_name": "HBoxModel",
      "state": {
       "children": [
        "IPY_MODEL_351bc9b2f9274228939a061dd1d0890b",
        "IPY_MODEL_4a3f15dab85148d3935bf2a2c246b980",
        "IPY_MODEL_4fd4f28b935043e889721a471ad37cdd"
       ],
       "layout": "IPY_MODEL_e5ace8ca7c29440ea801cab8c967e409"
      }
     },
     "188c6828beb74f89b596666e5e6026cd": {
      "model_module": "@jupyter-widgets/base",
      "model_module_version": "1.2.0",
      "model_name": "LayoutModel",
      "state": {
       "flex": "10 1 auto",
       "width": "auto"
      }
     },
     "189f5080637449b199d51af63b20cf79": {
      "model_module": "@jupyter-widgets/base",
      "model_module_version": "1.2.0",
      "model_name": "LayoutModel",
      "state": {
       "display": "flex",
       "width": "100%"
      }
     },
     "18b241c6756f48e0815717b5cf0dd48f": {
      "model_module": "@jupyter-widgets/controls",
      "model_module_version": "1.5.0",
      "model_name": "VBoxModel",
      "state": {
       "children": [
        "IPY_MODEL_9b8e56dbec28437c93e5288d170a0fee",
        "IPY_MODEL_09d9ccf7253d434f97356669c3498528",
        "IPY_MODEL_1324359e043d4a87ab353392077e6e31"
       ],
       "layout": "IPY_MODEL_b23d6c3dc3cc4073914966fe172d4868"
      }
     },
     "193a2140302b4860ae1a6ec3d5577876": {
      "model_module": "@jupyter-widgets/base",
      "model_module_version": "1.2.0",
      "model_name": "LayoutModel",
      "state": {
       "display": "flex",
       "flex_flow": "row"
      }
     },
     "195a390b86a749aab2105c8466b5529c": {
      "model_module": "@jupyter-widgets/controls",
      "model_module_version": "1.5.0",
      "model_name": "HBoxModel",
      "state": {
       "children": [
        "IPY_MODEL_7ddbaa7e1da14b79b9f9ba239a2dec9d",
        "IPY_MODEL_c22f3fe3c7f94e8a96628af487920119",
        "IPY_MODEL_6b9bb7f22b064a44acc6dbcfa9b2403c"
       ],
       "layout": "IPY_MODEL_bb035845706e478ea4c7d204df3c1bff"
      }
     },
     "19f0ca69dfe14fb698c8d738dc59ee4d": {
      "model_module": "@jupyter-widgets/controls",
      "model_module_version": "1.5.0",
      "model_name": "HBoxModel",
      "state": {
       "children": [
        "IPY_MODEL_da57aeb225c0485c95b6c738c7448dfb",
        "IPY_MODEL_59259cb7cad24bc5880312581ea41d8f",
        "IPY_MODEL_060a66a3d04d4dff98bf0e516f98a5b6"
       ],
       "layout": "IPY_MODEL_45e065633f574b569cbd721ceaf106fc"
      }
     },
     "1a2deb484682401daaa1e8f9648f2273": {
      "model_module": "@jupyter-widgets/base",
      "model_module_version": "1.2.0",
      "model_name": "LayoutModel",
      "state": {
       "flex": "1 1 auto",
       "width": "auto"
      }
     },
     "1a4d16ed92674e458cf53fa33452d497": {
      "model_module": "@jupyter-widgets/base",
      "model_module_version": "1.2.0",
      "model_name": "LayoutModel",
      "state": {
       "flex": "1 1 auto",
       "width": "auto"
      }
     },
     "1a7b94774e4049c58f5673e1ada95157": {
      "model_module": "@jupyter-widgets/controls",
      "model_module_version": "1.5.0",
      "model_name": "BoundedFloatTextModel",
      "state": {
       "layout": "IPY_MODEL_07a8eb9719d94dc0930ca23964903d84",
       "max": 10,
       "min": 0.001,
       "step": 0.001,
       "style": "IPY_MODEL_8360f0af907845c4b70e9423275a557e",
       "value": 0.1
      }
     },
     "1a7fccad401240f6b43eed69556541c5": {
      "model_module": "@jupyter-widgets/controls",
      "model_module_version": "1.5.0",
      "model_name": "SliderStyleModel",
      "state": {
       "description_width": ""
      }
     },
     "1b35a88a113a4813aefeff08e7e43420": {
      "model_module": "@jupyter-widgets/base",
      "model_module_version": "1.2.0",
      "model_name": "LayoutModel",
      "state": {
       "flex": "10 1 auto",
       "width": "auto"
      }
     },
     "1b5c3b260f2b4a7b868af296cd20d298": {
      "model_module": "@jupyter-widgets/base",
      "model_module_version": "1.2.0",
      "model_name": "LayoutModel",
      "state": {
       "display": "flex",
       "flex_flow": "row"
      }
     },
     "1b7a5856b66d46c8be107408fd716d75": {
      "model_module": "@jupyter-widgets/controls",
      "model_module_version": "1.5.0",
      "model_name": "HBoxModel",
      "state": {
       "children": [
        "IPY_MODEL_89d6491525a9437cb14d38a68ff9afeb",
        "IPY_MODEL_e45fb5327535441d82e55bde25c8b2e6",
        "IPY_MODEL_efd32ba1438e49aa807481ebb906ecb4"
       ],
       "layout": "IPY_MODEL_9c1e088404b54c54a56ec49106dbf609"
      }
     },
     "1bf04ee4ce104e09b3b7c9fc9df91d43": {
      "model_module": "@jupyter-widgets/controls",
      "model_module_version": "1.5.0",
      "model_name": "DescriptionStyleModel",
      "state": {
       "description_width": ""
      }
     },
     "1c4469de4add433284e37e468fb79c25": {
      "model_module": "@jupyter-widgets/base",
      "model_module_version": "1.2.0",
      "model_name": "LayoutModel",
      "state": {
       "flex": "1 1 auto",
       "width": "auto"
      }
     },
     "1c545dfe4ba9487ab82ec495d4e3125c": {
      "model_module": "@jupyter-widgets/controls",
      "model_module_version": "1.5.0",
      "model_name": "DescriptionStyleModel",
      "state": {
       "description_width": ""
      }
     },
     "1c954526505c4c8eb24833198ad67bd3": {
      "model_module": "@jupyter-widgets/controls",
      "model_module_version": "1.5.0",
      "model_name": "LabelModel",
      "state": {
       "layout": "IPY_MODEL_4a933538b2584e8db81a461b8f2c4a74",
       "style": "IPY_MODEL_e7e8870281a74849bbd9ae76211695b8",
       "value": "Platelength in m"
      }
     },
     "1da47dc3e3ca403cb7249fcdcb474d20": {
      "model_module": "@jupyter-widgets/controls",
      "model_module_version": "1.5.0",
      "model_name": "DescriptionStyleModel",
      "state": {
       "description_width": ""
      }
     },
     "1e1ddaa1d3dd4340802adf44cf37f608": {
      "model_module": "@jupyter-widgets/controls",
      "model_module_version": "1.5.0",
      "model_name": "VBoxModel",
      "state": {
       "children": [
        "IPY_MODEL_64801f90d27e44bb8cc8b927e29ae6e1",
        "IPY_MODEL_cb16de7aafd746b1bfe0bcdf198d6d61",
        "IPY_MODEL_d0a528253ebd41528bb238e084b51e55"
       ],
       "layout": "IPY_MODEL_0f97f4fd5cfc4f31974c61b37cc160fb"
      }
     },
     "1e4da38b368949d09c722296b009a575": {
      "model_module": "@jupyter-widgets/controls",
      "model_module_version": "1.5.0",
      "model_name": "DescriptionStyleModel",
      "state": {
       "description_width": ""
      }
     },
     "1e54529f57d84166a83b1e7ed40f77b3": {
      "model_module": "@jupyter-widgets/output",
      "model_module_version": "1.0.0",
      "model_name": "OutputModel",
      "state": {
       "layout": "IPY_MODEL_91cec29efb4540d59bcc6f0dd7e6e999"
      }
     },
     "1e7300179522478fb4babdb22226aee1": {
      "model_module": "@jupyter-widgets/controls",
      "model_module_version": "1.5.0",
      "model_name": "DescriptionStyleModel",
      "state": {
       "description_width": ""
      }
     },
     "1e74e139a1744d389199949233a8e0fb": {
      "model_module": "@jupyter-widgets/controls",
      "model_module_version": "1.5.0",
      "model_name": "LabelModel",
      "state": {
       "layout": "IPY_MODEL_50df7e76796341fba117902b8db56953",
       "style": "IPY_MODEL_4ff24447dba346e09d07726d4e4c9dcc",
       "value": "Platelength in m"
      }
     },
     "1e7af9f2910141bf8e772f33716f967f": {
      "model_module": "@jupyter-widgets/base",
      "model_module_version": "1.2.0",
      "model_name": "LayoutModel",
      "state": {
       "flex": "10 1 auto",
       "width": "auto"
      }
     },
     "1ef490c1a5504f3abe611dfa4a94e918": {
      "model_module": "@jupyter-widgets/controls",
      "model_module_version": "1.5.0",
      "model_name": "DescriptionStyleModel",
      "state": {
       "description_width": ""
      }
     },
     "1ef7b2bb6b894eff9a9114c630fd6739": {
      "model_module": "@jupyter-widgets/base",
      "model_module_version": "1.2.0",
      "model_name": "LayoutModel",
      "state": {}
     },
     "1f70412fe83a431bbe24b53f1a7c3dbd": {
      "model_module": "@jupyter-widgets/controls",
      "model_module_version": "1.5.0",
      "model_name": "SliderStyleModel",
      "state": {
       "description_width": ""
      }
     },
     "1f9045dfb09d4302a44e5fc61892b50f": {
      "model_module": "@jupyter-widgets/controls",
      "model_module_version": "1.5.0",
      "model_name": "FloatSliderModel",
      "state": {
       "layout": "IPY_MODEL_27409dc7e87f40b6b2c7554e810ffddb",
       "max": 15000000,
       "min": 1,
       "readout": false,
       "step": 100000,
       "style": "IPY_MODEL_d4cf7787b8b04f6d97c88e3a23f67b42",
       "value": 101325
      }
     },
     "1fbcd91dafa5499ca64ee5731f2c6e36": {
      "model_module": "@jupyter-widgets/controls",
      "model_module_version": "1.5.0",
      "model_name": "VBoxModel",
      "state": {
       "children": [
        "IPY_MODEL_0e30ecce94184ba7b0ff5a9bce91b56d",
        "IPY_MODEL_76205c7cb88647caaa39ebad55cd1628"
       ],
       "layout": "IPY_MODEL_f74d5510a8d147baac872115a4f2a7ad"
      }
     },
     "20322507c2ec4e1db292a54f14742019": {
      "model_module": "@jupyter-widgets/controls",
      "model_module_version": "1.5.0",
      "model_name": "SliderStyleModel",
      "state": {
       "description_width": ""
      }
     },
     "20427a6bc5ff4433bf436e6b8ef31f4e": {
      "model_module": "@jupyter-widgets/controls",
      "model_module_version": "1.5.0",
      "model_name": "FloatSliderModel",
      "state": {
       "layout": "IPY_MODEL_af5e77b028ca4eee9aff07fecac2c118",
       "max": 55,
       "min": -30,
       "readout": false,
       "style": "IPY_MODEL_c6ea583b3c7249888e014bbe74acb4a0",
       "value": 20
      }
     },
     "20c258c5ac9b4c3795ca71c201d14e7a": {
      "model_module": "@jupyter-widgets/controls",
      "model_module_version": "1.5.0",
      "model_name": "DescriptionStyleModel",
      "state": {
       "description_width": ""
      }
     },
     "212f7f3b611c4c87a4c95c12e88b0fad": {
      "model_module": "@jupyter-widgets/controls",
      "model_module_version": "1.5.0",
      "model_name": "LabelModel",
      "state": {
       "layout": "IPY_MODEL_f3ad2c99aa9a4c019368c5f31be01090",
       "style": "IPY_MODEL_674abd1c8b294555ab9cb62dd860ff36",
       "value": "Platelength in m"
      }
     },
     "215f62884b63479c9690332a8c3ac941": {
      "model_module": "@jupyter-widgets/base",
      "model_module_version": "1.2.0",
      "model_name": "LayoutModel",
      "state": {
       "display": "flex",
       "width": "100%"
      }
     },
     "2260084db2374e138bf8e58780c03d09": {
      "model_module": "@jupyter-widgets/controls",
      "model_module_version": "1.5.0",
      "model_name": "BoundedFloatTextModel",
      "state": {
       "layout": "IPY_MODEL_c1e596930f5e4012b1577e09b5931d94",
       "max": 15000000,
       "min": 1,
       "step": 100000,
       "style": "IPY_MODEL_65b5b1c4e57b4c6f83fe88c7fd9e7c46",
       "value": 101325
      }
     },
     "227bf29b0801443da6ab6ad65b10f055": {
      "model_module": "@jupyter-widgets/base",
      "model_module_version": "1.2.0",
      "model_name": "LayoutModel",
      "state": {}
     },
     "22d0ea0bff274d4989ba748dd5b21d45": {
      "model_module": "@jupyter-widgets/controls",
      "model_module_version": "1.5.0",
      "model_name": "SliderStyleModel",
      "state": {
       "description_width": ""
      }
     },
     "22f5d1a78d5142efb2ca79c34c8c4806": {
      "model_module": "@jupyter-widgets/controls",
      "model_module_version": "1.5.0",
      "model_name": "HBoxModel",
      "state": {
       "children": [
        "IPY_MODEL_bdceeebbe56b44b48b720e7e944e6b86",
        "IPY_MODEL_4e992e612f41439dbf54b10256977ab1",
        "IPY_MODEL_13c048383cc44263b174c0d5e13e5689"
       ],
       "layout": "IPY_MODEL_dfa5538d0ca34cae92b704598275b367"
      }
     },
     "2317d3b0b385456189ed38cee4d8ca80": {
      "model_module": "@jupyter-widgets/controls",
      "model_module_version": "1.5.0",
      "model_name": "FloatSliderModel",
      "state": {
       "layout": "IPY_MODEL_0d9d115ab44c4b98b6c34ea63c3152e1",
       "max": 15000000,
       "min": 1,
       "readout": false,
       "step": 100000,
       "style": "IPY_MODEL_7523d1e53af345c89727f0af59450582",
       "value": 101325
      }
     },
     "232e99ded3e84aca9962a04e6832fd6d": {
      "model_module": "@jupyter-widgets/base",
      "model_module_version": "1.2.0",
      "model_name": "LayoutModel",
      "state": {}
     },
     "23575ffab08348eaa55f1bade4ded495": {
      "model_module": "@jupyter-widgets/base",
      "model_module_version": "1.2.0",
      "model_name": "LayoutModel",
      "state": {
       "display": "flex",
       "flex_flow": "row"
      }
     },
     "2377d69daef74154bb280cc2030a7905": {
      "model_module": "@jupyter-widgets/base",
      "model_module_version": "1.2.0",
      "model_name": "LayoutModel",
      "state": {
       "flex": "1 1 auto",
       "width": "auto"
      }
     },
     "239571de5e064cb281f0e4b5d36fd399": {
      "model_module": "@jupyter-widgets/base",
      "model_module_version": "1.2.0",
      "model_name": "LayoutModel",
      "state": {
       "display": "flex",
       "width": "100%"
      }
     },
     "23c96e6ff6564b7ba9cd8a653c767528": {
      "model_module": "@jupyter-widgets/base",
      "model_module_version": "1.2.0",
      "model_name": "LayoutModel",
      "state": {
       "flex": "10 1 auto",
       "width": "auto"
      }
     },
     "2469b384a4f44a3ca7a9d9754f469099": {
      "model_module": "@jupyter-widgets/controls",
      "model_module_version": "1.5.0",
      "model_name": "HBoxModel",
      "state": {
       "children": [
        "IPY_MODEL_da4005af5242462fa4351dc25eb28280",
        "IPY_MODEL_8f1b72f7fc81444498d7e84c52d89199",
        "IPY_MODEL_15f41801190b49b4aee2bfd995d665d1"
       ],
       "layout": "IPY_MODEL_ee68fa4ea22a4182ac75b8efa67f9b24"
      }
     },
     "24c6f0b2a32543f193f603aac5e940b4": {
      "model_module": "@jupyter-widgets/controls",
      "model_module_version": "1.5.0",
      "model_name": "BoundedFloatTextModel",
      "state": {
       "layout": "IPY_MODEL_99686beef82a486198c871c1e49dea79",
       "max": 15000000,
       "min": 1,
       "step": 100000,
       "style": "IPY_MODEL_56b710775d294c479fec1ac0215caa09",
       "value": 101325
      }
     },
     "2585632b407a492c88b6797837292c6b": {
      "model_module": "@jupyter-widgets/base",
      "model_module_version": "1.2.0",
      "model_name": "LayoutModel",
      "state": {
       "display": "flex",
       "flex_flow": "row"
      }
     },
     "26076683c2a24e1daab10f433d75ef88": {
      "model_module": "@jupyter-widgets/controls",
      "model_module_version": "1.5.0",
      "model_name": "AccordionModel",
      "state": {
       "_titles": {
        "0": "Thermodynamic State",
        "1": "Flat Plate"
       },
       "children": [
        "IPY_MODEL_967eb9ea8bb746d8b184dd3ee4ff7802",
        "IPY_MODEL_4042b4ed2b254124993c1febe2e1c69e"
       ],
       "layout": "IPY_MODEL_cd6acce932ef48fe93a2c433e8296bda"
      }
     },
     "268f14c19a9748f1848a363ff8c243cc": {
      "model_module": "@jupyter-widgets/base",
      "model_module_version": "1.2.0",
      "model_name": "LayoutModel",
      "state": {
       "display": "flex",
       "flex_flow": "row"
      }
     },
     "26ea4c5b5e184da59c8038cd7dc78139": {
      "model_module": "@jupyter-widgets/controls",
      "model_module_version": "1.5.0",
      "model_name": "LabelModel",
      "state": {
       "layout": "IPY_MODEL_930fb0fa373f497fb4b5e4d286599c9f",
       "style": "IPY_MODEL_0aaeb87e15454ab2827c5ff6d0796073",
       "value": "Velocity in m/s:"
      }
     },
     "270efb87ded246e78455ccc8e03adfe6": {
      "model_module": "@jupyter-widgets/base",
      "model_module_version": "1.2.0",
      "model_name": "LayoutModel",
      "state": {
       "display": "flex",
       "flex_flow": "row"
      }
     },
     "27409dc7e87f40b6b2c7554e810ffddb": {
      "model_module": "@jupyter-widgets/base",
      "model_module_version": "1.2.0",
      "model_name": "LayoutModel",
      "state": {
       "flex": "10 1 auto",
       "width": "auto"
      }
     },
     "274a77da0c0449b4ade40c2f175eaca1": {
      "model_module": "@jupyter-widgets/base",
      "model_module_version": "1.2.0",
      "model_name": "LayoutModel",
      "state": {
       "flex": "10 1 auto",
       "width": "auto"
      }
     },
     "278207a1c9d8493d93e0ef3a4023932d": {
      "model_module": "@jupyter-widgets/controls",
      "model_module_version": "1.5.0",
      "model_name": "FloatSliderModel",
      "state": {
       "layout": "IPY_MODEL_b252b96deec1490c80823fdf9531f770",
       "max": 55,
       "min": -30,
       "readout": false,
       "style": "IPY_MODEL_d1b6b713d685425da90ebfcb6a8da8ec",
       "value": 20
      }
     },
     "278b639690f241d9b6cc2213aa4b32f4": {
      "model_module": "@jupyter-widgets/controls",
      "model_module_version": "1.5.0",
      "model_name": "BoundedFloatTextModel",
      "state": {
       "layout": "IPY_MODEL_e6c4f9348345469bb1e99aba9a362eb2",
       "max": 10,
       "min": 0.001,
       "step": 0.001,
       "style": "IPY_MODEL_a0077b1df8864874a6e1191a9bd6937f",
       "value": 0.1
      }
     },
     "27a040a3904a4f16be75879c9b32f4a6": {
      "model_module": "@jupyter-widgets/controls",
      "model_module_version": "1.5.0",
      "model_name": "AccordionModel",
      "state": {
       "_titles": {
        "0": "Thermodynamic State",
        "1": "Flat Plate"
       },
       "children": [
        "IPY_MODEL_c3d1b480c5854b8c871fa6321bfd6cc5",
        "IPY_MODEL_7de3acd7138342abad51725de791f230"
       ],
       "layout": "IPY_MODEL_2d1426d897ce496c8023c7196f023fe2"
      }
     },
     "27c4d05221124392b986c07ecd1e504c": {
      "model_module": "@jupyter-widgets/controls",
      "model_module_version": "1.5.0",
      "model_name": "LabelModel",
      "state": {
       "layout": "IPY_MODEL_eba98f7f56c847bcabf6bbaa4ec7dcb9",
       "style": "IPY_MODEL_41447fb98dc149f2a7aec8ae21564215",
       "value": "Temperature in °C:"
      }
     },
     "282fde11e4fc4cedbf703b022850a8d0": {
      "model_module": "@jupyter-widgets/base",
      "model_module_version": "1.2.0",
      "model_name": "LayoutModel",
      "state": {
       "flex": "1 1 auto",
       "width": "auto"
      }
     },
     "28306bf8fade441ca66fad7771746bac": {
      "model_module": "@jupyter-widgets/controls",
      "model_module_version": "1.5.0",
      "model_name": "BoundedFloatTextModel",
      "state": {
       "layout": "IPY_MODEL_8e42f8840fbe440c93a0faf217e3a722",
       "max": 55,
       "min": -30,
       "step": 1,
       "style": "IPY_MODEL_dfb1ed596fd24f10bc693719a92d625c",
       "value": 20
      }
     },
     "28a048c065e641e882ac4122eb2cbba3": {
      "model_module": "@jupyter-widgets/controls",
      "model_module_version": "1.5.0",
      "model_name": "HBoxModel",
      "state": {
       "children": [
        "IPY_MODEL_09c517d7eacf413fae617652c8ede62f",
        "IPY_MODEL_7c679976c13149888d11764476f1c33e",
        "IPY_MODEL_2e5af2653ac44484b65e5be32edcec82"
       ],
       "layout": "IPY_MODEL_db063d73fa6a4078bb11c2f8d3bec1a8"
      }
     },
     "28a1b744195f41b88c51a2200faae74c": {
      "model_module": "@jupyter-widgets/controls",
      "model_module_version": "1.5.0",
      "model_name": "DescriptionStyleModel",
      "state": {
       "description_width": ""
      }
     },
     "294e1b86e64b493fac26d5b8eecf0fd6": {
      "model_module": "@jupyter-widgets/base",
      "model_module_version": "1.2.0",
      "model_name": "LayoutModel",
      "state": {
       "display": "flex",
       "flex_flow": "row"
      }
     },
     "296c9dc5b4084a7e9df4e8b507359dc4": {
      "model_module": "@jupyter-widgets/controls",
      "model_module_version": "1.5.0",
      "model_name": "HBoxModel",
      "state": {
       "children": [
        "IPY_MODEL_d7cab04025114a7b97c490e88e153116",
        "IPY_MODEL_a42f9304600c490e96bb2121ff4aec77",
        "IPY_MODEL_278b639690f241d9b6cc2213aa4b32f4"
       ],
       "layout": "IPY_MODEL_239571de5e064cb281f0e4b5d36fd399"
      }
     },
     "29b1c89518e84836873278cb911ac7ef": {
      "model_module": "@jupyter-widgets/base",
      "model_module_version": "1.2.0",
      "model_name": "LayoutModel",
      "state": {
       "flex": "1 1 auto",
       "width": "auto"
      }
     },
     "29bd00599c3d4d678ec1a8ff13b68e2c": {
      "model_module": "@jupyter-widgets/base",
      "model_module_version": "1.2.0",
      "model_name": "LayoutModel",
      "state": {
       "display": "flex",
       "width": "100%"
      }
     },
     "2a18e276919247a0942c1ce42bb6be8a": {
      "model_module": "@jupyter-widgets/controls",
      "model_module_version": "1.5.0",
      "model_name": "VBoxModel",
      "state": {
       "children": [
        "IPY_MODEL_41ec3acb3f3146e7a8ce673a13526778",
        "IPY_MODEL_ff256e0473cd4a2c99266d9094709b45"
       ],
       "layout": "IPY_MODEL_9557fae34a3340dc9f36a679c72fe7cc"
      }
     },
     "2a711da41af149aaa069464ab8d14316": {
      "model_module": "@jupyter-widgets/base",
      "model_module_version": "1.2.0",
      "model_name": "LayoutModel",
      "state": {
       "flex": "1 1 auto",
       "width": "auto"
      }
     },
     "2a87b149a7ce4a5f86656166cc09ef8f": {
      "model_module": "@jupyter-widgets/controls",
      "model_module_version": "1.5.0",
      "model_name": "BoundedFloatTextModel",
      "state": {
       "layout": "IPY_MODEL_b956a80f475647c2b7ebcba1abd6ffb5",
       "max": 10,
       "min": 0.001,
       "step": 0.001,
       "style": "IPY_MODEL_672bf62934404117a258a966751ca554",
       "value": 0.1
      }
     },
     "2aaa73b757db49998ae45b7dbdeb35fd": {
      "model_module": "@jupyter-widgets/controls",
      "model_module_version": "1.5.0",
      "model_name": "DropdownModel",
      "state": {
       "_options_labels": [
        "1-Butene",
        "Acetone",
        "Air",
        "Ammonia",
        "Argon",
        "Benzene",
        "CarbonDioxide",
        "CarbonMonoxide",
        "CarbonylSulfide",
        "CycloHexane",
        "CycloPropane",
        "Cyclopentane",
        "D4",
        "D5",
        "D6",
        "Deuterium",
        "Dichloroethane",
        "DiethylEther",
        "DimethylCarbonate",
        "DimethylEther",
        "Ethane",
        "Ethanol",
        "EthylBenzene",
        "Ethylene",
        "EthyleneOxide",
        "Fluorine",
        "HFE143m",
        "HeavyWater",
        "Helium",
        "Hydrogen",
        "HydrogenChloride",
        "HydrogenSulfide",
        "IsoButane",
        "IsoButene",
        "Isohexane",
        "Isopentane",
        "Krypton",
        "MD2M",
        "MD3M",
        "MD4M",
        "MDM",
        "MM",
        "Methane",
        "Methanol",
        "MethylLinoleate",
        "MethylLinolenate",
        "MethylOleate",
        "MethylPalmitate",
        "MethylStearate",
        "Neon",
        "Neopentane",
        "Nitrogen",
        "NitrousOxide",
        "Novec649",
        "OrthoDeuterium",
        "OrthoHydrogen",
        "Oxygen",
        "ParaDeuterium",
        "ParaHydrogen",
        "Propylene",
        "Propyne",
        "R11",
        "R113",
        "R114",
        "R115",
        "R116",
        "R12",
        "R123",
        "R1233zd(E)",
        "R1234yf",
        "R1234ze(E)",
        "R1234ze(Z)",
        "R124",
        "R1243zf",
        "R125",
        "R13",
        "R134a",
        "R13I1",
        "R14",
        "R141b",
        "R142b",
        "R143a",
        "R152A",
        "R161",
        "R21",
        "R218",
        "R22",
        "R227EA",
        "R23",
        "R236EA",
        "R236FA",
        "R245ca",
        "R245fa",
        "R32",
        "R365MFC",
        "R40",
        "R404A",
        "R407C",
        "R41",
        "R410A",
        "R507A",
        "RC318",
        "SES36",
        "SulfurDioxide",
        "SulfurHexafluoride",
        "Toluene",
        "Water",
        "Xenon",
        "cis-2-Butene",
        "m-Xylene",
        "n-Butane",
        "n-Decane",
        "n-Dodecane",
        "n-Heptane",
        "n-Hexane",
        "n-Nonane",
        "n-Octane",
        "n-Pentane",
        "n-Propane",
        "n-Undecane",
        "o-Xylene",
        "p-Xylene",
        "trans-2-Butene"
       ],
       "index": 2,
       "layout": "IPY_MODEL_51e0742c75ad49f5b36c0af36d4b5f9e",
       "style": "IPY_MODEL_4d5ccd09f6124d93a251d8fbdc05671d"
      }
     },
     "2aaba1e93e8d49a0ac5aa5305912edc9": {
      "model_module": "@jupyter-widgets/controls",
      "model_module_version": "1.5.0",
      "model_name": "DropdownModel",
      "state": {
       "_options_labels": [
        "1-Butene",
        "Acetone",
        "Air",
        "Ammonia",
        "Argon",
        "Benzene",
        "CarbonDioxide",
        "CarbonMonoxide",
        "CarbonylSulfide",
        "CycloHexane",
        "CycloPropane",
        "Cyclopentane",
        "D4",
        "D5",
        "D6",
        "Deuterium",
        "Dichloroethane",
        "DiethylEther",
        "DimethylCarbonate",
        "DimethylEther",
        "Ethane",
        "Ethanol",
        "EthylBenzene",
        "Ethylene",
        "EthyleneOxide",
        "Fluorine",
        "HFE143m",
        "HeavyWater",
        "Helium",
        "Hydrogen",
        "HydrogenChloride",
        "HydrogenSulfide",
        "IsoButane",
        "IsoButene",
        "Isohexane",
        "Isopentane",
        "Krypton",
        "MD2M",
        "MD3M",
        "MD4M",
        "MDM",
        "MM",
        "Methane",
        "Methanol",
        "MethylLinoleate",
        "MethylLinolenate",
        "MethylOleate",
        "MethylPalmitate",
        "MethylStearate",
        "Neon",
        "Neopentane",
        "Nitrogen",
        "NitrousOxide",
        "Novec649",
        "OrthoDeuterium",
        "OrthoHydrogen",
        "Oxygen",
        "ParaDeuterium",
        "ParaHydrogen",
        "Propylene",
        "Propyne",
        "R11",
        "R113",
        "R114",
        "R115",
        "R116",
        "R12",
        "R123",
        "R1233zd(E)",
        "R1234yf",
        "R1234ze(E)",
        "R1234ze(Z)",
        "R124",
        "R1243zf",
        "R125",
        "R13",
        "R134a",
        "R13I1",
        "R14",
        "R141b",
        "R142b",
        "R143a",
        "R152A",
        "R161",
        "R21",
        "R218",
        "R22",
        "R227EA",
        "R23",
        "R236EA",
        "R236FA",
        "R245ca",
        "R245fa",
        "R32",
        "R365MFC",
        "R40",
        "R404A",
        "R407C",
        "R41",
        "R410A",
        "R507A",
        "RC318",
        "SES36",
        "SulfurDioxide",
        "SulfurHexafluoride",
        "Toluene",
        "Water",
        "Xenon",
        "cis-2-Butene",
        "m-Xylene",
        "n-Butane",
        "n-Decane",
        "n-Dodecane",
        "n-Heptane",
        "n-Hexane",
        "n-Nonane",
        "n-Octane",
        "n-Pentane",
        "n-Propane",
        "n-Undecane",
        "o-Xylene",
        "p-Xylene",
        "trans-2-Butene"
       ],
       "index": 2,
       "layout": "IPY_MODEL_e5a5bd1274864300a3be12f0ea0ff20a",
       "style": "IPY_MODEL_3a719d50747d4b7e97d21a18038ce2f8"
      }
     },
     "2ac041e76a31429e800264895d054e65": {
      "model_module": "@jupyter-widgets/base",
      "model_module_version": "1.2.0",
      "model_name": "LayoutModel",
      "state": {
       "flex": "1 1 auto",
       "width": "auto"
      }
     },
     "2ae5ebd07e7540fe99bfa6871202095e": {
      "model_module": "@jupyter-widgets/base",
      "model_module_version": "1.2.0",
      "model_name": "LayoutModel",
      "state": {
       "flex": "1 1 auto",
       "width": "auto"
      }
     },
     "2b094860a5dc4ff7b8dcf7908dee127a": {
      "model_module": "@jupyter-widgets/base",
      "model_module_version": "1.2.0",
      "model_name": "LayoutModel",
      "state": {}
     },
     "2b3364cc17d149c98cc44a68f0e9dc4d": {
      "model_module": "@jupyter-widgets/controls",
      "model_module_version": "1.5.0",
      "model_name": "DescriptionStyleModel",
      "state": {
       "description_width": ""
      }
     },
     "2bd2b960768747ab842d240b09879b1b": {
      "model_module": "@jupyter-widgets/base",
      "model_module_version": "1.2.0",
      "model_name": "LayoutModel",
      "state": {}
     },
     "2c0f93e275d34cf5b499ba98bfa98e5d": {
      "model_module": "@jupyter-widgets/base",
      "model_module_version": "1.2.0",
      "model_name": "LayoutModel",
      "state": {
       "flex": "10 1 auto",
       "width": "auto"
      }
     },
     "2c14464491f04bc988501618abedc396": {
      "model_module": "@jupyter-widgets/controls",
      "model_module_version": "1.5.0",
      "model_name": "BoundedFloatTextModel",
      "state": {
       "layout": "IPY_MODEL_49a067f25bd741e5867000d98f730df4",
       "max": 55,
       "min": -30,
       "step": 1,
       "style": "IPY_MODEL_2fc4486625ab47759f38a4b7e1850650",
       "value": 20
      }
     },
     "2c5b294c98e14b1a8985a80e73332810": {
      "model_module": "@jupyter-widgets/base",
      "model_module_version": "1.2.0",
      "model_name": "LayoutModel",
      "state": {}
     },
     "2cb210001136404983d9032dcf189b42": {
      "model_module": "@jupyter-widgets/controls",
      "model_module_version": "1.5.0",
      "model_name": "BoundedFloatTextModel",
      "state": {
       "layout": "IPY_MODEL_7a81cd612587459bae3027364e292fa4",
       "max": 10,
       "min": 0.001,
       "step": 0.001,
       "style": "IPY_MODEL_2eaf464116e046129bf05b565b8f319e",
       "value": 0.1
      }
     },
     "2cd7e4b4a6864f06a8b90beb2814d2ec": {
      "model_module": "@jupyter-widgets/controls",
      "model_module_version": "1.5.0",
      "model_name": "AccordionModel",
      "state": {
       "_titles": {
        "0": "Thermodynamic State",
        "1": "Flat Plate"
       },
       "children": [
        "IPY_MODEL_e7ce8ba482a04104ba3a4ce47dc9a57b",
        "IPY_MODEL_6450d49dd9c544af9a046a83d3844857"
       ],
       "layout": "IPY_MODEL_54a0ef7bf95044fbb1b2a539df037038"
      }
     },
     "2d1426d897ce496c8023c7196f023fe2": {
      "model_module": "@jupyter-widgets/base",
      "model_module_version": "1.2.0",
      "model_name": "LayoutModel",
      "state": {}
     },
     "2d6273954de640d3bdadaf4da21594f8": {
      "model_module": "@jupyter-widgets/controls",
      "model_module_version": "1.5.0",
      "model_name": "DescriptionStyleModel",
      "state": {
       "description_width": ""
      }
     },
     "2d7193358dd542af80ba17e640903186": {
      "model_module": "@jupyter-widgets/base",
      "model_module_version": "1.2.0",
      "model_name": "LayoutModel",
      "state": {
       "flex": "10 1 auto",
       "width": "auto"
      }
     },
     "2d8c3a8b78594495a99d8f1080978024": {
      "model_module": "@jupyter-widgets/controls",
      "model_module_version": "1.5.0",
      "model_name": "DescriptionStyleModel",
      "state": {
       "description_width": ""
      }
     },
     "2da759788c9b4bd9a2726bcc6360c3f6": {
      "model_module": "@jupyter-widgets/controls",
      "model_module_version": "1.5.0",
      "model_name": "LabelModel",
      "state": {
       "layout": "IPY_MODEL_40cbbbe767464a29bf96a081c8461526",
       "style": "IPY_MODEL_9d13b4e9cd12465b826a89686bbf6467",
       "value": "Gas / Specie Mixture:"
      }
     },
     "2ddb93f06df84b18b8a3a82535d9ab32": {
      "model_module": "@jupyter-widgets/controls",
      "model_module_version": "1.5.0",
      "model_name": "DescriptionStyleModel",
      "state": {
       "description_width": ""
      }
     },
     "2de19f2f7b6449e2b4df08d522e34fcc": {
      "model_module": "@jupyter-widgets/base",
      "model_module_version": "1.2.0",
      "model_name": "LayoutModel",
      "state": {}
     },
     "2e121da9de624deab0268d857bbf8a1b": {
      "model_module": "@jupyter-widgets/base",
      "model_module_version": "1.2.0",
      "model_name": "LayoutModel",
      "state": {
       "flex": "10 1 auto",
       "width": "auto"
      }
     },
     "2e3d3ebdbd5d4dc29811ceee90b9ac46": {
      "model_module": "@jupyter-widgets/controls",
      "model_module_version": "1.5.0",
      "model_name": "DropdownModel",
      "state": {
       "_options_labels": [
        "1-Butene",
        "Acetone",
        "Air",
        "Ammonia",
        "Argon",
        "Benzene",
        "CarbonDioxide",
        "CarbonMonoxide",
        "CarbonylSulfide",
        "CycloHexane",
        "CycloPropane",
        "Cyclopentane",
        "D4",
        "D5",
        "D6",
        "Deuterium",
        "Dichloroethane",
        "DiethylEther",
        "DimethylCarbonate",
        "DimethylEther",
        "Ethane",
        "Ethanol",
        "EthylBenzene",
        "Ethylene",
        "EthyleneOxide",
        "Fluorine",
        "HFE143m",
        "HeavyWater",
        "Helium",
        "Hydrogen",
        "HydrogenChloride",
        "HydrogenSulfide",
        "IsoButane",
        "IsoButene",
        "Isohexane",
        "Isopentane",
        "Krypton",
        "MD2M",
        "MD3M",
        "MD4M",
        "MDM",
        "MM",
        "Methane",
        "Methanol",
        "MethylLinoleate",
        "MethylLinolenate",
        "MethylOleate",
        "MethylPalmitate",
        "MethylStearate",
        "Neon",
        "Neopentane",
        "Nitrogen",
        "NitrousOxide",
        "Novec649",
        "OrthoDeuterium",
        "OrthoHydrogen",
        "Oxygen",
        "ParaDeuterium",
        "ParaHydrogen",
        "Propylene",
        "Propyne",
        "R11",
        "R113",
        "R114",
        "R115",
        "R116",
        "R12",
        "R123",
        "R1233zd(E)",
        "R1234yf",
        "R1234ze(E)",
        "R1234ze(Z)",
        "R124",
        "R1243zf",
        "R125",
        "R13",
        "R134a",
        "R13I1",
        "R14",
        "R141b",
        "R142b",
        "R143a",
        "R152A",
        "R161",
        "R21",
        "R218",
        "R22",
        "R227EA",
        "R23",
        "R236EA",
        "R236FA",
        "R245ca",
        "R245fa",
        "R32",
        "R365MFC",
        "R40",
        "R404A",
        "R407C",
        "R41",
        "R410A",
        "R507A",
        "RC318",
        "SES36",
        "SulfurDioxide",
        "SulfurHexafluoride",
        "Toluene",
        "Water",
        "Xenon",
        "cis-2-Butene",
        "m-Xylene",
        "n-Butane",
        "n-Decane",
        "n-Dodecane",
        "n-Heptane",
        "n-Hexane",
        "n-Nonane",
        "n-Octane",
        "n-Pentane",
        "n-Propane",
        "n-Undecane",
        "o-Xylene",
        "p-Xylene",
        "trans-2-Butene"
       ],
       "index": 2,
       "layout": "IPY_MODEL_f240532a1f0a43dbbfa737d4dacb8b94",
       "style": "IPY_MODEL_fb885fff30f14ce1a2c4e7a036f2a074"
      }
     },
     "2e5af2653ac44484b65e5be32edcec82": {
      "model_module": "@jupyter-widgets/controls",
      "model_module_version": "1.5.0",
      "model_name": "BoundedFloatTextModel",
      "state": {
       "layout": "IPY_MODEL_a5a5c083d7804fa4a316679b9f5ff4f1",
       "max": 55,
       "min": -30,
       "step": 1,
       "style": "IPY_MODEL_b5fcd078656d4624a8eaa281d23a0990",
       "value": 20
      }
     },
     "2ea7642c7a6144039b3e1a9c7667722f": {
      "model_module": "@jupyter-widgets/base",
      "model_module_version": "1.2.0",
      "model_name": "LayoutModel",
      "state": {
       "flex": "10 1 auto",
       "width": "auto"
      }
     },
     "2eaf464116e046129bf05b565b8f319e": {
      "model_module": "@jupyter-widgets/controls",
      "model_module_version": "1.5.0",
      "model_name": "DescriptionStyleModel",
      "state": {
       "description_width": ""
      }
     },
     "2ed53f7832194a7d9eed1ff21104e221": {
      "model_module": "@jupyter-widgets/base",
      "model_module_version": "1.2.0",
      "model_name": "LayoutModel",
      "state": {
       "display": "flex",
       "flex_flow": "row"
      }
     },
     "2f3c4dfa327444c2939cee9b15ddabc8": {
      "model_module": "@jupyter-widgets/base",
      "model_module_version": "1.2.0",
      "model_name": "LayoutModel",
      "state": {}
     },
     "2f7ed3b7b215479cb127d5cba9847995": {
      "model_module": "@jupyter-widgets/controls",
      "model_module_version": "1.5.0",
      "model_name": "DescriptionStyleModel",
      "state": {
       "description_width": ""
      }
     },
     "2fc4486625ab47759f38a4b7e1850650": {
      "model_module": "@jupyter-widgets/controls",
      "model_module_version": "1.5.0",
      "model_name": "DescriptionStyleModel",
      "state": {
       "description_width": ""
      }
     },
     "30102af7903542c8aa2db395c0f5f261": {
      "model_module": "@jupyter-widgets/base",
      "model_module_version": "1.2.0",
      "model_name": "LayoutModel",
      "state": {
       "display": "flex",
       "flex_flow": "row"
      }
     },
     "3028baac45dd4970808801b4ac321a94": {
      "model_module": "@jupyter-widgets/controls",
      "model_module_version": "1.5.0",
      "model_name": "BoundedFloatTextModel",
      "state": {
       "layout": "IPY_MODEL_5ff74f1ac31d408e9d57634493ba6253",
       "max": 10,
       "min": 0.001,
       "step": 0.001,
       "style": "IPY_MODEL_1e7300179522478fb4babdb22226aee1",
       "value": 0.1
      }
     },
     "3045fd5c720f4ee3be3f4f35a10f57be": {
      "model_module": "@jupyter-widgets/controls",
      "model_module_version": "1.5.0",
      "model_name": "HBoxModel",
      "state": {
       "children": [
        "IPY_MODEL_554bd3acd53f44e88ab842ce7e8634b6",
        "IPY_MODEL_6ff0f43aa0a54388b1f6f2e3023473d4",
        "IPY_MODEL_7e9013d635394458949e194c709fef63"
       ],
       "layout": "IPY_MODEL_4c938724cc474ebeafaf2b731dbf72d8"
      }
     },
     "3057628bb1584ddd91ea9f99093d3fad": {
      "model_module": "@jupyter-widgets/controls",
      "model_module_version": "1.5.0",
      "model_name": "DescriptionStyleModel",
      "state": {
       "description_width": ""
      }
     },
     "30bffee445ae435b8bbc41be7e8dd439": {
      "model_module": "@jupyter-widgets/controls",
      "model_module_version": "1.5.0",
      "model_name": "SliderStyleModel",
      "state": {
       "description_width": ""
      }
     },
     "30f9f9993c38404bbcff072a7abeea7e": {
      "model_module": "@jupyter-widgets/controls",
      "model_module_version": "1.5.0",
      "model_name": "AccordionModel",
      "state": {
       "_titles": {
        "0": "Thermodynamic State",
        "1": "Flat Plate"
       },
       "children": [
        "IPY_MODEL_bc74d6ea86b149b095e8833415837d13",
        "IPY_MODEL_5a3ebeb633174ab7951da297f31ed8f8"
       ],
       "layout": "IPY_MODEL_c3445da6be874d3ca367d449a34258cd"
      }
     },
     "3112fdf806c746a9ba3f8b766fb71c62": {
      "model_module": "@jupyter-widgets/base",
      "model_module_version": "1.2.0",
      "model_name": "LayoutModel",
      "state": {
       "flex": "1 1 auto",
       "width": "auto"
      }
     },
     "311bd1c88f774aceb9259c6aeb32e169": {
      "model_module": "@jupyter-widgets/controls",
      "model_module_version": "1.5.0",
      "model_name": "FloatSliderModel",
      "state": {
       "layout": "IPY_MODEL_1e7af9f2910141bf8e772f33716f967f",
       "max": 55,
       "min": -30,
       "readout": false,
       "style": "IPY_MODEL_a1973915e2784d19aeb0cf1cfee30dc1",
       "value": 20
      }
     },
     "3124420d3ab64cd1b2489ccce1fc31a5": {
      "model_module": "@jupyter-widgets/controls",
      "model_module_version": "1.5.0",
      "model_name": "LabelModel",
      "state": {
       "layout": "IPY_MODEL_59e40ffa5aba400ea8a1662f7f716210",
       "style": "IPY_MODEL_28a1b744195f41b88c51a2200faae74c",
       "value": "Velocity in m/s:"
      }
     },
     "312bafd0a34745ff853f1200d116fcec": {
      "model_module": "@jupyter-widgets/base",
      "model_module_version": "1.2.0",
      "model_name": "LayoutModel",
      "state": {
       "display": "flex",
       "width": "100%"
      }
     },
     "31412183232a4a3199ef69565ce0794a": {
      "model_module": "@jupyter-widgets/controls",
      "model_module_version": "1.5.0",
      "model_name": "DescriptionStyleModel",
      "state": {
       "description_width": ""
      }
     },
     "316da4425b274984bfb98e53af1b1467": {
      "model_module": "@jupyter-widgets/base",
      "model_module_version": "1.2.0",
      "model_name": "LayoutModel",
      "state": {
       "display": "flex",
       "width": "100%"
      }
     },
     "31d3f8bcfe51441d9c332b00c98c90cd": {
      "model_module": "@jupyter-widgets/controls",
      "model_module_version": "1.5.0",
      "model_name": "DescriptionStyleModel",
      "state": {
       "description_width": ""
      }
     },
     "3249076931d848b29a45f1a9d57b449f": {
      "model_module": "@jupyter-widgets/base",
      "model_module_version": "1.2.0",
      "model_name": "LayoutModel",
      "state": {
       "flex": "1 1 auto",
       "width": "auto"
      }
     },
     "324f6da229ac461485ed66c1dadaa8f5": {
      "model_module": "@jupyter-widgets/base",
      "model_module_version": "1.2.0",
      "model_name": "LayoutModel",
      "state": {}
     },
     "32ba8bc3bef8471d9e145133f05e9d4b": {
      "model_module": "@jupyter-widgets/output",
      "model_module_version": "1.0.0",
      "model_name": "OutputModel",
      "state": {
       "layout": "IPY_MODEL_74da8a0bd3d44039adc7d4a4161bb4ac"
      }
     },
     "32dde0ec93d74951bba6df79d2867516": {
      "model_module": "@jupyter-widgets/base",
      "model_module_version": "1.2.0",
      "model_name": "LayoutModel",
      "state": {
       "display": "flex",
       "width": "100%"
      }
     },
     "3321f47fd7f143328374be5a0ff3cab8": {
      "model_module": "@jupyter-widgets/controls",
      "model_module_version": "1.5.0",
      "model_name": "BoundedFloatTextModel",
      "state": {
       "layout": "IPY_MODEL_9fa58390906341109a7973ab0f22818a",
       "max": 200,
       "min": 0.001,
       "step": 0.001,
       "style": "IPY_MODEL_d18b9bfeac014bd6b9d662a31add5503",
       "value": 20
      }
     },
     "3324c76114864c408a0b723d8d78cdd9": {
      "model_module": "@jupyter-widgets/controls",
      "model_module_version": "1.5.0",
      "model_name": "LabelModel",
      "state": {
       "layout": "IPY_MODEL_3249076931d848b29a45f1a9d57b449f",
       "style": "IPY_MODEL_42fd251ece634b0a8819d1b8b18866e4",
       "value": "Velocity in m/s:"
      }
     },
     "3392ca87238c4666a250b4bea86053c0": {
      "model_module": "@jupyter-widgets/controls",
      "model_module_version": "1.5.0",
      "model_name": "DescriptionStyleModel",
      "state": {
       "description_width": ""
      }
     },
     "33bf8eb67718469f8b82fcd277fda3eb": {
      "model_module": "@jupyter-widgets/base",
      "model_module_version": "1.2.0",
      "model_name": "LayoutModel",
      "state": {}
     },
     "33d647ed25f44f94848fc5d78be255e0": {
      "model_module": "@jupyter-widgets/controls",
      "model_module_version": "1.5.0",
      "model_name": "FloatSliderModel",
      "state": {
       "layout": "IPY_MODEL_c1bf58d429964ef693cf2a9eaae9164e",
       "max": 15000000,
       "min": 1,
       "readout": false,
       "step": 100000,
       "style": "IPY_MODEL_3bbd056be37f42f6b6e37f1deb985ff5",
       "value": 101325
      }
     },
     "33f4ecc407124e79a329a3d8bcb99fbb": {
      "model_module": "@jupyter-widgets/controls",
      "model_module_version": "1.5.0",
      "model_name": "VBoxModel",
      "state": {
       "children": [
        "IPY_MODEL_519fc0d3aa3f40a9b623a8425924d866",
        "IPY_MODEL_0e60eef2dec4436aaca1341ab6d59e83"
       ],
       "layout": "IPY_MODEL_176f5dece09f4198a04bc18c3f9dd281"
      }
     },
     "34fabbc5bcc1470bbad1701519afc0bd": {
      "model_module": "@jupyter-widgets/base",
      "model_module_version": "1.2.0",
      "model_name": "LayoutModel",
      "state": {
       "display": "flex",
       "flex_flow": "row"
      }
     },
     "351bc9b2f9274228939a061dd1d0890b": {
      "model_module": "@jupyter-widgets/controls",
      "model_module_version": "1.5.0",
      "model_name": "LabelModel",
      "state": {
       "layout": "IPY_MODEL_910eab7b84b642faaef4ae283e9447c1",
       "style": "IPY_MODEL_7076032e695144e8b402e1fb65c77ca4",
       "value": "Pressure in Pa:"
      }
     },
     "3529c58a52544d58be63c44a1229a1c0": {
      "model_module": "@jupyter-widgets/base",
      "model_module_version": "1.2.0",
      "model_name": "LayoutModel",
      "state": {
       "flex": "1 1 auto",
       "width": "auto"
      }
     },
     "353bb34498d6415cb1fec9a433875d67": {
      "model_module": "@jupyter-widgets/controls",
      "model_module_version": "1.5.0",
      "model_name": "HBoxModel",
      "state": {
       "children": [
        "IPY_MODEL_fcb7bc3726e1462fac43b263723b42e3",
        "IPY_MODEL_14494f7846a441a3966229024b9c6015",
        "IPY_MODEL_d132974657f94a29b65169220970b362"
       ],
       "layout": "IPY_MODEL_1704a27cc40647d4ba63fa6e26e99938"
      }
     },
     "354c9417eba74bafa2bd220a551782ec": {
      "model_module": "@jupyter-widgets/controls",
      "model_module_version": "1.5.0",
      "model_name": "DescriptionStyleModel",
      "state": {
       "description_width": ""
      }
     },
     "3602eee9bbbf43e4ac4d421db6eb2242": {
      "model_module": "@jupyter-widgets/controls",
      "model_module_version": "1.5.0",
      "model_name": "DescriptionStyleModel",
      "state": {
       "description_width": ""
      }
     },
     "361442fdc3b449fbb118293b2125f0db": {
      "model_module": "@jupyter-widgets/base",
      "model_module_version": "1.2.0",
      "model_name": "LayoutModel",
      "state": {
       "display": "flex",
       "flex_flow": "row"
      }
     },
     "3616c6643875453c84c5711ea88cabe7": {
      "model_module": "@jupyter-widgets/base",
      "model_module_version": "1.2.0",
      "model_name": "LayoutModel",
      "state": {
       "flex": "1 1 auto",
       "width": "auto"
      }
     },
     "36d68c069d5943b5b8323ac9a7a362da": {
      "model_module": "@jupyter-widgets/base",
      "model_module_version": "1.2.0",
      "model_name": "LayoutModel",
      "state": {}
     },
     "38007e30713e4cfbad01e5ae34b28d75": {
      "model_module": "@jupyter-widgets/controls",
      "model_module_version": "1.5.0",
      "model_name": "LabelModel",
      "state": {
       "layout": "IPY_MODEL_3c686d2220454d44a4d972b7a59d619e",
       "style": "IPY_MODEL_baa649f4475f4631b59270d608e4017b",
       "value": "Gas / Specie Mixture:"
      }
     },
     "383f8ce118c54a3bbf7dda77589d622e": {
      "model_module": "@jupyter-widgets/controls",
      "model_module_version": "1.5.0",
      "model_name": "BoundedFloatTextModel",
      "state": {
       "layout": "IPY_MODEL_6d37f5766d1a4e9c88e965852bad6b4c",
       "max": 15000000,
       "min": 1,
       "step": 100000,
       "style": "IPY_MODEL_2d8c3a8b78594495a99d8f1080978024",
       "value": 101325
      }
     },
     "385b628775864537af30526a65d65f4e": {
      "model_module": "@jupyter-widgets/base",
      "model_module_version": "1.2.0",
      "model_name": "LayoutModel",
      "state": {
       "flex": "1 1 auto",
       "width": "auto"
      }
     },
     "38a29bb45d2241688586052af09156c0": {
      "model_module": "@jupyter-widgets/controls",
      "model_module_version": "1.5.0",
      "model_name": "SliderStyleModel",
      "state": {
       "description_width": ""
      }
     },
     "38c61091c0ab4ee1b09ecbf734004d53": {
      "model_module": "@jupyter-widgets/base",
      "model_module_version": "1.2.0",
      "model_name": "LayoutModel",
      "state": {
       "flex": "1 1 auto",
       "width": "auto"
      }
     },
     "38c86e5c29f04a748c9db5755f3e5a1a": {
      "model_module": "@jupyter-widgets/controls",
      "model_module_version": "1.5.0",
      "model_name": "FloatSliderModel",
      "state": {
       "layout": "IPY_MODEL_ef238e841f38492899fee8ea1e515b69",
       "max": 15000000,
       "min": 1,
       "readout": false,
       "step": 100000,
       "style": "IPY_MODEL_0124341ed41c43e3ad2fcb0035e93340",
       "value": 101325
      }
     },
     "393b5bece26049529d0a673766708686": {
      "model_module": "@jupyter-widgets/output",
      "model_module_version": "1.0.0",
      "model_name": "OutputModel",
      "state": {
       "layout": "IPY_MODEL_096c7543e08945b5965bb5352cfe883a"
      }
     },
     "3a2c43234ce547ef86250a437d70df50": {
      "model_module": "@jupyter-widgets/base",
      "model_module_version": "1.2.0",
      "model_name": "LayoutModel",
      "state": {}
     },
     "3a66645c6dd640ffa2c4ea53196b95f7": {
      "model_module": "@jupyter-widgets/controls",
      "model_module_version": "1.5.0",
      "model_name": "DropdownModel",
      "state": {
       "_options_labels": [
        "1-Butene",
        "Acetone",
        "Air",
        "Ammonia",
        "Argon",
        "Benzene",
        "CarbonDioxide",
        "CarbonMonoxide",
        "CarbonylSulfide",
        "CycloHexane",
        "CycloPropane",
        "Cyclopentane",
        "D4",
        "D5",
        "D6",
        "Deuterium",
        "Dichloroethane",
        "DiethylEther",
        "DimethylCarbonate",
        "DimethylEther",
        "Ethane",
        "Ethanol",
        "EthylBenzene",
        "Ethylene",
        "EthyleneOxide",
        "Fluorine",
        "HFE143m",
        "HeavyWater",
        "Helium",
        "Hydrogen",
        "HydrogenChloride",
        "HydrogenSulfide",
        "IsoButane",
        "IsoButene",
        "Isohexane",
        "Isopentane",
        "Krypton",
        "MD2M",
        "MD3M",
        "MD4M",
        "MDM",
        "MM",
        "Methane",
        "Methanol",
        "MethylLinoleate",
        "MethylLinolenate",
        "MethylOleate",
        "MethylPalmitate",
        "MethylStearate",
        "Neon",
        "Neopentane",
        "Nitrogen",
        "NitrousOxide",
        "Novec649",
        "OrthoDeuterium",
        "OrthoHydrogen",
        "Oxygen",
        "ParaDeuterium",
        "ParaHydrogen",
        "Propylene",
        "Propyne",
        "R11",
        "R113",
        "R114",
        "R115",
        "R116",
        "R12",
        "R123",
        "R1233zd(E)",
        "R1234yf",
        "R1234ze(E)",
        "R1234ze(Z)",
        "R124",
        "R1243zf",
        "R125",
        "R13",
        "R134a",
        "R13I1",
        "R14",
        "R141b",
        "R142b",
        "R143a",
        "R152A",
        "R161",
        "R21",
        "R218",
        "R22",
        "R227EA",
        "R23",
        "R236EA",
        "R236FA",
        "R245ca",
        "R245fa",
        "R32",
        "R365MFC",
        "R40",
        "R404A",
        "R407C",
        "R41",
        "R410A",
        "R507A",
        "RC318",
        "SES36",
        "SulfurDioxide",
        "SulfurHexafluoride",
        "Toluene",
        "Water",
        "Xenon",
        "cis-2-Butene",
        "m-Xylene",
        "n-Butane",
        "n-Decane",
        "n-Dodecane",
        "n-Heptane",
        "n-Hexane",
        "n-Nonane",
        "n-Octane",
        "n-Pentane",
        "n-Propane",
        "n-Undecane",
        "o-Xylene",
        "p-Xylene",
        "trans-2-Butene"
       ],
       "index": 2,
       "layout": "IPY_MODEL_0aa39d221fe34ebebd2902e65c32e07a",
       "style": "IPY_MODEL_de663a57a15f42d9ab09bf4ea60a5f71"
      }
     },
     "3a719d50747d4b7e97d21a18038ce2f8": {
      "model_module": "@jupyter-widgets/controls",
      "model_module_version": "1.5.0",
      "model_name": "DescriptionStyleModel",
      "state": {
       "description_width": ""
      }
     },
     "3b05f56fbfea47c083c0518103878f81": {
      "model_module": "@jupyter-widgets/controls",
      "model_module_version": "1.5.0",
      "model_name": "FloatSliderModel",
      "state": {
       "layout": "IPY_MODEL_23c96e6ff6564b7ba9cd8a653c767528",
       "max": 15000000,
       "min": 1,
       "readout": false,
       "step": 100000,
       "style": "IPY_MODEL_562d7afb06cc49408050e704715b3ec7",
       "value": 101325
      }
     },
     "3bbd056be37f42f6b6e37f1deb985ff5": {
      "model_module": "@jupyter-widgets/controls",
      "model_module_version": "1.5.0",
      "model_name": "SliderStyleModel",
      "state": {
       "description_width": ""
      }
     },
     "3bfac8db05794e52b24233437ffc4d53": {
      "model_module": "@jupyter-widgets/base",
      "model_module_version": "1.2.0",
      "model_name": "LayoutModel",
      "state": {
       "flex": "1 1 auto",
       "width": "auto"
      }
     },
     "3c0108dbf14340eeb3f23f8a0782d40c": {
      "model_module": "@jupyter-widgets/base",
      "model_module_version": "1.2.0",
      "model_name": "LayoutModel",
      "state": {
       "display": "flex",
       "min_height": "300px",
       "width": "100%"
      }
     },
     "3c23bb86d5164978b706807acf044d71": {
      "model_module": "@jupyter-widgets/controls",
      "model_module_version": "1.5.0",
      "model_name": "LabelModel",
      "state": {
       "layout": "IPY_MODEL_b9069d067eec42bab0e52acdcff5e242",
       "style": "IPY_MODEL_3057628bb1584ddd91ea9f99093d3fad",
       "value": "Pressure in Pa:"
      }
     },
     "3c686d2220454d44a4d972b7a59d619e": {
      "model_module": "@jupyter-widgets/base",
      "model_module_version": "1.2.0",
      "model_name": "LayoutModel",
      "state": {}
     },
     "3cd2eb70de5945c0ad1d76d3c2e3f113": {
      "model_module": "@jupyter-widgets/controls",
      "model_module_version": "1.5.0",
      "model_name": "DescriptionStyleModel",
      "state": {
       "description_width": ""
      }
     },
     "3d4fa2aeb75944cbacd75569c0eabfa0": {
      "model_module": "@jupyter-widgets/controls",
      "model_module_version": "1.5.0",
      "model_name": "DescriptionStyleModel",
      "state": {
       "description_width": ""
      }
     },
     "3d60f5c9a9af431a9d4d40b28abe64ae": {
      "model_module": "@jupyter-widgets/base",
      "model_module_version": "1.2.0",
      "model_name": "LayoutModel",
      "state": {
       "display": "flex",
       "flex_flow": "row"
      }
     },
     "3e74ef22a1cd4706bea7e148f81e2cd9": {
      "model_module": "@jupyter-widgets/controls",
      "model_module_version": "1.5.0",
      "model_name": "SliderStyleModel",
      "state": {
       "description_width": ""
      }
     },
     "3f29288408584d8d92ee42af955aaf25": {
      "model_module": "@jupyter-widgets/base",
      "model_module_version": "1.2.0",
      "model_name": "LayoutModel",
      "state": {
       "flex": "1 1 auto",
       "width": "auto"
      }
     },
     "3f84c6e9ae4843acbacc7f50414194cf": {
      "model_module": "@jupyter-widgets/base",
      "model_module_version": "1.2.0",
      "model_name": "LayoutModel",
      "state": {
       "display": "flex",
       "width": "100%"
      }
     },
     "3f86aedac1554d2690ff592ee5fb0f2d": {
      "model_module": "@jupyter-widgets/base",
      "model_module_version": "1.2.0",
      "model_name": "LayoutModel",
      "state": {
       "flex": "10 1 auto",
       "width": "auto"
      }
     },
     "3fbc15fe717d46eabaa6ba60e10d81a5": {
      "model_module": "@jupyter-widgets/controls",
      "model_module_version": "1.5.0",
      "model_name": "VBoxModel",
      "state": {
       "children": [
        "IPY_MODEL_aac8b9b5f7484782a509b0ff22353fa5",
        "IPY_MODEL_353bb34498d6415cb1fec9a433875d67"
       ],
       "layout": "IPY_MODEL_2f3c4dfa327444c2939cee9b15ddabc8"
      }
     },
     "3fe2036fb09a4411b10648767ebd2866": {
      "model_module": "@jupyter-widgets/controls",
      "model_module_version": "1.5.0",
      "model_name": "SliderStyleModel",
      "state": {
       "description_width": ""
      }
     },
     "3fe4bc8b18ea4ea0b1beef1d9bd79bd6": {
      "model_module": "@jupyter-widgets/controls",
      "model_module_version": "1.5.0",
      "model_name": "SliderStyleModel",
      "state": {
       "description_width": ""
      }
     },
     "4042b4ed2b254124993c1febe2e1c69e": {
      "model_module": "@jupyter-widgets/controls",
      "model_module_version": "1.5.0",
      "model_name": "VBoxModel",
      "state": {
       "children": [
        "IPY_MODEL_2469b384a4f44a3ca7a9d9754f469099",
        "IPY_MODEL_0a5123d89632414fb35d29cc6fc33466"
       ],
       "layout": "IPY_MODEL_8ededc9fabef4a7b9fe0c2b2b77b11b6"
      }
     },
     "40cbbbe767464a29bf96a081c8461526": {
      "model_module": "@jupyter-widgets/base",
      "model_module_version": "1.2.0",
      "model_name": "LayoutModel",
      "state": {}
     },
     "41290d227e194bb594c6cc0a37182dd1": {
      "model_module": "@jupyter-widgets/controls",
      "model_module_version": "1.5.0",
      "model_name": "DescriptionStyleModel",
      "state": {
       "description_width": ""
      }
     },
     "41447fb98dc149f2a7aec8ae21564215": {
      "model_module": "@jupyter-widgets/controls",
      "model_module_version": "1.5.0",
      "model_name": "DescriptionStyleModel",
      "state": {
       "description_width": ""
      }
     },
     "415f0b66aa4e4f6a96bc0a995d749c73": {
      "model_module": "@jupyter-widgets/controls",
      "model_module_version": "1.5.0",
      "model_name": "DescriptionStyleModel",
      "state": {
       "description_width": ""
      }
     },
     "41bcbf2a64824facaa3973f9ea9065b6": {
      "model_module": "@jupyter-widgets/base",
      "model_module_version": "1.2.0",
      "model_name": "LayoutModel",
      "state": {
       "flex": "10 1 auto",
       "width": "auto"
      }
     },
     "41ec3acb3f3146e7a8ce673a13526778": {
      "model_module": "@jupyter-widgets/controls",
      "model_module_version": "1.5.0",
      "model_name": "HBoxModel",
      "state": {
       "children": [
        "IPY_MODEL_a73142ad957e4ba6b740f719955261f1",
        "IPY_MODEL_e24b3155a2044ec8b34bd62778577ac1",
        "IPY_MODEL_53b55d40a9dd4fc6bef0b08a80b92a0a"
       ],
       "layout": "IPY_MODEL_b7b9154dd9a64c09ba4583f4adabf6d5"
      }
     },
     "41ffdc3f02aa4d17a38bb86811cf9346": {
      "model_module": "@jupyter-widgets/controls",
      "model_module_version": "1.5.0",
      "model_name": "LabelModel",
      "state": {
       "layout": "IPY_MODEL_96eb74f10a3246c592b7b82a0cdd89f1",
       "style": "IPY_MODEL_86b1585bacb0476db25edb5d37230b50",
       "value": "Platelength in m"
      }
     },
     "42fd251ece634b0a8819d1b8b18866e4": {
      "model_module": "@jupyter-widgets/controls",
      "model_module_version": "1.5.0",
      "model_name": "DescriptionStyleModel",
      "state": {
       "description_width": ""
      }
     },
     "4329f37e474745dab17d8f69ddae8cc9": {
      "model_module": "@jupyter-widgets/controls",
      "model_module_version": "1.5.0",
      "model_name": "DescriptionStyleModel",
      "state": {
       "description_width": ""
      }
     },
     "435e2c1dedfb4d43bc7a96e8da2f7faf": {
      "model_module": "@jupyter-widgets/base",
      "model_module_version": "1.2.0",
      "model_name": "LayoutModel",
      "state": {
       "flex": "10 1 auto",
       "width": "auto"
      }
     },
     "438779b9f3d242ac85e67204fbb696c1": {
      "model_module": "@jupyter-widgets/base",
      "model_module_version": "1.2.0",
      "model_name": "LayoutModel",
      "state": {
       "display": "flex",
       "width": "100%"
      }
     },
     "43998be58926472baef120daa3da716d": {
      "model_module": "@jupyter-widgets/controls",
      "model_module_version": "1.5.0",
      "model_name": "HBoxModel",
      "state": {
       "children": [
        "IPY_MODEL_838ae577ec4646e582ef17a86ca43fa2",
        "IPY_MODEL_c6578f17e799461caecf8a781a94ac50",
        "IPY_MODEL_d09af0d109994accbc71099e8b5bde72"
       ],
       "layout": "IPY_MODEL_a0fb72705674438aa39d550731d2761a"
      }
     },
     "43c0a7b362444cbfa7c94fe7692ffcd3": {
      "model_module": "@jupyter-widgets/base",
      "model_module_version": "1.2.0",
      "model_name": "LayoutModel",
      "state": {
       "flex": "10 1 auto",
       "width": "auto"
      }
     },
     "4459602346bb44d5ab5d8cd39f74ba8e": {
      "model_module": "@jupyter-widgets/base",
      "model_module_version": "1.2.0",
      "model_name": "LayoutModel",
      "state": {}
     },
     "44656b38879c47708ef42d2a50abcd6d": {
      "model_module": "@jupyter-widgets/controls",
      "model_module_version": "1.5.0",
      "model_name": "FloatSliderModel",
      "state": {
       "layout": "IPY_MODEL_9f5bdfc9cc1e4d9a9ead05bca642e699",
       "max": 200,
       "min": 0.001,
       "readout": false,
       "step": 0.001,
       "style": "IPY_MODEL_ff7d45d33a0d41cbb6266d081a68098f",
       "value": 20
      }
     },
     "458ac584379941128e9d828e855881d7": {
      "model_module": "@jupyter-widgets/controls",
      "model_module_version": "1.5.0",
      "model_name": "FloatSliderModel",
      "state": {
       "layout": "IPY_MODEL_aeb8eef406564adf8c9b29f6f96cb7d7",
       "max": 10,
       "min": 0.001,
       "readout": false,
       "step": 0.001,
       "style": "IPY_MODEL_962c2f952bac459297fc9fb1a9ebad95",
       "value": 0.1
      }
     },
     "45b961c94bf24c608a78266d64837dcd": {
      "model_module": "@jupyter-widgets/base",
      "model_module_version": "1.2.0",
      "model_name": "LayoutModel",
      "state": {
       "display": "flex",
       "min_height": "300px",
       "width": "100%"
      }
     },
     "45e065633f574b569cbd721ceaf106fc": {
      "model_module": "@jupyter-widgets/base",
      "model_module_version": "1.2.0",
      "model_name": "LayoutModel",
      "state": {
       "display": "flex",
       "width": "100%"
      }
     },
     "460ba90c6da34caa9476b0ca10802292": {
      "model_module": "@jupyter-widgets/base",
      "model_module_version": "1.2.0",
      "model_name": "LayoutModel",
      "state": {
       "flex": "1 1 auto",
       "width": "auto"
      }
     },
     "465a3dbaeba64682be734a055df38b23": {
      "model_module": "@jupyter-widgets/controls",
      "model_module_version": "1.5.0",
      "model_name": "SliderStyleModel",
      "state": {
       "description_width": ""
      }
     },
     "46d04b7fa00142e889fe38f31be98e42": {
      "model_module": "@jupyter-widgets/controls",
      "model_module_version": "1.5.0",
      "model_name": "AccordionModel",
      "state": {
       "_titles": {
        "0": "Thermodynamic State",
        "1": "Flat Plate"
       },
       "children": [
        "IPY_MODEL_c78e31daa2f84489b0ca0847cd40c935",
        "IPY_MODEL_e041aafd1bd440b1b5d38d64e3e7f65b"
       ],
       "layout": "IPY_MODEL_8b3946f3db2b493eaf0e444ed178824c"
      }
     },
     "47389d635f7b4bde90a3d1e383d49b1a": {
      "model_module": "@jupyter-widgets/controls",
      "model_module_version": "1.5.0",
      "model_name": "AccordionModel",
      "state": {
       "_titles": {
        "0": "Thermodynamic State",
        "1": "Flat Plate"
       },
       "children": [
        "IPY_MODEL_4e8ff89afa014816aa66a0e3fee0e03d",
        "IPY_MODEL_ad634a25b44d4064993670d92432f641"
       ],
       "layout": "IPY_MODEL_67c64a19de0a40a1a1de92909b8d44c6"
      }
     },
     "47baae1f11c7423f8692d880effa34a1": {
      "model_module": "@jupyter-widgets/controls",
      "model_module_version": "1.5.0",
      "model_name": "BoundedFloatTextModel",
      "state": {
       "layout": "IPY_MODEL_282fde11e4fc4cedbf703b022850a8d0",
       "max": 15000000,
       "min": 1,
       "step": 100000,
       "style": "IPY_MODEL_76a118d690f64860bc7b8b536bb5d73c",
       "value": 101325
      }
     },
     "47bacb53654549448ac8b9df6b11bf49": {
      "model_module": "@jupyter-widgets/base",
      "model_module_version": "1.2.0",
      "model_name": "LayoutModel",
      "state": {
       "display": "flex",
       "flex_flow": "row"
      }
     },
     "47c1ffa40812448da05f998c9a54ce92": {
      "model_module": "@jupyter-widgets/controls",
      "model_module_version": "1.5.0",
      "model_name": "DescriptionStyleModel",
      "state": {
       "description_width": ""
      }
     },
     "47e346c6941142598ee8bb29f3d92bec": {
      "model_module": "@jupyter-widgets/base",
      "model_module_version": "1.2.0",
      "model_name": "LayoutModel",
      "state": {
       "display": "flex",
       "flex_flow": "row"
      }
     },
     "48135822651b496697f885807b43649f": {
      "model_module": "@jupyter-widgets/base",
      "model_module_version": "1.2.0",
      "model_name": "LayoutModel",
      "state": {
       "display": "flex",
       "width": "100%"
      }
     },
     "4829885b68314823a91e0de5a529aff9": {
      "model_module": "@jupyter-widgets/controls",
      "model_module_version": "1.5.0",
      "model_name": "DescriptionStyleModel",
      "state": {
       "description_width": ""
      }
     },
     "48c6f532b058490fa187259d9513dadc": {
      "model_module": "@jupyter-widgets/output",
      "model_module_version": "1.0.0",
      "model_name": "OutputModel",
      "state": {
       "layout": "IPY_MODEL_9fc483d3a6bb44d194e4a392073d3fee"
      }
     },
     "49a067f25bd741e5867000d98f730df4": {
      "model_module": "@jupyter-widgets/base",
      "model_module_version": "1.2.0",
      "model_name": "LayoutModel",
      "state": {
       "flex": "1 1 auto",
       "width": "auto"
      }
     },
     "49b1f4378681417d9515a5ed16080a22": {
      "model_module": "@jupyter-widgets/base",
      "model_module_version": "1.2.0",
      "model_name": "LayoutModel",
      "state": {}
     },
     "49c0ce94738844b1aaf9af00e6c7d967": {
      "model_module": "@jupyter-widgets/base",
      "model_module_version": "1.2.0",
      "model_name": "LayoutModel",
      "state": {}
     },
     "49e8b2a178f6412ca403badd5d3dee57": {
      "model_module": "@jupyter-widgets/controls",
      "model_module_version": "1.5.0",
      "model_name": "DescriptionStyleModel",
      "state": {
       "description_width": ""
      }
     },
     "49ec000287144863812cfd2a4b145c08": {
      "model_module": "@jupyter-widgets/base",
      "model_module_version": "1.2.0",
      "model_name": "LayoutModel",
      "state": {
       "flex": "10 1 auto",
       "width": "auto"
      }
     },
     "4a0d66cf55a6405f8e2e836443f587d8": {
      "model_module": "@jupyter-widgets/base",
      "model_module_version": "1.2.0",
      "model_name": "LayoutModel",
      "state": {
       "display": "flex",
       "width": "100%"
      }
     },
     "4a3f15dab85148d3935bf2a2c246b980": {
      "model_module": "@jupyter-widgets/controls",
      "model_module_version": "1.5.0",
      "model_name": "FloatSliderModel",
      "state": {
       "layout": "IPY_MODEL_0a8481f1d72d4795ac552330a902eb6c",
       "max": 15000000,
       "min": 1,
       "readout": false,
       "step": 100000,
       "style": "IPY_MODEL_ab7de6f3fbff4dcdbbfbae1f6ac2e252",
       "value": 101325
      }
     },
     "4a933538b2584e8db81a461b8f2c4a74": {
      "model_module": "@jupyter-widgets/base",
      "model_module_version": "1.2.0",
      "model_name": "LayoutModel",
      "state": {
       "flex": "1 1 auto",
       "width": "auto"
      }
     },
     "4ab9d6a61bcb464e99ff3278be011c08": {
      "model_module": "@jupyter-widgets/controls",
      "model_module_version": "1.5.0",
      "model_name": "BoundedFloatTextModel",
      "state": {
       "layout": "IPY_MODEL_1c4469de4add433284e37e468fb79c25",
       "max": 15000000,
       "min": 1,
       "step": 100000,
       "style": "IPY_MODEL_0252eb00f14b4558919a25c4a53bf8d3",
       "value": 101325
      }
     },
     "4aded113fb494d9e8cadd470da654b32": {
      "model_module": "@jupyter-widgets/base",
      "model_module_version": "1.2.0",
      "model_name": "LayoutModel",
      "state": {}
     },
     "4afa7cab1ac7473a85ba7716fa316ce0": {
      "model_module": "@jupyter-widgets/controls",
      "model_module_version": "1.5.0",
      "model_name": "HBoxModel",
      "state": {
       "children": [
        "IPY_MODEL_f03b980117624f46ae06e6fa66a1f965",
        "IPY_MODEL_3b05f56fbfea47c083c0518103878f81",
        "IPY_MODEL_e0426f4d3b334d05aa90f138daff4b39"
       ],
       "layout": "IPY_MODEL_f3cc1458316b4b1a865834ade3461af9"
      }
     },
     "4b1e27e0a0354c1d882014d7dd3576a0": {
      "model_module": "@jupyter-widgets/base",
      "model_module_version": "1.2.0",
      "model_name": "LayoutModel",
      "state": {}
     },
     "4b34a343518044f7a15f16e466798fc7": {
      "model_module": "@jupyter-widgets/base",
      "model_module_version": "1.2.0",
      "model_name": "LayoutModel",
      "state": {
       "flex": "1 1 auto",
       "width": "auto"
      }
     },
     "4b610652128d4df086a0a5d87cee450b": {
      "model_module": "@jupyter-widgets/controls",
      "model_module_version": "1.5.0",
      "model_name": "AccordionModel",
      "state": {
       "_titles": {
        "0": "Thermodynamic State",
        "1": "Flat Plate"
       },
       "children": [
        "IPY_MODEL_864714c27c984323ad2085dad44c07bb",
        "IPY_MODEL_d57719413ad947d49c920c13dbae1c29"
       ],
       "layout": "IPY_MODEL_863c799d6bb94e49a398fade48d7a696"
      }
     },
     "4bb49fd8bf4f49378d7603b2dbb36e6b": {
      "model_module": "@jupyter-widgets/controls",
      "model_module_version": "1.5.0",
      "model_name": "SliderStyleModel",
      "state": {
       "description_width": ""
      }
     },
     "4c938724cc474ebeafaf2b731dbf72d8": {
      "model_module": "@jupyter-widgets/base",
      "model_module_version": "1.2.0",
      "model_name": "LayoutModel",
      "state": {
       "display": "flex",
       "width": "100%"
      }
     },
     "4cbc245f17644fc1b7ba79be7f4493ac": {
      "model_module": "@jupyter-widgets/controls",
      "model_module_version": "1.5.0",
      "model_name": "FloatSliderModel",
      "state": {
       "layout": "IPY_MODEL_c0cdb690aabc4f2fbd6adc5554cee05a",
       "max": 10,
       "min": 0.001,
       "readout": false,
       "step": 0.001,
       "style": "IPY_MODEL_30bffee445ae435b8bbc41be7e8dd439",
       "value": 0.1
      }
     },
     "4ceac90f4b6b4fa1ac76d0699ace0be5": {
      "model_module": "@jupyter-widgets/base",
      "model_module_version": "1.2.0",
      "model_name": "LayoutModel",
      "state": {
       "flex": "1 1 auto",
       "width": "auto"
      }
     },
     "4d26598561ae428c87f88f4435cb8ef0": {
      "model_module": "@jupyter-widgets/base",
      "model_module_version": "1.2.0",
      "model_name": "LayoutModel",
      "state": {
       "display": "flex",
       "width": "100%"
      }
     },
     "4d463214146347b38d44a7a0d735b969": {
      "model_module": "@jupyter-widgets/base",
      "model_module_version": "1.2.0",
      "model_name": "LayoutModel",
      "state": {
       "flex": "10 1 auto",
       "width": "auto"
      }
     },
     "4d4684d2847640b6a8c11f0e97febb43": {
      "model_module": "@jupyter-widgets/base",
      "model_module_version": "1.2.0",
      "model_name": "LayoutModel",
      "state": {
       "display": "flex",
       "width": "100%"
      }
     },
     "4d5ccd09f6124d93a251d8fbdc05671d": {
      "model_module": "@jupyter-widgets/controls",
      "model_module_version": "1.5.0",
      "model_name": "DescriptionStyleModel",
      "state": {
       "description_width": ""
      }
     },
     "4d9a65e729d744a09c51bfc141c1dbc3": {
      "model_module": "@jupyter-widgets/base",
      "model_module_version": "1.2.0",
      "model_name": "LayoutModel",
      "state": {
       "flex": "1 1 auto",
       "width": "auto"
      }
     },
     "4da13c9d8d404693aef6a78f36404bfa": {
      "model_module": "@jupyter-widgets/base",
      "model_module_version": "1.2.0",
      "model_name": "LayoutModel",
      "state": {
       "flex": "1 1 auto",
       "width": "auto"
      }
     },
     "4e007841965f4c4fa1166de3f783eb8a": {
      "model_module": "@jupyter-widgets/base",
      "model_module_version": "1.2.0",
      "model_name": "LayoutModel",
      "state": {
       "flex": "1 1 auto",
       "width": "auto"
      }
     },
     "4e1c7ff0258f4688acbb46c3b3882bec": {
      "model_module": "@jupyter-widgets/controls",
      "model_module_version": "1.5.0",
      "model_name": "BoundedFloatTextModel",
      "state": {
       "layout": "IPY_MODEL_e59f6c62d4294b0b8158f0d4b92cbff1",
       "max": 55,
       "min": -30,
       "step": 1,
       "style": "IPY_MODEL_2d6273954de640d3bdadaf4da21594f8",
       "value": 20
      }
     },
     "4e61d046b7114f4db002caa21900b9c1": {
      "model_module": "@jupyter-widgets/controls",
      "model_module_version": "1.5.0",
      "model_name": "FloatSliderModel",
      "state": {
       "layout": "IPY_MODEL_a5142188afbd4d2c80eb1573a731972a",
       "max": 200,
       "min": 0.001,
       "readout": false,
       "step": 0.001,
       "style": "IPY_MODEL_8deb4ba4bee049f9a93651f47dcec886",
       "value": 20
      }
     },
     "4e8ff89afa014816aa66a0e3fee0e03d": {
      "model_module": "@jupyter-widgets/controls",
      "model_module_version": "1.5.0",
      "model_name": "VBoxModel",
      "state": {
       "children": [
        "IPY_MODEL_5a83899f9b954c91b383e6a2e2b4a3b6",
        "IPY_MODEL_6352dd06805643df9bdbcba4107f42a3",
        "IPY_MODEL_ccd777ec8d444d939431078955b9cc56"
       ],
       "layout": "IPY_MODEL_027d6d18aadc4c48b6847b5dffb400ac"
      }
     },
     "4e992e612f41439dbf54b10256977ab1": {
      "model_module": "@jupyter-widgets/controls",
      "model_module_version": "1.5.0",
      "model_name": "FloatSliderModel",
      "state": {
       "layout": "IPY_MODEL_bcbe5a13c6d5439a90a09ba0793de15a",
       "max": 200,
       "min": 0.001,
       "readout": false,
       "step": 0.001,
       "style": "IPY_MODEL_a7627252bf3a4d5cb0fb289e7d016f3e",
       "value": 20
      }
     },
     "4ea6ea53dced4488b6a244808edc8e23": {
      "model_module": "@jupyter-widgets/controls",
      "model_module_version": "1.5.0",
      "model_name": "LabelModel",
      "state": {
       "layout": "IPY_MODEL_11097c4e3b204f82a9bc685fe8b8becf",
       "style": "IPY_MODEL_adb0b033588f4f78b56ad5bcfa9195f0",
       "value": "Pressure in Pa:"
      }
     },
     "4ed7a6364e0943258358f5d1571604da": {
      "model_module": "@jupyter-widgets/controls",
      "model_module_version": "1.5.0",
      "model_name": "AccordionModel",
      "state": {
       "_titles": {
        "0": "Thermodynamic State",
        "1": "Flat Plate"
       },
       "children": [
        "IPY_MODEL_1e1ddaa1d3dd4340802adf44cf37f608",
        "IPY_MODEL_33f4ecc407124e79a329a3d8bcb99fbb"
       ],
       "layout": "IPY_MODEL_572dd9719ebb494a914e360e77f90165"
      }
     },
     "4ee17a8207d04053bceb2c2764dd5bce": {
      "model_module": "@jupyter-widgets/base",
      "model_module_version": "1.2.0",
      "model_name": "LayoutModel",
      "state": {
       "display": "flex",
       "width": "100%"
      }
     },
     "4f1146b2f01a46a19e464167518acf2e": {
      "model_module": "@jupyter-widgets/base",
      "model_module_version": "1.2.0",
      "model_name": "LayoutModel",
      "state": {
       "flex": "1 1 auto",
       "width": "auto"
      }
     },
     "4f2dfb89e6d84ad2981d4db8670749f8": {
      "model_module": "@jupyter-widgets/controls",
      "model_module_version": "1.5.0",
      "model_name": "LabelModel",
      "state": {
       "layout": "IPY_MODEL_782571a21a784d8786f2fc4e9a55d12e",
       "style": "IPY_MODEL_8357506bee514382adb63599ec2dcdbd",
       "value": "Pressure in Pa:"
      }
     },
     "4f39bfdf9a0a41f89f0c35709b794c19": {
      "model_module": "@jupyter-widgets/controls",
      "model_module_version": "1.5.0",
      "model_name": "DescriptionStyleModel",
      "state": {
       "description_width": ""
      }
     },
     "4f6ffeacfe0e427aa17f1d25afe79d01": {
      "model_module": "@jupyter-widgets/controls",
      "model_module_version": "1.5.0",
      "model_name": "DescriptionStyleModel",
      "state": {
       "description_width": ""
      }
     },
     "4f725f8ca01148a2b866275fcfc6be8c": {
      "model_module": "@jupyter-widgets/base",
      "model_module_version": "1.2.0",
      "model_name": "LayoutModel",
      "state": {}
     },
     "4fd4f28b935043e889721a471ad37cdd": {
      "model_module": "@jupyter-widgets/controls",
      "model_module_version": "1.5.0",
      "model_name": "BoundedFloatTextModel",
      "state": {
       "layout": "IPY_MODEL_fa63516a64774bfea68d6f28e822a392",
       "max": 15000000,
       "min": 1,
       "step": 100000,
       "style": "IPY_MODEL_55b7880d159542248a64fdc1fd3e4411",
       "value": 101325
      }
     },
     "4ff24447dba346e09d07726d4e4c9dcc": {
      "model_module": "@jupyter-widgets/controls",
      "model_module_version": "1.5.0",
      "model_name": "DescriptionStyleModel",
      "state": {
       "description_width": ""
      }
     },
     "50808270b5984578b5afb9294d179e3b": {
      "model_module": "@jupyter-widgets/base",
      "model_module_version": "1.2.0",
      "model_name": "LayoutModel",
      "state": {
       "display": "flex",
       "flex_flow": "row"
      }
     },
     "50df7e76796341fba117902b8db56953": {
      "model_module": "@jupyter-widgets/base",
      "model_module_version": "1.2.0",
      "model_name": "LayoutModel",
      "state": {
       "flex": "1 1 auto",
       "width": "auto"
      }
     },
     "50f000fa1ecf4719b695be8fee6016d8": {
      "model_module": "@jupyter-widgets/controls",
      "model_module_version": "1.5.0",
      "model_name": "HBoxModel",
      "state": {
       "children": [
        "IPY_MODEL_9d7ef7f6e3aa4a14ba7f282492902586",
        "IPY_MODEL_162b8dabf6d14260b547595bd2d4f9bd",
        "IPY_MODEL_3028baac45dd4970808801b4ac321a94"
       ],
       "layout": "IPY_MODEL_01800b465ed649389dec0782a8dd45a5"
      }
     },
     "5101b931969c4aecab9ec0f8dcd87c09": {
      "model_module": "@jupyter-widgets/controls",
      "model_module_version": "1.5.0",
      "model_name": "FloatSliderModel",
      "state": {
       "layout": "IPY_MODEL_dbc9887011bf4366a66f0922d5db88cf",
       "max": 15000000,
       "min": 1,
       "readout": false,
       "step": 100000,
       "style": "IPY_MODEL_558646b57b0e40d8bbe4f35b55e3c622",
       "value": 101325
      }
     },
     "5102c9f6d40449179d26113ecd5e0b59": {
      "model_module": "@jupyter-widgets/base",
      "model_module_version": "1.2.0",
      "model_name": "LayoutModel",
      "state": {
       "display": "flex",
       "width": "100%"
      }
     },
     "513498e7d3c74ef498ae7751b9a0fc66": {
      "model_module": "@jupyter-widgets/base",
      "model_module_version": "1.2.0",
      "model_name": "LayoutModel",
      "state": {
       "flex": "10 1 auto",
       "width": "auto"
      }
     },
     "5195f9486f544b1ba0c324e276b96754": {
      "model_module": "@jupyter-widgets/controls",
      "model_module_version": "1.5.0",
      "model_name": "FloatSliderModel",
      "state": {
       "layout": "IPY_MODEL_055f24484e9446cf85dd74f64a4b9ed5",
       "max": 55,
       "min": -30,
       "readout": false,
       "style": "IPY_MODEL_e3966a4b099448609159982f574bcecc",
       "value": 20
      }
     },
     "519fc0d3aa3f40a9b623a8425924d866": {
      "model_module": "@jupyter-widgets/controls",
      "model_module_version": "1.5.0",
      "model_name": "HBoxModel",
      "state": {
       "children": [
        "IPY_MODEL_1c954526505c4c8eb24833198ad67bd3",
        "IPY_MODEL_76eb0bc2ea12469ba0634ec13f785fb9",
        "IPY_MODEL_1a7b94774e4049c58f5673e1ada95157"
       ],
       "layout": "IPY_MODEL_bee31dcecbf74c56a24a8f8f8e2a63c2"
      }
     },
     "51e0742c75ad49f5b36c0af36d4b5f9e": {
      "model_module": "@jupyter-widgets/base",
      "model_module_version": "1.2.0",
      "model_name": "LayoutModel",
      "state": {}
     },
     "5220b1c762374261a4f571a0ed844337": {
      "model_module": "@jupyter-widgets/controls",
      "model_module_version": "1.5.0",
      "model_name": "AccordionModel",
      "state": {
       "_titles": {
        "0": "Thermodynamic State",
        "1": "Flat Plate"
       },
       "children": [
        "IPY_MODEL_6010560a452a4c9fa0ca1078672b6215",
        "IPY_MODEL_b107f4a207734a76a5ddf1ec6adfb3f5"
       ],
       "layout": "IPY_MODEL_bc5227a3b4fe4db2ba67d0afe70037a8"
      }
     },
     "5221b913c6864de689dba7167cf327ad": {
      "model_module": "@jupyter-widgets/controls",
      "model_module_version": "1.5.0",
      "model_name": "DescriptionStyleModel",
      "state": {
       "description_width": ""
      }
     },
     "52afd44f969647a9ba8877a6504ff5e6": {
      "model_module": "@jupyter-widgets/output",
      "model_module_version": "1.0.0",
      "model_name": "OutputModel",
      "state": {
       "layout": "IPY_MODEL_189f5080637449b199d51af63b20cf79",
       "outputs": [
        {
         "ename": "AttributeError",
         "evalue": "'function' object has no attribute 'clear_output'",
         "output_type": "error",
         "traceback": [
          "\u001b[0;31m\u001b[0m",
          "\u001b[0;31mAttributeError\u001b[0mTraceback (most recent call last)",
          "\u001b[0;32m<ipython-input-21-ddb1c165f750>\u001b[0m in \u001b[0;36mobserver\u001b[0;34m(change)\u001b[0m\n\u001b[1;32m     31\u001b[0m         \u001b[0;31m#widgets.show_inline_matplotlib_plots()\u001b[0m\u001b[0;34m\u001b[0m\u001b[0;34m\u001b[0m\u001b[0;34m\u001b[0m\u001b[0m\n\u001b[1;32m     32\u001b[0m         \u001b[0;32mwith\u001b[0m \u001b[0mout\u001b[0m\u001b[0;34m:\u001b[0m\u001b[0;34m\u001b[0m\u001b[0;34m\u001b[0m\u001b[0m\n\u001b[0;32m---> 33\u001b[0;31m             \u001b[0mdisplay\u001b[0m\u001b[0;34m.\u001b[0m\u001b[0mclear_output\u001b[0m\u001b[0;34m(\u001b[0m\u001b[0mwait\u001b[0m\u001b[0;34m=\u001b[0m\u001b[0;32mTrue\u001b[0m\u001b[0;34m)\u001b[0m\u001b[0;34m\u001b[0m\u001b[0;34m\u001b[0m\u001b[0m\n\u001b[0m\u001b[1;32m     34\u001b[0m             \u001b[0mf\u001b[0m\u001b[0;34m(\u001b[0m\u001b[0;34m**\u001b[0m\u001b[0mkwargs\u001b[0m\u001b[0;34m)\u001b[0m\u001b[0;34m\u001b[0m\u001b[0;34m\u001b[0m\u001b[0m\n\u001b[1;32m     35\u001b[0m             \u001b[0;31m#widgets.show_inline_matplotlib_plots()\u001b[0m\u001b[0;34m\u001b[0m\u001b[0;34m\u001b[0m\u001b[0;34m\u001b[0m\u001b[0m\n",
          "\u001b[0;31mAttributeError\u001b[0m: 'function' object has no attribute 'clear_output'"
         ]
        }
       ]
      }
     },
     "5336f431e63b461e801f52265b4bacb2": {
      "model_module": "@jupyter-widgets/base",
      "model_module_version": "1.2.0",
      "model_name": "LayoutModel",
      "state": {
       "flex": "10 1 auto",
       "width": "auto"
      }
     },
     "5379a4737d2f4b5c8bff45094988b928": {
      "model_module": "@jupyter-widgets/base",
      "model_module_version": "1.2.0",
      "model_name": "LayoutModel",
      "state": {
       "display": "flex",
       "width": "100%"
      }
     },
     "53b55d40a9dd4fc6bef0b08a80b92a0a": {
      "model_module": "@jupyter-widgets/controls",
      "model_module_version": "1.5.0",
      "model_name": "BoundedFloatTextModel",
      "state": {
       "layout": "IPY_MODEL_b168d8031ba7465396d1d492533eb46f",
       "max": 10,
       "min": 0.001,
       "step": 0.001,
       "style": "IPY_MODEL_20c258c5ac9b4c3795ca71c201d14e7a",
       "value": 0.1
      }
     },
     "54528df0ce9c4d2e9184e9570f62b41f": {
      "model_module": "@jupyter-widgets/controls",
      "model_module_version": "1.5.0",
      "model_name": "DescriptionStyleModel",
      "state": {
       "description_width": ""
      }
     },
     "5486c581fae0485b84edad3df993080d": {
      "model_module": "@jupyter-widgets/controls",
      "model_module_version": "1.5.0",
      "model_name": "LabelModel",
      "state": {
       "layout": "IPY_MODEL_6606b662b4f94a96920dc3a53e26a824",
       "style": "IPY_MODEL_f75fed7c35c54b3c9d3dd63712eac016",
       "value": "Temperature in °C:"
      }
     },
     "548c16e3d53240e9a16f2e0e8d6732bf": {
      "model_module": "@jupyter-widgets/controls",
      "model_module_version": "1.5.0",
      "model_name": "BoundedFloatTextModel",
      "state": {
       "layout": "IPY_MODEL_ff48d085f7114897b07b99395de3c10f",
       "max": 200,
       "min": 0.001,
       "step": 0.001,
       "style": "IPY_MODEL_81abc4e6f0054b33a7c8eabae66127a8",
       "value": 20
      }
     },
     "5490502675264de1b71708e3663658d6": {
      "model_module": "@jupyter-widgets/controls",
      "model_module_version": "1.5.0",
      "model_name": "LabelModel",
      "state": {
       "layout": "IPY_MODEL_66d58940ac4f43a58ab7ba631bbc613b",
       "style": "IPY_MODEL_2b3364cc17d149c98cc44a68f0e9dc4d",
       "value": "Gas / Specie Mixture:"
      }
     },
     "54a0ef7bf95044fbb1b2a539df037038": {
      "model_module": "@jupyter-widgets/base",
      "model_module_version": "1.2.0",
      "model_name": "LayoutModel",
      "state": {}
     },
     "54ab30d667ff436e9d31e3ae9cbf457c": {
      "model_module": "@jupyter-widgets/controls",
      "model_module_version": "1.5.0",
      "model_name": "DescriptionStyleModel",
      "state": {
       "description_width": ""
      }
     },
     "54bdbe01bb874d748d0978681a5b134e": {
      "model_module": "@jupyter-widgets/controls",
      "model_module_version": "1.5.0",
      "model_name": "VBoxModel",
      "state": {
       "children": [
        "IPY_MODEL_bc30d5fdc2b64c9d960f75b8aec37055",
        "IPY_MODEL_8684d9cdd6ec4f6c81db1c5e77ddf560",
        "IPY_MODEL_b4aaff76941c47e793230a04957b8235"
       ],
       "layout": "IPY_MODEL_97263dcea2d24d98975272bea0abfc2c"
      }
     },
     "54ebb5cdc6f849048cf6ad86ffd5ff85": {
      "model_module": "@jupyter-widgets/controls",
      "model_module_version": "1.5.0",
      "model_name": "HBoxModel",
      "state": {
       "children": [
        "IPY_MODEL_f4ab5149a96b4d608db1524cf7c25628",
        "IPY_MODEL_4cbc245f17644fc1b7ba79be7f4493ac",
        "IPY_MODEL_2a87b149a7ce4a5f86656166cc09ef8f"
       ],
       "layout": "IPY_MODEL_29bd00599c3d4d678ec1a8ff13b68e2c"
      }
     },
     "554bd3acd53f44e88ab842ce7e8634b6": {
      "model_module": "@jupyter-widgets/controls",
      "model_module_version": "1.5.0",
      "model_name": "LabelModel",
      "state": {
       "layout": "IPY_MODEL_0a94414280b34f6191545c9a27428c0b",
       "style": "IPY_MODEL_54ab30d667ff436e9d31e3ae9cbf457c",
       "value": "Temperature in °C:"
      }
     },
     "5558da4c0283428bb707091ba07c336b": {
      "model_module": "@jupyter-widgets/base",
      "model_module_version": "1.2.0",
      "model_name": "LayoutModel",
      "state": {}
     },
     "5575bd8af6794cf78de64fcb3adea4df": {
      "model_module": "@jupyter-widgets/controls",
      "model_module_version": "1.5.0",
      "model_name": "DescriptionStyleModel",
      "state": {
       "description_width": ""
      }
     },
     "558646b57b0e40d8bbe4f35b55e3c622": {
      "model_module": "@jupyter-widgets/controls",
      "model_module_version": "1.5.0",
      "model_name": "SliderStyleModel",
      "state": {
       "description_width": ""
      }
     },
     "55b7880d159542248a64fdc1fd3e4411": {
      "model_module": "@jupyter-widgets/controls",
      "model_module_version": "1.5.0",
      "model_name": "DescriptionStyleModel",
      "state": {
       "description_width": ""
      }
     },
     "562d7afb06cc49408050e704715b3ec7": {
      "model_module": "@jupyter-widgets/controls",
      "model_module_version": "1.5.0",
      "model_name": "SliderStyleModel",
      "state": {
       "description_width": ""
      }
     },
     "5642dd466d91446b88321eef1c879ba3": {
      "model_module": "@jupyter-widgets/base",
      "model_module_version": "1.2.0",
      "model_name": "LayoutModel",
      "state": {
       "display": "flex",
       "width": "100%"
      }
     },
     "56a941c4d7a54eff894ba12673a08079": {
      "model_module": "@jupyter-widgets/base",
      "model_module_version": "1.2.0",
      "model_name": "LayoutModel",
      "state": {
       "flex": "10 1 auto",
       "width": "auto"
      }
     },
     "56aaa381589b41e4b534739fa1513c22": {
      "model_module": "@jupyter-widgets/controls",
      "model_module_version": "1.5.0",
      "model_name": "DescriptionStyleModel",
      "state": {
       "description_width": ""
      }
     },
     "56ad552e42a7490ba5073ee27476f9e0": {
      "model_module": "@jupyter-widgets/base",
      "model_module_version": "1.2.0",
      "model_name": "LayoutModel",
      "state": {
       "flex": "1 1 auto",
       "width": "auto"
      }
     },
     "56b710775d294c479fec1ac0215caa09": {
      "model_module": "@jupyter-widgets/controls",
      "model_module_version": "1.5.0",
      "model_name": "DescriptionStyleModel",
      "state": {
       "description_width": ""
      }
     },
     "56c200a30f3d43a295d0981f5b5718ff": {
      "model_module": "@jupyter-widgets/controls",
      "model_module_version": "1.5.0",
      "model_name": "FloatSliderModel",
      "state": {
       "layout": "IPY_MODEL_16982d43724d4476a3aa432a7fd605f6",
       "max": 10,
       "min": 0.001,
       "readout": false,
       "step": 0.001,
       "style": "IPY_MODEL_95d5578fdf474bde9ca12be2a628c81d",
       "value": 0.1
      }
     },
     "56cc158e5c2b43bb96ba75437e8f7409": {
      "model_module": "@jupyter-widgets/base",
      "model_module_version": "1.2.0",
      "model_name": "LayoutModel",
      "state": {}
     },
     "56ddb0af5fcc46feabd97d3611ac36a5": {
      "model_module": "@jupyter-widgets/base",
      "model_module_version": "1.2.0",
      "model_name": "LayoutModel",
      "state": {
       "display": "flex",
       "width": "100%"
      }
     },
     "572dd9719ebb494a914e360e77f90165": {
      "model_module": "@jupyter-widgets/base",
      "model_module_version": "1.2.0",
      "model_name": "LayoutModel",
      "state": {}
     },
     "57b92dacdc9b495fbef86f3a5e775057": {
      "model_module": "@jupyter-widgets/controls",
      "model_module_version": "1.5.0",
      "model_name": "VBoxModel",
      "state": {
       "children": [
        "IPY_MODEL_923a2903ea1e406992d5c65fdacdef65",
        "IPY_MODEL_28a048c065e641e882ac4122eb2cbba3",
        "IPY_MODEL_f1c6ef0706c14467a59ef9c02f46e4c7"
       ],
       "layout": "IPY_MODEL_76f33f10c0894763bae06fb99284ea29"
      }
     },
     "57e7ce43fe614707afead3b5926e0e60": {
      "model_module": "@jupyter-widgets/controls",
      "model_module_version": "1.5.0",
      "model_name": "FloatSliderModel",
      "state": {
       "layout": "IPY_MODEL_6aae58053f674d579e5ffe154241fee3",
       "max": 200,
       "min": 0.001,
       "readout": false,
       "step": 0.001,
       "style": "IPY_MODEL_c451118a64f7470fa3b2f584512cabf4",
       "value": 20
      }
     },
     "57ec5e9de1e34e8f978827ca8947ae75": {
      "model_module": "@jupyter-widgets/base",
      "model_module_version": "1.2.0",
      "model_name": "LayoutModel",
      "state": {
       "flex": "1 1 auto",
       "width": "auto"
      }
     },
     "584e35b66f7b4f55a59293b897a876de": {
      "model_module": "@jupyter-widgets/controls",
      "model_module_version": "1.5.0",
      "model_name": "SliderStyleModel",
      "state": {
       "description_width": ""
      }
     },
     "58e9aed5dea34250ad82b688e8161254": {
      "model_module": "@jupyter-widgets/controls",
      "model_module_version": "1.5.0",
      "model_name": "SliderStyleModel",
      "state": {
       "description_width": ""
      }
     },
     "59259cb7cad24bc5880312581ea41d8f": {
      "model_module": "@jupyter-widgets/controls",
      "model_module_version": "1.5.0",
      "model_name": "FloatSliderModel",
      "state": {
       "layout": "IPY_MODEL_5336f431e63b461e801f52265b4bacb2",
       "max": 10,
       "min": 0.001,
       "readout": false,
       "step": 0.001,
       "style": "IPY_MODEL_fd315e008e4144eb95f318fce09a5b4e",
       "value": 0.1
      }
     },
     "594b0bacba434d339750e5cf0806671e": {
      "model_module": "@jupyter-widgets/base",
      "model_module_version": "1.2.0",
      "model_name": "LayoutModel",
      "state": {
       "display": "flex",
       "width": "100%"
      }
     },
     "599a19084ff84abd91d458e5922303d4": {
      "model_module": "@jupyter-widgets/base",
      "model_module_version": "1.2.0",
      "model_name": "LayoutModel",
      "state": {
       "display": "flex",
       "width": "100%"
      }
     },
     "59e40ffa5aba400ea8a1662f7f716210": {
      "model_module": "@jupyter-widgets/base",
      "model_module_version": "1.2.0",
      "model_name": "LayoutModel",
      "state": {
       "flex": "1 1 auto",
       "width": "auto"
      }
     },
     "5a3ebeb633174ab7951da297f31ed8f8": {
      "model_module": "@jupyter-widgets/controls",
      "model_module_version": "1.5.0",
      "model_name": "VBoxModel",
      "state": {
       "children": [
        "IPY_MODEL_1b7a5856b66d46c8be107408fd716d75",
        "IPY_MODEL_f880a0e3a9da4444894b3168abf3827f"
       ],
       "layout": "IPY_MODEL_4b1e27e0a0354c1d882014d7dd3576a0"
      }
     },
     "5a83899f9b954c91b383e6a2e2b4a3b6": {
      "model_module": "@jupyter-widgets/controls",
      "model_module_version": "1.5.0",
      "model_name": "HBoxModel",
      "state": {
       "children": [
        "IPY_MODEL_dc2dd6db02274f35b69ed6acdc03e25f",
        "IPY_MODEL_069df7de08ed455e85a4d1a2ba38614c",
        "IPY_MODEL_2260084db2374e138bf8e58780c03d09"
       ],
       "layout": "IPY_MODEL_7aa3a35ba6cb42f0a8b7c0223f5436a3"
      }
     },
     "5a92840da654496b82c93a52225211c6": {
      "model_module": "@jupyter-widgets/base",
      "model_module_version": "1.2.0",
      "model_name": "LayoutModel",
      "state": {
       "flex": "10 1 auto",
       "width": "auto"
      }
     },
     "5ac86d7b64ae4d89885f33e54ff63bf4": {
      "model_module": "@jupyter-widgets/controls",
      "model_module_version": "1.5.0",
      "model_name": "FloatSliderModel",
      "state": {
       "layout": "IPY_MODEL_1b35a88a113a4813aefeff08e7e43420",
       "max": 55,
       "min": -30,
       "readout": false,
       "style": "IPY_MODEL_06879a1e01924ff7bbf69219a4e6e59c",
       "value": 20
      }
     },
     "5ba31dc0410e40c88e74b52db8c9f504": {
      "model_module": "@jupyter-widgets/controls",
      "model_module_version": "1.5.0",
      "model_name": "DescriptionStyleModel",
      "state": {
       "description_width": ""
      }
     },
     "5c88a2e8956e4e62801ebaef124f90c1": {
      "model_module": "@jupyter-widgets/controls",
      "model_module_version": "1.5.0",
      "model_name": "BoundedFloatTextModel",
      "state": {
       "layout": "IPY_MODEL_1392bb7533d041e8a817809a2719559b",
       "max": 55,
       "min": -30,
       "step": 1,
       "style": "IPY_MODEL_89f1b86b91b845af883ce6c806ea9098",
       "value": 20
      }
     },
     "5cb60554ce1f47f3bdc4c1d26819c6f2": {
      "model_module": "@jupyter-widgets/controls",
      "model_module_version": "1.5.0",
      "model_name": "LabelModel",
      "state": {
       "layout": "IPY_MODEL_57ec5e9de1e34e8f978827ca8947ae75",
       "style": "IPY_MODEL_31d3f8bcfe51441d9c332b00c98c90cd",
       "value": "Velocity in m/s:"
      }
     },
     "5cf0209a77914b2fa3fc90f8fc5070c1": {
      "model_module": "@jupyter-widgets/controls",
      "model_module_version": "1.5.0",
      "model_name": "BoundedFloatTextModel",
      "state": {
       "layout": "IPY_MODEL_65b2e23fc6e8480db0390ecc9f5150a8",
       "max": 15000000,
       "min": 1,
       "step": 100000,
       "style": "IPY_MODEL_3cd2eb70de5945c0ad1d76d3c2e3f113",
       "value": 101325
      }
     },
     "5e4cc22d3b53439086f98c699ecd63b6": {
      "model_module": "@jupyter-widgets/controls",
      "model_module_version": "1.5.0",
      "model_name": "BoundedFloatTextModel",
      "state": {
       "layout": "IPY_MODEL_fe0507926fd04f9a98995e8563c223dc",
       "max": 15000000,
       "min": 1,
       "step": 100000,
       "style": "IPY_MODEL_7ae3ca86e2154eaca1a837135d4ce1cd",
       "value": 101325
      }
     },
     "5f630a762b0a41069cb2569ae1304f0d": {
      "model_module": "@jupyter-widgets/controls",
      "model_module_version": "1.5.0",
      "model_name": "FloatSliderModel",
      "state": {
       "layout": "IPY_MODEL_3f86aedac1554d2690ff592ee5fb0f2d",
       "max": 15000000,
       "min": 1,
       "readout": false,
       "step": 100000,
       "style": "IPY_MODEL_e293c5c9077646e5ad04d9b3e4554019",
       "value": 101325
      }
     },
     "5f637550903d40b9bca7aeab173c0cc1": {
      "model_module": "@jupyter-widgets/base",
      "model_module_version": "1.2.0",
      "model_name": "LayoutModel",
      "state": {
       "display": "flex",
       "flex_flow": "row"
      }
     },
     "5f6804e0333b4679b64fe3559789e8e8": {
      "model_module": "@jupyter-widgets/controls",
      "model_module_version": "1.5.0",
      "model_name": "SliderStyleModel",
      "state": {
       "description_width": ""
      }
     },
     "5fafc5a356744aad92280fde740ef630": {
      "model_module": "@jupyter-widgets/controls",
      "model_module_version": "1.5.0",
      "model_name": "LabelModel",
      "state": {
       "layout": "IPY_MODEL_76c09ed8659547cfa3d139178a3631c9",
       "style": "IPY_MODEL_6b81b953b19a44379dbb8bc869416149",
       "value": "Gas / Specie Mixture:"
      }
     },
     "5fbe6dc9f3ff47c8aac2c25ae1c76459": {
      "model_module": "@jupyter-widgets/base",
      "model_module_version": "1.2.0",
      "model_name": "LayoutModel",
      "state": {
       "display": "flex",
       "flex_flow": "row"
      }
     },
     "5ff74f1ac31d408e9d57634493ba6253": {
      "model_module": "@jupyter-widgets/base",
      "model_module_version": "1.2.0",
      "model_name": "LayoutModel",
      "state": {
       "flex": "1 1 auto",
       "width": "auto"
      }
     },
     "6010560a452a4c9fa0ca1078672b6215": {
      "model_module": "@jupyter-widgets/controls",
      "model_module_version": "1.5.0",
      "model_name": "VBoxModel",
      "state": {
       "children": [
        "IPY_MODEL_691c455cad254168b7927bb4b509b2ea",
        "IPY_MODEL_d797914f57ff4d148fe206264023bc90",
        "IPY_MODEL_061d5b5700e444028576a989d59a84ff"
       ],
       "layout": "IPY_MODEL_4459602346bb44d5ab5d8cd39f74ba8e"
      }
     },
     "603cc29d06ef47c4aee6ad56c58e6a8c": {
      "model_module": "@jupyter-widgets/base",
      "model_module_version": "1.2.0",
      "model_name": "LayoutModel",
      "state": {
       "display": "flex",
       "flex_flow": "row"
      }
     },
     "603d7982f6d945fc9389b5fd6f7d93c3": {
      "model_module": "@jupyter-widgets/base",
      "model_module_version": "1.2.0",
      "model_name": "LayoutModel",
      "state": {
       "flex": "1 1 auto",
       "width": "auto"
      }
     },
     "6106d3c8db114bd5975d5c6c97f28c89": {
      "model_module": "@jupyter-widgets/base",
      "model_module_version": "1.2.0",
      "model_name": "LayoutModel",
      "state": {}
     },
     "6109fb9ab642403a961337f996cb1b86": {
      "model_module": "@jupyter-widgets/base",
      "model_module_version": "1.2.0",
      "model_name": "LayoutModel",
      "state": {
       "flex": "10 1 auto",
       "width": "auto"
      }
     },
     "61c9ed7def794fc6be7fed3f59c303f5": {
      "model_module": "@jupyter-widgets/base",
      "model_module_version": "1.2.0",
      "model_name": "LayoutModel",
      "state": {
       "display": "flex",
       "flex_flow": "row"
      }
     },
     "6227ea764e3a415ebb9181d3b509ac5e": {
      "model_module": "@jupyter-widgets/base",
      "model_module_version": "1.2.0",
      "model_name": "LayoutModel",
      "state": {}
     },
     "627f7b3f5fe44e138f332adbd3808cb9": {
      "model_module": "@jupyter-widgets/base",
      "model_module_version": "1.2.0",
      "model_name": "LayoutModel",
      "state": {}
     },
     "6288c5c6dafc4745b5b6a06a298f5c30": {
      "model_module": "@jupyter-widgets/base",
      "model_module_version": "1.2.0",
      "model_name": "LayoutModel",
      "state": {
       "display": "flex",
       "width": "100%"
      }
     },
     "628fcfe98c66454886835e86f810f228": {
      "model_module": "@jupyter-widgets/base",
      "model_module_version": "1.2.0",
      "model_name": "LayoutModel",
      "state": {
       "flex": "1 1 auto",
       "width": "auto"
      }
     },
     "62cb8a1c086d440fb5b761a9e58ed729": {
      "model_module": "@jupyter-widgets/base",
      "model_module_version": "1.2.0",
      "model_name": "LayoutModel",
      "state": {}
     },
     "632c49bf53a74873a9893640db792dc2": {
      "model_module": "@jupyter-widgets/base",
      "model_module_version": "1.2.0",
      "model_name": "LayoutModel",
      "state": {
       "display": "flex",
       "width": "100%"
      }
     },
     "6339fcb01a0c4ee18580809270a6d8c4": {
      "model_module": "@jupyter-widgets/base",
      "model_module_version": "1.2.0",
      "model_name": "LayoutModel",
      "state": {
       "flex": "1 1 auto",
       "width": "auto"
      }
     },
     "6352dd06805643df9bdbcba4107f42a3": {
      "model_module": "@jupyter-widgets/controls",
      "model_module_version": "1.5.0",
      "model_name": "HBoxModel",
      "state": {
       "children": [
        "IPY_MODEL_f2d2373c11fb49c5aa85a3ee258684cb",
        "IPY_MODEL_20427a6bc5ff4433bf436e6b8ef31f4e",
        "IPY_MODEL_28306bf8fade441ca66fad7771746bac"
       ],
       "layout": "IPY_MODEL_438779b9f3d242ac85e67204fbb696c1"
      }
     },
     "63b5056a43434609a782f76f99dfa222": {
      "model_module": "@jupyter-widgets/controls",
      "model_module_version": "1.5.0",
      "model_name": "HBoxModel",
      "state": {
       "children": [
        "IPY_MODEL_cb5ce64d64574279a595e4123a7db957",
        "IPY_MODEL_38c86e5c29f04a748c9db5755f3e5a1a",
        "IPY_MODEL_fa5c1779ee4f414dbef20e131f758f1c"
       ],
       "layout": "IPY_MODEL_5102c9f6d40449179d26113ecd5e0b59"
      }
     },
     "644e44d3b66d4428ae68f4aa6f506ef2": {
      "model_module": "@jupyter-widgets/base",
      "model_module_version": "1.2.0",
      "model_name": "LayoutModel",
      "state": {
       "display": "flex",
       "width": "100%"
      }
     },
     "6450d49dd9c544af9a046a83d3844857": {
      "model_module": "@jupyter-widgets/controls",
      "model_module_version": "1.5.0",
      "model_name": "VBoxModel",
      "state": {
       "children": [
        "IPY_MODEL_f37738d71c7842eba862058a7314a6a6",
        "IPY_MODEL_fe2b34c3e45e4ff9992402fbe7561e1c"
       ],
       "layout": "IPY_MODEL_2b094860a5dc4ff7b8dcf7908dee127a"
      }
     },
     "64801f90d27e44bb8cc8b927e29ae6e1": {
      "model_module": "@jupyter-widgets/controls",
      "model_module_version": "1.5.0",
      "model_name": "HBoxModel",
      "state": {
       "children": [
        "IPY_MODEL_4ea6ea53dced4488b6a244808edc8e23",
        "IPY_MODEL_a335652aee8645c9bbd7b33707e696bd",
        "IPY_MODEL_f83bdfb98e0f4d2e913f78687c05115d"
       ],
       "layout": "IPY_MODEL_87f3403c60824972a7026e81b41eab8a"
      }
     },
     "64857713826c4dd88145cc0e6899e851": {
      "model_module": "@jupyter-widgets/controls",
      "model_module_version": "1.5.0",
      "model_name": "DescriptionStyleModel",
      "state": {
       "description_width": ""
      }
     },
     "64cea93041ee4e67bb2a884edbe644b2": {
      "model_module": "@jupyter-widgets/base",
      "model_module_version": "1.2.0",
      "model_name": "LayoutModel",
      "state": {
       "display": "flex",
       "width": "100%"
      }
     },
     "6562caa601864a90a12bdc3471bc4c99": {
      "model_module": "@jupyter-widgets/base",
      "model_module_version": "1.2.0",
      "model_name": "LayoutModel",
      "state": {
       "flex": "1 1 auto",
       "width": "auto"
      }
     },
     "657ec04d21ee4bad8b6bc5da277fbe8b": {
      "model_module": "@jupyter-widgets/base",
      "model_module_version": "1.2.0",
      "model_name": "LayoutModel",
      "state": {
       "display": "flex",
       "flex_flow": "row"
      }
     },
     "65b2e23fc6e8480db0390ecc9f5150a8": {
      "model_module": "@jupyter-widgets/base",
      "model_module_version": "1.2.0",
      "model_name": "LayoutModel",
      "state": {
       "flex": "1 1 auto",
       "width": "auto"
      }
     },
     "65b5b1c4e57b4c6f83fe88c7fd9e7c46": {
      "model_module": "@jupyter-widgets/controls",
      "model_module_version": "1.5.0",
      "model_name": "DescriptionStyleModel",
      "state": {
       "description_width": ""
      }
     },
     "6606b662b4f94a96920dc3a53e26a824": {
      "model_module": "@jupyter-widgets/base",
      "model_module_version": "1.2.0",
      "model_name": "LayoutModel",
      "state": {
       "flex": "1 1 auto",
       "width": "auto"
      }
     },
     "66751a9b29d644229b6fe1ef211b7a37": {
      "model_module": "@jupyter-widgets/base",
      "model_module_version": "1.2.0",
      "model_name": "LayoutModel",
      "state": {
       "flex": "1 1 auto",
       "width": "auto"
      }
     },
     "668eaf5950bf430fa8bc974803880dbb": {
      "model_module": "@jupyter-widgets/base",
      "model_module_version": "1.2.0",
      "model_name": "LayoutModel",
      "state": {}
     },
     "66d58940ac4f43a58ab7ba631bbc613b": {
      "model_module": "@jupyter-widgets/base",
      "model_module_version": "1.2.0",
      "model_name": "LayoutModel",
      "state": {}
     },
     "672bf62934404117a258a966751ca554": {
      "model_module": "@jupyter-widgets/controls",
      "model_module_version": "1.5.0",
      "model_name": "DescriptionStyleModel",
      "state": {
       "description_width": ""
      }
     },
     "674abd1c8b294555ab9cb62dd860ff36": {
      "model_module": "@jupyter-widgets/controls",
      "model_module_version": "1.5.0",
      "model_name": "DescriptionStyleModel",
      "state": {
       "description_width": ""
      }
     },
     "6776a3dcdd4c45a58c5496fe32c3408c": {
      "model_module": "@jupyter-widgets/controls",
      "model_module_version": "1.5.0",
      "model_name": "BoundedFloatTextModel",
      "state": {
       "layout": "IPY_MODEL_9cac685d5870421e8904e7de3368293b",
       "max": 55,
       "min": -30,
       "step": 1,
       "style": "IPY_MODEL_54528df0ce9c4d2e9184e9570f62b41f",
       "value": 20
      }
     },
     "67c64a19de0a40a1a1de92909b8d44c6": {
      "model_module": "@jupyter-widgets/base",
      "model_module_version": "1.2.0",
      "model_name": "LayoutModel",
      "state": {}
     },
     "67f0777ecd4a4fa1b534a4b149a49e15": {
      "model_module": "@jupyter-widgets/controls",
      "model_module_version": "1.5.0",
      "model_name": "BoundedFloatTextModel",
      "state": {
       "layout": "IPY_MODEL_9a3c93525dd545858a622f3e50cbdff2",
       "max": 55,
       "min": -30,
       "step": 1,
       "style": "IPY_MODEL_be8e9ea20c7a43e78a40b84c64b32995",
       "value": 20
      }
     },
     "67fe74a8119c42b086b887f0b583fa66": {
      "model_module": "@jupyter-widgets/base",
      "model_module_version": "1.2.0",
      "model_name": "LayoutModel",
      "state": {
       "display": "flex",
       "flex_flow": "row"
      }
     },
     "682873377d7f4454918c5b2e85950523": {
      "model_module": "@jupyter-widgets/base",
      "model_module_version": "1.2.0",
      "model_name": "LayoutModel",
      "state": {
       "flex": "10 1 auto",
       "width": "auto"
      }
     },
     "6838231f902b44eb8c0f625463158b2d": {
      "model_module": "@jupyter-widgets/base",
      "model_module_version": "1.2.0",
      "model_name": "LayoutModel",
      "state": {}
     },
     "683cf8993fb34418b3ca3b337e8f28af": {
      "model_module": "@jupyter-widgets/controls",
      "model_module_version": "1.5.0",
      "model_name": "HBoxModel",
      "state": {
       "children": [
        "IPY_MODEL_f9fe3825340a40758490d5adda5c5116",
        "IPY_MODEL_5195f9486f544b1ba0c324e276b96754",
        "IPY_MODEL_a00d646ba71e4b8eb0ca443b480fc6d0"
       ],
       "layout": "IPY_MODEL_64cea93041ee4e67bb2a884edbe644b2"
      }
     },
     "687eebb8691e453a9598cd3a4b41936f": {
      "model_module": "@jupyter-widgets/base",
      "model_module_version": "1.2.0",
      "model_name": "LayoutModel",
      "state": {
       "flex": "10 1 auto",
       "width": "auto"
      }
     },
     "68985da20ec446419940ae1b39096454": {
      "model_module": "@jupyter-widgets/base",
      "model_module_version": "1.2.0",
      "model_name": "LayoutModel",
      "state": {}
     },
     "68b14dc39604464ab4d0554f1c9a4828": {
      "model_module": "@jupyter-widgets/base",
      "model_module_version": "1.2.0",
      "model_name": "LayoutModel",
      "state": {
       "display": "flex",
       "flex_flow": "row"
      }
     },
     "691c455cad254168b7927bb4b509b2ea": {
      "model_module": "@jupyter-widgets/controls",
      "model_module_version": "1.5.0",
      "model_name": "HBoxModel",
      "state": {
       "children": [
        "IPY_MODEL_b8e802c2e0ce47dba0df11c90609b2c1",
        "IPY_MODEL_33d647ed25f44f94848fc5d78be255e0",
        "IPY_MODEL_a0778baacce9465193120a4eb82b3c2a"
       ],
       "layout": "IPY_MODEL_a38bbbfd27bd42e995469de6e82b44b8"
      }
     },
     "694f18b5cddb4d12963214b09cbf1631": {
      "model_module": "@jupyter-widgets/base",
      "model_module_version": "1.2.0",
      "model_name": "LayoutModel",
      "state": {
       "flex": "1 1 auto",
       "width": "auto"
      }
     },
     "6a82cffa341241f4a42998df3e73b982": {
      "model_module": "@jupyter-widgets/base",
      "model_module_version": "1.2.0",
      "model_name": "LayoutModel",
      "state": {}
     },
     "6a8ad61214ef462194afc8b80a186664": {
      "model_module": "@jupyter-widgets/base",
      "model_module_version": "1.2.0",
      "model_name": "LayoutModel",
      "state": {
       "flex": "1 1 auto",
       "width": "auto"
      }
     },
     "6aae58053f674d579e5ffe154241fee3": {
      "model_module": "@jupyter-widgets/base",
      "model_module_version": "1.2.0",
      "model_name": "LayoutModel",
      "state": {
       "flex": "10 1 auto",
       "width": "auto"
      }
     },
     "6b81b953b19a44379dbb8bc869416149": {
      "model_module": "@jupyter-widgets/controls",
      "model_module_version": "1.5.0",
      "model_name": "DescriptionStyleModel",
      "state": {
       "description_width": ""
      }
     },
     "6b9bb7f22b064a44acc6dbcfa9b2403c": {
      "model_module": "@jupyter-widgets/controls",
      "model_module_version": "1.5.0",
      "model_name": "BoundedFloatTextModel",
      "state": {
       "layout": "IPY_MODEL_6dc68df44aec459f82dc4ddecf814025",
       "max": 10,
       "min": 0.001,
       "step": 0.001,
       "style": "IPY_MODEL_1da47dc3e3ca403cb7249fcdcb474d20",
       "value": 0.1
      }
     },
     "6bacd9b2009d4fbea45ea50c4f5785d4": {
      "model_module": "@jupyter-widgets/controls",
      "model_module_version": "1.5.0",
      "model_name": "DescriptionStyleModel",
      "state": {
       "description_width": ""
      }
     },
     "6bbe4d1ba46241e9be1daff8a4db6989": {
      "model_module": "@jupyter-widgets/controls",
      "model_module_version": "1.5.0",
      "model_name": "BoundedFloatTextModel",
      "state": {
       "layout": "IPY_MODEL_9ba2b9ca28ac41d4927d58c338d9841c",
       "max": 10,
       "min": 0.001,
       "step": 0.001,
       "style": "IPY_MODEL_5221b913c6864de689dba7167cf327ad",
       "value": 0.1
      }
     },
     "6c0add39708f4538bd98df85bb87fce8": {
      "model_module": "@jupyter-widgets/controls",
      "model_module_version": "1.5.0",
      "model_name": "SliderStyleModel",
      "state": {
       "description_width": ""
      }
     },
     "6c434255bd5741e09b71b7e7634e77e8": {
      "model_module": "@jupyter-widgets/controls",
      "model_module_version": "1.5.0",
      "model_name": "AccordionModel",
      "state": {
       "_titles": {
        "0": "Thermodynamic State",
        "1": "Flat Plate"
       },
       "children": [
        "IPY_MODEL_7d2e78f4accf49b0a63039e7cf2fb9c7",
        "IPY_MODEL_3fbc15fe717d46eabaa6ba60e10d81a5"
       ],
       "layout": "IPY_MODEL_9ffd37a584664763985f3979244f01ca"
      }
     },
     "6c749a71285742d4a53c42baf8014ede": {
      "model_module": "@jupyter-widgets/controls",
      "model_module_version": "1.5.0",
      "model_name": "SliderStyleModel",
      "state": {
       "description_width": ""
      }
     },
     "6d37f5766d1a4e9c88e965852bad6b4c": {
      "model_module": "@jupyter-widgets/base",
      "model_module_version": "1.2.0",
      "model_name": "LayoutModel",
      "state": {
       "flex": "1 1 auto",
       "width": "auto"
      }
     },
     "6dafee1c9cf44c39adabdc619633bd70": {
      "model_module": "@jupyter-widgets/controls",
      "model_module_version": "1.5.0",
      "model_name": "LabelModel",
      "state": {
       "layout": "IPY_MODEL_38c61091c0ab4ee1b09ecbf734004d53",
       "style": "IPY_MODEL_14d37420a6254e2da7f52454a9ba2a9a",
       "value": "Temperature in °C:"
      }
     },
     "6dc68df44aec459f82dc4ddecf814025": {
      "model_module": "@jupyter-widgets/base",
      "model_module_version": "1.2.0",
      "model_name": "LayoutModel",
      "state": {
       "flex": "1 1 auto",
       "width": "auto"
      }
     },
     "6e456a9af4ad4d368e652e11bc44105d": {
      "model_module": "@jupyter-widgets/base",
      "model_module_version": "1.2.0",
      "model_name": "LayoutModel",
      "state": {
       "display": "flex",
       "width": "100%"
      }
     },
     "6ebb49bd3c8c4ea3a68282530772431e": {
      "model_module": "@jupyter-widgets/base",
      "model_module_version": "1.2.0",
      "model_name": "LayoutModel",
      "state": {}
     },
     "6ec4db93c66c48b5b4ab4f16063f5f17": {
      "model_module": "@jupyter-widgets/controls",
      "model_module_version": "1.5.0",
      "model_name": "LabelModel",
      "state": {
       "layout": "IPY_MODEL_29b1c89518e84836873278cb911ac7ef",
       "style": "IPY_MODEL_fd997fbd9b0b4bc7aaeae6d77a0f00f1",
       "value": "Velocity in m/s:"
      }
     },
     "6f63f15214f443c8a92a0e9f5ae1d2ed": {
      "model_module": "@jupyter-widgets/controls",
      "model_module_version": "1.5.0",
      "model_name": "DescriptionStyleModel",
      "state": {
       "description_width": ""
      }
     },
     "6ff0f43aa0a54388b1f6f2e3023473d4": {
      "model_module": "@jupyter-widgets/controls",
      "model_module_version": "1.5.0",
      "model_name": "FloatSliderModel",
      "state": {
       "layout": "IPY_MODEL_41bcbf2a64824facaa3973f9ea9065b6",
       "max": 55,
       "min": -30,
       "readout": false,
       "style": "IPY_MODEL_4bb49fd8bf4f49378d7603b2dbb36e6b",
       "value": 20
      }
     },
     "7019eb2228714e69a672766147703516": {
      "model_module": "@jupyter-widgets/base",
      "model_module_version": "1.2.0",
      "model_name": "LayoutModel",
      "state": {
       "flex": "1 1 auto",
       "width": "auto"
      }
     },
     "704cc58c7cdb4daa8dc75f3d96ee4f85": {
      "model_module": "@jupyter-widgets/controls",
      "model_module_version": "1.5.0",
      "model_name": "HBoxModel",
      "state": {
       "children": [
        "IPY_MODEL_e53420ac60d34bb4a295b643434041c6",
        "IPY_MODEL_710910233e2745f19b28d30f39ff0bb9"
       ],
       "layout": "IPY_MODEL_bcfb87690e1a469ea748cdbfb5d14cb5"
      }
     },
     "70601f5104694f5d9f4411860a0ffccb": {
      "model_module": "@jupyter-widgets/base",
      "model_module_version": "1.2.0",
      "model_name": "LayoutModel",
      "state": {
       "flex": "1 1 auto",
       "width": "auto"
      }
     },
     "7076032e695144e8b402e1fb65c77ca4": {
      "model_module": "@jupyter-widgets/controls",
      "model_module_version": "1.5.0",
      "model_name": "DescriptionStyleModel",
      "state": {
       "description_width": ""
      }
     },
     "710910233e2745f19b28d30f39ff0bb9": {
      "model_module": "@jupyter-widgets/controls",
      "model_module_version": "1.5.0",
      "model_name": "DropdownModel",
      "state": {
       "_options_labels": [
        "1-Butene",
        "Acetone",
        "Air",
        "Ammonia",
        "Argon",
        "Benzene",
        "CarbonDioxide",
        "CarbonMonoxide",
        "CarbonylSulfide",
        "CycloHexane",
        "CycloPropane",
        "Cyclopentane",
        "D4",
        "D5",
        "D6",
        "Deuterium",
        "Dichloroethane",
        "DiethylEther",
        "DimethylCarbonate",
        "DimethylEther",
        "Ethane",
        "Ethanol",
        "EthylBenzene",
        "Ethylene",
        "EthyleneOxide",
        "Fluorine",
        "HFE143m",
        "HeavyWater",
        "Helium",
        "Hydrogen",
        "HydrogenChloride",
        "HydrogenSulfide",
        "IsoButane",
        "IsoButene",
        "Isohexane",
        "Isopentane",
        "Krypton",
        "MD2M",
        "MD3M",
        "MD4M",
        "MDM",
        "MM",
        "Methane",
        "Methanol",
        "MethylLinoleate",
        "MethylLinolenate",
        "MethylOleate",
        "MethylPalmitate",
        "MethylStearate",
        "Neon",
        "Neopentane",
        "Nitrogen",
        "NitrousOxide",
        "Novec649",
        "OrthoDeuterium",
        "OrthoHydrogen",
        "Oxygen",
        "ParaDeuterium",
        "ParaHydrogen",
        "Propylene",
        "Propyne",
        "R11",
        "R113",
        "R114",
        "R115",
        "R116",
        "R12",
        "R123",
        "R1233zd(E)",
        "R1234yf",
        "R1234ze(E)",
        "R1234ze(Z)",
        "R124",
        "R1243zf",
        "R125",
        "R13",
        "R134a",
        "R13I1",
        "R14",
        "R141b",
        "R142b",
        "R143a",
        "R152A",
        "R161",
        "R21",
        "R218",
        "R22",
        "R227EA",
        "R23",
        "R236EA",
        "R236FA",
        "R245ca",
        "R245fa",
        "R32",
        "R365MFC",
        "R40",
        "R404A",
        "R407C",
        "R41",
        "R410A",
        "R507A",
        "RC318",
        "SES36",
        "SulfurDioxide",
        "SulfurHexafluoride",
        "Toluene",
        "Water",
        "Xenon",
        "cis-2-Butene",
        "m-Xylene",
        "n-Butane",
        "n-Decane",
        "n-Dodecane",
        "n-Heptane",
        "n-Hexane",
        "n-Nonane",
        "n-Octane",
        "n-Pentane",
        "n-Propane",
        "n-Undecane",
        "o-Xylene",
        "p-Xylene",
        "trans-2-Butene"
       ],
       "index": 2,
       "layout": "IPY_MODEL_324f6da229ac461485ed66c1dadaa8f5",
       "style": "IPY_MODEL_0cada49970ad491c82cd7d687695f868"
      }
     },
     "7137915db818466788fe26f3e05d25a7": {
      "model_module": "@jupyter-widgets/base",
      "model_module_version": "1.2.0",
      "model_name": "LayoutModel",
      "state": {
       "display": "flex",
       "min_height": "300px",
       "width": "100%"
      }
     },
     "7157261696e94c378077684a1a55d179": {
      "model_module": "@jupyter-widgets/controls",
      "model_module_version": "1.5.0",
      "model_name": "HBoxModel",
      "state": {
       "children": [
        "IPY_MODEL_ccd6cb6d141f438c9f7c3498e66e3638",
        "IPY_MODEL_f2ce9cf4c2f14919b232531bf8ece732",
        "IPY_MODEL_11ee631fea2f4c50a811a5fc1bf125b2"
       ],
       "layout": "IPY_MODEL_312bafd0a34745ff853f1200d116fcec"
      }
     },
     "72b04c140e824d868510cbf22e11cbb1": {
      "model_module": "@jupyter-widgets/base",
      "model_module_version": "1.2.0",
      "model_name": "LayoutModel",
      "state": {}
     },
     "72e7eca389554a9589f464419ad48471": {
      "model_module": "@jupyter-widgets/base",
      "model_module_version": "1.2.0",
      "model_name": "LayoutModel",
      "state": {
       "flex": "1 1 auto",
       "width": "auto"
      }
     },
     "74993abb42484b38b31b579241af7901": {
      "model_module": "@jupyter-widgets/base",
      "model_module_version": "1.2.0",
      "model_name": "LayoutModel",
      "state": {
       "flex": "1 1 auto",
       "width": "auto"
      }
     },
     "74da8a0bd3d44039adc7d4a4161bb4ac": {
      "model_module": "@jupyter-widgets/base",
      "model_module_version": "1.2.0",
      "model_name": "LayoutModel",
      "state": {
       "display": "flex",
       "width": "100%"
      }
     },
     "7523d1e53af345c89727f0af59450582": {
      "model_module": "@jupyter-widgets/controls",
      "model_module_version": "1.5.0",
      "model_name": "SliderStyleModel",
      "state": {
       "description_width": ""
      }
     },
     "76205c7cb88647caaa39ebad55cd1628": {
      "model_module": "@jupyter-widgets/controls",
      "model_module_version": "1.5.0",
      "model_name": "HBoxModel",
      "state": {
       "children": [
        "IPY_MODEL_3124420d3ab64cd1b2489ccce1fc31a5",
        "IPY_MODEL_df8da9044cc6420bb67e4b3e574c4207",
        "IPY_MODEL_86e7e05334624e5c8903dd07ad77143c"
       ],
       "layout": "IPY_MODEL_f81075991cd7430aaa49abe81cebefa9"
      }
     },
     "76320047de1b4d83b611f861a8b585c1": {
      "model_module": "@jupyter-widgets/controls",
      "model_module_version": "1.5.0",
      "model_name": "DropdownModel",
      "state": {
       "_options_labels": [
        "1-Butene",
        "Acetone",
        "Air",
        "Ammonia",
        "Argon",
        "Benzene",
        "CarbonDioxide",
        "CarbonMonoxide",
        "CarbonylSulfide",
        "CycloHexane",
        "CycloPropane",
        "Cyclopentane",
        "D4",
        "D5",
        "D6",
        "Deuterium",
        "Dichloroethane",
        "DiethylEther",
        "DimethylCarbonate",
        "DimethylEther",
        "Ethane",
        "Ethanol",
        "EthylBenzene",
        "Ethylene",
        "EthyleneOxide",
        "Fluorine",
        "HFE143m",
        "HeavyWater",
        "Helium",
        "Hydrogen",
        "HydrogenChloride",
        "HydrogenSulfide",
        "IsoButane",
        "IsoButene",
        "Isohexane",
        "Isopentane",
        "Krypton",
        "MD2M",
        "MD3M",
        "MD4M",
        "MDM",
        "MM",
        "Methane",
        "Methanol",
        "MethylLinoleate",
        "MethylLinolenate",
        "MethylOleate",
        "MethylPalmitate",
        "MethylStearate",
        "Neon",
        "Neopentane",
        "Nitrogen",
        "NitrousOxide",
        "Novec649",
        "OrthoDeuterium",
        "OrthoHydrogen",
        "Oxygen",
        "ParaDeuterium",
        "ParaHydrogen",
        "Propylene",
        "Propyne",
        "R11",
        "R113",
        "R114",
        "R115",
        "R116",
        "R12",
        "R123",
        "R1233zd(E)",
        "R1234yf",
        "R1234ze(E)",
        "R1234ze(Z)",
        "R124",
        "R1243zf",
        "R125",
        "R13",
        "R134a",
        "R13I1",
        "R14",
        "R141b",
        "R142b",
        "R143a",
        "R152A",
        "R161",
        "R21",
        "R218",
        "R22",
        "R227EA",
        "R23",
        "R236EA",
        "R236FA",
        "R245ca",
        "R245fa",
        "R32",
        "R365MFC",
        "R40",
        "R404A",
        "R407C",
        "R41",
        "R410A",
        "R507A",
        "RC318",
        "SES36",
        "SulfurDioxide",
        "SulfurHexafluoride",
        "Toluene",
        "Water",
        "Xenon",
        "cis-2-Butene",
        "m-Xylene",
        "n-Butane",
        "n-Decane",
        "n-Dodecane",
        "n-Heptane",
        "n-Hexane",
        "n-Nonane",
        "n-Octane",
        "n-Pentane",
        "n-Propane",
        "n-Undecane",
        "o-Xylene",
        "p-Xylene",
        "trans-2-Butene"
       ],
       "index": 2,
       "layout": "IPY_MODEL_4f725f8ca01148a2b866275fcfc6be8c",
       "style": "IPY_MODEL_47c1ffa40812448da05f998c9a54ce92"
      }
     },
     "763e36ede9984386adf267e6a005bace": {
      "model_module": "@jupyter-widgets/base",
      "model_module_version": "1.2.0",
      "model_name": "LayoutModel",
      "state": {
       "display": "flex",
       "width": "100%"
      }
     },
     "76649452ce2b438898aba61b34f072db": {
      "model_module": "@jupyter-widgets/controls",
      "model_module_version": "1.5.0",
      "model_name": "HBoxModel",
      "state": {
       "children": [
        "IPY_MODEL_b1c2a857a67c43d1b0d9181315998503",
        "IPY_MODEL_87922049c2d74c6392d8ff5dc22c799b",
        "IPY_MODEL_c573a8ce3f0b4f3496132f3735b564d0"
       ],
       "layout": "IPY_MODEL_215f62884b63479c9690332a8c3ac941"
      }
     },
     "7687d98e2ae949c9833efaf62670daf2": {
      "model_module": "@jupyter-widgets/base",
      "model_module_version": "1.2.0",
      "model_name": "LayoutModel",
      "state": {
       "flex": "1 1 auto",
       "width": "auto"
      }
     },
     "76a118d690f64860bc7b8b536bb5d73c": {
      "model_module": "@jupyter-widgets/controls",
      "model_module_version": "1.5.0",
      "model_name": "DescriptionStyleModel",
      "state": {
       "description_width": ""
      }
     },
     "76c09ed8659547cfa3d139178a3631c9": {
      "model_module": "@jupyter-widgets/base",
      "model_module_version": "1.2.0",
      "model_name": "LayoutModel",
      "state": {}
     },
     "76eb0bc2ea12469ba0634ec13f785fb9": {
      "model_module": "@jupyter-widgets/controls",
      "model_module_version": "1.5.0",
      "model_name": "FloatSliderModel",
      "state": {
       "layout": "IPY_MODEL_92951d87be5b403e985504f99fe567a0",
       "max": 10,
       "min": 0.001,
       "readout": false,
       "step": 0.001,
       "style": "IPY_MODEL_d8e26dbc17d640f587c71e4fc8e575e2",
       "value": 0.1
      }
     },
     "76f33f10c0894763bae06fb99284ea29": {
      "model_module": "@jupyter-widgets/base",
      "model_module_version": "1.2.0",
      "model_name": "LayoutModel",
      "state": {}
     },
     "778fa45a2dbb4d5aba0efadc408819cd": {
      "model_module": "@jupyter-widgets/base",
      "model_module_version": "1.2.0",
      "model_name": "LayoutModel",
      "state": {}
     },
     "77b6e215a9044c369664cc1dda608f8d": {
      "model_module": "@jupyter-widgets/base",
      "model_module_version": "1.2.0",
      "model_name": "LayoutModel",
      "state": {
       "display": "flex",
       "flex_flow": "row"
      }
     },
     "77d281c28e824abe80fe5b164f25afcf": {
      "model_module": "@jupyter-widgets/base",
      "model_module_version": "1.2.0",
      "model_name": "LayoutModel",
      "state": {}
     },
     "782571a21a784d8786f2fc4e9a55d12e": {
      "model_module": "@jupyter-widgets/base",
      "model_module_version": "1.2.0",
      "model_name": "LayoutModel",
      "state": {
       "flex": "1 1 auto",
       "width": "auto"
      }
     },
     "7826f913859149b5a90e12922832cdde": {
      "model_module": "@jupyter-widgets/controls",
      "model_module_version": "1.5.0",
      "model_name": "DescriptionStyleModel",
      "state": {
       "description_width": ""
      }
     },
     "78e39e6a8e3e48f897bc3924ee735e91": {
      "model_module": "@jupyter-widgets/output",
      "model_module_version": "1.0.0",
      "model_name": "OutputModel",
      "state": {
       "layout": "IPY_MODEL_8ccf5ef716ac40c3ba5e2741ab6428ea"
      }
     },
     "79759ff57bad4ebbbe12acb3b6f3b80d": {
      "model_module": "@jupyter-widgets/base",
      "model_module_version": "1.2.0",
      "model_name": "LayoutModel",
      "state": {
       "display": "flex",
       "width": "100%"
      }
     },
     "797a6c88e53141548d1612b76b6b860b": {
      "model_module": "@jupyter-widgets/controls",
      "model_module_version": "1.5.0",
      "model_name": "DescriptionStyleModel",
      "state": {
       "description_width": ""
      }
     },
     "798c54bf07e6443d82f4def831894d95": {
      "model_module": "@jupyter-widgets/controls",
      "model_module_version": "1.5.0",
      "model_name": "LabelModel",
      "state": {
       "layout": "IPY_MODEL_c4f76adc34a04119a029d6402e0614c3",
       "style": "IPY_MODEL_147332810cc94b10b081d63d139099f2",
       "value": "Velocity in m/s:"
      }
     },
     "79a07f690f4b42f2a1bf5faacd95a047": {
      "model_module": "@jupyter-widgets/base",
      "model_module_version": "1.2.0",
      "model_name": "LayoutModel",
      "state": {}
     },
     "79b96c855570428c8e3b363a8c0445b6": {
      "model_module": "@jupyter-widgets/base",
      "model_module_version": "1.2.0",
      "model_name": "LayoutModel",
      "state": {}
     },
     "7a81cd612587459bae3027364e292fa4": {
      "model_module": "@jupyter-widgets/base",
      "model_module_version": "1.2.0",
      "model_name": "LayoutModel",
      "state": {
       "flex": "1 1 auto",
       "width": "auto"
      }
     },
     "7aa3a35ba6cb42f0a8b7c0223f5436a3": {
      "model_module": "@jupyter-widgets/base",
      "model_module_version": "1.2.0",
      "model_name": "LayoutModel",
      "state": {
       "display": "flex",
       "width": "100%"
      }
     },
     "7ae3ca86e2154eaca1a837135d4ce1cd": {
      "model_module": "@jupyter-widgets/controls",
      "model_module_version": "1.5.0",
      "model_name": "DescriptionStyleModel",
      "state": {
       "description_width": ""
      }
     },
     "7aed6c69bd13400aaad9bf7cf0c923f3": {
      "model_module": "@jupyter-widgets/base",
      "model_module_version": "1.2.0",
      "model_name": "LayoutModel",
      "state": {
       "display": "flex",
       "flex_flow": "row"
      }
     },
     "7bf87100e34848919e311a21e891db30": {
      "model_module": "@jupyter-widgets/controls",
      "model_module_version": "1.5.0",
      "model_name": "DescriptionStyleModel",
      "state": {
       "description_width": ""
      }
     },
     "7c679976c13149888d11764476f1c33e": {
      "model_module": "@jupyter-widgets/controls",
      "model_module_version": "1.5.0",
      "model_name": "FloatSliderModel",
      "state": {
       "layout": "IPY_MODEL_a435cb60d803483fb616a152be51e2de",
       "max": 55,
       "min": -30,
       "readout": false,
       "style": "IPY_MODEL_e17d9248002f42ee887cf1341356a183",
       "value": 20
      }
     },
     "7d2e78f4accf49b0a63039e7cf2fb9c7": {
      "model_module": "@jupyter-widgets/controls",
      "model_module_version": "1.5.0",
      "model_name": "VBoxModel",
      "state": {
       "children": [
        "IPY_MODEL_a503e12d4d734ebc8a1396adfdf81b71",
        "IPY_MODEL_3045fd5c720f4ee3be3f4f35a10f57be",
        "IPY_MODEL_05fc1d04c6c345df950546ce3ce7443d"
       ],
       "layout": "IPY_MODEL_627f7b3f5fe44e138f332adbd3808cb9"
      }
     },
     "7d64de6a63f7408ea2bc1079510fb631": {
      "model_module": "@jupyter-widgets/controls",
      "model_module_version": "1.5.0",
      "model_name": "SliderStyleModel",
      "state": {
       "description_width": ""
      }
     },
     "7d696d57d5624a1fb60c4ec76acff46a": {
      "model_module": "@jupyter-widgets/controls",
      "model_module_version": "1.5.0",
      "model_name": "DropdownModel",
      "state": {
       "_options_labels": [
        "1-Butene",
        "Acetone",
        "Air",
        "Ammonia",
        "Argon",
        "Benzene",
        "CarbonDioxide",
        "CarbonMonoxide",
        "CarbonylSulfide",
        "CycloHexane",
        "CycloPropane",
        "Cyclopentane",
        "D4",
        "D5",
        "D6",
        "Deuterium",
        "Dichloroethane",
        "DiethylEther",
        "DimethylCarbonate",
        "DimethylEther",
        "Ethane",
        "Ethanol",
        "EthylBenzene",
        "Ethylene",
        "EthyleneOxide",
        "Fluorine",
        "HFE143m",
        "HeavyWater",
        "Helium",
        "Hydrogen",
        "HydrogenChloride",
        "HydrogenSulfide",
        "IsoButane",
        "IsoButene",
        "Isohexane",
        "Isopentane",
        "Krypton",
        "MD2M",
        "MD3M",
        "MD4M",
        "MDM",
        "MM",
        "Methane",
        "Methanol",
        "MethylLinoleate",
        "MethylLinolenate",
        "MethylOleate",
        "MethylPalmitate",
        "MethylStearate",
        "Neon",
        "Neopentane",
        "Nitrogen",
        "NitrousOxide",
        "Novec649",
        "OrthoDeuterium",
        "OrthoHydrogen",
        "Oxygen",
        "ParaDeuterium",
        "ParaHydrogen",
        "Propylene",
        "Propyne",
        "R11",
        "R113",
        "R114",
        "R115",
        "R116",
        "R12",
        "R123",
        "R1233zd(E)",
        "R1234yf",
        "R1234ze(E)",
        "R1234ze(Z)",
        "R124",
        "R1243zf",
        "R125",
        "R13",
        "R134a",
        "R13I1",
        "R14",
        "R141b",
        "R142b",
        "R143a",
        "R152A",
        "R161",
        "R21",
        "R218",
        "R22",
        "R227EA",
        "R23",
        "R236EA",
        "R236FA",
        "R245ca",
        "R245fa",
        "R32",
        "R365MFC",
        "R40",
        "R404A",
        "R407C",
        "R41",
        "R410A",
        "R507A",
        "RC318",
        "SES36",
        "SulfurDioxide",
        "SulfurHexafluoride",
        "Toluene",
        "Water",
        "Xenon",
        "cis-2-Butene",
        "m-Xylene",
        "n-Butane",
        "n-Decane",
        "n-Dodecane",
        "n-Heptane",
        "n-Hexane",
        "n-Nonane",
        "n-Octane",
        "n-Pentane",
        "n-Propane",
        "n-Undecane",
        "o-Xylene",
        "p-Xylene",
        "trans-2-Butene"
       ],
       "index": 2,
       "layout": "IPY_MODEL_6ebb49bd3c8c4ea3a68282530772431e",
       "style": "IPY_MODEL_dd050006464d424584d8420d2f854519"
      }
     },
     "7ddbaa7e1da14b79b9f9ba239a2dec9d": {
      "model_module": "@jupyter-widgets/controls",
      "model_module_version": "1.5.0",
      "model_name": "LabelModel",
      "state": {
       "layout": "IPY_MODEL_bb7cd3ee14f24113ad8198395fcbf1f7",
       "style": "IPY_MODEL_5ba31dc0410e40c88e74b52db8c9f504",
       "value": "Platelength in m"
      }
     },
     "7de3acd7138342abad51725de791f230": {
      "model_module": "@jupyter-widgets/controls",
      "model_module_version": "1.5.0",
      "model_name": "VBoxModel",
      "state": {
       "children": [
        "IPY_MODEL_50f000fa1ecf4719b695be8fee6016d8",
        "IPY_MODEL_fb79ca6a176f4420aff06c36cc6ecc6d"
       ],
       "layout": "IPY_MODEL_36d68c069d5943b5b8323ac9a7a362da"
      }
     },
     "7e239621613543b082fd58d228bd58f5": {
      "model_module": "@jupyter-widgets/controls",
      "model_module_version": "1.5.0",
      "model_name": "HBoxModel",
      "state": {
       "children": [
        "IPY_MODEL_fb76014de0f94db3933b514deaea2818",
        "IPY_MODEL_4e61d046b7114f4db002caa21900b9c1",
        "IPY_MODEL_86038a89d5de4bff8da8f1c644defe0d"
       ],
       "layout": "IPY_MODEL_6288c5c6dafc4745b5b6a06a298f5c30"
      }
     },
     "7e6141f740dd4db9a60ba5b4e7bed238": {
      "model_module": "@jupyter-widgets/base",
      "model_module_version": "1.2.0",
      "model_name": "LayoutModel",
      "state": {
       "flex": "1 1 auto",
       "width": "auto"
      }
     },
     "7e79140459914381b67c2f036d097d0a": {
      "model_module": "@jupyter-widgets/base",
      "model_module_version": "1.2.0",
      "model_name": "LayoutModel",
      "state": {
       "display": "flex",
       "width": "100%"
      }
     },
     "7e9013d635394458949e194c709fef63": {
      "model_module": "@jupyter-widgets/controls",
      "model_module_version": "1.5.0",
      "model_name": "BoundedFloatTextModel",
      "state": {
       "layout": "IPY_MODEL_f8f83483a6c64bcb87f1894a37eb7738",
       "max": 55,
       "min": -30,
       "step": 1,
       "style": "IPY_MODEL_a0ea183bcb164ed0ac929b6029e425e3",
       "value": 20
      }
     },
     "7eab523375c144d3b938a75ad239afbb": {
      "model_module": "@jupyter-widgets/controls",
      "model_module_version": "1.5.0",
      "model_name": "VBoxModel",
      "state": {
       "children": [
        "IPY_MODEL_63b5056a43434609a782f76f99dfa222",
        "IPY_MODEL_d97a4e477fcd4b388d8ae98323dd1a66",
        "IPY_MODEL_d8f614954c9a4bb1abeb931a4d87a0c0"
       ],
       "layout": "IPY_MODEL_ba007c98e63446efa9b06d12658c6a2e"
      }
     },
     "7f0f24587b574320ad12a0dd54d86623": {
      "model_module": "@jupyter-widgets/controls",
      "model_module_version": "1.5.0",
      "model_name": "DescriptionStyleModel",
      "state": {
       "description_width": ""
      }
     },
     "7f503a990fbc494f866530ea1938fa1c": {
      "model_module": "@jupyter-widgets/base",
      "model_module_version": "1.2.0",
      "model_name": "LayoutModel",
      "state": {
       "flex": "1 1 auto",
       "width": "auto"
      }
     },
     "7fbc7d3fa5ae49b7b4a0ba1844c7e01b": {
      "model_module": "@jupyter-widgets/base",
      "model_module_version": "1.2.0",
      "model_name": "LayoutModel",
      "state": {
       "flex": "1 1 auto",
       "width": "auto"
      }
     },
     "7fcdb182f5524bccbb77836b6a11f82b": {
      "model_module": "@jupyter-widgets/base",
      "model_module_version": "1.2.0",
      "model_name": "LayoutModel",
      "state": {}
     },
     "80673f31f3c44fa3b05d9cf187d78792": {
      "model_module": "@jupyter-widgets/base",
      "model_module_version": "1.2.0",
      "model_name": "LayoutModel",
      "state": {}
     },
     "8148cb6569364d758927f0b6d678060b": {
      "model_module": "@jupyter-widgets/base",
      "model_module_version": "1.2.0",
      "model_name": "LayoutModel",
      "state": {
       "flex": "1 1 auto",
       "width": "auto"
      }
     },
     "81a82ffff3ce467eb594d32db66da277": {
      "model_module": "@jupyter-widgets/controls",
      "model_module_version": "1.5.0",
      "model_name": "DescriptionStyleModel",
      "state": {
       "description_width": ""
      }
     },
     "81abc4e6f0054b33a7c8eabae66127a8": {
      "model_module": "@jupyter-widgets/controls",
      "model_module_version": "1.5.0",
      "model_name": "DescriptionStyleModel",
      "state": {
       "description_width": ""
      }
     },
     "8234b47a929a40c6ae4d6abd7eff85f5": {
      "model_module": "@jupyter-widgets/base",
      "model_module_version": "1.2.0",
      "model_name": "LayoutModel",
      "state": {}
     },
     "8299910dd5634c92a618d6e9f4fad225": {
      "model_module": "@jupyter-widgets/output",
      "model_module_version": "1.0.0",
      "model_name": "OutputModel",
      "state": {
       "layout": "IPY_MODEL_56ddb0af5fcc46feabd97d3611ac36a5"
      }
     },
     "82b5ad7c15004b8b945d6054422dab6a": {
      "model_module": "@jupyter-widgets/controls",
      "model_module_version": "1.5.0",
      "model_name": "SliderStyleModel",
      "state": {
       "description_width": ""
      }
     },
     "8357506bee514382adb63599ec2dcdbd": {
      "model_module": "@jupyter-widgets/controls",
      "model_module_version": "1.5.0",
      "model_name": "DescriptionStyleModel",
      "state": {
       "description_width": ""
      }
     },
     "8360f0af907845c4b70e9423275a557e": {
      "model_module": "@jupyter-widgets/controls",
      "model_module_version": "1.5.0",
      "model_name": "DescriptionStyleModel",
      "state": {
       "description_width": ""
      }
     },
     "838ae577ec4646e582ef17a86ca43fa2": {
      "model_module": "@jupyter-widgets/controls",
      "model_module_version": "1.5.0",
      "model_name": "LabelModel",
      "state": {
       "layout": "IPY_MODEL_6a8ad61214ef462194afc8b80a186664",
       "style": "IPY_MODEL_354c9417eba74bafa2bd220a551782ec",
       "value": "Pressure in Pa:"
      }
     },
     "8536197e3386441d9725ac0e5d41b26c": {
      "model_module": "@jupyter-widgets/controls",
      "model_module_version": "1.5.0",
      "model_name": "SliderStyleModel",
      "state": {
       "description_width": ""
      }
     },
     "86038a89d5de4bff8da8f1c644defe0d": {
      "model_module": "@jupyter-widgets/controls",
      "model_module_version": "1.5.0",
      "model_name": "BoundedFloatTextModel",
      "state": {
       "layout": "IPY_MODEL_3112fdf806c746a9ba3f8b766fb71c62",
       "max": 200,
       "min": 0.001,
       "step": 0.001,
       "style": "IPY_MODEL_6bacd9b2009d4fbea45ea50c4f5785d4",
       "value": 20
      }
     },
     "860c4164ad2b42efad27336c547b9611": {
      "model_module": "@jupyter-widgets/base",
      "model_module_version": "1.2.0",
      "model_name": "LayoutModel",
      "state": {}
     },
     "86126f64bc354615aefcafcbd615b440": {
      "model_module": "@jupyter-widgets/base",
      "model_module_version": "1.2.0",
      "model_name": "LayoutModel",
      "state": {
       "display": "flex",
       "flex_flow": "row"
      }
     },
     "863c799d6bb94e49a398fade48d7a696": {
      "model_module": "@jupyter-widgets/base",
      "model_module_version": "1.2.0",
      "model_name": "LayoutModel",
      "state": {}
     },
     "864714c27c984323ad2085dad44c07bb": {
      "model_module": "@jupyter-widgets/controls",
      "model_module_version": "1.5.0",
      "model_name": "VBoxModel",
      "state": {
       "children": [
        "IPY_MODEL_4afa7cab1ac7473a85ba7716fa316ce0",
        "IPY_MODEL_e98e7dfec1fa4eeda3c426c4b8daff5f",
        "IPY_MODEL_f3a4b6acb1b347fca39dd0c4237a5076"
       ],
       "layout": "IPY_MODEL_a76c13413f5e42bc824ab6cae9d31f94"
      }
     },
     "866252d8c91d498086bc1bb498a7186f": {
      "model_module": "@jupyter-widgets/base",
      "model_module_version": "1.2.0",
      "model_name": "LayoutModel",
      "state": {
       "display": "flex",
       "width": "100%"
      }
     },
     "8684d9cdd6ec4f6c81db1c5e77ddf560": {
      "model_module": "@jupyter-widgets/controls",
      "model_module_version": "1.5.0",
      "model_name": "HBoxModel",
      "state": {
       "children": [
        "IPY_MODEL_27c4d05221124392b986c07ecd1e504c",
        "IPY_MODEL_f2dbb8f534c743fdbf2edd4a888eff7c",
        "IPY_MODEL_4e1c7ff0258f4688acbb46c3b3882bec"
       ],
       "layout": "IPY_MODEL_5379a4737d2f4b5c8bff45094988b928"
      }
     },
     "86b1585bacb0476db25edb5d37230b50": {
      "model_module": "@jupyter-widgets/controls",
      "model_module_version": "1.5.0",
      "model_name": "DescriptionStyleModel",
      "state": {
       "description_width": ""
      }
     },
     "86e7e05334624e5c8903dd07ad77143c": {
      "model_module": "@jupyter-widgets/controls",
      "model_module_version": "1.5.0",
      "model_name": "BoundedFloatTextModel",
      "state": {
       "layout": "IPY_MODEL_964c39c2816d43d1949cd3ec911dfc81",
       "max": 200,
       "min": 0.001,
       "step": 0.001,
       "style": "IPY_MODEL_df370da16c3848069d56f6864296ff42",
       "value": 20
      }
     },
     "87257451b36448e680204791bfe3b43e": {
      "model_module": "@jupyter-widgets/controls",
      "model_module_version": "1.5.0",
      "model_name": "LabelModel",
      "state": {
       "layout": "IPY_MODEL_ec5582e5bf024c7cb1f1fa83ed3e32b5",
       "style": "IPY_MODEL_10ffa0db167948d4b8caae90fe19a941",
       "value": "Gas / Specie Mixture:"
      }
     },
     "87922049c2d74c6392d8ff5dc22c799b": {
      "model_module": "@jupyter-widgets/controls",
      "model_module_version": "1.5.0",
      "model_name": "FloatSliderModel",
      "state": {
       "layout": "IPY_MODEL_2d7193358dd542af80ba17e640903186",
       "max": 10,
       "min": 0.001,
       "readout": false,
       "step": 0.001,
       "style": "IPY_MODEL_dd4801916d514bbf98858ff115b426c2",
       "value": 0.1
      }
     },
     "87a886cb5d4341b1808d249a2b1e8755": {
      "model_module": "@jupyter-widgets/base",
      "model_module_version": "1.2.0",
      "model_name": "LayoutModel",
      "state": {
       "display": "flex",
       "min_height": "300px",
       "width": "100%"
      }
     },
     "87c7247050b348109f2b2868f601ca28": {
      "model_module": "@jupyter-widgets/controls",
      "model_module_version": "1.5.0",
      "model_name": "FloatSliderModel",
      "state": {
       "layout": "IPY_MODEL_56a941c4d7a54eff894ba12673a08079",
       "max": 200,
       "min": 0.001,
       "readout": false,
       "step": 0.001,
       "style": "IPY_MODEL_3e74ef22a1cd4706bea7e148f81e2cd9",
       "value": 20
      }
     },
     "87ece380443b48b0a5eabda8d62a5559": {
      "model_module": "@jupyter-widgets/base",
      "model_module_version": "1.2.0",
      "model_name": "LayoutModel",
      "state": {}
     },
     "87f3403c60824972a7026e81b41eab8a": {
      "model_module": "@jupyter-widgets/base",
      "model_module_version": "1.2.0",
      "model_name": "LayoutModel",
      "state": {
       "display": "flex",
       "width": "100%"
      }
     },
     "88175c752baf453d9db82625e13c7eb7": {
      "model_module": "@jupyter-widgets/controls",
      "model_module_version": "1.5.0",
      "model_name": "FloatSliderModel",
      "state": {
       "layout": "IPY_MODEL_a3537e452b314eb98dd36e4d2d99e276",
       "max": 200,
       "min": 0.001,
       "readout": false,
       "step": 0.001,
       "style": "IPY_MODEL_e25c030d62e54292a24a796bacd58f00",
       "value": 20
      }
     },
     "883bc49cec114df5954a17e912c30fb9": {
      "model_module": "@jupyter-widgets/base",
      "model_module_version": "1.2.0",
      "model_name": "LayoutModel",
      "state": {
       "flex": "1 1 auto",
       "width": "auto"
      }
     },
     "88d331f8d7b74fcb96c638307c0856b3": {
      "model_module": "@jupyter-widgets/base",
      "model_module_version": "1.2.0",
      "model_name": "LayoutModel",
      "state": {}
     },
     "88f7e5824a8d488ebba2d918afdf9d3c": {
      "model_module": "@jupyter-widgets/controls",
      "model_module_version": "1.5.0",
      "model_name": "DescriptionStyleModel",
      "state": {
       "description_width": ""
      }
     },
     "890911cb2844404ea19b6ac19bf47c1b": {
      "model_module": "@jupyter-widgets/base",
      "model_module_version": "1.2.0",
      "model_name": "LayoutModel",
      "state": {}
     },
     "893fdc7971bd45e685f03cf9c1b3259a": {
      "model_module": "@jupyter-widgets/base",
      "model_module_version": "1.2.0",
      "model_name": "LayoutModel",
      "state": {
       "flex": "1 1 auto",
       "width": "auto"
      }
     },
     "8946198cffd2456abc21e8778e38a70c": {
      "model_module": "@jupyter-widgets/controls",
      "model_module_version": "1.5.0",
      "model_name": "SliderStyleModel",
      "state": {
       "description_width": ""
      }
     },
     "8964243e31654108aaa5f4a323e0b252": {
      "model_module": "@jupyter-widgets/controls",
      "model_module_version": "1.5.0",
      "model_name": "VBoxModel",
      "state": {
       "children": [
        "IPY_MODEL_1e54529f57d84166a83b1e7ed40f77b3"
       ],
       "layout": "IPY_MODEL_4d26598561ae428c87f88f4435cb8ef0"
      }
     },
     "8967665b49364a319b4dd906fed4182a": {
      "model_module": "@jupyter-widgets/base",
      "model_module_version": "1.2.0",
      "model_name": "LayoutModel",
      "state": {
       "flex": "1 1 auto",
       "width": "auto"
      }
     },
     "898dc416db43456881fcacc6fa748e55": {
      "model_module": "@jupyter-widgets/controls",
      "model_module_version": "1.5.0",
      "model_name": "HBoxModel",
      "state": {
       "children": [
        "IPY_MODEL_979f2c6922ad41c3a11ec0b220804a0d",
        "IPY_MODEL_da3c755ccfd94504940b3edf75f8ecb3",
        "IPY_MODEL_6776a3dcdd4c45a58c5496fe32c3408c"
       ],
       "layout": "IPY_MODEL_4a0d66cf55a6405f8e2e836443f587d8"
      }
     },
     "89961d5e3dce42f1802d3095d9c4f2ed": {
      "model_module": "@jupyter-widgets/base",
      "model_module_version": "1.2.0",
      "model_name": "LayoutModel",
      "state": {
       "display": "flex",
       "width": "100%"
      }
     },
     "89962a61f3af4dcbae08d119ff4c7831": {
      "model_module": "@jupyter-widgets/controls",
      "model_module_version": "1.5.0",
      "model_name": "DescriptionStyleModel",
      "state": {
       "description_width": ""
      }
     },
     "89d6491525a9437cb14d38a68ff9afeb": {
      "model_module": "@jupyter-widgets/controls",
      "model_module_version": "1.5.0",
      "model_name": "LabelModel",
      "state": {
       "layout": "IPY_MODEL_603d7982f6d945fc9389b5fd6f7d93c3",
       "style": "IPY_MODEL_cebb7acdaa8747bd864368eca69ba45b",
       "value": "Platelength in m"
      }
     },
     "89f1b86b91b845af883ce6c806ea9098": {
      "model_module": "@jupyter-widgets/controls",
      "model_module_version": "1.5.0",
      "model_name": "DescriptionStyleModel",
      "state": {
       "description_width": ""
      }
     },
     "8a97c944cd454707b6e3e77c993e3419": {
      "model_module": "@jupyter-widgets/base",
      "model_module_version": "1.2.0",
      "model_name": "LayoutModel",
      "state": {
       "display": "flex",
       "width": "100%"
      }
     },
     "8acae838add54d2a86c3c83013356f3f": {
      "model_module": "@jupyter-widgets/base",
      "model_module_version": "1.2.0",
      "model_name": "LayoutModel",
      "state": {
       "flex": "10 1 auto",
       "width": "auto"
      }
     },
     "8ae2c27b42f94cae8f469514d7bcabaf": {
      "model_module": "@jupyter-widgets/base",
      "model_module_version": "1.2.0",
      "model_name": "LayoutModel",
      "state": {
       "flex": "1 1 auto",
       "width": "auto"
      }
     },
     "8b3946f3db2b493eaf0e444ed178824c": {
      "model_module": "@jupyter-widgets/base",
      "model_module_version": "1.2.0",
      "model_name": "LayoutModel",
      "state": {}
     },
     "8caa04f9eed5401b854ee4e255cee333": {
      "model_module": "@jupyter-widgets/controls",
      "model_module_version": "1.5.0",
      "model_name": "HBoxModel",
      "state": {
       "children": [
        "IPY_MODEL_a0af88ef6f354206a3567334769aba06",
        "IPY_MODEL_5f630a762b0a41069cb2569ae1304f0d",
        "IPY_MODEL_47baae1f11c7423f8692d880effa34a1"
       ],
       "layout": "IPY_MODEL_fe53f15a0d084dbda64531d303e15bb8"
      }
     },
     "8ccf5ef716ac40c3ba5e2741ab6428ea": {
      "model_module": "@jupyter-widgets/base",
      "model_module_version": "1.2.0",
      "model_name": "LayoutModel",
      "state": {}
     },
     "8cdbd39a49e742fa9b314299c4a53a01": {
      "model_module": "@jupyter-widgets/controls",
      "model_module_version": "1.5.0",
      "model_name": "DescriptionStyleModel",
      "state": {
       "description_width": ""
      }
     },
     "8d1cce30599048f4a0f8cd8085591902": {
      "model_module": "@jupyter-widgets/controls",
      "model_module_version": "1.5.0",
      "model_name": "FloatSliderModel",
      "state": {
       "layout": "IPY_MODEL_274a77da0c0449b4ade40c2f175eaca1",
       "max": 200,
       "min": 0.001,
       "readout": false,
       "step": 0.001,
       "style": "IPY_MODEL_22d0ea0bff274d4989ba748dd5b21d45",
       "value": 20
      }
     },
     "8dbe384ee34648ff829648b43f724511": {
      "model_module": "@jupyter-widgets/controls",
      "model_module_version": "1.5.0",
      "model_name": "SliderStyleModel",
      "state": {
       "description_width": ""
      }
     },
     "8deb4ba4bee049f9a93651f47dcec886": {
      "model_module": "@jupyter-widgets/controls",
      "model_module_version": "1.5.0",
      "model_name": "SliderStyleModel",
      "state": {
       "description_width": ""
      }
     },
     "8e0960830c314d16a78e9ae526e6f7ba": {
      "model_module": "@jupyter-widgets/controls",
      "model_module_version": "1.5.0",
      "model_name": "FloatSliderModel",
      "state": {
       "layout": "IPY_MODEL_2c0f93e275d34cf5b499ba98bfa98e5d",
       "max": 55,
       "min": -30,
       "readout": false,
       "style": "IPY_MODEL_f89a89f543f44e86954bb1114c4241ac",
       "value": 20
      }
     },
     "8e42f8840fbe440c93a0faf217e3a722": {
      "model_module": "@jupyter-widgets/base",
      "model_module_version": "1.2.0",
      "model_name": "LayoutModel",
      "state": {
       "flex": "1 1 auto",
       "width": "auto"
      }
     },
     "8e74ce267bc3495eb98a3d430388cc99": {
      "model_module": "@jupyter-widgets/controls",
      "model_module_version": "1.5.0",
      "model_name": "SliderStyleModel",
      "state": {
       "description_width": ""
      }
     },
     "8ededc9fabef4a7b9fe0c2b2b77b11b6": {
      "model_module": "@jupyter-widgets/base",
      "model_module_version": "1.2.0",
      "model_name": "LayoutModel",
      "state": {}
     },
     "8f1b72f7fc81444498d7e84c52d89199": {
      "model_module": "@jupyter-widgets/controls",
      "model_module_version": "1.5.0",
      "model_name": "FloatSliderModel",
      "state": {
       "layout": "IPY_MODEL_513498e7d3c74ef498ae7751b9a0fc66",
       "max": 10,
       "min": 0.001,
       "readout": false,
       "step": 0.001,
       "style": "IPY_MODEL_00ed5241b0ed4ff3af61ec1302e6a3a3",
       "value": 0.1
      }
     },
     "8f34aa1d3d74469fa23ab351ee2b9c06": {
      "model_module": "@jupyter-widgets/base",
      "model_module_version": "1.2.0",
      "model_name": "LayoutModel",
      "state": {
       "flex": "1 1 auto",
       "width": "auto"
      }
     },
     "8f7795940282401da8c1de1a52cce70f": {
      "model_module": "@jupyter-widgets/base",
      "model_module_version": "1.2.0",
      "model_name": "LayoutModel",
      "state": {
       "flex": "10 1 auto",
       "width": "auto"
      }
     },
     "8fe51a2090ea4587a58330a3773774b6": {
      "model_module": "@jupyter-widgets/base",
      "model_module_version": "1.2.0",
      "model_name": "LayoutModel",
      "state": {}
     },
     "8ffb0fb1e5ed49918e7ea331f64e9386": {
      "model_module": "@jupyter-widgets/base",
      "model_module_version": "1.2.0",
      "model_name": "LayoutModel",
      "state": {
       "flex": "1 1 auto",
       "width": "auto"
      }
     },
     "910eab7b84b642faaef4ae283e9447c1": {
      "model_module": "@jupyter-widgets/base",
      "model_module_version": "1.2.0",
      "model_name": "LayoutModel",
      "state": {
       "flex": "1 1 auto",
       "width": "auto"
      }
     },
     "91a159a5c3974f499ebe2485339509f6": {
      "model_module": "@jupyter-widgets/base",
      "model_module_version": "1.2.0",
      "model_name": "LayoutModel",
      "state": {
       "display": "flex",
       "flex_flow": "row"
      }
     },
     "91a2287acbc94c358e02db2983478fb8": {
      "model_module": "@jupyter-widgets/base",
      "model_module_version": "1.2.0",
      "model_name": "LayoutModel",
      "state": {}
     },
     "91cec29efb4540d59bcc6f0dd7e6e999": {
      "model_module": "@jupyter-widgets/base",
      "model_module_version": "1.2.0",
      "model_name": "LayoutModel",
      "state": {}
     },
     "91d6968cb35240709b7d64be64b6e5a1": {
      "model_module": "@jupyter-widgets/controls",
      "model_module_version": "1.5.0",
      "model_name": "DescriptionStyleModel",
      "state": {
       "description_width": ""
      }
     },
     "9236db682abb4b9b98c0e794e19f3d8d": {
      "model_module": "@jupyter-widgets/base",
      "model_module_version": "1.2.0",
      "model_name": "LayoutModel",
      "state": {
       "flex": "10 1 auto",
       "width": "auto"
      }
     },
     "923a2903ea1e406992d5c65fdacdef65": {
      "model_module": "@jupyter-widgets/controls",
      "model_module_version": "1.5.0",
      "model_name": "HBoxModel",
      "state": {
       "children": [
        "IPY_MODEL_4f2dfb89e6d84ad2981d4db8670749f8",
        "IPY_MODEL_1f9045dfb09d4302a44e5fc61892b50f",
        "IPY_MODEL_facd174b3a854b41a53284836f73c425"
       ],
       "layout": "IPY_MODEL_e207d6d8ed00461abcedde0f7d7f725b"
      }
     },
     "923f0bc00b4440cebec3bf4fd829d641": {
      "model_module": "@jupyter-widgets/base",
      "model_module_version": "1.2.0",
      "model_name": "LayoutModel",
      "state": {
       "flex": "1 1 auto",
       "width": "auto"
      }
     },
     "92951d87be5b403e985504f99fe567a0": {
      "model_module": "@jupyter-widgets/base",
      "model_module_version": "1.2.0",
      "model_name": "LayoutModel",
      "state": {
       "flex": "10 1 auto",
       "width": "auto"
      }
     },
     "92b4d78f172a41818ad5d0e856709d66": {
      "model_module": "@jupyter-widgets/controls",
      "model_module_version": "1.5.0",
      "model_name": "DropdownModel",
      "state": {
       "_options_labels": [
        "1-Butene",
        "Acetone",
        "Air",
        "Ammonia",
        "Argon",
        "Benzene",
        "CarbonDioxide",
        "CarbonMonoxide",
        "CarbonylSulfide",
        "CycloHexane",
        "CycloPropane",
        "Cyclopentane",
        "D4",
        "D5",
        "D6",
        "Deuterium",
        "Dichloroethane",
        "DiethylEther",
        "DimethylCarbonate",
        "DimethylEther",
        "Ethane",
        "Ethanol",
        "EthylBenzene",
        "Ethylene",
        "EthyleneOxide",
        "Fluorine",
        "HFE143m",
        "HeavyWater",
        "Helium",
        "Hydrogen",
        "HydrogenChloride",
        "HydrogenSulfide",
        "IsoButane",
        "IsoButene",
        "Isohexane",
        "Isopentane",
        "Krypton",
        "MD2M",
        "MD3M",
        "MD4M",
        "MDM",
        "MM",
        "Methane",
        "Methanol",
        "MethylLinoleate",
        "MethylLinolenate",
        "MethylOleate",
        "MethylPalmitate",
        "MethylStearate",
        "Neon",
        "Neopentane",
        "Nitrogen",
        "NitrousOxide",
        "Novec649",
        "OrthoDeuterium",
        "OrthoHydrogen",
        "Oxygen",
        "ParaDeuterium",
        "ParaHydrogen",
        "Propylene",
        "Propyne",
        "R11",
        "R113",
        "R114",
        "R115",
        "R116",
        "R12",
        "R123",
        "R1233zd(E)",
        "R1234yf",
        "R1234ze(E)",
        "R1234ze(Z)",
        "R124",
        "R1243zf",
        "R125",
        "R13",
        "R134a",
        "R13I1",
        "R14",
        "R141b",
        "R142b",
        "R143a",
        "R152A",
        "R161",
        "R21",
        "R218",
        "R22",
        "R227EA",
        "R23",
        "R236EA",
        "R236FA",
        "R245ca",
        "R245fa",
        "R32",
        "R365MFC",
        "R40",
        "R404A",
        "R407C",
        "R41",
        "R410A",
        "R507A",
        "RC318",
        "SES36",
        "SulfurDioxide",
        "SulfurHexafluoride",
        "Toluene",
        "Water",
        "Xenon",
        "cis-2-Butene",
        "m-Xylene",
        "n-Butane",
        "n-Decane",
        "n-Dodecane",
        "n-Heptane",
        "n-Hexane",
        "n-Nonane",
        "n-Octane",
        "n-Pentane",
        "n-Propane",
        "n-Undecane",
        "o-Xylene",
        "p-Xylene",
        "trans-2-Butene"
       ],
       "index": 2,
       "layout": "IPY_MODEL_6106d3c8db114bd5975d5c6c97f28c89",
       "style": "IPY_MODEL_a11f2283b36c410db49b46c0c1b471b1"
      }
     },
     "92dd6f49ac1f47349fdb34dc8226e74a": {
      "model_module": "@jupyter-widgets/controls",
      "model_module_version": "1.5.0",
      "model_name": "SliderStyleModel",
      "state": {
       "description_width": ""
      }
     },
     "930fb0fa373f497fb4b5e4d286599c9f": {
      "model_module": "@jupyter-widgets/base",
      "model_module_version": "1.2.0",
      "model_name": "LayoutModel",
      "state": {
       "flex": "1 1 auto",
       "width": "auto"
      }
     },
     "931ddd8ef9f54784821d7b9644e2e456": {
      "model_module": "@jupyter-widgets/output",
      "model_module_version": "1.0.0",
      "model_name": "OutputModel",
      "state": {
       "layout": "IPY_MODEL_33bf8eb67718469f8b82fcd277fda3eb"
      }
     },
     "93771026a04642819c60fe9594d8065c": {
      "model_module": "@jupyter-widgets/base",
      "model_module_version": "1.2.0",
      "model_name": "LayoutModel",
      "state": {
       "display": "flex",
       "flex_flow": "row"
      }
     },
     "93d7ea8d20784ca0a8db7abf7e66e7d1": {
      "model_module": "@jupyter-widgets/base",
      "model_module_version": "1.2.0",
      "model_name": "LayoutModel",
      "state": {
       "flex": "1 1 auto",
       "width": "auto"
      }
     },
     "944783260bd9469f835c8ab222f3c1c6": {
      "model_module": "@jupyter-widgets/base",
      "model_module_version": "1.2.0",
      "model_name": "LayoutModel",
      "state": {}
     },
     "948df7268f70401b85474d0248b94982": {
      "model_module": "@jupyter-widgets/controls",
      "model_module_version": "1.5.0",
      "model_name": "AccordionModel",
      "state": {
       "_titles": {
        "0": "Thermodynamic State",
        "1": "Flat Plate"
       },
       "children": [
        "IPY_MODEL_18b241c6756f48e0815717b5cf0dd48f",
        "IPY_MODEL_a3eb5907e6d9402ab166f64996e79f4d"
       ],
       "layout": "IPY_MODEL_80673f31f3c44fa3b05d9cf187d78792"
      }
     },
     "94b98d285e8d44a3a55e060f4f362e97": {
      "model_module": "@jupyter-widgets/base",
      "model_module_version": "1.2.0",
      "model_name": "LayoutModel",
      "state": {
       "flex": "10 1 auto",
       "width": "auto"
      }
     },
     "9557fae34a3340dc9f36a679c72fe7cc": {
      "model_module": "@jupyter-widgets/base",
      "model_module_version": "1.2.0",
      "model_name": "LayoutModel",
      "state": {}
     },
     "95d5578fdf474bde9ca12be2a628c81d": {
      "model_module": "@jupyter-widgets/controls",
      "model_module_version": "1.5.0",
      "model_name": "SliderStyleModel",
      "state": {
       "description_width": ""
      }
     },
     "962c2f952bac459297fc9fb1a9ebad95": {
      "model_module": "@jupyter-widgets/controls",
      "model_module_version": "1.5.0",
      "model_name": "SliderStyleModel",
      "state": {
       "description_width": ""
      }
     },
     "964c39c2816d43d1949cd3ec911dfc81": {
      "model_module": "@jupyter-widgets/base",
      "model_module_version": "1.2.0",
      "model_name": "LayoutModel",
      "state": {
       "flex": "1 1 auto",
       "width": "auto"
      }
     },
     "967eb9ea8bb746d8b184dd3ee4ff7802": {
      "model_module": "@jupyter-widgets/controls",
      "model_module_version": "1.5.0",
      "model_name": "VBoxModel",
      "state": {
       "children": [
        "IPY_MODEL_f996b71a187b4b948bdb48aee2206a68",
        "IPY_MODEL_ec5ea047025944b887adc74f1dac832b",
        "IPY_MODEL_a1bbb237542d49378ac2adf05d01ea05"
       ],
       "layout": "IPY_MODEL_6227ea764e3a415ebb9181d3b509ac5e"
      }
     },
     "96c3b9661dd545029b294dd3528ca7e0": {
      "model_module": "@jupyter-widgets/controls",
      "model_module_version": "1.5.0",
      "model_name": "AccordionModel",
      "state": {
       "_titles": {
        "0": "Thermodynamic State",
        "1": "Flat Plate"
       },
       "children": [
        "IPY_MODEL_54bdbe01bb874d748d0978681a5b134e",
        "IPY_MODEL_0c35ec5faf8942fcb349c421c2c22a5b"
       ],
       "layout": "IPY_MODEL_02bd85daecb74d11ad31f16cc0981bb2"
      }
     },
     "96eb74f10a3246c592b7b82a0cdd89f1": {
      "model_module": "@jupyter-widgets/base",
      "model_module_version": "1.2.0",
      "model_name": "LayoutModel",
      "state": {
       "flex": "1 1 auto",
       "width": "auto"
      }
     },
     "97263dcea2d24d98975272bea0abfc2c": {
      "model_module": "@jupyter-widgets/base",
      "model_module_version": "1.2.0",
      "model_name": "LayoutModel",
      "state": {}
     },
     "9754402a63e4424b93d134e769637d60": {
      "model_module": "@jupyter-widgets/base",
      "model_module_version": "1.2.0",
      "model_name": "LayoutModel",
      "state": {}
     },
     "979f2c6922ad41c3a11ec0b220804a0d": {
      "model_module": "@jupyter-widgets/controls",
      "model_module_version": "1.5.0",
      "model_name": "LabelModel",
      "state": {
       "layout": "IPY_MODEL_8ffb0fb1e5ed49918e7ea331f64e9386",
       "style": "IPY_MODEL_1073a4dc93b04852bd8634fb4ddfea20",
       "value": "Temperature in °C:"
      }
     },
     "986905e6a273464f8439c27db55c46e8": {
      "model_module": "@jupyter-widgets/controls",
      "model_module_version": "1.5.0",
      "model_name": "DropdownModel",
      "state": {
       "_options_labels": [
        "1-Butene",
        "Acetone",
        "Air",
        "Ammonia",
        "Argon",
        "Benzene",
        "CarbonDioxide",
        "CarbonMonoxide",
        "CarbonylSulfide",
        "CycloHexane",
        "CycloPropane",
        "Cyclopentane",
        "D4",
        "D5",
        "D6",
        "Deuterium",
        "Dichloroethane",
        "DiethylEther",
        "DimethylCarbonate",
        "DimethylEther",
        "Ethane",
        "Ethanol",
        "EthylBenzene",
        "Ethylene",
        "EthyleneOxide",
        "Fluorine",
        "HFE143m",
        "HeavyWater",
        "Helium",
        "Hydrogen",
        "HydrogenChloride",
        "HydrogenSulfide",
        "IsoButane",
        "IsoButene",
        "Isohexane",
        "Isopentane",
        "Krypton",
        "MD2M",
        "MD3M",
        "MD4M",
        "MDM",
        "MM",
        "Methane",
        "Methanol",
        "MethylLinoleate",
        "MethylLinolenate",
        "MethylOleate",
        "MethylPalmitate",
        "MethylStearate",
        "Neon",
        "Neopentane",
        "Nitrogen",
        "NitrousOxide",
        "Novec649",
        "OrthoDeuterium",
        "OrthoHydrogen",
        "Oxygen",
        "ParaDeuterium",
        "ParaHydrogen",
        "Propylene",
        "Propyne",
        "R11",
        "R113",
        "R114",
        "R115",
        "R116",
        "R12",
        "R123",
        "R1233zd(E)",
        "R1234yf",
        "R1234ze(E)",
        "R1234ze(Z)",
        "R124",
        "R1243zf",
        "R125",
        "R13",
        "R134a",
        "R13I1",
        "R14",
        "R141b",
        "R142b",
        "R143a",
        "R152A",
        "R161",
        "R21",
        "R218",
        "R22",
        "R227EA",
        "R23",
        "R236EA",
        "R236FA",
        "R245ca",
        "R245fa",
        "R32",
        "R365MFC",
        "R40",
        "R404A",
        "R407C",
        "R41",
        "R410A",
        "R507A",
        "RC318",
        "SES36",
        "SulfurDioxide",
        "SulfurHexafluoride",
        "Toluene",
        "Water",
        "Xenon",
        "cis-2-Butene",
        "m-Xylene",
        "n-Butane",
        "n-Decane",
        "n-Dodecane",
        "n-Heptane",
        "n-Hexane",
        "n-Nonane",
        "n-Octane",
        "n-Pentane",
        "n-Propane",
        "n-Undecane",
        "o-Xylene",
        "p-Xylene",
        "trans-2-Butene"
       ],
       "index": 2,
       "layout": "IPY_MODEL_b36aa2380279475dadb6d698712b2b28",
       "style": "IPY_MODEL_b47c90d7c95c49cb857ccea59f487d1d"
      }
     },
     "99686beef82a486198c871c1e49dea79": {
      "model_module": "@jupyter-widgets/base",
      "model_module_version": "1.2.0",
      "model_name": "LayoutModel",
      "state": {
       "flex": "1 1 auto",
       "width": "auto"
      }
     },
     "9a3c93525dd545858a622f3e50cbdff2": {
      "model_module": "@jupyter-widgets/base",
      "model_module_version": "1.2.0",
      "model_name": "LayoutModel",
      "state": {
       "flex": "1 1 auto",
       "width": "auto"
      }
     },
     "9b8e56dbec28437c93e5288d170a0fee": {
      "model_module": "@jupyter-widgets/controls",
      "model_module_version": "1.5.0",
      "model_name": "HBoxModel",
      "state": {
       "children": [
        "IPY_MODEL_a5d4c0501dba48af9738bf1e7d58d9fd",
        "IPY_MODEL_a5453503290443ee9e04902024e78c9d",
        "IPY_MODEL_383f8ce118c54a3bbf7dda77589d622e"
       ],
       "layout": "IPY_MODEL_316da4425b274984bfb98e53af1b1467"
      }
     },
     "9ba2b9ca28ac41d4927d58c338d9841c": {
      "model_module": "@jupyter-widgets/base",
      "model_module_version": "1.2.0",
      "model_name": "LayoutModel",
      "state": {
       "flex": "1 1 auto",
       "width": "auto"
      }
     },
     "9ba7c1bcc1d146ddaf66a776e425ea19": {
      "model_module": "@jupyter-widgets/base",
      "model_module_version": "1.2.0",
      "model_name": "LayoutModel",
      "state": {
       "flex": "1 1 auto",
       "width": "auto"
      }
     },
     "9bb4d5f381814b36b51eebc7d19d40bb": {
      "model_module": "@jupyter-widgets/controls",
      "model_module_version": "1.5.0",
      "model_name": "BoundedFloatTextModel",
      "state": {
       "layout": "IPY_MODEL_1053b9b664034110beea1562f55cf1f2",
       "max": 200,
       "min": 0.001,
       "step": 0.001,
       "style": "IPY_MODEL_bb7bdfbd12244dc580e577716d1cf6d5",
       "value": 20
      }
     },
     "9bf22d62f6e949dcab18a0a488d5895a": {
      "model_module": "@jupyter-widgets/base",
      "model_module_version": "1.2.0",
      "model_name": "LayoutModel",
      "state": {
       "display": "flex",
       "min_height": "300px",
       "width": "100%"
      }
     },
     "9c1e088404b54c54a56ec49106dbf609": {
      "model_module": "@jupyter-widgets/base",
      "model_module_version": "1.2.0",
      "model_name": "LayoutModel",
      "state": {
       "display": "flex",
       "width": "100%"
      }
     },
     "9c1e9782bda04c409eb360dbe8786a54": {
      "model_module": "@jupyter-widgets/base",
      "model_module_version": "1.2.0",
      "model_name": "LayoutModel",
      "state": {
       "flex": "1 1 auto",
       "width": "auto"
      }
     },
     "9cac685d5870421e8904e7de3368293b": {
      "model_module": "@jupyter-widgets/base",
      "model_module_version": "1.2.0",
      "model_name": "LayoutModel",
      "state": {
       "flex": "1 1 auto",
       "width": "auto"
      }
     },
     "9cccc939c86f461b8242c0aa74043326": {
      "model_module": "@jupyter-widgets/base",
      "model_module_version": "1.2.0",
      "model_name": "LayoutModel",
      "state": {
       "flex": "1 1 auto",
       "width": "auto"
      }
     },
     "9ce887f7724242aa964e350911af4241": {
      "model_module": "@jupyter-widgets/base",
      "model_module_version": "1.2.0",
      "model_name": "LayoutModel",
      "state": {}
     },
     "9d13b4e9cd12465b826a89686bbf6467": {
      "model_module": "@jupyter-widgets/controls",
      "model_module_version": "1.5.0",
      "model_name": "DescriptionStyleModel",
      "state": {
       "description_width": ""
      }
     },
     "9d7ef7f6e3aa4a14ba7f282492902586": {
      "model_module": "@jupyter-widgets/controls",
      "model_module_version": "1.5.0",
      "model_name": "LabelModel",
      "state": {
       "layout": "IPY_MODEL_fcd4f14bc37a474ca1ebb88c82e6dc27",
       "style": "IPY_MODEL_56aaa381589b41e4b534739fa1513c22",
       "value": "Platelength in m"
      }
     },
     "9d9bdf51450e46918cfb2c235afb7e81": {
      "model_module": "@jupyter-widgets/controls",
      "model_module_version": "1.5.0",
      "model_name": "BoundedFloatTextModel",
      "state": {
       "layout": "IPY_MODEL_3f29288408584d8d92ee42af955aaf25",
       "max": 55,
       "min": -30,
       "step": 1,
       "style": "IPY_MODEL_7bf87100e34848919e311a21e891db30",
       "value": 20
      }
     },
     "9e3b2b9494384ee7b5f3a3fa274b80df": {
      "model_module": "@jupyter-widgets/output",
      "model_module_version": "1.0.0",
      "model_name": "OutputModel",
      "state": {
       "layout": "IPY_MODEL_e3a09fa34ac44e7fb2dc2e37296c727d"
      }
     },
     "9e3f6518b4074fa99a63f6c5a2551799": {
      "model_module": "@jupyter-widgets/base",
      "model_module_version": "1.2.0",
      "model_name": "LayoutModel",
      "state": {
       "flex": "1 1 auto",
       "width": "auto"
      }
     },
     "9e9b362632994d74a9c622b05d27dce3": {
      "model_module": "@jupyter-widgets/controls",
      "model_module_version": "1.5.0",
      "model_name": "HBoxModel",
      "state": {
       "children": [
        "IPY_MODEL_f505e645353f49dbb85b2ee4bfb2615e",
        "IPY_MODEL_311bd1c88f774aceb9259c6aeb32e169",
        "IPY_MODEL_ca56c7c2748649bbb79f43b4efbb0535"
       ],
       "layout": "IPY_MODEL_79759ff57bad4ebbbe12acb3b6f3b80d"
      }
     },
     "9f5bdfc9cc1e4d9a9ead05bca642e699": {
      "model_module": "@jupyter-widgets/base",
      "model_module_version": "1.2.0",
      "model_name": "LayoutModel",
      "state": {
       "flex": "10 1 auto",
       "width": "auto"
      }
     },
     "9f927d54d22746069ffabe6029c01379": {
      "model_module": "@jupyter-widgets/base",
      "model_module_version": "1.2.0",
      "model_name": "LayoutModel",
      "state": {
       "display": "flex",
       "min_height": "300px",
       "width": "100%"
      }
     },
     "9f9b5ae99ae94daf9af373ab7c537431": {
      "model_module": "@jupyter-widgets/base",
      "model_module_version": "1.2.0",
      "model_name": "LayoutModel",
      "state": {}
     },
     "9fa58390906341109a7973ab0f22818a": {
      "model_module": "@jupyter-widgets/base",
      "model_module_version": "1.2.0",
      "model_name": "LayoutModel",
      "state": {
       "flex": "1 1 auto",
       "width": "auto"
      }
     },
     "9fc483d3a6bb44d194e4a392073d3fee": {
      "model_module": "@jupyter-widgets/base",
      "model_module_version": "1.2.0",
      "model_name": "LayoutModel",
      "state": {}
     },
     "9fd6cb963ca54a7285bcc053ba7bd13f": {
      "model_module": "@jupyter-widgets/controls",
      "model_module_version": "1.5.0",
      "model_name": "LabelModel",
      "state": {
       "layout": "IPY_MODEL_9e3f6518b4074fa99a63f6c5a2551799",
       "style": "IPY_MODEL_d3688b4afaec4b7f82058c79a977e84c",
       "value": "Temperature in °C:"
      }
     },
     "9ffd37a584664763985f3979244f01ca": {
      "model_module": "@jupyter-widgets/base",
      "model_module_version": "1.2.0",
      "model_name": "LayoutModel",
      "state": {}
     },
     "a0077b1df8864874a6e1191a9bd6937f": {
      "model_module": "@jupyter-widgets/controls",
      "model_module_version": "1.5.0",
      "model_name": "DescriptionStyleModel",
      "state": {
       "description_width": ""
      }
     },
     "a00d646ba71e4b8eb0ca443b480fc6d0": {
      "model_module": "@jupyter-widgets/controls",
      "model_module_version": "1.5.0",
      "model_name": "BoundedFloatTextModel",
      "state": {
       "layout": "IPY_MODEL_2377d69daef74154bb280cc2030a7905",
       "max": 55,
       "min": -30,
       "step": 1,
       "style": "IPY_MODEL_d03e523c4f694b48bc49eff3656cbdd8",
       "value": 20
      }
     },
     "a012a1f8375c452682ad38d1cdab9a89": {
      "model_module": "@jupyter-widgets/base",
      "model_module_version": "1.2.0",
      "model_name": "LayoutModel",
      "state": {
       "flex": "1 1 auto",
       "width": "auto"
      }
     },
     "a0778baacce9465193120a4eb82b3c2a": {
      "model_module": "@jupyter-widgets/controls",
      "model_module_version": "1.5.0",
      "model_name": "BoundedFloatTextModel",
      "state": {
       "layout": "IPY_MODEL_d3afa79995e64dde867b9fc098a6741d",
       "max": 15000000,
       "min": 1,
       "step": 100000,
       "style": "IPY_MODEL_8cdbd39a49e742fa9b314299c4a53a01",
       "value": 101325
      }
     },
     "a0af88ef6f354206a3567334769aba06": {
      "model_module": "@jupyter-widgets/controls",
      "model_module_version": "1.5.0",
      "model_name": "LabelModel",
      "state": {
       "layout": "IPY_MODEL_4b34a343518044f7a15f16e466798fc7",
       "style": "IPY_MODEL_cc373ba2e64945dab6606984d2d4b00c",
       "value": "Pressure in Pa:"
      }
     },
     "a0cea089f5b647dd93ea6dbd7239b886": {
      "model_module": "@jupyter-widgets/controls",
      "model_module_version": "1.5.0",
      "model_name": "DescriptionStyleModel",
      "state": {
       "description_width": ""
      }
     },
     "a0ea183bcb164ed0ac929b6029e425e3": {
      "model_module": "@jupyter-widgets/controls",
      "model_module_version": "1.5.0",
      "model_name": "DescriptionStyleModel",
      "state": {
       "description_width": ""
      }
     },
     "a0f5c35bba224b9f8b0fcc46562e637a": {
      "model_module": "@jupyter-widgets/base",
      "model_module_version": "1.2.0",
      "model_name": "LayoutModel",
      "state": {
       "flex": "10 1 auto",
       "width": "auto"
      }
     },
     "a0fb72705674438aa39d550731d2761a": {
      "model_module": "@jupyter-widgets/base",
      "model_module_version": "1.2.0",
      "model_name": "LayoutModel",
      "state": {
       "display": "flex",
       "width": "100%"
      }
     },
     "a11f2283b36c410db49b46c0c1b471b1": {
      "model_module": "@jupyter-widgets/controls",
      "model_module_version": "1.5.0",
      "model_name": "DescriptionStyleModel",
      "state": {
       "description_width": ""
      }
     },
     "a1973915e2784d19aeb0cf1cfee30dc1": {
      "model_module": "@jupyter-widgets/controls",
      "model_module_version": "1.5.0",
      "model_name": "SliderStyleModel",
      "state": {
       "description_width": ""
      }
     },
     "a1bbb237542d49378ac2adf05d01ea05": {
      "model_module": "@jupyter-widgets/controls",
      "model_module_version": "1.5.0",
      "model_name": "HBoxModel",
      "state": {
       "children": [
        "IPY_MODEL_bbb492ab511342529c698246f65d1508",
        "IPY_MODEL_3a66645c6dd640ffa2c4ea53196b95f7"
       ],
       "layout": "IPY_MODEL_6838231f902b44eb8c0f625463158b2d"
      }
     },
     "a1d9cbf5e4ff43d3bdf69a293da016e7": {
      "model_module": "@jupyter-widgets/base",
      "model_module_version": "1.2.0",
      "model_name": "LayoutModel",
      "state": {
       "display": "flex",
       "width": "100%"
      }
     },
     "a1e6a9c89d604c47bdfbcbfe95ef83d5": {
      "model_module": "@jupyter-widgets/controls",
      "model_module_version": "1.5.0",
      "model_name": "LabelModel",
      "state": {
       "layout": "IPY_MODEL_227bf29b0801443da6ab6ad65b10f055",
       "style": "IPY_MODEL_bbaa9c1e3ac04db98cc72a7a7263ed4b",
       "value": "Gas / Specie Mixture:"
      }
     },
     "a1f9b10eab6343c1ad5ae9100075268d": {
      "model_module": "@jupyter-widgets/base",
      "model_module_version": "1.2.0",
      "model_name": "LayoutModel",
      "state": {
       "display": "flex",
       "flex_flow": "row"
      }
     },
     "a21bdecdd76c4d51859d085a1179ce8c": {
      "model_module": "@jupyter-widgets/base",
      "model_module_version": "1.2.0",
      "model_name": "LayoutModel",
      "state": {
       "display": "flex",
       "min_height": "300px",
       "width": "100%"
      }
     },
     "a2bcbd1e29a04318a5e25661e1b56bbf": {
      "model_module": "@jupyter-widgets/base",
      "model_module_version": "1.2.0",
      "model_name": "LayoutModel",
      "state": {}
     },
     "a2ef14c8d09448a3ba7e05b625f14427": {
      "model_module": "@jupyter-widgets/base",
      "model_module_version": "1.2.0",
      "model_name": "LayoutModel",
      "state": {
       "flex": "1 1 auto",
       "width": "auto"
      }
     },
     "a2fa8ba15e3a4b02a38f7550b14ef36f": {
      "model_module": "@jupyter-widgets/base",
      "model_module_version": "1.2.0",
      "model_name": "LayoutModel",
      "state": {
       "display": "flex",
       "flex_flow": "row"
      }
     },
     "a335652aee8645c9bbd7b33707e696bd": {
      "model_module": "@jupyter-widgets/controls",
      "model_module_version": "1.5.0",
      "model_name": "FloatSliderModel",
      "state": {
       "layout": "IPY_MODEL_43c0a7b362444cbfa7c94fe7692ffcd3",
       "max": 15000000,
       "min": 1,
       "readout": false,
       "step": 100000,
       "style": "IPY_MODEL_af6e1056317448e48183111fd3eb51a1",
       "value": 101325
      }
     },
     "a3463ca435ee4467b1f5df128641ce80": {
      "model_module": "@jupyter-widgets/base",
      "model_module_version": "1.2.0",
      "model_name": "LayoutModel",
      "state": {
       "display": "flex",
       "flex_flow": "row"
      }
     },
     "a3537e452b314eb98dd36e4d2d99e276": {
      "model_module": "@jupyter-widgets/base",
      "model_module_version": "1.2.0",
      "model_name": "LayoutModel",
      "state": {
       "flex": "10 1 auto",
       "width": "auto"
      }
     },
     "a3661257f5bb4b8392d48147c8c48a68": {
      "model_module": "@jupyter-widgets/controls",
      "model_module_version": "1.5.0",
      "model_name": "DropdownModel",
      "state": {
       "_options_labels": [
        "1-Butene",
        "Acetone",
        "Air",
        "Ammonia",
        "Argon",
        "Benzene",
        "CarbonDioxide",
        "CarbonMonoxide",
        "CarbonylSulfide",
        "CycloHexane",
        "CycloPropane",
        "Cyclopentane",
        "D4",
        "D5",
        "D6",
        "Deuterium",
        "Dichloroethane",
        "DiethylEther",
        "DimethylCarbonate",
        "DimethylEther",
        "Ethane",
        "Ethanol",
        "EthylBenzene",
        "Ethylene",
        "EthyleneOxide",
        "Fluorine",
        "HFE143m",
        "HeavyWater",
        "Helium",
        "Hydrogen",
        "HydrogenChloride",
        "HydrogenSulfide",
        "IsoButane",
        "IsoButene",
        "Isohexane",
        "Isopentane",
        "Krypton",
        "MD2M",
        "MD3M",
        "MD4M",
        "MDM",
        "MM",
        "Methane",
        "Methanol",
        "MethylLinoleate",
        "MethylLinolenate",
        "MethylOleate",
        "MethylPalmitate",
        "MethylStearate",
        "Neon",
        "Neopentane",
        "Nitrogen",
        "NitrousOxide",
        "Novec649",
        "OrthoDeuterium",
        "OrthoHydrogen",
        "Oxygen",
        "ParaDeuterium",
        "ParaHydrogen",
        "Propylene",
        "Propyne",
        "R11",
        "R113",
        "R114",
        "R115",
        "R116",
        "R12",
        "R123",
        "R1233zd(E)",
        "R1234yf",
        "R1234ze(E)",
        "R1234ze(Z)",
        "R124",
        "R1243zf",
        "R125",
        "R13",
        "R134a",
        "R13I1",
        "R14",
        "R141b",
        "R142b",
        "R143a",
        "R152A",
        "R161",
        "R21",
        "R218",
        "R22",
        "R227EA",
        "R23",
        "R236EA",
        "R236FA",
        "R245ca",
        "R245fa",
        "R32",
        "R365MFC",
        "R40",
        "R404A",
        "R407C",
        "R41",
        "R410A",
        "R507A",
        "RC318",
        "SES36",
        "SulfurDioxide",
        "SulfurHexafluoride",
        "Toluene",
        "Water",
        "Xenon",
        "cis-2-Butene",
        "m-Xylene",
        "n-Butane",
        "n-Decane",
        "n-Dodecane",
        "n-Heptane",
        "n-Hexane",
        "n-Nonane",
        "n-Octane",
        "n-Pentane",
        "n-Propane",
        "n-Undecane",
        "o-Xylene",
        "p-Xylene",
        "trans-2-Butene"
       ],
       "index": 2,
       "layout": "IPY_MODEL_a72560dc512a475991757def8139b0f3",
       "style": "IPY_MODEL_3392ca87238c4666a250b4bea86053c0"
      }
     },
     "a38bbbfd27bd42e995469de6e82b44b8": {
      "model_module": "@jupyter-widgets/base",
      "model_module_version": "1.2.0",
      "model_name": "LayoutModel",
      "state": {
       "display": "flex",
       "width": "100%"
      }
     },
     "a3978e2ff99e420b98a9017c8844bced": {
      "model_module": "@jupyter-widgets/controls",
      "model_module_version": "1.5.0",
      "model_name": "HBoxModel",
      "state": {
       "children": [
        "IPY_MODEL_5486c581fae0485b84edad3df993080d",
        "IPY_MODEL_c2c5dfe074524c1ba99fb188e4d02835",
        "IPY_MODEL_2c14464491f04bc988501618abedc396"
       ],
       "layout": "IPY_MODEL_32dde0ec93d74951bba6df79d2867516"
      }
     },
     "a3eb5907e6d9402ab166f64996e79f4d": {
      "model_module": "@jupyter-widgets/controls",
      "model_module_version": "1.5.0",
      "model_name": "VBoxModel",
      "state": {
       "children": [
        "IPY_MODEL_0f8ad4b8c4c1446a9e87c748033c530e",
        "IPY_MODEL_7e239621613543b082fd58d228bd58f5"
       ],
       "layout": "IPY_MODEL_9754402a63e4424b93d134e769637d60"
      }
     },
     "a4224af243694e2395646b3f26218a1a": {
      "model_module": "@jupyter-widgets/base",
      "model_module_version": "1.2.0",
      "model_name": "LayoutModel",
      "state": {
       "flex": "10 1 auto",
       "width": "auto"
      }
     },
     "a42f9304600c490e96bb2121ff4aec77": {
      "model_module": "@jupyter-widgets/controls",
      "model_module_version": "1.5.0",
      "model_name": "FloatSliderModel",
      "state": {
       "layout": "IPY_MODEL_c9f7d2d69b86410d9c0afb31b72fba13",
       "max": 10,
       "min": 0.001,
       "readout": false,
       "step": 0.001,
       "style": "IPY_MODEL_3fe2036fb09a4411b10648767ebd2866",
       "value": 0.1
      }
     },
     "a435cb60d803483fb616a152be51e2de": {
      "model_module": "@jupyter-widgets/base",
      "model_module_version": "1.2.0",
      "model_name": "LayoutModel",
      "state": {
       "flex": "10 1 auto",
       "width": "auto"
      }
     },
     "a444bfacb1434bf0820d84b5a91fa7c7": {
      "model_module": "@jupyter-widgets/base",
      "model_module_version": "1.2.0",
      "model_name": "LayoutModel",
      "state": {
       "display": "flex",
       "width": "100%"
      }
     },
     "a503e12d4d734ebc8a1396adfdf81b71": {
      "model_module": "@jupyter-widgets/controls",
      "model_module_version": "1.5.0",
      "model_name": "HBoxModel",
      "state": {
       "children": [
        "IPY_MODEL_b8d251ddbd214af682a95e25b9277785",
        "IPY_MODEL_bdcdb0a930db4ab2a271694b5badb42f",
        "IPY_MODEL_24c6f0b2a32543f193f603aac5e940b4"
       ],
       "layout": "IPY_MODEL_d50cb299f8f34ed5aafad4e38efa5821"
      }
     },
     "a5142188afbd4d2c80eb1573a731972a": {
      "model_module": "@jupyter-widgets/base",
      "model_module_version": "1.2.0",
      "model_name": "LayoutModel",
      "state": {
       "flex": "10 1 auto",
       "width": "auto"
      }
     },
     "a51a7f2f37784660a2c273983b32e7ef": {
      "model_module": "@jupyter-widgets/base",
      "model_module_version": "1.2.0",
      "model_name": "LayoutModel",
      "state": {}
     },
     "a5453503290443ee9e04902024e78c9d": {
      "model_module": "@jupyter-widgets/controls",
      "model_module_version": "1.5.0",
      "model_name": "FloatSliderModel",
      "state": {
       "layout": "IPY_MODEL_2ea7642c7a6144039b3e1a9c7667722f",
       "max": 15000000,
       "min": 1,
       "readout": false,
       "step": 100000,
       "style": "IPY_MODEL_20322507c2ec4e1db292a54f14742019",
       "value": 101325
      }
     },
     "a55f1266f3d14299a53a4ba93ed84a93": {
      "model_module": "@jupyter-widgets/base",
      "model_module_version": "1.2.0",
      "model_name": "LayoutModel",
      "state": {
       "display": "flex",
       "min_height": "300px",
       "width": "100%"
      }
     },
     "a59bd647adb142fba0d7869c1965fdef": {
      "model_module": "@jupyter-widgets/base",
      "model_module_version": "1.2.0",
      "model_name": "LayoutModel",
      "state": {
       "display": "flex",
       "flex_flow": "row"
      }
     },
     "a5a5c083d7804fa4a316679b9f5ff4f1": {
      "model_module": "@jupyter-widgets/base",
      "model_module_version": "1.2.0",
      "model_name": "LayoutModel",
      "state": {
       "flex": "1 1 auto",
       "width": "auto"
      }
     },
     "a5d4c0501dba48af9738bf1e7d58d9fd": {
      "model_module": "@jupyter-widgets/controls",
      "model_module_version": "1.5.0",
      "model_name": "LabelModel",
      "state": {
       "layout": "IPY_MODEL_3529c58a52544d58be63c44a1229a1c0",
       "style": "IPY_MODEL_e1618a0c1e3f44359a09635f877720a2",
       "value": "Pressure in Pa:"
      }
     },
     "a72560dc512a475991757def8139b0f3": {
      "model_module": "@jupyter-widgets/base",
      "model_module_version": "1.2.0",
      "model_name": "LayoutModel",
      "state": {}
     },
     "a73142ad957e4ba6b740f719955261f1": {
      "model_module": "@jupyter-widgets/controls",
      "model_module_version": "1.5.0",
      "model_name": "LabelModel",
      "state": {
       "layout": "IPY_MODEL_b00974998a384043af137fb0068f46c8",
       "style": "IPY_MODEL_c135973fa311413187296484841bac08",
       "value": "Platelength in m"
      }
     },
     "a73888ec089d453fb35c1d9fdef61f3a": {
      "model_module": "@jupyter-widgets/base",
      "model_module_version": "1.2.0",
      "model_name": "LayoutModel",
      "state": {
       "flex": "1 1 auto",
       "width": "auto"
      }
     },
     "a7627252bf3a4d5cb0fb289e7d016f3e": {
      "model_module": "@jupyter-widgets/controls",
      "model_module_version": "1.5.0",
      "model_name": "SliderStyleModel",
      "state": {
       "description_width": ""
      }
     },
     "a76c13413f5e42bc824ab6cae9d31f94": {
      "model_module": "@jupyter-widgets/base",
      "model_module_version": "1.2.0",
      "model_name": "LayoutModel",
      "state": {}
     },
     "a8184d3368194aa09cb1a137833083e9": {
      "model_module": "@jupyter-widgets/controls",
      "model_module_version": "1.5.0",
      "model_name": "LabelModel",
      "state": {
       "layout": "IPY_MODEL_0e644882490b40abb201836893721e43",
       "style": "IPY_MODEL_d3502caddea8435e9f95fcfd6d3b4644",
       "value": "Gas / Specie Mixture:"
      }
     },
     "a8566c91b7c14208bf239d1bc32b3684": {
      "model_module": "@jupyter-widgets/controls",
      "model_module_version": "1.5.0",
      "model_name": "DescriptionStyleModel",
      "state": {
       "description_width": ""
      }
     },
     "a90947ad2968490f9129ab2ef59820a1": {
      "model_module": "@jupyter-widgets/base",
      "model_module_version": "1.2.0",
      "model_name": "LayoutModel",
      "state": {
       "flex": "1 1 auto",
       "width": "auto"
      }
     },
     "aa94f03934fd4a14864c25c9677ada19": {
      "model_module": "@jupyter-widgets/controls",
      "model_module_version": "1.5.0",
      "model_name": "LabelModel",
      "state": {
       "layout": "IPY_MODEL_893fdc7971bd45e685f03cf9c1b3259a",
       "style": "IPY_MODEL_0b9f212557444185b350e81b48261863",
       "value": "Temperature in °C:"
      }
     },
     "aac8b9b5f7484782a509b0ff22353fa5": {
      "model_module": "@jupyter-widgets/controls",
      "model_module_version": "1.5.0",
      "model_name": "HBoxModel",
      "state": {
       "children": [
        "IPY_MODEL_41ffdc3f02aa4d17a38bb86811cf9346",
        "IPY_MODEL_fd158e7fb63c473d930205b36c803085",
        "IPY_MODEL_faea361b93fd488a9ee50f0971206798"
       ],
       "layout": "IPY_MODEL_a444bfacb1434bf0820d84b5a91fa7c7"
      }
     },
     "aac99808a3554138a9264911cd2b4f02": {
      "model_module": "@jupyter-widgets/base",
      "model_module_version": "1.2.0",
      "model_name": "LayoutModel",
      "state": {
       "display": "flex",
       "flex_flow": "row"
      }
     },
     "ab7de6f3fbff4dcdbbfbae1f6ac2e252": {
      "model_module": "@jupyter-widgets/controls",
      "model_module_version": "1.5.0",
      "model_name": "SliderStyleModel",
      "state": {
       "description_width": ""
      }
     },
     "ab961ed6412c4693b9bf1c18aa8a9b1d": {
      "model_module": "@jupyter-widgets/controls",
      "model_module_version": "1.5.0",
      "model_name": "DescriptionStyleModel",
      "state": {
       "description_width": ""
      }
     },
     "abddbf1c3bca43d4b42c4fb36a974fb5": {
      "model_module": "@jupyter-widgets/base",
      "model_module_version": "1.2.0",
      "model_name": "LayoutModel",
      "state": {}
     },
     "abf6a5035834447988daf09acd3ed292": {
      "model_module": "@jupyter-widgets/controls",
      "model_module_version": "1.5.0",
      "model_name": "BoundedFloatTextModel",
      "state": {
       "layout": "IPY_MODEL_9cccc939c86f461b8242c0aa74043326",
       "max": 200,
       "min": 0.001,
       "step": 0.001,
       "style": "IPY_MODEL_1c545dfe4ba9487ab82ec495d4e3125c",
       "value": 20
      }
     },
     "ac1e5f1ca6074ec1b2df2c661e5d1f58": {
      "model_module": "@jupyter-widgets/controls",
      "model_module_version": "1.5.0",
      "model_name": "LabelModel",
      "state": {
       "layout": "IPY_MODEL_a012a1f8375c452682ad38d1cdab9a89",
       "style": "IPY_MODEL_1ef490c1a5504f3abe611dfa4a94e918",
       "value": "Temperature in °C:"
      }
     },
     "ac2c0abd29584b82a60b04ee4e104ab7": {
      "model_module": "@jupyter-widgets/base",
      "model_module_version": "1.2.0",
      "model_name": "LayoutModel",
      "state": {
       "flex": "10 1 auto",
       "width": "auto"
      }
     },
     "ac351fac19ef479f80f717e9f16f2b5a": {
      "model_module": "@jupyter-widgets/base",
      "model_module_version": "1.2.0",
      "model_name": "LayoutModel",
      "state": {
       "display": "flex",
       "flex_flow": "row"
      }
     },
     "aca0298a991c478da1196ebfaabec3d4": {
      "model_module": "@jupyter-widgets/controls",
      "model_module_version": "1.5.0",
      "model_name": "DescriptionStyleModel",
      "state": {
       "description_width": ""
      }
     },
     "ad634a25b44d4064993670d92432f641": {
      "model_module": "@jupyter-widgets/controls",
      "model_module_version": "1.5.0",
      "model_name": "VBoxModel",
      "state": {
       "children": [
        "IPY_MODEL_17f3129d3b8b4cdbb70365a8174410f2",
        "IPY_MODEL_cd59cbf0f9474197b77fc999d8ab4267"
       ],
       "layout": "IPY_MODEL_fcad7d8a881e40659e6e0eaf78312381"
      }
     },
     "adac2d7a8ba64529ab8f625e18432944": {
      "model_module": "@jupyter-widgets/controls",
      "model_module_version": "1.5.0",
      "model_name": "DescriptionStyleModel",
      "state": {
       "description_width": ""
      }
     },
     "adb0b033588f4f78b56ad5bcfa9195f0": {
      "model_module": "@jupyter-widgets/controls",
      "model_module_version": "1.5.0",
      "model_name": "DescriptionStyleModel",
      "state": {
       "description_width": ""
      }
     },
     "ae77f2d5f96e492a9cd11aa526412ce3": {
      "model_module": "@jupyter-widgets/controls",
      "model_module_version": "1.5.0",
      "model_name": "FloatSliderModel",
      "state": {
       "layout": "IPY_MODEL_e07b7bf7bad84aee85e22fec0affac20",
       "max": 15000000,
       "min": 1,
       "readout": false,
       "step": 100000,
       "style": "IPY_MODEL_465a3dbaeba64682be734a055df38b23",
       "value": 101325
      }
     },
     "aeb8eef406564adf8c9b29f6f96cb7d7": {
      "model_module": "@jupyter-widgets/base",
      "model_module_version": "1.2.0",
      "model_name": "LayoutModel",
      "state": {
       "flex": "10 1 auto",
       "width": "auto"
      }
     },
     "af25a1d167284e438b11ae19f794ce1f": {
      "model_module": "@jupyter-widgets/base",
      "model_module_version": "1.2.0",
      "model_name": "LayoutModel",
      "state": {
       "flex": "1 1 auto",
       "width": "auto"
      }
     },
     "af5e77b028ca4eee9aff07fecac2c118": {
      "model_module": "@jupyter-widgets/base",
      "model_module_version": "1.2.0",
      "model_name": "LayoutModel",
      "state": {
       "flex": "10 1 auto",
       "width": "auto"
      }
     },
     "af6e1056317448e48183111fd3eb51a1": {
      "model_module": "@jupyter-widgets/controls",
      "model_module_version": "1.5.0",
      "model_name": "SliderStyleModel",
      "state": {
       "description_width": ""
      }
     },
     "b00974998a384043af137fb0068f46c8": {
      "model_module": "@jupyter-widgets/base",
      "model_module_version": "1.2.0",
      "model_name": "LayoutModel",
      "state": {
       "flex": "1 1 auto",
       "width": "auto"
      }
     },
     "b0fa6fb7cdea43d3a7ca1b170b1cc688": {
      "model_module": "@jupyter-widgets/base",
      "model_module_version": "1.2.0",
      "model_name": "LayoutModel",
      "state": {}
     },
     "b107f4a207734a76a5ddf1ec6adfb3f5": {
      "model_module": "@jupyter-widgets/controls",
      "model_module_version": "1.5.0",
      "model_name": "VBoxModel",
      "state": {
       "children": [
        "IPY_MODEL_54ebb5cdc6f849048cf6ad86ffd5ff85",
        "IPY_MODEL_7157261696e94c378077684a1a55d179"
       ],
       "layout": "IPY_MODEL_860c4164ad2b42efad27336c547b9611"
      }
     },
     "b152dd349b4e4c89b19db9793df3abf3": {
      "model_module": "@jupyter-widgets/controls",
      "model_module_version": "1.5.0",
      "model_name": "FloatSliderModel",
      "state": {
       "layout": "IPY_MODEL_9236db682abb4b9b98c0e794e19f3d8d",
       "max": 55,
       "min": -30,
       "readout": false,
       "style": "IPY_MODEL_008c6ed283484dfda813d3ef3f1a213e",
       "value": 20
      }
     },
     "b168d8031ba7465396d1d492533eb46f": {
      "model_module": "@jupyter-widgets/base",
      "model_module_version": "1.2.0",
      "model_name": "LayoutModel",
      "state": {
       "flex": "1 1 auto",
       "width": "auto"
      }
     },
     "b1c2a857a67c43d1b0d9181315998503": {
      "model_module": "@jupyter-widgets/controls",
      "model_module_version": "1.5.0",
      "model_name": "LabelModel",
      "state": {
       "layout": "IPY_MODEL_7f503a990fbc494f866530ea1938fa1c",
       "style": "IPY_MODEL_c68faa4402cf4d33846eb41a6c0c159c",
       "value": "Platelength in m"
      }
     },
     "b23d6c3dc3cc4073914966fe172d4868": {
      "model_module": "@jupyter-widgets/base",
      "model_module_version": "1.2.0",
      "model_name": "LayoutModel",
      "state": {}
     },
     "b252b96deec1490c80823fdf9531f770": {
      "model_module": "@jupyter-widgets/base",
      "model_module_version": "1.2.0",
      "model_name": "LayoutModel",
      "state": {
       "flex": "10 1 auto",
       "width": "auto"
      }
     },
     "b277aa9f5ce74490a2765ca146ee3ca4": {
      "model_module": "@jupyter-widgets/controls",
      "model_module_version": "1.5.0",
      "model_name": "SliderStyleModel",
      "state": {
       "description_width": ""
      }
     },
     "b35d5995a21d46049dfc76f1cee718b3": {
      "model_module": "@jupyter-widgets/controls",
      "model_module_version": "1.5.0",
      "model_name": "BoundedFloatTextModel",
      "state": {
       "layout": "IPY_MODEL_4d9a65e729d744a09c51bfc141c1dbc3",
       "max": 15000000,
       "min": 1,
       "step": 100000,
       "style": "IPY_MODEL_bd748511211947318796fb7e56572208",
       "value": 101325
      }
     },
     "b36aa2380279475dadb6d698712b2b28": {
      "model_module": "@jupyter-widgets/base",
      "model_module_version": "1.2.0",
      "model_name": "LayoutModel",
      "state": {}
     },
     "b3cec420d40f41dba5ce822122d87b9d": {
      "model_module": "@jupyter-widgets/controls",
      "model_module_version": "1.5.0",
      "model_name": "FloatSliderModel",
      "state": {
       "layout": "IPY_MODEL_f2ee25f5925a4f45b5f18b07a0fa7b14",
       "max": 15000000,
       "min": 1,
       "readout": false,
       "step": 100000,
       "style": "IPY_MODEL_132b37c4e61d4b1795ec5563ace3fd12",
       "value": 101325
      }
     },
     "b45bdb586b114b9c80ee9172b0150512": {
      "model_module": "@jupyter-widgets/base",
      "model_module_version": "1.2.0",
      "model_name": "LayoutModel",
      "state": {}
     },
     "b47c90d7c95c49cb857ccea59f487d1d": {
      "model_module": "@jupyter-widgets/controls",
      "model_module_version": "1.5.0",
      "model_name": "DescriptionStyleModel",
      "state": {
       "description_width": ""
      }
     },
     "b4a6950b58b447e79e0981542bf220b8": {
      "model_module": "@jupyter-widgets/controls",
      "model_module_version": "1.5.0",
      "model_name": "LabelModel",
      "state": {
       "layout": "IPY_MODEL_ec035a0d205640d387717ae88793fc62",
       "style": "IPY_MODEL_4829885b68314823a91e0de5a529aff9",
       "value": "Temperature in °C:"
      }
     },
     "b4aaff76941c47e793230a04957b8235": {
      "model_module": "@jupyter-widgets/controls",
      "model_module_version": "1.5.0",
      "model_name": "HBoxModel",
      "state": {
       "children": [
        "IPY_MODEL_a8184d3368194aa09cb1a137833083e9",
        "IPY_MODEL_c33f4fc86eb14b3988aa6773f5bd5c72"
       ],
       "layout": "IPY_MODEL_a51a7f2f37784660a2c273983b32e7ef"
      }
     },
     "b507a191a8d342af8f8d3895cdc64e18": {
      "model_module": "@jupyter-widgets/controls",
      "model_module_version": "1.5.0",
      "model_name": "BoundedFloatTextModel",
      "state": {
       "layout": "IPY_MODEL_66751a9b29d644229b6fe1ef211b7a37",
       "max": 10,
       "min": 0.001,
       "step": 0.001,
       "style": "IPY_MODEL_adac2d7a8ba64529ab8f625e18432944",
       "value": 0.1
      }
     },
     "b5fcd078656d4624a8eaa281d23a0990": {
      "model_module": "@jupyter-widgets/controls",
      "model_module_version": "1.5.0",
      "model_name": "DescriptionStyleModel",
      "state": {
       "description_width": ""
      }
     },
     "b77146198d72447fbd903c4d9e67b9f8": {
      "model_module": "@jupyter-widgets/base",
      "model_module_version": "1.2.0",
      "model_name": "LayoutModel",
      "state": {
       "display": "flex",
       "width": "100%"
      }
     },
     "b7adf4df82b84a41b463de1d40ea219c": {
      "model_module": "@jupyter-widgets/controls",
      "model_module_version": "1.5.0",
      "model_name": "DescriptionStyleModel",
      "state": {
       "description_width": ""
      }
     },
     "b7b9154dd9a64c09ba4583f4adabf6d5": {
      "model_module": "@jupyter-widgets/base",
      "model_module_version": "1.2.0",
      "model_name": "LayoutModel",
      "state": {
       "display": "flex",
       "width": "100%"
      }
     },
     "b8816de08ada40a99dea230382da4bba": {
      "model_module": "@jupyter-widgets/controls",
      "model_module_version": "1.5.0",
      "model_name": "DescriptionStyleModel",
      "state": {
       "description_width": ""
      }
     },
     "b896923d7e294bdbbc7457fc94824f9f": {
      "model_module": "@jupyter-widgets/controls",
      "model_module_version": "1.5.0",
      "model_name": "FloatSliderModel",
      "state": {
       "layout": "IPY_MODEL_f93785f7f44a4ce2822f3b24c3d2a971",
       "max": 200,
       "min": 0.001,
       "readout": false,
       "step": 0.001,
       "style": "IPY_MODEL_0edecb1bb7dc4ee59f087fa56c14e8ef",
       "value": 20
      }
     },
     "b89a81dcab224bda94a5316d3a7f4875": {
      "model_module": "@jupyter-widgets/output",
      "model_module_version": "1.0.0",
      "model_name": "OutputModel",
      "state": {
       "layout": "IPY_MODEL_5558da4c0283428bb707091ba07c336b"
      }
     },
     "b8c344c7ec184fa0b63f206a508cc4ed": {
      "model_module": "@jupyter-widgets/controls",
      "model_module_version": "1.5.0",
      "model_name": "BoundedFloatTextModel",
      "state": {
       "layout": "IPY_MODEL_3bfac8db05794e52b24233437ffc4d53",
       "max": 200,
       "min": 0.001,
       "step": 0.001,
       "style": "IPY_MODEL_91d6968cb35240709b7d64be64b6e5a1",
       "value": 20
      }
     },
     "b8d251ddbd214af682a95e25b9277785": {
      "model_module": "@jupyter-widgets/controls",
      "model_module_version": "1.5.0",
      "model_name": "LabelModel",
      "state": {
       "layout": "IPY_MODEL_d7762997fd7e496890c7c5985925ab52",
       "style": "IPY_MODEL_4f39bfdf9a0a41f89f0c35709b794c19",
       "value": "Pressure in Pa:"
      }
     },
     "b8e802c2e0ce47dba0df11c90609b2c1": {
      "model_module": "@jupyter-widgets/controls",
      "model_module_version": "1.5.0",
      "model_name": "LabelModel",
      "state": {
       "layout": "IPY_MODEL_0bec925143ec4fa98e71c03cb21c429d",
       "style": "IPY_MODEL_b7adf4df82b84a41b463de1d40ea219c",
       "value": "Pressure in Pa:"
      }
     },
     "b8f55921fd9d4590bba15105268a8684": {
      "model_module": "@jupyter-widgets/base",
      "model_module_version": "1.2.0",
      "model_name": "LayoutModel",
      "state": {}
     },
     "b9069d067eec42bab0e52acdcff5e242": {
      "model_module": "@jupyter-widgets/base",
      "model_module_version": "1.2.0",
      "model_name": "LayoutModel",
      "state": {
       "flex": "1 1 auto",
       "width": "auto"
      }
     },
     "b956a80f475647c2b7ebcba1abd6ffb5": {
      "model_module": "@jupyter-widgets/base",
      "model_module_version": "1.2.0",
      "model_name": "LayoutModel",
      "state": {
       "flex": "1 1 auto",
       "width": "auto"
      }
     },
     "ba007c98e63446efa9b06d12658c6a2e": {
      "model_module": "@jupyter-widgets/base",
      "model_module_version": "1.2.0",
      "model_name": "LayoutModel",
      "state": {}
     },
     "ba5292e3cf9140b9a92aac34e45f3946": {
      "model_module": "@jupyter-widgets/base",
      "model_module_version": "1.2.0",
      "model_name": "LayoutModel",
      "state": {
       "display": "flex",
       "flex_flow": "row"
      }
     },
     "baa649f4475f4631b59270d608e4017b": {
      "model_module": "@jupyter-widgets/controls",
      "model_module_version": "1.5.0",
      "model_name": "DescriptionStyleModel",
      "state": {
       "description_width": ""
      }
     },
     "bab29f00eef34a3986fd5382a1dbda63": {
      "model_module": "@jupyter-widgets/controls",
      "model_module_version": "1.5.0",
      "model_name": "DescriptionStyleModel",
      "state": {
       "description_width": ""
      }
     },
     "bad30caaebd9464a8bc2c6c972b74edf": {
      "model_module": "@jupyter-widgets/controls",
      "model_module_version": "1.5.0",
      "model_name": "FloatSliderModel",
      "state": {
       "layout": "IPY_MODEL_a4224af243694e2395646b3f26218a1a",
       "max": 10,
       "min": 0.001,
       "readout": false,
       "step": 0.001,
       "style": "IPY_MODEL_c5cec0e523c94fe48ad826968811dc5a",
       "value": 0.1
      }
     },
     "baea9112ce374afb908da978d1d7a0dd": {
      "model_module": "@jupyter-widgets/controls",
      "model_module_version": "1.5.0",
      "model_name": "DropdownModel",
      "state": {
       "_options_labels": [
        "1-Butene",
        "Acetone",
        "Air",
        "Ammonia",
        "Argon",
        "Benzene",
        "CarbonDioxide",
        "CarbonMonoxide",
        "CarbonylSulfide",
        "CycloHexane",
        "CycloPropane",
        "Cyclopentane",
        "D4",
        "D5",
        "D6",
        "Deuterium",
        "Dichloroethane",
        "DiethylEther",
        "DimethylCarbonate",
        "DimethylEther",
        "Ethane",
        "Ethanol",
        "EthylBenzene",
        "Ethylene",
        "EthyleneOxide",
        "Fluorine",
        "HFE143m",
        "HeavyWater",
        "Helium",
        "Hydrogen",
        "HydrogenChloride",
        "HydrogenSulfide",
        "IsoButane",
        "IsoButene",
        "Isohexane",
        "Isopentane",
        "Krypton",
        "MD2M",
        "MD3M",
        "MD4M",
        "MDM",
        "MM",
        "Methane",
        "Methanol",
        "MethylLinoleate",
        "MethylLinolenate",
        "MethylOleate",
        "MethylPalmitate",
        "MethylStearate",
        "Neon",
        "Neopentane",
        "Nitrogen",
        "NitrousOxide",
        "Novec649",
        "OrthoDeuterium",
        "OrthoHydrogen",
        "Oxygen",
        "ParaDeuterium",
        "ParaHydrogen",
        "Propylene",
        "Propyne",
        "R11",
        "R113",
        "R114",
        "R115",
        "R116",
        "R12",
        "R123",
        "R1233zd(E)",
        "R1234yf",
        "R1234ze(E)",
        "R1234ze(Z)",
        "R124",
        "R1243zf",
        "R125",
        "R13",
        "R134a",
        "R13I1",
        "R14",
        "R141b",
        "R142b",
        "R143a",
        "R152A",
        "R161",
        "R21",
        "R218",
        "R22",
        "R227EA",
        "R23",
        "R236EA",
        "R236FA",
        "R245ca",
        "R245fa",
        "R32",
        "R365MFC",
        "R40",
        "R404A",
        "R407C",
        "R41",
        "R410A",
        "R507A",
        "RC318",
        "SES36",
        "SulfurDioxide",
        "SulfurHexafluoride",
        "Toluene",
        "Water",
        "Xenon",
        "cis-2-Butene",
        "m-Xylene",
        "n-Butane",
        "n-Decane",
        "n-Dodecane",
        "n-Heptane",
        "n-Hexane",
        "n-Nonane",
        "n-Octane",
        "n-Pentane",
        "n-Propane",
        "n-Undecane",
        "o-Xylene",
        "p-Xylene",
        "trans-2-Butene"
       ],
       "index": 2,
       "layout": "IPY_MODEL_cdf4e88b023841189a53749afba60dbe",
       "style": "IPY_MODEL_d22655d07fdd42d5bba460d338a6c62a"
      }
     },
     "bb035845706e478ea4c7d204df3c1bff": {
      "model_module": "@jupyter-widgets/base",
      "model_module_version": "1.2.0",
      "model_name": "LayoutModel",
      "state": {
       "display": "flex",
       "width": "100%"
      }
     },
     "bb2b091917cc4253a19d4057466caf0d": {
      "model_module": "@jupyter-widgets/controls",
      "model_module_version": "1.5.0",
      "model_name": "DescriptionStyleModel",
      "state": {
       "description_width": ""
      }
     },
     "bb7bdfbd12244dc580e577716d1cf6d5": {
      "model_module": "@jupyter-widgets/controls",
      "model_module_version": "1.5.0",
      "model_name": "DescriptionStyleModel",
      "state": {
       "description_width": ""
      }
     },
     "bb7cd3ee14f24113ad8198395fcbf1f7": {
      "model_module": "@jupyter-widgets/base",
      "model_module_version": "1.2.0",
      "model_name": "LayoutModel",
      "state": {
       "flex": "1 1 auto",
       "width": "auto"
      }
     },
     "bbaa9c1e3ac04db98cc72a7a7263ed4b": {
      "model_module": "@jupyter-widgets/controls",
      "model_module_version": "1.5.0",
      "model_name": "DescriptionStyleModel",
      "state": {
       "description_width": ""
      }
     },
     "bbb492ab511342529c698246f65d1508": {
      "model_module": "@jupyter-widgets/controls",
      "model_module_version": "1.5.0",
      "model_name": "LabelModel",
      "state": {
       "layout": "IPY_MODEL_b45bdb586b114b9c80ee9172b0150512",
       "style": "IPY_MODEL_c13844dfee3c4b8fb75bef394099d4e9",
       "value": "Gas / Specie Mixture:"
      }
     },
     "bbe161fd4c504620b1b11f16b4607e24": {
      "model_module": "@jupyter-widgets/controls",
      "model_module_version": "1.5.0",
      "model_name": "AccordionModel",
      "state": {
       "_titles": {
        "0": "Thermodynamic State",
        "1": "Flat Plate"
       },
       "children": [
        "IPY_MODEL_da5c557807dd4660a8550192db1224a0",
        "IPY_MODEL_1fbcd91dafa5499ca64ee5731f2c6e36"
       ],
       "layout": "IPY_MODEL_cb9d965ecd9c40c0986eb0733a1d6c9f"
      }
     },
     "bc30d5fdc2b64c9d960f75b8aec37055": {
      "model_module": "@jupyter-widgets/controls",
      "model_module_version": "1.5.0",
      "model_name": "HBoxModel",
      "state": {
       "children": [
        "IPY_MODEL_cdb30118215c4d4f844e38f427a2b044",
        "IPY_MODEL_2317d3b0b385456189ed38cee4d8ca80",
        "IPY_MODEL_5cf0209a77914b2fa3fc90f8fc5070c1"
       ],
       "layout": "IPY_MODEL_594b0bacba434d339750e5cf0806671e"
      }
     },
     "bc5227a3b4fe4db2ba67d0afe70037a8": {
      "model_module": "@jupyter-widgets/base",
      "model_module_version": "1.2.0",
      "model_name": "LayoutModel",
      "state": {}
     },
     "bc74d6ea86b149b095e8833415837d13": {
      "model_module": "@jupyter-widgets/controls",
      "model_module_version": "1.5.0",
      "model_name": "VBoxModel",
      "state": {
       "children": [
        "IPY_MODEL_8caa04f9eed5401b854ee4e255cee333",
        "IPY_MODEL_a3978e2ff99e420b98a9017c8844bced",
        "IPY_MODEL_e58e39a8e714404f8f1f9eb25a4b19e0"
       ],
       "layout": "IPY_MODEL_49b1f4378681417d9515a5ed16080a22"
      }
     },
     "bc9610053afd4a628536923ef1bf3ee9": {
      "model_module": "@jupyter-widgets/controls",
      "model_module_version": "1.5.0",
      "model_name": "LabelModel",
      "state": {
       "layout": "IPY_MODEL_d4579fbc63b74fe899807a1bf83659db",
       "style": "IPY_MODEL_138ae3e4ad0e4a83b92e783316ed7ce8",
       "value": "Velocity in m/s:"
      }
     },
     "bcbe5a13c6d5439a90a09ba0793de15a": {
      "model_module": "@jupyter-widgets/base",
      "model_module_version": "1.2.0",
      "model_name": "LayoutModel",
      "state": {
       "flex": "10 1 auto",
       "width": "auto"
      }
     },
     "bcfb87690e1a469ea748cdbfb5d14cb5": {
      "model_module": "@jupyter-widgets/base",
      "model_module_version": "1.2.0",
      "model_name": "LayoutModel",
      "state": {}
     },
     "bd3a5b2041c440d1b9ecf19f46d6aa47": {
      "model_module": "@jupyter-widgets/controls",
      "model_module_version": "1.5.0",
      "model_name": "LabelModel",
      "state": {
       "layout": "IPY_MODEL_8234b47a929a40c6ae4d6abd7eff85f5",
       "style": "IPY_MODEL_deac7f98374c44639770ae6521163ff6",
       "value": "Gas / Specie Mixture:"
      }
     },
     "bd748511211947318796fb7e56572208": {
      "model_module": "@jupyter-widgets/controls",
      "model_module_version": "1.5.0",
      "model_name": "DescriptionStyleModel",
      "state": {
       "description_width": ""
      }
     },
     "bd75a23311bb4c3b9bcddb0ceb1def4d": {
      "model_module": "@jupyter-widgets/controls",
      "model_module_version": "1.5.0",
      "model_name": "DescriptionStyleModel",
      "state": {
       "description_width": ""
      }
     },
     "bdcdb0a930db4ab2a271694b5badb42f": {
      "model_module": "@jupyter-widgets/controls",
      "model_module_version": "1.5.0",
      "model_name": "FloatSliderModel",
      "state": {
       "layout": "IPY_MODEL_c2d003c70b8d4a91a6eb8e6114fdd018",
       "max": 15000000,
       "min": 1,
       "readout": false,
       "step": 100000,
       "style": "IPY_MODEL_8dbe384ee34648ff829648b43f724511",
       "value": 101325
      }
     },
     "bdceeebbe56b44b48b720e7e944e6b86": {
      "model_module": "@jupyter-widgets/controls",
      "model_module_version": "1.5.0",
      "model_name": "LabelModel",
      "state": {
       "layout": "IPY_MODEL_7fbc7d3fa5ae49b7b4a0ba1844c7e01b",
       "style": "IPY_MODEL_81a82ffff3ce467eb594d32db66da277",
       "value": "Velocity in m/s:"
      }
     },
     "be6be15c14954f2f9ab80a737b272814": {
      "model_module": "@jupyter-widgets/controls",
      "model_module_version": "1.5.0",
      "model_name": "HBoxModel",
      "state": {
       "children": [
        "IPY_MODEL_ecc596da9f974d5183ed6f3f03f36523",
        "IPY_MODEL_cd8206683cfc4ccd87c8ffabe6455ac0",
        "IPY_MODEL_5c88a2e8956e4e62801ebaef124f90c1"
       ],
       "layout": "IPY_MODEL_89961d5e3dce42f1802d3095d9c4f2ed"
      }
     },
     "be8e9ea20c7a43e78a40b84c64b32995": {
      "model_module": "@jupyter-widgets/controls",
      "model_module_version": "1.5.0",
      "model_name": "DescriptionStyleModel",
      "state": {
       "description_width": ""
      }
     },
     "bee31dcecbf74c56a24a8f8f8e2a63c2": {
      "model_module": "@jupyter-widgets/base",
      "model_module_version": "1.2.0",
      "model_name": "LayoutModel",
      "state": {
       "display": "flex",
       "width": "100%"
      }
     },
     "bef234da2ebf4a8096b46deb952d91b1": {
      "model_module": "@jupyter-widgets/controls",
      "model_module_version": "1.5.0",
      "model_name": "DescriptionStyleModel",
      "state": {
       "description_width": ""
      }
     },
     "bf2999b8a355435dad35e46d20f09df6": {
      "model_module": "@jupyter-widgets/controls",
      "model_module_version": "1.5.0",
      "model_name": "HBoxModel",
      "state": {
       "children": [
        "IPY_MODEL_3c23bb86d5164978b706807acf044d71",
        "IPY_MODEL_b3cec420d40f41dba5ce822122d87b9d",
        "IPY_MODEL_5e4cc22d3b53439086f98c699ecd63b6"
       ],
       "layout": "IPY_MODEL_5642dd466d91446b88321eef1c879ba3"
      }
     },
     "bfee6f79643544dda2ee548ce5284ac8": {
      "model_module": "@jupyter-widgets/base",
      "model_module_version": "1.2.0",
      "model_name": "LayoutModel",
      "state": {
       "display": "flex",
       "flex_flow": "row"
      }
     },
     "c0cdb690aabc4f2fbd6adc5554cee05a": {
      "model_module": "@jupyter-widgets/base",
      "model_module_version": "1.2.0",
      "model_name": "LayoutModel",
      "state": {
       "flex": "10 1 auto",
       "width": "auto"
      }
     },
     "c0fe1d9873974328ace6d8128c8eb7ac": {
      "model_module": "@jupyter-widgets/controls",
      "model_module_version": "1.5.0",
      "model_name": "LabelModel",
      "state": {
       "layout": "IPY_MODEL_ef85426f5a4b4d58b39d2cb01cc7377f",
       "style": "IPY_MODEL_ab961ed6412c4693b9bf1c18aa8a9b1d",
       "value": "Velocity in m/s:"
      }
     },
     "c135973fa311413187296484841bac08": {
      "model_module": "@jupyter-widgets/controls",
      "model_module_version": "1.5.0",
      "model_name": "DescriptionStyleModel",
      "state": {
       "description_width": ""
      }
     },
     "c13844dfee3c4b8fb75bef394099d4e9": {
      "model_module": "@jupyter-widgets/controls",
      "model_module_version": "1.5.0",
      "model_name": "DescriptionStyleModel",
      "state": {
       "description_width": ""
      }
     },
     "c13e336d86e44306938b03fdf98139e2": {
      "model_module": "@jupyter-widgets/base",
      "model_module_version": "1.2.0",
      "model_name": "LayoutModel",
      "state": {
       "display": "flex",
       "width": "100%"
      }
     },
     "c1bf58d429964ef693cf2a9eaae9164e": {
      "model_module": "@jupyter-widgets/base",
      "model_module_version": "1.2.0",
      "model_name": "LayoutModel",
      "state": {
       "flex": "10 1 auto",
       "width": "auto"
      }
     },
     "c1e596930f5e4012b1577e09b5931d94": {
      "model_module": "@jupyter-widgets/base",
      "model_module_version": "1.2.0",
      "model_name": "LayoutModel",
      "state": {
       "flex": "1 1 auto",
       "width": "auto"
      }
     },
     "c22f3fe3c7f94e8a96628af487920119": {
      "model_module": "@jupyter-widgets/controls",
      "model_module_version": "1.5.0",
      "model_name": "FloatSliderModel",
      "state": {
       "layout": "IPY_MODEL_188c6828beb74f89b596666e5e6026cd",
       "max": 10,
       "min": 0.001,
       "readout": false,
       "step": 0.001,
       "style": "IPY_MODEL_8e74ce267bc3495eb98a3d430388cc99",
       "value": 0.1
      }
     },
     "c2c5dfe074524c1ba99fb188e4d02835": {
      "model_module": "@jupyter-widgets/controls",
      "model_module_version": "1.5.0",
      "model_name": "FloatSliderModel",
      "state": {
       "layout": "IPY_MODEL_682873377d7f4454918c5b2e85950523",
       "max": 55,
       "min": -30,
       "readout": false,
       "style": "IPY_MODEL_5f6804e0333b4679b64fe3559789e8e8",
       "value": 20
      }
     },
     "c2d003c70b8d4a91a6eb8e6114fdd018": {
      "model_module": "@jupyter-widgets/base",
      "model_module_version": "1.2.0",
      "model_name": "LayoutModel",
      "state": {
       "flex": "10 1 auto",
       "width": "auto"
      }
     },
     "c2e0b345ccbe4f3ca75fd88d0af5d2c9": {
      "model_module": "@jupyter-widgets/base",
      "model_module_version": "1.2.0",
      "model_name": "LayoutModel",
      "state": {
       "flex": "1 1 auto",
       "width": "auto"
      }
     },
     "c2fb51b4eff9410b920da429cdaa0a7c": {
      "model_module": "@jupyter-widgets/base",
      "model_module_version": "1.2.0",
      "model_name": "LayoutModel",
      "state": {
       "flex": "1 1 auto",
       "width": "auto"
      }
     },
     "c31febbe26e943cfa7731dfcf1f3ef18": {
      "model_module": "@jupyter-widgets/base",
      "model_module_version": "1.2.0",
      "model_name": "LayoutModel",
      "state": {
       "display": "flex",
       "width": "100%"
      }
     },
     "c33f4fc86eb14b3988aa6773f5bd5c72": {
      "model_module": "@jupyter-widgets/controls",
      "model_module_version": "1.5.0",
      "model_name": "DropdownModel",
      "state": {
       "_options_labels": [
        "1-Butene",
        "Acetone",
        "Air",
        "Ammonia",
        "Argon",
        "Benzene",
        "CarbonDioxide",
        "CarbonMonoxide",
        "CarbonylSulfide",
        "CycloHexane",
        "CycloPropane",
        "Cyclopentane",
        "D4",
        "D5",
        "D6",
        "Deuterium",
        "Dichloroethane",
        "DiethylEther",
        "DimethylCarbonate",
        "DimethylEther",
        "Ethane",
        "Ethanol",
        "EthylBenzene",
        "Ethylene",
        "EthyleneOxide",
        "Fluorine",
        "HFE143m",
        "HeavyWater",
        "Helium",
        "Hydrogen",
        "HydrogenChloride",
        "HydrogenSulfide",
        "IsoButane",
        "IsoButene",
        "Isohexane",
        "Isopentane",
        "Krypton",
        "MD2M",
        "MD3M",
        "MD4M",
        "MDM",
        "MM",
        "Methane",
        "Methanol",
        "MethylLinoleate",
        "MethylLinolenate",
        "MethylOleate",
        "MethylPalmitate",
        "MethylStearate",
        "Neon",
        "Neopentane",
        "Nitrogen",
        "NitrousOxide",
        "Novec649",
        "OrthoDeuterium",
        "OrthoHydrogen",
        "Oxygen",
        "ParaDeuterium",
        "ParaHydrogen",
        "Propylene",
        "Propyne",
        "R11",
        "R113",
        "R114",
        "R115",
        "R116",
        "R12",
        "R123",
        "R1233zd(E)",
        "R1234yf",
        "R1234ze(E)",
        "R1234ze(Z)",
        "R124",
        "R1243zf",
        "R125",
        "R13",
        "R134a",
        "R13I1",
        "R14",
        "R141b",
        "R142b",
        "R143a",
        "R152A",
        "R161",
        "R21",
        "R218",
        "R22",
        "R227EA",
        "R23",
        "R236EA",
        "R236FA",
        "R245ca",
        "R245fa",
        "R32",
        "R365MFC",
        "R40",
        "R404A",
        "R407C",
        "R41",
        "R410A",
        "R507A",
        "RC318",
        "SES36",
        "SulfurDioxide",
        "SulfurHexafluoride",
        "Toluene",
        "Water",
        "Xenon",
        "cis-2-Butene",
        "m-Xylene",
        "n-Butane",
        "n-Decane",
        "n-Dodecane",
        "n-Heptane",
        "n-Hexane",
        "n-Nonane",
        "n-Octane",
        "n-Pentane",
        "n-Propane",
        "n-Undecane",
        "o-Xylene",
        "p-Xylene",
        "trans-2-Butene"
       ],
       "index": 2,
       "layout": "IPY_MODEL_1ef7b2bb6b894eff9a9114c630fd6739",
       "style": "IPY_MODEL_49e8b2a178f6412ca403badd5d3dee57"
      }
     },
     "c3445da6be874d3ca367d449a34258cd": {
      "model_module": "@jupyter-widgets/base",
      "model_module_version": "1.2.0",
      "model_name": "LayoutModel",
      "state": {}
     },
     "c3d1b480c5854b8c871fa6321bfd6cc5": {
      "model_module": "@jupyter-widgets/controls",
      "model_module_version": "1.5.0",
      "model_name": "VBoxModel",
      "state": {
       "children": [
        "IPY_MODEL_184d59d3cb51416b811fc82b0abb0e96",
        "IPY_MODEL_be6be15c14954f2f9ab80a737b272814",
        "IPY_MODEL_d050447444b34131a642af791403fe2e"
       ],
       "layout": "IPY_MODEL_62cb8a1c086d440fb5b761a9e58ed729"
      }
     },
     "c43ea393dec740998c6c0b0a665f4f79": {
      "model_module": "@jupyter-widgets/base",
      "model_module_version": "1.2.0",
      "model_name": "LayoutModel",
      "state": {
       "display": "flex",
       "flex_flow": "row"
      }
     },
     "c451118a64f7470fa3b2f584512cabf4": {
      "model_module": "@jupyter-widgets/controls",
      "model_module_version": "1.5.0",
      "model_name": "SliderStyleModel",
      "state": {
       "description_width": ""
      }
     },
     "c474a660e7474afea050ea738547c953": {
      "model_module": "@jupyter-widgets/controls",
      "model_module_version": "1.5.0",
      "model_name": "DescriptionStyleModel",
      "state": {
       "description_width": ""
      }
     },
     "c4c2b8354ab44dd987a0977bc2315198": {
      "model_module": "@jupyter-widgets/base",
      "model_module_version": "1.2.0",
      "model_name": "LayoutModel",
      "state": {
       "display": "flex",
       "flex_flow": "row"
      }
     },
     "c4f76adc34a04119a029d6402e0614c3": {
      "model_module": "@jupyter-widgets/base",
      "model_module_version": "1.2.0",
      "model_name": "LayoutModel",
      "state": {
       "flex": "1 1 auto",
       "width": "auto"
      }
     },
     "c4fa01df4cc7428595deb642ef78e0ae": {
      "model_module": "@jupyter-widgets/controls",
      "model_module_version": "1.5.0",
      "model_name": "LabelModel",
      "state": {
       "layout": "IPY_MODEL_6339fcb01a0c4ee18580809270a6d8c4",
       "style": "IPY_MODEL_00537d8d9a1044c5ac3436eeb6834291",
       "value": "Pressure in Pa:"
      }
     },
     "c51edfe4c3854e1a8770f99998a7607f": {
      "model_module": "@jupyter-widgets/base",
      "model_module_version": "1.2.0",
      "model_name": "LayoutModel",
      "state": {
       "display": "flex",
       "flex_flow": "row"
      }
     },
     "c55301a5d7ea4bb7ab4b96bb3a1b83a7": {
      "model_module": "@jupyter-widgets/controls",
      "model_module_version": "1.5.0",
      "model_name": "FloatSliderModel",
      "state": {
       "layout": "IPY_MODEL_687eebb8691e453a9598cd3a4b41936f",
       "max": 200,
       "min": 0.001,
       "readout": false,
       "step": 0.001,
       "style": "IPY_MODEL_0d0e9e1cbb4147bda417527934fa4d6c",
       "value": 20
      }
     },
     "c573a8ce3f0b4f3496132f3735b564d0": {
      "model_module": "@jupyter-widgets/controls",
      "model_module_version": "1.5.0",
      "model_name": "BoundedFloatTextModel",
      "state": {
       "layout": "IPY_MODEL_8967665b49364a319b4dd906fed4182a",
       "max": 10,
       "min": 0.001,
       "step": 0.001,
       "style": "IPY_MODEL_ece0d040316b4279b64afc9418f6e764",
       "value": 0.1
      }
     },
     "c5cec0e523c94fe48ad826968811dc5a": {
      "model_module": "@jupyter-widgets/controls",
      "model_module_version": "1.5.0",
      "model_name": "SliderStyleModel",
      "state": {
       "description_width": ""
      }
     },
     "c6104330f8aa42d19f70d5b0a12394eb": {
      "model_module": "@jupyter-widgets/controls",
      "model_module_version": "1.5.0",
      "model_name": "LabelModel",
      "state": {
       "layout": "IPY_MODEL_88d331f8d7b74fcb96c638307c0856b3",
       "style": "IPY_MODEL_cc9f1d25a45341559a87b284fb8c2240",
       "value": "Gas / Specie Mixture:"
      }
     },
     "c64801d37a5442e1ae0cb68282e5acac": {
      "model_module": "@jupyter-widgets/controls",
      "model_module_version": "1.5.0",
      "model_name": "FloatSliderModel",
      "state": {
       "layout": "IPY_MODEL_49ec000287144863812cfd2a4b145c08",
       "max": 10,
       "min": 0.001,
       "readout": false,
       "step": 0.001,
       "style": "IPY_MODEL_e53157439d1b43a19ea2abbdfd669f29",
       "value": 0.1
      }
     },
     "c6578f17e799461caecf8a781a94ac50": {
      "model_module": "@jupyter-widgets/controls",
      "model_module_version": "1.5.0",
      "model_name": "FloatSliderModel",
      "state": {
       "layout": "IPY_MODEL_6109fb9ab642403a961337f996cb1b86",
       "max": 15000000,
       "min": 1,
       "readout": false,
       "step": 100000,
       "style": "IPY_MODEL_8536197e3386441d9725ac0e5d41b26c",
       "value": 101325
      }
     },
     "c68faa4402cf4d33846eb41a6c0c159c": {
      "model_module": "@jupyter-widgets/controls",
      "model_module_version": "1.5.0",
      "model_name": "DescriptionStyleModel",
      "state": {
       "description_width": ""
      }
     },
     "c6ea583b3c7249888e014bbe74acb4a0": {
      "model_module": "@jupyter-widgets/controls",
      "model_module_version": "1.5.0",
      "model_name": "SliderStyleModel",
      "state": {
       "description_width": ""
      }
     },
     "c78e31daa2f84489b0ca0847cd40c935": {
      "model_module": "@jupyter-widgets/controls",
      "model_module_version": "1.5.0",
      "model_name": "VBoxModel",
      "state": {
       "children": [
        "IPY_MODEL_43998be58926472baef120daa3da716d",
        "IPY_MODEL_898dc416db43456881fcacc6fa748e55",
        "IPY_MODEL_704cc58c7cdb4daa8dc75f3d96ee4f85"
       ],
       "layout": "IPY_MODEL_7fcdb182f5524bccbb77836b6a11f82b"
      }
     },
     "c7ba71d8fd9647989151dcd8e166477b": {
      "model_module": "@jupyter-widgets/base",
      "model_module_version": "1.2.0",
      "model_name": "LayoutModel",
      "state": {
       "flex": "1 1 auto",
       "width": "auto"
      }
     },
     "c81e07acb90941b39cddc8224bab5dcf": {
      "model_module": "@jupyter-widgets/controls",
      "model_module_version": "1.5.0",
      "model_name": "HBoxModel",
      "state": {
       "children": [
        "IPY_MODEL_3324c76114864c408a0b723d8d78cdd9",
        "IPY_MODEL_8d1cce30599048f4a0f8cd8085591902",
        "IPY_MODEL_b8c344c7ec184fa0b63f206a508cc4ed"
       ],
       "layout": "IPY_MODEL_eaeefafc0da948ddb24bbd019abe8459"
      }
     },
     "c845db5b515243d59d81d172a825fa67": {
      "model_module": "@jupyter-widgets/base",
      "model_module_version": "1.2.0",
      "model_name": "LayoutModel",
      "state": {
       "display": "flex",
       "flex_flow": "row"
      }
     },
     "c89f26c098f24ae4b94f2c83592b9ec2": {
      "model_module": "@jupyter-widgets/controls",
      "model_module_version": "1.5.0",
      "model_name": "BoundedFloatTextModel",
      "state": {
       "layout": "IPY_MODEL_a73888ec089d453fb35c1d9fdef61f3a",
       "max": 200,
       "min": 0.001,
       "step": 0.001,
       "style": "IPY_MODEL_5575bd8af6794cf78de64fcb3adea4df",
       "value": 20
      }
     },
     "c8c48c0811b84aa982877b8f576d23ff": {
      "model_module": "@jupyter-widgets/base",
      "model_module_version": "1.2.0",
      "model_name": "LayoutModel",
      "state": {
       "display": "flex",
       "width": "100%"
      }
     },
     "c8f7e73a8b9a43ea9ee184c8dceb3459": {
      "model_module": "@jupyter-widgets/controls",
      "model_module_version": "1.5.0",
      "model_name": "BoundedFloatTextModel",
      "state": {
       "layout": "IPY_MODEL_c2fb51b4eff9410b920da429cdaa0a7c",
       "max": 55,
       "min": -30,
       "step": 1,
       "style": "IPY_MODEL_bb2b091917cc4253a19d4057466caf0d",
       "value": 20
      }
     },
     "c8f7f41a86ea4d4dae39917fbdaa0c50": {
      "model_module": "@jupyter-widgets/base",
      "model_module_version": "1.2.0",
      "model_name": "LayoutModel",
      "state": {
       "flex": "1 1 auto",
       "width": "auto"
      }
     },
     "c9de93865e5549848fce5b66b30e76e2": {
      "model_module": "@jupyter-widgets/controls",
      "model_module_version": "1.5.0",
      "model_name": "FloatSliderModel",
      "state": {
       "layout": "IPY_MODEL_2e121da9de624deab0268d857bbf8a1b",
       "max": 200,
       "min": 0.001,
       "readout": false,
       "step": 0.001,
       "style": "IPY_MODEL_6c0add39708f4538bd98df85bb87fce8",
       "value": 20
      }
     },
     "c9f7d2d69b86410d9c0afb31b72fba13": {
      "model_module": "@jupyter-widgets/base",
      "model_module_version": "1.2.0",
      "model_name": "LayoutModel",
      "state": {
       "flex": "10 1 auto",
       "width": "auto"
      }
     },
     "ca56c7c2748649bbb79f43b4efbb0535": {
      "model_module": "@jupyter-widgets/controls",
      "model_module_version": "1.5.0",
      "model_name": "BoundedFloatTextModel",
      "state": {
       "layout": "IPY_MODEL_fe91c0c28cc64bd8a891e2461654955f",
       "max": 55,
       "min": -30,
       "step": 1,
       "style": "IPY_MODEL_11d0918225ec4471b178f6cc03290ae6",
       "value": 20
      }
     },
     "cb16ca3ebbec45e299d157a4e17edb77": {
      "model_module": "@jupyter-widgets/base",
      "model_module_version": "1.2.0",
      "model_name": "LayoutModel",
      "state": {
       "display": "flex",
       "flex_flow": "row"
      }
     },
     "cb16de7aafd746b1bfe0bcdf198d6d61": {
      "model_module": "@jupyter-widgets/controls",
      "model_module_version": "1.5.0",
      "model_name": "HBoxModel",
      "state": {
       "children": [
        "IPY_MODEL_aa94f03934fd4a14864c25c9677ada19",
        "IPY_MODEL_5ac86d7b64ae4d89885f33e54ff63bf4",
        "IPY_MODEL_9d9bdf51450e46918cfb2c235afb7e81"
       ],
       "layout": "IPY_MODEL_02aa8370759f4a3b979baad4a00d4df8"
      }
     },
     "cb5ce64d64574279a595e4123a7db957": {
      "model_module": "@jupyter-widgets/controls",
      "model_module_version": "1.5.0",
      "model_name": "LabelModel",
      "state": {
       "layout": "IPY_MODEL_72e7eca389554a9589f464419ad48471",
       "style": "IPY_MODEL_3602eee9bbbf43e4ac4d421db6eb2242",
       "value": "Pressure in Pa:"
      }
     },
     "cb6c804d0ac74976b425cb4b70cd6cc8": {
      "model_module": "@jupyter-widgets/base",
      "model_module_version": "1.2.0",
      "model_name": "LayoutModel",
      "state": {
       "display": "flex",
       "width": "100%"
      }
     },
     "cb9d965ecd9c40c0986eb0733a1d6c9f": {
      "model_module": "@jupyter-widgets/base",
      "model_module_version": "1.2.0",
      "model_name": "LayoutModel",
      "state": {}
     },
     "cc0f7bc4468f40daacc398e780857995": {
      "model_module": "@jupyter-widgets/controls",
      "model_module_version": "1.5.0",
      "model_name": "DescriptionStyleModel",
      "state": {
       "description_width": ""
      }
     },
     "cc373ba2e64945dab6606984d2d4b00c": {
      "model_module": "@jupyter-widgets/controls",
      "model_module_version": "1.5.0",
      "model_name": "DescriptionStyleModel",
      "state": {
       "description_width": ""
      }
     },
     "cc9f1d25a45341559a87b284fb8c2240": {
      "model_module": "@jupyter-widgets/controls",
      "model_module_version": "1.5.0",
      "model_name": "DescriptionStyleModel",
      "state": {
       "description_width": ""
      }
     },
     "ccb7d0c9f101474d94b94faad9492f2a": {
      "model_module": "@jupyter-widgets/controls",
      "model_module_version": "1.5.0",
      "model_name": "SliderStyleModel",
      "state": {
       "description_width": ""
      }
     },
     "ccd6cb6d141f438c9f7c3498e66e3638": {
      "model_module": "@jupyter-widgets/controls",
      "model_module_version": "1.5.0",
      "model_name": "LabelModel",
      "state": {
       "layout": "IPY_MODEL_2a711da41af149aaa069464ab8d14316",
       "style": "IPY_MODEL_e0937db4bea747dc9e2a0c17be05e94a",
       "value": "Velocity in m/s:"
      }
     },
     "ccd777ec8d444d939431078955b9cc56": {
      "model_module": "@jupyter-widgets/controls",
      "model_module_version": "1.5.0",
      "model_name": "HBoxModel",
      "state": {
       "children": [
        "IPY_MODEL_87257451b36448e680204791bfe3b43e",
        "IPY_MODEL_120cd95d316c4b348941bd709ae24366"
       ],
       "layout": "IPY_MODEL_49c0ce94738844b1aaf9af00e6c7d967"
      }
     },
     "cd1876e884cc49688c3a79645d46a771": {
      "model_module": "@jupyter-widgets/controls",
      "model_module_version": "1.5.0",
      "model_name": "DescriptionStyleModel",
      "state": {
       "description_width": ""
      }
     },
     "cd59cbf0f9474197b77fc999d8ab4267": {
      "model_module": "@jupyter-widgets/controls",
      "model_module_version": "1.5.0",
      "model_name": "HBoxModel",
      "state": {
       "children": [
        "IPY_MODEL_26ea4c5b5e184da59c8038cd7dc78139",
        "IPY_MODEL_44656b38879c47708ef42d2a50abcd6d",
        "IPY_MODEL_3321f47fd7f143328374be5a0ff3cab8"
       ],
       "layout": "IPY_MODEL_c31febbe26e943cfa7731dfcf1f3ef18"
      }
     },
     "cd6acce932ef48fe93a2c433e8296bda": {
      "model_module": "@jupyter-widgets/base",
      "model_module_version": "1.2.0",
      "model_name": "LayoutModel",
      "state": {}
     },
     "cd8206683cfc4ccd87c8ffabe6455ac0": {
      "model_module": "@jupyter-widgets/controls",
      "model_module_version": "1.5.0",
      "model_name": "FloatSliderModel",
      "state": {
       "layout": "IPY_MODEL_ec3753af2e5a4d978eb046da2a27eb92",
       "max": 55,
       "min": -30,
       "readout": false,
       "style": "IPY_MODEL_b277aa9f5ce74490a2765ca146ee3ca4",
       "value": 20
      }
     },
     "cdb30118215c4d4f844e38f427a2b044": {
      "model_module": "@jupyter-widgets/controls",
      "model_module_version": "1.5.0",
      "model_name": "LabelModel",
      "state": {
       "layout": "IPY_MODEL_fd0226053fce42e4b54366cf47afaa38",
       "style": "IPY_MODEL_e25e7b120f424c959b6d7ddd13daace3",
       "value": "Pressure in Pa:"
      }
     },
     "cddc8cb40fe747bea3c1eb6e8d19bf18": {
      "model_module": "@jupyter-widgets/controls",
      "model_module_version": "1.5.0",
      "model_name": "BoundedFloatTextModel",
      "state": {
       "layout": "IPY_MODEL_a2ef14c8d09448a3ba7e05b625f14427",
       "max": 200,
       "min": 0.001,
       "step": 0.001,
       "style": "IPY_MODEL_7826f913859149b5a90e12922832cdde",
       "value": 20
      }
     },
     "cdf4e88b023841189a53749afba60dbe": {
      "model_module": "@jupyter-widgets/base",
      "model_module_version": "1.2.0",
      "model_name": "LayoutModel",
      "state": {}
     },
     "ce1e279fa53e406ea3eed79147a03d25": {
      "model_module": "@jupyter-widgets/base",
      "model_module_version": "1.2.0",
      "model_name": "LayoutModel",
      "state": {}
     },
     "cebb7acdaa8747bd864368eca69ba45b": {
      "model_module": "@jupyter-widgets/controls",
      "model_module_version": "1.5.0",
      "model_name": "DescriptionStyleModel",
      "state": {
       "description_width": ""
      }
     },
     "cec51a2f5261459fb4dce01e5a0466da": {
      "model_module": "@jupyter-widgets/base",
      "model_module_version": "1.2.0",
      "model_name": "LayoutModel",
      "state": {
       "display": "flex",
       "width": "100%"
      }
     },
     "ced641101c8048ae8e15a6ae9cd4e709": {
      "model_module": "@jupyter-widgets/controls",
      "model_module_version": "1.5.0",
      "model_name": "DescriptionStyleModel",
      "state": {
       "description_width": ""
      }
     },
     "cef359c42ce347a4bb24fa2dc14abbca": {
      "model_module": "@jupyter-widgets/base",
      "model_module_version": "1.2.0",
      "model_name": "LayoutModel",
      "state": {
       "flex": "10 1 auto",
       "width": "auto"
      }
     },
     "cf206089b90b46b0b25ff9451a7a5996": {
      "model_module": "@jupyter-widgets/base",
      "model_module_version": "1.2.0",
      "model_name": "LayoutModel",
      "state": {
       "flex": "1 1 auto",
       "width": "auto"
      }
     },
     "d03e523c4f694b48bc49eff3656cbdd8": {
      "model_module": "@jupyter-widgets/controls",
      "model_module_version": "1.5.0",
      "model_name": "DescriptionStyleModel",
      "state": {
       "description_width": ""
      }
     },
     "d050447444b34131a642af791403fe2e": {
      "model_module": "@jupyter-widgets/controls",
      "model_module_version": "1.5.0",
      "model_name": "HBoxModel",
      "state": {
       "children": [
        "IPY_MODEL_38007e30713e4cfbad01e5ae34b28d75",
        "IPY_MODEL_0b553b63d453471baa20c9b7bb1b127a"
       ],
       "layout": "IPY_MODEL_b0fa6fb7cdea43d3a7ca1b170b1cc688"
      }
     },
     "d09af0d109994accbc71099e8b5bde72": {
      "model_module": "@jupyter-widgets/controls",
      "model_module_version": "1.5.0",
      "model_name": "BoundedFloatTextModel",
      "state": {
       "layout": "IPY_MODEL_628fcfe98c66454886835e86f810f228",
       "max": 15000000,
       "min": 1,
       "step": 100000,
       "style": "IPY_MODEL_4f6ffeacfe0e427aa17f1d25afe79d01",
       "value": 101325
      }
     },
     "d09c3c72096d4b62a2ad139b6abbc997": {
      "model_module": "@jupyter-widgets/base",
      "model_module_version": "1.2.0",
      "model_name": "LayoutModel",
      "state": {}
     },
     "d0a528253ebd41528bb238e084b51e55": {
      "model_module": "@jupyter-widgets/controls",
      "model_module_version": "1.5.0",
      "model_name": "HBoxModel",
      "state": {
       "children": [
        "IPY_MODEL_5fafc5a356744aad92280fde740ef630",
        "IPY_MODEL_76320047de1b4d83b611f861a8b585c1"
       ],
       "layout": "IPY_MODEL_0d06a2208d3c459d9657c3e134773a7c"
      }
     },
     "d132974657f94a29b65169220970b362": {
      "model_module": "@jupyter-widgets/controls",
      "model_module_version": "1.5.0",
      "model_name": "BoundedFloatTextModel",
      "state": {
       "layout": "IPY_MODEL_2ae5ebd07e7540fe99bfa6871202095e",
       "max": 200,
       "min": 0.001,
       "step": 0.001,
       "style": "IPY_MODEL_b8816de08ada40a99dea230382da4bba",
       "value": 20
      }
     },
     "d18b9bfeac014bd6b9d662a31add5503": {
      "model_module": "@jupyter-widgets/controls",
      "model_module_version": "1.5.0",
      "model_name": "DescriptionStyleModel",
      "state": {
       "description_width": ""
      }
     },
     "d19266af037f40dbb85d0f7286e2e60b": {
      "model_module": "@jupyter-widgets/base",
      "model_module_version": "1.2.0",
      "model_name": "LayoutModel",
      "state": {
       "display": "flex",
       "flex_flow": "row"
      }
     },
     "d1b6b713d685425da90ebfcb6a8da8ec": {
      "model_module": "@jupyter-widgets/controls",
      "model_module_version": "1.5.0",
      "model_name": "SliderStyleModel",
      "state": {
       "description_width": ""
      }
     },
     "d22655d07fdd42d5bba460d338a6c62a": {
      "model_module": "@jupyter-widgets/controls",
      "model_module_version": "1.5.0",
      "model_name": "DescriptionStyleModel",
      "state": {
       "description_width": ""
      }
     },
     "d25d0617dfe14665b201b6bb596cd7ba": {
      "model_module": "@jupyter-widgets/base",
      "model_module_version": "1.2.0",
      "model_name": "LayoutModel",
      "state": {
       "display": "flex",
       "min_height": "300px",
       "width": "100%"
      }
     },
     "d27b52c4fdf04c86b9cf3658ca57b6e7": {
      "model_module": "@jupyter-widgets/base",
      "model_module_version": "1.2.0",
      "model_name": "LayoutModel",
      "state": {
       "display": "flex",
       "flex_flow": "row"
      }
     },
     "d3502caddea8435e9f95fcfd6d3b4644": {
      "model_module": "@jupyter-widgets/controls",
      "model_module_version": "1.5.0",
      "model_name": "DescriptionStyleModel",
      "state": {
       "description_width": ""
      }
     },
     "d3688b4afaec4b7f82058c79a977e84c": {
      "model_module": "@jupyter-widgets/controls",
      "model_module_version": "1.5.0",
      "model_name": "DescriptionStyleModel",
      "state": {
       "description_width": ""
      }
     },
     "d3afa79995e64dde867b9fc098a6741d": {
      "model_module": "@jupyter-widgets/base",
      "model_module_version": "1.2.0",
      "model_name": "LayoutModel",
      "state": {
       "flex": "1 1 auto",
       "width": "auto"
      }
     },
     "d4579fbc63b74fe899807a1bf83659db": {
      "model_module": "@jupyter-widgets/base",
      "model_module_version": "1.2.0",
      "model_name": "LayoutModel",
      "state": {
       "flex": "1 1 auto",
       "width": "auto"
      }
     },
     "d4cf7787b8b04f6d97c88e3a23f67b42": {
      "model_module": "@jupyter-widgets/controls",
      "model_module_version": "1.5.0",
      "model_name": "SliderStyleModel",
      "state": {
       "description_width": ""
      }
     },
     "d5032412d7b748409f39b96659763032": {
      "model_module": "@jupyter-widgets/base",
      "model_module_version": "1.2.0",
      "model_name": "LayoutModel",
      "state": {
       "display": "flex",
       "flex_flow": "row"
      }
     },
     "d50cb299f8f34ed5aafad4e38efa5821": {
      "model_module": "@jupyter-widgets/base",
      "model_module_version": "1.2.0",
      "model_name": "LayoutModel",
      "state": {
       "display": "flex",
       "width": "100%"
      }
     },
     "d57719413ad947d49c920c13dbae1c29": {
      "model_module": "@jupyter-widgets/controls",
      "model_module_version": "1.5.0",
      "model_name": "VBoxModel",
      "state": {
       "children": [
        "IPY_MODEL_76649452ce2b438898aba61b34f072db",
        "IPY_MODEL_c81e07acb90941b39cddc8224bab5dcf"
       ],
       "layout": "IPY_MODEL_77d281c28e824abe80fe5b164f25afcf"
      }
     },
     "d581d59a78224eada4288d546e267ee9": {
      "model_module": "@jupyter-widgets/controls",
      "model_module_version": "1.5.0",
      "model_name": "BoundedFloatTextModel",
      "state": {
       "layout": "IPY_MODEL_460ba90c6da34caa9476b0ca10802292",
       "max": 200,
       "min": 0.001,
       "step": 0.001,
       "style": "IPY_MODEL_f4c821888e7c43cfa0d9fa5a539d057f",
       "value": 20
      }
     },
     "d5a33c0bc2804de282c0080f520263b4": {
      "model_module": "@jupyter-widgets/controls",
      "model_module_version": "1.5.0",
      "model_name": "LabelModel",
      "state": {
       "layout": "IPY_MODEL_923f0bc00b4440cebec3bf4fd829d641",
       "style": "IPY_MODEL_4329f37e474745dab17d8f69ddae8cc9",
       "value": "Velocity in m/s:"
      }
     },
     "d7762997fd7e496890c7c5985925ab52": {
      "model_module": "@jupyter-widgets/base",
      "model_module_version": "1.2.0",
      "model_name": "LayoutModel",
      "state": {
       "flex": "1 1 auto",
       "width": "auto"
      }
     },
     "d797914f57ff4d148fe206264023bc90": {
      "model_module": "@jupyter-widgets/controls",
      "model_module_version": "1.5.0",
      "model_name": "HBoxModel",
      "state": {
       "children": [
        "IPY_MODEL_b4a6950b58b447e79e0981542bf220b8",
        "IPY_MODEL_b152dd349b4e4c89b19db9793df3abf3",
        "IPY_MODEL_c8f7e73a8b9a43ea9ee184c8dceb3459"
       ],
       "layout": "IPY_MODEL_f0a824df5a8146d2a5c4466ae19bab9a"
      }
     },
     "d7cab04025114a7b97c490e88e153116": {
      "model_module": "@jupyter-widgets/controls",
      "model_module_version": "1.5.0",
      "model_name": "LabelModel",
      "state": {
       "layout": "IPY_MODEL_3616c6643875453c84c5711ea88cabe7",
       "style": "IPY_MODEL_de963a94a90641d1ad9a4ba2cbce525a",
       "value": "Platelength in m"
      }
     },
     "d8b2851f59b64eef9f81d0ab79d8dd26": {
      "model_module": "@jupyter-widgets/controls",
      "model_module_version": "1.5.0",
      "model_name": "FloatSliderModel",
      "state": {
       "layout": "IPY_MODEL_8acae838add54d2a86c3c83013356f3f",
       "max": 200,
       "min": 0.001,
       "readout": false,
       "step": 0.001,
       "style": "IPY_MODEL_1f70412fe83a431bbe24b53f1a7c3dbd",
       "value": 20
      }
     },
     "d8c75a1a265d4dd68e50542ac2b1e35d": {
      "model_module": "@jupyter-widgets/controls",
      "model_module_version": "1.5.0",
      "model_name": "HBoxModel",
      "state": {
       "children": [
        "IPY_MODEL_d5a33c0bc2804de282c0080f520263b4",
        "IPY_MODEL_57e7ce43fe614707afead3b5926e0e60",
        "IPY_MODEL_548c16e3d53240e9a16f2e0e8d6732bf"
       ],
       "layout": "IPY_MODEL_599a19084ff84abd91d458e5922303d4"
      }
     },
     "d8e26dbc17d640f587c71e4fc8e575e2": {
      "model_module": "@jupyter-widgets/controls",
      "model_module_version": "1.5.0",
      "model_name": "SliderStyleModel",
      "state": {
       "description_width": ""
      }
     },
     "d8f614954c9a4bb1abeb931a4d87a0c0": {
      "model_module": "@jupyter-widgets/controls",
      "model_module_version": "1.5.0",
      "model_name": "HBoxModel",
      "state": {
       "children": [
        "IPY_MODEL_0981c6bbe3484cc4b7ffcdbfd059c159",
        "IPY_MODEL_baea9112ce374afb908da978d1d7a0dd"
       ],
       "layout": "IPY_MODEL_17596cf6c1d9440485d7cf1bf75195e3"
      }
     },
     "d97a4e477fcd4b388d8ae98323dd1a66": {
      "model_module": "@jupyter-widgets/controls",
      "model_module_version": "1.5.0",
      "model_name": "HBoxModel",
      "state": {
       "children": [
        "IPY_MODEL_113eabe981434a6cb37c07245887b37e",
        "IPY_MODEL_278207a1c9d8493d93e0ef3a4023932d",
        "IPY_MODEL_e6b563b69cc14954ad3f02dfcecc9b01"
       ],
       "layout": "IPY_MODEL_088cb5ae797040aab8ab2e02e1877752"
      }
     },
     "d9bb389bc5b0405abd5a7724e754cfef": {
      "model_module": "@jupyter-widgets/controls",
      "model_module_version": "1.5.0",
      "model_name": "LabelModel",
      "state": {
       "layout": "IPY_MODEL_1a2deb484682401daaa1e8f9648f2273",
       "style": "IPY_MODEL_f3f1f81384e54bf2a5c484d8f2ef4f39",
       "value": "Velocity in m/s:"
      }
     },
     "da3c755ccfd94504940b3edf75f8ecb3": {
      "model_module": "@jupyter-widgets/controls",
      "model_module_version": "1.5.0",
      "model_name": "FloatSliderModel",
      "state": {
       "layout": "IPY_MODEL_5a92840da654496b82c93a52225211c6",
       "max": 55,
       "min": -30,
       "readout": false,
       "style": "IPY_MODEL_10d4c46048e3498c8a7a3a56f0f134c7",
       "value": 20
      }
     },
     "da4005af5242462fa4351dc25eb28280": {
      "model_module": "@jupyter-widgets/controls",
      "model_module_version": "1.5.0",
      "model_name": "LabelModel",
      "state": {
       "layout": "IPY_MODEL_4f1146b2f01a46a19e464167518acf2e",
       "style": "IPY_MODEL_bef234da2ebf4a8096b46deb952d91b1",
       "value": "Platelength in m"
      }
     },
     "da57aeb225c0485c95b6c738c7448dfb": {
      "model_module": "@jupyter-widgets/controls",
      "model_module_version": "1.5.0",
      "model_name": "LabelModel",
      "state": {
       "layout": "IPY_MODEL_56ad552e42a7490ba5073ee27476f9e0",
       "style": "IPY_MODEL_89962a61f3af4dcbae08d119ff4c7831",
       "value": "Platelength in m"
      }
     },
     "da5c557807dd4660a8550192db1224a0": {
      "model_module": "@jupyter-widgets/controls",
      "model_module_version": "1.5.0",
      "model_name": "VBoxModel",
      "state": {
       "children": [
        "IPY_MODEL_171f421c8e774e5fa8b99b56bbdb5456",
        "IPY_MODEL_683cf8993fb34418b3ca3b337e8f28af",
        "IPY_MODEL_09ff7d35fa844a7a932a498fdcd568ef"
       ],
       "layout": "IPY_MODEL_075ca536cf3d423eb77f690ad0bae21a"
      }
     },
     "da84411e02f94c429e58d9404007bd6e": {
      "model_module": "@jupyter-widgets/controls",
      "model_module_version": "1.5.0",
      "model_name": "FloatSliderModel",
      "state": {
       "layout": "IPY_MODEL_8f7795940282401da8c1de1a52cce70f",
       "max": 55,
       "min": -30,
       "readout": false,
       "style": "IPY_MODEL_7d64de6a63f7408ea2bc1079510fb631",
       "value": 20
      }
     },
     "db063d73fa6a4078bb11c2f8d3bec1a8": {
      "model_module": "@jupyter-widgets/base",
      "model_module_version": "1.2.0",
      "model_name": "LayoutModel",
      "state": {
       "display": "flex",
       "width": "100%"
      }
     },
     "dbc9887011bf4366a66f0922d5db88cf": {
      "model_module": "@jupyter-widgets/base",
      "model_module_version": "1.2.0",
      "model_name": "LayoutModel",
      "state": {
       "flex": "10 1 auto",
       "width": "auto"
      }
     },
     "dc2dd6db02274f35b69ed6acdc03e25f": {
      "model_module": "@jupyter-widgets/controls",
      "model_module_version": "1.5.0",
      "model_name": "LabelModel",
      "state": {
       "layout": "IPY_MODEL_a90947ad2968490f9129ab2ef59820a1",
       "style": "IPY_MODEL_06347a86447d4b05b08d194f9cb697f4",
       "value": "Pressure in Pa:"
      }
     },
     "dd050006464d424584d8420d2f854519": {
      "model_module": "@jupyter-widgets/controls",
      "model_module_version": "1.5.0",
      "model_name": "DescriptionStyleModel",
      "state": {
       "description_width": ""
      }
     },
     "dd4801916d514bbf98858ff115b426c2": {
      "model_module": "@jupyter-widgets/controls",
      "model_module_version": "1.5.0",
      "model_name": "SliderStyleModel",
      "state": {
       "description_width": ""
      }
     },
     "ddb00f9d14da4b848587ef51199d97f3": {
      "model_module": "@jupyter-widgets/base",
      "model_module_version": "1.2.0",
      "model_name": "LayoutModel",
      "state": {
       "display": "flex",
       "flex_flow": "row"
      }
     },
     "de24b15e15b64354b71d9f446f859c85": {
      "model_module": "@jupyter-widgets/base",
      "model_module_version": "1.2.0",
      "model_name": "LayoutModel",
      "state": {
       "display": "flex",
       "flex_flow": "row"
      }
     },
     "de65320be1a442328344bda08e74f5d5": {
      "model_module": "@jupyter-widgets/base",
      "model_module_version": "1.2.0",
      "model_name": "LayoutModel",
      "state": {
       "display": "flex",
       "min_height": "300px",
       "width": "100%"
      }
     },
     "de663a57a15f42d9ab09bf4ea60a5f71": {
      "model_module": "@jupyter-widgets/controls",
      "model_module_version": "1.5.0",
      "model_name": "DescriptionStyleModel",
      "state": {
       "description_width": ""
      }
     },
     "de963a94a90641d1ad9a4ba2cbce525a": {
      "model_module": "@jupyter-widgets/controls",
      "model_module_version": "1.5.0",
      "model_name": "DescriptionStyleModel",
      "state": {
       "description_width": ""
      }
     },
     "deac7f98374c44639770ae6521163ff6": {
      "model_module": "@jupyter-widgets/controls",
      "model_module_version": "1.5.0",
      "model_name": "DescriptionStyleModel",
      "state": {
       "description_width": ""
      }
     },
     "dec681ced54241f1b5a132721bf0e7fd": {
      "model_module": "@jupyter-widgets/base",
      "model_module_version": "1.2.0",
      "model_name": "LayoutModel",
      "state": {
       "display": "flex",
       "flex_flow": "row"
      }
     },
     "decfa2cde3504165ab8d1977cbe070ae": {
      "model_module": "@jupyter-widgets/controls",
      "model_module_version": "1.5.0",
      "model_name": "DescriptionStyleModel",
      "state": {
       "description_width": ""
      }
     },
     "df370da16c3848069d56f6864296ff42": {
      "model_module": "@jupyter-widgets/controls",
      "model_module_version": "1.5.0",
      "model_name": "DescriptionStyleModel",
      "state": {
       "description_width": ""
      }
     },
     "df8da9044cc6420bb67e4b3e574c4207": {
      "model_module": "@jupyter-widgets/controls",
      "model_module_version": "1.5.0",
      "model_name": "FloatSliderModel",
      "state": {
       "layout": "IPY_MODEL_cef359c42ce347a4bb24fa2dc14abbca",
       "max": 200,
       "min": 0.001,
       "readout": false,
       "step": 0.001,
       "style": "IPY_MODEL_ee793e62a28d45af80caa54f289ddacc",
       "value": 20
      }
     },
     "df9543e0cd06420f871e699d7b2298c4": {
      "model_module": "@jupyter-widgets/controls",
      "model_module_version": "1.5.0",
      "model_name": "LabelModel",
      "state": {
       "layout": "IPY_MODEL_c8f7f41a86ea4d4dae39917fbdaa0c50",
       "style": "IPY_MODEL_41290d227e194bb594c6cc0a37182dd1",
       "value": "Velocity in m/s:"
      }
     },
     "dfa5538d0ca34cae92b704598275b367": {
      "model_module": "@jupyter-widgets/base",
      "model_module_version": "1.2.0",
      "model_name": "LayoutModel",
      "state": {
       "display": "flex",
       "width": "100%"
      }
     },
     "dfb1ed596fd24f10bc693719a92d625c": {
      "model_module": "@jupyter-widgets/controls",
      "model_module_version": "1.5.0",
      "model_name": "DescriptionStyleModel",
      "state": {
       "description_width": ""
      }
     },
     "dffd7a6c0cf64cf9bbbce990210fdef5": {
      "model_module": "@jupyter-widgets/controls",
      "model_module_version": "1.5.0",
      "model_name": "AccordionModel",
      "state": {
       "_titles": {
        "0": "Thermodynamic State",
        "1": "Flat Plate"
       },
       "children": [
        "IPY_MODEL_7eab523375c144d3b938a75ad239afbb",
        "IPY_MODEL_ec77a5ea07dd494ab2184381372eae08"
       ],
       "layout": "IPY_MODEL_4ee17a8207d04053bceb2c2764dd5bce"
      }
     },
     "e041aafd1bd440b1b5d38d64e3e7f65b": {
      "model_module": "@jupyter-widgets/controls",
      "model_module_version": "1.5.0",
      "model_name": "VBoxModel",
      "state": {
       "children": [
        "IPY_MODEL_296c9dc5b4084a7e9df4e8b507359dc4",
        "IPY_MODEL_e77c9ecb27004950b256c578446ed740"
       ],
       "layout": "IPY_MODEL_232e99ded3e84aca9962a04e6832fd6d"
      }
     },
     "e0426f4d3b334d05aa90f138daff4b39": {
      "model_module": "@jupyter-widgets/controls",
      "model_module_version": "1.5.0",
      "model_name": "BoundedFloatTextModel",
      "state": {
       "layout": "IPY_MODEL_7e6141f740dd4db9a60ba5b4e7bed238",
       "max": 15000000,
       "min": 1,
       "step": 100000,
       "style": "IPY_MODEL_0effd024ebfc4cdf8289ba24daf296c4",
       "value": 101325
      }
     },
     "e07b7bf7bad84aee85e22fec0affac20": {
      "model_module": "@jupyter-widgets/base",
      "model_module_version": "1.2.0",
      "model_name": "LayoutModel",
      "state": {
       "flex": "10 1 auto",
       "width": "auto"
      }
     },
     "e0937db4bea747dc9e2a0c17be05e94a": {
      "model_module": "@jupyter-widgets/controls",
      "model_module_version": "1.5.0",
      "model_name": "DescriptionStyleModel",
      "state": {
       "description_width": ""
      }
     },
     "e1618a0c1e3f44359a09635f877720a2": {
      "model_module": "@jupyter-widgets/controls",
      "model_module_version": "1.5.0",
      "model_name": "DescriptionStyleModel",
      "state": {
       "description_width": ""
      }
     },
     "e17d9248002f42ee887cf1341356a183": {
      "model_module": "@jupyter-widgets/controls",
      "model_module_version": "1.5.0",
      "model_name": "SliderStyleModel",
      "state": {
       "description_width": ""
      }
     },
     "e1abf468b20b4599be6ec3131195695d": {
      "model_module": "@jupyter-widgets/controls",
      "model_module_version": "1.5.0",
      "model_name": "BoundedFloatTextModel",
      "state": {
       "layout": "IPY_MODEL_cf206089b90b46b0b25ff9451a7a5996",
       "max": 10,
       "min": 0.001,
       "step": 0.001,
       "style": "IPY_MODEL_c474a660e7474afea050ea738547c953",
       "value": 0.1
      }
     },
     "e207d6d8ed00461abcedde0f7d7f725b": {
      "model_module": "@jupyter-widgets/base",
      "model_module_version": "1.2.0",
      "model_name": "LayoutModel",
      "state": {
       "display": "flex",
       "width": "100%"
      }
     },
     "e24b3155a2044ec8b34bd62778577ac1": {
      "model_module": "@jupyter-widgets/controls",
      "model_module_version": "1.5.0",
      "model_name": "FloatSliderModel",
      "state": {
       "layout": "IPY_MODEL_ac2c0abd29584b82a60b04ee4e104ab7",
       "max": 10,
       "min": 0.001,
       "readout": false,
       "step": 0.001,
       "style": "IPY_MODEL_82b5ad7c15004b8b945d6054422dab6a",
       "value": 0.1
      }
     },
     "e25c030d62e54292a24a796bacd58f00": {
      "model_module": "@jupyter-widgets/controls",
      "model_module_version": "1.5.0",
      "model_name": "SliderStyleModel",
      "state": {
       "description_width": ""
      }
     },
     "e25e7b120f424c959b6d7ddd13daace3": {
      "model_module": "@jupyter-widgets/controls",
      "model_module_version": "1.5.0",
      "model_name": "DescriptionStyleModel",
      "state": {
       "description_width": ""
      }
     },
     "e2860cdee8234733aec6a9b5988749dd": {
      "model_module": "@jupyter-widgets/controls",
      "model_module_version": "1.5.0",
      "model_name": "DescriptionStyleModel",
      "state": {
       "description_width": ""
      }
     },
     "e293c5c9077646e5ad04d9b3e4554019": {
      "model_module": "@jupyter-widgets/controls",
      "model_module_version": "1.5.0",
      "model_name": "SliderStyleModel",
      "state": {
       "description_width": ""
      }
     },
     "e2e251ee3d484e17bb3ede47ddeb46d9": {
      "model_module": "@jupyter-widgets/base",
      "model_module_version": "1.2.0",
      "model_name": "LayoutModel",
      "state": {
       "display": "flex",
       "min_height": "300px",
       "width": "100%"
      }
     },
     "e316ee62c71e4a0fa111a231a1a62c86": {
      "model_module": "@jupyter-widgets/base",
      "model_module_version": "1.2.0",
      "model_name": "LayoutModel",
      "state": {
       "flex": "10 1 auto",
       "width": "auto"
      }
     },
     "e3966a4b099448609159982f574bcecc": {
      "model_module": "@jupyter-widgets/controls",
      "model_module_version": "1.5.0",
      "model_name": "SliderStyleModel",
      "state": {
       "description_width": ""
      }
     },
     "e3a09fa34ac44e7fb2dc2e37296c727d": {
      "model_module": "@jupyter-widgets/base",
      "model_module_version": "1.2.0",
      "model_name": "LayoutModel",
      "state": {
       "display": "flex",
       "width": "100%"
      }
     },
     "e45fb5327535441d82e55bde25c8b2e6": {
      "model_module": "@jupyter-widgets/controls",
      "model_module_version": "1.5.0",
      "model_name": "FloatSliderModel",
      "state": {
       "layout": "IPY_MODEL_0982bd9feac447d8a87e5db50b01de20",
       "max": 10,
       "min": 0.001,
       "readout": false,
       "step": 0.001,
       "style": "IPY_MODEL_92dd6f49ac1f47349fdb34dc8226e74a",
       "value": 0.1
      }
     },
     "e4dbff912a7c48b8b2e87ec8eec55a14": {
      "model_module": "@jupyter-widgets/base",
      "model_module_version": "1.2.0",
      "model_name": "LayoutModel",
      "state": {
       "display": "flex",
       "width": "100%"
      }
     },
     "e53157439d1b43a19ea2abbdfd669f29": {
      "model_module": "@jupyter-widgets/controls",
      "model_module_version": "1.5.0",
      "model_name": "SliderStyleModel",
      "state": {
       "description_width": ""
      }
     },
     "e53420ac60d34bb4a295b643434041c6": {
      "model_module": "@jupyter-widgets/controls",
      "model_module_version": "1.5.0",
      "model_name": "LabelModel",
      "state": {
       "layout": "IPY_MODEL_8fe51a2090ea4587a58330a3773774b6",
       "style": "IPY_MODEL_a0cea089f5b647dd93ea6dbd7239b886",
       "value": "Gas / Specie Mixture:"
      }
     },
     "e58e39a8e714404f8f1f9eb25a4b19e0": {
      "model_module": "@jupyter-widgets/controls",
      "model_module_version": "1.5.0",
      "model_name": "HBoxModel",
      "state": {
       "children": [
        "IPY_MODEL_5490502675264de1b71708e3663658d6",
        "IPY_MODEL_2aaa73b757db49998ae45b7dbdeb35fd"
       ],
       "layout": "IPY_MODEL_f578a606697f4dd781c6be2bf89deb6e"
      }
     },
     "e59f6c62d4294b0b8158f0d4b92cbff1": {
      "model_module": "@jupyter-widgets/base",
      "model_module_version": "1.2.0",
      "model_name": "LayoutModel",
      "state": {
       "flex": "1 1 auto",
       "width": "auto"
      }
     },
     "e5a5bd1274864300a3be12f0ea0ff20a": {
      "model_module": "@jupyter-widgets/base",
      "model_module_version": "1.2.0",
      "model_name": "LayoutModel",
      "state": {}
     },
     "e5ace8ca7c29440ea801cab8c967e409": {
      "model_module": "@jupyter-widgets/base",
      "model_module_version": "1.2.0",
      "model_name": "LayoutModel",
      "state": {
       "display": "flex",
       "width": "100%"
      }
     },
     "e646c148c82b4662a2174996b4c8c29d": {
      "model_module": "@jupyter-widgets/base",
      "model_module_version": "1.2.0",
      "model_name": "LayoutModel",
      "state": {
       "flex": "1 1 auto",
       "width": "auto"
      }
     },
     "e66e20cded494286b961a73e90c0002e": {
      "model_module": "@jupyter-widgets/controls",
      "model_module_version": "1.5.0",
      "model_name": "DescriptionStyleModel",
      "state": {
       "description_width": ""
      }
     },
     "e6748312c8d64448b32997bf21187a15": {
      "model_module": "@jupyter-widgets/base",
      "model_module_version": "1.2.0",
      "model_name": "LayoutModel",
      "state": {}
     },
     "e6b563b69cc14954ad3f02dfcecc9b01": {
      "model_module": "@jupyter-widgets/controls",
      "model_module_version": "1.5.0",
      "model_name": "BoundedFloatTextModel",
      "state": {
       "layout": "IPY_MODEL_4ceac90f4b6b4fa1ac76d0699ace0be5",
       "max": 55,
       "min": -30,
       "step": 1,
       "style": "IPY_MODEL_ced641101c8048ae8e15a6ae9cd4e709",
       "value": 20
      }
     },
     "e6c4f9348345469bb1e99aba9a362eb2": {
      "model_module": "@jupyter-widgets/base",
      "model_module_version": "1.2.0",
      "model_name": "LayoutModel",
      "state": {
       "flex": "1 1 auto",
       "width": "auto"
      }
     },
     "e708999d8ec44c0eb6c6e0a8aab954ae": {
      "model_module": "@jupyter-widgets/controls",
      "model_module_version": "1.5.0",
      "model_name": "LabelModel",
      "state": {
       "layout": "IPY_MODEL_8f34aa1d3d74469fa23ab351ee2b9c06",
       "style": "IPY_MODEL_0e87124cc2f5491c8fd26ce7f7345c7a",
       "value": "Pressure in Pa:"
      }
     },
     "e77c9ecb27004950b256c578446ed740": {
      "model_module": "@jupyter-widgets/controls",
      "model_module_version": "1.5.0",
      "model_name": "HBoxModel",
      "state": {
       "children": [
        "IPY_MODEL_d9bb389bc5b0405abd5a7724e754cfef",
        "IPY_MODEL_87c7247050b348109f2b2868f601ca28",
        "IPY_MODEL_c89f26c098f24ae4b94f2c83592b9ec2"
       ],
       "layout": "IPY_MODEL_cec51a2f5261459fb4dce01e5a0466da"
      }
     },
     "e7b9ae94891b4cc6af5d769f784525f0": {
      "model_module": "@jupyter-widgets/base",
      "model_module_version": "1.2.0",
      "model_name": "LayoutModel",
      "state": {
       "display": "flex",
       "flex_flow": "row"
      }
     },
     "e7ce8ba482a04104ba3a4ce47dc9a57b": {
      "model_module": "@jupyter-widgets/controls",
      "model_module_version": "1.5.0",
      "model_name": "VBoxModel",
      "state": {
       "children": [
        "IPY_MODEL_bf2999b8a355435dad35e46d20f09df6",
        "IPY_MODEL_9e9b362632994d74a9c622b05d27dce3",
        "IPY_MODEL_16d420467faf441487c42c8d0780dbf2"
       ],
       "layout": "IPY_MODEL_4aded113fb494d9e8cadd470da654b32"
      }
     },
     "e7e8870281a74849bbd9ae76211695b8": {
      "model_module": "@jupyter-widgets/controls",
      "model_module_version": "1.5.0",
      "model_name": "DescriptionStyleModel",
      "state": {
       "description_width": ""
      }
     },
     "e823e58f0adb49e9ad73e0aa82d0492a": {
      "model_module": "@jupyter-widgets/controls",
      "model_module_version": "1.5.0",
      "model_name": "DescriptionStyleModel",
      "state": {
       "description_width": ""
      }
     },
     "e82db2f5cf6845f8af31fc2712aabeae": {
      "model_module": "@jupyter-widgets/controls",
      "model_module_version": "1.5.0",
      "model_name": "LabelModel",
      "state": {
       "layout": "IPY_MODEL_70601f5104694f5d9f4411860a0ffccb",
       "style": "IPY_MODEL_e823e58f0adb49e9ad73e0aa82d0492a",
       "value": "Platelength in m"
      }
     },
     "e8ddb23d6c5b42cebca3e4ae809807e4": {
      "model_module": "@jupyter-widgets/controls",
      "model_module_version": "1.5.0",
      "model_name": "DescriptionStyleModel",
      "state": {
       "description_width": ""
      }
     },
     "e98e7dfec1fa4eeda3c426c4b8daff5f": {
      "model_module": "@jupyter-widgets/controls",
      "model_module_version": "1.5.0",
      "model_name": "HBoxModel",
      "state": {
       "children": [
        "IPY_MODEL_ac1e5f1ca6074ec1b2df2c661e5d1f58",
        "IPY_MODEL_0b0292603e604390bff482b80c57e6d7",
        "IPY_MODEL_f3b8f5db9a324218a7c0a01345035799"
       ],
       "layout": "IPY_MODEL_763e36ede9984386adf267e6a005bace"
      }
     },
     "e9c25d00c26842d5833d3b58aae8c6bd": {
      "model_module": "@jupyter-widgets/base",
      "model_module_version": "1.2.0",
      "model_name": "LayoutModel",
      "state": {}
     },
     "ea139e5077f848e4ad0482986ac7f1fc": {
      "model_module": "@jupyter-widgets/controls",
      "model_module_version": "1.5.0",
      "model_name": "BoundedFloatTextModel",
      "state": {
       "layout": "IPY_MODEL_74993abb42484b38b31b579241af7901",
       "max": 200,
       "min": 0.001,
       "step": 0.001,
       "style": "IPY_MODEL_64857713826c4dd88145cc0e6899e851",
       "value": 20
      }
     },
     "eac2626b8cbf4699b7045aa49608c756": {
      "model_module": "@jupyter-widgets/controls",
      "model_module_version": "1.5.0",
      "model_name": "DescriptionStyleModel",
      "state": {
       "description_width": ""
      }
     },
     "ead43b8aeb4c43a79933c3b68418dbe1": {
      "model_module": "@jupyter-widgets/base",
      "model_module_version": "1.2.0",
      "model_name": "LayoutModel",
      "state": {}
     },
     "eaeefafc0da948ddb24bbd019abe8459": {
      "model_module": "@jupyter-widgets/base",
      "model_module_version": "1.2.0",
      "model_name": "LayoutModel",
      "state": {
       "display": "flex",
       "width": "100%"
      }
     },
     "eba98f7f56c847bcabf6bbaa4ec7dcb9": {
      "model_module": "@jupyter-widgets/base",
      "model_module_version": "1.2.0",
      "model_name": "LayoutModel",
      "state": {
       "flex": "1 1 auto",
       "width": "auto"
      }
     },
     "ec035a0d205640d387717ae88793fc62": {
      "model_module": "@jupyter-widgets/base",
      "model_module_version": "1.2.0",
      "model_name": "LayoutModel",
      "state": {
       "flex": "1 1 auto",
       "width": "auto"
      }
     },
     "ec3753af2e5a4d978eb046da2a27eb92": {
      "model_module": "@jupyter-widgets/base",
      "model_module_version": "1.2.0",
      "model_name": "LayoutModel",
      "state": {
       "flex": "10 1 auto",
       "width": "auto"
      }
     },
     "ec5582e5bf024c7cb1f1fa83ed3e32b5": {
      "model_module": "@jupyter-widgets/base",
      "model_module_version": "1.2.0",
      "model_name": "LayoutModel",
      "state": {}
     },
     "ec5ea047025944b887adc74f1dac832b": {
      "model_module": "@jupyter-widgets/controls",
      "model_module_version": "1.5.0",
      "model_name": "HBoxModel",
      "state": {
       "children": [
        "IPY_MODEL_9fd6cb963ca54a7285bcc053ba7bd13f",
        "IPY_MODEL_da84411e02f94c429e58d9404007bd6e",
        "IPY_MODEL_67f0777ecd4a4fa1b534a4b149a49e15"
       ],
       "layout": "IPY_MODEL_a1d9cbf5e4ff43d3bdf69a293da016e7"
      }
     },
     "ec77a5ea07dd494ab2184381372eae08": {
      "model_module": "@jupyter-widgets/controls",
      "model_module_version": "1.5.0",
      "model_name": "VBoxModel",
      "state": {
       "children": [
        "IPY_MODEL_195a390b86a749aab2105c8466b5529c",
        "IPY_MODEL_d8c75a1a265d4dd68e50542ac2b1e35d"
       ],
       "layout": "IPY_MODEL_6a82cffa341241f4a42998df3e73b982"
      }
     },
     "ecc596da9f974d5183ed6f3f03f36523": {
      "model_module": "@jupyter-widgets/controls",
      "model_module_version": "1.5.0",
      "model_name": "LabelModel",
      "state": {
       "layout": "IPY_MODEL_af25a1d167284e438b11ae19f794ce1f",
       "style": "IPY_MODEL_6f63f15214f443c8a92a0e9f5ae1d2ed",
       "value": "Temperature in °C:"
      }
     },
     "ece0d040316b4279b64afc9418f6e764": {
      "model_module": "@jupyter-widgets/controls",
      "model_module_version": "1.5.0",
      "model_name": "DescriptionStyleModel",
      "state": {
       "description_width": ""
      }
     },
     "ed5a93dbcd40436a83a59b6d50a9091a": {
      "model_module": "@jupyter-widgets/base",
      "model_module_version": "1.2.0",
      "model_name": "LayoutModel",
      "state": {
       "display": "flex",
       "flex_flow": "row"
      }
     },
     "edbf0dcd0fdc44778a9d40edddfdb669": {
      "model_module": "@jupyter-widgets/base",
      "model_module_version": "1.2.0",
      "model_name": "LayoutModel",
      "state": {
       "display": "flex",
       "width": "100%"
      }
     },
     "ee68fa4ea22a4182ac75b8efa67f9b24": {
      "model_module": "@jupyter-widgets/base",
      "model_module_version": "1.2.0",
      "model_name": "LayoutModel",
      "state": {
       "display": "flex",
       "width": "100%"
      }
     },
     "ee793e62a28d45af80caa54f289ddacc": {
      "model_module": "@jupyter-widgets/controls",
      "model_module_version": "1.5.0",
      "model_name": "SliderStyleModel",
      "state": {
       "description_width": ""
      }
     },
     "ef238e841f38492899fee8ea1e515b69": {
      "model_module": "@jupyter-widgets/base",
      "model_module_version": "1.2.0",
      "model_name": "LayoutModel",
      "state": {
       "flex": "10 1 auto",
       "width": "auto"
      }
     },
     "ef85426f5a4b4d58b39d2cb01cc7377f": {
      "model_module": "@jupyter-widgets/base",
      "model_module_version": "1.2.0",
      "model_name": "LayoutModel",
      "state": {
       "flex": "1 1 auto",
       "width": "auto"
      }
     },
     "efd32ba1438e49aa807481ebb906ecb4": {
      "model_module": "@jupyter-widgets/controls",
      "model_module_version": "1.5.0",
      "model_name": "BoundedFloatTextModel",
      "state": {
       "layout": "IPY_MODEL_f47cc9df49b343c59dfd9e98c07d71b9",
       "max": 10,
       "min": 0.001,
       "step": 0.001,
       "style": "IPY_MODEL_fc15e181b61d4594a93cd953604f54a7",
       "value": 0.1
      }
     },
     "efdbc03522b84c5d939f21f869a4de2f": {
      "model_module": "@jupyter-widgets/base",
      "model_module_version": "1.2.0",
      "model_name": "LayoutModel",
      "state": {
       "display": "flex",
       "flex_flow": "row"
      }
     },
     "f03b980117624f46ae06e6fa66a1f965": {
      "model_module": "@jupyter-widgets/controls",
      "model_module_version": "1.5.0",
      "model_name": "LabelModel",
      "state": {
       "layout": "IPY_MODEL_7687d98e2ae949c9833efaf62670daf2",
       "style": "IPY_MODEL_1e4da38b368949d09c722296b009a575",
       "value": "Pressure in Pa:"
      }
     },
     "f0a824df5a8146d2a5c4466ae19bab9a": {
      "model_module": "@jupyter-widgets/base",
      "model_module_version": "1.2.0",
      "model_name": "LayoutModel",
      "state": {
       "display": "flex",
       "width": "100%"
      }
     },
     "f0a91ab0c49945b38e3e9bab26802469": {
      "model_module": "@jupyter-widgets/base",
      "model_module_version": "1.2.0",
      "model_name": "LayoutModel",
      "state": {
       "flex": "10 1 auto",
       "width": "auto"
      }
     },
     "f0f8711c3f544664bbd1603b882312d0": {
      "model_module": "@jupyter-widgets/base",
      "model_module_version": "1.2.0",
      "model_name": "LayoutModel",
      "state": {}
     },
     "f1c6ef0706c14467a59ef9c02f46e4c7": {
      "model_module": "@jupyter-widgets/controls",
      "model_module_version": "1.5.0",
      "model_name": "HBoxModel",
      "state": {
       "children": [
        "IPY_MODEL_bd3a5b2041c440d1b9ecf19f46d6aa47",
        "IPY_MODEL_92b4d78f172a41818ad5d0e856709d66"
       ],
       "layout": "IPY_MODEL_03ee94235c0b412fba4a658ec305520f"
      }
     },
     "f1dacb2a073a48c6b8822d26bf39a4df": {
      "model_module": "@jupyter-widgets/base",
      "model_module_version": "1.2.0",
      "model_name": "LayoutModel",
      "state": {
       "display": "flex",
       "flex_flow": "row"
      }
     },
     "f240532a1f0a43dbbfa737d4dacb8b94": {
      "model_module": "@jupyter-widgets/base",
      "model_module_version": "1.2.0",
      "model_name": "LayoutModel",
      "state": {}
     },
     "f2ce9cf4c2f14919b232531bf8ece732": {
      "model_module": "@jupyter-widgets/controls",
      "model_module_version": "1.5.0",
      "model_name": "FloatSliderModel",
      "state": {
       "layout": "IPY_MODEL_e316ee62c71e4a0fa111a231a1a62c86",
       "max": 200,
       "min": 0.001,
       "readout": false,
       "step": 0.001,
       "style": "IPY_MODEL_584e35b66f7b4f55a59293b897a876de",
       "value": 20
      }
     },
     "f2d2373c11fb49c5aa85a3ee258684cb": {
      "model_module": "@jupyter-widgets/controls",
      "model_module_version": "1.5.0",
      "model_name": "LabelModel",
      "state": {
       "layout": "IPY_MODEL_9ba7c1bcc1d146ddaf66a776e425ea19",
       "style": "IPY_MODEL_3d4fa2aeb75944cbacd75569c0eabfa0",
       "value": "Temperature in °C:"
      }
     },
     "f2dbb8f534c743fdbf2edd4a888eff7c": {
      "model_module": "@jupyter-widgets/controls",
      "model_module_version": "1.5.0",
      "model_name": "FloatSliderModel",
      "state": {
       "layout": "IPY_MODEL_4d463214146347b38d44a7a0d735b969",
       "max": 55,
       "min": -30,
       "readout": false,
       "style": "IPY_MODEL_1a7fccad401240f6b43eed69556541c5",
       "value": 20
      }
     },
     "f2ee25f5925a4f45b5f18b07a0fa7b14": {
      "model_module": "@jupyter-widgets/base",
      "model_module_version": "1.2.0",
      "model_name": "LayoutModel",
      "state": {
       "flex": "10 1 auto",
       "width": "auto"
      }
     },
     "f37738d71c7842eba862058a7314a6a6": {
      "model_module": "@jupyter-widgets/controls",
      "model_module_version": "1.5.0",
      "model_name": "HBoxModel",
      "state": {
       "children": [
        "IPY_MODEL_1e74e139a1744d389199949233a8e0fb",
        "IPY_MODEL_458ac584379941128e9d828e855881d7",
        "IPY_MODEL_2cb210001136404983d9032dcf189b42"
       ],
       "layout": "IPY_MODEL_b77146198d72447fbd903c4d9e67b9f8"
      }
     },
     "f3a4b6acb1b347fca39dd0c4237a5076": {
      "model_module": "@jupyter-widgets/controls",
      "model_module_version": "1.5.0",
      "model_name": "HBoxModel",
      "state": {
       "children": [
        "IPY_MODEL_c6104330f8aa42d19f70d5b0a12394eb",
        "IPY_MODEL_2e3d3ebdbd5d4dc29811ceee90b9ac46"
       ],
       "layout": "IPY_MODEL_11a328286aa44379b15966740ee52f2b"
      }
     },
     "f3ab0e1508644da385b0a2096fcc6d72": {
      "model_module": "@jupyter-widgets/controls",
      "model_module_version": "1.5.0",
      "model_name": "BoundedFloatTextModel",
      "state": {
       "layout": "IPY_MODEL_05bad4dc6bac4ae481f44e56fc454d37",
       "max": 55,
       "min": -30,
       "step": 1,
       "style": "IPY_MODEL_f7a57730ef39464284f8a539a537fe2c",
       "value": 20
      }
     },
     "f3ad2c99aa9a4c019368c5f31be01090": {
      "model_module": "@jupyter-widgets/base",
      "model_module_version": "1.2.0",
      "model_name": "LayoutModel",
      "state": {
       "flex": "1 1 auto",
       "width": "auto"
      }
     },
     "f3b8f5db9a324218a7c0a01345035799": {
      "model_module": "@jupyter-widgets/controls",
      "model_module_version": "1.5.0",
      "model_name": "BoundedFloatTextModel",
      "state": {
       "layout": "IPY_MODEL_10f71ac8a7e74765a07f226b78840552",
       "max": 55,
       "min": -30,
       "step": 1,
       "style": "IPY_MODEL_415f0b66aa4e4f6a96bc0a995d749c73",
       "value": 20
      }
     },
     "f3cc1458316b4b1a865834ade3461af9": {
      "model_module": "@jupyter-widgets/base",
      "model_module_version": "1.2.0",
      "model_name": "LayoutModel",
      "state": {
       "display": "flex",
       "width": "100%"
      }
     },
     "f3cca6309d0a4e20b12da6824b1799c6": {
      "model_module": "@jupyter-widgets/base",
      "model_module_version": "1.2.0",
      "model_name": "LayoutModel",
      "state": {
       "flex": "10 1 auto",
       "width": "auto"
      }
     },
     "f3f1f81384e54bf2a5c484d8f2ef4f39": {
      "model_module": "@jupyter-widgets/controls",
      "model_module_version": "1.5.0",
      "model_name": "DescriptionStyleModel",
      "state": {
       "description_width": ""
      }
     },
     "f47cc9df49b343c59dfd9e98c07d71b9": {
      "model_module": "@jupyter-widgets/base",
      "model_module_version": "1.2.0",
      "model_name": "LayoutModel",
      "state": {
       "flex": "1 1 auto",
       "width": "auto"
      }
     },
     "f4ab5149a96b4d608db1524cf7c25628": {
      "model_module": "@jupyter-widgets/controls",
      "model_module_version": "1.5.0",
      "model_name": "LabelModel",
      "state": {
       "layout": "IPY_MODEL_4e007841965f4c4fa1166de3f783eb8a",
       "style": "IPY_MODEL_decfa2cde3504165ab8d1977cbe070ae",
       "value": "Platelength in m"
      }
     },
     "f4c821888e7c43cfa0d9fa5a539d057f": {
      "model_module": "@jupyter-widgets/controls",
      "model_module_version": "1.5.0",
      "model_name": "DescriptionStyleModel",
      "state": {
       "description_width": ""
      }
     },
     "f505e645353f49dbb85b2ee4bfb2615e": {
      "model_module": "@jupyter-widgets/controls",
      "model_module_version": "1.5.0",
      "model_name": "LabelModel",
      "state": {
       "layout": "IPY_MODEL_1a4d16ed92674e458cf53fa33452d497",
       "style": "IPY_MODEL_bab29f00eef34a3986fd5382a1dbda63",
       "value": "Temperature in °C:"
      }
     },
     "f578a606697f4dd781c6be2bf89deb6e": {
      "model_module": "@jupyter-widgets/base",
      "model_module_version": "1.2.0",
      "model_name": "LayoutModel",
      "state": {}
     },
     "f74d5510a8d147baac872115a4f2a7ad": {
      "model_module": "@jupyter-widgets/base",
      "model_module_version": "1.2.0",
      "model_name": "LayoutModel",
      "state": {}
     },
     "f74fa0bf1f0b4024a8c2d7fd5274e9b3": {
      "model_module": "@jupyter-widgets/output",
      "model_module_version": "1.0.0",
      "model_name": "OutputModel",
      "state": {
       "layout": "IPY_MODEL_0d1091aee808413db38b95f6062de6ae"
      }
     },
     "f75fed7c35c54b3c9d3dd63712eac016": {
      "model_module": "@jupyter-widgets/controls",
      "model_module_version": "1.5.0",
      "model_name": "DescriptionStyleModel",
      "state": {
       "description_width": ""
      }
     },
     "f7a57730ef39464284f8a539a537fe2c": {
      "model_module": "@jupyter-widgets/controls",
      "model_module_version": "1.5.0",
      "model_name": "DescriptionStyleModel",
      "state": {
       "description_width": ""
      }
     },
     "f7ceedc86e9e4a018b26978a5117f654": {
      "model_module": "@jupyter-widgets/controls",
      "model_module_version": "1.5.0",
      "model_name": "LabelModel",
      "state": {
       "layout": "IPY_MODEL_2c5b294c98e14b1a8985a80e73332810",
       "style": "IPY_MODEL_7f0f24587b574320ad12a0dd54d86623",
       "value": "Gas / Specie Mixture:"
      }
     },
     "f7f3f82d27b84078a97a191725ace5e0": {
      "model_module": "@jupyter-widgets/base",
      "model_module_version": "1.2.0",
      "model_name": "LayoutModel",
      "state": {
       "flex": "1 1 auto",
       "width": "auto"
      }
     },
     "f81075991cd7430aaa49abe81cebefa9": {
      "model_module": "@jupyter-widgets/base",
      "model_module_version": "1.2.0",
      "model_name": "LayoutModel",
      "state": {
       "display": "flex",
       "width": "100%"
      }
     },
     "f83bdfb98e0f4d2e913f78687c05115d": {
      "model_module": "@jupyter-widgets/controls",
      "model_module_version": "1.5.0",
      "model_name": "BoundedFloatTextModel",
      "state": {
       "layout": "IPY_MODEL_93d7ea8d20784ca0a8db7abf7e66e7d1",
       "max": 15000000,
       "min": 1,
       "step": 100000,
       "style": "IPY_MODEL_0b434f134c934f4c826cf159be161711",
       "value": 101325
      }
     },
     "f880a0e3a9da4444894b3168abf3827f": {
      "model_module": "@jupyter-widgets/controls",
      "model_module_version": "1.5.0",
      "model_name": "HBoxModel",
      "state": {
       "children": [
        "IPY_MODEL_bc9610053afd4a628536923ef1bf3ee9",
        "IPY_MODEL_06553a33e4c242a9a5da4273606b3e03",
        "IPY_MODEL_abf6a5035834447988daf09acd3ed292"
       ],
       "layout": "IPY_MODEL_c13e336d86e44306938b03fdf98139e2"
      }
     },
     "f89a89f543f44e86954bb1114c4241ac": {
      "model_module": "@jupyter-widgets/controls",
      "model_module_version": "1.5.0",
      "model_name": "SliderStyleModel",
      "state": {
       "description_width": ""
      }
     },
     "f8f83483a6c64bcb87f1894a37eb7738": {
      "model_module": "@jupyter-widgets/base",
      "model_module_version": "1.2.0",
      "model_name": "LayoutModel",
      "state": {
       "flex": "1 1 auto",
       "width": "auto"
      }
     },
     "f93785f7f44a4ce2822f3b24c3d2a971": {
      "model_module": "@jupyter-widgets/base",
      "model_module_version": "1.2.0",
      "model_name": "LayoutModel",
      "state": {
       "flex": "10 1 auto",
       "width": "auto"
      }
     },
     "f996b71a187b4b948bdb48aee2206a68": {
      "model_module": "@jupyter-widgets/controls",
      "model_module_version": "1.5.0",
      "model_name": "HBoxModel",
      "state": {
       "children": [
        "IPY_MODEL_e708999d8ec44c0eb6c6e0a8aab954ae",
        "IPY_MODEL_ae77f2d5f96e492a9cd11aa526412ce3",
        "IPY_MODEL_4ab9d6a61bcb464e99ff3278be011c08"
       ],
       "layout": "IPY_MODEL_7e79140459914381b67c2f036d097d0a"
      }
     },
     "f99e5c5e6c2b407baa60830a3dc6a3f6": {
      "model_module": "@jupyter-widgets/controls",
      "model_module_version": "1.5.0",
      "model_name": "LabelModel",
      "state": {
       "layout": "IPY_MODEL_f7f3f82d27b84078a97a191725ace5e0",
       "style": "IPY_MODEL_aca0298a991c478da1196ebfaabec3d4",
       "value": "Platelength in m"
      }
     },
     "f9e0dbb5a6ea44e4ba79d98a6bf914bb": {
      "model_module": "@jupyter-widgets/base",
      "model_module_version": "1.2.0",
      "model_name": "LayoutModel",
      "state": {
       "display": "flex",
       "flex_flow": "row"
      }
     },
     "f9fe3825340a40758490d5adda5c5116": {
      "model_module": "@jupyter-widgets/controls",
      "model_module_version": "1.5.0",
      "model_name": "LabelModel",
      "state": {
       "layout": "IPY_MODEL_4da13c9d8d404693aef6a78f36404bfa",
       "style": "IPY_MODEL_797a6c88e53141548d1612b76b6b860b",
       "value": "Temperature in °C:"
      }
     },
     "fa5c1779ee4f414dbef20e131f758f1c": {
      "model_module": "@jupyter-widgets/controls",
      "model_module_version": "1.5.0",
      "model_name": "BoundedFloatTextModel",
      "state": {
       "layout": "IPY_MODEL_c7ba71d8fd9647989151dcd8e166477b",
       "max": 15000000,
       "min": 1,
       "step": 100000,
       "style": "IPY_MODEL_11269ba8cb884cb29ddef3fd83472d68",
       "value": 101325
      }
     },
     "fa63516a64774bfea68d6f28e822a392": {
      "model_module": "@jupyter-widgets/base",
      "model_module_version": "1.2.0",
      "model_name": "LayoutModel",
      "state": {
       "flex": "1 1 auto",
       "width": "auto"
      }
     },
     "facd174b3a854b41a53284836f73c425": {
      "model_module": "@jupyter-widgets/controls",
      "model_module_version": "1.5.0",
      "model_name": "BoundedFloatTextModel",
      "state": {
       "layout": "IPY_MODEL_385b628775864537af30526a65d65f4e",
       "max": 15000000,
       "min": 1,
       "step": 100000,
       "style": "IPY_MODEL_1bf04ee4ce104e09b3b7c9fc9df91d43",
       "value": 101325
      }
     },
     "faea361b93fd488a9ee50f0971206798": {
      "model_module": "@jupyter-widgets/controls",
      "model_module_version": "1.5.0",
      "model_name": "BoundedFloatTextModel",
      "state": {
       "layout": "IPY_MODEL_694f18b5cddb4d12963214b09cbf1631",
       "max": 10,
       "min": 0.001,
       "step": 0.001,
       "style": "IPY_MODEL_0aa602429c6d4563b182ebfb3e8702de",
       "value": 0.1
      }
     },
     "fb76014de0f94db3933b514deaea2818": {
      "model_module": "@jupyter-widgets/controls",
      "model_module_version": "1.5.0",
      "model_name": "LabelModel",
      "state": {
       "layout": "IPY_MODEL_e646c148c82b4662a2174996b4c8c29d",
       "style": "IPY_MODEL_88f7e5824a8d488ebba2d918afdf9d3c",
       "value": "Velocity in m/s:"
      }
     },
     "fb79ca6a176f4420aff06c36cc6ecc6d": {
      "model_module": "@jupyter-widgets/controls",
      "model_module_version": "1.5.0",
      "model_name": "HBoxModel",
      "state": {
       "children": [
        "IPY_MODEL_6ec4db93c66c48b5b4ab4f16063f5f17",
        "IPY_MODEL_d8b2851f59b64eef9f81d0ab79d8dd26",
        "IPY_MODEL_05ab5b7b33a64e5db3769f9ac9fb2a29"
       ],
       "layout": "IPY_MODEL_3f84c6e9ae4843acbacc7f50414194cf"
      }
     },
     "fb885fff30f14ce1a2c4e7a036f2a074": {
      "model_module": "@jupyter-widgets/controls",
      "model_module_version": "1.5.0",
      "model_name": "DescriptionStyleModel",
      "state": {
       "description_width": ""
      }
     },
     "fc15e181b61d4594a93cd953604f54a7": {
      "model_module": "@jupyter-widgets/controls",
      "model_module_version": "1.5.0",
      "model_name": "DescriptionStyleModel",
      "state": {
       "description_width": ""
      }
     },
     "fcad7d8a881e40659e6e0eaf78312381": {
      "model_module": "@jupyter-widgets/base",
      "model_module_version": "1.2.0",
      "model_name": "LayoutModel",
      "state": {}
     },
     "fcb7bc3726e1462fac43b263723b42e3": {
      "model_module": "@jupyter-widgets/controls",
      "model_module_version": "1.5.0",
      "model_name": "LabelModel",
      "state": {
       "layout": "IPY_MODEL_c2e0b345ccbe4f3ca75fd88d0af5d2c9",
       "style": "IPY_MODEL_e8ddb23d6c5b42cebca3e4ae809807e4",
       "value": "Velocity in m/s:"
      }
     },
     "fcd4f14bc37a474ca1ebb88c82e6dc27": {
      "model_module": "@jupyter-widgets/base",
      "model_module_version": "1.2.0",
      "model_name": "LayoutModel",
      "state": {
       "flex": "1 1 auto",
       "width": "auto"
      }
     },
     "fd0226053fce42e4b54366cf47afaa38": {
      "model_module": "@jupyter-widgets/base",
      "model_module_version": "1.2.0",
      "model_name": "LayoutModel",
      "state": {
       "flex": "1 1 auto",
       "width": "auto"
      }
     },
     "fd158e7fb63c473d930205b36c803085": {
      "model_module": "@jupyter-widgets/controls",
      "model_module_version": "1.5.0",
      "model_name": "FloatSliderModel",
      "state": {
       "layout": "IPY_MODEL_11d5aff87904493a9344784b1597011e",
       "max": 10,
       "min": 0.001,
       "readout": false,
       "step": 0.001,
       "style": "IPY_MODEL_58e9aed5dea34250ad82b688e8161254",
       "value": 0.1
      }
     },
     "fd315e008e4144eb95f318fce09a5b4e": {
      "model_module": "@jupyter-widgets/controls",
      "model_module_version": "1.5.0",
      "model_name": "SliderStyleModel",
      "state": {
       "description_width": ""
      }
     },
     "fd3aad1d6f0946fab86f1b8a97dee5f7": {
      "model_module": "@jupyter-widgets/base",
      "model_module_version": "1.2.0",
      "model_name": "LayoutModel",
      "state": {}
     },
     "fd997fbd9b0b4bc7aaeae6d77a0f00f1": {
      "model_module": "@jupyter-widgets/controls",
      "model_module_version": "1.5.0",
      "model_name": "DescriptionStyleModel",
      "state": {
       "description_width": ""
      }
     },
     "fe0507926fd04f9a98995e8563c223dc": {
      "model_module": "@jupyter-widgets/base",
      "model_module_version": "1.2.0",
      "model_name": "LayoutModel",
      "state": {
       "flex": "1 1 auto",
       "width": "auto"
      }
     },
     "fe2b34c3e45e4ff9992402fbe7561e1c": {
      "model_module": "@jupyter-widgets/controls",
      "model_module_version": "1.5.0",
      "model_name": "HBoxModel",
      "state": {
       "children": [
        "IPY_MODEL_c0fe1d9873974328ace6d8128c8eb7ac",
        "IPY_MODEL_c9de93865e5549848fce5b66b30e76e2",
        "IPY_MODEL_9bb4d5f381814b36b51eebc7d19d40bb"
       ],
       "layout": "IPY_MODEL_4d4684d2847640b6a8c11f0e97febb43"
      }
     },
     "fe53f15a0d084dbda64531d303e15bb8": {
      "model_module": "@jupyter-widgets/base",
      "model_module_version": "1.2.0",
      "model_name": "LayoutModel",
      "state": {
       "display": "flex",
       "width": "100%"
      }
     },
     "fe91c0c28cc64bd8a891e2461654955f": {
      "model_module": "@jupyter-widgets/base",
      "model_module_version": "1.2.0",
      "model_name": "LayoutModel",
      "state": {
       "flex": "1 1 auto",
       "width": "auto"
      }
     },
     "fea799a87252464284d13ac968ae5daa": {
      "model_module": "@jupyter-widgets/base",
      "model_module_version": "1.2.0",
      "model_name": "LayoutModel",
      "state": {
       "display": "flex",
       "flex_flow": "row"
      }
     },
     "ff1629b8fb82406bbb0d20cd6def2949": {
      "model_module": "@jupyter-widgets/base",
      "model_module_version": "1.2.0",
      "model_name": "LayoutModel",
      "state": {}
     },
     "ff256e0473cd4a2c99266d9094709b45": {
      "model_module": "@jupyter-widgets/controls",
      "model_module_version": "1.5.0",
      "model_name": "HBoxModel",
      "state": {
       "children": [
        "IPY_MODEL_df9543e0cd06420f871e699d7b2298c4",
        "IPY_MODEL_88175c752baf453d9db82625e13c7eb7",
        "IPY_MODEL_ea139e5077f848e4ad0482986ac7f1fc"
       ],
       "layout": "IPY_MODEL_48135822651b496697f885807b43649f"
      }
     },
     "ff48d085f7114897b07b99395de3c10f": {
      "model_module": "@jupyter-widgets/base",
      "model_module_version": "1.2.0",
      "model_name": "LayoutModel",
      "state": {
       "flex": "1 1 auto",
       "width": "auto"
      }
     },
     "ff7d45d33a0d41cbb6266d081a68098f": {
      "model_module": "@jupyter-widgets/controls",
      "model_module_version": "1.5.0",
      "model_name": "SliderStyleModel",
      "state": {
       "description_width": ""
      }
     }
    },
    "version_major": 2,
    "version_minor": 0
   }
  }
 },
 "nbformat": 4,
 "nbformat_minor": 4
}
