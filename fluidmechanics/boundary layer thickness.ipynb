{
 "cells": [
  {
   "cell_type": "code",
   "execution_count": 6,
   "metadata": {},
   "outputs": [
    {
     "data": {
      "text/markdown": [
       "&nbsp;<a href=\"https://nuflo.de\"><img hspace=\"45%\" align=\"middle\" src=\"../_libtoolbox/nuflo-logo-N-512x512.png\" alt=\"logo-N\" width=\"8%\" /></a>\n",
       "\n",
       "<center><h1>nuflo Engineering Toolbox</h1></center>\n",
       "\n",
       "[nuflo is an engineering company](https://nuflo.de) that supports digitalization of engineering processes in fluid mechanics.\n",
       "\n",
       "*The code for this tool can be found over at [github](https://github.com/JohK/engineering-toolbox).*  \n",
       "*More interactive tools are located at [toolbox.nuflo.de](http://toolbox.nuflo.de).*\n"
      ],
      "text/plain": [
       "<IPython.core.display.Markdown object>"
      ]
     },
     "metadata": {},
     "output_type": "display_data"
    }
   ],
   "source": [
    "%matplotlib inline\n",
    "%run '../_libtoolbox/init-notebook.py'\n",
    "%run '../_libtoolbox/tbwidgets.py'\n",
    "%run '../_libtoolbox/header.py'"
   ]
  },
  {
   "cell_type": "markdown",
   "metadata": {},
   "source": [
    "Boundary Layer Thickness on a Flat Plate\n",
    "---\n",
    "This is a tool for a quick estimation of the boundary layer thickness on a flat plate. For this estimation we use the momentum loss thickness based on two simple correlations:\n",
    "\n",
    "The momentum loss thickness of a laminar boundary layer $\\delta_l$ (Blasius solution):\n",
    "$$ \\delta_l = 0.664 \\cdot \\sqrt{\\frac{\\nu \\cdot x}{u}} $$\n",
    "\n",
    "For a turbulent flow:\n",
    "$$ \\delta_t = 0.0142 \\cdot x \\cdot \\left(\\frac{u\\cdot x}{\\nu}\\right)^\\left(-\\frac{1}{7}\\right) $$\n",
    "\n",
    "Depending on the physical problem these may not be the right choice, if unsure ask an experienced engineer."
   ]
  },
  {
   "cell_type": "code",
   "execution_count": 7,
   "metadata": {},
   "outputs": [],
   "source": [
    "@np.vectorize\n",
    "def momentum_boundarylayer(x, u, gas):\n",
    "    rho = gas.density\n",
    "    nu = gas.kinematic_viscosity\n",
    "    \n",
    "    fdelta_laminar = lambda x: 0.664*np.sqrt(nu*x/u)\n",
    "    fdelta_turbulent = lambda x: 0.0142*(u*x/nu)**(-1/7)*x\n",
    "    \n",
    "    try:\n",
    "        boundarylayer_thickness = [np.max(fdelta_laminar(xi), fdelta_turbulent(xi)) for xi in x]\n",
    "    except TypeError:\n",
    "        boundarylayer_thickness = np.max([fdelta_laminar(x), fdelta_turbulent(x)])\n",
    "    \n",
    "    # find where laminar and turbulent boundary layer thickness intersect\n",
    "    sol = root_scalar(lambda x: fdelta_laminar(x)-fdelta_turbulent(x), bracket=[1e-6,10e6])\n",
    "    if sol.converged:\n",
    "        transition_position = sol.root\n",
    "    else:\n",
    "        transition_position = np.nan\n",
    "    \n",
    "    return(boundarylayer_thickness,\n",
    "           transition_position)"
   ]
  },
  {
   "cell_type": "code",
   "execution_count": 11,
   "metadata": {},
   "outputs": [],
   "source": [
    "def fplot(platelength, u, pressure, temperature, gasname):\n",
    "    g = gas.state(gasname, 273.15+temperature, pressure)\n",
    "    \n",
    "    desc = '{:s}: T={:.1f}°C, p={:.3f}bar'.format(gasname, temperature, pressure/1e5)\n",
    "    \n",
    "    fig = plt.figure(dpi=300)\n",
    "    #print(xmax, u, gas.gasname)\n",
    "    x = np.linspace(0.0000001, platelength, num=1000)\n",
    "    \n",
    "    if not np.isnan(g.density):\n",
    "        bl, transition = momentum_boundarylayer(x, u, g)\n",
    "        transition_bl, _ =  momentum_boundarylayer(transition[0], u, g)\n",
    "\n",
    "        plt.plot(x, bl*1000, '-', label='boundary layer thickness')\n",
    "        plt.plot(transition[0], transition_bl*1000, '.', label='laminar-turbulent transition')\n",
    "        plt.xlim([0, platelength])\n",
    "        plt.ylim([0, np.max(bl)*1000])\n",
    "        plt.legend()\n",
    "    else:\n",
    "        plt.text(0.2, 0.5, 'Data not available, or\\nnot a fluid in the property range',\n",
    "                 transform=plt.gca().transAxes, \n",
    "                 bbox=dict(facecolor='red', alpha=0.2))\n",
    "    plt.xlabel('length of flat plate in m')\n",
    "    plt.ylabel('boundary layer thickness in mm')\n",
    "    plt.grid()\n",
    "    plt.title(desc)\n",
    "  \n",
    "# with widget\n",
    " #   fig.canvas.layout.width = '100%'\n",
    " #   fig.canvas.layout.height = '750px'\n",
    "\n",
    "    plt.show()"
   ]
  },
  {
   "cell_type": "code",
   "execution_count": 12,
   "metadata": {},
   "outputs": [
    {
     "data": {
      "application/vnd.jupyter.widget-view+json": {
       "model_id": "98f1f6be96384174a96016654bc52262",
       "version_major": 2,
       "version_minor": 0
      },
      "text/plain": [
       "Accordion(children=(VBox(children=(HBox(children=(Label(value='Pressure in Pa:', layout=Layout(flex='1 1 auto'…"
      ]
     },
     "metadata": {},
     "output_type": "display_data"
    },
    {
     "data": {
      "application/vnd.jupyter.widget-view+json": {
       "model_id": "f5a20e7b82434661a6d086b839d8c5a6",
       "version_major": 2,
       "version_minor": 0
      },
      "text/plain": [
       "Output()"
      ]
     },
     "metadata": {},
     "output_type": "display_data"
    }
   ],
   "source": [
    "gas_dropdown = widgets.Dropdown(options=gas.state.fluids_list(), value='Air')\n",
    "\n",
    "pwidget, pslider, _ = quantity('Pressure in Pa:', min=1, max=150e5, step=1e5, value=101325)\n",
    "Twidget, Tslider, _ = quantity('Temperature in °C:', min=-30, max=55, step=1, value=20)\n",
    "\n",
    "thermostate = widgets.VBox([\n",
    "    pwidget,\n",
    "    Twidget,\n",
    "    widgets.HBox([widgets.Label('Gas / Specie Mixture:'), gas_dropdown])\n",
    "])\n",
    "\n",
    "platewidget, plateslider, _ = quantity('Platelength in m', min=0.001, max=10, step=0.001, value=0.1)\n",
    "uwidget, uslider, _ = quantity('Velocity in m/s:', min=0.001, max=200, step=0.001, value=20)\n",
    "\n",
    "flow = widgets.VBox([platewidget, uwidget])\n",
    "\n",
    "accordion = widgets.Accordion(children=[thermostate, flow])\n",
    "accordion.set_title(0, 'Thermodynamic State')\n",
    "accordion.set_title(1, 'Flat Plate')\n",
    "\n",
    "\n",
    "interactive_plot = interactive_output(fplot,\n",
    "                               {'platelength': plateslider,\n",
    "                                'u': uslider,\n",
    "                                'pressure': pslider,\n",
    "                                'temperature': Tslider,\n",
    "                                'gasname': gas_dropdown})\n",
    "\n",
    "display(accordion, interactive_plot)"
   ]
  },
  {
   "cell_type": "code",
   "execution_count": 13,
   "metadata": {},
   "outputs": [
    {
     "data": {
      "text/markdown": [
       "\n",
       "<div style='position: fixed; left: 0; bottom: 0; width: 100%; background-color: #f7b500; color: #000000; text-align: center; vertical-align: middle; padding: 10px'> \n",
       "<b><a style='color: #000000;' href=\"https://nuflo.de/\"><img src=\"../_libtoolbox/nuflo-logo-N-512x512.png\" alt=\"logo-N\" width=\"16px\" />&nbsp;&nbsp;&nbsp;nuflo</a></b></div>"
      ],
      "text/plain": [
       "<IPython.core.display.Markdown object>"
      ]
     },
     "metadata": {},
     "output_type": "display_data"
    },
    {
     "data": {
      "text/plain": [
       "<Figure size 432x288 with 0 Axes>"
      ]
     },
     "metadata": {},
     "output_type": "display_data"
    }
   ],
   "source": [
    "%run '../_libtoolbox/footer.py'"
   ]
  }
 ],
 "metadata": {
  "kernelspec": {
   "display_name": "Python 3",
   "language": "python",
   "name": "python3"
  },
  "language_info": {
   "codemirror_mode": {
    "name": "ipython",
    "version": 3
   },
   "file_extension": ".py",
   "mimetype": "text/x-python",
   "name": "python",
   "nbconvert_exporter": "python",
   "pygments_lexer": "ipython3",
   "version": "3.8.6"
  },
  "widgets": {
   "application/vnd.jupyter.widget-state+json": {
    "state": {
     "00e6498b10114dee8703789efa15e8a0": {
      "model_module": "@jupyter-widgets/base",
      "model_module_version": "1.2.0",
      "model_name": "LayoutModel",
      "state": {
       "flex": "1 1 auto",
       "width": "auto"
      }
     },
     "013281050bc34f3b8f41a109a0dfb8b5": {
      "model_module": "@jupyter-widgets/base",
      "model_module_version": "1.2.0",
      "model_name": "LayoutModel",
      "state": {}
     },
     "02d73c8268a24095bd503479ce2eb056": {
      "model_module": "@jupyter-widgets/base",
      "model_module_version": "1.2.0",
      "model_name": "LayoutModel",
      "state": {
       "display": "flex",
       "flex_flow": "row"
      }
     },
     "0323f896b1a24a74bbe05c8d6c71782f": {
      "model_module": "@jupyter-widgets/controls",
      "model_module_version": "1.5.0",
      "model_name": "BoundedFloatTextModel",
      "state": {
       "layout": "IPY_MODEL_df7705a366fe4b6d9f290f6a5e06398f",
       "max": 10,
       "min": 0.001,
       "step": 0.001,
       "style": "IPY_MODEL_1e4041000a394fb7a256bfa0714ed39e",
       "value": 0.1
      }
     },
     "0468d5d634e74f07848731bbf0160112": {
      "model_module": "@jupyter-widgets/controls",
      "model_module_version": "1.5.0",
      "model_name": "AccordionModel",
      "state": {
       "_titles": {
        "0": "Thermodynamic State",
        "1": "Flat Plate"
       },
       "children": [
        "IPY_MODEL_1e4d16ad46c748069b01e0d1e81ceada",
        "IPY_MODEL_4d6d0fdf8c6947a39b9bf7f4b512f8a0"
       ],
       "layout": "IPY_MODEL_48fe9fce3be84c47a8b3daa2a99ba3c6"
      }
     },
     "055d11a383b44685a952ea8a9c3e5d4c": {
      "model_module": "@jupyter-widgets/controls",
      "model_module_version": "1.5.0",
      "model_name": "HBoxModel",
      "state": {
       "children": [
        "IPY_MODEL_f691e0bcd4fb421a91837aa7cad2cf77",
        "IPY_MODEL_ab2f6eeb22d84f6e85ebba37a69e969f",
        "IPY_MODEL_3bc9e7d5019b4caf8c2b7dd91d83637e"
       ],
       "layout": "IPY_MODEL_f9a7a9ed4b4d49509cf8829dc1d8c03a"
      }
     },
     "066b5ada0045451989a87d50a2139ff9": {
      "model_module": "@jupyter-widgets/base",
      "model_module_version": "1.2.0",
      "model_name": "LayoutModel",
      "state": {
       "display": "flex",
       "width": "50%"
      }
     },
     "07a7bc87932340e99a1b549edd9df365": {
      "model_module": "@jupyter-widgets/base",
      "model_module_version": "1.2.0",
      "model_name": "LayoutModel",
      "state": {
       "flex": "1 1 auto",
       "width": "auto"
      }
     },
     "07ce985203db4bef9d23214fb5b3c405": {
      "model_module": "@jupyter-widgets/controls",
      "model_module_version": "1.5.0",
      "model_name": "DescriptionStyleModel",
      "state": {
       "description_width": ""
      }
     },
     "098197d58b354b78af870a5bc0722707": {
      "model_module": "@jupyter-widgets/base",
      "model_module_version": "1.2.0",
      "model_name": "LayoutModel",
      "state": {
       "flex": "1 1 auto",
       "width": "auto"
      }
     },
     "098e3f4787224c3ba3bd8abd005ee315": {
      "model_module": "@jupyter-widgets/base",
      "model_module_version": "1.2.0",
      "model_name": "LayoutModel",
      "state": {}
     },
     "0a376cd162a94976aca5b928278c4df0": {
      "model_module": "@jupyter-widgets/controls",
      "model_module_version": "1.5.0",
      "model_name": "BoundedFloatTextModel",
      "state": {
       "layout": "IPY_MODEL_4d5ff5893fe9482e8dec94c4393bed6b",
       "max": 200,
       "min": 0.001,
       "step": 0.001,
       "style": "IPY_MODEL_a90a27581d314614b13a135874c78161",
       "value": 20
      }
     },
     "0ad2ab73970f496dad5a70c10a4b0480": {
      "model_module": "@jupyter-widgets/controls",
      "model_module_version": "1.5.0",
      "model_name": "BoundedFloatTextModel",
      "state": {
       "layout": "IPY_MODEL_520c67a1b2194dba845bd9c35273b85d",
       "max": 55,
       "min": -30,
       "step": 1,
       "style": "IPY_MODEL_efc65a8bd9644937b0af54b60a8879a8",
       "value": 3
      }
     },
     "0fee627b9f67471395c5c41e5fc3f1a2": {
      "model_module": "@jupyter-widgets/base",
      "model_module_version": "1.2.0",
      "model_name": "LayoutModel",
      "state": {
       "display": "flex",
       "width": "50%"
      }
     },
     "118e6c22aa50418a89f9142e94b1740a": {
      "model_module": "@jupyter-widgets/controls",
      "model_module_version": "1.5.0",
      "model_name": "LabelModel",
      "state": {
       "layout": "IPY_MODEL_c4ec79e6affe4ab2b79462f28b4b6bac",
       "style": "IPY_MODEL_176054865b424db281a4ff410e553e6e",
       "value": "Velocity in m/s:"
      }
     },
     "1535e06135094b06bc5aec6e8ccfc130": {
      "model_module": "@jupyter-widgets/controls",
      "model_module_version": "1.5.0",
      "model_name": "DescriptionStyleModel",
      "state": {
       "description_width": ""
      }
     },
     "15a71e05769647cc80301273d68548a1": {
      "model_module": "@jupyter-widgets/base",
      "model_module_version": "1.2.0",
      "model_name": "LayoutModel",
      "state": {}
     },
     "171b236c190c4f649c28a488f2f03bba": {
      "model_module": "@jupyter-widgets/controls",
      "model_module_version": "1.5.0",
      "model_name": "DescriptionStyleModel",
      "state": {
       "description_width": ""
      }
     },
     "176054865b424db281a4ff410e553e6e": {
      "model_module": "@jupyter-widgets/controls",
      "model_module_version": "1.5.0",
      "model_name": "DescriptionStyleModel",
      "state": {
       "description_width": ""
      }
     },
     "18f1e0be73a041c78bf8cfdb0ca41da4": {
      "model_module": "@jupyter-widgets/controls",
      "model_module_version": "1.5.0",
      "model_name": "LabelModel",
      "state": {
       "layout": "IPY_MODEL_1eaa444fba394c9caee084fb9f8d633a",
       "style": "IPY_MODEL_e9f472151063404a82a0a3050e43eea2",
       "value": "Gas / Specie Mixture:"
      }
     },
     "1990094f8cd646e4a8578f596837cf04": {
      "model_module": "@jupyter-widgets/base",
      "model_module_version": "1.2.0",
      "model_name": "LayoutModel",
      "state": {}
     },
     "1b175b603e314622bda093da40ef3314": {
      "model_module": "@jupyter-widgets/output",
      "model_module_version": "1.0.0",
      "model_name": "OutputModel",
      "state": {
       "layout": "IPY_MODEL_926f9090234b43f4ac9fa77c18e7587a",
       "outputs": [
        {
         "data": {
          "application/vnd.jupyter.widget-view+json": {
           "model_id": "5d8339e0f9bd47eba1fc55536cdbbeb9",
           "version_major": 2,
           "version_minor": 0
          },
          "text/plain": "Canvas(toolbar=Toolbar(toolitems=[('Home', 'Reset original view', 'home', 'home'), ('Back', 'Back to previous …"
         },
         "metadata": {},
         "output_type": "display_data"
        }
       ]
      }
     },
     "1b7a32e353ad4667b24b6e43e7aee99d": {
      "model_module": "@jupyter-widgets/controls",
      "model_module_version": "1.5.0",
      "model_name": "BoundedFloatTextModel",
      "state": {
       "layout": "IPY_MODEL_efddfb54f9ad4424888f90d76e20ee6b",
       "max": 10,
       "min": 0.001,
       "step": 0.001,
       "style": "IPY_MODEL_3d0546d0a05743cc836c9762f408d238",
       "value": 0.1
      }
     },
     "1e4041000a394fb7a256bfa0714ed39e": {
      "model_module": "@jupyter-widgets/controls",
      "model_module_version": "1.5.0",
      "model_name": "DescriptionStyleModel",
      "state": {
       "description_width": ""
      }
     },
     "1e4d16ad46c748069b01e0d1e81ceada": {
      "model_module": "@jupyter-widgets/controls",
      "model_module_version": "1.5.0",
      "model_name": "VBoxModel",
      "state": {
       "children": [
        "IPY_MODEL_e6fb41e2fee24d859786919ca62f6d6b",
        "IPY_MODEL_d619f9b9e4294076b798f4d69d8ab94d",
        "IPY_MODEL_ed26d5d041204fd1a4a6734b5f92a1f8"
       ],
       "layout": "IPY_MODEL_b0a3b5e8ca914101a3be09cc60b2e2f4"
      }
     },
     "1eaa444fba394c9caee084fb9f8d633a": {
      "model_module": "@jupyter-widgets/base",
      "model_module_version": "1.2.0",
      "model_name": "LayoutModel",
      "state": {}
     },
     "251387ecd5b1465fb16647c1ede83423": {
      "model_module": "@jupyter-widgets/controls",
      "model_module_version": "1.5.0",
      "model_name": "AccordionModel",
      "state": {
       "_titles": {
        "0": "Thermodynamic State",
        "1": "Flat Plate"
       },
       "children": [
        "IPY_MODEL_a45385cac8234d99b4ba7332656c2a80",
        "IPY_MODEL_c772c66e9d194ed1b9d2bcafae1c6460"
       ],
       "layout": "IPY_MODEL_7c5d52a4b8c3460cbfe81862d50f7304"
      }
     },
     "264400c5ee1c47e080ec6d66dd306b98": {
      "model_module": "@jupyter-widgets/controls",
      "model_module_version": "1.5.0",
      "model_name": "DescriptionStyleModel",
      "state": {
       "description_width": ""
      }
     },
     "283e43f5c7f442769bd6df38652c8645": {
      "model_module": "@jupyter-widgets/base",
      "model_module_version": "1.2.0",
      "model_name": "LayoutModel",
      "state": {
       "flex": "10 1 auto",
       "width": "auto"
      }
     },
     "2cc8e381eff24a06929882b3a441c675": {
      "model_module": "@jupyter-widgets/controls",
      "model_module_version": "1.5.0",
      "model_name": "DescriptionStyleModel",
      "state": {
       "description_width": ""
      }
     },
     "2cfc58ec5c8544b0807ba878f4faa1dc": {
      "model_module": "@jupyter-widgets/controls",
      "model_module_version": "1.5.0",
      "model_name": "HBoxModel",
      "state": {
       "children": [
        "IPY_MODEL_bfc50147bc6f4543b888ffb13c164212",
        "IPY_MODEL_8810c57cfe4f45439760fbae433a7052",
        "IPY_MODEL_1b7a32e353ad4667b24b6e43e7aee99d"
       ],
       "layout": "IPY_MODEL_88327242b7b2429bbeb90a91af1afefa"
      }
     },
     "2f3be03c97c04e118d62c048e813bb15": {
      "model_module": "@jupyter-widgets/base",
      "model_module_version": "1.2.0",
      "model_name": "LayoutModel",
      "state": {
       "flex": "1 1 auto",
       "width": "auto"
      }
     },
     "2f6d6657deb4487cbc2f0d085c6b1b8f": {
      "model_module": "@jupyter-widgets/base",
      "model_module_version": "1.2.0",
      "model_name": "LayoutModel",
      "state": {
       "display": "flex",
       "flex_flow": "row"
      }
     },
     "2fc6243495f14cadabd9e41c509ecf31": {
      "model_module": "@jupyter-widgets/controls",
      "model_module_version": "1.5.0",
      "model_name": "SliderStyleModel",
      "state": {
       "description_width": ""
      }
     },
     "30c7692e90e445a9b98e98d0d6ab2d94": {
      "model_module": "@jupyter-widgets/base",
      "model_module_version": "1.2.0",
      "model_name": "LayoutModel",
      "state": {
       "flex": "1 1 auto",
       "width": "auto"
      }
     },
     "331211c6374f49e3acc5881d9bf5a2e3": {
      "model_module": "@jupyter-widgets/controls",
      "model_module_version": "1.5.0",
      "model_name": "DescriptionStyleModel",
      "state": {
       "description_width": ""
      }
     },
     "3731f83421c04086bb2d25ccd5a7e996": {
      "model_module": "@jupyter-widgets/base",
      "model_module_version": "1.2.0",
      "model_name": "LayoutModel",
      "state": {
       "flex": "1 1 auto",
       "width": "auto"
      }
     },
     "3bc9e7d5019b4caf8c2b7dd91d83637e": {
      "model_module": "@jupyter-widgets/controls",
      "model_module_version": "1.5.0",
      "model_name": "BoundedFloatTextModel",
      "state": {
       "layout": "IPY_MODEL_91703d10b4b74a688b3be223cc80d0de",
       "max": 55,
       "min": -30,
       "step": 1,
       "style": "IPY_MODEL_e2f7a424433b4061a8b18e4dc1318af1",
       "value": 20
      }
     },
     "3d0546d0a05743cc836c9762f408d238": {
      "model_module": "@jupyter-widgets/controls",
      "model_module_version": "1.5.0",
      "model_name": "DescriptionStyleModel",
      "state": {
       "description_width": ""
      }
     },
     "3e842dd9928841a1b45fe3c084faa210": {
      "model_module": "@jupyter-widgets/base",
      "model_module_version": "1.2.0",
      "model_name": "LayoutModel",
      "state": {
       "flex": "1 1 auto",
       "width": "auto"
      }
     },
     "428ea260acf046cfa3ce564095243885": {
      "model_module": "@jupyter-widgets/base",
      "model_module_version": "1.2.0",
      "model_name": "LayoutModel",
      "state": {
       "display": "flex",
       "width": "50%"
      }
     },
     "4492691f96cc492aba3a35ef8238e458": {
      "model_module": "@jupyter-widgets/controls",
      "model_module_version": "1.5.0",
      "model_name": "HBoxModel",
      "state": {
       "children": [
        "IPY_MODEL_ac93d83b6f2a4a2cbebbd67b6ef39f4b",
        "IPY_MODEL_d10129fd7ed843b580ab668f14cfa5be",
        "IPY_MODEL_0ad2ab73970f496dad5a70c10a4b0480"
       ],
       "layout": "IPY_MODEL_eb255e1d9e424256b8d46f3880ffdf1d"
      }
     },
     "47ac009e07f0463da975719f9144e2db": {
      "model_module": "@jupyter-widgets/controls",
      "model_module_version": "1.5.0",
      "model_name": "HBoxModel",
      "state": {
       "children": [
        "IPY_MODEL_b10641c14b984f6a827f6653b993df8d",
        "IPY_MODEL_532c561effe14764a3278bff119d4218",
        "IPY_MODEL_0323f896b1a24a74bbe05c8d6c71782f"
       ],
       "layout": "IPY_MODEL_bc65b9e1112044d79274294a6889fbc3"
      }
     },
     "488557094d0545bbb7bc2a0fe04ee994": {
      "model_module": "@jupyter-widgets/controls",
      "model_module_version": "1.5.0",
      "model_name": "BoundedFloatTextModel",
      "state": {
       "layout": "IPY_MODEL_098197d58b354b78af870a5bc0722707",
       "max": 10,
       "min": 0.001,
       "step": 0.001,
       "style": "IPY_MODEL_aca36821db104b32a773d0c25a37e019",
       "value": 0.1
      }
     },
     "48fe9fce3be84c47a8b3daa2a99ba3c6": {
      "model_module": "@jupyter-widgets/base",
      "model_module_version": "1.2.0",
      "model_name": "LayoutModel",
      "state": {}
     },
     "493fb0ec04d746f495deca2425897265": {
      "model_module": "@jupyter-widgets/controls",
      "model_module_version": "1.5.0",
      "model_name": "DropdownModel",
      "state": {
       "_options_labels": [
        "1-Butene",
        "Acetone",
        "Air",
        "Ammonia",
        "Argon",
        "Benzene",
        "CarbonDioxide",
        "CarbonMonoxide",
        "CarbonylSulfide",
        "CycloHexane",
        "CycloPropane",
        "Cyclopentane",
        "D4",
        "D5",
        "D6",
        "Deuterium",
        "Dichloroethane",
        "DiethylEther",
        "DimethylCarbonate",
        "DimethylEther",
        "Ethane",
        "Ethanol",
        "EthylBenzene",
        "Ethylene",
        "EthyleneOxide",
        "Fluorine",
        "HFE143m",
        "HeavyWater",
        "Helium",
        "Hydrogen",
        "HydrogenChloride",
        "HydrogenSulfide",
        "IsoButane",
        "IsoButene",
        "Isohexane",
        "Isopentane",
        "Krypton",
        "MD2M",
        "MD3M",
        "MD4M",
        "MDM",
        "MM",
        "Methane",
        "Methanol",
        "MethylLinoleate",
        "MethylLinolenate",
        "MethylOleate",
        "MethylPalmitate",
        "MethylStearate",
        "Neon",
        "Neopentane",
        "Nitrogen",
        "NitrousOxide",
        "Novec649",
        "OrthoDeuterium",
        "OrthoHydrogen",
        "Oxygen",
        "ParaDeuterium",
        "ParaHydrogen",
        "Propylene",
        "Propyne",
        "R11",
        "R113",
        "R114",
        "R115",
        "R116",
        "R12",
        "R123",
        "R1233zd(E)",
        "R1234yf",
        "R1234ze(E)",
        "R1234ze(Z)",
        "R124",
        "R1243zf",
        "R125",
        "R13",
        "R134a",
        "R13I1",
        "R14",
        "R141b",
        "R142b",
        "R143a",
        "R152A",
        "R161",
        "R21",
        "R218",
        "R22",
        "R227EA",
        "R23",
        "R236EA",
        "R236FA",
        "R245ca",
        "R245fa",
        "R32",
        "R365MFC",
        "R40",
        "R404A",
        "R407C",
        "R41",
        "R410A",
        "R507A",
        "RC318",
        "SES36",
        "SulfurDioxide",
        "SulfurHexafluoride",
        "Toluene",
        "Water",
        "Xenon",
        "cis-2-Butene",
        "m-Xylene",
        "n-Butane",
        "n-Decane",
        "n-Dodecane",
        "n-Heptane",
        "n-Hexane",
        "n-Nonane",
        "n-Octane",
        "n-Pentane",
        "n-Propane",
        "n-Undecane",
        "o-Xylene",
        "p-Xylene",
        "trans-2-Butene"
       ],
       "index": 2,
       "layout": "IPY_MODEL_7ff62f4e95ce4cdca2731b319acf3762",
       "style": "IPY_MODEL_6c21d863ee074a32b3aed5485fdcef4f"
      }
     },
     "49434a00138e4a88a19a01852a2152f0": {
      "model_module": "@jupyter-widgets/base",
      "model_module_version": "1.2.0",
      "model_name": "LayoutModel",
      "state": {
       "display": "flex",
       "flex_flow": "row"
      }
     },
     "494c8d72d45949af9e11cbf4550dcf55": {
      "model_module": "@jupyter-widgets/controls",
      "model_module_version": "1.5.0",
      "model_name": "DescriptionStyleModel",
      "state": {
       "description_width": ""
      }
     },
     "4ac3c89a85a3473aae8bee62b94155c6": {
      "model_module": "@jupyter-widgets/controls",
      "model_module_version": "1.5.0",
      "model_name": "LabelModel",
      "state": {
       "layout": "IPY_MODEL_3e842dd9928841a1b45fe3c084faa210",
       "style": "IPY_MODEL_b22e15f0306743ac85fea5a7fe8b4776",
       "value": "Pressure in Pa:"
      }
     },
     "4caf1bf708814b0d86d0014a7a538d99": {
      "model_module": "@jupyter-widgets/controls",
      "model_module_version": "1.5.0",
      "model_name": "DescriptionStyleModel",
      "state": {
       "description_width": ""
      }
     },
     "4d5ff5893fe9482e8dec94c4393bed6b": {
      "model_module": "@jupyter-widgets/base",
      "model_module_version": "1.2.0",
      "model_name": "LayoutModel",
      "state": {
       "flex": "1 1 auto",
       "width": "auto"
      }
     },
     "4d6d0fdf8c6947a39b9bf7f4b512f8a0": {
      "model_module": "@jupyter-widgets/controls",
      "model_module_version": "1.5.0",
      "model_name": "VBoxModel",
      "state": {
       "children": [
        "IPY_MODEL_9c81a61cdc484ca6a94d49a6b8cc8c49",
        "IPY_MODEL_6a78411e52ae478ca198ea93a501c0e8"
       ],
       "layout": "IPY_MODEL_d3abe5b0b73e4ece9d52cf660e194902"
      }
     },
     "4e10982e10a24615971013c429012548": {
      "model_module": "@jupyter-widgets/base",
      "model_module_version": "1.2.0",
      "model_name": "LayoutModel",
      "state": {
       "display": "flex",
       "width": "50%"
      }
     },
     "4edb406b840c49dc8b160ebe011fe084": {
      "model_module": "@jupyter-widgets/base",
      "model_module_version": "1.2.0",
      "model_name": "LayoutModel",
      "state": {}
     },
     "4f0afc1c51cc4478b6cdd5395e114303": {
      "model_module": "@jupyter-widgets/controls",
      "model_module_version": "1.5.0",
      "model_name": "BoundedFloatTextModel",
      "state": {
       "layout": "IPY_MODEL_00e6498b10114dee8703789efa15e8a0",
       "max": 15000000,
       "min": 1,
       "step": 100000,
       "style": "IPY_MODEL_e19f0d26a96a4759be67575da445e03f",
       "value": 101325
      }
     },
     "520c67a1b2194dba845bd9c35273b85d": {
      "model_module": "@jupyter-widgets/base",
      "model_module_version": "1.2.0",
      "model_name": "LayoutModel",
      "state": {
       "flex": "1 1 auto",
       "width": "auto"
      }
     },
     "52f456bfbf354f338fe2a386aa68d737": {
      "model_module": "@jupyter-widgets/base",
      "model_module_version": "1.2.0",
      "model_name": "LayoutModel",
      "state": {
       "flex": "10 1 auto",
       "width": "auto"
      }
     },
     "532c561effe14764a3278bff119d4218": {
      "model_module": "@jupyter-widgets/controls",
      "model_module_version": "1.5.0",
      "model_name": "FloatSliderModel",
      "state": {
       "layout": "IPY_MODEL_f246ab41fac3444085ac6e90a4fd881b",
       "max": 10,
       "min": 0.001,
       "readout": false,
       "step": 0.001,
       "style": "IPY_MODEL_a490fea8019040b39b901f30f0b8169a",
       "value": 0.1
      }
     },
     "534d75b4d045422a8f6b7517cee1ce5a": {
      "model_module": "@jupyter-widgets/controls",
      "model_module_version": "1.5.0",
      "model_name": "LabelModel",
      "state": {
       "layout": "IPY_MODEL_6c496ca82b044e59a39b5b68fa212527",
       "style": "IPY_MODEL_171b236c190c4f649c28a488f2f03bba",
       "value": "Gas / Specie Mixture:"
      }
     },
     "556a741f7af74157923b53395b528842": {
      "model_module": "@jupyter-widgets/controls",
      "model_module_version": "1.5.0",
      "model_name": "DescriptionStyleModel",
      "state": {
       "description_width": ""
      }
     },
     "56dbdaafa38647399101d27b317270f9": {
      "model_module": "@jupyter-widgets/controls",
      "model_module_version": "1.5.0",
      "model_name": "BoundedFloatTextModel",
      "state": {
       "layout": "IPY_MODEL_a9901337916140ef9130132ed2894b67",
       "max": 15000000,
       "min": 1,
       "step": 100000,
       "style": "IPY_MODEL_1535e06135094b06bc5aec6e8ccfc130",
       "value": 2700001
      }
     },
     "57234465e91b46f8a989f1c549ac447d": {
      "model_module": "@jupyter-widgets/controls",
      "model_module_version": "1.5.0",
      "model_name": "FloatSliderModel",
      "state": {
       "layout": "IPY_MODEL_d174022eb0f44fb2a4d1cf61a9058749",
       "max": 200,
       "min": 0.001,
       "readout": false,
       "step": 0.001,
       "style": "IPY_MODEL_8eb53babc23a43ccb70cfba985f76f7d",
       "value": 20
      }
     },
     "57deb9e0d68242159bea119299033311": {
      "model_module": "@jupyter-widgets/controls",
      "model_module_version": "1.5.0",
      "model_name": "SliderStyleModel",
      "state": {
       "description_width": ""
      }
     },
     "583ce2951f464f6c931ab0c07a8aa913": {
      "model_module": "@jupyter-widgets/controls",
      "model_module_version": "1.5.0",
      "model_name": "FloatSliderModel",
      "state": {
       "layout": "IPY_MODEL_d4c706bb4f4f4a5b941b754d9128bb49",
       "max": 15000000,
       "min": 1,
       "readout": false,
       "step": 100000,
       "style": "IPY_MODEL_a6cb00cb9aee463c82b412b25770dfd7",
       "value": 101325
      }
     },
     "59a1df42d70342188bba94986e3e70ba": {
      "model_module": "@jupyter-widgets/controls",
      "model_module_version": "1.5.0",
      "model_name": "LabelModel",
      "state": {
       "layout": "IPY_MODEL_3731f83421c04086bb2d25ccd5a7e996",
       "style": "IPY_MODEL_f061d2d8c0e6414c8599b2a750ed660e",
       "value": "Velocity in m/s:"
      }
     },
     "5cf00d1ca0f0424a8b214cebef9ca56d": {
      "model_module": "@jupyter-widgets/base",
      "model_module_version": "1.2.0",
      "model_name": "LayoutModel",
      "state": {
       "flex": "10 1 auto",
       "width": "auto"
      }
     },
     "5dbefe2699604ac1852b96b9374bd9c1": {
      "model_module": "@jupyter-widgets/controls",
      "model_module_version": "1.5.0",
      "model_name": "HBoxModel",
      "state": {
       "children": [
        "IPY_MODEL_93be940b34ce4381b722e3133f8b7b00",
        "IPY_MODEL_b0dded7b2e364e74a81ac93aaa440999",
        "IPY_MODEL_73e49b03bbb947a9bc7fb512f20f739a"
       ],
       "layout": "IPY_MODEL_428ea260acf046cfa3ce564095243885"
      }
     },
     "5f8e8c8011fd45beab00f3625ff8361b": {
      "model_module": "@jupyter-widgets/controls",
      "model_module_version": "1.5.0",
      "model_name": "DescriptionStyleModel",
      "state": {
       "description_width": ""
      }
     },
     "5fdd91339bac475ca5822613391e3e58": {
      "model_module": "@jupyter-widgets/controls",
      "model_module_version": "1.5.0",
      "model_name": "DescriptionStyleModel",
      "state": {
       "description_width": ""
      }
     },
     "608ccd0f09e4464d83da8b0ed7f20e0b": {
      "model_module": "@jupyter-widgets/base",
      "model_module_version": "1.2.0",
      "model_name": "LayoutModel",
      "state": {}
     },
     "60936d4d8e2148f687e2908433f64e15": {
      "model_module": "@jupyter-widgets/controls",
      "model_module_version": "1.5.0",
      "model_name": "BoundedFloatTextModel",
      "state": {
       "layout": "IPY_MODEL_905d09f35c6a4cdbbb78e28cf6cc8947",
       "max": 55,
       "min": -30,
       "step": 1,
       "style": "IPY_MODEL_9e55d1539ea140ae89b8816882a1a395",
       "value": 20
      }
     },
     "6464e0ee7816484494b9078d469119b1": {
      "model_module": "@jupyter-widgets/controls",
      "model_module_version": "1.5.0",
      "model_name": "SliderStyleModel",
      "state": {
       "description_width": ""
      }
     },
     "66a95be6bb73498db1aa28d22bbfb164": {
      "model_module": "@jupyter-widgets/base",
      "model_module_version": "1.2.0",
      "model_name": "LayoutModel",
      "state": {
       "display": "flex",
       "flex_flow": "row"
      }
     },
     "69464f41cbe34aeebaa86363764ea412": {
      "model_module": "@jupyter-widgets/base",
      "model_module_version": "1.2.0",
      "model_name": "LayoutModel",
      "state": {
       "display": "flex",
       "width": "50%"
      }
     },
     "6a78411e52ae478ca198ea93a501c0e8": {
      "model_module": "@jupyter-widgets/controls",
      "model_module_version": "1.5.0",
      "model_name": "HBoxModel",
      "state": {
       "children": [
        "IPY_MODEL_59a1df42d70342188bba94986e3e70ba",
        "IPY_MODEL_57234465e91b46f8a989f1c549ac447d",
        "IPY_MODEL_0a376cd162a94976aca5b928278c4df0"
       ],
       "layout": "IPY_MODEL_69464f41cbe34aeebaa86363764ea412"
      }
     },
     "6ae56b55df184c11ab40d0ff2c804f61": {
      "model_module": "@jupyter-widgets/base",
      "model_module_version": "1.2.0",
      "model_name": "LayoutModel",
      "state": {}
     },
     "6b37ba0d67094b98897036e3c480824d": {
      "model_module": "@jupyter-widgets/base",
      "model_module_version": "1.2.0",
      "model_name": "LayoutModel",
      "state": {
       "flex": "10 1 auto",
       "width": "auto"
      }
     },
     "6c21d863ee074a32b3aed5485fdcef4f": {
      "model_module": "@jupyter-widgets/controls",
      "model_module_version": "1.5.0",
      "model_name": "DescriptionStyleModel",
      "state": {
       "description_width": ""
      }
     },
     "6c496ca82b044e59a39b5b68fa212527": {
      "model_module": "@jupyter-widgets/base",
      "model_module_version": "1.2.0",
      "model_name": "LayoutModel",
      "state": {}
     },
     "6d35aa6507a842c981643f7f23527745": {
      "model_module": "@jupyter-widgets/base",
      "model_module_version": "1.2.0",
      "model_name": "LayoutModel",
      "state": {
       "flex": "1 1 auto",
       "width": "auto"
      }
     },
     "72512a93b2474c08bcc62193524010ee": {
      "model_module": "@jupyter-widgets/base",
      "model_module_version": "1.2.0",
      "model_name": "LayoutModel",
      "state": {}
     },
     "72c713efe3b5457cb0e483501a0ef469": {
      "model_module": "@jupyter-widgets/controls",
      "model_module_version": "1.5.0",
      "model_name": "VBoxModel",
      "state": {
       "children": [
        "IPY_MODEL_ee652b1c2ec5483286dcbf1fb07efafc",
        "IPY_MODEL_4492691f96cc492aba3a35ef8238e458",
        "IPY_MODEL_dba68af4f9be4c549db5f78593882166"
       ],
       "layout": "IPY_MODEL_013281050bc34f3b8f41a109a0dfb8b5"
      }
     },
     "72cb428fffea44b4a773ad2744de9c32": {
      "model_module": "@jupyter-widgets/base",
      "model_module_version": "1.2.0",
      "model_name": "LayoutModel",
      "state": {}
     },
     "7364c6fe51424e6bac1fb8cc00a9e5d7": {
      "model_module": "@jupyter-widgets/base",
      "model_module_version": "1.2.0",
      "model_name": "LayoutModel",
      "state": {
       "display": "flex",
       "flex_flow": "row"
      }
     },
     "73e49b03bbb947a9bc7fb512f20f739a": {
      "model_module": "@jupyter-widgets/controls",
      "model_module_version": "1.5.0",
      "model_name": "BoundedFloatTextModel",
      "state": {
       "layout": "IPY_MODEL_9a3475cbbf21426eb309f6f0db48d874",
       "max": 200,
       "min": 0.001,
       "step": 0.001,
       "style": "IPY_MODEL_d746fac15d5f4beba8752c38be6c23f4",
       "value": 20
      }
     },
     "757fba7d1cb64d7f93464ac8471646a4": {
      "model_module": "@jupyter-widgets/base",
      "model_module_version": "1.2.0",
      "model_name": "LayoutModel",
      "state": {
       "flex": "10 1 auto",
       "width": "auto"
      }
     },
     "76b3b8377db24f72b1cd15e1240a1c93": {
      "model_module": "@jupyter-widgets/base",
      "model_module_version": "1.2.0",
      "model_name": "LayoutModel",
      "state": {
       "width": "100%"
      }
     },
     "79e1857e2699419abf67d10f980f5e5b": {
      "model_module": "@jupyter-widgets/controls",
      "model_module_version": "1.5.0",
      "model_name": "HBoxModel",
      "state": {
       "children": [
        "IPY_MODEL_ec49c515fd284179883743beba21a38a",
        "IPY_MODEL_583ce2951f464f6c931ab0c07a8aa913",
        "IPY_MODEL_b9acea7bf51b4ee89ef6625a78ef2388"
       ],
       "layout": "IPY_MODEL_066b5ada0045451989a87d50a2139ff9"
      }
     },
     "7c5d52a4b8c3460cbfe81862d50f7304": {
      "model_module": "@jupyter-widgets/base",
      "model_module_version": "1.2.0",
      "model_name": "LayoutModel",
      "state": {}
     },
     "7e7a4c293a93485e95577d9cd15bd626": {
      "model_module": "@jupyter-widgets/controls",
      "model_module_version": "1.5.0",
      "model_name": "DescriptionStyleModel",
      "state": {
       "description_width": ""
      }
     },
     "7eb98c3fedb54699921a6456b83c6105": {
      "model_module": "@jupyter-widgets/controls",
      "model_module_version": "1.5.0",
      "model_name": "DescriptionStyleModel",
      "state": {
       "description_width": ""
      }
     },
     "7fa622cf25f849c8aa4acc75f1b56396": {
      "model_module": "@jupyter-widgets/base",
      "model_module_version": "1.2.0",
      "model_name": "LayoutModel",
      "state": {}
     },
     "7ff62f4e95ce4cdca2731b319acf3762": {
      "model_module": "@jupyter-widgets/base",
      "model_module_version": "1.2.0",
      "model_name": "LayoutModel",
      "state": {}
     },
     "802b3bdae3844c0f9b1f383b5f741e9b": {
      "model_module": "@jupyter-widgets/controls",
      "model_module_version": "1.5.0",
      "model_name": "FloatSliderModel",
      "state": {
       "layout": "IPY_MODEL_a4695c2c2624480b8e8577b2d384a7f4",
       "max": 55,
       "min": -30,
       "readout": false,
       "style": "IPY_MODEL_d98c0bcf7c334dbdbe9e230d17349248",
       "value": 20
      }
     },
     "8073c64d4e6a4f4398b154237a3e3d51": {
      "model_module": "@jupyter-widgets/base",
      "model_module_version": "1.2.0",
      "model_name": "LayoutModel",
      "state": {
       "flex": "1 1 auto",
       "width": "auto"
      }
     },
     "83089c704bbd44aba90914db2891510f": {
      "model_module": "@jupyter-widgets/controls",
      "model_module_version": "1.5.0",
      "model_name": "FloatSliderModel",
      "state": {
       "layout": "IPY_MODEL_6b37ba0d67094b98897036e3c480824d",
       "max": 15000000,
       "min": 1,
       "readout": false,
       "step": 100000,
       "style": "IPY_MODEL_d895d86c46e04bee8f7def8652f0d565",
       "value": 2700001
      }
     },
     "84f99124c7684474bd87e19eaead2dc1": {
      "model_module": "@jupyter-widgets/controls",
      "model_module_version": "1.5.0",
      "model_name": "LabelModel",
      "state": {
       "layout": "IPY_MODEL_7fa622cf25f849c8aa4acc75f1b56396",
       "style": "IPY_MODEL_7eb98c3fedb54699921a6456b83c6105",
       "value": "Gas / Specie Mixture:"
      }
     },
     "85b9d92a38934b9eb786e9cbbb38e7dc": {
      "model_module": "@jupyter-widgets/base",
      "model_module_version": "1.2.0",
      "model_name": "LayoutModel",
      "state": {
       "display": "flex",
       "flex_flow": "row"
      }
     },
     "8810c57cfe4f45439760fbae433a7052": {
      "model_module": "@jupyter-widgets/controls",
      "model_module_version": "1.5.0",
      "model_name": "FloatSliderModel",
      "state": {
       "layout": "IPY_MODEL_a790e0c99b894de9b210b6b494c9ee84",
       "max": 10,
       "min": 0.001,
       "readout": false,
       "step": 0.001,
       "style": "IPY_MODEL_2fc6243495f14cadabd9e41c509ecf31",
       "value": 0.1
      }
     },
     "88327242b7b2429bbeb90a91af1afefa": {
      "model_module": "@jupyter-widgets/base",
      "model_module_version": "1.2.0",
      "model_name": "LayoutModel",
      "state": {
       "display": "flex",
       "width": "50%"
      }
     },
     "8ba2ee3f0a2f41c7aa13e8e295d4537e": {
      "model_module": "@jupyter-widgets/controls",
      "model_module_version": "1.5.0",
      "model_name": "HBoxModel",
      "state": {
       "children": [
        "IPY_MODEL_118e6c22aa50418a89f9142e94b1740a",
        "IPY_MODEL_cd00bdf535e84c58b9220264fdf132c7",
        "IPY_MODEL_ea6b9315c3544ba3b6ebd314ba1477dd"
       ],
       "layout": "IPY_MODEL_0fee627b9f67471395c5c41e5fc3f1a2"
      }
     },
     "8eb53babc23a43ccb70cfba985f76f7d": {
      "model_module": "@jupyter-widgets/controls",
      "model_module_version": "1.5.0",
      "model_name": "SliderStyleModel",
      "state": {
       "description_width": ""
      }
     },
     "905d09f35c6a4cdbbb78e28cf6cc8947": {
      "model_module": "@jupyter-widgets/base",
      "model_module_version": "1.2.0",
      "model_name": "LayoutModel",
      "state": {
       "flex": "1 1 auto",
       "width": "auto"
      }
     },
     "91703d10b4b74a688b3be223cc80d0de": {
      "model_module": "@jupyter-widgets/base",
      "model_module_version": "1.2.0",
      "model_name": "LayoutModel",
      "state": {
       "flex": "1 1 auto",
       "width": "auto"
      }
     },
     "91ba2181981d4cab933e569e76bde76c": {
      "model_module": "@jupyter-widgets/controls",
      "model_module_version": "1.5.0",
      "model_name": "SliderStyleModel",
      "state": {
       "description_width": ""
      }
     },
     "926f9090234b43f4ac9fa77c18e7587a": {
      "model_module": "@jupyter-widgets/base",
      "model_module_version": "1.2.0",
      "model_name": "LayoutModel",
      "state": {}
     },
     "9362aca0aaa94db9892234d745e7eccf": {
      "model_module": "@jupyter-widgets/base",
      "model_module_version": "1.2.0",
      "model_name": "LayoutModel",
      "state": {
       "flex": "1 1 auto",
       "width": "auto"
      }
     },
     "93be940b34ce4381b722e3133f8b7b00": {
      "model_module": "@jupyter-widgets/controls",
      "model_module_version": "1.5.0",
      "model_name": "LabelModel",
      "state": {
       "layout": "IPY_MODEL_8073c64d4e6a4f4398b154237a3e3d51",
       "style": "IPY_MODEL_07ce985203db4bef9d23214fb5b3c405",
       "value": "Velocity in m/s:"
      }
     },
     "95199fe8befa49bca1dce1096adb1e40": {
      "model_module": "@jupyter-widgets/base",
      "model_module_version": "1.2.0",
      "model_name": "LayoutModel",
      "state": {
       "display": "flex",
       "flex_flow": "row"
      }
     },
     "98f1f6be96384174a96016654bc52262": {
      "model_module": "@jupyter-widgets/controls",
      "model_module_version": "1.5.0",
      "model_name": "AccordionModel",
      "state": {
       "_titles": {
        "0": "Thermodynamic State",
        "1": "Flat Plate"
       },
       "children": [
        "IPY_MODEL_72c713efe3b5457cb0e483501a0ef469",
        "IPY_MODEL_e80c6b78e2f84be08fd55e9e3a9558b3"
       ],
       "layout": "IPY_MODEL_15a71e05769647cc80301273d68548a1"
      }
     },
     "9a3475cbbf21426eb309f6f0db48d874": {
      "model_module": "@jupyter-widgets/base",
      "model_module_version": "1.2.0",
      "model_name": "LayoutModel",
      "state": {
       "flex": "1 1 auto",
       "width": "auto"
      }
     },
     "9c81a61cdc484ca6a94d49a6b8cc8c49": {
      "model_module": "@jupyter-widgets/controls",
      "model_module_version": "1.5.0",
      "model_name": "HBoxModel",
      "state": {
       "children": [
        "IPY_MODEL_e6a31be802d94f28a956069be0a5760b",
        "IPY_MODEL_d0abbd0f202b45aba323d8cffb0238e2",
        "IPY_MODEL_488557094d0545bbb7bc2a0fe04ee994"
       ],
       "layout": "IPY_MODEL_4e10982e10a24615971013c429012548"
      }
     },
     "9e55d1539ea140ae89b8816882a1a395": {
      "model_module": "@jupyter-widgets/controls",
      "model_module_version": "1.5.0",
      "model_name": "DescriptionStyleModel",
      "state": {
       "description_width": ""
      }
     },
     "a0e45a4536764c11ae540a68003afd47": {
      "model_module": "@jupyter-widgets/base",
      "model_module_version": "1.2.0",
      "model_name": "LayoutModel",
      "state": {
       "display": "flex",
       "flex_flow": "row"
      }
     },
     "a108f16375f0453781bf4f7231e3d5ce": {
      "model_module": "@jupyter-widgets/controls",
      "model_module_version": "1.5.0",
      "model_name": "LabelModel",
      "state": {
       "layout": "IPY_MODEL_9362aca0aaa94db9892234d745e7eccf",
       "style": "IPY_MODEL_331211c6374f49e3acc5881d9bf5a2e3",
       "value": "Temperature in °C:"
      }
     },
     "a2b76e36722842519750770d7d8db99c": {
      "model_module": "@jupyter-widgets/base",
      "model_module_version": "1.2.0",
      "model_name": "LayoutModel",
      "state": {}
     },
     "a45385cac8234d99b4ba7332656c2a80": {
      "model_module": "@jupyter-widgets/controls",
      "model_module_version": "1.5.0",
      "model_name": "VBoxModel",
      "state": {
       "children": [
        "IPY_MODEL_79e1857e2699419abf67d10f980f5e5b",
        "IPY_MODEL_055d11a383b44685a952ea8a9c3e5d4c",
        "IPY_MODEL_ae4dd3101c444237847ddfede15cf076"
       ],
       "layout": "IPY_MODEL_608ccd0f09e4464d83da8b0ed7f20e0b"
      }
     },
     "a4695c2c2624480b8e8577b2d384a7f4": {
      "model_module": "@jupyter-widgets/base",
      "model_module_version": "1.2.0",
      "model_name": "LayoutModel",
      "state": {
       "flex": "10 1 auto",
       "width": "auto"
      }
     },
     "a490fea8019040b39b901f30f0b8169a": {
      "model_module": "@jupyter-widgets/controls",
      "model_module_version": "1.5.0",
      "model_name": "SliderStyleModel",
      "state": {
       "description_width": ""
      }
     },
     "a629eacea92b43e2ad464189ea6600a6": {
      "model_module": "@jupyter-widgets/controls",
      "model_module_version": "1.5.0",
      "model_name": "SliderStyleModel",
      "state": {
       "description_width": ""
      }
     },
     "a6cb00cb9aee463c82b412b25770dfd7": {
      "model_module": "@jupyter-widgets/controls",
      "model_module_version": "1.5.0",
      "model_name": "SliderStyleModel",
      "state": {
       "description_width": ""
      }
     },
     "a790e0c99b894de9b210b6b494c9ee84": {
      "model_module": "@jupyter-widgets/base",
      "model_module_version": "1.2.0",
      "model_name": "LayoutModel",
      "state": {
       "flex": "10 1 auto",
       "width": "auto"
      }
     },
     "a889358d50e34b2a9bea976b3ed3f155": {
      "model_module": "@jupyter-widgets/controls",
      "model_module_version": "1.5.0",
      "model_name": "DescriptionStyleModel",
      "state": {
       "description_width": ""
      }
     },
     "a900cf40da9b4f6494b6391a3f35ce1f": {
      "model_module": "@jupyter-widgets/controls",
      "model_module_version": "1.5.0",
      "model_name": "DropdownModel",
      "state": {
       "_options_labels": [
        "1-Butene",
        "Acetone",
        "Air",
        "Ammonia",
        "Argon",
        "Benzene",
        "CarbonDioxide",
        "CarbonMonoxide",
        "CarbonylSulfide",
        "CycloHexane",
        "CycloPropane",
        "Cyclopentane",
        "D4",
        "D5",
        "D6",
        "Deuterium",
        "Dichloroethane",
        "DiethylEther",
        "DimethylCarbonate",
        "DimethylEther",
        "Ethane",
        "Ethanol",
        "EthylBenzene",
        "Ethylene",
        "EthyleneOxide",
        "Fluorine",
        "HFE143m",
        "HeavyWater",
        "Helium",
        "Hydrogen",
        "HydrogenChloride",
        "HydrogenSulfide",
        "IsoButane",
        "IsoButene",
        "Isohexane",
        "Isopentane",
        "Krypton",
        "MD2M",
        "MD3M",
        "MD4M",
        "MDM",
        "MM",
        "Methane",
        "Methanol",
        "MethylLinoleate",
        "MethylLinolenate",
        "MethylOleate",
        "MethylPalmitate",
        "MethylStearate",
        "Neon",
        "Neopentane",
        "Nitrogen",
        "NitrousOxide",
        "Novec649",
        "OrthoDeuterium",
        "OrthoHydrogen",
        "Oxygen",
        "ParaDeuterium",
        "ParaHydrogen",
        "Propylene",
        "Propyne",
        "R11",
        "R113",
        "R114",
        "R115",
        "R116",
        "R12",
        "R123",
        "R1233zd(E)",
        "R1234yf",
        "R1234ze(E)",
        "R1234ze(Z)",
        "R124",
        "R1243zf",
        "R125",
        "R13",
        "R134a",
        "R13I1",
        "R14",
        "R141b",
        "R142b",
        "R143a",
        "R152A",
        "R161",
        "R21",
        "R218",
        "R22",
        "R227EA",
        "R23",
        "R236EA",
        "R236FA",
        "R245ca",
        "R245fa",
        "R32",
        "R365MFC",
        "R40",
        "R404A",
        "R407C",
        "R41",
        "R410A",
        "R507A",
        "RC318",
        "SES36",
        "SulfurDioxide",
        "SulfurHexafluoride",
        "Toluene",
        "Water",
        "Xenon",
        "cis-2-Butene",
        "m-Xylene",
        "n-Butane",
        "n-Decane",
        "n-Dodecane",
        "n-Heptane",
        "n-Hexane",
        "n-Nonane",
        "n-Octane",
        "n-Pentane",
        "n-Propane",
        "n-Undecane",
        "o-Xylene",
        "p-Xylene",
        "trans-2-Butene"
       ],
       "index": 2,
       "layout": "IPY_MODEL_4edb406b840c49dc8b160ebe011fe084",
       "style": "IPY_MODEL_4caf1bf708814b0d86d0014a7a538d99"
      }
     },
     "a90a27581d314614b13a135874c78161": {
      "model_module": "@jupyter-widgets/controls",
      "model_module_version": "1.5.0",
      "model_name": "DescriptionStyleModel",
      "state": {
       "description_width": ""
      }
     },
     "a9901337916140ef9130132ed2894b67": {
      "model_module": "@jupyter-widgets/base",
      "model_module_version": "1.2.0",
      "model_name": "LayoutModel",
      "state": {
       "flex": "1 1 auto",
       "width": "auto"
      }
     },
     "ab2f6eeb22d84f6e85ebba37a69e969f": {
      "model_module": "@jupyter-widgets/controls",
      "model_module_version": "1.5.0",
      "model_name": "FloatSliderModel",
      "state": {
       "layout": "IPY_MODEL_ed935b1f9f7142228b626bbd8389596a",
       "max": 55,
       "min": -30,
       "readout": false,
       "style": "IPY_MODEL_91ba2181981d4cab933e569e76bde76c",
       "value": 20
      }
     },
     "ac93d83b6f2a4a2cbebbd67b6ef39f4b": {
      "model_module": "@jupyter-widgets/controls",
      "model_module_version": "1.5.0",
      "model_name": "LabelModel",
      "state": {
       "layout": "IPY_MODEL_bbf1d83d333e4a789d56cb08d88b987c",
       "style": "IPY_MODEL_5f8e8c8011fd45beab00f3625ff8361b",
       "value": "Temperature in °C:"
      }
     },
     "aca36821db104b32a773d0c25a37e019": {
      "model_module": "@jupyter-widgets/controls",
      "model_module_version": "1.5.0",
      "model_name": "DescriptionStyleModel",
      "state": {
       "description_width": ""
      }
     },
     "ae4dd3101c444237847ddfede15cf076": {
      "model_module": "@jupyter-widgets/controls",
      "model_module_version": "1.5.0",
      "model_name": "HBoxModel",
      "state": {
       "children": [
        "IPY_MODEL_18f1e0be73a041c78bf8cfdb0ca41da4",
        "IPY_MODEL_f372224aec5e4370a84aa1300d263ca8"
       ],
       "layout": "IPY_MODEL_72cb428fffea44b4a773ad2744de9c32"
      }
     },
     "af43873194104ebe83895e892ea7abdd": {
      "model_module": "@jupyter-widgets/output",
      "model_module_version": "1.0.0",
      "model_name": "OutputModel",
      "state": {
       "layout": "IPY_MODEL_e9d2e4d9755146799e5707282bc944d3",
       "outputs": [
        {
         "data": {
          "image/png": "iVBORw0KGgoAAAANSUhEUgAAAZMAAAEWCAYAAACjYXoKAAAAOXRFWHRTb2Z0d2FyZQBNYXRwbG90bGliIHZlcnNpb24zLjMuMywgaHR0cHM6Ly9tYXRwbG90bGliLm9yZy/Il7ecAAAACXBIWXMAAAsTAAALEwEAmpwYAABFM0lEQVR4nO3dd3hU1dbA4d9KCISOdAWE0EILhI4CEgVFRVFRbKCAguVe+5Wr165YUNT7WUHEgl6woSIKNoQoCNIEKaFIJ9TQEyB11vfHmYQhpJyUyaSs93nmyZy+zmaYNWfvc/YWVcUYY4wpiKBAB2CMMabks2RijDGmwCyZGGOMKTBLJsYYYwrMkokxxpgCs2RijDGmwCyZmEIhIhNE5PFAx2GKFxGJFpGRgY7D+J8lE5Mn3i+HQyJSwXe+qt6hqmPyuc/vRSTB+0oRkWSf6Ql52E8PEflZRA6KSJyIfCEiZ/osFxF5UUQOeF8viYjksL++IrJORI6LyFwRaeyzrI533k4RGZFpu24iMktEDntjWZx5HX8TkTEiskpEUkXkqVzWzbFcctqXiJzvXXbYu+3XItLAP2dlijNLJsY1EWkC9AYUGJiH7crltFxVL1HVKqpaBZgCvJQ+rap35CHEM4CJQBOgMRAPfOCz/DbgSqAD0B64DLg9m5hrA18BjwM1gaXAZz6r3AdMAsKB20Skkne7c4A5wK9Ac6AWcCdwSR7OozBsBP4NzHSxbm7lktO+YoD+qloDOAv4Gxif36BzIiLB/tivKRyWTExe3Az8AXwIDPNdICIfisiz3vdRIhIrIg+JyB5O/UL3G1X9XlW/UNWjqnoceBPo6bPKMOAVVY1V1Z3AK8DwbHY3CFjj3V8i8BTQQURaeZcH+7zKAem/5McBk1X1RVXdr45lqnqtm3PwluME7xVWvIj86ntF5JaqTlbV73ESam5yLJec9qWqe1V1l8+sNJwk6quZ9+rsiIh8IyI10xd4rx73eJf9JiJtfZZ9KCLjvVd5x4DzXZyLCRBLJiYvbsa5cpgC9BeRejmsWx/nF31jnF/uvUTkcH4OKiJne6tRsnvdmM2m5wFrfKbbAn/5TP/lnZeVU9ZV1WPAJp/1X8P5Rb8OmKSqx7xXJ+cA0/J6jpkMAcYAtYEVOOUNgIiszKEc3s7n8fJSLqdJ//cBTgAPAi9lWuVm4BacK5dU4HWfZd8DLYC6wJ/4nKvXjcBzQFVgvtuYTNHLsfrBmHQi0gsnMXyuqvtFZBPOf/T/ZrOJB3hSVZO80/OBGvk5tqpuz+u2ItIeeAK4wmd2FeCIz/QRoIqIiJ7eSV0VIC7TvCM4X2qo6m6gV6blZ+D8QNudl1izMFNVfwMQkUeBIyLSSFV3qGr7Au47K3kpl9Ok//t4rzhG4SRYXx+r6moAcW7SWCEiw1Q1TVXfT1/J2x5zSESqq2p6PN+o6u/e94n5OTlTNOzKxLg1DPhJVfd7p6eSqaorkzhv9VCRE5HmOL9471XVeT6LEoBqPtPVgIRsvjAzr5u+fk7VRodwkuiZOazjxo70N6qaABzE+VXvL3kpl2yp6kFgMvBNpnayHT7vtwEhQG0RCRaRsSKySUSOAlu969TOZltTjFkyMbkSkYrAtUAfb/32HuB+nDaEDtlsVmjdUXurURJyeA3xWbcxMBsYo6ofZ9rVGpxG5nQdOLUaLNt1RaQy0CyH9fG20ywErs7L+WWhkc9xq+BUF+7yTq/JoRxc3/mWSV7KJTflcKqsfJNTI5/3ZwMpwH6cK9srgH5AdZwbJ+Bk+xMU4ufI+JclE+PGlTgNq22ASO+rNTAPpz7cr1R1u8/dXVm9pgB4b0mdA7ylqll9sX4EPCAiDUTkLOBfODcTZOVroJ2IXC0ioThVZitVNXMVTmb/BoaLyGgRqeWNq4OIfJq+goioiETlsI9LvW1M5XHaThap6g5vWbTNoRwy7nwTkRBv3EFAOREJzeFuqBzLJad9icggEQkXkSARqQO8Ciz3XqWkGyoibbxtSs8A01Q1DafKMAk4AFQCns+xZE2xZsnEuDEM+MD7pb4n/YVzt9QQyeXWXwAR6S0iCX6OcyTQFHjS9xe7z/J3gG+BVcBqnFtd3/GJcU36VY6qxuFcYTyHU33VHbg+twBUdQFwgfe1WUQO4tyuPMt7jIY41UqrctjNVOBJnOqtzjgN8nn1Lk6D+A3Ao973N3ljyPxvkWO55LQvoAHwA0713yqcar6rMsXyMU5y2gOEAvd453+EU+21E+cW4z/ycZ6mmBAbHMuYoiMiQ4G2qvqfbJZ/CMSq6mNFGpgxBWR3cxlThFT1f4GOwRh/sGouY4wxBWbVXMYYYwrMrkyMMcYUWKlqM6lRo4Y2b565W6Cy6dixY1SuXDnQYQSclcNJVhYnlfWyUIX9CUnsi08icfff+1W1TkH3WaqSSb169Vi6dGmgwygWoqOjiYqKCnQYAWflcJKVxUlltSxUle9W7ubFH9Yhh05wfXgdPryl+7bC2HepSibGGGOytmzbQZ6duZbl2w/Tqn5V/ndrd3q1qM2HtxTO/i2ZGGNMKbb9wHFe/GEdM1ftpm7VCrx0dXuu7tyQ4KBsx4XLF0smxhhTCh05nsKbc/9m8oJtBAcJ9/ZtwW3nNaVyBf987Zf6ZJKSkkJsbCyJiWWr9+rq1auzdu3aQIcRcCWxHEJDQ2nYsCEhISGBDsWUQMmpHqYs2sZrv/zNkRMpXNOpIf+6KJz61UP9etxSn0xiY2OpWrUqTZo0QbIf7rvUiY+Pp2rVqoEOI+BKWjmoKgcOHCA2NpawsLBAh2NKEFXlp5i9jP1+HVv2H6Nn81o8cmlr2p5VvUiOX+qTSWJiYplLJKbkEhFq1apFXFzmcbmMyd6q2COMmRnD4i0HaV63Cu8P78L54XWL9HvPr8lERC7GGd40GGdo07GZlg8BHvJOJgB3qupf3mVbcXoiTQNSVbVLAeLI76bGFDn7vBq3dh85wbgf1/PVnzupVbk8Y65sxw1dG1EuuOifR/dbMvGOd/AWcCEQCywRkRmqGuOz2hagj6oeEpFLcLrq7u6z/Hyfkf2MMcYAx5NTmfDrZib+tgmPB+7o04x/nt+MqqGBa2fzZ/rqBmxU1c2qmgx8yqnjcaOqC1T1kHfyD6ChH+MJiK1bt9KuXbsiPeZTTz3F66+/Xuj7/fDDD7nrrrsKfb/Z2bp1K1OnTnV1/EsvvZTDhw9nu6/hw4czbdq0wg7RmCLl8ShfLN1B1LhoXv/lb/q1rscv/+rDw5e0CmgiAf9WczXg1PGbYzn1qiOzW3HG7U6nwE8iosA7qjoxq41E5DbgNoA6deoQHR19yvLq1asTH5/TsN3+lZCQgMfjKdIYkpKSCA4Odn3M1NRUypXL/aOQmJhIcnKy384lcxwxMTF89NFHXH755bke/7PPPgM4bVlaWhrx8fGkpKRw4sSJgH4W8iIxMfG0z3JBJSQkFPo+S6qSWBbrDqbxybpkth310LR6EKO6h9LijKNsWrmYTYEODpw7APzxAgbjtJOkT98EvJHNuucDa4FaPvPO8v6tC/wFnJfbMVu2bKmZxcTEnDavKG3ZskXDw8P15ptv1oiICL366qv12LFjqqo6e/ZsjYyM1Hbt2umIESM0MTFRVVUbN26scXFxqqq6ZMkS7dOnj6qqPvnkkzpixAjt06ePhoWF6WuvvZZxnGeffVZbtmypffv21euvv16fffZZVVWdOHGidunSRdu3b6+DBg3KOPawYcP0/vvv16ioKL3vvvu0efPmum/fPlVVTUtL02bNmmXEkO6DDz7Qf/7zn6qqOmPGDO3WrZtGRkZq3759dc+ePZqWlpbtfvbt26eDBg3SLl26aJcuXXT+/PkZ5zRq1Ci98MIL9YYbbjjleN27d9dq1apphw4d9NVXX9UPPvhAr7rqKu3fv782b95cR48enbGub5lNnjxZIyIitH379nrddddlnO8XX3yhqqqPPfaYDhs2TNPS0rRx48b6xBNPaMeOHbVdu3a6du1aVVVNSEjQESNGaJcuXTQyMlKnT5+uqqqrV6/Wrl27aocOHTQiIkI3bNigCQkJeumll2r79u21bdu2+umnn+b1Y3Iaf3xu586dW+j7LKlKUllsiUvQ2z5aoo0f+k7PeX62Tl8eq2lpnkLbP7BUC+E7359XJrFAI5/phsCuzCuJSHtgEnCJqh5In6+qu7x/94nI1zjVZr8VJKCnv11DzK6jBdnFadqcVY0nL2+b4zrr16/nvffeo2fPntxyyy28/fbb3HXXXQwfPpxffvmFli1bcvPNNzN+/Hjuu+++HPe1bt065s6dS3x8POHh4dx5552sXLmSTz/9lOXLl5OamkqnTp0yqtYGDRrEqFGjAHjsscd47733uPvuuwHYsGEDs2fPJjg4mBo1ajBlyhTuu+8+Zs+eTYcOHahdu3a2cfTq1Ys//vgDEWHSpEm89NJLvPLKKwwdOjTL/dx4443cf//99OrVi+3bt9O/f/+M5z+WLVvG/PnzqVix4inHGDt2LC+//DLfffcd4FRzrVixguXLl1OhQgXCw8O5++67adTo5MdszZo1PPfcc/z+++/Url2bbdtO7Xbo3//+N0eOHOGDDz7IaOiuXbs2f/75J2+//TYvv/wykyZN4rnnnuOCCy7g/fff5/Dhw3Tr1o1+/foxYcIE7r33XoYMGUJycjJpaWnMmjWLs846i5kzZwJw5MiRHP8NjXHjyPEUXp/zNx8t3EpIcBAPXtSSkb2bEhoSHOjQsuTPNpMlQAsRCROR8jjjZ8/wXUFEzga+Am5S1Q0+8yuLSNX098BFOGNTl0iNGjWiZ8+eAAwdOpT58+ezfv16wsLCaNmyJQDDhg3jt99yz5UDBgygQoUK1K5dm7p167J3717mzZvHVVddRaVKlahWrRoDBw7MWH/16tX07t2biIgIpkyZwpo1azKWDR48mOBg54N5yy238NFHHwHw/vvvM2LEiBzjiI2NpX///kRERDBu3LiM/Wa3n9mzZ3PXXXcRGRnJwIEDOXr0aEaV08CBA09LJNnp27cv1atXJzQ0lDZt2pyWLObMmcM111yTkQhr1qyZsWzMmDEcPnyYd95555Q7pgYNGgRA586d2bp1KwA//fQTY8eOJTIykqioKBITE9m+fTvnnHMOzz//PC+++CLbtm2jYsWKREREMHv2bB566CHmzZtH9epFc1+/KZ1S0jxMXrCVqJfn8v7vW7i6U0OiR0dx1wUtim0iAT+2mahqqojcBfyIc2vw+6q6RkTu8C6fADwB1ALe9v7nTr8FuB7wtXdeOWCqqv5Q0Jhyu4Lwl8y3eopIelVelsqVK4fH4wE47cn9ChUqZLwPDg4mNTU1y2OkGz58ONOnT6dDhw58+OGHp9QT+3bB3ahRI+rVq8ecOXNYtGgRU6ZMyfGc7r77bh544AEGDhxIdHQ0Tz31VI778Xg8LFy4MMukkZeuwLM7/3Sqmm1ZdO3alWXLlnHw4MFTkkz6Pn33p6p8+eWXhIeHn7KP1q1b0717d2bOnEn//v2ZNGkSF1xwAcuWLWPWrFn85z//4aKLLuKJJ55wfU7GgPOZm7NuH8/NWsvmuGOc26wWjw1oQ5uzqgU6NFf8ejOyqs5S1Zaq2kxVn/POm+BNJKjqSFU9Q1Ujva8u3vmbVbWD99U2fduSavv27SxcuBCATz75hF69etGqVSu2bt3Kxo0bAfj444/p06cPAE2aNGHZsmUAfPnll7nu/7zzzuPrr7/OaGD+9ttvM5bFx8dz5plnkpKSkmuCGDlyJEOHDuXaa6/NuGLJzpEjR2jQoAEAkydPznU/F110EW+++WbGOitWrMj1vKpWrZrnBvO+ffvy+eefc+CAU2N68ODBjGUXX3wxDz/8MAMGDMh1v/379+eNN97ISPrLly8HYPPmzTRt2pR77rmHgQMHsnLlSnbt2kWlSpUYOnQoDz74IH/++WeeYjZm7e6j3PTeYm6d7Ayh8d6wLkwZ2b3EJBKwkRaLROvWrZk8eTLt27fn4MGD3HnnnYSGhvLBBx8wePBgIiIiCAoK4o477gDgySef5N5776V37965fqkDdOrUieuuu47IyEiuvvpqevfunbFszJgxdO/enQsvvJBWrVrluJ+BAweSkJCQaxUXOLcfDx48mN69e5/WtpLVfl5//XWWLl1K+/btadOmDRMmTMj1GO3bt6dcuXJ06NCB//73v7muD9C2bVseffRR+vTpQ4cOHXjkkUdOWT548GBGjRrFwIEDOXHiRLb7efzxx0lJSaF9+/a0a9eOxx9/HHDuGmvXrh2RkZGsW7eOm2++mVWrVtGtWzciIyN57rnneOyxx1zFasy++EQe/nIlA16fx+pdR3jq8jb8eN959G1dr8Q9vFqqxoAPDw/X9evXnzJv7dq1tG7dOkARBU5++qRaunQp999/P/PmzSvQsQtrP4WhpPXNlc4fn9uyOiBUVgJdFokpabw3fwtvz91IUqqHYec24e4LmlOjUvkij0VElmkBehhJV+r75jLujB07lvHjx+daFVZU+zGmNFJVZvy1i5d+WM/Owye4qE09/nNpa8Jql/whhC2ZGAAefvhhHn744WKzH2NKm2XbDvHszBiWbz9M27Oq8fLgDpzTrFagwyo0lkyMMcaPYg8dZ+z36/hupTPS4bhr2jOoU+GPdBholkyMMcYP4hNTGB+9iUnztxAkcE/fFtzux5EOA610npUxxgRImkf5bMkOXv15PfsTkhnUsQEP9g/nrBruHswtqSyZGGNMIZn3dxzPzVzLuj3xdG1yBu8P70r7hjUCHVaRsOdMikCVKlUKZT8zZsxg7Nixua+YD88//3y+tstP1+5NmjRh//78DVMzffp0YmJi8rysMI0cOTLjOJnL7dxzz/X78U3xsykugVs/XMJN7y3meHIa44d04vPbzykziQQsmZQoAwcOLJQ7pVQ1o7uWdPlJJpm7MikK+U0mhRnrpEmTaNOmDXB6uS1YsKDQjmOKvyPHU3jm2xj6//c3Fm85yH8uacXPD5zHJRFnlriHDgvKkklWdiyGea84fwtRQkICffv2pVOnTkRERPDNN98AziBQrVq1YuTIkbRr144hQ4Ywe/ZsevbsSYsWLVi82InDd3Co4cOHc88993DuuefStGnTjKuD9GOkd+7oe4zWrVvzj3/8g06dOrFjx8mhZh5++GFOnDhBZGQkQ4YMOW1Ar5dffjmj762oqCgeeeQR+vTpw2uvvQY4nTj27t2bli1bntLDr+9AVpdddlmW40f873//y3h6/PbbbyctLQ1wruYeffRROnToQI8ePdi7dy8LFixgxowZjB49msjISDZtOjmKQ1bLoqKiePrppzNi/fbbb+nevTsdO3akX79+7N27F3Ce5r/llluIioqiadOmGQOLHTt2jAEDBtChQwfatWuXMWZKVFQUS5cuPa3c0uMGJ2GPHj2adu3aERERkbFt+sNy11xzDa1atWLIkCE59tNmiqfUNA8fL3Q6Y/xgwRYGd2nE3NFR3N6nGRXKFd/OGP2qMPqxLy6vQhnPZPsi1TH1VJ86w/m7fVHets9C5cqVVVU1JSVFjxw5oqqqcXFx2qxZM/V4PLplyxYNDg7WlStXalpamnbq1ElHjBihHo9Hp0+frldccYWqnjqeyLBhw/Saa67RtLQ0XbNmjTZr1uyUYxw9evS0Y4iILly4MMcYVZ0xWNq2bZsxPW7cOH3yySdVVbVPnz565513ZiwbNmyY9u/fX9PS0nTDhg3aoEEDPXHixCmxqqoOGDAgYwyJ9LFHYmJi9LLLLtPk5GRVVb3zzjt18uTJqqoK6IwZM1RVdfTo0TpmzJiM46WPS5JZ5mV9+vTRW2+9NWP64MGD6vE440C8++67+sADD6iqM6bKOeeco4mJiRoXF6c1a9bU5ORknTZtmo4cOTJj+8OHD2fsd8mSJaeVm+/0tGnTtF+/fpqamqp79uzRRo0a6a5du3Tu3LlarVo13bFjh6alpWmPHj103rx5p52LjWfiXwUpi3kb4vSiV3/Vxg99p9e9s0DX7DxSeIEFACVgPJOSaes8SEsGTXP+bp0HjboVyq5VlUceeYTffvuNoKAgdu7cmfHrOCwsjIiICMDpX6pv376ICBERERndomd25ZVXEhQURJs2bTL2k36M6OhoypUrd8oxGjduTI8ePQp8Htddd90p09deey1BQUG0aNGCpk2bsm7dOlf7+eWXX1i2bBldu3YF4MSJE9StWxeA8uXLc9lllwFO1/A///xzvmK9+uqrM97HxsZy3XXXsXv3bpKTkwkLC8tYlt61f4UKFTK69o+IiODBBx/koYce4rLLLjulz7PczJ8/nxtuuIHg4GDq1atHnz59WLJkCdWqVaNbt240bOiMUB0ZGcnWrVvp1atXvs7PFJ0t+4/x3MwYZq/dx9k1KzFhaGf6ty15fWj5i6tkIiJn4Ax0lbG+qpbOrlGb9Ibg8k4iCS7vTBeSKVOmEBcXx7JlywgJCaFJkyYZXcz7dq0eFBSUMR0UFJRtfb/vNuqtKkk/xm+//UbNmjVPOUZ6V+9paWl07twZcNphnnnmmVP269sFPpzeDX7mLuOz6mI/t32kxzxs2DBeeOGF05aFhIRk7DerrubdqlSpUsb77LrNh6y7tm/ZsmW+u5ZP//fISm7d6Jvi5ciJFN745W8mL9xKhXLBPHxJK0b0bFJ2q7OykWubiYiMAVYCrwOveF8v+zmuwGnUDYbNgAsedf4W0lUJON22161bl5CQEObOnXvawE5FdYzg4GBWrFjBihUrMhJJSEgIKSkpANSrV499+/Zx4MABkpKSMtpBsvPFF1/g8XjYtGkTmzdvJjw8nCZNmrBixQo8Hg87duzIaPfx1bdvX6ZNm8a+ffsAp7v43Mokp27pc+uyPqdu87Pipmt533Lzdd555/HZZ5+RlpaWkdy7dSu8z5LxvzSPMmXRNs5/OZr3ft/CoI4NmfNgH+4oy+0iOXBzZXIt0ExVk/0dTLHRqFuhJpF0Q4YM4fLLL6dLly5ERkbm2iV8QY7Rp08fOnXq5PoYt912G+3bt6dTp05MmTKFJ554gu7duxMWFpbrPsLDw+nTpw979+5lwoQJhIaG0rNnz4yqu3bt2tGpU6fTtmvTpg3PPvssF110ER6Ph5CQEN566y0aN26c7bGuv/56Ro0axeuvv860adNo1qxZtssyS+82v0GDBvTo0YMtW7bkeF6rVq1i9OjRBAUFERISwvjx409bJ3O5pbvqqqtYuHAhHTp0QER46aWXqF+/vusqQBNYCzbu55nvYli3J55uYTV54rI2tGtgI2jmJNcu6EXkS+BOVd1XNCHln3VBf1JJ7Xq9sJXUcrAu6P0ru7LYuv8Yz89ay08xe2l4RkUevbQ1F7erX6rbRYqyC/oXgOUishpISp+pqgOz38QYY0qOo4kpvDlnIx/8voXywUGM7h/Orb3CivWY68WNm2QyGXgRWAV4clnXGGNKjPR+tF75aT0HjydzTaeGjO4fTt1qoYEOrcRxk0z2q+rrfo/Ej1S1VF+mmtIlt6pnUzgWbjrAM9/FsHb3Ubo2OYMPL+tGRENrF8kvN8lkmYi8AMzg1GquEnFrcGhoKAcOHKBWrVqWUEyxp6ocOHCA0FD7Zewv2w8c543liSz74Q8a1KjImzd2ZEAZ7P6ksLlJJh29f32fdlPggsIPp/A1bNiQ2NhY4uLiAh1KkUpMTLQvJEpmOYSGhmY81GgKT3xiCm/O3cgH87cieHjwopaM7N3U2kUKSa7JRFXPL4pA/CUkJOSUJ53LiujoaDp27Jj7iqWclYNJ8yjTlu1g3I8b2J+QxNWdGtKr2gGuuqBFoEMrVXJNJiJSA7gZaMKpT8Df47eojDGmECza7LSLrNl1lM6Nz+C9YV3o0KhGlp2OmoJxU801C/gDu5vLGFNC7Dh4nBe+X8usVXs4q3oor9/QkcvbW7uIP7lJJqGq+oDfIzHGmAI6lpTK+OhNTJy3mWARHriwJaN6N6VieWsX8Tc3yeRjERkFfMepd3Md9FtUxhiTB6rKNyt2Mfb7dew5msgVkWfx8CWtOLN66R53vThxk0ySgXHAozh3ceH929RfQRljjFurYo/w1LdrWLbtEBENqvPmjR3p0qRmoMMqc9wkkweA5qqav0G7jTHGD/YnJDHuh/V8vmwHtSqX58WrIxjcuRFBQdYuEghukska4Li/AzHGGDeSUz18tHArr83+mxMpadzaM4x7+rWgWmhIoEMr09wkkzRghYjM5dQ2E7s12BhTpOau38eY72LYHHeMPi3r8PhlbWhet0qgwzK4SybTvS9jjAmILfuPMea7GOas20dY7cq8P7wL54fXtVt9ixE3T8DnPiSdMcb4Qby3a/j3f99ChXLB/OeSVozoGUb5crkOEmuKmKsx4PNLRC4GXgOCgUmqOjbT8iHAQ97JBJxBuP5ys60xpvTyeJQv/4zlxR/Wsz8hiWs6N+TfF4dTt2rJ6metLPFbMhGRYOAt4EIgFlgiIjNUNcZntS1AH1U9JCKXABOB7i63NcaUQsu3H+Kpb2P4a8dhOp5dI6MLFFO8+fPKpBuwUVU3A4jIp8AVQEZCUNUFPuv/ATR0u60xpnTZezSRF79fx1fLd1K3agVevbYDV0Y2sFt9Swg3HT22BEYDjTm1o8fcuqBvAOzwmY4Fuuew/q3A93ndVkRuA24DqFOnjnXg5pWQkGBlgZWDr+JaFike5cetKXy3KYVUDwwIC+GyZsFUPLqR337b6JdjFteyKMncXJl8AUwA3sW5TditrH5OZDmEnIicj5NMeuV1W1WdiFM9Rnh4uEZFReUhxNIrOjoaKwsrB1/FrSxUldlr9/HszBi2HUihX+t6PDagNU1qV/b7sYtbWZQGbpJJqqqOz8e+Y4FGPtMNgV2ZVxKR9sAk4BJVPZCXbY0xJdPGffE8/W0M8/7eT/O6Vfjolm6c17JOoMMyBeAmmXwrIv8AviZvHT0uAVqISBiwE7geuNF3BRE5G/gKuElVN+RlW2NMyXPkRAr/N3sDHy3cRqXywTxxWRtuOqcxIcF2q29J5yaZDPP+He0zL9eOHlU1VUTuAn7Eub33fVVdIyJ3eJdPAJ4AagFvex8+SlXVLtltm4fzMsYUI2ke5bMlO3j5p/UcOp7M9V3P5sGLWlKrSoVAh2YKiZuHFvM95q2qzsIZXMt33gSf9yOBkW63NcaUPMu2HeLJGatZvfMoXZucwZOXd6Ndg+qBDssUsmyTiYhcoKpzRGRQVstV9Sv/hWWMKen2xSfy4vfr+fLPWOpVq8Br10cysMNZ1gVKKZXTlUkfYA5weRbLFKetwxhjTpGS5mHygq383+y/SUpN486oZtx1fnMqV/BrhxsmwLL911XVJ71/RxRdOMaYkuz3jft5csYaNu5LICq8Dk9c1oamdaxX37LAfioYYwos9tBxnpu5lu9X7+HsmpWYdHMX+ra2Xn3LEksmxph8S0xJY+Jvm3k72nlS/V8XtmTUeU0JDQkOcGSmqFkyMcbkWfrT6898t4YdB09waUR9Hh3QhgY1KgY6NBMgbvrmGgz8oKrxIvIY0Al4VlX/9Ht0xphiZ3NcAk9/G8OvG+JoUbcKU0Z2p2fz2oEOywSYmyuTx1X1CxHpBfQHXgbGk3OnjcaYUuZYUipvzNnIe/M3E1oumMcGtGbYuU3s6XUDuB8DHmAAMF5VvxGRp/wXkjGmOFFVZvy1i+dnrWXvURuoymTNTTLZKSLvAP2AF0WkAmA/RYwpA9buPsqTM9aweMtBIhpU5+0hnenc+IxAh2WKITfJ5FrgYuBlVT0sImdyaj9dxphS5vDxZF79eQP/+2Mb1SuG8PxVEVzXtRHBNlCVyYabZHImMFNVk0QkCmgPfOTPoIwxgZHmUT5fuoOXfljHkRMpDO3RmAcubEmNSuUDHZop5twkky+BLiLSHHgPmAFMBS71Z2DGmKL15/ZDPPnNGlbtPELXJmfw9MB2tDmrWqDDMiWEm2Ti8XYJPwj4P1V9Q0SW+zswY0zRiItP4sUf1jFtWSx1q1qHjCZ/3CSTFBG5AbiZk50+hvgvJGNMUUhN8/DxH9t49acNJKamcXufptx9QQuqWIeMJh/cfGpGAHcAz6nqFu/oh//zb1jGGH9asvUgj09fzbo98fRuUZunBralmXXIaArAzeBYMSLyEHC2d3oLMNbfgRljCl9cfBJjv1/Hl3/Gclb1UMYP6cTF7epblZYpMDfdqVyO89R7eSBMRCKBZ1R1oJ9jM8YUktQ0D7O3pXB3dDSJKc4YI3df0JxK5a1KyxQON5+kp4BuQDSAqq7wVnUZY0qAZdsO8vj0NcTsTqZX89o8fYVVaZnC5yaZpKrqkUyXweqneIwxhWR/QhIvfr+OL5bFcmb1UP4ZWYEHr+tmVVrGL9wkk9UiciMQLCItgHuABf4NyxiTX2keZeqibYz7cT3Hk9O4o49TpbVk4XxLJMZv3CSTu4FHgSTgE+BHYIw/gzLG5M+ybYd44pvVrNl1lHOb1eKZK9rSvG7VQIdlygA3d3Mdx0kmj/o/HGNMfhxIcB48/HxpLPWqVeDNGzsyIOJMuxIxRcbN3VwtgQeBJr7rq+oF/gvLGONGmkeZung7L/+4nmNJqdx+XlPu7msPHpqi5+YT9wUwAZjEybFNjDEBtnz7IR7/ZjWrdx7lnKZOlVaLelalZQLD7d1c4/0eiTHGlYPHknnph3V8umQHdatW4PUbOnJ5e6vSMoHlJpl8KyL/AL7GaYQHQFUP+i0qY8xp0jzKp0u2M+7H9SQkpjKqdxj39mtpVVqmWHDzKRzm/es7IJYCTQs/HGNMVv7acZjHv1nNytgjdA+ryZgr29HSqrRMMeImmTRV1VMeUhQRG/zZmCJw+HgyL/6wnk+XbKd2Fese3hRfbpLJe8At6RMiUhlngKy+/grKmLJOVZm2LJYXvndGPLylZxj39WtB1VAb/cEUT26SyU4RGa+qd4rIGcBM4F0/x2VMmbV+TzyPTV/Fkq2H6Nz4DJ69sh2tz7QRD03x5uahxcdF5EURmQB0Bsaq6pf+D82YsuVYUiqv//I3783fQtXQcrx0dXuu6dyQoCCr0jLFX7bJxDtMb7rFwOPevyoig1T1q9x2LiIXA68BwcAkVR2baXkr4AOgE/Coqr7ss2wrEI/zbEuqqnZxe1LGlCSqyo9r9vLMt2vYdSSR67o04qFLWlGzcvlAh2aMazldmVyeaXo5znC9l+PczZVjMhGRYOAt4EIgFlgiIjNUNcZntYM4HUdemc1uzlfV/Tkdx5iSbMfB4zw5Yw1z1u2jVf2qvH5DR7o0qRnosIzJs2yTiaqOKOC+uwEbVXUzgIh8ClwBZCQTVd0H7BORAQU8ljElSnKqh3fnbeaNOX8TJMJjA1oz7NwmhAQHBTo0Y/LFTd9ck4F7VfWwd/oM4BVVvSXHDaEBsMNnOhbonofYFPhJRBR4R1UnZhPfbcBtAHXq1CE6OjoPhyi9EhISrCwonuWw9kAaH8UksfuY0qVeMDe2Lk/NtO38Pm+7X49bHMsiUKwsCp+bu7napycSAFU9JCIdXWyXVathXgbV6qmqu0SkLvCziKxT1d9O26GTZCYChIeHa1RUVB4OUXpFR0djZVG8yiEuPonnZsYwfcUuzq5ZiQ+ubcv54XWL7PjFqSwCzcqi8LlJJkEicoaqHgIQkZout4sFGvlMNwR2uQ1MVXd5/+4Tka9xqs1OSybGFHfpg1W99ON6klI83HNBc/5xfnNCQ4IDHZoxhcZNUngFWCAi07zTg4HnXGy3BGjhHS9+J3A9cKOboLwPRgaparz3/UXAM262NaY4WRl7mMemO92g9Gxei2euaGfjr5tSyc1zJh+JyFLgApyqq0GZ7sjKbrtUEbkLZ2TGYOB9VV0jInd4l08QkfrAUqAa4BGR+4A2QG3ga2+XEeWAqar6Q35O0JhAOHIihVd+Ws/Hf2yzblBMmZDTcybVVPWot1prDzDVZ1lNN70Gq+osYFameRN83u/Bqf7K7CjQIffwjSleVJUZf+1izHdrOXgsiZt7NOZf/cOpZt2gmFIupyuTqcBlwDJObTgXrNdgY06zcV8CT3yzmgWbDtC+YXU+GN6ViIbVAx2WMUUip+dMLvP+DSu6cIwpeRJT0nhr7kYm/LqJ0JBgxlzZjhu7nU2wdYNiyhBXo+qISAOgMaeOAW93Vpkyb/7f+3ls+iq2HjjOVR0b8MilralTtUKgwzKmyLl5aPFF4DqcJ9fTx4BX7DZdU4btT0ji2e+cZ0aa1KrE/27tTq8WtQMdljEB4+bK5EogXFWTclvRmNLO41E+X7qDF75fx/HkVO7p24J/RDWzZ0ZMmecmmWzG6eDRkokp0/7eG88jXzvjjHQLq8nzV7WjeV0bOtcYyPnW4DdwqrOOAytE5Bd8Eoqq3uP/8IwJvMSUNN6cs5F3fttE5QrleOma9gzu3NCeGTHGR05XJku9f5fhDNPrKy99bBlTYs37O47Hpq9m24HjDOrUgEcvbU2tKtbAbkxmOd0aPBlARO5V1dd8l4nIvf4OzJhAiotP4tmZMXyzYhdhtSszdWR3zm1uDezGZMdNm8kwnNESfQ3PYp4xJZ7Ho3y6ZAdjv19LYoqHe/u24E5rYDcmVzm1mdyA0zFjmIj4VnNVBQ74OzBjitr6PU4D+7Jth+geVpPnroqgeV3rlNEYN3K6MlkA7MbpdPEVn/nxwEp/BmVMUTqRnMYbc/5m4m+bqRpajnHXtOcaa2A3Jk9yajPZBmwDzim6cIwpWr9uiOPx6avZfvA413RuyCOXtqZm5fKBDsuYEsdVdyrGlDb74hMZ891avv1rF01rV2bqqO6c28wa2I3JL0smpkzJ3MB+Xz+ngb1COWtgN6YgckwmIhIMTFbVoUUUjzF+sykugf98tYrFWw7SPawmzw+KsFEPjSkkOSYTVU0TkToiUl5Vk4sqKGMKU3Kqhwm/buLNORsJDQnixasjuLZLI2tgN6YQuanm2gr87r09+Fj6TFV91V9BGVNYNh5K4/k35rFhbwID2p/Jk5e3oW7V0ECHZUyp4yaZ7PK+gnCeMTGm2EtISmXcD+v4aFEi9auHMunmLvRrUy/QYRlTauWaTFT1aQARqayqx3Jb35hAmx2zl8e/Wc2eo4n0Pbsc/3drH6pUsHtNjPGnoNxWEJFzRCQGWOud7iAib/s9MmPyaF98Iv+c8icjP1pK1dByfHnnuQxtU8ESiTFFwM3/sv8D+uPtOVhV/xKR8/wZlDF5oap8tmQHz89ybvf914Utub1PM8qXCyJ6c6CjM6ZscPWTTVV3ZLrzJS27dY0pSlv2H+M/X63kj80H6RZWkxfsdl9jAsJNMtkhIucCKiLlgXvwVnkZEygpaR4m/raZ1375mwrlgnhhUATXdWlEUJDd7mtMILhJJnfgdDffAIgFfgL+6c+gjMnJ8u2H+M9Xq1i3J55LI+rz1OVtqVvNbvc1JpDcJBOPqg7xeyTG5CIhKZWXf1zP5IVbqVc1lIk3deaitvUDHZYxBnfJZJGIrADeB35QVRuy1xSppM0LWb/4e97cXJ+f4xsztHtj/n1xOFVDQwIdmjHGy00yaQn0A24B3hSRz4APVXWDXyMzZd76PfH8NmcmQzfcTRtN5XUpx9ZBn9Cqa7tAh2aMycTNQ4sK/Az8LCLnA/8D/iEifwEPq+pCP8doypDElDRmrtzN1MXbWbbtEHeHzKV8cCrB4iFY0miV+BfObxtjTHGSazIRkVrAUOAmYC9wN84zJ5HAF0CYH+MzZcTGffFMXbSDL/+M5ciJFMJqV+aRS1txff0aBH/+DaQlI8HloUnvQIdqjMmCm2quhcDHwJWqGuszf6mITPBPWKYsSEpN44fVe5iyaDuLtxwkJFi4qG19hnQ7m3Oa1fL26tsMhs2ArfOcRNKoW6DDNsZkwU0yCc+u0V1VXyzkeEwZsDkugU8Wb2faslgOHU/h7JqVeOjiVgzu0pDaVSqcvkGjbpZEjCnm3CST2iLyb6AtkHEzv6pekNuGInIxzjMqwcAkVR2baXkr4AOgE/Coqr7sdltTsiSnevgpZg9TF21nwaYDlAsSLmxTjxu7n03PZrXtYUNjSjg3yWQK8BlwGc4DjMOAuNw28o7S+BZwIc7DjktEZIaqxvisdhDnifor87GtKQG2HzjO1MXbmbZsB/sTkmlQoyKj+4czuHNDe9DQmFLETTKpparvici9qvor8KuI/Opiu27ARlXdDCAinwJXABkJQVX3AftEZEBetzXFV0qah1/W7mXKou3M+3s/QQJ9WztXIee1qEOwXYUYU+q4SSYp3r+7vV/6u4CGLrZrAOzwmY4FuruMy/W2InIbcBtAnTp1iI6OdnmI0i0hIaHIy+Jwooe5O1L5NTaVw0lKzVDhquYhnNewHGeEJsDuGObtLtKQAlIOxZWVxUlWFoXPTTJ5VkSqA/8C3gCqAfe72C6rn59un553va2qTgQmAoSHh2tUVJTLQ5Ru0dHRFEVZqCp/bj/M5AVbmbVqN6keJSq8DkO7NyYqvA7lgnMdMseviqocSgIri5OsLAqfm4cWv/O+PQKcn4d9xwKNfKYb4lzV+HtbUwQSU9L49q9dTF64ldU7j1K1QjluPqcJN5/TmCa1Kwc6PGNMEcs2mYjIG+RwJaGq9+Sy7yVACxEJA3YC1wM3uoyrINsaP9p1+AT/+2Mbny7ZwcFjybSoW4UxV7ZjUMcGVLYRDY0ps3L637+0IDtW1VQRuQv4Eef23vdVdY2I3OFdPkFE6nuPUw3wiMh9QBtVPZrVtgWJx+SfqrJ02yHen7+Fn2L2oqr0bV2P4ec24dyMhwuNMWVZtslEVScXdOeqOguYlWneBJ/3e8imMT+rbU3RSk3z8MOaPbw7bwt/7ThM9YohjOwdxtDujWlUs1KgwzPGFCNWL2FOk5CUymdLdvD+/C3sPHyCJrUqMeaKtlzduSGVyttHxhhzOvtmMBl2HznBh79vZeri7cQnptK1yRk8cXkb+rWuZ8+GGGNy5KbX4JqqerAogjGBsWbXEd79bTPfrdyNR5VLIs5kVO+mRDaqEejQjDElRF5GWvwA+N5GWiw9Fm85yNvRG4leH0fl8sHcfE4TRvRsYu0hxpg8y+tIi2/YSIslm6oSvSGOt+duZMnWQ9SqXJ7R/cMZ2qMx1SvaMLjGmPyxkRbLiDSP8sPqPbw1dyMxu49yVvVQnrq8Ddd1PZuK5YMDHZ4xpoSzkRZLueRUD9OX72TCr5vYvP8YTetUZtw17bkisgHlywW2qxNjTOlhIy2WUqke5dPF23ljzkZ2Hj5BuwbVGD+kExe1rW93ZhljCl2OycQ7rsh3qjomq+U20mLxk5Lm4es/dzJu3gniTqyiQ6MaPHtVO6Ja1rEn1Y0xfpNjMlHVNBHpUFTBmPxLTfPw9fKdvDFnI9sPHiesWhAvXdeFqHBLIsYY/3NTzbVCRGbgtI8cS5+pql/5LSrjWmqah29W7OKNOX+z9cBx2p5VjUk3dyF4bwznt6ob6PCMMWWEm2RSEzgA+I75roAlkwBSVX6K2cu4H9ezcV8Cbc6sxsSbOnNhm3qICNH71gY6RGNMGeLm1uARRRGIcW/R5gO8+MM6/tx+mKZ1KjN+SCf6t61PkDWsG2MCxM2twaHArUBbIDR9vqre4se4TBbW7TnKSz+sZ866fdSrVoEXBkUwuHPDgI9maIwxbqq5PgbWAf2BZ4AhgNWhFKHYQ8d59ecNfL18J1UrlOOhi1sx/Nwm9rChMabYcJNMmqvqYBG5QlUni8hUnEGrjJ8lJKUyPnoj787bAsBtvZtyZ1QzalQqH+DIjDHmVG6SSYr372ERaQfsAZr4LSKDx6NM+zOWcT+uJy4+ias6NmB0/3DOqlEx0KEZY0yW3CSTiSJyBvA4TjcqVYAn/BpVGbZ4y0Ge+W4Nq3cepePZNZh4U2c6nn1GoMMyxpgcubmba5L37a9AU/+GU3bFHjrOC7PWMXPVbs6sHspr10cysMNZ9sChMaZEyDaZiMgDOW2oqq8WfjhlT3Kqh0nzN/P6L38DcF+/Ftx+XjNrXDfGlCg5XZlU9f4NB7riVHEBXA785s+gyooFm/bz+PTVbIo7Rv+29Xji8rY0sHYRY0wJlG0yUdWnAUTkJ6CTqsZ7p5/C6VrF5FNcfBLPz1rL18t30qhmRd4f3oULWtULdFjGGJNvbhrgzwaSfaaTsbu58sXjUT5Zsp2x368jKcXD3Rc05x9Rza1KyxhT4rl9aHGxiHyN0yfXVcBHfo2qFNq6/xgPfbmSRVsOcm6zWoy5sh3N6lQJdFjGGFMo3NzN9ZyI/AD08s4aoarL/RtW6ZHmUd6fv4VXfl5PSHAQL14dwbVdGtldWsaYUsXNlQnACmB3+voicraqbvdXUKXFhr3x/HvaSlbsOEy/1nV59soI6lcPzX1DY4wpYdx09Hg38CTO+O9pgOBUd7X3b2glV5pHeXfeZl79aQOVKwTbMyPGmFLPzZXJvUC4qh7wdzClwc7DJ3jgsxUs2nKQi9vW59mr2lG7SoVAh2WMMX7lJpnsAI74O5DS4JsVO3ls+mo8HmXcNe25pnNDuxoxxpQJbpLJZiBaRGYCSekz7Qn4k44mpvDY16uZ8dcuOjc+g/9eG8nZtSoFOixjjCkybpLJdu+rvPdlfKzeeYR/TPmTnYdP8K8LW3JnVDMbrMoYU+a4uTX46aIIpKRRVaYu3s7T38ZQs1J5PrutB12a1Ax0WMYYExBu7uaai3P31ilU9QIX214MvAYEA5NUdWym5eJdfilwHBiuqn96l20F4nHuIEtV1S65Ha+oHEtK5ZGvV/HNil2c17IO/722A7Wskd0YU4a5qeZ60Od9KHA1kJrbRiISDLwFXAjEAktEZIaqxvisdgnQwvvqDoz3/k13vqrudxFjkdmy/xijPlrK5rgE/nVhS/55fnOCgqyR3RhTtrmp5lqWadbvIvKri313Azaq6mYAEfkUuALwTSZXAB+pqgJ/iEgNETlTVXe7C79ozfs7jn9O+ZPgIOHjW7vTs3ntQIdkjDHFgptqLt+GgCCgM1Dfxb4b4NxWnC6WU686slunAc7T9gr8JCIKvKOqE10c0y9UlQ9+38qzM2NoUbcqk4Z1oVFNu1vLGGPSuanmWobzxS441VtbgFtdbJdV3U/mtpec1umpqrtEpC7ws4isU9XTxlERkduA2wDq1KlDdHS0i9DcS/UoH8Uk81tsKp3qBjMqIo1NKxezqVCPUvgSEhIKvSxKIiuHk6wsTrKyKHxuqrnC8rnvWKCRz3RDYJfbdVQ1/e8+b4/F3chiUC7vFctEgPDwcI2KispnuKdLSErlzv8tY17sce46vzkPXNiyxLSPREdHU5hlUVJZOZxkZXGSlUXhy/WBCBEJEZF7RGSa93WXiIS42PcSoIWIhIlIeeB6To7WmG4GcLM4egBHVHW3iFQWkare41cGLgJW5+nMCiguPokbJv7Bgk0HePHqCB7sH15iEokxxhQ1N9Vc44EQ4G3v9E3eeSNz2khVU0XkLuBHnFuD31fVNSJyh3f5BGAWzm3BG3FuDR7h3bwe8LW3K5JywFRV/SEP51UgW/YfY9j7i4mLT+LdmzvbKIjGGJMLN8mkq6p28JmeIyJ/udm5qs7CSRi+8yb4vFfgn1lstxnokHl+UdiwN54b312ER5VPbutBZKMagQjDGGNKFDf9fqSJSLP0CRFpivMgYamzdvdRrp/4B0ECn99uicQYY9xyc2UyGpgrIptx7r5qzMnqqFJj9c4jDH1vERVDgpk6qgdhtSsHOiRjjCkx3NzN9YuItADCcZLJOlVNymWzEmXt7qPc+O4fVA0N4ZNRPazHX2OMySM3Dy2GAv/AGQNegXkiMkFVE/0dXFHYduAYN723mMoVyvHpbT3sYURjjMkHN9VcH+F0uPiGd/oG4GNgsL+CKip7jyYy9L1FpHk8fHrbOZZIjDEmn9wkk/BMd3PNdXs3V3F2NDGFm99bzMGEZKaO6kHzulUDHZIxxpRYbu7mWu59oBAAEekO/O6/kPwvNc3D3VOXsykugXdu6kIHu2vLGGMKJNsrExFZhdNGEoLzlPp273RjTu35t8R54ft1/LohjueviqBXC+v51xhjCiqnaq7LiiyKIvT5kh28N38Lw89two3dzw50OMYYUypkm0xUdVtRBlIUYnYd5bFvVtO7RW0eG9A60OEYY0yp4abNpFQ4npzKXZ/8SY2KIfzfdZGUCy4zp26MMX7n5m6uUuGJb9awZf8xpozsbuO1G2NMISsTP89/XLOHactiuev85pzbzBrcjTGmsJX6ZHLkRAqPT19Nq/pVuadvi0CHY4wxpVKpr+Ya+/069ickMWlYF0KsncQYY/yiVH+7Lt9+iE8Wb+fWXmG0b1gj0OEYY0ypVWqTiary/Ky11K5Sgfv6tQx0OMYYU6qV2mTy45q9LNl6iPsvbEHlCqW+Ns8YYwKqVCYTj0d5+af1NK9bheu6NAp0OMYYU+qVymTy89q9bNyXwD19W9jDicYYUwRK3TetqjLh1000qlmRS9vVD3Q4xhhTJpS6ZLJix2GWbz/MqN5N7arEGGOKSKn7tv18aSwVQ4K5qmODQIdijDFlRqlKJgp8+9cuLo04k6qhIYEOxxhjyoxSdc/siVQlOSmVQZ3sqsQYY4pSqboyOZ4CVSuUo1tYzUCHYowxZUqpSiYnUpXeLWtbH1zGGFPEStW3bppCVHjdQIdhjDFlTqlKJgCdzq4R6BCMMabMKVXJRICw2lUCHYYxxpQ5pSqZlA+G4CAJdBjGGFPmlKpkEmKJxBhjAqJUJRPLJcYYExh+TSYicrGIrBeRjSLycBbLRURe9y5fKSKd3G6bFUsmxhgTGH5LJiISDLwFXAK0AW4QkTaZVrsEaOF93QaMz8O2pwm2ZGKMMQHhzyuTbsBGVd2sqsnAp8AVmda5AvhIHX8ANUTkTJfbnsauTIwxJjD82TdXA2CHz3Qs0N3FOg1cbguAiNyGc1UDkCQiqwsQc2lSG9gf6CCKASuHk6wsTrKyOCm8MHbiz2SS1XWCulzHzbbOTNWJwEQAEVmqql3yEmRpZWXhsHI4ycriJCuLk0RkaWHsx5/JJBbwHYC9IbDL5TrlXWxrjDGmmPBnm8kSoIWIhIlIeeB6YEamdWYAN3vv6uoBHFHV3S63NcYYU0z47cpEVVNF5C7gRyAYeF9V14jIHd7lE4BZwKXARuA4MCKnbV0cdmLhn0mJZWXhsHI4ycriJCuLkwqlLEQ1y6YIY4wxxrVS9QS8McaYwLBkYowxpsBKRDIp6m5ZirP8loWINBKRuSKyVkTWiMi9RR994SrI58K7PFhElovId0UXtX8U8P9IDRGZJiLrvJ+Pc4o2+sJVwLK43/v/Y7WIfCIioUUbfeFyURatRGShiCSJyIN52fY0qlqsXzgN8JuApji3DP8FtMm0zqXA9zjPp/QAFrndtiS9ClgWZwKdvO+rAhvKaln4LH8AmAp8F+jzCWRZAJOBkd735YEagT6nQJQFzsPSW4CK3unPgeGBPic/l0VdoCvwHPBgXrbN/CoJVyZF3i1LMZbvslDV3ar6J4CqxgNrcf7zlFQF+VwgIg2BAcCkogzaT/JdFiJSDTgPeA9AVZNV9XARxl7YCvS5wLnDtaKIlAMqUbKfb8u1LFR1n6ouAVLyum1mJSGZZNflipt13GxbkhSkLDKISBOgI7Co8EMsMgUti/8D/g14/BRfUSpIWTQF4oAPvFV+k0Sksj+D9bN8l4Wq7gReBrYDu3Gee/vJj7H6W0G+//K8bUlIJkXSLUsJUZCycBaKVAG+BO5T1aOFGFtRy3dZiMhlwD5VXVb4YQVEQT4X5YBOwHhV7QgcA0py22JBPhdn4Pz6DgPOAiqLyNBCjq8oFeT7L8/bloRkUpBuWdxsW5IUpCwQkRCcRDJFVb/yY5xFoSBl0RMYKCJbcS7fLxCR//kvVL8r6P+RWFVNv0qdhpNcSqqClEU/YIuqxqlqCvAVcK4fY/W3gnz/5X3bQDcSuWhEKgdsxvm1kN4Q1DbTOgM4tUFtsdttS9KrgGUhwEfA/wX6PAJdFpnWiaLkN8AXqCyAeUC49/1TwLhAn1MgygKnZ/I1OG0lgnNjwt2BPid/loXPuk9xagN8nr87A37CLgvlUpy7jzYBj3rn3QHc4X0vOINpbQJWAV1y2rYkv/JbFkAvnMvUlcAK7+vSQJ9PoD4XPvso8cmkoGUBRAJLvZ+N6cAZgT6fAJbF08A6YDXwMVAh0Ofj57Koj3MVchQ47H1fLbttc3pZdyrGGGMKrCS0mRhjjCnmLJkYY4wpMEsmxhhjCsySiTHGmAKzZGKMMabALJmYgBKRBD/sM1JELvWZfipzj6h53N9gb2+6c7NYNs7by+w4N8cRkStFpE0ejx+VW8/Gmc/Z5X7PEpFpednGmOxYMjGlUSTOPfKF5VbgH6p6fhbLbsfpjXm0y31dCeQpmbgUSR7PWVV3qeo1fojFlEGWTEyxISKjRWSJd4yJp73zmnivCt71XgH8JCIVvcu6etdd6L0yWC0i5YFngOtEZIWIXOfdfRsRiRaRzSJyTzbHv0FEVnn386J33hM4D3xOEJFxmdafAVQGFvkcJ33ZKO+5/CUiX4pIJRE5FxgIjPPG1izTNh+KyAQRmSciG7x9iGWOsZuILPB2yrhARMKzOmcRqSwi73tjWC4ip/X46i3b1d73w0XkKxH5QUT+FpGXsimjrSLyvLfMl4pIJxH5UUQ2icgdWW1jyohAP6Fpr7L9AhK8fy8CJuI8nRwEfIfTNXoTIBWI9K73OTDU+341cK73/Vhgtff9cOBNn2M8BSwAKgC1gQNASKY4zsLpLbYOTlcSc4ArvcuiyeLped/4fY7zoPd9LZ/5z+LtlgP4ELgmm319CPzgPf8WOE8jh+LzlD5QDSjnfd8P+DKbc37ep5xq4DzJXDnT8ZpkKrPNQHXvMbcBjbKIcStwp/f9f3Gemq/qLbd9gf482Stwr3JZ5BdjAuEi72u5d7oKzhfqdpzO91Z45y8DmohIDaCqqi7wzp8KnPZL3sdMVU0CkkRkH1AP58s6XVcgWlXjAERkCk4ym57P82knIs/ifJFXAX50ud3nquoB/haRzUCrTMurA5NFpAVO9zgh2eznIpzOLNPbcEKBs3HGscnOL6p6BEBEYoDGnNoNeboZ3r+rgCrqjI8TLyKJIlJDS/Z4KCafLJmY4kKAF1T1nVNmOmOvJPnMSgMqknUX2TnJvI/Mn/287i83H+Jc2fwlIsNxri7cyNy/UebpMcBcVb3KWzbR2exHgKtVdb3L40LuZZR5PU+mbTw5bGNKOWszMcXFj8At3vFWEJEGIlI3u5VV9RDOr+Ee3lnX+yyOx6l6yYtFQB8RqS0iwcANwK953IevqsBub7f/Q/IQ22ARCfK2pzQFMieD6sBO7/vhOez3R+BuEREAEemY5zMwJg8smZhiQZ0R7aYCC0VkFc64GrklhFuBiSKyEOeX+BHv/Lk4De6+DfC5HX838B/vtn8Bf6rqN3k/kwyP4ySon3F6oU33KTDa2yjeLIvt1uMkse9xenZNzLT8JeAFEfkdZ5zudJnPeQxOFdhKbyP7mAKcizG5sl6DTYklIlVUNcH7/mHgTFW9N8Bh5ZuIfIjT0G7PfpgSx+o3TUk2QET+g/M53sap1T7GmCJkVybGGGMKzNpMjDHGFJglE2OMMQVmycQYY0yBWTIxxhhTYJZMjDHGFNj/A3XefOrVq7SqAAAAAElFTkSuQmCC\n",
          "text/plain": "<Figure size 432x288 with 1 Axes>"
         },
         "metadata": {
          "needs_background": "light"
         },
         "output_type": "display_data"
        }
       ]
      }
     },
     "b0a3b5e8ca914101a3be09cc60b2e2f4": {
      "model_module": "@jupyter-widgets/base",
      "model_module_version": "1.2.0",
      "model_name": "LayoutModel",
      "state": {}
     },
     "b0dded7b2e364e74a81ac93aaa440999": {
      "model_module": "@jupyter-widgets/controls",
      "model_module_version": "1.5.0",
      "model_name": "FloatSliderModel",
      "state": {
       "layout": "IPY_MODEL_52f456bfbf354f338fe2a386aa68d737",
       "max": 200,
       "min": 0.001,
       "readout": false,
       "step": 0.001,
       "style": "IPY_MODEL_6464e0ee7816484494b9078d469119b1",
       "value": 20
      }
     },
     "b10641c14b984f6a827f6653b993df8d": {
      "model_module": "@jupyter-widgets/controls",
      "model_module_version": "1.5.0",
      "model_name": "LabelModel",
      "state": {
       "layout": "IPY_MODEL_6d35aa6507a842c981643f7f23527745",
       "style": "IPY_MODEL_e5dd63abd43c4eeaa4d33340699a5a6a",
       "value": "Platelength in m"
      }
     },
     "b22e15f0306743ac85fea5a7fe8b4776": {
      "model_module": "@jupyter-widgets/controls",
      "model_module_version": "1.5.0",
      "model_name": "DescriptionStyleModel",
      "state": {
       "description_width": ""
      }
     },
     "b27b586ff39a4863bc4c2502c0213a31": {
      "model_module": "@jupyter-widgets/base",
      "model_module_version": "1.2.0",
      "model_name": "LayoutModel",
      "state": {
       "flex": "1 1 auto",
       "width": "auto"
      }
     },
     "b7fa97515c104ed8afda4139dff158c0": {
      "model_module": "@jupyter-widgets/base",
      "model_module_version": "1.2.0",
      "model_name": "LayoutModel",
      "state": {
       "display": "flex",
       "flex_flow": "row"
      }
     },
     "b8ec363a78044a54b0ef8e104717abf6": {
      "model_module": "@jupyter-widgets/base",
      "model_module_version": "1.2.0",
      "model_name": "LayoutModel",
      "state": {
       "display": "flex",
       "flex_flow": "row"
      }
     },
     "b9acea7bf51b4ee89ef6625a78ef2388": {
      "model_module": "@jupyter-widgets/controls",
      "model_module_version": "1.5.0",
      "model_name": "BoundedFloatTextModel",
      "state": {
       "layout": "IPY_MODEL_efef046060614c5c80342f2cbc7b2a86",
       "max": 15000000,
       "min": 1,
       "step": 100000,
       "style": "IPY_MODEL_7e7a4c293a93485e95577d9cd15bd626",
       "value": 101325
      }
     },
     "bbf1d83d333e4a789d56cb08d88b987c": {
      "model_module": "@jupyter-widgets/base",
      "model_module_version": "1.2.0",
      "model_name": "LayoutModel",
      "state": {
       "flex": "1 1 auto",
       "width": "auto"
      }
     },
     "bc65b9e1112044d79274294a6889fbc3": {
      "model_module": "@jupyter-widgets/base",
      "model_module_version": "1.2.0",
      "model_name": "LayoutModel",
      "state": {
       "display": "flex",
       "width": "50%"
      }
     },
     "be3e2336c7484b4ba7b700bb41d72459": {
      "model_module": "@jupyter-widgets/base",
      "model_module_version": "1.2.0",
      "model_name": "LayoutModel",
      "state": {
       "display": "flex",
       "width": "50%"
      }
     },
     "bfacf4f4c6dd4cd897d6c0b620d1b76f": {
      "model_module": "@jupyter-widgets/base",
      "model_module_version": "1.2.0",
      "model_name": "LayoutModel",
      "state": {
       "display": "flex",
       "width": "50%"
      }
     },
     "bfc50147bc6f4543b888ffb13c164212": {
      "model_module": "@jupyter-widgets/controls",
      "model_module_version": "1.5.0",
      "model_name": "LabelModel",
      "state": {
       "layout": "IPY_MODEL_e9231ef1d0a446398c3387ee4b7d8494",
       "style": "IPY_MODEL_556a741f7af74157923b53395b528842",
       "value": "Platelength in m"
      }
     },
     "c075ba53917243e488820a9d09a88b70": {
      "model_module": "@jupyter-widgets/base",
      "model_module_version": "1.2.0",
      "model_name": "LayoutModel",
      "state": {
       "flex": "1 1 auto",
       "width": "auto"
      }
     },
     "c4a8f909a8ee45e4957032366ddbc995": {
      "model_module": "@jupyter-widgets/controls",
      "model_module_version": "1.5.0",
      "model_name": "FloatSliderModel",
      "state": {
       "layout": "IPY_MODEL_283e43f5c7f442769bd6df38652c8645",
       "max": 15000000,
       "min": 1,
       "readout": false,
       "step": 100000,
       "style": "IPY_MODEL_a629eacea92b43e2ad464189ea6600a6",
       "value": 101325
      }
     },
     "c4ec79e6affe4ab2b79462f28b4b6bac": {
      "model_module": "@jupyter-widgets/base",
      "model_module_version": "1.2.0",
      "model_name": "LayoutModel",
      "state": {
       "flex": "1 1 auto",
       "width": "auto"
      }
     },
     "c5d1ef74b74f4320b8fcc2eaf53b4e8b": {
      "model_module": "@jupyter-widgets/base",
      "model_module_version": "1.2.0",
      "model_name": "LayoutModel",
      "state": {
       "display": "flex",
       "flex_flow": "row"
      }
     },
     "c772c66e9d194ed1b9d2bcafae1c6460": {
      "model_module": "@jupyter-widgets/controls",
      "model_module_version": "1.5.0",
      "model_name": "VBoxModel",
      "state": {
       "children": [
        "IPY_MODEL_47ac009e07f0463da975719f9144e2db",
        "IPY_MODEL_5dbefe2699604ac1852b96b9374bd9c1"
       ],
       "layout": "IPY_MODEL_a2b76e36722842519750770d7d8db99c"
      }
     },
     "ccaeed78b0df45e69cfb58ef731566a6": {
      "model_module": "@jupyter-widgets/controls",
      "model_module_version": "1.5.0",
      "model_name": "DescriptionStyleModel",
      "state": {
       "description_width": ""
      }
     },
     "cd00bdf535e84c58b9220264fdf132c7": {
      "model_module": "@jupyter-widgets/controls",
      "model_module_version": "1.5.0",
      "model_name": "FloatSliderModel",
      "state": {
       "layout": "IPY_MODEL_5cf00d1ca0f0424a8b214cebef9ca56d",
       "max": 200,
       "min": 0.001,
       "readout": false,
       "step": 0.001,
       "style": "IPY_MODEL_f6daff36d24e4abfb055b0a9e090cc59",
       "value": 20
      }
     },
     "d0abbd0f202b45aba323d8cffb0238e2": {
      "model_module": "@jupyter-widgets/controls",
      "model_module_version": "1.5.0",
      "model_name": "FloatSliderModel",
      "state": {
       "layout": "IPY_MODEL_db313e552e7d4f11ae3ea2c35d719a31",
       "max": 10,
       "min": 0.001,
       "readout": false,
       "step": 0.001,
       "style": "IPY_MODEL_57deb9e0d68242159bea119299033311",
       "value": 0.1
      }
     },
     "d10129fd7ed843b580ab668f14cfa5be": {
      "model_module": "@jupyter-widgets/controls",
      "model_module_version": "1.5.0",
      "model_name": "FloatSliderModel",
      "state": {
       "layout": "IPY_MODEL_757fba7d1cb64d7f93464ac8471646a4",
       "max": 55,
       "min": -30,
       "readout": false,
       "style": "IPY_MODEL_eebd4c0e2dd44bfbb48b746654c8e114",
       "value": 3
      }
     },
     "d174022eb0f44fb2a4d1cf61a9058749": {
      "model_module": "@jupyter-widgets/base",
      "model_module_version": "1.2.0",
      "model_name": "LayoutModel",
      "state": {
       "flex": "10 1 auto",
       "width": "auto"
      }
     },
     "d3abe5b0b73e4ece9d52cf660e194902": {
      "model_module": "@jupyter-widgets/base",
      "model_module_version": "1.2.0",
      "model_name": "LayoutModel",
      "state": {}
     },
     "d4c706bb4f4f4a5b941b754d9128bb49": {
      "model_module": "@jupyter-widgets/base",
      "model_module_version": "1.2.0",
      "model_name": "LayoutModel",
      "state": {
       "flex": "10 1 auto",
       "width": "auto"
      }
     },
     "d4fcc937e477417f8633754714a2cd58": {
      "model_module": "@jupyter-widgets/base",
      "model_module_version": "1.2.0",
      "model_name": "LayoutModel",
      "state": {}
     },
     "d619f9b9e4294076b798f4d69d8ab94d": {
      "model_module": "@jupyter-widgets/controls",
      "model_module_version": "1.5.0",
      "model_name": "HBoxModel",
      "state": {
       "children": [
        "IPY_MODEL_a108f16375f0453781bf4f7231e3d5ce",
        "IPY_MODEL_802b3bdae3844c0f9b1f383b5f741e9b",
        "IPY_MODEL_60936d4d8e2148f687e2908433f64e15"
       ],
       "layout": "IPY_MODEL_fb4a1ddcc97647f18d0d204c87e58e49"
      }
     },
     "d746fac15d5f4beba8752c38be6c23f4": {
      "model_module": "@jupyter-widgets/controls",
      "model_module_version": "1.5.0",
      "model_name": "DescriptionStyleModel",
      "state": {
       "description_width": ""
      }
     },
     "d895d86c46e04bee8f7def8652f0d565": {
      "model_module": "@jupyter-widgets/controls",
      "model_module_version": "1.5.0",
      "model_name": "SliderStyleModel",
      "state": {
       "description_width": ""
      }
     },
     "d95a6d8009164ca4b4d6817e819e0aa0": {
      "model_module": "@jupyter-widgets/base",
      "model_module_version": "1.2.0",
      "model_name": "LayoutModel",
      "state": {
       "display": "flex",
       "flex_flow": "row"
      }
     },
     "d98c0bcf7c334dbdbe9e230d17349248": {
      "model_module": "@jupyter-widgets/controls",
      "model_module_version": "1.5.0",
      "model_name": "SliderStyleModel",
      "state": {
       "description_width": ""
      }
     },
     "db313e552e7d4f11ae3ea2c35d719a31": {
      "model_module": "@jupyter-widgets/base",
      "model_module_version": "1.2.0",
      "model_name": "LayoutModel",
      "state": {
       "flex": "10 1 auto",
       "width": "auto"
      }
     },
     "dba68af4f9be4c549db5f78593882166": {
      "model_module": "@jupyter-widgets/controls",
      "model_module_version": "1.5.0",
      "model_name": "HBoxModel",
      "state": {
       "children": [
        "IPY_MODEL_84f99124c7684474bd87e19eaead2dc1",
        "IPY_MODEL_a900cf40da9b4f6494b6391a3f35ce1f"
       ],
       "layout": "IPY_MODEL_1990094f8cd646e4a8578f596837cf04"
      }
     },
     "df7705a366fe4b6d9f290f6a5e06398f": {
      "model_module": "@jupyter-widgets/base",
      "model_module_version": "1.2.0",
      "model_name": "LayoutModel",
      "state": {
       "flex": "1 1 auto",
       "width": "auto"
      }
     },
     "e043da7e4f7f41a9935a99c9a1322f34": {
      "model_module": "@jupyter-widgets/controls",
      "model_module_version": "1.5.0",
      "model_name": "LabelModel",
      "state": {
       "layout": "IPY_MODEL_07a7bc87932340e99a1b549edd9df365",
       "style": "IPY_MODEL_ccaeed78b0df45e69cfb58ef731566a6",
       "value": "Pressure in Pa:"
      }
     },
     "e19f0d26a96a4759be67575da445e03f": {
      "model_module": "@jupyter-widgets/controls",
      "model_module_version": "1.5.0",
      "model_name": "DescriptionStyleModel",
      "state": {
       "description_width": ""
      }
     },
     "e2f7a424433b4061a8b18e4dc1318af1": {
      "model_module": "@jupyter-widgets/controls",
      "model_module_version": "1.5.0",
      "model_name": "DescriptionStyleModel",
      "state": {
       "description_width": ""
      }
     },
     "e5dd63abd43c4eeaa4d33340699a5a6a": {
      "model_module": "@jupyter-widgets/controls",
      "model_module_version": "1.5.0",
      "model_name": "DescriptionStyleModel",
      "state": {
       "description_width": ""
      }
     },
     "e6a31be802d94f28a956069be0a5760b": {
      "model_module": "@jupyter-widgets/controls",
      "model_module_version": "1.5.0",
      "model_name": "LabelModel",
      "state": {
       "layout": "IPY_MODEL_2f3be03c97c04e118d62c048e813bb15",
       "style": "IPY_MODEL_a889358d50e34b2a9bea976b3ed3f155",
       "value": "Platelength in m"
      }
     },
     "e6fb41e2fee24d859786919ca62f6d6b": {
      "model_module": "@jupyter-widgets/controls",
      "model_module_version": "1.5.0",
      "model_name": "HBoxModel",
      "state": {
       "children": [
        "IPY_MODEL_4ac3c89a85a3473aae8bee62b94155c6",
        "IPY_MODEL_c4a8f909a8ee45e4957032366ddbc995",
        "IPY_MODEL_4f0afc1c51cc4478b6cdd5395e114303"
       ],
       "layout": "IPY_MODEL_be3e2336c7484b4ba7b700bb41d72459"
      }
     },
     "e80c6b78e2f84be08fd55e9e3a9558b3": {
      "model_module": "@jupyter-widgets/controls",
      "model_module_version": "1.5.0",
      "model_name": "VBoxModel",
      "state": {
       "children": [
        "IPY_MODEL_2cfc58ec5c8544b0807ba878f4faa1dc",
        "IPY_MODEL_8ba2ee3f0a2f41c7aa13e8e295d4537e"
       ],
       "layout": "IPY_MODEL_f56900350147439c8d1e327a2976641e"
      }
     },
     "e9231ef1d0a446398c3387ee4b7d8494": {
      "model_module": "@jupyter-widgets/base",
      "model_module_version": "1.2.0",
      "model_name": "LayoutModel",
      "state": {
       "flex": "1 1 auto",
       "width": "auto"
      }
     },
     "e9d2e4d9755146799e5707282bc944d3": {
      "model_module": "@jupyter-widgets/base",
      "model_module_version": "1.2.0",
      "model_name": "LayoutModel",
      "state": {}
     },
     "e9f472151063404a82a0a3050e43eea2": {
      "model_module": "@jupyter-widgets/controls",
      "model_module_version": "1.5.0",
      "model_name": "DescriptionStyleModel",
      "state": {
       "description_width": ""
      }
     },
     "ea6b9315c3544ba3b6ebd314ba1477dd": {
      "model_module": "@jupyter-widgets/controls",
      "model_module_version": "1.5.0",
      "model_name": "BoundedFloatTextModel",
      "state": {
       "layout": "IPY_MODEL_c075ba53917243e488820a9d09a88b70",
       "max": 200,
       "min": 0.001,
       "step": 0.001,
       "style": "IPY_MODEL_494c8d72d45949af9e11cbf4550dcf55",
       "value": 20
      }
     },
     "eb255e1d9e424256b8d46f3880ffdf1d": {
      "model_module": "@jupyter-widgets/base",
      "model_module_version": "1.2.0",
      "model_name": "LayoutModel",
      "state": {
       "display": "flex",
       "width": "50%"
      }
     },
     "ec49c515fd284179883743beba21a38a": {
      "model_module": "@jupyter-widgets/controls",
      "model_module_version": "1.5.0",
      "model_name": "LabelModel",
      "state": {
       "layout": "IPY_MODEL_b27b586ff39a4863bc4c2502c0213a31",
       "style": "IPY_MODEL_264400c5ee1c47e080ec6d66dd306b98",
       "value": "Pressure in Pa:"
      }
     },
     "ed26d5d041204fd1a4a6734b5f92a1f8": {
      "model_module": "@jupyter-widgets/controls",
      "model_module_version": "1.5.0",
      "model_name": "HBoxModel",
      "state": {
       "children": [
        "IPY_MODEL_534d75b4d045422a8f6b7517cee1ce5a",
        "IPY_MODEL_493fb0ec04d746f495deca2425897265"
       ],
       "layout": "IPY_MODEL_6ae56b55df184c11ab40d0ff2c804f61"
      }
     },
     "ed935b1f9f7142228b626bbd8389596a": {
      "model_module": "@jupyter-widgets/base",
      "model_module_version": "1.2.0",
      "model_name": "LayoutModel",
      "state": {
       "flex": "10 1 auto",
       "width": "auto"
      }
     },
     "ee652b1c2ec5483286dcbf1fb07efafc": {
      "model_module": "@jupyter-widgets/controls",
      "model_module_version": "1.5.0",
      "model_name": "HBoxModel",
      "state": {
       "children": [
        "IPY_MODEL_e043da7e4f7f41a9935a99c9a1322f34",
        "IPY_MODEL_83089c704bbd44aba90914db2891510f",
        "IPY_MODEL_56dbdaafa38647399101d27b317270f9"
       ],
       "layout": "IPY_MODEL_bfacf4f4c6dd4cd897d6c0b620d1b76f"
      }
     },
     "eebd4c0e2dd44bfbb48b746654c8e114": {
      "model_module": "@jupyter-widgets/controls",
      "model_module_version": "1.5.0",
      "model_name": "SliderStyleModel",
      "state": {
       "description_width": ""
      }
     },
     "efc65a8bd9644937b0af54b60a8879a8": {
      "model_module": "@jupyter-widgets/controls",
      "model_module_version": "1.5.0",
      "model_name": "DescriptionStyleModel",
      "state": {
       "description_width": ""
      }
     },
     "efddfb54f9ad4424888f90d76e20ee6b": {
      "model_module": "@jupyter-widgets/base",
      "model_module_version": "1.2.0",
      "model_name": "LayoutModel",
      "state": {
       "flex": "1 1 auto",
       "width": "auto"
      }
     },
     "efef046060614c5c80342f2cbc7b2a86": {
      "model_module": "@jupyter-widgets/base",
      "model_module_version": "1.2.0",
      "model_name": "LayoutModel",
      "state": {
       "flex": "1 1 auto",
       "width": "auto"
      }
     },
     "f061d2d8c0e6414c8599b2a750ed660e": {
      "model_module": "@jupyter-widgets/controls",
      "model_module_version": "1.5.0",
      "model_name": "DescriptionStyleModel",
      "state": {
       "description_width": ""
      }
     },
     "f246ab41fac3444085ac6e90a4fd881b": {
      "model_module": "@jupyter-widgets/base",
      "model_module_version": "1.2.0",
      "model_name": "LayoutModel",
      "state": {
       "flex": "10 1 auto",
       "width": "auto"
      }
     },
     "f372224aec5e4370a84aa1300d263ca8": {
      "model_module": "@jupyter-widgets/controls",
      "model_module_version": "1.5.0",
      "model_name": "DropdownModel",
      "state": {
       "_options_labels": [
        "1-Butene",
        "Acetone",
        "Air",
        "Ammonia",
        "Argon",
        "Benzene",
        "CarbonDioxide",
        "CarbonMonoxide",
        "CarbonylSulfide",
        "CycloHexane",
        "CycloPropane",
        "Cyclopentane",
        "D4",
        "D5",
        "D6",
        "Deuterium",
        "Dichloroethane",
        "DiethylEther",
        "DimethylCarbonate",
        "DimethylEther",
        "Ethane",
        "Ethanol",
        "EthylBenzene",
        "Ethylene",
        "EthyleneOxide",
        "Fluorine",
        "HFE143m",
        "HeavyWater",
        "Helium",
        "Hydrogen",
        "HydrogenChloride",
        "HydrogenSulfide",
        "IsoButane",
        "IsoButene",
        "Isohexane",
        "Isopentane",
        "Krypton",
        "MD2M",
        "MD3M",
        "MD4M",
        "MDM",
        "MM",
        "Methane",
        "Methanol",
        "MethylLinoleate",
        "MethylLinolenate",
        "MethylOleate",
        "MethylPalmitate",
        "MethylStearate",
        "Neon",
        "Neopentane",
        "Nitrogen",
        "NitrousOxide",
        "Novec649",
        "OrthoDeuterium",
        "OrthoHydrogen",
        "Oxygen",
        "ParaDeuterium",
        "ParaHydrogen",
        "Propylene",
        "Propyne",
        "R11",
        "R113",
        "R114",
        "R115",
        "R116",
        "R12",
        "R123",
        "R1233zd(E)",
        "R1234yf",
        "R1234ze(E)",
        "R1234ze(Z)",
        "R124",
        "R1243zf",
        "R125",
        "R13",
        "R134a",
        "R13I1",
        "R14",
        "R141b",
        "R142b",
        "R143a",
        "R152A",
        "R161",
        "R21",
        "R218",
        "R22",
        "R227EA",
        "R23",
        "R236EA",
        "R236FA",
        "R245ca",
        "R245fa",
        "R32",
        "R365MFC",
        "R40",
        "R404A",
        "R407C",
        "R41",
        "R410A",
        "R507A",
        "RC318",
        "SES36",
        "SulfurDioxide",
        "SulfurHexafluoride",
        "Toluene",
        "Water",
        "Xenon",
        "cis-2-Butene",
        "m-Xylene",
        "n-Butane",
        "n-Decane",
        "n-Dodecane",
        "n-Heptane",
        "n-Hexane",
        "n-Nonane",
        "n-Octane",
        "n-Pentane",
        "n-Propane",
        "n-Undecane",
        "o-Xylene",
        "p-Xylene",
        "trans-2-Butene"
       ],
       "index": 2,
       "layout": "IPY_MODEL_098e3f4787224c3ba3bd8abd005ee315",
       "style": "IPY_MODEL_5fdd91339bac475ca5822613391e3e58"
      }
     },
     "f56900350147439c8d1e327a2976641e": {
      "model_module": "@jupyter-widgets/base",
      "model_module_version": "1.2.0",
      "model_name": "LayoutModel",
      "state": {}
     },
     "f5a20e7b82434661a6d086b839d8c5a6": {
      "model_module": "@jupyter-widgets/output",
      "model_module_version": "1.0.0",
      "model_name": "OutputModel",
      "state": {
       "layout": "IPY_MODEL_72512a93b2474c08bcc62193524010ee",
       "outputs": [
        {
         "data": {
          "image/png": "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\n",
          "text/plain": "<Figure size 1800x1200 with 1 Axes>"
         },
         "metadata": {
          "needs_background": "light"
         },
         "output_type": "display_data"
        }
       ]
      }
     },
     "f691e0bcd4fb421a91837aa7cad2cf77": {
      "model_module": "@jupyter-widgets/controls",
      "model_module_version": "1.5.0",
      "model_name": "LabelModel",
      "state": {
       "layout": "IPY_MODEL_30c7692e90e445a9b98e98d0d6ab2d94",
       "style": "IPY_MODEL_2cc8e381eff24a06929882b3a441c675",
       "value": "Temperature in °C:"
      }
     },
     "f6daff36d24e4abfb055b0a9e090cc59": {
      "model_module": "@jupyter-widgets/controls",
      "model_module_version": "1.5.0",
      "model_name": "SliderStyleModel",
      "state": {
       "description_width": ""
      }
     },
     "f9a7a9ed4b4d49509cf8829dc1d8c03a": {
      "model_module": "@jupyter-widgets/base",
      "model_module_version": "1.2.0",
      "model_name": "LayoutModel",
      "state": {
       "display": "flex",
       "width": "50%"
      }
     },
     "fb4a1ddcc97647f18d0d204c87e58e49": {
      "model_module": "@jupyter-widgets/base",
      "model_module_version": "1.2.0",
      "model_name": "LayoutModel",
      "state": {
       "display": "flex",
       "width": "50%"
      }
     }
    },
    "version_major": 2,
    "version_minor": 0
   }
  }
 },
 "nbformat": 4,
 "nbformat_minor": 4
}
