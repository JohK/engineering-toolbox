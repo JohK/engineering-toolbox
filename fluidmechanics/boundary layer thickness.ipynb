{
 "cells": [
  {
   "cell_type": "code",
   "execution_count": 92,
   "metadata": {},
   "outputs": [
    {
     "data": {
      "application/vnd.jupyter.widget-view+json": {
       "model_id": "0125563053c5423da8eafbcaddb410a3",
       "version_major": 2,
       "version_minor": 0
      },
      "text/plain": [
       "Canvas(toolbar=Toolbar(toolitems=[('Home', 'Reset original view', 'home', 'home'), ('Back', 'Back to previous …"
      ]
     },
     "metadata": {},
     "output_type": "display_data"
    },
    {
     "data": {
      "text/markdown": [
       "&nbsp;<a href=\"https://nuflo.de\"><img hspace=\"45%\" align=\"middle\" src=\"../_libtoolbox/nuflo-logo-N-512x512.png\" alt=\"logo-N\" width=\"8%\" /></a>\n",
       "\n",
       "<center><h1>nuflo Engineering Toolbox</h1></center>\n",
       "\n",
       "[nuflo is an engineering company](https://nuflo.de) that supports digitalization of engineering processes in fluid mechanics.\n",
       "\n",
       "After a period of inactivity you may need to reload the webpage for the tool to work properly. If you find yourself using these tools a lot, consider a local installation. Please feel free to contact us at johannes.kneer@nuflo.de for support.\n",
       "\n",
       "*The code for this tool can be found over at [github](https://github.com/JohK/engineering-toolbox).*  \n",
       "*More interactive tools are located at [toolbox.nuflo.de](http://toolbox.nuflo.de).*\n",
       "\n",
       "\n"
      ],
      "text/plain": [
       "<IPython.core.display.Markdown object>"
      ]
     },
     "metadata": {},
     "output_type": "display_data"
    }
   ],
   "source": [
    "%matplotlib widget\n",
    "%run '../_libtoolbox/init-notebook.py'\n",
    "%run '../_libtoolbox/tbwidgets.py'\n",
    "%run '../_libtoolbox/layout.py'\n",
    "\n",
    "__version__ = '2102'\n",
    "\n",
    "header()"
   ]
  },
  {
   "cell_type": "markdown",
   "metadata": {},
   "source": [
    "Boundary Layer Thickness on a Flat Plate\n",
    "---\n",
    "This is a tool for a quick estimation of the boundary layer thickness on a flat plate. For this estimation we use the momentum loss thickness based on two simple correlations:\n",
    "\n",
    "The momentum loss thickness of a laminar boundary layer $\\delta_l$ (Blasius solution):\n",
    "$$ \\delta_l = 0.664 \\cdot \\sqrt{\\frac{\\nu \\cdot x}{u}} $$\n",
    "\n",
    "For a turbulent flow:\n",
    "$$ \\delta_t = 0.0142 \\cdot x \\cdot \\left(\\frac{u\\cdot x}{\\nu}\\right)^\\left(-\\frac{1}{7}\\right) $$\n",
    "\n",
    "Depending on the physical problem these may not be the right choice, if unsure ask an experienced engineer.\n",
    "\n",
    "Reference: Schlichting - Boundary Layer Theory (Chapter 6.5)"
   ]
  },
  {
   "cell_type": "code",
   "execution_count": 93,
   "metadata": {},
   "outputs": [],
   "source": [
    "def momentum_boundarylayer(x, u, gas):\n",
    "    x = np.asarray(x)\n",
    "    if x.ndim == 0:\n",
    "        x = x[np.newaxis]\n",
    "        \n",
    "    rho = gas.density\n",
    "    nu = gas.kinematic_viscosity\n",
    "    \n",
    "    transition = {'position': np.nan,\n",
    "                  'value': np.nan,\n",
    "                  'index': None}    \n",
    "    \n",
    "    fdelta_laminar = lambda x: 0.664*np.sqrt(nu*x/u)\n",
    "    fdelta_turbulent = lambda x: 0.0142*(u*x/nu)**(-1/7)*x\n",
    "    \n",
    "    blt_laminar = fdelta_laminar(x)\n",
    "    blt_turbulent = fdelta_turbulent(x)\n",
    "    \n",
    "    blt = np.vstack([blt_laminar, blt_turbulent]).max(axis=0)\n",
    "    \n",
    "    # find where laminar and turbulent boundary layer thickness intersect\n",
    "    sol = root_scalar(lambda x: fdelta_laminar(x)-fdelta_turbulent(x), bracket=[1e-6,10e6])\n",
    "\n",
    "    if sol.converged:\n",
    "        transition['position'] = sol.root\n",
    "        transition['value'] = fdelta_laminar(transition['position'])\n",
    "        transition['index'] = blt.searchsorted(transition['value'])\n",
    "\n",
    "    \n",
    "    return(blt,\n",
    "           transition,\n",
    "           blt_laminar,\n",
    "           blt_turbulent\n",
    "          )"
   ]
  },
  {
   "cell_type": "code",
   "execution_count": 94,
   "metadata": {},
   "outputs": [],
   "source": [
    "def plot_init():\n",
    "    fig = plt.figure(figsize=(4, 4), dpi=100, constrained_layout=False)\n",
    "    fig.canvas.header_visible = False\n",
    "    fig.canvas.toolbar_visible = True\n",
    "    fig.canvas.resizable = True\n",
    "    fig.canvas.layout.min_height = '300px'\n",
    "    fig.canvas.layout.min_width = '400px'\n",
    "    fig.canvas.layout.flex='1 1 auto'\n",
    "    fig.canvas.layout.width = 'auto'\n",
    "    \n",
    "    blgline, = plt.plot(0, 0, '--', color='0.8', lw=0.8)\n",
    "    blline, = plt.plot(0, 0, '-k', label='boundary layer thickness')\n",
    "    trline, = plt.plot(0, 0, '.', label='laminar-turbulent transition')\n",
    "    warningtext = plt.text(0.2, 0.5,\n",
    "                            'Data not available, or\\nnot a fluid in the property range',\n",
    "                            transform=plt.gca().transAxes, \n",
    "                            bbox=dict(facecolor='red', alpha=0.2))\n",
    "    plt.legend()\n",
    "    plt.xlabel('length of flat plate in m')\n",
    "    plt.ylabel('boundary layer thickness in mm')\n",
    "    \n",
    "    plt.grid()\n",
    "    #plt.show()\n",
    "\n",
    "#    fig.canvas.layout.display = 'flex'\n",
    "    #fig.canvas.layout.height = '600px'\n",
    "    \n",
    "    def update(platelength, u, pressure, temperature, gasname):\n",
    "        g = gas.state(gasname, 273.15+temperature, pressure)\n",
    "        desc = '{:s}: T={:.1f}°C, p={:.3f}bar'.format(gasname, temperature, pressure/1e5)\n",
    "        x = np.linspace(0.0000001, platelength, num=1000)\n",
    "        fig.gca().set_title(desc)\n",
    "        if not np.isnan(g.density):\n",
    "            bl, transition, bl_lam, bl_turb = momentum_boundarylayer(x, u, g)\n",
    "            if transition['index']:\n",
    "                trline.set_xdata(transition['position'])\n",
    "                trline.set_ydata(transition['value']*1000)\n",
    "                blgline.set_xdata(x)\n",
    "                blgline.set_ydata(\n",
    "                    np.concatenate((bl_turb[:transition['index']],\n",
    "                                    bl_lam[transition['index']:]))*1000\n",
    "                )\n",
    "            warningtext.set_visible(False)\n",
    "            blline.set_xdata(x)\n",
    "            blline.set_ydata(bl*1000)\n",
    "            fig.gca().set_xlim([0, platelength])\n",
    "            fig.gca().set_ylim([0, np.max(bl)*1000])\n",
    "        else:\n",
    "            warningtext.set_visible(True)\n",
    "            blline.set_xdata(0)\n",
    "            blline.set_ydata(0)\n",
    "            blgline.set_xdata(0)\n",
    "            blgline.set_ydata(0)\n",
    "            trline.set_xdata(0)\n",
    "            trline.set_ydata(0)\n",
    "            \n",
    "        fig.canvas.draw_idle()\n",
    "        \n",
    "    #def resize(event):\n",
    "    #    print('resize')\n",
    "    #    dpi = fig.get_dpi()\n",
    "    #    #fig.set_size_inches(event.width/dpi, event.height/dpi)\n",
    "    #    warningtext.set_visible(True)\n",
    "    #    warningtext.set_text(event.width/dpi)\n",
    "        \n",
    "    #fig.canvas.mpl_connect('resize_event', resize)\n",
    "            \n",
    "    return update\n",
    "        "
   ]
  },
  {
   "cell_type": "code",
   "execution_count": 95,
   "metadata": {},
   "outputs": [
    {
     "data": {
      "application/vnd.jupyter.widget-view+json": {
       "model_id": "97662390629049e3b70b4bf565d3f7ff",
       "version_major": 2,
       "version_minor": 0
      },
      "text/plain": [
       "Canvas(toolbar=Toolbar(toolitems=[('Home', 'Reset original view', 'home', 'home'), ('Back', 'Back to previous …"
      ]
     },
     "metadata": {},
     "output_type": "display_data"
    },
    {
     "data": {
      "application/vnd.jupyter.widget-view+json": {
       "model_id": "b0bd971707b94caebb80c809833480df",
       "version_major": 2,
       "version_minor": 0
      },
      "text/plain": [
       "Accordion(children=(VBox(children=(HBox(children=(Label(value='Pressure in Pa:', layout=Layout(flex='1 1 auto'…"
      ]
     },
     "metadata": {},
     "output_type": "display_data"
    },
    {
     "data": {
      "application/vnd.jupyter.widget-view+json": {
       "model_id": "637e49c382da4eef9ba4801ab2807415",
       "version_major": 2,
       "version_minor": 0
      },
      "text/plain": [
       "Output(layout=Layout(display='flex', width='100%'))"
      ]
     },
     "metadata": {},
     "output_type": "display_data"
    }
   ],
   "source": [
    "gas_dropdown = widgets.Dropdown(options=gas.state.fluids_list(), value='Air')\n",
    "\n",
    "pwidget, pslider, _ = quantity('Pressure in Pa:', min=1, max=150e5, step=1e5, value=101325)\n",
    "Twidget, Tslider, _ = quantity('Temperature in °C:', min=-30, max=55, step=1, value=20)\n",
    "\n",
    "thermostate = widgets.VBox([\n",
    "    pwidget,\n",
    "    Twidget,\n",
    "    widgets.HBox([widgets.Label('Gas / Specie Mixture:'), gas_dropdown])\n",
    "])\n",
    "\n",
    "platewidget, plateslider, _ = quantity('Platelength in m', min=0.001, max=10, step=0.001, value=0.1)\n",
    "uwidget, uslider, _ = quantity('Velocity in m/s:', min=0.001, max=200, step=0.001, value=20)\n",
    "\n",
    "flow = widgets.VBox([platewidget, uwidget])\n",
    "\n",
    "accordion = widgets.Accordion(children=[thermostate, flow])\n",
    "accordion.set_title(0, 'Thermodynamic State')\n",
    "accordion.set_title(1, 'Flat Plate')\n",
    "\n",
    "def interactive_output(f, controls, layout=None):\n",
    "    \"\"\"Connect widget controls to a function.\n",
    "    This function does not generate a user interface for the widgets (unlike `interact`).\n",
    "    This enables customisation of the widget user interface layout.\n",
    "    The user interface layout must be defined and displayed manually.\n",
    "    \"\"\"\n",
    "    from IPython.display import clear_output\n",
    "    out = widgets.Output(layout=layout)\n",
    "    def observer(change):\n",
    "        kwargs = {k:v.value for k,v in controls.items()}\n",
    "        #widgets.show_inline_matplotlib_plots()\n",
    "        with out:\n",
    "            \n",
    "            clear_output(wait=True)\n",
    "            f(**kwargs)\n",
    "            #widgets.show_inline_matplotlib_plots()\n",
    "    for k,w in controls.items():\n",
    "        w.observe(observer, 'value')\n",
    "    #widgets.show_inline_matplotlib_plots()\n",
    "    observer(None)\n",
    "    return out\n",
    "\n",
    "update_plot = plot_init()\n",
    "#interactive_plot = widget.Output(widgets.Layout(display='flex', width='100%'))\n",
    "\n",
    "interactive_plot = interactive_output(update_plot,\n",
    "                                      {'platelength': plateslider,\n",
    "                                       'u': uslider,\n",
    "                                       'pressure': pslider,\n",
    "                                       'temperature': Tslider,\n",
    "                                       'gasname': gas_dropdown},\n",
    "                                     layout=widgets.Layout(display='flex', width='100%'))\n",
    "#interactive_plot.layout = widgets.Layout(display='flex', width='100%')\n",
    "\n",
    "display(accordion, interactive_plot)"
   ]
  },
  {
   "cell_type": "code",
   "execution_count": 91,
   "metadata": {},
   "outputs": [
    {
     "data": {
      "text/markdown": [
       "\n",
       "<div style='position: fixed; left: 0; bottom: 0; width: 100%; background-color: #f7b500; color: #000000; text-align: center; vertical-align: middle; padding: 10px'> \n",
       "<b><a style='color: #000000;' href=\"https://nuflo.de/\"><img src=\"../_libtoolbox/nuflo-logo-N-512x512.png\" alt=\"logo-N\" width=\"16px\" />&nbsp;&nbsp;&nbsp;nuflo</a></b>&nbsp;&nbsp;&nbsp;version: 2102</div>"
      ],
      "text/plain": [
       "<IPython.core.display.Markdown object>"
      ]
     },
     "metadata": {},
     "output_type": "display_data"
    }
   ],
   "source": [
    "footer(__version__)"
   ]
  },
  {
   "cell_type": "code",
   "execution_count": null,
   "metadata": {},
   "outputs": [],
   "source": []
  }
 ],
 "metadata": {
  "kernelspec": {
   "display_name": "Python 3",
   "language": "python",
   "name": "python3"
  },
  "language_info": {
   "codemirror_mode": {
    "name": "ipython",
    "version": 3
   },
   "file_extension": ".py",
   "mimetype": "text/x-python",
   "name": "python",
   "nbconvert_exporter": "python",
   "pygments_lexer": "ipython3",
   "version": "3.8.6"
  },
  "widgets": {
   "application/vnd.jupyter.widget-state+json": {
    "state": {
     "003be9464f294baab1c0345dd4d19e29": {
      "model_module": "@jupyter-widgets/base",
      "model_module_version": "1.2.0",
      "model_name": "LayoutModel",
      "state": {}
     },
     "00537d8d9a1044c5ac3436eeb6834291": {
      "model_module": "@jupyter-widgets/controls",
      "model_module_version": "1.5.0",
      "model_name": "DescriptionStyleModel",
      "state": {
       "description_width": ""
      }
     },
     "0071ac99dfa446e1a838ab756b9dc317": {
      "model_module": "@jupyter-widgets/base",
      "model_module_version": "1.2.0",
      "model_name": "LayoutModel",
      "state": {}
     },
     "007cec7346b84757bca9eda028d1e2cd": {
      "model_module": "@jupyter-widgets/controls",
      "model_module_version": "1.5.0",
      "model_name": "DescriptionStyleModel",
      "state": {
       "description_width": ""
      }
     },
     "008c6ed283484dfda813d3ef3f1a213e": {
      "model_module": "@jupyter-widgets/controls",
      "model_module_version": "1.5.0",
      "model_name": "SliderStyleModel",
      "state": {
       "description_width": ""
      }
     },
     "008fac406f194fbbb5d3b2739332ccdc": {
      "model_module": "@jupyter-widgets/base",
      "model_module_version": "1.2.0",
      "model_name": "LayoutModel",
      "state": {}
     },
     "00ed5241b0ed4ff3af61ec1302e6a3a3": {
      "model_module": "@jupyter-widgets/controls",
      "model_module_version": "1.5.0",
      "model_name": "SliderStyleModel",
      "state": {
       "description_width": ""
      }
     },
     "0124341ed41c43e3ad2fcb0035e93340": {
      "model_module": "@jupyter-widgets/controls",
      "model_module_version": "1.5.0",
      "model_name": "SliderStyleModel",
      "state": {
       "description_width": ""
      }
     },
     "0130f751450a4d678e364ff97eca0a93": {
      "model_module": "@jupyter-widgets/controls",
      "model_module_version": "1.5.0",
      "model_name": "LabelModel",
      "state": {
       "layout": "IPY_MODEL_cae0d4ac06d34c70ab60980e760945f6",
       "style": "IPY_MODEL_d2bc466d27424a78bb4a1361376de893",
       "value": "Temperature in °C:"
      }
     },
     "01800b465ed649389dec0782a8dd45a5": {
      "model_module": "@jupyter-widgets/base",
      "model_module_version": "1.2.0",
      "model_name": "LayoutModel",
      "state": {
       "display": "flex",
       "width": "100%"
      }
     },
     "01e73c8c08d94fadb28fbd1816fabaf3": {
      "model_module": "@jupyter-widgets/controls",
      "model_module_version": "1.5.0",
      "model_name": "HBoxModel",
      "state": {
       "children": [
        "IPY_MODEL_487195dfe6ea4907bf91487b3dc4a54d",
        "IPY_MODEL_3ec241172801437b9bec3adabe54eeed"
       ],
       "layout": "IPY_MODEL_0df9e1a836e24e60a31c12489bdbbdff"
      }
     },
     "01efee24e91740b4a606e51bef45a3ae": {
      "model_module": "@jupyter-widgets/base",
      "model_module_version": "1.2.0",
      "model_name": "LayoutModel",
      "state": {
       "flex": "10 1 auto",
       "width": "auto"
      }
     },
     "01f81e1932cb4fa98bd3ca8c825296fd": {
      "model_module": "@jupyter-widgets/base",
      "model_module_version": "1.2.0",
      "model_name": "LayoutModel",
      "state": {
       "flex": "10 1 auto",
       "width": "auto"
      }
     },
     "0224a56a25fe4691a61834e3180ac937": {
      "model_module": "@jupyter-widgets/controls",
      "model_module_version": "1.5.0",
      "model_name": "DescriptionStyleModel",
      "state": {
       "description_width": ""
      }
     },
     "0252eb00f14b4558919a25c4a53bf8d3": {
      "model_module": "@jupyter-widgets/controls",
      "model_module_version": "1.5.0",
      "model_name": "DescriptionStyleModel",
      "state": {
       "description_width": ""
      }
     },
     "027d6d18aadc4c48b6847b5dffb400ac": {
      "model_module": "@jupyter-widgets/base",
      "model_module_version": "1.2.0",
      "model_name": "LayoutModel",
      "state": {}
     },
     "029624500c1c42f39a84a582b3d0e5a1": {
      "model_module": "@jupyter-widgets/base",
      "model_module_version": "1.2.0",
      "model_name": "LayoutModel",
      "state": {
       "display": "flex",
       "flex_flow": "row"
      }
     },
     "02aa8370759f4a3b979baad4a00d4df8": {
      "model_module": "@jupyter-widgets/base",
      "model_module_version": "1.2.0",
      "model_name": "LayoutModel",
      "state": {
       "display": "flex",
       "width": "100%"
      }
     },
     "02b1b5b29ba04e278c271d8e140b704b": {
      "model_module": "@jupyter-widgets/base",
      "model_module_version": "1.2.0",
      "model_name": "LayoutModel",
      "state": {
       "display": "flex",
       "flex_flow": "row"
      }
     },
     "02bd85daecb74d11ad31f16cc0981bb2": {
      "model_module": "@jupyter-widgets/base",
      "model_module_version": "1.2.0",
      "model_name": "LayoutModel",
      "state": {}
     },
     "031e68bc793d438591ce2016718fe08b": {
      "model_module": "@jupyter-widgets/controls",
      "model_module_version": "1.5.0",
      "model_name": "LabelModel",
      "state": {
       "layout": "IPY_MODEL_56cc158e5c2b43bb96ba75437e8f7409",
       "style": "IPY_MODEL_31412183232a4a3199ef69565ce0794a",
       "value": "Gas / Specie Mixture:"
      }
     },
     "0341fac21dd74966bfcacfe8adebb4b4": {
      "model_module": "@jupyter-widgets/controls",
      "model_module_version": "1.5.0",
      "model_name": "HBoxModel",
      "state": {
       "children": [
        "IPY_MODEL_67b66c13a87646df9fd4491226503d7c",
        "IPY_MODEL_84bf277f9f064e1dad211f98a3aafba3",
        "IPY_MODEL_9525c660484f4f5da7237cda56f9cc81"
       ],
       "layout": "IPY_MODEL_469e383a75904f439cbf02cde50ae161"
      }
     },
     "0371f67d75f84de2b697e8650009c5f6": {
      "model_module": "@jupyter-widgets/controls",
      "model_module_version": "1.5.0",
      "model_name": "BoundedFloatTextModel",
      "state": {
       "layout": "IPY_MODEL_a3f07567601c4375885a5b9191e49e2a",
       "max": 55,
       "min": -30,
       "step": 1,
       "style": "IPY_MODEL_2eeba9f63ce749a780809a7cc9afd7fb",
       "value": 20
      }
     },
     "03a11590b1324e5280e431860093ba69": {
      "model_module": "@jupyter-widgets/base",
      "model_module_version": "1.2.0",
      "model_name": "LayoutModel",
      "state": {
       "display": "flex",
       "width": "100%"
      }
     },
     "03bf775efbde4ddf961ca73b9b7ae0c0": {
      "model_module": "@jupyter-widgets/controls",
      "model_module_version": "1.5.0",
      "model_name": "BoundedFloatTextModel",
      "state": {
       "layout": "IPY_MODEL_e0493721013a4c6aacdab9861ab59b45",
       "max": 15000000,
       "min": 1,
       "step": 100000,
       "style": "IPY_MODEL_640ee404f49b416fa68a975902e3e698",
       "value": 101325
      }
     },
     "03ee94235c0b412fba4a658ec305520f": {
      "model_module": "@jupyter-widgets/base",
      "model_module_version": "1.2.0",
      "model_name": "LayoutModel",
      "state": {}
     },
     "03f336d2db964f89ae7008286ef0da48": {
      "model_module": "@jupyter-widgets/controls",
      "model_module_version": "1.5.0",
      "model_name": "LabelModel",
      "state": {
       "layout": "IPY_MODEL_50875a4794d34c6383f33f452138f17e",
       "style": "IPY_MODEL_e22eb81a0ba04a2cb0dc3c6cd427e40b",
       "value": "Pressure in Pa:"
      }
     },
     "0425fa3674024001b62bb459e713c534": {
      "model_module": "@jupyter-widgets/base",
      "model_module_version": "1.2.0",
      "model_name": "LayoutModel",
      "state": {
       "display": "flex",
       "width": "100%"
      }
     },
     "0464df78296642848327def8aec9d2e1": {
      "model_module": "@jupyter-widgets/base",
      "model_module_version": "1.2.0",
      "model_name": "LayoutModel",
      "state": {}
     },
     "049fc604f87f46fbb47bc2f355e6fc46": {
      "model_module": "@jupyter-widgets/base",
      "model_module_version": "1.2.0",
      "model_name": "LayoutModel",
      "state": {
       "display": "flex",
       "flex_flow": "row"
      }
     },
     "051e98533afa4f4980bf3f568b7a3699": {
      "model_module": "@jupyter-widgets/base",
      "model_module_version": "1.2.0",
      "model_name": "LayoutModel",
      "state": {
       "display": "flex",
       "flex_flow": "row"
      }
     },
     "055f24484e9446cf85dd74f64a4b9ed5": {
      "model_module": "@jupyter-widgets/base",
      "model_module_version": "1.2.0",
      "model_name": "LayoutModel",
      "state": {
       "flex": "10 1 auto",
       "width": "auto"
      }
     },
     "056d59ec64154dcba94306b796369361": {
      "model_module": "@jupyter-widgets/controls",
      "model_module_version": "1.5.0",
      "model_name": "DescriptionStyleModel",
      "state": {
       "description_width": ""
      }
     },
     "057dede7bb534c9cb8c8d7dc9f44ab0c": {
      "model_module": "@jupyter-widgets/base",
      "model_module_version": "1.2.0",
      "model_name": "LayoutModel",
      "state": {
       "display": "flex",
       "min_height": "300px",
       "width": "100%"
      }
     },
     "05ab5b7b33a64e5db3769f9ac9fb2a29": {
      "model_module": "@jupyter-widgets/controls",
      "model_module_version": "1.5.0",
      "model_name": "BoundedFloatTextModel",
      "state": {
       "layout": "IPY_MODEL_883bc49cec114df5954a17e912c30fb9",
       "max": 200,
       "min": 0.001,
       "step": 0.001,
       "style": "IPY_MODEL_bd75a23311bb4c3b9bcddb0ceb1def4d",
       "value": 20
      }
     },
     "05bad4dc6bac4ae481f44e56fc454d37": {
      "model_module": "@jupyter-widgets/base",
      "model_module_version": "1.2.0",
      "model_name": "LayoutModel",
      "state": {
       "flex": "1 1 auto",
       "width": "auto"
      }
     },
     "05fc1d04c6c345df950546ce3ce7443d": {
      "model_module": "@jupyter-widgets/controls",
      "model_module_version": "1.5.0",
      "model_name": "HBoxModel",
      "state": {
       "children": [
        "IPY_MODEL_16b1f85f7c20490db98b17261fe5510e",
        "IPY_MODEL_12079a798a4246b68ddf36d952c6595f"
       ],
       "layout": "IPY_MODEL_3a2c43234ce547ef86250a437d70df50"
      }
     },
     "05fd667b39c64affa535d3d2fac57b70": {
      "model_module": "@jupyter-widgets/controls",
      "model_module_version": "1.5.0",
      "model_name": "BoundedFloatTextModel",
      "state": {
       "layout": "IPY_MODEL_f490d7003b5849019072d5276f5d1300",
       "max": 10,
       "min": 0.001,
       "step": 0.001,
       "style": "IPY_MODEL_d1797ae72c164bfaa69cf643ee104ce6",
       "value": 0.1
      }
     },
     "060753671b9140b498455f2d2f9b5b6e": {
      "model_module": "@jupyter-widgets/base",
      "model_module_version": "1.2.0",
      "model_name": "LayoutModel",
      "state": {}
     },
     "060a66a3d04d4dff98bf0e516f98a5b6": {
      "model_module": "@jupyter-widgets/controls",
      "model_module_version": "1.5.0",
      "model_name": "BoundedFloatTextModel",
      "state": {
       "layout": "IPY_MODEL_8148cb6569364d758927f0b6d678060b",
       "max": 10,
       "min": 0.001,
       "step": 0.001,
       "style": "IPY_MODEL_0d9056354c2d466194044abbc1b5b167",
       "value": 0.1
      }
     },
     "061d5b5700e444028576a989d59a84ff": {
      "model_module": "@jupyter-widgets/controls",
      "model_module_version": "1.5.0",
      "model_name": "HBoxModel",
      "state": {
       "children": [
        "IPY_MODEL_031e68bc793d438591ce2016718fe08b",
        "IPY_MODEL_7d696d57d5624a1fb60c4ec76acff46a"
       ],
       "layout": "IPY_MODEL_abddbf1c3bca43d4b42c4fb36a974fb5"
      }
     },
     "06347a86447d4b05b08d194f9cb697f4": {
      "model_module": "@jupyter-widgets/controls",
      "model_module_version": "1.5.0",
      "model_name": "DescriptionStyleModel",
      "state": {
       "description_width": ""
      }
     },
     "0648cbfba9aa45ee9bd234099bfd04e4": {
      "model_module": "@jupyter-widgets/base",
      "model_module_version": "1.2.0",
      "model_name": "LayoutModel",
      "state": {}
     },
     "06553a33e4c242a9a5da4273606b3e03": {
      "model_module": "@jupyter-widgets/controls",
      "model_module_version": "1.5.0",
      "model_name": "FloatSliderModel",
      "state": {
       "layout": "IPY_MODEL_a0f5c35bba224b9f8b0fcc46562e637a",
       "max": 200,
       "min": 0.001,
       "readout": false,
       "step": 0.001,
       "style": "IPY_MODEL_6c749a71285742d4a53c42baf8014ede",
       "value": 20
      }
     },
     "06879a1e01924ff7bbf69219a4e6e59c": {
      "model_module": "@jupyter-widgets/controls",
      "model_module_version": "1.5.0",
      "model_name": "SliderStyleModel",
      "state": {
       "description_width": ""
      }
     },
     "069df7de08ed455e85a4d1a2ba38614c": {
      "model_module": "@jupyter-widgets/controls",
      "model_module_version": "1.5.0",
      "model_name": "FloatSliderModel",
      "state": {
       "layout": "IPY_MODEL_435e2c1dedfb4d43bc7a96e8da2f7faf",
       "max": 15000000,
       "min": 1,
       "readout": false,
       "step": 100000,
       "style": "IPY_MODEL_ccb7d0c9f101474d94b94faad9492f2a",
       "value": 101325
      }
     },
     "06e15071207a498482c6b7918d5e6c22": {
      "model_module": "@jupyter-widgets/controls",
      "model_module_version": "1.5.0",
      "model_name": "DropdownModel",
      "state": {
       "_options_labels": [
        "1-Butene",
        "Acetone",
        "Air",
        "Ammonia",
        "Argon",
        "Benzene",
        "CarbonDioxide",
        "CarbonMonoxide",
        "CarbonylSulfide",
        "CycloHexane",
        "CycloPropane",
        "Cyclopentane",
        "D4",
        "D5",
        "D6",
        "Deuterium",
        "Dichloroethane",
        "DiethylEther",
        "DimethylCarbonate",
        "DimethylEther",
        "Ethane",
        "Ethanol",
        "EthylBenzene",
        "Ethylene",
        "EthyleneOxide",
        "Fluorine",
        "HFE143m",
        "HeavyWater",
        "Helium",
        "Hydrogen",
        "HydrogenChloride",
        "HydrogenSulfide",
        "IsoButane",
        "IsoButene",
        "Isohexane",
        "Isopentane",
        "Krypton",
        "MD2M",
        "MD3M",
        "MD4M",
        "MDM",
        "MM",
        "Methane",
        "Methanol",
        "MethylLinoleate",
        "MethylLinolenate",
        "MethylOleate",
        "MethylPalmitate",
        "MethylStearate",
        "Neon",
        "Neopentane",
        "Nitrogen",
        "NitrousOxide",
        "Novec649",
        "OrthoDeuterium",
        "OrthoHydrogen",
        "Oxygen",
        "ParaDeuterium",
        "ParaHydrogen",
        "Propylene",
        "Propyne",
        "R11",
        "R113",
        "R114",
        "R115",
        "R116",
        "R12",
        "R123",
        "R1233zd(E)",
        "R1234yf",
        "R1234ze(E)",
        "R1234ze(Z)",
        "R124",
        "R1243zf",
        "R125",
        "R13",
        "R134a",
        "R13I1",
        "R14",
        "R141b",
        "R142b",
        "R143a",
        "R152A",
        "R161",
        "R21",
        "R218",
        "R22",
        "R227EA",
        "R23",
        "R236EA",
        "R236FA",
        "R245ca",
        "R245fa",
        "R32",
        "R365MFC",
        "R40",
        "R404A",
        "R407C",
        "R41",
        "R410A",
        "R507A",
        "RC318",
        "SES36",
        "SulfurDioxide",
        "SulfurHexafluoride",
        "Toluene",
        "Water",
        "Xenon",
        "cis-2-Butene",
        "m-Xylene",
        "n-Butane",
        "n-Decane",
        "n-Dodecane",
        "n-Heptane",
        "n-Hexane",
        "n-Nonane",
        "n-Octane",
        "n-Pentane",
        "n-Propane",
        "n-Undecane",
        "o-Xylene",
        "p-Xylene",
        "trans-2-Butene"
       ],
       "index": 2,
       "layout": "IPY_MODEL_b33fb244922c423fa2ff6312de4a6b8f",
       "style": "IPY_MODEL_86d3e8d7b0f54ba2b523b3bb9aca73f6"
      }
     },
     "06e9fdefb7e5489fa7d7a04c4049b466": {
      "model_module": "@jupyter-widgets/base",
      "model_module_version": "1.2.0",
      "model_name": "LayoutModel",
      "state": {
       "display": "flex",
       "width": "100%"
      }
     },
     "071e35956d3e480b957b74422e1c518d": {
      "model_module": "@jupyter-widgets/base",
      "model_module_version": "1.2.0",
      "model_name": "LayoutModel",
      "state": {
       "display": "flex",
       "flex_flow": "row"
      }
     },
     "075ca536cf3d423eb77f690ad0bae21a": {
      "model_module": "@jupyter-widgets/base",
      "model_module_version": "1.2.0",
      "model_name": "LayoutModel",
      "state": {}
     },
     "0769f1b97e354f1db4236beb3f57fc5d": {
      "model_module": "@jupyter-widgets/base",
      "model_module_version": "1.2.0",
      "model_name": "LayoutModel",
      "state": {
       "display": "flex",
       "min_height": "300px",
       "width": "100%"
      }
     },
     "07a8eb9719d94dc0930ca23964903d84": {
      "model_module": "@jupyter-widgets/base",
      "model_module_version": "1.2.0",
      "model_name": "LayoutModel",
      "state": {
       "flex": "1 1 auto",
       "width": "auto"
      }
     },
     "07c66149e4144836aa4761548d8963a5": {
      "model_module": "@jupyter-widgets/controls",
      "model_module_version": "1.5.0",
      "model_name": "SliderStyleModel",
      "state": {
       "description_width": ""
      }
     },
     "084bd43e443e4b75874776a386bff139": {
      "model_module": "@jupyter-widgets/base",
      "model_module_version": "1.2.0",
      "model_name": "LayoutModel",
      "state": {
       "flex": "1 1 auto",
       "width": "auto"
      }
     },
     "085d1a1c6b854fc0b6149b54155604ec": {
      "model_module": "@jupyter-widgets/controls",
      "model_module_version": "1.5.0",
      "model_name": "LabelModel",
      "state": {
       "layout": "IPY_MODEL_f1d8353de0e84bbb88e524eb8996cf08",
       "style": "IPY_MODEL_62ff006746c944c69507e26d58f0e8fe",
       "value": "Pressure in Pa:"
      }
     },
     "0868a8380b3e46988fac2a7f4fe61872": {
      "model_module": "@jupyter-widgets/controls",
      "model_module_version": "1.5.0",
      "model_name": "AccordionModel",
      "state": {
       "_titles": {
        "0": "Thermodynamic State",
        "1": "Flat Plate"
       },
       "children": [
        "IPY_MODEL_5d4bc762f1014c3aa88d3e85dc9dbd37",
        "IPY_MODEL_a996191a90364d9baa132b9931ea06d9"
       ],
       "layout": "IPY_MODEL_fbbad68ee8f34ec4a168b6f707faf2f6"
      }
     },
     "088cb5ae797040aab8ab2e02e1877752": {
      "model_module": "@jupyter-widgets/base",
      "model_module_version": "1.2.0",
      "model_name": "LayoutModel",
      "state": {
       "display": "flex",
       "width": "100%"
      }
     },
     "088ea383a2e04412b7a2d14507117646": {
      "model_module": "@jupyter-widgets/controls",
      "model_module_version": "1.5.0",
      "model_name": "AccordionModel",
      "state": {
       "_titles": {
        "0": "Thermodynamic State",
        "1": "Flat Plate"
       },
       "children": [
        "IPY_MODEL_371a1fbc47bd47d58509eed9b132711b",
        "IPY_MODEL_ffbe1cc1b94843aeb4367d7a8fbe3f6c"
       ],
       "layout": "IPY_MODEL_d34ffe4ad9bd422d8ae91148bb9fc395"
      }
     },
     "09574563ca6f4084b964030397742605": {
      "model_module": "@jupyter-widgets/controls",
      "model_module_version": "1.5.0",
      "model_name": "HBoxModel",
      "state": {
       "children": [
        "IPY_MODEL_a6ebd265097a4146a37dde9f607f29e6",
        "IPY_MODEL_09b9be1db4b64b6a9dd563cad6feadb8"
       ],
       "layout": "IPY_MODEL_c5fae627408f4938b9e909e80c12f4bb"
      }
     },
     "09576c1a529d43e2858d95f108936be0": {
      "model_module": "@jupyter-widgets/controls",
      "model_module_version": "1.5.0",
      "model_name": "FloatSliderModel",
      "state": {
       "layout": "IPY_MODEL_4804b46d3653498fbb9b0892a19bcecf",
       "max": 15000000,
       "min": 1,
       "readout": false,
       "step": 100000,
       "style": "IPY_MODEL_07c66149e4144836aa4761548d8963a5",
       "value": 101325
      }
     },
     "096c7543e08945b5965bb5352cfe883a": {
      "model_module": "@jupyter-widgets/base",
      "model_module_version": "1.2.0",
      "model_name": "LayoutModel",
      "state": {
       "display": "flex",
       "width": "100%"
      }
     },
     "0981c6bbe3484cc4b7ffcdbfd059c159": {
      "model_module": "@jupyter-widgets/controls",
      "model_module_version": "1.5.0",
      "model_name": "LabelModel",
      "state": {
       "layout": "IPY_MODEL_87ece380443b48b0a5eabda8d62a5559",
       "style": "IPY_MODEL_2ddb93f06df84b18b8a3a82535d9ab32",
       "value": "Gas / Specie Mixture:"
      }
     },
     "0982bd9feac447d8a87e5db50b01de20": {
      "model_module": "@jupyter-widgets/base",
      "model_module_version": "1.2.0",
      "model_name": "LayoutModel",
      "state": {
       "flex": "10 1 auto",
       "width": "auto"
      }
     },
     "09b9be1db4b64b6a9dd563cad6feadb8": {
      "model_module": "@jupyter-widgets/controls",
      "model_module_version": "1.5.0",
      "model_name": "DropdownModel",
      "state": {
       "_options_labels": [
        "1-Butene",
        "Acetone",
        "Air",
        "Ammonia",
        "Argon",
        "Benzene",
        "CarbonDioxide",
        "CarbonMonoxide",
        "CarbonylSulfide",
        "CycloHexane",
        "CycloPropane",
        "Cyclopentane",
        "D4",
        "D5",
        "D6",
        "Deuterium",
        "Dichloroethane",
        "DiethylEther",
        "DimethylCarbonate",
        "DimethylEther",
        "Ethane",
        "Ethanol",
        "EthylBenzene",
        "Ethylene",
        "EthyleneOxide",
        "Fluorine",
        "HFE143m",
        "HeavyWater",
        "Helium",
        "Hydrogen",
        "HydrogenChloride",
        "HydrogenSulfide",
        "IsoButane",
        "IsoButene",
        "Isohexane",
        "Isopentane",
        "Krypton",
        "MD2M",
        "MD3M",
        "MD4M",
        "MDM",
        "MM",
        "Methane",
        "Methanol",
        "MethylLinoleate",
        "MethylLinolenate",
        "MethylOleate",
        "MethylPalmitate",
        "MethylStearate",
        "Neon",
        "Neopentane",
        "Nitrogen",
        "NitrousOxide",
        "Novec649",
        "OrthoDeuterium",
        "OrthoHydrogen",
        "Oxygen",
        "ParaDeuterium",
        "ParaHydrogen",
        "Propylene",
        "Propyne",
        "R11",
        "R113",
        "R114",
        "R115",
        "R116",
        "R12",
        "R123",
        "R1233zd(E)",
        "R1234yf",
        "R1234ze(E)",
        "R1234ze(Z)",
        "R124",
        "R1243zf",
        "R125",
        "R13",
        "R134a",
        "R13I1",
        "R14",
        "R141b",
        "R142b",
        "R143a",
        "R152A",
        "R161",
        "R21",
        "R218",
        "R22",
        "R227EA",
        "R23",
        "R236EA",
        "R236FA",
        "R245ca",
        "R245fa",
        "R32",
        "R365MFC",
        "R40",
        "R404A",
        "R407C",
        "R41",
        "R410A",
        "R507A",
        "RC318",
        "SES36",
        "SulfurDioxide",
        "SulfurHexafluoride",
        "Toluene",
        "Water",
        "Xenon",
        "cis-2-Butene",
        "m-Xylene",
        "n-Butane",
        "n-Decane",
        "n-Dodecane",
        "n-Heptane",
        "n-Hexane",
        "n-Nonane",
        "n-Octane",
        "n-Pentane",
        "n-Propane",
        "n-Undecane",
        "o-Xylene",
        "p-Xylene",
        "trans-2-Butene"
       ],
       "index": 2,
       "layout": "IPY_MODEL_adaec098ed2d4d80b8f77321ef2309af",
       "style": "IPY_MODEL_c744432f4cbe43869dec779df9564cde"
      }
     },
     "09c517d7eacf413fae617652c8ede62f": {
      "model_module": "@jupyter-widgets/controls",
      "model_module_version": "1.5.0",
      "model_name": "LabelModel",
      "state": {
       "layout": "IPY_MODEL_2ac041e76a31429e800264895d054e65",
       "style": "IPY_MODEL_a8566c91b7c14208bf239d1bc32b3684",
       "value": "Temperature in °C:"
      }
     },
     "09d9ccf7253d434f97356669c3498528": {
      "model_module": "@jupyter-widgets/controls",
      "model_module_version": "1.5.0",
      "model_name": "HBoxModel",
      "state": {
       "children": [
        "IPY_MODEL_6dafee1c9cf44c39adabdc619633bd70",
        "IPY_MODEL_8e0960830c314d16a78e9ae526e6f7ba",
        "IPY_MODEL_f3ab0e1508644da385b0a2096fcc6d72"
       ],
       "layout": "IPY_MODEL_8a97c944cd454707b6e3e77c993e3419"
      }
     },
     "09ff7d35fa844a7a932a498fdcd568ef": {
      "model_module": "@jupyter-widgets/controls",
      "model_module_version": "1.5.0",
      "model_name": "HBoxModel",
      "state": {
       "children": [
        "IPY_MODEL_2da759788c9b4bd9a2726bcc6360c3f6",
        "IPY_MODEL_986905e6a273464f8439c27db55c46e8"
       ],
       "layout": "IPY_MODEL_060753671b9140b498455f2d2f9b5b6e"
      }
     },
     "0a5123d89632414fb35d29cc6fc33466": {
      "model_module": "@jupyter-widgets/controls",
      "model_module_version": "1.5.0",
      "model_name": "HBoxModel",
      "state": {
       "children": [
        "IPY_MODEL_798c54bf07e6443d82f4def831894d95",
        "IPY_MODEL_c55301a5d7ea4bb7ab4b96bb3a1b83a7",
        "IPY_MODEL_cddc8cb40fe747bea3c1eb6e8d19bf18"
       ],
       "layout": "IPY_MODEL_0425fa3674024001b62bb459e713c534"
      }
     },
     "0a8481f1d72d4795ac552330a902eb6c": {
      "model_module": "@jupyter-widgets/base",
      "model_module_version": "1.2.0",
      "model_name": "LayoutModel",
      "state": {
       "flex": "10 1 auto",
       "width": "auto"
      }
     },
     "0a8656dadf0f4d81a8ed055d77b8e6fd": {
      "model_module": "@jupyter-widgets/controls",
      "model_module_version": "1.5.0",
      "model_name": "LabelModel",
      "state": {
       "layout": "IPY_MODEL_26ddf5f0df6d4c82b634573063d498e0",
       "style": "IPY_MODEL_a80d928d7148450f9a913d736f59240e",
       "value": "Velocity in m/s:"
      }
     },
     "0a94414280b34f6191545c9a27428c0b": {
      "model_module": "@jupyter-widgets/base",
      "model_module_version": "1.2.0",
      "model_name": "LayoutModel",
      "state": {
       "flex": "1 1 auto",
       "width": "auto"
      }
     },
     "0aa39d221fe34ebebd2902e65c32e07a": {
      "model_module": "@jupyter-widgets/base",
      "model_module_version": "1.2.0",
      "model_name": "LayoutModel",
      "state": {}
     },
     "0aa602429c6d4563b182ebfb3e8702de": {
      "model_module": "@jupyter-widgets/controls",
      "model_module_version": "1.5.0",
      "model_name": "DescriptionStyleModel",
      "state": {
       "description_width": ""
      }
     },
     "0aaa350536c8421b8386926aba951daf": {
      "model_module": "@jupyter-widgets/base",
      "model_module_version": "1.2.0",
      "model_name": "LayoutModel",
      "state": {}
     },
     "0aaeb87e15454ab2827c5ff6d0796073": {
      "model_module": "@jupyter-widgets/controls",
      "model_module_version": "1.5.0",
      "model_name": "DescriptionStyleModel",
      "state": {
       "description_width": ""
      }
     },
     "0ab71b1ec2cc4ea7a7bdc670f82ca74e": {
      "model_module": "@jupyter-widgets/base",
      "model_module_version": "1.2.0",
      "model_name": "LayoutModel",
      "state": {
       "display": "flex",
       "flex_flow": "row"
      }
     },
     "0b0292603e604390bff482b80c57e6d7": {
      "model_module": "@jupyter-widgets/controls",
      "model_module_version": "1.5.0",
      "model_name": "FloatSliderModel",
      "state": {
       "layout": "IPY_MODEL_94b98d285e8d44a3a55e060f4f362e97",
       "max": 55,
       "min": -30,
       "readout": false,
       "style": "IPY_MODEL_38a29bb45d2241688586052af09156c0",
       "value": 20
      }
     },
     "0b1c300885c7403d9b05b1b35d7a6dfb": {
      "model_module": "@jupyter-widgets/base",
      "model_module_version": "1.2.0",
      "model_name": "LayoutModel",
      "state": {
       "flex": "1 1 auto",
       "width": "auto"
      }
     },
     "0b2482aa9847484c9e9be5d6155e9282": {
      "model_module": "@jupyter-widgets/base",
      "model_module_version": "1.2.0",
      "model_name": "LayoutModel",
      "state": {
       "flex": "10 1 auto",
       "width": "auto"
      }
     },
     "0b2eaf14e2dc4d66b8e077a5739a4b8e": {
      "model_module": "@jupyter-widgets/base",
      "model_module_version": "1.2.0",
      "model_name": "LayoutModel",
      "state": {}
     },
     "0b434f134c934f4c826cf159be161711": {
      "model_module": "@jupyter-widgets/controls",
      "model_module_version": "1.5.0",
      "model_name": "DescriptionStyleModel",
      "state": {
       "description_width": ""
      }
     },
     "0b553b63d453471baa20c9b7bb1b127a": {
      "model_module": "@jupyter-widgets/controls",
      "model_module_version": "1.5.0",
      "model_name": "DropdownModel",
      "state": {
       "_options_labels": [
        "1-Butene",
        "Acetone",
        "Air",
        "Ammonia",
        "Argon",
        "Benzene",
        "CarbonDioxide",
        "CarbonMonoxide",
        "CarbonylSulfide",
        "CycloHexane",
        "CycloPropane",
        "Cyclopentane",
        "D4",
        "D5",
        "D6",
        "Deuterium",
        "Dichloroethane",
        "DiethylEther",
        "DimethylCarbonate",
        "DimethylEther",
        "Ethane",
        "Ethanol",
        "EthylBenzene",
        "Ethylene",
        "EthyleneOxide",
        "Fluorine",
        "HFE143m",
        "HeavyWater",
        "Helium",
        "Hydrogen",
        "HydrogenChloride",
        "HydrogenSulfide",
        "IsoButane",
        "IsoButene",
        "Isohexane",
        "Isopentane",
        "Krypton",
        "MD2M",
        "MD3M",
        "MD4M",
        "MDM",
        "MM",
        "Methane",
        "Methanol",
        "MethylLinoleate",
        "MethylLinolenate",
        "MethylOleate",
        "MethylPalmitate",
        "MethylStearate",
        "Neon",
        "Neopentane",
        "Nitrogen",
        "NitrousOxide",
        "Novec649",
        "OrthoDeuterium",
        "OrthoHydrogen",
        "Oxygen",
        "ParaDeuterium",
        "ParaHydrogen",
        "Propylene",
        "Propyne",
        "R11",
        "R113",
        "R114",
        "R115",
        "R116",
        "R12",
        "R123",
        "R1233zd(E)",
        "R1234yf",
        "R1234ze(E)",
        "R1234ze(Z)",
        "R124",
        "R1243zf",
        "R125",
        "R13",
        "R134a",
        "R13I1",
        "R14",
        "R141b",
        "R142b",
        "R143a",
        "R152A",
        "R161",
        "R21",
        "R218",
        "R22",
        "R227EA",
        "R23",
        "R236EA",
        "R236FA",
        "R245ca",
        "R245fa",
        "R32",
        "R365MFC",
        "R40",
        "R404A",
        "R407C",
        "R41",
        "R410A",
        "R507A",
        "RC318",
        "SES36",
        "SulfurDioxide",
        "SulfurHexafluoride",
        "Toluene",
        "Water",
        "Xenon",
        "cis-2-Butene",
        "m-Xylene",
        "n-Butane",
        "n-Decane",
        "n-Dodecane",
        "n-Heptane",
        "n-Hexane",
        "n-Nonane",
        "n-Octane",
        "n-Pentane",
        "n-Propane",
        "n-Undecane",
        "o-Xylene",
        "p-Xylene",
        "trans-2-Butene"
       ],
       "index": 2,
       "layout": "IPY_MODEL_ff1629b8fb82406bbb0d20cd6def2949",
       "style": "IPY_MODEL_e66e20cded494286b961a73e90c0002e"
      }
     },
     "0b6eae137c4f4098afaaa63489aa3e32": {
      "model_module": "@jupyter-widgets/base",
      "model_module_version": "1.2.0",
      "model_name": "LayoutModel",
      "state": {
       "flex": "1 1 auto",
       "width": "auto"
      }
     },
     "0b94c9b71df44f34b3f72ab5e4324d64": {
      "model_module": "@jupyter-widgets/base",
      "model_module_version": "1.2.0",
      "model_name": "LayoutModel",
      "state": {
       "flex": "10 1 auto",
       "width": "auto"
      }
     },
     "0b96324282a5426cbca0760c01688f06": {
      "model_module": "@jupyter-widgets/controls",
      "model_module_version": "1.5.0",
      "model_name": "LabelModel",
      "state": {
       "layout": "IPY_MODEL_f58f154ab3bc4b3296504d7ed5ea21fd",
       "style": "IPY_MODEL_159b52a37a204f98b4fe748575532f56",
       "value": "Velocity in m/s:"
      }
     },
     "0b9f212557444185b350e81b48261863": {
      "model_module": "@jupyter-widgets/controls",
      "model_module_version": "1.5.0",
      "model_name": "DescriptionStyleModel",
      "state": {
       "description_width": ""
      }
     },
     "0be346250a2d46bcae848ea96a97bfd7": {
      "model_module": "@jupyter-widgets/base",
      "model_module_version": "1.2.0",
      "model_name": "LayoutModel",
      "state": {
       "flex": "1 1 auto",
       "width": "auto"
      }
     },
     "0bec925143ec4fa98e71c03cb21c429d": {
      "model_module": "@jupyter-widgets/base",
      "model_module_version": "1.2.0",
      "model_name": "LayoutModel",
      "state": {
       "flex": "1 1 auto",
       "width": "auto"
      }
     },
     "0bef64a07185424a8d67f8e0d0fe3640": {
      "model_module": "@jupyter-widgets/controls",
      "model_module_version": "1.5.0",
      "model_name": "DescriptionStyleModel",
      "state": {
       "description_width": ""
      }
     },
     "0c35ec5faf8942fcb349c421c2c22a5b": {
      "model_module": "@jupyter-widgets/controls",
      "model_module_version": "1.5.0",
      "model_name": "VBoxModel",
      "state": {
       "children": [
        "IPY_MODEL_19f0ca69dfe14fb698c8d738dc59ee4d",
        "IPY_MODEL_22f5d1a78d5142efb2ca79c34c8c4806"
       ],
       "layout": "IPY_MODEL_003be9464f294baab1c0345dd4d19e29"
      }
     },
     "0c420c6568db4a18883ffa8264f8c2f2": {
      "model_module": "@jupyter-widgets/base",
      "model_module_version": "1.2.0",
      "model_name": "LayoutModel",
      "state": {
       "flex": "10 1 auto",
       "width": "auto"
      }
     },
     "0c830cf94d634e6293f112da0544933f": {
      "model_module": "@jupyter-widgets/base",
      "model_module_version": "1.2.0",
      "model_name": "LayoutModel",
      "state": {
       "display": "flex",
       "min_height": "300px",
       "width": "100%"
      }
     },
     "0cada49970ad491c82cd7d687695f868": {
      "model_module": "@jupyter-widgets/controls",
      "model_module_version": "1.5.0",
      "model_name": "DescriptionStyleModel",
      "state": {
       "description_width": ""
      }
     },
     "0cb9036b324e4a78979ed32748201f48": {
      "model_module": "@jupyter-widgets/base",
      "model_module_version": "1.2.0",
      "model_name": "LayoutModel",
      "state": {}
     },
     "0cdfdc013a36450585ab8bd2d5aa7f51": {
      "model_module": "@jupyter-widgets/base",
      "model_module_version": "1.2.0",
      "model_name": "LayoutModel",
      "state": {
       "display": "flex",
       "flex_flow": "row"
      }
     },
     "0d06a2208d3c459d9657c3e134773a7c": {
      "model_module": "@jupyter-widgets/base",
      "model_module_version": "1.2.0",
      "model_name": "LayoutModel",
      "state": {}
     },
     "0d0e9e1cbb4147bda417527934fa4d6c": {
      "model_module": "@jupyter-widgets/controls",
      "model_module_version": "1.5.0",
      "model_name": "SliderStyleModel",
      "state": {
       "description_width": ""
      }
     },
     "0d1091aee808413db38b95f6062de6ae": {
      "model_module": "@jupyter-widgets/base",
      "model_module_version": "1.2.0",
      "model_name": "LayoutModel",
      "state": {
       "display": "flex",
       "width": "100%"
      }
     },
     "0d9056354c2d466194044abbc1b5b167": {
      "model_module": "@jupyter-widgets/controls",
      "model_module_version": "1.5.0",
      "model_name": "DescriptionStyleModel",
      "state": {
       "description_width": ""
      }
     },
     "0d9d115ab44c4b98b6c34ea63c3152e1": {
      "model_module": "@jupyter-widgets/base",
      "model_module_version": "1.2.0",
      "model_name": "LayoutModel",
      "state": {
       "flex": "10 1 auto",
       "width": "auto"
      }
     },
     "0df9e1a836e24e60a31c12489bdbbdff": {
      "model_module": "@jupyter-widgets/base",
      "model_module_version": "1.2.0",
      "model_name": "LayoutModel",
      "state": {}
     },
     "0e30ecce94184ba7b0ff5a9bce91b56d": {
      "model_module": "@jupyter-widgets/controls",
      "model_module_version": "1.5.0",
      "model_name": "HBoxModel",
      "state": {
       "children": [
        "IPY_MODEL_e82db2f5cf6845f8af31fc2712aabeae",
        "IPY_MODEL_c64801d37a5442e1ae0cb68282e5acac",
        "IPY_MODEL_b507a191a8d342af8f8d3895cdc64e18"
       ],
       "layout": "IPY_MODEL_c8c48c0811b84aa982877b8f576d23ff"
      }
     },
     "0e408ba311594286a40950f7053d79a3": {
      "model_module": "@jupyter-widgets/base",
      "model_module_version": "1.2.0",
      "model_name": "LayoutModel",
      "state": {}
     },
     "0e60eef2dec4436aaca1341ab6d59e83": {
      "model_module": "@jupyter-widgets/controls",
      "model_module_version": "1.5.0",
      "model_name": "HBoxModel",
      "state": {
       "children": [
        "IPY_MODEL_5cb60554ce1f47f3bdc4c1d26819c6f2",
        "IPY_MODEL_b896923d7e294bdbbc7457fc94824f9f",
        "IPY_MODEL_d581d59a78224eada4288d546e267ee9"
       ],
       "layout": "IPY_MODEL_6e456a9af4ad4d368e652e11bc44105d"
      }
     },
     "0e644882490b40abb201836893721e43": {
      "model_module": "@jupyter-widgets/base",
      "model_module_version": "1.2.0",
      "model_name": "LayoutModel",
      "state": {}
     },
     "0e87124cc2f5491c8fd26ce7f7345c7a": {
      "model_module": "@jupyter-widgets/controls",
      "model_module_version": "1.5.0",
      "model_name": "DescriptionStyleModel",
      "state": {
       "description_width": ""
      }
     },
     "0ec3fcd8edee4f1ba592ce499edc3e2e": {
      "model_module": "@jupyter-widgets/base",
      "model_module_version": "1.2.0",
      "model_name": "LayoutModel",
      "state": {
       "display": "flex",
       "flex_flow": "row"
      }
     },
     "0edecb1bb7dc4ee59f087fa56c14e8ef": {
      "model_module": "@jupyter-widgets/controls",
      "model_module_version": "1.5.0",
      "model_name": "SliderStyleModel",
      "state": {
       "description_width": ""
      }
     },
     "0effd024ebfc4cdf8289ba24daf296c4": {
      "model_module": "@jupyter-widgets/controls",
      "model_module_version": "1.5.0",
      "model_name": "DescriptionStyleModel",
      "state": {
       "description_width": ""
      }
     },
     "0f0b3843335549c4b8912c20de6c9cfa": {
      "model_module": "@jupyter-widgets/controls",
      "model_module_version": "1.5.0",
      "model_name": "LabelModel",
      "state": {
       "layout": "IPY_MODEL_084bd43e443e4b75874776a386bff139",
       "style": "IPY_MODEL_c48f69ce92074a9ca9e831616404841e",
       "value": "Pressure in Pa:"
      }
     },
     "0f16099fdbd5429689f1afa8aade80ff": {
      "model_module": "@jupyter-widgets/base",
      "model_module_version": "1.2.0",
      "model_name": "LayoutModel",
      "state": {
       "display": "flex",
       "flex_flow": "row"
      }
     },
     "0f7ac4fb21af460d8fc7d3b8e00bf70b": {
      "model_module": "@jupyter-widgets/controls",
      "model_module_version": "1.5.0",
      "model_name": "BoundedFloatTextModel",
      "state": {
       "layout": "IPY_MODEL_0b1c300885c7403d9b05b1b35d7a6dfb",
       "max": 55,
       "min": -30,
       "step": 1,
       "style": "IPY_MODEL_6bf393c42645485bb89a77b257efa50f",
       "value": 20
      }
     },
     "0f8ad4b8c4c1446a9e87c748033c530e": {
      "model_module": "@jupyter-widgets/controls",
      "model_module_version": "1.5.0",
      "model_name": "HBoxModel",
      "state": {
       "children": [
        "IPY_MODEL_212f7f3b611c4c87a4c95c12e88b0fad",
        "IPY_MODEL_bad30caaebd9464a8bc2c6c972b74edf",
        "IPY_MODEL_6bbe4d1ba46241e9be1daff8a4db6989"
       ],
       "layout": "IPY_MODEL_e4dbff912a7c48b8b2e87ec8eec55a14"
      }
     },
     "0f97f4fd5cfc4f31974c61b37cc160fb": {
      "model_module": "@jupyter-widgets/base",
      "model_module_version": "1.2.0",
      "model_name": "LayoutModel",
      "state": {}
     },
     "0fad47cfccfe45ddbce49261e29eb84a": {
      "model_module": "@jupyter-widgets/controls",
      "model_module_version": "1.5.0",
      "model_name": "LabelModel",
      "state": {
       "layout": "IPY_MODEL_6ed07276512347ed9bb0706725dd719f",
       "style": "IPY_MODEL_86bb8a22136c4572b23f54106e35e202",
       "value": "Gas / Specie Mixture:"
      }
     },
     "0faf9a0fb22a417b80661eee3ecee2cf": {
      "model_module": "@jupyter-widgets/controls",
      "model_module_version": "1.5.0",
      "model_name": "DescriptionStyleModel",
      "state": {
       "description_width": ""
      }
     },
     "0ffbfc3126c6494ea255988c88d83c7d": {
      "model_module": "@jupyter-widgets/controls",
      "model_module_version": "1.5.0",
      "model_name": "DescriptionStyleModel",
      "state": {
       "description_width": ""
      }
     },
     "1000a8eb468d4609acb07acde6fd1fcf": {
      "model_module": "@jupyter-widgets/controls",
      "model_module_version": "1.5.0",
      "model_name": "BoundedFloatTextModel",
      "state": {
       "layout": "IPY_MODEL_354db0282e8f476a8b24ac521beade7a",
       "max": 200,
       "min": 0.001,
       "step": 0.001,
       "style": "IPY_MODEL_27ce222da5ee4ea8bd354cc224b4359e",
       "value": 20
      }
     },
     "1053b9b664034110beea1562f55cf1f2": {
      "model_module": "@jupyter-widgets/base",
      "model_module_version": "1.2.0",
      "model_name": "LayoutModel",
      "state": {
       "flex": "1 1 auto",
       "width": "auto"
      }
     },
     "1073a4dc93b04852bd8634fb4ddfea20": {
      "model_module": "@jupyter-widgets/controls",
      "model_module_version": "1.5.0",
      "model_name": "DescriptionStyleModel",
      "state": {
       "description_width": ""
      }
     },
     "10793682576d49f982fa39626370fc40": {
      "model_module": "@jupyter-widgets/base",
      "model_module_version": "1.2.0",
      "model_name": "LayoutModel",
      "state": {
       "flex": "1 1 auto",
       "width": "auto"
      }
     },
     "1089c37633a94b5e984e463b52a8b580": {
      "model_module": "@jupyter-widgets/base",
      "model_module_version": "1.2.0",
      "model_name": "LayoutModel",
      "state": {
       "display": "flex",
       "width": "100%"
      }
     },
     "10d4c46048e3498c8a7a3a56f0f134c7": {
      "model_module": "@jupyter-widgets/controls",
      "model_module_version": "1.5.0",
      "model_name": "SliderStyleModel",
      "state": {
       "description_width": ""
      }
     },
     "10f71ac8a7e74765a07f226b78840552": {
      "model_module": "@jupyter-widgets/base",
      "model_module_version": "1.2.0",
      "model_name": "LayoutModel",
      "state": {
       "flex": "1 1 auto",
       "width": "auto"
      }
     },
     "10ffa0db167948d4b8caae90fe19a941": {
      "model_module": "@jupyter-widgets/controls",
      "model_module_version": "1.5.0",
      "model_name": "DescriptionStyleModel",
      "state": {
       "description_width": ""
      }
     },
     "11097c4e3b204f82a9bc685fe8b8becf": {
      "model_module": "@jupyter-widgets/base",
      "model_module_version": "1.2.0",
      "model_name": "LayoutModel",
      "state": {
       "flex": "1 1 auto",
       "width": "auto"
      }
     },
     "111d52f94c7a44f9b30ccf120e8c232f": {
      "model_module": "@jupyter-widgets/controls",
      "model_module_version": "1.5.0",
      "model_name": "SliderStyleModel",
      "state": {
       "description_width": ""
      }
     },
     "111f9e62c1f34dcfa92c9e40b53f8b00": {
      "model_module": "@jupyter-widgets/controls",
      "model_module_version": "1.5.0",
      "model_name": "SliderStyleModel",
      "state": {
       "description_width": ""
      }
     },
     "11269ba8cb884cb29ddef3fd83472d68": {
      "model_module": "@jupyter-widgets/controls",
      "model_module_version": "1.5.0",
      "model_name": "DescriptionStyleModel",
      "state": {
       "description_width": ""
      }
     },
     "113eabe981434a6cb37c07245887b37e": {
      "model_module": "@jupyter-widgets/controls",
      "model_module_version": "1.5.0",
      "model_name": "LabelModel",
      "state": {
       "layout": "IPY_MODEL_8ae2c27b42f94cae8f469514d7bcabaf",
       "style": "IPY_MODEL_eac2626b8cbf4699b7045aa49608c756",
       "value": "Temperature in °C:"
      }
     },
     "11a328286aa44379b15966740ee52f2b": {
      "model_module": "@jupyter-widgets/base",
      "model_module_version": "1.2.0",
      "model_name": "LayoutModel",
      "state": {}
     },
     "11c9aeec567f488983a2e008d27b4c2e": {
      "model_module": "@jupyter-widgets/base",
      "model_module_version": "1.2.0",
      "model_name": "LayoutModel",
      "state": {}
     },
     "11d0918225ec4471b178f6cc03290ae6": {
      "model_module": "@jupyter-widgets/controls",
      "model_module_version": "1.5.0",
      "model_name": "DescriptionStyleModel",
      "state": {
       "description_width": ""
      }
     },
     "11d5aff87904493a9344784b1597011e": {
      "model_module": "@jupyter-widgets/base",
      "model_module_version": "1.2.0",
      "model_name": "LayoutModel",
      "state": {
       "flex": "10 1 auto",
       "width": "auto"
      }
     },
     "11ee631fea2f4c50a811a5fc1bf125b2": {
      "model_module": "@jupyter-widgets/controls",
      "model_module_version": "1.5.0",
      "model_name": "BoundedFloatTextModel",
      "state": {
       "layout": "IPY_MODEL_7019eb2228714e69a672766147703516",
       "max": 200,
       "min": 0.001,
       "step": 0.001,
       "style": "IPY_MODEL_cd1876e884cc49688c3a79645d46a771",
       "value": 20
      }
     },
     "11f001ed7bc04687ae7b1a04d101d69c": {
      "model_module": "@jupyter-widgets/base",
      "model_module_version": "1.2.0",
      "model_name": "LayoutModel",
      "state": {
       "flex": "1 1 auto",
       "width": "auto"
      }
     },
     "11fa572a340340fe9a1182dbf0f1daec": {
      "model_module": "@jupyter-widgets/controls",
      "model_module_version": "1.5.0",
      "model_name": "SliderStyleModel",
      "state": {
       "description_width": ""
      }
     },
     "12079a798a4246b68ddf36d952c6595f": {
      "model_module": "@jupyter-widgets/controls",
      "model_module_version": "1.5.0",
      "model_name": "DropdownModel",
      "state": {
       "_options_labels": [
        "1-Butene",
        "Acetone",
        "Air",
        "Ammonia",
        "Argon",
        "Benzene",
        "CarbonDioxide",
        "CarbonMonoxide",
        "CarbonylSulfide",
        "CycloHexane",
        "CycloPropane",
        "Cyclopentane",
        "D4",
        "D5",
        "D6",
        "Deuterium",
        "Dichloroethane",
        "DiethylEther",
        "DimethylCarbonate",
        "DimethylEther",
        "Ethane",
        "Ethanol",
        "EthylBenzene",
        "Ethylene",
        "EthyleneOxide",
        "Fluorine",
        "HFE143m",
        "HeavyWater",
        "Helium",
        "Hydrogen",
        "HydrogenChloride",
        "HydrogenSulfide",
        "IsoButane",
        "IsoButene",
        "Isohexane",
        "Isopentane",
        "Krypton",
        "MD2M",
        "MD3M",
        "MD4M",
        "MDM",
        "MM",
        "Methane",
        "Methanol",
        "MethylLinoleate",
        "MethylLinolenate",
        "MethylOleate",
        "MethylPalmitate",
        "MethylStearate",
        "Neon",
        "Neopentane",
        "Nitrogen",
        "NitrousOxide",
        "Novec649",
        "OrthoDeuterium",
        "OrthoHydrogen",
        "Oxygen",
        "ParaDeuterium",
        "ParaHydrogen",
        "Propylene",
        "Propyne",
        "R11",
        "R113",
        "R114",
        "R115",
        "R116",
        "R12",
        "R123",
        "R1233zd(E)",
        "R1234yf",
        "R1234ze(E)",
        "R1234ze(Z)",
        "R124",
        "R1243zf",
        "R125",
        "R13",
        "R134a",
        "R13I1",
        "R14",
        "R141b",
        "R142b",
        "R143a",
        "R152A",
        "R161",
        "R21",
        "R218",
        "R22",
        "R227EA",
        "R23",
        "R236EA",
        "R236FA",
        "R245ca",
        "R245fa",
        "R32",
        "R365MFC",
        "R40",
        "R404A",
        "R407C",
        "R41",
        "R410A",
        "R507A",
        "RC318",
        "SES36",
        "SulfurDioxide",
        "SulfurHexafluoride",
        "Toluene",
        "Water",
        "Xenon",
        "cis-2-Butene",
        "m-Xylene",
        "n-Butane",
        "n-Decane",
        "n-Dodecane",
        "n-Heptane",
        "n-Hexane",
        "n-Nonane",
        "n-Octane",
        "n-Pentane",
        "n-Propane",
        "n-Undecane",
        "o-Xylene",
        "p-Xylene",
        "trans-2-Butene"
       ],
       "index": 2,
       "layout": "IPY_MODEL_0aaa350536c8421b8386926aba951daf",
       "style": "IPY_MODEL_e2860cdee8234733aec6a9b5988749dd"
      }
     },
     "120cd95d316c4b348941bd709ae24366": {
      "model_module": "@jupyter-widgets/controls",
      "model_module_version": "1.5.0",
      "model_name": "DropdownModel",
      "state": {
       "_options_labels": [
        "1-Butene",
        "Acetone",
        "Air",
        "Ammonia",
        "Argon",
        "Benzene",
        "CarbonDioxide",
        "CarbonMonoxide",
        "CarbonylSulfide",
        "CycloHexane",
        "CycloPropane",
        "Cyclopentane",
        "D4",
        "D5",
        "D6",
        "Deuterium",
        "Dichloroethane",
        "DiethylEther",
        "DimethylCarbonate",
        "DimethylEther",
        "Ethane",
        "Ethanol",
        "EthylBenzene",
        "Ethylene",
        "EthyleneOxide",
        "Fluorine",
        "HFE143m",
        "HeavyWater",
        "Helium",
        "Hydrogen",
        "HydrogenChloride",
        "HydrogenSulfide",
        "IsoButane",
        "IsoButene",
        "Isohexane",
        "Isopentane",
        "Krypton",
        "MD2M",
        "MD3M",
        "MD4M",
        "MDM",
        "MM",
        "Methane",
        "Methanol",
        "MethylLinoleate",
        "MethylLinolenate",
        "MethylOleate",
        "MethylPalmitate",
        "MethylStearate",
        "Neon",
        "Neopentane",
        "Nitrogen",
        "NitrousOxide",
        "Novec649",
        "OrthoDeuterium",
        "OrthoHydrogen",
        "Oxygen",
        "ParaDeuterium",
        "ParaHydrogen",
        "Propylene",
        "Propyne",
        "R11",
        "R113",
        "R114",
        "R115",
        "R116",
        "R12",
        "R123",
        "R1233zd(E)",
        "R1234yf",
        "R1234ze(E)",
        "R1234ze(Z)",
        "R124",
        "R1243zf",
        "R125",
        "R13",
        "R134a",
        "R13I1",
        "R14",
        "R141b",
        "R142b",
        "R143a",
        "R152A",
        "R161",
        "R21",
        "R218",
        "R22",
        "R227EA",
        "R23",
        "R236EA",
        "R236FA",
        "R245ca",
        "R245fa",
        "R32",
        "R365MFC",
        "R40",
        "R404A",
        "R407C",
        "R41",
        "R410A",
        "R507A",
        "RC318",
        "SES36",
        "SulfurDioxide",
        "SulfurHexafluoride",
        "Toluene",
        "Water",
        "Xenon",
        "cis-2-Butene",
        "m-Xylene",
        "n-Butane",
        "n-Decane",
        "n-Dodecane",
        "n-Heptane",
        "n-Hexane",
        "n-Nonane",
        "n-Octane",
        "n-Pentane",
        "n-Propane",
        "n-Undecane",
        "o-Xylene",
        "p-Xylene",
        "trans-2-Butene"
       ],
       "index": 2,
       "layout": "IPY_MODEL_9ce887f7724242aa964e350911af4241",
       "style": "IPY_MODEL_0ffbfc3126c6494ea255988c88d83c7d"
      }
     },
     "121dd0a06aa34c2ca1721a5905cde15f": {
      "model_module": "@jupyter-widgets/base",
      "model_module_version": "1.2.0",
      "model_name": "LayoutModel",
      "state": {
       "display": "flex",
       "flex_flow": "row"
      }
     },
     "1245cbc6694c4bfa80d8c43252dd5f4e": {
      "model_module": "@jupyter-widgets/controls",
      "model_module_version": "1.5.0",
      "model_name": "SliderStyleModel",
      "state": {
       "description_width": ""
      }
     },
     "1262133f42f4485ab477ce202f27b6fa": {
      "model_module": "@jupyter-widgets/controls",
      "model_module_version": "1.5.0",
      "model_name": "DescriptionStyleModel",
      "state": {
       "description_width": ""
      }
     },
     "1297dbe5352046c590c1cc3a1110948b": {
      "model_module": "@jupyter-widgets/base",
      "model_module_version": "1.2.0",
      "model_name": "LayoutModel",
      "state": {}
     },
     "12c110881e5342c4840736001bd45f60": {
      "model_module": "@jupyter-widgets/controls",
      "model_module_version": "1.5.0",
      "model_name": "AccordionModel",
      "state": {
       "_titles": {
        "0": "Thermodynamic State",
        "1": "Flat Plate"
       },
       "children": [
        "IPY_MODEL_57b92dacdc9b495fbef86f3a5e775057",
        "IPY_MODEL_2a18e276919247a0942c1ce42bb6be8a"
       ],
       "layout": "IPY_MODEL_2bd2b960768747ab842d240b09879b1b"
      }
     },
     "1324359e043d4a87ab353392077e6e31": {
      "model_module": "@jupyter-widgets/controls",
      "model_module_version": "1.5.0",
      "model_name": "HBoxModel",
      "state": {
       "children": [
        "IPY_MODEL_f7ceedc86e9e4a018b26978a5117f654",
        "IPY_MODEL_2aaba1e93e8d49a0ac5aa5305912edc9"
       ],
       "layout": "IPY_MODEL_68985da20ec446419940ae1b39096454"
      }
     },
     "132b37c4e61d4b1795ec5563ace3fd12": {
      "model_module": "@jupyter-widgets/controls",
      "model_module_version": "1.5.0",
      "model_name": "SliderStyleModel",
      "state": {
       "description_width": ""
      }
     },
     "134b467205ff4fe1b432a6eda9462627": {
      "model_module": "@jupyter-widgets/controls",
      "model_module_version": "1.5.0",
      "model_name": "DescriptionStyleModel",
      "state": {
       "description_width": ""
      }
     },
     "1356a4143c354417980b41ccb89704bf": {
      "model_module": "@jupyter-widgets/base",
      "model_module_version": "1.2.0",
      "model_name": "LayoutModel",
      "state": {
       "display": "flex",
       "min_height": "300px",
       "width": "100%"
      }
     },
     "138ae3e4ad0e4a83b92e783316ed7ce8": {
      "model_module": "@jupyter-widgets/controls",
      "model_module_version": "1.5.0",
      "model_name": "DescriptionStyleModel",
      "state": {
       "description_width": ""
      }
     },
     "1392bb7533d041e8a817809a2719559b": {
      "model_module": "@jupyter-widgets/base",
      "model_module_version": "1.2.0",
      "model_name": "LayoutModel",
      "state": {
       "flex": "1 1 auto",
       "width": "auto"
      }
     },
     "13c048383cc44263b174c0d5e13e5689": {
      "model_module": "@jupyter-widgets/controls",
      "model_module_version": "1.5.0",
      "model_name": "BoundedFloatTextModel",
      "state": {
       "layout": "IPY_MODEL_6562caa601864a90a12bdc3471bc4c99",
       "max": 200,
       "min": 0.001,
       "step": 0.001,
       "style": "IPY_MODEL_cc0f7bc4468f40daacc398e780857995",
       "value": 20
      }
     },
     "14494f7846a441a3966229024b9c6015": {
      "model_module": "@jupyter-widgets/controls",
      "model_module_version": "1.5.0",
      "model_name": "FloatSliderModel",
      "state": {
       "layout": "IPY_MODEL_f3cca6309d0a4e20b12da6824b1799c6",
       "max": 200,
       "min": 0.001,
       "readout": false,
       "step": 0.001,
       "style": "IPY_MODEL_3fe4bc8b18ea4ea0b1beef1d9bd79bd6",
       "value": 20
      }
     },
     "147332810cc94b10b081d63d139099f2": {
      "model_module": "@jupyter-widgets/controls",
      "model_module_version": "1.5.0",
      "model_name": "DescriptionStyleModel",
      "state": {
       "description_width": ""
      }
     },
     "14af833123c04bbeb1812ac9a90aee9b": {
      "model_module": "@jupyter-widgets/base",
      "model_module_version": "1.2.0",
      "model_name": "LayoutModel",
      "state": {
       "flex": "10 1 auto",
       "width": "auto"
      }
     },
     "14d37420a6254e2da7f52454a9ba2a9a": {
      "model_module": "@jupyter-widgets/controls",
      "model_module_version": "1.5.0",
      "model_name": "DescriptionStyleModel",
      "state": {
       "description_width": ""
      }
     },
     "14dfa0867f15451386a6e2cd1acb0a5e": {
      "model_module": "@jupyter-widgets/base",
      "model_module_version": "1.2.0",
      "model_name": "LayoutModel",
      "state": {}
     },
     "14e9018b47994698843059d8b347a796": {
      "model_module": "@jupyter-widgets/controls",
      "model_module_version": "1.5.0",
      "model_name": "DescriptionStyleModel",
      "state": {
       "description_width": ""
      }
     },
     "1529d934b9cf495abe6121a56e8ae9b1": {
      "model_module": "@jupyter-widgets/base",
      "model_module_version": "1.2.0",
      "model_name": "LayoutModel",
      "state": {
       "display": "flex",
       "flex_flow": "row"
      }
     },
     "1542a4094f4b4f258f8d986da09823c4": {
      "model_module": "@jupyter-widgets/controls",
      "model_module_version": "1.5.0",
      "model_name": "BoundedFloatTextModel",
      "state": {
       "layout": "IPY_MODEL_e38e4976ade645af87aac0f48d6ec84a",
       "max": 10,
       "min": 0.001,
       "step": 0.001,
       "style": "IPY_MODEL_ab3dc685ef0c478896e261fd2091a56e",
       "value": 0.1
      }
     },
     "159b52a37a204f98b4fe748575532f56": {
      "model_module": "@jupyter-widgets/controls",
      "model_module_version": "1.5.0",
      "model_name": "DescriptionStyleModel",
      "state": {
       "description_width": ""
      }
     },
     "15f41801190b49b4aee2bfd995d665d1": {
      "model_module": "@jupyter-widgets/controls",
      "model_module_version": "1.5.0",
      "model_name": "BoundedFloatTextModel",
      "state": {
       "layout": "IPY_MODEL_9c1e9782bda04c409eb360dbe8786a54",
       "max": 10,
       "min": 0.001,
       "step": 0.001,
       "style": "IPY_MODEL_007cec7346b84757bca9eda028d1e2cd",
       "value": 0.1
      }
     },
     "160657fd8f114c59a8949d568f7283ed": {
      "model_module": "@jupyter-widgets/output",
      "model_module_version": "1.0.0",
      "model_name": "OutputModel",
      "state": {
       "layout": "IPY_MODEL_79a07f690f4b42f2a1bf5faacd95a047"
      }
     },
     "161029cf75b6460eb7ce49434687205c": {
      "model_module": "@jupyter-widgets/base",
      "model_module_version": "1.2.0",
      "model_name": "LayoutModel",
      "state": {
       "flex": "10 1 auto",
       "width": "auto"
      }
     },
     "162b8dabf6d14260b547595bd2d4f9bd": {
      "model_module": "@jupyter-widgets/controls",
      "model_module_version": "1.5.0",
      "model_name": "FloatSliderModel",
      "state": {
       "layout": "IPY_MODEL_f0a91ab0c49945b38e3e9bab26802469",
       "max": 10,
       "min": 0.001,
       "readout": false,
       "step": 0.001,
       "style": "IPY_MODEL_8946198cffd2456abc21e8778e38a70c",
       "value": 0.1
      }
     },
     "166fcaa57ede4b208def6bdbaa8ed367": {
      "model_module": "@jupyter-widgets/base",
      "model_module_version": "1.2.0",
      "model_name": "LayoutModel",
      "state": {
       "flex": "10 1 auto",
       "width": "auto"
      }
     },
     "16982d43724d4476a3aa432a7fd605f6": {
      "model_module": "@jupyter-widgets/base",
      "model_module_version": "1.2.0",
      "model_name": "LayoutModel",
      "state": {
       "flex": "10 1 auto",
       "width": "auto"
      }
     },
     "16b1f85f7c20490db98b17261fe5510e": {
      "model_module": "@jupyter-widgets/controls",
      "model_module_version": "1.5.0",
      "model_name": "LabelModel",
      "state": {
       "layout": "IPY_MODEL_944783260bd9469f835c8ab222f3c1c6",
       "style": "IPY_MODEL_2f7ed3b7b215479cb127d5cba9847995",
       "value": "Gas / Specie Mixture:"
      }
     },
     "16be639b7c564870b7301361fc02cb07": {
      "model_module": "@jupyter-widgets/output",
      "model_module_version": "1.0.0",
      "model_name": "OutputModel",
      "state": {
       "layout": "IPY_MODEL_cb6c804d0ac74976b425cb4b70cd6cc8",
       "outputs": [
        {
         "ename": "NameError",
         "evalue": "name 'clear_output' is not defined",
         "output_type": "error",
         "traceback": [
          "\u001b[0;31m\u001b[0m",
          "\u001b[0;31mNameError\u001b[0mTraceback (most recent call last)",
          "\u001b[0;32m<ipython-input-20-136851cf9122>\u001b[0m in \u001b[0;36mobserver\u001b[0;34m(change)\u001b[0m\n\u001b[1;32m     31\u001b[0m         \u001b[0;31m#widgets.show_inline_matplotlib_plots()\u001b[0m\u001b[0;34m\u001b[0m\u001b[0;34m\u001b[0m\u001b[0;34m\u001b[0m\u001b[0m\n\u001b[1;32m     32\u001b[0m         \u001b[0;32mwith\u001b[0m \u001b[0mout\u001b[0m\u001b[0;34m:\u001b[0m\u001b[0;34m\u001b[0m\u001b[0;34m\u001b[0m\u001b[0m\n\u001b[0;32m---> 33\u001b[0;31m             \u001b[0mclear_output\u001b[0m\u001b[0;34m(\u001b[0m\u001b[0mwait\u001b[0m\u001b[0;34m=\u001b[0m\u001b[0;32mTrue\u001b[0m\u001b[0;34m)\u001b[0m\u001b[0;34m\u001b[0m\u001b[0;34m\u001b[0m\u001b[0m\n\u001b[0m\u001b[1;32m     34\u001b[0m             \u001b[0mf\u001b[0m\u001b[0;34m(\u001b[0m\u001b[0;34m**\u001b[0m\u001b[0mkwargs\u001b[0m\u001b[0;34m)\u001b[0m\u001b[0;34m\u001b[0m\u001b[0;34m\u001b[0m\u001b[0m\n\u001b[1;32m     35\u001b[0m             \u001b[0;31m#widgets.show_inline_matplotlib_plots()\u001b[0m\u001b[0;34m\u001b[0m\u001b[0;34m\u001b[0m\u001b[0;34m\u001b[0m\u001b[0m\n",
          "\u001b[0;31mNameError\u001b[0m: name 'clear_output' is not defined"
         ]
        }
       ]
      }
     },
     "16d420467faf441487c42c8d0780dbf2": {
      "model_module": "@jupyter-widgets/controls",
      "model_module_version": "1.5.0",
      "model_name": "HBoxModel",
      "state": {
       "children": [
        "IPY_MODEL_a1e6a9c89d604c47bdfbcbfe95ef83d5",
        "IPY_MODEL_a3661257f5bb4b8392d48147c8c48a68"
       ],
       "layout": "IPY_MODEL_778fa45a2dbb4d5aba0efadc408819cd"
      }
     },
     "16fbd9011e6e483e87b9bb82b55ec54d": {
      "model_module": "@jupyter-widgets/controls",
      "model_module_version": "1.5.0",
      "model_name": "FloatSliderModel",
      "state": {
       "layout": "IPY_MODEL_c46054c149a5420db399984d2e6edc02",
       "max": 200,
       "min": 0.001,
       "readout": false,
       "step": 0.001,
       "style": "IPY_MODEL_e8447a2c72a141bd827357058ac00b1a",
       "value": 20
      }
     },
     "1704a27cc40647d4ba63fa6e26e99938": {
      "model_module": "@jupyter-widgets/base",
      "model_module_version": "1.2.0",
      "model_name": "LayoutModel",
      "state": {
       "display": "flex",
       "width": "100%"
      }
     },
     "171047c2aa60496c9017bf9cb9b98ccc": {
      "model_module": "@jupyter-widgets/controls",
      "model_module_version": "1.5.0",
      "model_name": "HBoxModel",
      "state": {
       "children": [
        "IPY_MODEL_81cbe00546da4eb2b5ff2ec2e2f825ac",
        "IPY_MODEL_be5ec9e1e6b14a248a268f26a71f12c0",
        "IPY_MODEL_bcbd56c742554c5f94a834d19ebf9eed"
       ],
       "layout": "IPY_MODEL_669459072c1047f8902c81172224e427"
      }
     },
     "171f421c8e774e5fa8b99b56bbdb5456": {
      "model_module": "@jupyter-widgets/controls",
      "model_module_version": "1.5.0",
      "model_name": "HBoxModel",
      "state": {
       "children": [
        "IPY_MODEL_c4fa01df4cc7428595deb642ef78e0ae",
        "IPY_MODEL_5101b931969c4aecab9ec0f8dcd87c09",
        "IPY_MODEL_b35d5995a21d46049dfc76f1cee718b3"
       ],
       "layout": "IPY_MODEL_644e44d3b66d4428ae68f4aa6f506ef2"
      }
     },
     "17596cf6c1d9440485d7cf1bf75195e3": {
      "model_module": "@jupyter-widgets/base",
      "model_module_version": "1.2.0",
      "model_name": "LayoutModel",
      "state": {}
     },
     "176f5dece09f4198a04bc18c3f9dd281": {
      "model_module": "@jupyter-widgets/base",
      "model_module_version": "1.2.0",
      "model_name": "LayoutModel",
      "state": {}
     },
     "179c15ef18b04ce2b1e8e100b1c209e3": {
      "model_module": "@jupyter-widgets/controls",
      "model_module_version": "1.5.0",
      "model_name": "HBoxModel",
      "state": {
       "children": [
        "IPY_MODEL_03f336d2db964f89ae7008286ef0da48",
        "IPY_MODEL_25f372098cda4c6f9e65194768f50cd8",
        "IPY_MODEL_3f430e62f2894320a535b1ed707547c4"
       ],
       "layout": "IPY_MODEL_eca762f396c54c0aabdef87611ba8243"
      }
     },
     "17d37c905ec54e8189bbffa33f63516e": {
      "model_module": "@jupyter-widgets/controls",
      "model_module_version": "1.5.0",
      "model_name": "DescriptionStyleModel",
      "state": {
       "description_width": ""
      }
     },
     "17db0fcaae434c0a9d4923694e073767": {
      "model_module": "@jupyter-widgets/base",
      "model_module_version": "1.2.0",
      "model_name": "LayoutModel",
      "state": {
       "display": "flex",
       "flex_flow": "row"
      }
     },
     "17f3129d3b8b4cdbb70365a8174410f2": {
      "model_module": "@jupyter-widgets/controls",
      "model_module_version": "1.5.0",
      "model_name": "HBoxModel",
      "state": {
       "children": [
        "IPY_MODEL_f99e5c5e6c2b407baa60830a3dc6a3f6",
        "IPY_MODEL_56c200a30f3d43a295d0981f5b5718ff",
        "IPY_MODEL_e1abf468b20b4599be6ec3131195695d"
       ],
       "layout": "IPY_MODEL_632c49bf53a74873a9893640db792dc2"
      }
     },
     "184d59d3cb51416b811fc82b0abb0e96": {
      "model_module": "@jupyter-widgets/controls",
      "model_module_version": "1.5.0",
      "model_name": "HBoxModel",
      "state": {
       "children": [
        "IPY_MODEL_351bc9b2f9274228939a061dd1d0890b",
        "IPY_MODEL_4a3f15dab85148d3935bf2a2c246b980",
        "IPY_MODEL_4fd4f28b935043e889721a471ad37cdd"
       ],
       "layout": "IPY_MODEL_e5ace8ca7c29440ea801cab8c967e409"
      }
     },
     "187aa65b2e754a249f619bbc448a7626": {
      "model_module": "@jupyter-widgets/controls",
      "model_module_version": "1.5.0",
      "model_name": "SliderStyleModel",
      "state": {
       "description_width": ""
      }
     },
     "188c6828beb74f89b596666e5e6026cd": {
      "model_module": "@jupyter-widgets/base",
      "model_module_version": "1.2.0",
      "model_name": "LayoutModel",
      "state": {
       "flex": "10 1 auto",
       "width": "auto"
      }
     },
     "189f5080637449b199d51af63b20cf79": {
      "model_module": "@jupyter-widgets/base",
      "model_module_version": "1.2.0",
      "model_name": "LayoutModel",
      "state": {
       "display": "flex",
       "width": "100%"
      }
     },
     "18b241c6756f48e0815717b5cf0dd48f": {
      "model_module": "@jupyter-widgets/controls",
      "model_module_version": "1.5.0",
      "model_name": "VBoxModel",
      "state": {
       "children": [
        "IPY_MODEL_9b8e56dbec28437c93e5288d170a0fee",
        "IPY_MODEL_09d9ccf7253d434f97356669c3498528",
        "IPY_MODEL_1324359e043d4a87ab353392077e6e31"
       ],
       "layout": "IPY_MODEL_b23d6c3dc3cc4073914966fe172d4868"
      }
     },
     "18b44aba6f884026bb8a0101ea936b16": {
      "model_module": "@jupyter-widgets/base",
      "model_module_version": "1.2.0",
      "model_name": "LayoutModel",
      "state": {
       "flex": "1 1 auto",
       "width": "auto"
      }
     },
     "1926e2f79d6340a48e8de2c14355e22f": {
      "model_module": "@jupyter-widgets/controls",
      "model_module_version": "1.5.0",
      "model_name": "BoundedFloatTextModel",
      "state": {
       "layout": "IPY_MODEL_8d26ec2b6e804590b4c2918fb0feee99",
       "max": 10,
       "min": 0.001,
       "step": 0.001,
       "style": "IPY_MODEL_4a4695c5ff3e4ff291970c0d61624c9e",
       "value": 0.1
      }
     },
     "193a2140302b4860ae1a6ec3d5577876": {
      "model_module": "@jupyter-widgets/base",
      "model_module_version": "1.2.0",
      "model_name": "LayoutModel",
      "state": {
       "display": "flex",
       "flex_flow": "row"
      }
     },
     "195a390b86a749aab2105c8466b5529c": {
      "model_module": "@jupyter-widgets/controls",
      "model_module_version": "1.5.0",
      "model_name": "HBoxModel",
      "state": {
       "children": [
        "IPY_MODEL_7ddbaa7e1da14b79b9f9ba239a2dec9d",
        "IPY_MODEL_c22f3fe3c7f94e8a96628af487920119",
        "IPY_MODEL_6b9bb7f22b064a44acc6dbcfa9b2403c"
       ],
       "layout": "IPY_MODEL_bb035845706e478ea4c7d204df3c1bff"
      }
     },
     "19f0ca69dfe14fb698c8d738dc59ee4d": {
      "model_module": "@jupyter-widgets/controls",
      "model_module_version": "1.5.0",
      "model_name": "HBoxModel",
      "state": {
       "children": [
        "IPY_MODEL_da57aeb225c0485c95b6c738c7448dfb",
        "IPY_MODEL_59259cb7cad24bc5880312581ea41d8f",
        "IPY_MODEL_060a66a3d04d4dff98bf0e516f98a5b6"
       ],
       "layout": "IPY_MODEL_45e065633f574b569cbd721ceaf106fc"
      }
     },
     "1a1e7cb03d304fef90174921261bfb41": {
      "model_module": "@jupyter-widgets/controls",
      "model_module_version": "1.5.0",
      "model_name": "HBoxModel",
      "state": {
       "children": [
        "IPY_MODEL_c3e61f0ad16541e987e754606fd5af3a",
        "IPY_MODEL_fd71ae9ec0c341ca82682bfc9f30caf6",
        "IPY_MODEL_ea98a375aa7344b09d4baf3dbf33d030"
       ],
       "layout": "IPY_MODEL_a0c114553b4240108a3d35a7b4672723"
      }
     },
     "1a2deb484682401daaa1e8f9648f2273": {
      "model_module": "@jupyter-widgets/base",
      "model_module_version": "1.2.0",
      "model_name": "LayoutModel",
      "state": {
       "flex": "1 1 auto",
       "width": "auto"
      }
     },
     "1a4bd03ee58f425ca845c620a910bb65": {
      "model_module": "@jupyter-widgets/base",
      "model_module_version": "1.2.0",
      "model_name": "LayoutModel",
      "state": {
       "display": "flex",
       "width": "100%"
      }
     },
     "1a4d16ed92674e458cf53fa33452d497": {
      "model_module": "@jupyter-widgets/base",
      "model_module_version": "1.2.0",
      "model_name": "LayoutModel",
      "state": {
       "flex": "1 1 auto",
       "width": "auto"
      }
     },
     "1a7b94774e4049c58f5673e1ada95157": {
      "model_module": "@jupyter-widgets/controls",
      "model_module_version": "1.5.0",
      "model_name": "BoundedFloatTextModel",
      "state": {
       "layout": "IPY_MODEL_07a8eb9719d94dc0930ca23964903d84",
       "max": 10,
       "min": 0.001,
       "step": 0.001,
       "style": "IPY_MODEL_8360f0af907845c4b70e9423275a557e",
       "value": 0.1
      }
     },
     "1a7fccad401240f6b43eed69556541c5": {
      "model_module": "@jupyter-widgets/controls",
      "model_module_version": "1.5.0",
      "model_name": "SliderStyleModel",
      "state": {
       "description_width": ""
      }
     },
     "1a8901db9924410ab8b2462e6d02b8e7": {
      "model_module": "@jupyter-widgets/base",
      "model_module_version": "1.2.0",
      "model_name": "LayoutModel",
      "state": {
       "display": "flex",
       "width": "100%"
      }
     },
     "1a8cd244e52f41548e48f364a209f4a6": {
      "model_module": "@jupyter-widgets/controls",
      "model_module_version": "1.5.0",
      "model_name": "DescriptionStyleModel",
      "state": {
       "description_width": ""
      }
     },
     "1add5e5a2cf64393a58d15cf0bfae7b9": {
      "model_module": "@jupyter-widgets/controls",
      "model_module_version": "1.5.0",
      "model_name": "DescriptionStyleModel",
      "state": {
       "description_width": ""
      }
     },
     "1b35a88a113a4813aefeff08e7e43420": {
      "model_module": "@jupyter-widgets/base",
      "model_module_version": "1.2.0",
      "model_name": "LayoutModel",
      "state": {
       "flex": "10 1 auto",
       "width": "auto"
      }
     },
     "1b5c3b260f2b4a7b868af296cd20d298": {
      "model_module": "@jupyter-widgets/base",
      "model_module_version": "1.2.0",
      "model_name": "LayoutModel",
      "state": {
       "display": "flex",
       "flex_flow": "row"
      }
     },
     "1b75eed9ac274f0594070e846de267ad": {
      "model_module": "@jupyter-widgets/output",
      "model_module_version": "1.0.0",
      "model_name": "OutputModel",
      "state": {
       "layout": "IPY_MODEL_1a8901db9924410ab8b2462e6d02b8e7",
       "outputs": [
        {
         "ename": "AttributeError",
         "evalue": "'numpy.ndarray' object has no attribute 'asaarray'",
         "output_type": "error",
         "traceback": [
          "\u001b[0;31m\u001b[0m",
          "\u001b[0;31mAttributeError\u001b[0mTraceback (most recent call last)",
          "\u001b[0;32m<ipython-input-55-352aef4f742a>\u001b[0m in \u001b[0;36mobserver\u001b[0;34m(change)\u001b[0m\n\u001b[1;32m     33\u001b[0m \u001b[0;34m\u001b[0m\u001b[0m\n\u001b[1;32m     34\u001b[0m             \u001b[0mclear_output\u001b[0m\u001b[0;34m(\u001b[0m\u001b[0mwait\u001b[0m\u001b[0;34m=\u001b[0m\u001b[0;32mTrue\u001b[0m\u001b[0;34m)\u001b[0m\u001b[0;34m\u001b[0m\u001b[0;34m\u001b[0m\u001b[0m\n\u001b[0;32m---> 35\u001b[0;31m             \u001b[0mf\u001b[0m\u001b[0;34m(\u001b[0m\u001b[0;34m**\u001b[0m\u001b[0mkwargs\u001b[0m\u001b[0;34m)\u001b[0m\u001b[0;34m\u001b[0m\u001b[0;34m\u001b[0m\u001b[0m\n\u001b[0m\u001b[1;32m     36\u001b[0m             \u001b[0;31m#widgets.show_inline_matplotlib_plots()\u001b[0m\u001b[0;34m\u001b[0m\u001b[0;34m\u001b[0m\u001b[0;34m\u001b[0m\u001b[0m\n\u001b[1;32m     37\u001b[0m     \u001b[0;32mfor\u001b[0m \u001b[0mk\u001b[0m\u001b[0;34m,\u001b[0m\u001b[0mw\u001b[0m \u001b[0;32min\u001b[0m \u001b[0mcontrols\u001b[0m\u001b[0;34m.\u001b[0m\u001b[0mitems\u001b[0m\u001b[0;34m(\u001b[0m\u001b[0;34m)\u001b[0m\u001b[0;34m:\u001b[0m\u001b[0;34m\u001b[0m\u001b[0;34m\u001b[0m\u001b[0m\n",
          "\u001b[0;32m<ipython-input-54-bcaaa3d4e8a3>\u001b[0m in \u001b[0;36mupdate\u001b[0;34m(platelength, u, pressure, temperature, gasname)\u001b[0m\n\u001b[1;32m     31\u001b[0m         \u001b[0mfig\u001b[0m\u001b[0;34m.\u001b[0m\u001b[0mgca\u001b[0m\u001b[0;34m(\u001b[0m\u001b[0;34m)\u001b[0m\u001b[0;34m.\u001b[0m\u001b[0mset_title\u001b[0m\u001b[0;34m(\u001b[0m\u001b[0mdesc\u001b[0m\u001b[0;34m)\u001b[0m\u001b[0;34m\u001b[0m\u001b[0;34m\u001b[0m\u001b[0m\n\u001b[1;32m     32\u001b[0m         \u001b[0;32mif\u001b[0m \u001b[0;32mnot\u001b[0m \u001b[0mnp\u001b[0m\u001b[0;34m.\u001b[0m\u001b[0misnan\u001b[0m\u001b[0;34m(\u001b[0m\u001b[0mg\u001b[0m\u001b[0;34m.\u001b[0m\u001b[0mdensity\u001b[0m\u001b[0;34m)\u001b[0m\u001b[0;34m:\u001b[0m\u001b[0;34m\u001b[0m\u001b[0;34m\u001b[0m\u001b[0m\n\u001b[0;32m---> 33\u001b[0;31m             \u001b[0mbl\u001b[0m\u001b[0;34m,\u001b[0m \u001b[0mtransition\u001b[0m \u001b[0;34m=\u001b[0m \u001b[0mmomentum_boundarylayer\u001b[0m\u001b[0;34m(\u001b[0m\u001b[0mx\u001b[0m\u001b[0;34m,\u001b[0m \u001b[0mu\u001b[0m\u001b[0;34m,\u001b[0m \u001b[0mg\u001b[0m\u001b[0;34m)\u001b[0m\u001b[0;34m\u001b[0m\u001b[0;34m\u001b[0m\u001b[0m\n\u001b[0m\u001b[1;32m     34\u001b[0m             \u001b[0mtransition_bl\u001b[0m\u001b[0;34m,\u001b[0m \u001b[0m_\u001b[0m \u001b[0;34m=\u001b[0m  \u001b[0mmomentum_boundarylayer\u001b[0m\u001b[0;34m(\u001b[0m\u001b[0mtransition\u001b[0m\u001b[0;34m[\u001b[0m\u001b[0;36m0\u001b[0m\u001b[0;34m]\u001b[0m\u001b[0;34m,\u001b[0m \u001b[0mu\u001b[0m\u001b[0;34m,\u001b[0m \u001b[0mg\u001b[0m\u001b[0;34m)\u001b[0m\u001b[0;34m\u001b[0m\u001b[0;34m\u001b[0m\u001b[0m\n\u001b[1;32m     35\u001b[0m             \u001b[0mwarningtext\u001b[0m\u001b[0;34m.\u001b[0m\u001b[0mset_visible\u001b[0m\u001b[0;34m(\u001b[0m\u001b[0;32mFalse\u001b[0m\u001b[0;34m)\u001b[0m\u001b[0;34m\u001b[0m\u001b[0;34m\u001b[0m\u001b[0m\n",
          "\u001b[0;32m<ipython-input-53-1d733dd3ef53>\u001b[0m in \u001b[0;36mmomentum_boundarylayer\u001b[0;34m(x, u, gas)\u001b[0m\n\u001b[1;32m      1\u001b[0m \u001b[0;31m#@np.vectorize\u001b[0m\u001b[0;34m\u001b[0m\u001b[0;34m\u001b[0m\u001b[0;34m\u001b[0m\u001b[0m\n\u001b[1;32m      2\u001b[0m \u001b[0;32mdef\u001b[0m \u001b[0mmomentum_boundarylayer\u001b[0m\u001b[0;34m(\u001b[0m\u001b[0mx\u001b[0m\u001b[0;34m,\u001b[0m \u001b[0mu\u001b[0m\u001b[0;34m,\u001b[0m \u001b[0mgas\u001b[0m\u001b[0;34m)\u001b[0m\u001b[0;34m:\u001b[0m\u001b[0;34m\u001b[0m\u001b[0;34m\u001b[0m\u001b[0m\n\u001b[0;32m----> 3\u001b[0;31m     \u001b[0mx\u001b[0m \u001b[0;34m=\u001b[0m \u001b[0mx\u001b[0m\u001b[0;34m.\u001b[0m\u001b[0masaarray\u001b[0m\u001b[0;34m(\u001b[0m\u001b[0;34m)\u001b[0m\u001b[0;34m\u001b[0m\u001b[0;34m\u001b[0m\u001b[0m\n\u001b[0m\u001b[1;32m      4\u001b[0m     \u001b[0;32mif\u001b[0m \u001b[0mx\u001b[0m\u001b[0;34m.\u001b[0m\u001b[0mndim\u001b[0m \u001b[0;34m==\u001b[0m \u001b[0;36m0\u001b[0m\u001b[0;34m:\u001b[0m\u001b[0;34m\u001b[0m\u001b[0;34m\u001b[0m\u001b[0m\n\u001b[1;32m      5\u001b[0m         \u001b[0mx\u001b[0m \u001b[0;34m=\u001b[0m \u001b[0mx\u001b[0m\u001b[0;34m[\u001b[0m\u001b[0mnp\u001b[0m\u001b[0;34m.\u001b[0m\u001b[0mnewaxis\u001b[0m\u001b[0;34m]\u001b[0m\u001b[0;34m\u001b[0m\u001b[0;34m\u001b[0m\u001b[0m\n",
          "\u001b[0;31mAttributeError\u001b[0m: 'numpy.ndarray' object has no attribute 'asaarray'"
         ]
        }
       ]
      }
     },
     "1b7a5856b66d46c8be107408fd716d75": {
      "model_module": "@jupyter-widgets/controls",
      "model_module_version": "1.5.0",
      "model_name": "HBoxModel",
      "state": {
       "children": [
        "IPY_MODEL_89d6491525a9437cb14d38a68ff9afeb",
        "IPY_MODEL_e45fb5327535441d82e55bde25c8b2e6",
        "IPY_MODEL_efd32ba1438e49aa807481ebb906ecb4"
       ],
       "layout": "IPY_MODEL_9c1e088404b54c54a56ec49106dbf609"
      }
     },
     "1bb4d9cf17214f34a1bf71cbd3446428": {
      "model_module": "@jupyter-widgets/controls",
      "model_module_version": "1.5.0",
      "model_name": "HBoxModel",
      "state": {
       "children": [
        "IPY_MODEL_fa41765e6af4468e9f85361076f4499b",
        "IPY_MODEL_955ed21541ee4c169e9fd15bb139eaf9",
        "IPY_MODEL_d188dff5b00a4b8f8d3d9ac18a686444"
       ],
       "layout": "IPY_MODEL_500de816685543419e34dc1bbb65b170"
      }
     },
     "1bf04ee4ce104e09b3b7c9fc9df91d43": {
      "model_module": "@jupyter-widgets/controls",
      "model_module_version": "1.5.0",
      "model_name": "DescriptionStyleModel",
      "state": {
       "description_width": ""
      }
     },
     "1c4469de4add433284e37e468fb79c25": {
      "model_module": "@jupyter-widgets/base",
      "model_module_version": "1.2.0",
      "model_name": "LayoutModel",
      "state": {
       "flex": "1 1 auto",
       "width": "auto"
      }
     },
     "1c545dfe4ba9487ab82ec495d4e3125c": {
      "model_module": "@jupyter-widgets/controls",
      "model_module_version": "1.5.0",
      "model_name": "DescriptionStyleModel",
      "state": {
       "description_width": ""
      }
     },
     "1c954526505c4c8eb24833198ad67bd3": {
      "model_module": "@jupyter-widgets/controls",
      "model_module_version": "1.5.0",
      "model_name": "LabelModel",
      "state": {
       "layout": "IPY_MODEL_4a933538b2584e8db81a461b8f2c4a74",
       "style": "IPY_MODEL_e7e8870281a74849bbd9ae76211695b8",
       "value": "Platelength in m"
      }
     },
     "1da47dc3e3ca403cb7249fcdcb474d20": {
      "model_module": "@jupyter-widgets/controls",
      "model_module_version": "1.5.0",
      "model_name": "DescriptionStyleModel",
      "state": {
       "description_width": ""
      }
     },
     "1ddb7b8dd1394dbd86c23b8ba7145a9c": {
      "model_module": "@jupyter-widgets/controls",
      "model_module_version": "1.5.0",
      "model_name": "DropdownModel",
      "state": {
       "_options_labels": [
        "1-Butene",
        "Acetone",
        "Air",
        "Ammonia",
        "Argon",
        "Benzene",
        "CarbonDioxide",
        "CarbonMonoxide",
        "CarbonylSulfide",
        "CycloHexane",
        "CycloPropane",
        "Cyclopentane",
        "D4",
        "D5",
        "D6",
        "Deuterium",
        "Dichloroethane",
        "DiethylEther",
        "DimethylCarbonate",
        "DimethylEther",
        "Ethane",
        "Ethanol",
        "EthylBenzene",
        "Ethylene",
        "EthyleneOxide",
        "Fluorine",
        "HFE143m",
        "HeavyWater",
        "Helium",
        "Hydrogen",
        "HydrogenChloride",
        "HydrogenSulfide",
        "IsoButane",
        "IsoButene",
        "Isohexane",
        "Isopentane",
        "Krypton",
        "MD2M",
        "MD3M",
        "MD4M",
        "MDM",
        "MM",
        "Methane",
        "Methanol",
        "MethylLinoleate",
        "MethylLinolenate",
        "MethylOleate",
        "MethylPalmitate",
        "MethylStearate",
        "Neon",
        "Neopentane",
        "Nitrogen",
        "NitrousOxide",
        "Novec649",
        "OrthoDeuterium",
        "OrthoHydrogen",
        "Oxygen",
        "ParaDeuterium",
        "ParaHydrogen",
        "Propylene",
        "Propyne",
        "R11",
        "R113",
        "R114",
        "R115",
        "R116",
        "R12",
        "R123",
        "R1233zd(E)",
        "R1234yf",
        "R1234ze(E)",
        "R1234ze(Z)",
        "R124",
        "R1243zf",
        "R125",
        "R13",
        "R134a",
        "R13I1",
        "R14",
        "R141b",
        "R142b",
        "R143a",
        "R152A",
        "R161",
        "R21",
        "R218",
        "R22",
        "R227EA",
        "R23",
        "R236EA",
        "R236FA",
        "R245ca",
        "R245fa",
        "R32",
        "R365MFC",
        "R40",
        "R404A",
        "R407C",
        "R41",
        "R410A",
        "R507A",
        "RC318",
        "SES36",
        "SulfurDioxide",
        "SulfurHexafluoride",
        "Toluene",
        "Water",
        "Xenon",
        "cis-2-Butene",
        "m-Xylene",
        "n-Butane",
        "n-Decane",
        "n-Dodecane",
        "n-Heptane",
        "n-Hexane",
        "n-Nonane",
        "n-Octane",
        "n-Pentane",
        "n-Propane",
        "n-Undecane",
        "o-Xylene",
        "p-Xylene",
        "trans-2-Butene"
       ],
       "index": 2,
       "layout": "IPY_MODEL_ecb75e769b9d4c02a378416c11899f3c",
       "style": "IPY_MODEL_81bc240afb624a71a94ee60b5ac6eb2c"
      }
     },
     "1e1ddaa1d3dd4340802adf44cf37f608": {
      "model_module": "@jupyter-widgets/controls",
      "model_module_version": "1.5.0",
      "model_name": "VBoxModel",
      "state": {
       "children": [
        "IPY_MODEL_64801f90d27e44bb8cc8b927e29ae6e1",
        "IPY_MODEL_cb16de7aafd746b1bfe0bcdf198d6d61",
        "IPY_MODEL_d0a528253ebd41528bb238e084b51e55"
       ],
       "layout": "IPY_MODEL_0f97f4fd5cfc4f31974c61b37cc160fb"
      }
     },
     "1e24675f7d1b4a7aa02fd3add9183c26": {
      "model_module": "@jupyter-widgets/base",
      "model_module_version": "1.2.0",
      "model_name": "LayoutModel",
      "state": {
       "flex": "1 1 auto",
       "min_height": "300px",
       "min_width": "400px",
       "width": "auto"
      }
     },
     "1e4da38b368949d09c722296b009a575": {
      "model_module": "@jupyter-widgets/controls",
      "model_module_version": "1.5.0",
      "model_name": "DescriptionStyleModel",
      "state": {
       "description_width": ""
      }
     },
     "1e54529f57d84166a83b1e7ed40f77b3": {
      "model_module": "@jupyter-widgets/output",
      "model_module_version": "1.0.0",
      "model_name": "OutputModel",
      "state": {
       "layout": "IPY_MODEL_91cec29efb4540d59bcc6f0dd7e6e999"
      }
     },
     "1e7300179522478fb4babdb22226aee1": {
      "model_module": "@jupyter-widgets/controls",
      "model_module_version": "1.5.0",
      "model_name": "DescriptionStyleModel",
      "state": {
       "description_width": ""
      }
     },
     "1e74e139a1744d389199949233a8e0fb": {
      "model_module": "@jupyter-widgets/controls",
      "model_module_version": "1.5.0",
      "model_name": "LabelModel",
      "state": {
       "layout": "IPY_MODEL_50df7e76796341fba117902b8db56953",
       "style": "IPY_MODEL_4ff24447dba346e09d07726d4e4c9dcc",
       "value": "Platelength in m"
      }
     },
     "1e7af9f2910141bf8e772f33716f967f": {
      "model_module": "@jupyter-widgets/base",
      "model_module_version": "1.2.0",
      "model_name": "LayoutModel",
      "state": {
       "flex": "10 1 auto",
       "width": "auto"
      }
     },
     "1ef490c1a5504f3abe611dfa4a94e918": {
      "model_module": "@jupyter-widgets/controls",
      "model_module_version": "1.5.0",
      "model_name": "DescriptionStyleModel",
      "state": {
       "description_width": ""
      }
     },
     "1ef7b2bb6b894eff9a9114c630fd6739": {
      "model_module": "@jupyter-widgets/base",
      "model_module_version": "1.2.0",
      "model_name": "LayoutModel",
      "state": {}
     },
     "1f0fd0693f704f03b4ad73f5cd1485b3": {
      "model_module": "@jupyter-widgets/base",
      "model_module_version": "1.2.0",
      "model_name": "LayoutModel",
      "state": {
       "flex": "1 1 auto",
       "width": "auto"
      }
     },
     "1f70412fe83a431bbe24b53f1a7c3dbd": {
      "model_module": "@jupyter-widgets/controls",
      "model_module_version": "1.5.0",
      "model_name": "SliderStyleModel",
      "state": {
       "description_width": ""
      }
     },
     "1f76518a319a441d8f04a6a279968bf2": {
      "model_module": "@jupyter-widgets/controls",
      "model_module_version": "1.5.0",
      "model_name": "VBoxModel",
      "state": {
       "children": [
        "IPY_MODEL_f68678d699df47f68f18c6602486cf3c",
        "IPY_MODEL_171047c2aa60496c9017bf9cb9b98ccc",
        "IPY_MODEL_09574563ca6f4084b964030397742605"
       ],
       "layout": "IPY_MODEL_e277732944e3453f98182087347e992d"
      }
     },
     "1f9045dfb09d4302a44e5fc61892b50f": {
      "model_module": "@jupyter-widgets/controls",
      "model_module_version": "1.5.0",
      "model_name": "FloatSliderModel",
      "state": {
       "layout": "IPY_MODEL_27409dc7e87f40b6b2c7554e810ffddb",
       "max": 15000000,
       "min": 1,
       "readout": false,
       "step": 100000,
       "style": "IPY_MODEL_d4cf7787b8b04f6d97c88e3a23f67b42",
       "value": 101325
      }
     },
     "1fb021509f324150b812159eb2cc47d2": {
      "model_module": "@jupyter-widgets/base",
      "model_module_version": "1.2.0",
      "model_name": "LayoutModel",
      "state": {
       "flex": "1 1 auto",
       "min_height": "300px",
       "min_width": "400px",
       "width": "auto"
      }
     },
     "1fbcd91dafa5499ca64ee5731f2c6e36": {
      "model_module": "@jupyter-widgets/controls",
      "model_module_version": "1.5.0",
      "model_name": "VBoxModel",
      "state": {
       "children": [
        "IPY_MODEL_0e30ecce94184ba7b0ff5a9bce91b56d",
        "IPY_MODEL_76205c7cb88647caaa39ebad55cd1628"
       ],
       "layout": "IPY_MODEL_f74d5510a8d147baac872115a4f2a7ad"
      }
     },
     "2030d2d1385a44d48d23fb80e165988f": {
      "model_module": "@jupyter-widgets/base",
      "model_module_version": "1.2.0",
      "model_name": "LayoutModel",
      "state": {
       "flex": "1 1 auto",
       "width": "auto"
      }
     },
     "20322507c2ec4e1db292a54f14742019": {
      "model_module": "@jupyter-widgets/controls",
      "model_module_version": "1.5.0",
      "model_name": "SliderStyleModel",
      "state": {
       "description_width": ""
      }
     },
     "20427a6bc5ff4433bf436e6b8ef31f4e": {
      "model_module": "@jupyter-widgets/controls",
      "model_module_version": "1.5.0",
      "model_name": "FloatSliderModel",
      "state": {
       "layout": "IPY_MODEL_af5e77b028ca4eee9aff07fecac2c118",
       "max": 55,
       "min": -30,
       "readout": false,
       "style": "IPY_MODEL_c6ea583b3c7249888e014bbe74acb4a0",
       "value": 20
      }
     },
     "204c8e6e33ad4fcb997d0c00ef8963ea": {
      "model_module": "@jupyter-widgets/controls",
      "model_module_version": "1.5.0",
      "model_name": "AccordionModel",
      "state": {
       "_titles": {
        "0": "Thermodynamic State",
        "1": "Flat Plate"
       },
       "children": [
        "IPY_MODEL_774d3fd473e9413a94a2626d05849c2c",
        "IPY_MODEL_fa8a5bc390cf49948c6d3baf577776f8"
       ],
       "layout": "IPY_MODEL_78fa6eac033743f198973a2c769f4532"
      }
     },
     "205ef363b7fa4987839e5381edb6c936": {
      "model_module": "@jupyter-widgets/base",
      "model_module_version": "1.2.0",
      "model_name": "LayoutModel",
      "state": {}
     },
     "20c258c5ac9b4c3795ca71c201d14e7a": {
      "model_module": "@jupyter-widgets/controls",
      "model_module_version": "1.5.0",
      "model_name": "DescriptionStyleModel",
      "state": {
       "description_width": ""
      }
     },
     "20dad43c533541a0ba39520daa167f6c": {
      "model_module": "@jupyter-widgets/base",
      "model_module_version": "1.2.0",
      "model_name": "LayoutModel",
      "state": {
       "display": "flex",
       "flex_flow": "row"
      }
     },
     "20e9f7fb87b94e748e2b8e409dc4b768": {
      "model_module": "@jupyter-widgets/base",
      "model_module_version": "1.2.0",
      "model_name": "LayoutModel",
      "state": {
       "flex": "10 1 auto",
       "width": "auto"
      }
     },
     "20fe0b9653e24f75a0030fa5b0c24d03": {
      "model_module": "@jupyter-widgets/base",
      "model_module_version": "1.2.0",
      "model_name": "LayoutModel",
      "state": {
       "display": "flex",
       "flex_flow": "row"
      }
     },
     "212f7f3b611c4c87a4c95c12e88b0fad": {
      "model_module": "@jupyter-widgets/controls",
      "model_module_version": "1.5.0",
      "model_name": "LabelModel",
      "state": {
       "layout": "IPY_MODEL_f3ad2c99aa9a4c019368c5f31be01090",
       "style": "IPY_MODEL_674abd1c8b294555ab9cb62dd860ff36",
       "value": "Platelength in m"
      }
     },
     "214d50bb12f8433a81eb5dbe6612a189": {
      "model_module": "@jupyter-widgets/controls",
      "model_module_version": "1.5.0",
      "model_name": "DescriptionStyleModel",
      "state": {
       "description_width": ""
      }
     },
     "215f62884b63479c9690332a8c3ac941": {
      "model_module": "@jupyter-widgets/base",
      "model_module_version": "1.2.0",
      "model_name": "LayoutModel",
      "state": {
       "display": "flex",
       "width": "100%"
      }
     },
     "21d8163451bd4f5bb0312f4287126e9b": {
      "model_module": "@jupyter-widgets/base",
      "model_module_version": "1.2.0",
      "model_name": "LayoutModel",
      "state": {
       "display": "flex",
       "flex_flow": "row"
      }
     },
     "2260084db2374e138bf8e58780c03d09": {
      "model_module": "@jupyter-widgets/controls",
      "model_module_version": "1.5.0",
      "model_name": "BoundedFloatTextModel",
      "state": {
       "layout": "IPY_MODEL_c1e596930f5e4012b1577e09b5931d94",
       "max": 15000000,
       "min": 1,
       "step": 100000,
       "style": "IPY_MODEL_65b5b1c4e57b4c6f83fe88c7fd9e7c46",
       "value": 101325
      }
     },
     "227bf29b0801443da6ab6ad65b10f055": {
      "model_module": "@jupyter-widgets/base",
      "model_module_version": "1.2.0",
      "model_name": "LayoutModel",
      "state": {}
     },
     "22d0ea0bff274d4989ba748dd5b21d45": {
      "model_module": "@jupyter-widgets/controls",
      "model_module_version": "1.5.0",
      "model_name": "SliderStyleModel",
      "state": {
       "description_width": ""
      }
     },
     "22f5d1a78d5142efb2ca79c34c8c4806": {
      "model_module": "@jupyter-widgets/controls",
      "model_module_version": "1.5.0",
      "model_name": "HBoxModel",
      "state": {
       "children": [
        "IPY_MODEL_bdceeebbe56b44b48b720e7e944e6b86",
        "IPY_MODEL_4e992e612f41439dbf54b10256977ab1",
        "IPY_MODEL_13c048383cc44263b174c0d5e13e5689"
       ],
       "layout": "IPY_MODEL_dfa5538d0ca34cae92b704598275b367"
      }
     },
     "2317d3b0b385456189ed38cee4d8ca80": {
      "model_module": "@jupyter-widgets/controls",
      "model_module_version": "1.5.0",
      "model_name": "FloatSliderModel",
      "state": {
       "layout": "IPY_MODEL_0d9d115ab44c4b98b6c34ea63c3152e1",
       "max": 15000000,
       "min": 1,
       "readout": false,
       "step": 100000,
       "style": "IPY_MODEL_7523d1e53af345c89727f0af59450582",
       "value": 101325
      }
     },
     "232e99ded3e84aca9962a04e6832fd6d": {
      "model_module": "@jupyter-widgets/base",
      "model_module_version": "1.2.0",
      "model_name": "LayoutModel",
      "state": {}
     },
     "23575ffab08348eaa55f1bade4ded495": {
      "model_module": "@jupyter-widgets/base",
      "model_module_version": "1.2.0",
      "model_name": "LayoutModel",
      "state": {
       "display": "flex",
       "flex_flow": "row"
      }
     },
     "2377d69daef74154bb280cc2030a7905": {
      "model_module": "@jupyter-widgets/base",
      "model_module_version": "1.2.0",
      "model_name": "LayoutModel",
      "state": {
       "flex": "1 1 auto",
       "width": "auto"
      }
     },
     "239571de5e064cb281f0e4b5d36fd399": {
      "model_module": "@jupyter-widgets/base",
      "model_module_version": "1.2.0",
      "model_name": "LayoutModel",
      "state": {
       "display": "flex",
       "width": "100%"
      }
     },
     "23c96e6ff6564b7ba9cd8a653c767528": {
      "model_module": "@jupyter-widgets/base",
      "model_module_version": "1.2.0",
      "model_name": "LayoutModel",
      "state": {
       "flex": "10 1 auto",
       "width": "auto"
      }
     },
     "2469b384a4f44a3ca7a9d9754f469099": {
      "model_module": "@jupyter-widgets/controls",
      "model_module_version": "1.5.0",
      "model_name": "HBoxModel",
      "state": {
       "children": [
        "IPY_MODEL_da4005af5242462fa4351dc25eb28280",
        "IPY_MODEL_8f1b72f7fc81444498d7e84c52d89199",
        "IPY_MODEL_15f41801190b49b4aee2bfd995d665d1"
       ],
       "layout": "IPY_MODEL_ee68fa4ea22a4182ac75b8efa67f9b24"
      }
     },
     "24c6f0b2a32543f193f603aac5e940b4": {
      "model_module": "@jupyter-widgets/controls",
      "model_module_version": "1.5.0",
      "model_name": "BoundedFloatTextModel",
      "state": {
       "layout": "IPY_MODEL_99686beef82a486198c871c1e49dea79",
       "max": 15000000,
       "min": 1,
       "step": 100000,
       "style": "IPY_MODEL_56b710775d294c479fec1ac0215caa09",
       "value": 101325
      }
     },
     "252dc57e858a4319b204ecd8bbeef60a": {
      "model_module": "@jupyter-widgets/base",
      "model_module_version": "1.2.0",
      "model_name": "LayoutModel",
      "state": {
       "flex": "1 1 auto",
       "width": "auto"
      }
     },
     "25728fb032a746048e15b342c91e3186": {
      "model_module": "@jupyter-widgets/controls",
      "model_module_version": "1.5.0",
      "model_name": "LabelModel",
      "state": {
       "layout": "IPY_MODEL_0e408ba311594286a40950f7053d79a3",
       "style": "IPY_MODEL_84f38746e4054bd1a62d8b5168dc39de",
       "value": "Gas / Specie Mixture:"
      }
     },
     "2580577d67bf4c4fa733b93c0d0a2313": {
      "model_module": "@jupyter-widgets/controls",
      "model_module_version": "1.5.0",
      "model_name": "LabelModel",
      "state": {
       "layout": "IPY_MODEL_a9e9debb70624a7b9620f6509265af8e",
       "style": "IPY_MODEL_429715a41de94284859cef7a70f867aa",
       "value": "Platelength in m"
      }
     },
     "2585632b407a492c88b6797837292c6b": {
      "model_module": "@jupyter-widgets/base",
      "model_module_version": "1.2.0",
      "model_name": "LayoutModel",
      "state": {
       "display": "flex",
       "flex_flow": "row"
      }
     },
     "25d4d125ad1147e9934ea2fdc284707a": {
      "model_module": "@jupyter-widgets/controls",
      "model_module_version": "1.5.0",
      "model_name": "HBoxModel",
      "state": {
       "children": [
        "IPY_MODEL_2580577d67bf4c4fa733b93c0d0a2313",
        "IPY_MODEL_c66921bceabf4067a07e90ddcdf6949b",
        "IPY_MODEL_a1c22361252e4bfea4d005d3a9587e16"
       ],
       "layout": "IPY_MODEL_70cb4cb6b9414017add1645f6cac6e9f"
      }
     },
     "25f372098cda4c6f9e65194768f50cd8": {
      "model_module": "@jupyter-widgets/controls",
      "model_module_version": "1.5.0",
      "model_name": "FloatSliderModel",
      "state": {
       "layout": "IPY_MODEL_9d7ddab15c404f0da73936317a8eee56",
       "max": 15000000,
       "min": 1,
       "readout": false,
       "step": 100000,
       "style": "IPY_MODEL_af3ba4a2fde9439e8546874fa09fea00",
       "value": 101325
      }
     },
     "26076683c2a24e1daab10f433d75ef88": {
      "model_module": "@jupyter-widgets/controls",
      "model_module_version": "1.5.0",
      "model_name": "AccordionModel",
      "state": {
       "_titles": {
        "0": "Thermodynamic State",
        "1": "Flat Plate"
       },
       "children": [
        "IPY_MODEL_967eb9ea8bb746d8b184dd3ee4ff7802",
        "IPY_MODEL_4042b4ed2b254124993c1febe2e1c69e"
       ],
       "layout": "IPY_MODEL_cd6acce932ef48fe93a2c433e8296bda"
      }
     },
     "2614ead484704cbea4a4c3e4b3e51117": {
      "model_module": "@jupyter-widgets/base",
      "model_module_version": "1.2.0",
      "model_name": "LayoutModel",
      "state": {
       "flex": "10 1 auto",
       "width": "auto"
      }
     },
     "268f14c19a9748f1848a363ff8c243cc": {
      "model_module": "@jupyter-widgets/base",
      "model_module_version": "1.2.0",
      "model_name": "LayoutModel",
      "state": {
       "display": "flex",
       "flex_flow": "row"
      }
     },
     "269098320ffe44669bb95155c60b7155": {
      "model_module": "@jupyter-widgets/controls",
      "model_module_version": "1.5.0",
      "model_name": "DescriptionStyleModel",
      "state": {
       "description_width": ""
      }
     },
     "26d451a292474b7e98ea6d02ab675313": {
      "model_module": "@jupyter-widgets/base",
      "model_module_version": "1.2.0",
      "model_name": "LayoutModel",
      "state": {
       "flex": "1 1 auto",
       "width": "auto"
      }
     },
     "26ddf5f0df6d4c82b634573063d498e0": {
      "model_module": "@jupyter-widgets/base",
      "model_module_version": "1.2.0",
      "model_name": "LayoutModel",
      "state": {
       "flex": "1 1 auto",
       "width": "auto"
      }
     },
     "26ea4c5b5e184da59c8038cd7dc78139": {
      "model_module": "@jupyter-widgets/controls",
      "model_module_version": "1.5.0",
      "model_name": "LabelModel",
      "state": {
       "layout": "IPY_MODEL_930fb0fa373f497fb4b5e4d286599c9f",
       "style": "IPY_MODEL_0aaeb87e15454ab2827c5ff6d0796073",
       "value": "Velocity in m/s:"
      }
     },
     "270efb87ded246e78455ccc8e03adfe6": {
      "model_module": "@jupyter-widgets/base",
      "model_module_version": "1.2.0",
      "model_name": "LayoutModel",
      "state": {
       "display": "flex",
       "flex_flow": "row"
      }
     },
     "27409dc7e87f40b6b2c7554e810ffddb": {
      "model_module": "@jupyter-widgets/base",
      "model_module_version": "1.2.0",
      "model_name": "LayoutModel",
      "state": {
       "flex": "10 1 auto",
       "width": "auto"
      }
     },
     "274a77da0c0449b4ade40c2f175eaca1": {
      "model_module": "@jupyter-widgets/base",
      "model_module_version": "1.2.0",
      "model_name": "LayoutModel",
      "state": {
       "flex": "10 1 auto",
       "width": "auto"
      }
     },
     "278207a1c9d8493d93e0ef3a4023932d": {
      "model_module": "@jupyter-widgets/controls",
      "model_module_version": "1.5.0",
      "model_name": "FloatSliderModel",
      "state": {
       "layout": "IPY_MODEL_b252b96deec1490c80823fdf9531f770",
       "max": 55,
       "min": -30,
       "readout": false,
       "style": "IPY_MODEL_d1b6b713d685425da90ebfcb6a8da8ec",
       "value": 20
      }
     },
     "278b639690f241d9b6cc2213aa4b32f4": {
      "model_module": "@jupyter-widgets/controls",
      "model_module_version": "1.5.0",
      "model_name": "BoundedFloatTextModel",
      "state": {
       "layout": "IPY_MODEL_e6c4f9348345469bb1e99aba9a362eb2",
       "max": 10,
       "min": 0.001,
       "step": 0.001,
       "style": "IPY_MODEL_a0077b1df8864874a6e1191a9bd6937f",
       "value": 0.1
      }
     },
     "27a040a3904a4f16be75879c9b32f4a6": {
      "model_module": "@jupyter-widgets/controls",
      "model_module_version": "1.5.0",
      "model_name": "AccordionModel",
      "state": {
       "_titles": {
        "0": "Thermodynamic State",
        "1": "Flat Plate"
       },
       "children": [
        "IPY_MODEL_c3d1b480c5854b8c871fa6321bfd6cc5",
        "IPY_MODEL_7de3acd7138342abad51725de791f230"
       ],
       "layout": "IPY_MODEL_2d1426d897ce496c8023c7196f023fe2"
      }
     },
     "27c4d05221124392b986c07ecd1e504c": {
      "model_module": "@jupyter-widgets/controls",
      "model_module_version": "1.5.0",
      "model_name": "LabelModel",
      "state": {
       "layout": "IPY_MODEL_eba98f7f56c847bcabf6bbaa4ec7dcb9",
       "style": "IPY_MODEL_41447fb98dc149f2a7aec8ae21564215",
       "value": "Temperature in °C:"
      }
     },
     "27ce222da5ee4ea8bd354cc224b4359e": {
      "model_module": "@jupyter-widgets/controls",
      "model_module_version": "1.5.0",
      "model_name": "DescriptionStyleModel",
      "state": {
       "description_width": ""
      }
     },
     "281732cc7f094e5591cc06f6d37313ce": {
      "model_module": "@jupyter-widgets/base",
      "model_module_version": "1.2.0",
      "model_name": "LayoutModel",
      "state": {
       "flex": "10 1 auto",
       "width": "auto"
      }
     },
     "282fde11e4fc4cedbf703b022850a8d0": {
      "model_module": "@jupyter-widgets/base",
      "model_module_version": "1.2.0",
      "model_name": "LayoutModel",
      "state": {
       "flex": "1 1 auto",
       "width": "auto"
      }
     },
     "28306bf8fade441ca66fad7771746bac": {
      "model_module": "@jupyter-widgets/controls",
      "model_module_version": "1.5.0",
      "model_name": "BoundedFloatTextModel",
      "state": {
       "layout": "IPY_MODEL_8e42f8840fbe440c93a0faf217e3a722",
       "max": 55,
       "min": -30,
       "step": 1,
       "style": "IPY_MODEL_dfb1ed596fd24f10bc693719a92d625c",
       "value": 20
      }
     },
     "2886c6785bc04421be5cd31a51a928f4": {
      "model_module": "@jupyter-widgets/base",
      "model_module_version": "1.2.0",
      "model_name": "LayoutModel",
      "state": {}
     },
     "289aa6fb6dad44e2868c52ff5fc1dd4d": {
      "model_module": "@jupyter-widgets/controls",
      "model_module_version": "1.5.0",
      "model_name": "DescriptionStyleModel",
      "state": {
       "description_width": ""
      }
     },
     "28a048c065e641e882ac4122eb2cbba3": {
      "model_module": "@jupyter-widgets/controls",
      "model_module_version": "1.5.0",
      "model_name": "HBoxModel",
      "state": {
       "children": [
        "IPY_MODEL_09c517d7eacf413fae617652c8ede62f",
        "IPY_MODEL_7c679976c13149888d11764476f1c33e",
        "IPY_MODEL_2e5af2653ac44484b65e5be32edcec82"
       ],
       "layout": "IPY_MODEL_db063d73fa6a4078bb11c2f8d3bec1a8"
      }
     },
     "28a1b744195f41b88c51a2200faae74c": {
      "model_module": "@jupyter-widgets/controls",
      "model_module_version": "1.5.0",
      "model_name": "DescriptionStyleModel",
      "state": {
       "description_width": ""
      }
     },
     "28e984d0b2ea4327b95e5d6014fbe8f8": {
      "model_module": "@jupyter-widgets/base",
      "model_module_version": "1.2.0",
      "model_name": "LayoutModel",
      "state": {
       "flex": "1 1 auto",
       "width": "auto"
      }
     },
     "293c1bce4345465f8b402e528b7ae497": {
      "model_module": "@jupyter-widgets/controls",
      "model_module_version": "1.5.0",
      "model_name": "DescriptionStyleModel",
      "state": {
       "description_width": ""
      }
     },
     "294e1b86e64b493fac26d5b8eecf0fd6": {
      "model_module": "@jupyter-widgets/base",
      "model_module_version": "1.2.0",
      "model_name": "LayoutModel",
      "state": {
       "display": "flex",
       "flex_flow": "row"
      }
     },
     "296c9dc5b4084a7e9df4e8b507359dc4": {
      "model_module": "@jupyter-widgets/controls",
      "model_module_version": "1.5.0",
      "model_name": "HBoxModel",
      "state": {
       "children": [
        "IPY_MODEL_d7cab04025114a7b97c490e88e153116",
        "IPY_MODEL_a42f9304600c490e96bb2121ff4aec77",
        "IPY_MODEL_278b639690f241d9b6cc2213aa4b32f4"
       ],
       "layout": "IPY_MODEL_239571de5e064cb281f0e4b5d36fd399"
      }
     },
     "2980173cc111432f97f5f5e619ca2a40": {
      "model_module": "@jupyter-widgets/controls",
      "model_module_version": "1.5.0",
      "model_name": "FloatSliderModel",
      "state": {
       "layout": "IPY_MODEL_d86bb572d185426abe79594aa217bcd7",
       "max": 55,
       "min": -30,
       "readout": false,
       "style": "IPY_MODEL_6311fda069a9403ab3858bbc1de58d77",
       "value": 20
      }
     },
     "29b1c89518e84836873278cb911ac7ef": {
      "model_module": "@jupyter-widgets/base",
      "model_module_version": "1.2.0",
      "model_name": "LayoutModel",
      "state": {
       "flex": "1 1 auto",
       "width": "auto"
      }
     },
     "29bd00599c3d4d678ec1a8ff13b68e2c": {
      "model_module": "@jupyter-widgets/base",
      "model_module_version": "1.2.0",
      "model_name": "LayoutModel",
      "state": {
       "display": "flex",
       "width": "100%"
      }
     },
     "2a18e276919247a0942c1ce42bb6be8a": {
      "model_module": "@jupyter-widgets/controls",
      "model_module_version": "1.5.0",
      "model_name": "VBoxModel",
      "state": {
       "children": [
        "IPY_MODEL_41ec3acb3f3146e7a8ce673a13526778",
        "IPY_MODEL_ff256e0473cd4a2c99266d9094709b45"
       ],
       "layout": "IPY_MODEL_9557fae34a3340dc9f36a679c72fe7cc"
      }
     },
     "2a711da41af149aaa069464ab8d14316": {
      "model_module": "@jupyter-widgets/base",
      "model_module_version": "1.2.0",
      "model_name": "LayoutModel",
      "state": {
       "flex": "1 1 auto",
       "width": "auto"
      }
     },
     "2a87b149a7ce4a5f86656166cc09ef8f": {
      "model_module": "@jupyter-widgets/controls",
      "model_module_version": "1.5.0",
      "model_name": "BoundedFloatTextModel",
      "state": {
       "layout": "IPY_MODEL_b956a80f475647c2b7ebcba1abd6ffb5",
       "max": 10,
       "min": 0.001,
       "step": 0.001,
       "style": "IPY_MODEL_672bf62934404117a258a966751ca554",
       "value": 0.1
      }
     },
     "2aa7d14adedd464c850f47c17e292f4c": {
      "model_module": "@jupyter-widgets/controls",
      "model_module_version": "1.5.0",
      "model_name": "FloatSliderModel",
      "state": {
       "layout": "IPY_MODEL_8b566c75cfed44af9c993e260fb26c91",
       "max": 15000000,
       "min": 1,
       "readout": false,
       "step": 100000,
       "style": "IPY_MODEL_e9833396539e49af983f622e906ba056",
       "value": 101325
      }
     },
     "2aaa73b757db49998ae45b7dbdeb35fd": {
      "model_module": "@jupyter-widgets/controls",
      "model_module_version": "1.5.0",
      "model_name": "DropdownModel",
      "state": {
       "_options_labels": [
        "1-Butene",
        "Acetone",
        "Air",
        "Ammonia",
        "Argon",
        "Benzene",
        "CarbonDioxide",
        "CarbonMonoxide",
        "CarbonylSulfide",
        "CycloHexane",
        "CycloPropane",
        "Cyclopentane",
        "D4",
        "D5",
        "D6",
        "Deuterium",
        "Dichloroethane",
        "DiethylEther",
        "DimethylCarbonate",
        "DimethylEther",
        "Ethane",
        "Ethanol",
        "EthylBenzene",
        "Ethylene",
        "EthyleneOxide",
        "Fluorine",
        "HFE143m",
        "HeavyWater",
        "Helium",
        "Hydrogen",
        "HydrogenChloride",
        "HydrogenSulfide",
        "IsoButane",
        "IsoButene",
        "Isohexane",
        "Isopentane",
        "Krypton",
        "MD2M",
        "MD3M",
        "MD4M",
        "MDM",
        "MM",
        "Methane",
        "Methanol",
        "MethylLinoleate",
        "MethylLinolenate",
        "MethylOleate",
        "MethylPalmitate",
        "MethylStearate",
        "Neon",
        "Neopentane",
        "Nitrogen",
        "NitrousOxide",
        "Novec649",
        "OrthoDeuterium",
        "OrthoHydrogen",
        "Oxygen",
        "ParaDeuterium",
        "ParaHydrogen",
        "Propylene",
        "Propyne",
        "R11",
        "R113",
        "R114",
        "R115",
        "R116",
        "R12",
        "R123",
        "R1233zd(E)",
        "R1234yf",
        "R1234ze(E)",
        "R1234ze(Z)",
        "R124",
        "R1243zf",
        "R125",
        "R13",
        "R134a",
        "R13I1",
        "R14",
        "R141b",
        "R142b",
        "R143a",
        "R152A",
        "R161",
        "R21",
        "R218",
        "R22",
        "R227EA",
        "R23",
        "R236EA",
        "R236FA",
        "R245ca",
        "R245fa",
        "R32",
        "R365MFC",
        "R40",
        "R404A",
        "R407C",
        "R41",
        "R410A",
        "R507A",
        "RC318",
        "SES36",
        "SulfurDioxide",
        "SulfurHexafluoride",
        "Toluene",
        "Water",
        "Xenon",
        "cis-2-Butene",
        "m-Xylene",
        "n-Butane",
        "n-Decane",
        "n-Dodecane",
        "n-Heptane",
        "n-Hexane",
        "n-Nonane",
        "n-Octane",
        "n-Pentane",
        "n-Propane",
        "n-Undecane",
        "o-Xylene",
        "p-Xylene",
        "trans-2-Butene"
       ],
       "index": 2,
       "layout": "IPY_MODEL_51e0742c75ad49f5b36c0af36d4b5f9e",
       "style": "IPY_MODEL_4d5ccd09f6124d93a251d8fbdc05671d"
      }
     },
     "2aaba1e93e8d49a0ac5aa5305912edc9": {
      "model_module": "@jupyter-widgets/controls",
      "model_module_version": "1.5.0",
      "model_name": "DropdownModel",
      "state": {
       "_options_labels": [
        "1-Butene",
        "Acetone",
        "Air",
        "Ammonia",
        "Argon",
        "Benzene",
        "CarbonDioxide",
        "CarbonMonoxide",
        "CarbonylSulfide",
        "CycloHexane",
        "CycloPropane",
        "Cyclopentane",
        "D4",
        "D5",
        "D6",
        "Deuterium",
        "Dichloroethane",
        "DiethylEther",
        "DimethylCarbonate",
        "DimethylEther",
        "Ethane",
        "Ethanol",
        "EthylBenzene",
        "Ethylene",
        "EthyleneOxide",
        "Fluorine",
        "HFE143m",
        "HeavyWater",
        "Helium",
        "Hydrogen",
        "HydrogenChloride",
        "HydrogenSulfide",
        "IsoButane",
        "IsoButene",
        "Isohexane",
        "Isopentane",
        "Krypton",
        "MD2M",
        "MD3M",
        "MD4M",
        "MDM",
        "MM",
        "Methane",
        "Methanol",
        "MethylLinoleate",
        "MethylLinolenate",
        "MethylOleate",
        "MethylPalmitate",
        "MethylStearate",
        "Neon",
        "Neopentane",
        "Nitrogen",
        "NitrousOxide",
        "Novec649",
        "OrthoDeuterium",
        "OrthoHydrogen",
        "Oxygen",
        "ParaDeuterium",
        "ParaHydrogen",
        "Propylene",
        "Propyne",
        "R11",
        "R113",
        "R114",
        "R115",
        "R116",
        "R12",
        "R123",
        "R1233zd(E)",
        "R1234yf",
        "R1234ze(E)",
        "R1234ze(Z)",
        "R124",
        "R1243zf",
        "R125",
        "R13",
        "R134a",
        "R13I1",
        "R14",
        "R141b",
        "R142b",
        "R143a",
        "R152A",
        "R161",
        "R21",
        "R218",
        "R22",
        "R227EA",
        "R23",
        "R236EA",
        "R236FA",
        "R245ca",
        "R245fa",
        "R32",
        "R365MFC",
        "R40",
        "R404A",
        "R407C",
        "R41",
        "R410A",
        "R507A",
        "RC318",
        "SES36",
        "SulfurDioxide",
        "SulfurHexafluoride",
        "Toluene",
        "Water",
        "Xenon",
        "cis-2-Butene",
        "m-Xylene",
        "n-Butane",
        "n-Decane",
        "n-Dodecane",
        "n-Heptane",
        "n-Hexane",
        "n-Nonane",
        "n-Octane",
        "n-Pentane",
        "n-Propane",
        "n-Undecane",
        "o-Xylene",
        "p-Xylene",
        "trans-2-Butene"
       ],
       "index": 2,
       "layout": "IPY_MODEL_e5a5bd1274864300a3be12f0ea0ff20a",
       "style": "IPY_MODEL_3a719d50747d4b7e97d21a18038ce2f8"
      }
     },
     "2ac041e76a31429e800264895d054e65": {
      "model_module": "@jupyter-widgets/base",
      "model_module_version": "1.2.0",
      "model_name": "LayoutModel",
      "state": {
       "flex": "1 1 auto",
       "width": "auto"
      }
     },
     "2ad9d8bcd96c4dd0a1f4f281bcd0050e": {
      "model_module": "@jupyter-widgets/base",
      "model_module_version": "1.2.0",
      "model_name": "LayoutModel",
      "state": {
       "flex": "1 1 auto",
       "width": "auto"
      }
     },
     "2ae49341911f4593be837815766b4b00": {
      "model_module": "@jupyter-widgets/controls",
      "model_module_version": "1.5.0",
      "model_name": "LabelModel",
      "state": {
       "layout": "IPY_MODEL_c0c5926f0d0a4329ac8f48eed817bab9",
       "style": "IPY_MODEL_fbd23c23e3e244e48f1080d84403c385",
       "value": "Platelength in m"
      }
     },
     "2ae5ebd07e7540fe99bfa6871202095e": {
      "model_module": "@jupyter-widgets/base",
      "model_module_version": "1.2.0",
      "model_name": "LayoutModel",
      "state": {
       "flex": "1 1 auto",
       "width": "auto"
      }
     },
     "2afb97dcc1f047728789a632d05b5df4": {
      "model_module": "@jupyter-widgets/controls",
      "model_module_version": "1.5.0",
      "model_name": "SliderStyleModel",
      "state": {
       "description_width": ""
      }
     },
     "2b094860a5dc4ff7b8dcf7908dee127a": {
      "model_module": "@jupyter-widgets/base",
      "model_module_version": "1.2.0",
      "model_name": "LayoutModel",
      "state": {}
     },
     "2b3364cc17d149c98cc44a68f0e9dc4d": {
      "model_module": "@jupyter-widgets/controls",
      "model_module_version": "1.5.0",
      "model_name": "DescriptionStyleModel",
      "state": {
       "description_width": ""
      }
     },
     "2b5ad87235b94d3c805a7b47fedfcf08": {
      "model_module": "@jupyter-widgets/controls",
      "model_module_version": "1.5.0",
      "model_name": "BoundedFloatTextModel",
      "state": {
       "layout": "IPY_MODEL_26d451a292474b7e98ea6d02ab675313",
       "max": 200,
       "min": 0.001,
       "step": 0.001,
       "style": "IPY_MODEL_87de0670fdd94431b9cdc3fdabb94f1e",
       "value": 20
      }
     },
     "2bc52a4e9bca44f78d6932c5e33aada4": {
      "model_module": "@jupyter-widgets/controls",
      "model_module_version": "1.5.0",
      "model_name": "DescriptionStyleModel",
      "state": {
       "description_width": ""
      }
     },
     "2bd2b960768747ab842d240b09879b1b": {
      "model_module": "@jupyter-widgets/base",
      "model_module_version": "1.2.0",
      "model_name": "LayoutModel",
      "state": {}
     },
     "2c0f93e275d34cf5b499ba98bfa98e5d": {
      "model_module": "@jupyter-widgets/base",
      "model_module_version": "1.2.0",
      "model_name": "LayoutModel",
      "state": {
       "flex": "10 1 auto",
       "width": "auto"
      }
     },
     "2c14464491f04bc988501618abedc396": {
      "model_module": "@jupyter-widgets/controls",
      "model_module_version": "1.5.0",
      "model_name": "BoundedFloatTextModel",
      "state": {
       "layout": "IPY_MODEL_49a067f25bd741e5867000d98f730df4",
       "max": 55,
       "min": -30,
       "step": 1,
       "style": "IPY_MODEL_2fc4486625ab47759f38a4b7e1850650",
       "value": 20
      }
     },
     "2c37d4dcc8604c488732004154ffe52a": {
      "model_module": "@jupyter-widgets/controls",
      "model_module_version": "1.5.0",
      "model_name": "HBoxModel",
      "state": {
       "children": [
        "IPY_MODEL_8740658ad12b41f381d2149603732e82",
        "IPY_MODEL_6884465e11404a1b9421805bda4a8a32",
        "IPY_MODEL_555593095246447d946279746211081d"
       ],
       "layout": "IPY_MODEL_8bb3f1f2db6d4d568f15976c51f20c45"
      }
     },
     "2c4716733597440594781b20a90279ac": {
      "model_module": "@jupyter-widgets/base",
      "model_module_version": "1.2.0",
      "model_name": "LayoutModel",
      "state": {
       "flex": "10 1 auto",
       "width": "auto"
      }
     },
     "2c5b294c98e14b1a8985a80e73332810": {
      "model_module": "@jupyter-widgets/base",
      "model_module_version": "1.2.0",
      "model_name": "LayoutModel",
      "state": {}
     },
     "2c857cf36663489a8aebb094f44717de": {
      "model_module": "@jupyter-widgets/base",
      "model_module_version": "1.2.0",
      "model_name": "LayoutModel",
      "state": {}
     },
     "2cb210001136404983d9032dcf189b42": {
      "model_module": "@jupyter-widgets/controls",
      "model_module_version": "1.5.0",
      "model_name": "BoundedFloatTextModel",
      "state": {
       "layout": "IPY_MODEL_7a81cd612587459bae3027364e292fa4",
       "max": 10,
       "min": 0.001,
       "step": 0.001,
       "style": "IPY_MODEL_2eaf464116e046129bf05b565b8f319e",
       "value": 0.1
      }
     },
     "2cd7e4b4a6864f06a8b90beb2814d2ec": {
      "model_module": "@jupyter-widgets/controls",
      "model_module_version": "1.5.0",
      "model_name": "AccordionModel",
      "state": {
       "_titles": {
        "0": "Thermodynamic State",
        "1": "Flat Plate"
       },
       "children": [
        "IPY_MODEL_e7ce8ba482a04104ba3a4ce47dc9a57b",
        "IPY_MODEL_6450d49dd9c544af9a046a83d3844857"
       ],
       "layout": "IPY_MODEL_54a0ef7bf95044fbb1b2a539df037038"
      }
     },
     "2d1326c0b394417ea198522178773c02": {
      "model_module": "@jupyter-widgets/base",
      "model_module_version": "1.2.0",
      "model_name": "LayoutModel",
      "state": {
       "display": "flex",
       "width": "100%"
      }
     },
     "2d1426d897ce496c8023c7196f023fe2": {
      "model_module": "@jupyter-widgets/base",
      "model_module_version": "1.2.0",
      "model_name": "LayoutModel",
      "state": {}
     },
     "2d6273954de640d3bdadaf4da21594f8": {
      "model_module": "@jupyter-widgets/controls",
      "model_module_version": "1.5.0",
      "model_name": "DescriptionStyleModel",
      "state": {
       "description_width": ""
      }
     },
     "2d62c12c94534d69a9a270056813687f": {
      "model_module": "@jupyter-widgets/controls",
      "model_module_version": "1.5.0",
      "model_name": "HBoxModel",
      "state": {
       "children": [
        "IPY_MODEL_eb79c6942c994073be3270bc00ebe199",
        "IPY_MODEL_b7493057a4354a1ba04497567bfd1bad",
        "IPY_MODEL_9d538bbdf8d74114b48d86ce243ef406"
       ],
       "layout": "IPY_MODEL_3037bc730fd9485da1250d024205b22b"
      }
     },
     "2d7193358dd542af80ba17e640903186": {
      "model_module": "@jupyter-widgets/base",
      "model_module_version": "1.2.0",
      "model_name": "LayoutModel",
      "state": {
       "flex": "10 1 auto",
       "width": "auto"
      }
     },
     "2d8c3a8b78594495a99d8f1080978024": {
      "model_module": "@jupyter-widgets/controls",
      "model_module_version": "1.5.0",
      "model_name": "DescriptionStyleModel",
      "state": {
       "description_width": ""
      }
     },
     "2d913b7149c643e5a507064d89c187d3": {
      "model_module": "@jupyter-widgets/controls",
      "model_module_version": "1.5.0",
      "model_name": "DescriptionStyleModel",
      "state": {
       "description_width": ""
      }
     },
     "2da759788c9b4bd9a2726bcc6360c3f6": {
      "model_module": "@jupyter-widgets/controls",
      "model_module_version": "1.5.0",
      "model_name": "LabelModel",
      "state": {
       "layout": "IPY_MODEL_40cbbbe767464a29bf96a081c8461526",
       "style": "IPY_MODEL_9d13b4e9cd12465b826a89686bbf6467",
       "value": "Gas / Specie Mixture:"
      }
     },
     "2ddb93f06df84b18b8a3a82535d9ab32": {
      "model_module": "@jupyter-widgets/controls",
      "model_module_version": "1.5.0",
      "model_name": "DescriptionStyleModel",
      "state": {
       "description_width": ""
      }
     },
     "2de19f2f7b6449e2b4df08d522e34fcc": {
      "model_module": "@jupyter-widgets/base",
      "model_module_version": "1.2.0",
      "model_name": "LayoutModel",
      "state": {}
     },
     "2e121da9de624deab0268d857bbf8a1b": {
      "model_module": "@jupyter-widgets/base",
      "model_module_version": "1.2.0",
      "model_name": "LayoutModel",
      "state": {
       "flex": "10 1 auto",
       "width": "auto"
      }
     },
     "2e31349d558948f9a3a3dc8cdb0efe15": {
      "model_module": "@jupyter-widgets/controls",
      "model_module_version": "1.5.0",
      "model_name": "FloatSliderModel",
      "state": {
       "layout": "IPY_MODEL_b4db9a2ea4ff41e6b144f0f8e2f05cb8",
       "max": 10,
       "min": 0.001,
       "readout": false,
       "step": 0.001,
       "style": "IPY_MODEL_59479fa69a594b37b67d3ad622ee7618",
       "value": 0.1
      }
     },
     "2e3d3ebdbd5d4dc29811ceee90b9ac46": {
      "model_module": "@jupyter-widgets/controls",
      "model_module_version": "1.5.0",
      "model_name": "DropdownModel",
      "state": {
       "_options_labels": [
        "1-Butene",
        "Acetone",
        "Air",
        "Ammonia",
        "Argon",
        "Benzene",
        "CarbonDioxide",
        "CarbonMonoxide",
        "CarbonylSulfide",
        "CycloHexane",
        "CycloPropane",
        "Cyclopentane",
        "D4",
        "D5",
        "D6",
        "Deuterium",
        "Dichloroethane",
        "DiethylEther",
        "DimethylCarbonate",
        "DimethylEther",
        "Ethane",
        "Ethanol",
        "EthylBenzene",
        "Ethylene",
        "EthyleneOxide",
        "Fluorine",
        "HFE143m",
        "HeavyWater",
        "Helium",
        "Hydrogen",
        "HydrogenChloride",
        "HydrogenSulfide",
        "IsoButane",
        "IsoButene",
        "Isohexane",
        "Isopentane",
        "Krypton",
        "MD2M",
        "MD3M",
        "MD4M",
        "MDM",
        "MM",
        "Methane",
        "Methanol",
        "MethylLinoleate",
        "MethylLinolenate",
        "MethylOleate",
        "MethylPalmitate",
        "MethylStearate",
        "Neon",
        "Neopentane",
        "Nitrogen",
        "NitrousOxide",
        "Novec649",
        "OrthoDeuterium",
        "OrthoHydrogen",
        "Oxygen",
        "ParaDeuterium",
        "ParaHydrogen",
        "Propylene",
        "Propyne",
        "R11",
        "R113",
        "R114",
        "R115",
        "R116",
        "R12",
        "R123",
        "R1233zd(E)",
        "R1234yf",
        "R1234ze(E)",
        "R1234ze(Z)",
        "R124",
        "R1243zf",
        "R125",
        "R13",
        "R134a",
        "R13I1",
        "R14",
        "R141b",
        "R142b",
        "R143a",
        "R152A",
        "R161",
        "R21",
        "R218",
        "R22",
        "R227EA",
        "R23",
        "R236EA",
        "R236FA",
        "R245ca",
        "R245fa",
        "R32",
        "R365MFC",
        "R40",
        "R404A",
        "R407C",
        "R41",
        "R410A",
        "R507A",
        "RC318",
        "SES36",
        "SulfurDioxide",
        "SulfurHexafluoride",
        "Toluene",
        "Water",
        "Xenon",
        "cis-2-Butene",
        "m-Xylene",
        "n-Butane",
        "n-Decane",
        "n-Dodecane",
        "n-Heptane",
        "n-Hexane",
        "n-Nonane",
        "n-Octane",
        "n-Pentane",
        "n-Propane",
        "n-Undecane",
        "o-Xylene",
        "p-Xylene",
        "trans-2-Butene"
       ],
       "index": 2,
       "layout": "IPY_MODEL_f240532a1f0a43dbbfa737d4dacb8b94",
       "style": "IPY_MODEL_fb885fff30f14ce1a2c4e7a036f2a074"
      }
     },
     "2e5af2653ac44484b65e5be32edcec82": {
      "model_module": "@jupyter-widgets/controls",
      "model_module_version": "1.5.0",
      "model_name": "BoundedFloatTextModel",
      "state": {
       "layout": "IPY_MODEL_a5a5c083d7804fa4a316679b9f5ff4f1",
       "max": 55,
       "min": -30,
       "step": 1,
       "style": "IPY_MODEL_b5fcd078656d4624a8eaa281d23a0990",
       "value": 20
      }
     },
     "2ea7642c7a6144039b3e1a9c7667722f": {
      "model_module": "@jupyter-widgets/base",
      "model_module_version": "1.2.0",
      "model_name": "LayoutModel",
      "state": {
       "flex": "10 1 auto",
       "width": "auto"
      }
     },
     "2eaf464116e046129bf05b565b8f319e": {
      "model_module": "@jupyter-widgets/controls",
      "model_module_version": "1.5.0",
      "model_name": "DescriptionStyleModel",
      "state": {
       "description_width": ""
      }
     },
     "2ecc36179b8a42888e55a2fcb8d2614a": {
      "model_module": "@jupyter-widgets/base",
      "model_module_version": "1.2.0",
      "model_name": "LayoutModel",
      "state": {
       "flex": "1 1 auto",
       "width": "auto"
      }
     },
     "2ed53f7832194a7d9eed1ff21104e221": {
      "model_module": "@jupyter-widgets/base",
      "model_module_version": "1.2.0",
      "model_name": "LayoutModel",
      "state": {
       "display": "flex",
       "flex_flow": "row"
      }
     },
     "2eeba9f63ce749a780809a7cc9afd7fb": {
      "model_module": "@jupyter-widgets/controls",
      "model_module_version": "1.5.0",
      "model_name": "DescriptionStyleModel",
      "state": {
       "description_width": ""
      }
     },
     "2f3c4dfa327444c2939cee9b15ddabc8": {
      "model_module": "@jupyter-widgets/base",
      "model_module_version": "1.2.0",
      "model_name": "LayoutModel",
      "state": {}
     },
     "2f7ed3b7b215479cb127d5cba9847995": {
      "model_module": "@jupyter-widgets/controls",
      "model_module_version": "1.5.0",
      "model_name": "DescriptionStyleModel",
      "state": {
       "description_width": ""
      }
     },
     "2fc4486625ab47759f38a4b7e1850650": {
      "model_module": "@jupyter-widgets/controls",
      "model_module_version": "1.5.0",
      "model_name": "DescriptionStyleModel",
      "state": {
       "description_width": ""
      }
     },
     "30102af7903542c8aa2db395c0f5f261": {
      "model_module": "@jupyter-widgets/base",
      "model_module_version": "1.2.0",
      "model_name": "LayoutModel",
      "state": {
       "display": "flex",
       "flex_flow": "row"
      }
     },
     "3028baac45dd4970808801b4ac321a94": {
      "model_module": "@jupyter-widgets/controls",
      "model_module_version": "1.5.0",
      "model_name": "BoundedFloatTextModel",
      "state": {
       "layout": "IPY_MODEL_5ff74f1ac31d408e9d57634493ba6253",
       "max": 10,
       "min": 0.001,
       "step": 0.001,
       "style": "IPY_MODEL_1e7300179522478fb4babdb22226aee1",
       "value": 0.1
      }
     },
     "3037bc730fd9485da1250d024205b22b": {
      "model_module": "@jupyter-widgets/base",
      "model_module_version": "1.2.0",
      "model_name": "LayoutModel",
      "state": {
       "display": "flex",
       "width": "100%"
      }
     },
     "3045fd5c720f4ee3be3f4f35a10f57be": {
      "model_module": "@jupyter-widgets/controls",
      "model_module_version": "1.5.0",
      "model_name": "HBoxModel",
      "state": {
       "children": [
        "IPY_MODEL_554bd3acd53f44e88ab842ce7e8634b6",
        "IPY_MODEL_6ff0f43aa0a54388b1f6f2e3023473d4",
        "IPY_MODEL_7e9013d635394458949e194c709fef63"
       ],
       "layout": "IPY_MODEL_4c938724cc474ebeafaf2b731dbf72d8"
      }
     },
     "3057628bb1584ddd91ea9f99093d3fad": {
      "model_module": "@jupyter-widgets/controls",
      "model_module_version": "1.5.0",
      "model_name": "DescriptionStyleModel",
      "state": {
       "description_width": ""
      }
     },
     "30bffee445ae435b8bbc41be7e8dd439": {
      "model_module": "@jupyter-widgets/controls",
      "model_module_version": "1.5.0",
      "model_name": "SliderStyleModel",
      "state": {
       "description_width": ""
      }
     },
     "30d781ea53064722b73d11f1a43bca7c": {
      "model_module": "@jupyter-widgets/controls",
      "model_module_version": "1.5.0",
      "model_name": "FloatSliderModel",
      "state": {
       "layout": "IPY_MODEL_20e9f7fb87b94e748e2b8e409dc4b768",
       "max": 55,
       "min": -30,
       "readout": false,
       "style": "IPY_MODEL_a915adde17864ceeb404e3d8de02ed29",
       "value": 20
      }
     },
     "30f22d391ec74fca81acd4281780d494": {
      "model_module": "@jupyter-widgets/controls",
      "model_module_version": "1.5.0",
      "model_name": "FloatSliderModel",
      "state": {
       "layout": "IPY_MODEL_6a2a1ae809fd49d68959b440d1328e87",
       "max": 55,
       "min": -30,
       "readout": false,
       "style": "IPY_MODEL_78a86afe0ff844fb9438956bddf99768",
       "value": 20
      }
     },
     "30f9f9993c38404bbcff072a7abeea7e": {
      "model_module": "@jupyter-widgets/controls",
      "model_module_version": "1.5.0",
      "model_name": "AccordionModel",
      "state": {
       "_titles": {
        "0": "Thermodynamic State",
        "1": "Flat Plate"
       },
       "children": [
        "IPY_MODEL_bc74d6ea86b149b095e8833415837d13",
        "IPY_MODEL_5a3ebeb633174ab7951da297f31ed8f8"
       ],
       "layout": "IPY_MODEL_c3445da6be874d3ca367d449a34258cd"
      }
     },
     "3112fdf806c746a9ba3f8b766fb71c62": {
      "model_module": "@jupyter-widgets/base",
      "model_module_version": "1.2.0",
      "model_name": "LayoutModel",
      "state": {
       "flex": "1 1 auto",
       "width": "auto"
      }
     },
     "311bd1c88f774aceb9259c6aeb32e169": {
      "model_module": "@jupyter-widgets/controls",
      "model_module_version": "1.5.0",
      "model_name": "FloatSliderModel",
      "state": {
       "layout": "IPY_MODEL_1e7af9f2910141bf8e772f33716f967f",
       "max": 55,
       "min": -30,
       "readout": false,
       "style": "IPY_MODEL_a1973915e2784d19aeb0cf1cfee30dc1",
       "value": 20
      }
     },
     "3124420d3ab64cd1b2489ccce1fc31a5": {
      "model_module": "@jupyter-widgets/controls",
      "model_module_version": "1.5.0",
      "model_name": "LabelModel",
      "state": {
       "layout": "IPY_MODEL_59e40ffa5aba400ea8a1662f7f716210",
       "style": "IPY_MODEL_28a1b744195f41b88c51a2200faae74c",
       "value": "Velocity in m/s:"
      }
     },
     "312bafd0a34745ff853f1200d116fcec": {
      "model_module": "@jupyter-widgets/base",
      "model_module_version": "1.2.0",
      "model_name": "LayoutModel",
      "state": {
       "display": "flex",
       "width": "100%"
      }
     },
     "31412183232a4a3199ef69565ce0794a": {
      "model_module": "@jupyter-widgets/controls",
      "model_module_version": "1.5.0",
      "model_name": "DescriptionStyleModel",
      "state": {
       "description_width": ""
      }
     },
     "31534a6108e3428692fd8ffd587e0a81": {
      "model_module": "@jupyter-widgets/base",
      "model_module_version": "1.2.0",
      "model_name": "LayoutModel",
      "state": {}
     },
     "31632d277b0b4c71a1959ba7e0f3ca0d": {
      "model_module": "@jupyter-widgets/controls",
      "model_module_version": "1.5.0",
      "model_name": "DescriptionStyleModel",
      "state": {
       "description_width": ""
      }
     },
     "316da4425b274984bfb98e53af1b1467": {
      "model_module": "@jupyter-widgets/base",
      "model_module_version": "1.2.0",
      "model_name": "LayoutModel",
      "state": {
       "display": "flex",
       "width": "100%"
      }
     },
     "3178a73d81f5408a82e7146758cbeb31": {
      "model_module": "@jupyter-widgets/controls",
      "model_module_version": "1.5.0",
      "model_name": "DescriptionStyleModel",
      "state": {
       "description_width": ""
      }
     },
     "3179d3752e264eb59b8d8c2537b523f7": {
      "model_module": "@jupyter-widgets/base",
      "model_module_version": "1.2.0",
      "model_name": "LayoutModel",
      "state": {
       "flex": "1 1 auto",
       "min_height": "300px",
       "min_width": "400px",
       "width": "auto"
      }
     },
     "31b09b4541d745adb2166e6055763510": {
      "model_module": "@jupyter-widgets/controls",
      "model_module_version": "1.5.0",
      "model_name": "DescriptionStyleModel",
      "state": {
       "description_width": ""
      }
     },
     "31d3f8bcfe51441d9c332b00c98c90cd": {
      "model_module": "@jupyter-widgets/controls",
      "model_module_version": "1.5.0",
      "model_name": "DescriptionStyleModel",
      "state": {
       "description_width": ""
      }
     },
     "3249076931d848b29a45f1a9d57b449f": {
      "model_module": "@jupyter-widgets/base",
      "model_module_version": "1.2.0",
      "model_name": "LayoutModel",
      "state": {
       "flex": "1 1 auto",
       "width": "auto"
      }
     },
     "324f6da229ac461485ed66c1dadaa8f5": {
      "model_module": "@jupyter-widgets/base",
      "model_module_version": "1.2.0",
      "model_name": "LayoutModel",
      "state": {}
     },
     "32ba8bc3bef8471d9e145133f05e9d4b": {
      "model_module": "@jupyter-widgets/output",
      "model_module_version": "1.0.0",
      "model_name": "OutputModel",
      "state": {
       "layout": "IPY_MODEL_74da8a0bd3d44039adc7d4a4161bb4ac"
      }
     },
     "32dde0ec93d74951bba6df79d2867516": {
      "model_module": "@jupyter-widgets/base",
      "model_module_version": "1.2.0",
      "model_name": "LayoutModel",
      "state": {
       "display": "flex",
       "width": "100%"
      }
     },
     "32fa92ea075f4cc3895a63354487fd55": {
      "model_module": "@jupyter-widgets/base",
      "model_module_version": "1.2.0",
      "model_name": "LayoutModel",
      "state": {
       "flex": "1 1 auto",
       "width": "auto"
      }
     },
     "3321f47fd7f143328374be5a0ff3cab8": {
      "model_module": "@jupyter-widgets/controls",
      "model_module_version": "1.5.0",
      "model_name": "BoundedFloatTextModel",
      "state": {
       "layout": "IPY_MODEL_9fa58390906341109a7973ab0f22818a",
       "max": 200,
       "min": 0.001,
       "step": 0.001,
       "style": "IPY_MODEL_d18b9bfeac014bd6b9d662a31add5503",
       "value": 20
      }
     },
     "3324c76114864c408a0b723d8d78cdd9": {
      "model_module": "@jupyter-widgets/controls",
      "model_module_version": "1.5.0",
      "model_name": "LabelModel",
      "state": {
       "layout": "IPY_MODEL_3249076931d848b29a45f1a9d57b449f",
       "style": "IPY_MODEL_42fd251ece634b0a8819d1b8b18866e4",
       "value": "Velocity in m/s:"
      }
     },
     "3377f12db7c445038edacacea991524a": {
      "model_module": "@jupyter-widgets/base",
      "model_module_version": "1.2.0",
      "model_name": "LayoutModel",
      "state": {
       "flex": "10 1 auto",
       "width": "auto"
      }
     },
     "3392ca87238c4666a250b4bea86053c0": {
      "model_module": "@jupyter-widgets/controls",
      "model_module_version": "1.5.0",
      "model_name": "DescriptionStyleModel",
      "state": {
       "description_width": ""
      }
     },
     "33bf8eb67718469f8b82fcd277fda3eb": {
      "model_module": "@jupyter-widgets/base",
      "model_module_version": "1.2.0",
      "model_name": "LayoutModel",
      "state": {}
     },
     "33d647ed25f44f94848fc5d78be255e0": {
      "model_module": "@jupyter-widgets/controls",
      "model_module_version": "1.5.0",
      "model_name": "FloatSliderModel",
      "state": {
       "layout": "IPY_MODEL_c1bf58d429964ef693cf2a9eaae9164e",
       "max": 15000000,
       "min": 1,
       "readout": false,
       "step": 100000,
       "style": "IPY_MODEL_3bbd056be37f42f6b6e37f1deb985ff5",
       "value": 101325
      }
     },
     "33f4ecc407124e79a329a3d8bcb99fbb": {
      "model_module": "@jupyter-widgets/controls",
      "model_module_version": "1.5.0",
      "model_name": "VBoxModel",
      "state": {
       "children": [
        "IPY_MODEL_519fc0d3aa3f40a9b623a8425924d866",
        "IPY_MODEL_0e60eef2dec4436aaca1341ab6d59e83"
       ],
       "layout": "IPY_MODEL_176f5dece09f4198a04bc18c3f9dd281"
      }
     },
     "3450bcea6ebb422d8ea4648e335eae0a": {
      "model_module": "@jupyter-widgets/controls",
      "model_module_version": "1.5.0",
      "model_name": "DescriptionStyleModel",
      "state": {
       "description_width": ""
      }
     },
     "34fabbc5bcc1470bbad1701519afc0bd": {
      "model_module": "@jupyter-widgets/base",
      "model_module_version": "1.2.0",
      "model_name": "LayoutModel",
      "state": {
       "display": "flex",
       "flex_flow": "row"
      }
     },
     "351bc9b2f9274228939a061dd1d0890b": {
      "model_module": "@jupyter-widgets/controls",
      "model_module_version": "1.5.0",
      "model_name": "LabelModel",
      "state": {
       "layout": "IPY_MODEL_910eab7b84b642faaef4ae283e9447c1",
       "style": "IPY_MODEL_7076032e695144e8b402e1fb65c77ca4",
       "value": "Pressure in Pa:"
      }
     },
     "3529c58a52544d58be63c44a1229a1c0": {
      "model_module": "@jupyter-widgets/base",
      "model_module_version": "1.2.0",
      "model_name": "LayoutModel",
      "state": {
       "flex": "1 1 auto",
       "width": "auto"
      }
     },
     "353bb34498d6415cb1fec9a433875d67": {
      "model_module": "@jupyter-widgets/controls",
      "model_module_version": "1.5.0",
      "model_name": "HBoxModel",
      "state": {
       "children": [
        "IPY_MODEL_fcb7bc3726e1462fac43b263723b42e3",
        "IPY_MODEL_14494f7846a441a3966229024b9c6015",
        "IPY_MODEL_d132974657f94a29b65169220970b362"
       ],
       "layout": "IPY_MODEL_1704a27cc40647d4ba63fa6e26e99938"
      }
     },
     "354c9417eba74bafa2bd220a551782ec": {
      "model_module": "@jupyter-widgets/controls",
      "model_module_version": "1.5.0",
      "model_name": "DescriptionStyleModel",
      "state": {
       "description_width": ""
      }
     },
     "354db0282e8f476a8b24ac521beade7a": {
      "model_module": "@jupyter-widgets/base",
      "model_module_version": "1.2.0",
      "model_name": "LayoutModel",
      "state": {
       "flex": "1 1 auto",
       "width": "auto"
      }
     },
     "358d29971ef04642997016b589c2f4ee": {
      "model_module": "@jupyter-widgets/controls",
      "model_module_version": "1.5.0",
      "model_name": "HBoxModel",
      "state": {
       "children": [
        "IPY_MODEL_0f0b3843335549c4b8912c20de6c9cfa",
        "IPY_MODEL_a6c3b7a1512d4adcaec42976b44566b3",
        "IPY_MODEL_5460f9ce17fe44f593e713c2810cad0c"
       ],
       "layout": "IPY_MODEL_f376a1708afb4c42872b086d63cb34af"
      }
     },
     "35d5ee10b14940278a385f4823064607": {
      "model_module": "@jupyter-widgets/base",
      "model_module_version": "1.2.0",
      "model_name": "LayoutModel",
      "state": {
       "display": "flex",
       "flex_flow": "row"
      }
     },
     "3602eee9bbbf43e4ac4d421db6eb2242": {
      "model_module": "@jupyter-widgets/controls",
      "model_module_version": "1.5.0",
      "model_name": "DescriptionStyleModel",
      "state": {
       "description_width": ""
      }
     },
     "361442fdc3b449fbb118293b2125f0db": {
      "model_module": "@jupyter-widgets/base",
      "model_module_version": "1.2.0",
      "model_name": "LayoutModel",
      "state": {
       "display": "flex",
       "flex_flow": "row"
      }
     },
     "3616c6643875453c84c5711ea88cabe7": {
      "model_module": "@jupyter-widgets/base",
      "model_module_version": "1.2.0",
      "model_name": "LayoutModel",
      "state": {
       "flex": "1 1 auto",
       "width": "auto"
      }
     },
     "36976a4cb0cb4540b4b8a00f1635f7ed": {
      "model_module": "@jupyter-widgets/base",
      "model_module_version": "1.2.0",
      "model_name": "LayoutModel",
      "state": {
       "flex": "1 1 auto",
       "width": "auto"
      }
     },
     "36aad86d15604019908f8041c9eaa807": {
      "model_module": "@jupyter-widgets/base",
      "model_module_version": "1.2.0",
      "model_name": "LayoutModel",
      "state": {
       "flex": "10 1 auto",
       "width": "auto"
      }
     },
     "36d68c069d5943b5b8323ac9a7a362da": {
      "model_module": "@jupyter-widgets/base",
      "model_module_version": "1.2.0",
      "model_name": "LayoutModel",
      "state": {}
     },
     "371a1fbc47bd47d58509eed9b132711b": {
      "model_module": "@jupyter-widgets/controls",
      "model_module_version": "1.5.0",
      "model_name": "VBoxModel",
      "state": {
       "children": [
        "IPY_MODEL_fc01a6eaf9924bc6963222ce47b3502e",
        "IPY_MODEL_fa9f53f780684a4eb3b9f66399aeb658",
        "IPY_MODEL_5386f14d4a4e4f619036d003f271c0f5"
       ],
       "layout": "IPY_MODEL_cc749484eed8487a84199afe7f95cccf"
      }
     },
     "373da18ab2164b7cb62ca05e7675afcc": {
      "model_module": "@jupyter-widgets/controls",
      "model_module_version": "1.5.0",
      "model_name": "HBoxModel",
      "state": {
       "children": [
        "IPY_MODEL_d061f30284384dceb51bbfa03d86d916",
        "IPY_MODEL_f09356c4e8494f6289e58850a5a2028b",
        "IPY_MODEL_4fce9029701e4a1eab6eb4260fd46af9"
       ],
       "layout": "IPY_MODEL_a19fd0a97eda4e8fae47d71ef33fc7f8"
      }
     },
     "3752fee7622c43bea9908ecc5a08e4b0": {
      "model_module": "@jupyter-widgets/controls",
      "model_module_version": "1.5.0",
      "model_name": "SliderStyleModel",
      "state": {
       "description_width": ""
      }
     },
     "377f2ea59a3142f99193d0a14bfce58d": {
      "model_module": "@jupyter-widgets/controls",
      "model_module_version": "1.5.0",
      "model_name": "FloatSliderModel",
      "state": {
       "layout": "IPY_MODEL_14af833123c04bbeb1812ac9a90aee9b",
       "max": 55,
       "min": -30,
       "readout": false,
       "style": "IPY_MODEL_11fa572a340340fe9a1182dbf0f1daec",
       "value": 20
      }
     },
     "379eb4badc744af39422cec366a3c59d": {
      "model_module": "@jupyter-widgets/base",
      "model_module_version": "1.2.0",
      "model_name": "LayoutModel",
      "state": {}
     },
     "38007e30713e4cfbad01e5ae34b28d75": {
      "model_module": "@jupyter-widgets/controls",
      "model_module_version": "1.5.0",
      "model_name": "LabelModel",
      "state": {
       "layout": "IPY_MODEL_3c686d2220454d44a4d972b7a59d619e",
       "style": "IPY_MODEL_baa649f4475f4631b59270d608e4017b",
       "value": "Gas / Specie Mixture:"
      }
     },
     "383f8ce118c54a3bbf7dda77589d622e": {
      "model_module": "@jupyter-widgets/controls",
      "model_module_version": "1.5.0",
      "model_name": "BoundedFloatTextModel",
      "state": {
       "layout": "IPY_MODEL_6d37f5766d1a4e9c88e965852bad6b4c",
       "max": 15000000,
       "min": 1,
       "step": 100000,
       "style": "IPY_MODEL_2d8c3a8b78594495a99d8f1080978024",
       "value": 101325
      }
     },
     "385b628775864537af30526a65d65f4e": {
      "model_module": "@jupyter-widgets/base",
      "model_module_version": "1.2.0",
      "model_name": "LayoutModel",
      "state": {
       "flex": "1 1 auto",
       "width": "auto"
      }
     },
     "38a29bb45d2241688586052af09156c0": {
      "model_module": "@jupyter-widgets/controls",
      "model_module_version": "1.5.0",
      "model_name": "SliderStyleModel",
      "state": {
       "description_width": ""
      }
     },
     "38c61091c0ab4ee1b09ecbf734004d53": {
      "model_module": "@jupyter-widgets/base",
      "model_module_version": "1.2.0",
      "model_name": "LayoutModel",
      "state": {
       "flex": "1 1 auto",
       "width": "auto"
      }
     },
     "38c86e5c29f04a748c9db5755f3e5a1a": {
      "model_module": "@jupyter-widgets/controls",
      "model_module_version": "1.5.0",
      "model_name": "FloatSliderModel",
      "state": {
       "layout": "IPY_MODEL_ef238e841f38492899fee8ea1e515b69",
       "max": 15000000,
       "min": 1,
       "readout": false,
       "step": 100000,
       "style": "IPY_MODEL_0124341ed41c43e3ad2fcb0035e93340",
       "value": 101325
      }
     },
     "38e9c0e9a5dc435ebac5bdcfe85693ad": {
      "model_module": "@jupyter-widgets/controls",
      "model_module_version": "1.5.0",
      "model_name": "AccordionModel",
      "state": {
       "_titles": {
        "0": "Thermodynamic State",
        "1": "Flat Plate"
       },
       "children": [
        "IPY_MODEL_bf3470e959a24466a5bd14dc5583db7a",
        "IPY_MODEL_b0068b032e414f38984c6af9d9f8f932"
       ],
       "layout": "IPY_MODEL_fae559f1173f4365b2e9aad8bd3bc5d5"
      }
     },
     "392dad14372a4326a01396729c750403": {
      "model_module": "@jupyter-widgets/base",
      "model_module_version": "1.2.0",
      "model_name": "LayoutModel",
      "state": {
       "flex": "1 1 auto",
       "min_height": "300px",
       "min_width": "400px",
       "width": "auto"
      }
     },
     "393b5bece26049529d0a673766708686": {
      "model_module": "@jupyter-widgets/output",
      "model_module_version": "1.0.0",
      "model_name": "OutputModel",
      "state": {
       "layout": "IPY_MODEL_096c7543e08945b5965bb5352cfe883a"
      }
     },
     "39548bfd3ae5403f98d8521a5e002666": {
      "model_module": "@jupyter-widgets/controls",
      "model_module_version": "1.5.0",
      "model_name": "DescriptionStyleModel",
      "state": {
       "description_width": ""
      }
     },
     "395868ae68774e23bca3630b369f7579": {
      "model_module": "@jupyter-widgets/base",
      "model_module_version": "1.2.0",
      "model_name": "LayoutModel",
      "state": {
       "display": "flex",
       "flex_flow": "row"
      }
     },
     "3975095d3c6547d5afdae41089c7f559": {
      "model_module": "@jupyter-widgets/base",
      "model_module_version": "1.2.0",
      "model_name": "LayoutModel",
      "state": {
       "flex": "1 1 auto",
       "width": "auto"
      }
     },
     "3998ee7450934499bb093819e1b51734": {
      "model_module": "@jupyter-widgets/controls",
      "model_module_version": "1.5.0",
      "model_name": "FloatSliderModel",
      "state": {
       "layout": "IPY_MODEL_d64b8bf642164b179c17f6c79808f37e",
       "max": 15000000,
       "min": 1,
       "readout": false,
       "step": 100000,
       "style": "IPY_MODEL_1245cbc6694c4bfa80d8c43252dd5f4e",
       "value": 101325
      }
     },
     "39a347316bdd4abd92aa43fc92311a86": {
      "model_module": "@jupyter-widgets/controls",
      "model_module_version": "1.5.0",
      "model_name": "HBoxModel",
      "state": {
       "children": [
        "IPY_MODEL_eb284ebb74324c5e89e436aff086a523",
        "IPY_MODEL_fd221d04a31340adabe80d88eceedcd6",
        "IPY_MODEL_940cd83e9f7a49f98fc7900ac45bccc8"
       ],
       "layout": "IPY_MODEL_8f20426477234e7b807604ed4d1d9b68"
      }
     },
     "39b1b59e56404a88a69a892833c3ab3a": {
      "model_module": "@jupyter-widgets/base",
      "model_module_version": "1.2.0",
      "model_name": "LayoutModel",
      "state": {
       "flex": "1 1 auto",
       "width": "auto"
      }
     },
     "39e9ae5c70d44ed1ab15435db485c388": {
      "model_module": "@jupyter-widgets/controls",
      "model_module_version": "1.5.0",
      "model_name": "BoundedFloatTextModel",
      "state": {
       "layout": "IPY_MODEL_a866255a3dfa4dd38d1c6ca8a45402c5",
       "max": 10,
       "min": 0.001,
       "step": 0.001,
       "style": "IPY_MODEL_2d913b7149c643e5a507064d89c187d3",
       "value": 0.1
      }
     },
     "3a029c8e1c0f4d9181f94af56c0752e7": {
      "model_module": "@jupyter-widgets/controls",
      "model_module_version": "1.5.0",
      "model_name": "BoundedFloatTextModel",
      "state": {
       "layout": "IPY_MODEL_f6df07039f8347fcb6d5a411bfd8eaba",
       "max": 200,
       "min": 0.001,
       "step": 0.001,
       "style": "IPY_MODEL_fc9808a3ed62477c8ac2703ea66d830a",
       "value": 20
      }
     },
     "3a2c43234ce547ef86250a437d70df50": {
      "model_module": "@jupyter-widgets/base",
      "model_module_version": "1.2.0",
      "model_name": "LayoutModel",
      "state": {}
     },
     "3a66645c6dd640ffa2c4ea53196b95f7": {
      "model_module": "@jupyter-widgets/controls",
      "model_module_version": "1.5.0",
      "model_name": "DropdownModel",
      "state": {
       "_options_labels": [
        "1-Butene",
        "Acetone",
        "Air",
        "Ammonia",
        "Argon",
        "Benzene",
        "CarbonDioxide",
        "CarbonMonoxide",
        "CarbonylSulfide",
        "CycloHexane",
        "CycloPropane",
        "Cyclopentane",
        "D4",
        "D5",
        "D6",
        "Deuterium",
        "Dichloroethane",
        "DiethylEther",
        "DimethylCarbonate",
        "DimethylEther",
        "Ethane",
        "Ethanol",
        "EthylBenzene",
        "Ethylene",
        "EthyleneOxide",
        "Fluorine",
        "HFE143m",
        "HeavyWater",
        "Helium",
        "Hydrogen",
        "HydrogenChloride",
        "HydrogenSulfide",
        "IsoButane",
        "IsoButene",
        "Isohexane",
        "Isopentane",
        "Krypton",
        "MD2M",
        "MD3M",
        "MD4M",
        "MDM",
        "MM",
        "Methane",
        "Methanol",
        "MethylLinoleate",
        "MethylLinolenate",
        "MethylOleate",
        "MethylPalmitate",
        "MethylStearate",
        "Neon",
        "Neopentane",
        "Nitrogen",
        "NitrousOxide",
        "Novec649",
        "OrthoDeuterium",
        "OrthoHydrogen",
        "Oxygen",
        "ParaDeuterium",
        "ParaHydrogen",
        "Propylene",
        "Propyne",
        "R11",
        "R113",
        "R114",
        "R115",
        "R116",
        "R12",
        "R123",
        "R1233zd(E)",
        "R1234yf",
        "R1234ze(E)",
        "R1234ze(Z)",
        "R124",
        "R1243zf",
        "R125",
        "R13",
        "R134a",
        "R13I1",
        "R14",
        "R141b",
        "R142b",
        "R143a",
        "R152A",
        "R161",
        "R21",
        "R218",
        "R22",
        "R227EA",
        "R23",
        "R236EA",
        "R236FA",
        "R245ca",
        "R245fa",
        "R32",
        "R365MFC",
        "R40",
        "R404A",
        "R407C",
        "R41",
        "R410A",
        "R507A",
        "RC318",
        "SES36",
        "SulfurDioxide",
        "SulfurHexafluoride",
        "Toluene",
        "Water",
        "Xenon",
        "cis-2-Butene",
        "m-Xylene",
        "n-Butane",
        "n-Decane",
        "n-Dodecane",
        "n-Heptane",
        "n-Hexane",
        "n-Nonane",
        "n-Octane",
        "n-Pentane",
        "n-Propane",
        "n-Undecane",
        "o-Xylene",
        "p-Xylene",
        "trans-2-Butene"
       ],
       "index": 2,
       "layout": "IPY_MODEL_0aa39d221fe34ebebd2902e65c32e07a",
       "style": "IPY_MODEL_de663a57a15f42d9ab09bf4ea60a5f71"
      }
     },
     "3a719d50747d4b7e97d21a18038ce2f8": {
      "model_module": "@jupyter-widgets/controls",
      "model_module_version": "1.5.0",
      "model_name": "DescriptionStyleModel",
      "state": {
       "description_width": ""
      }
     },
     "3b05f56fbfea47c083c0518103878f81": {
      "model_module": "@jupyter-widgets/controls",
      "model_module_version": "1.5.0",
      "model_name": "FloatSliderModel",
      "state": {
       "layout": "IPY_MODEL_23c96e6ff6564b7ba9cd8a653c767528",
       "max": 15000000,
       "min": 1,
       "readout": false,
       "step": 100000,
       "style": "IPY_MODEL_562d7afb06cc49408050e704715b3ec7",
       "value": 101325
      }
     },
     "3b7e0e8f96d64e4e88f6b3e13e60394f": {
      "model_module": "@jupyter-widgets/controls",
      "model_module_version": "1.5.0",
      "model_name": "HBoxModel",
      "state": {
       "children": [
        "IPY_MODEL_9ac0301f35b946f286b7897204d68ca3",
        "IPY_MODEL_59c873b477bb4ebe8d12e8b75f6b36f3"
       ],
       "layout": "IPY_MODEL_b870cd7bc9ed4c8d8fa32cd8f52d0f76"
      }
     },
     "3bbd056be37f42f6b6e37f1deb985ff5": {
      "model_module": "@jupyter-widgets/controls",
      "model_module_version": "1.5.0",
      "model_name": "SliderStyleModel",
      "state": {
       "description_width": ""
      }
     },
     "3bfac8db05794e52b24233437ffc4d53": {
      "model_module": "@jupyter-widgets/base",
      "model_module_version": "1.2.0",
      "model_name": "LayoutModel",
      "state": {
       "flex": "1 1 auto",
       "width": "auto"
      }
     },
     "3bfe6c24dfff4967a36b79dce09d68f9": {
      "model_module": "@jupyter-widgets/base",
      "model_module_version": "1.2.0",
      "model_name": "LayoutModel",
      "state": {
       "display": "flex",
       "flex_flow": "row"
      }
     },
     "3c0108dbf14340eeb3f23f8a0782d40c": {
      "model_module": "@jupyter-widgets/base",
      "model_module_version": "1.2.0",
      "model_name": "LayoutModel",
      "state": {
       "display": "flex",
       "min_height": "300px",
       "width": "100%"
      }
     },
     "3c23bb86d5164978b706807acf044d71": {
      "model_module": "@jupyter-widgets/controls",
      "model_module_version": "1.5.0",
      "model_name": "LabelModel",
      "state": {
       "layout": "IPY_MODEL_b9069d067eec42bab0e52acdcff5e242",
       "style": "IPY_MODEL_3057628bb1584ddd91ea9f99093d3fad",
       "value": "Pressure in Pa:"
      }
     },
     "3c686d2220454d44a4d972b7a59d619e": {
      "model_module": "@jupyter-widgets/base",
      "model_module_version": "1.2.0",
      "model_name": "LayoutModel",
      "state": {}
     },
     "3c6a12b0707043eda08ccfa282ee24b9": {
      "model_module": "@jupyter-widgets/controls",
      "model_module_version": "1.5.0",
      "model_name": "HBoxModel",
      "state": {
       "children": [
        "IPY_MODEL_62709d64708841a8b38a391091a3fb9b",
        "IPY_MODEL_2e31349d558948f9a3a3dc8cdb0efe15",
        "IPY_MODEL_b28397bc81554619a324df4a12156723"
       ],
       "layout": "IPY_MODEL_bcef46c57e0f4281b2c48ab3f32ffd52"
      }
     },
     "3c78990275224f42b4fb8b1a6cf7dd7f": {
      "model_module": "@jupyter-widgets/base",
      "model_module_version": "1.2.0",
      "model_name": "LayoutModel",
      "state": {
       "display": "flex",
       "width": "100%"
      }
     },
     "3cd2eb70de5945c0ad1d76d3c2e3f113": {
      "model_module": "@jupyter-widgets/controls",
      "model_module_version": "1.5.0",
      "model_name": "DescriptionStyleModel",
      "state": {
       "description_width": ""
      }
     },
     "3d4fa2aeb75944cbacd75569c0eabfa0": {
      "model_module": "@jupyter-widgets/controls",
      "model_module_version": "1.5.0",
      "model_name": "DescriptionStyleModel",
      "state": {
       "description_width": ""
      }
     },
     "3d60f5c9a9af431a9d4d40b28abe64ae": {
      "model_module": "@jupyter-widgets/base",
      "model_module_version": "1.2.0",
      "model_name": "LayoutModel",
      "state": {
       "display": "flex",
       "flex_flow": "row"
      }
     },
     "3dea4b46500846e99aaadfc94e762625": {
      "model_module": "@jupyter-widgets/base",
      "model_module_version": "1.2.0",
      "model_name": "LayoutModel",
      "state": {}
     },
     "3dfd83931c77407783bd82e76a670573": {
      "model_module": "@jupyter-widgets/controls",
      "model_module_version": "1.5.0",
      "model_name": "SliderStyleModel",
      "state": {
       "description_width": ""
      }
     },
     "3e44271770c249489abae3c92a63ecf4": {
      "model_module": "@jupyter-widgets/base",
      "model_module_version": "1.2.0",
      "model_name": "LayoutModel",
      "state": {
       "flex": "10 1 auto",
       "width": "auto"
      }
     },
     "3e4c6f8ed7a944e7a31ed14acb5c628e": {
      "model_module": "@jupyter-widgets/controls",
      "model_module_version": "1.5.0",
      "model_name": "FloatSliderModel",
      "state": {
       "layout": "IPY_MODEL_3e44271770c249489abae3c92a63ecf4",
       "max": 15000000,
       "min": 1,
       "readout": false,
       "step": 100000,
       "style": "IPY_MODEL_4506b45cfa3c48509ff5ce7f943505c5",
       "value": 101325
      }
     },
     "3e74ef22a1cd4706bea7e148f81e2cd9": {
      "model_module": "@jupyter-widgets/controls",
      "model_module_version": "1.5.0",
      "model_name": "SliderStyleModel",
      "state": {
       "description_width": ""
      }
     },
     "3ec241172801437b9bec3adabe54eeed": {
      "model_module": "@jupyter-widgets/controls",
      "model_module_version": "1.5.0",
      "model_name": "DropdownModel",
      "state": {
       "_options_labels": [
        "1-Butene",
        "Acetone",
        "Air",
        "Ammonia",
        "Argon",
        "Benzene",
        "CarbonDioxide",
        "CarbonMonoxide",
        "CarbonylSulfide",
        "CycloHexane",
        "CycloPropane",
        "Cyclopentane",
        "D4",
        "D5",
        "D6",
        "Deuterium",
        "Dichloroethane",
        "DiethylEther",
        "DimethylCarbonate",
        "DimethylEther",
        "Ethane",
        "Ethanol",
        "EthylBenzene",
        "Ethylene",
        "EthyleneOxide",
        "Fluorine",
        "HFE143m",
        "HeavyWater",
        "Helium",
        "Hydrogen",
        "HydrogenChloride",
        "HydrogenSulfide",
        "IsoButane",
        "IsoButene",
        "Isohexane",
        "Isopentane",
        "Krypton",
        "MD2M",
        "MD3M",
        "MD4M",
        "MDM",
        "MM",
        "Methane",
        "Methanol",
        "MethylLinoleate",
        "MethylLinolenate",
        "MethylOleate",
        "MethylPalmitate",
        "MethylStearate",
        "Neon",
        "Neopentane",
        "Nitrogen",
        "NitrousOxide",
        "Novec649",
        "OrthoDeuterium",
        "OrthoHydrogen",
        "Oxygen",
        "ParaDeuterium",
        "ParaHydrogen",
        "Propylene",
        "Propyne",
        "R11",
        "R113",
        "R114",
        "R115",
        "R116",
        "R12",
        "R123",
        "R1233zd(E)",
        "R1234yf",
        "R1234ze(E)",
        "R1234ze(Z)",
        "R124",
        "R1243zf",
        "R125",
        "R13",
        "R134a",
        "R13I1",
        "R14",
        "R141b",
        "R142b",
        "R143a",
        "R152A",
        "R161",
        "R21",
        "R218",
        "R22",
        "R227EA",
        "R23",
        "R236EA",
        "R236FA",
        "R245ca",
        "R245fa",
        "R32",
        "R365MFC",
        "R40",
        "R404A",
        "R407C",
        "R41",
        "R410A",
        "R507A",
        "RC318",
        "SES36",
        "SulfurDioxide",
        "SulfurHexafluoride",
        "Toluene",
        "Water",
        "Xenon",
        "cis-2-Butene",
        "m-Xylene",
        "n-Butane",
        "n-Decane",
        "n-Dodecane",
        "n-Heptane",
        "n-Hexane",
        "n-Nonane",
        "n-Octane",
        "n-Pentane",
        "n-Propane",
        "n-Undecane",
        "o-Xylene",
        "p-Xylene",
        "trans-2-Butene"
       ],
       "index": 2,
       "layout": "IPY_MODEL_cc5614c057784eebb0bf422f45c291a1",
       "style": "IPY_MODEL_e99801e4ae2844cbbe1555e71f1fd139"
      }
     },
     "3ec67c9a99b64611a9ee1864fb824bfa": {
      "model_module": "@jupyter-widgets/controls",
      "model_module_version": "1.5.0",
      "model_name": "DropdownModel",
      "state": {
       "_options_labels": [
        "1-Butene",
        "Acetone",
        "Air",
        "Ammonia",
        "Argon",
        "Benzene",
        "CarbonDioxide",
        "CarbonMonoxide",
        "CarbonylSulfide",
        "CycloHexane",
        "CycloPropane",
        "Cyclopentane",
        "D4",
        "D5",
        "D6",
        "Deuterium",
        "Dichloroethane",
        "DiethylEther",
        "DimethylCarbonate",
        "DimethylEther",
        "Ethane",
        "Ethanol",
        "EthylBenzene",
        "Ethylene",
        "EthyleneOxide",
        "Fluorine",
        "HFE143m",
        "HeavyWater",
        "Helium",
        "Hydrogen",
        "HydrogenChloride",
        "HydrogenSulfide",
        "IsoButane",
        "IsoButene",
        "Isohexane",
        "Isopentane",
        "Krypton",
        "MD2M",
        "MD3M",
        "MD4M",
        "MDM",
        "MM",
        "Methane",
        "Methanol",
        "MethylLinoleate",
        "MethylLinolenate",
        "MethylOleate",
        "MethylPalmitate",
        "MethylStearate",
        "Neon",
        "Neopentane",
        "Nitrogen",
        "NitrousOxide",
        "Novec649",
        "OrthoDeuterium",
        "OrthoHydrogen",
        "Oxygen",
        "ParaDeuterium",
        "ParaHydrogen",
        "Propylene",
        "Propyne",
        "R11",
        "R113",
        "R114",
        "R115",
        "R116",
        "R12",
        "R123",
        "R1233zd(E)",
        "R1234yf",
        "R1234ze(E)",
        "R1234ze(Z)",
        "R124",
        "R1243zf",
        "R125",
        "R13",
        "R134a",
        "R13I1",
        "R14",
        "R141b",
        "R142b",
        "R143a",
        "R152A",
        "R161",
        "R21",
        "R218",
        "R22",
        "R227EA",
        "R23",
        "R236EA",
        "R236FA",
        "R245ca",
        "R245fa",
        "R32",
        "R365MFC",
        "R40",
        "R404A",
        "R407C",
        "R41",
        "R410A",
        "R507A",
        "RC318",
        "SES36",
        "SulfurDioxide",
        "SulfurHexafluoride",
        "Toluene",
        "Water",
        "Xenon",
        "cis-2-Butene",
        "m-Xylene",
        "n-Butane",
        "n-Decane",
        "n-Dodecane",
        "n-Heptane",
        "n-Hexane",
        "n-Nonane",
        "n-Octane",
        "n-Pentane",
        "n-Propane",
        "n-Undecane",
        "o-Xylene",
        "p-Xylene",
        "trans-2-Butene"
       ],
       "index": 2,
       "layout": "IPY_MODEL_d9a461f2bd464e899633296e8223f0d8",
       "style": "IPY_MODEL_ae873bf3a0384b37a9ba26e55e1196b0"
      }
     },
     "3ef32f0e78274ef9b57b662ac5b8b492": {
      "model_module": "@jupyter-widgets/base",
      "model_module_version": "1.2.0",
      "model_name": "LayoutModel",
      "state": {
       "display": "flex",
       "width": "100%"
      }
     },
     "3f29288408584d8d92ee42af955aaf25": {
      "model_module": "@jupyter-widgets/base",
      "model_module_version": "1.2.0",
      "model_name": "LayoutModel",
      "state": {
       "flex": "1 1 auto",
       "width": "auto"
      }
     },
     "3f36575bef484ec7ae7a1a80b50c2fd0": {
      "model_module": "@jupyter-widgets/base",
      "model_module_version": "1.2.0",
      "model_name": "LayoutModel",
      "state": {
       "flex": "1 1 auto",
       "width": "auto"
      }
     },
     "3f430e62f2894320a535b1ed707547c4": {
      "model_module": "@jupyter-widgets/controls",
      "model_module_version": "1.5.0",
      "model_name": "BoundedFloatTextModel",
      "state": {
       "layout": "IPY_MODEL_ece3becd036741ffa05ed01d0ecd83c1",
       "max": 15000000,
       "min": 1,
       "step": 100000,
       "style": "IPY_MODEL_c7587d65e4b34af6834a573bf1f7f953",
       "value": 101325
      }
     },
     "3f7ad69131d74742a6131ac606dbf4f5": {
      "model_module": "@jupyter-widgets/controls",
      "model_module_version": "1.5.0",
      "model_name": "LabelModel",
      "state": {
       "layout": "IPY_MODEL_997062603f9b45eb9b6c3fac7761af36",
       "style": "IPY_MODEL_f06fe259d90b4c2284ecdab98a87696d",
       "value": "Platelength in m"
      }
     },
     "3f84c6e9ae4843acbacc7f50414194cf": {
      "model_module": "@jupyter-widgets/base",
      "model_module_version": "1.2.0",
      "model_name": "LayoutModel",
      "state": {
       "display": "flex",
       "width": "100%"
      }
     },
     "3f86aedac1554d2690ff592ee5fb0f2d": {
      "model_module": "@jupyter-widgets/base",
      "model_module_version": "1.2.0",
      "model_name": "LayoutModel",
      "state": {
       "flex": "10 1 auto",
       "width": "auto"
      }
     },
     "3fa4c355fed34a05abfd622d05fd04ec": {
      "model_module": "@jupyter-widgets/base",
      "model_module_version": "1.2.0",
      "model_name": "LayoutModel",
      "state": {
       "display": "flex",
       "flex_flow": "row"
      }
     },
     "3fbc15fe717d46eabaa6ba60e10d81a5": {
      "model_module": "@jupyter-widgets/controls",
      "model_module_version": "1.5.0",
      "model_name": "VBoxModel",
      "state": {
       "children": [
        "IPY_MODEL_aac8b9b5f7484782a509b0ff22353fa5",
        "IPY_MODEL_353bb34498d6415cb1fec9a433875d67"
       ],
       "layout": "IPY_MODEL_2f3c4dfa327444c2939cee9b15ddabc8"
      }
     },
     "3fe2036fb09a4411b10648767ebd2866": {
      "model_module": "@jupyter-widgets/controls",
      "model_module_version": "1.5.0",
      "model_name": "SliderStyleModel",
      "state": {
       "description_width": ""
      }
     },
     "3fe4bc8b18ea4ea0b1beef1d9bd79bd6": {
      "model_module": "@jupyter-widgets/controls",
      "model_module_version": "1.5.0",
      "model_name": "SliderStyleModel",
      "state": {
       "description_width": ""
      }
     },
     "3fee590d2e394be8a99d52ebb9c3a450": {
      "model_module": "@jupyter-widgets/controls",
      "model_module_version": "1.5.0",
      "model_name": "DropdownModel",
      "state": {
       "_options_labels": [
        "1-Butene",
        "Acetone",
        "Air",
        "Ammonia",
        "Argon",
        "Benzene",
        "CarbonDioxide",
        "CarbonMonoxide",
        "CarbonylSulfide",
        "CycloHexane",
        "CycloPropane",
        "Cyclopentane",
        "D4",
        "D5",
        "D6",
        "Deuterium",
        "Dichloroethane",
        "DiethylEther",
        "DimethylCarbonate",
        "DimethylEther",
        "Ethane",
        "Ethanol",
        "EthylBenzene",
        "Ethylene",
        "EthyleneOxide",
        "Fluorine",
        "HFE143m",
        "HeavyWater",
        "Helium",
        "Hydrogen",
        "HydrogenChloride",
        "HydrogenSulfide",
        "IsoButane",
        "IsoButene",
        "Isohexane",
        "Isopentane",
        "Krypton",
        "MD2M",
        "MD3M",
        "MD4M",
        "MDM",
        "MM",
        "Methane",
        "Methanol",
        "MethylLinoleate",
        "MethylLinolenate",
        "MethylOleate",
        "MethylPalmitate",
        "MethylStearate",
        "Neon",
        "Neopentane",
        "Nitrogen",
        "NitrousOxide",
        "Novec649",
        "OrthoDeuterium",
        "OrthoHydrogen",
        "Oxygen",
        "ParaDeuterium",
        "ParaHydrogen",
        "Propylene",
        "Propyne",
        "R11",
        "R113",
        "R114",
        "R115",
        "R116",
        "R12",
        "R123",
        "R1233zd(E)",
        "R1234yf",
        "R1234ze(E)",
        "R1234ze(Z)",
        "R124",
        "R1243zf",
        "R125",
        "R13",
        "R134a",
        "R13I1",
        "R14",
        "R141b",
        "R142b",
        "R143a",
        "R152A",
        "R161",
        "R21",
        "R218",
        "R22",
        "R227EA",
        "R23",
        "R236EA",
        "R236FA",
        "R245ca",
        "R245fa",
        "R32",
        "R365MFC",
        "R40",
        "R404A",
        "R407C",
        "R41",
        "R410A",
        "R507A",
        "RC318",
        "SES36",
        "SulfurDioxide",
        "SulfurHexafluoride",
        "Toluene",
        "Water",
        "Xenon",
        "cis-2-Butene",
        "m-Xylene",
        "n-Butane",
        "n-Decane",
        "n-Dodecane",
        "n-Heptane",
        "n-Hexane",
        "n-Nonane",
        "n-Octane",
        "n-Pentane",
        "n-Propane",
        "n-Undecane",
        "o-Xylene",
        "p-Xylene",
        "trans-2-Butene"
       ],
       "index": 2,
       "layout": "IPY_MODEL_b2aea1a2e0a741a8a33dcad59330911f",
       "style": "IPY_MODEL_7f980c907cbc42a6abb3d821f59cecdf"
      }
     },
     "4042b4ed2b254124993c1febe2e1c69e": {
      "model_module": "@jupyter-widgets/controls",
      "model_module_version": "1.5.0",
      "model_name": "VBoxModel",
      "state": {
       "children": [
        "IPY_MODEL_2469b384a4f44a3ca7a9d9754f469099",
        "IPY_MODEL_0a5123d89632414fb35d29cc6fc33466"
       ],
       "layout": "IPY_MODEL_8ededc9fabef4a7b9fe0c2b2b77b11b6"
      }
     },
     "40584df0d64c4e63a1acb83679c8b3b2": {
      "model_module": "@jupyter-widgets/base",
      "model_module_version": "1.2.0",
      "model_name": "LayoutModel",
      "state": {}
     },
     "40cbbbe767464a29bf96a081c8461526": {
      "model_module": "@jupyter-widgets/base",
      "model_module_version": "1.2.0",
      "model_name": "LayoutModel",
      "state": {}
     },
     "41290d227e194bb594c6cc0a37182dd1": {
      "model_module": "@jupyter-widgets/controls",
      "model_module_version": "1.5.0",
      "model_name": "DescriptionStyleModel",
      "state": {
       "description_width": ""
      }
     },
     "41447fb98dc149f2a7aec8ae21564215": {
      "model_module": "@jupyter-widgets/controls",
      "model_module_version": "1.5.0",
      "model_name": "DescriptionStyleModel",
      "state": {
       "description_width": ""
      }
     },
     "415f0b66aa4e4f6a96bc0a995d749c73": {
      "model_module": "@jupyter-widgets/controls",
      "model_module_version": "1.5.0",
      "model_name": "DescriptionStyleModel",
      "state": {
       "description_width": ""
      }
     },
     "41a768c4bcca43759da1e946d2e958aa": {
      "model_module": "@jupyter-widgets/controls",
      "model_module_version": "1.5.0",
      "model_name": "FloatSliderModel",
      "state": {
       "layout": "IPY_MODEL_c565008a582041bfbdf8145eb5d0bfbe",
       "max": 55,
       "min": -30,
       "readout": false,
       "style": "IPY_MODEL_6417243b53a54aefa0e7655a338a10b2",
       "value": 20
      }
     },
     "41bcbf2a64824facaa3973f9ea9065b6": {
      "model_module": "@jupyter-widgets/base",
      "model_module_version": "1.2.0",
      "model_name": "LayoutModel",
      "state": {
       "flex": "10 1 auto",
       "width": "auto"
      }
     },
     "41ec3acb3f3146e7a8ce673a13526778": {
      "model_module": "@jupyter-widgets/controls",
      "model_module_version": "1.5.0",
      "model_name": "HBoxModel",
      "state": {
       "children": [
        "IPY_MODEL_a73142ad957e4ba6b740f719955261f1",
        "IPY_MODEL_e24b3155a2044ec8b34bd62778577ac1",
        "IPY_MODEL_53b55d40a9dd4fc6bef0b08a80b92a0a"
       ],
       "layout": "IPY_MODEL_b7b9154dd9a64c09ba4583f4adabf6d5"
      }
     },
     "41f10b1940d34aa6b8b495b7a8208cba": {
      "model_module": "@jupyter-widgets/base",
      "model_module_version": "1.2.0",
      "model_name": "LayoutModel",
      "state": {
       "flex": "1 1 auto",
       "width": "auto"
      }
     },
     "41ffdc3f02aa4d17a38bb86811cf9346": {
      "model_module": "@jupyter-widgets/controls",
      "model_module_version": "1.5.0",
      "model_name": "LabelModel",
      "state": {
       "layout": "IPY_MODEL_96eb74f10a3246c592b7b82a0cdd89f1",
       "style": "IPY_MODEL_86b1585bacb0476db25edb5d37230b50",
       "value": "Platelength in m"
      }
     },
     "425fdfad8c954caabd3e73cefa07e789": {
      "model_module": "@jupyter-widgets/controls",
      "model_module_version": "1.5.0",
      "model_name": "LabelModel",
      "state": {
       "layout": "IPY_MODEL_a54458b7a49a43679223a622cbdeb083",
       "style": "IPY_MODEL_cb423ca5236f4947bc79e7614009149b",
       "value": "Gas / Specie Mixture:"
      }
     },
     "429715a41de94284859cef7a70f867aa": {
      "model_module": "@jupyter-widgets/controls",
      "model_module_version": "1.5.0",
      "model_name": "DescriptionStyleModel",
      "state": {
       "description_width": ""
      }
     },
     "42ea0c34a3fa47738de07878bf63c7a8": {
      "model_module": "@jupyter-widgets/controls",
      "model_module_version": "1.5.0",
      "model_name": "DescriptionStyleModel",
      "state": {
       "description_width": ""
      }
     },
     "42fd251ece634b0a8819d1b8b18866e4": {
      "model_module": "@jupyter-widgets/controls",
      "model_module_version": "1.5.0",
      "model_name": "DescriptionStyleModel",
      "state": {
       "description_width": ""
      }
     },
     "4300dee956b74ae988d90c809d5954e2": {
      "model_module": "@jupyter-widgets/controls",
      "model_module_version": "1.5.0",
      "model_name": "VBoxModel",
      "state": {
       "children": [
        "IPY_MODEL_b0d84884f99145b69045e395b807245c",
        "IPY_MODEL_fa46af33cae9490eba3a25a92c995ebc",
        "IPY_MODEL_94711cdc5f1845e4b4e67ab3d4b8e150"
       ],
       "layout": "IPY_MODEL_7780a03d93af41c39d95a58cbf223020"
      }
     },
     "430140ae6fe24a0cafbe7eab008f8fb6": {
      "model_module": "@jupyter-widgets/controls",
      "model_module_version": "1.5.0",
      "model_name": "DescriptionStyleModel",
      "state": {
       "description_width": ""
      }
     },
     "4329f37e474745dab17d8f69ddae8cc9": {
      "model_module": "@jupyter-widgets/controls",
      "model_module_version": "1.5.0",
      "model_name": "DescriptionStyleModel",
      "state": {
       "description_width": ""
      }
     },
     "4350ca30d9384acaa46f63e0d4de6333": {
      "model_module": "@jupyter-widgets/controls",
      "model_module_version": "1.5.0",
      "model_name": "BoundedFloatTextModel",
      "state": {
       "layout": "IPY_MODEL_5c6eb6ac3d1b4cc6a5682271f40ba114",
       "max": 200,
       "min": 0.001,
       "step": 0.001,
       "style": "IPY_MODEL_d08e97e2b7c64ff289b2c3cc4e48084e",
       "value": 20
      }
     },
     "435e2c1dedfb4d43bc7a96e8da2f7faf": {
      "model_module": "@jupyter-widgets/base",
      "model_module_version": "1.2.0",
      "model_name": "LayoutModel",
      "state": {
       "flex": "10 1 auto",
       "width": "auto"
      }
     },
     "438779b9f3d242ac85e67204fbb696c1": {
      "model_module": "@jupyter-widgets/base",
      "model_module_version": "1.2.0",
      "model_name": "LayoutModel",
      "state": {
       "display": "flex",
       "width": "100%"
      }
     },
     "43998be58926472baef120daa3da716d": {
      "model_module": "@jupyter-widgets/controls",
      "model_module_version": "1.5.0",
      "model_name": "HBoxModel",
      "state": {
       "children": [
        "IPY_MODEL_838ae577ec4646e582ef17a86ca43fa2",
        "IPY_MODEL_c6578f17e799461caecf8a781a94ac50",
        "IPY_MODEL_d09af0d109994accbc71099e8b5bde72"
       ],
       "layout": "IPY_MODEL_a0fb72705674438aa39d550731d2761a"
      }
     },
     "43b7f3ddae334bc1afe7d815c3bbe159": {
      "model_module": "@jupyter-widgets/base",
      "model_module_version": "1.2.0",
      "model_name": "LayoutModel",
      "state": {
       "display": "flex",
       "flex_flow": "row"
      }
     },
     "43c0a7b362444cbfa7c94fe7692ffcd3": {
      "model_module": "@jupyter-widgets/base",
      "model_module_version": "1.2.0",
      "model_name": "LayoutModel",
      "state": {
       "flex": "10 1 auto",
       "width": "auto"
      }
     },
     "4433f48bccde43ddbf1613c1e8a50d1f": {
      "model_module": "@jupyter-widgets/base",
      "model_module_version": "1.2.0",
      "model_name": "LayoutModel",
      "state": {
       "flex": "1 1 auto",
       "width": "auto"
      }
     },
     "4459602346bb44d5ab5d8cd39f74ba8e": {
      "model_module": "@jupyter-widgets/base",
      "model_module_version": "1.2.0",
      "model_name": "LayoutModel",
      "state": {}
     },
     "445acbc5a6904a6999f7a3eff560b1b0": {
      "model_module": "@jupyter-widgets/controls",
      "model_module_version": "1.5.0",
      "model_name": "BoundedFloatTextModel",
      "state": {
       "layout": "IPY_MODEL_9f9298a80c5144b2b49efd57d6d36807",
       "max": 10,
       "min": 0.001,
       "step": 0.001,
       "style": "IPY_MODEL_289aa6fb6dad44e2868c52ff5fc1dd4d",
       "value": 0.1
      }
     },
     "44656b38879c47708ef42d2a50abcd6d": {
      "model_module": "@jupyter-widgets/controls",
      "model_module_version": "1.5.0",
      "model_name": "FloatSliderModel",
      "state": {
       "layout": "IPY_MODEL_9f5bdfc9cc1e4d9a9ead05bca642e699",
       "max": 200,
       "min": 0.001,
       "readout": false,
       "step": 0.001,
       "style": "IPY_MODEL_ff7d45d33a0d41cbb6266d081a68098f",
       "value": 20
      }
     },
     "4499c091400a4faa80b863914ba8d697": {
      "model_module": "@jupyter-widgets/base",
      "model_module_version": "1.2.0",
      "model_name": "LayoutModel",
      "state": {}
     },
     "44fd472f197349f9abb947569e22a3aa": {
      "model_module": "@jupyter-widgets/base",
      "model_module_version": "1.2.0",
      "model_name": "LayoutModel",
      "state": {}
     },
     "4506b45cfa3c48509ff5ce7f943505c5": {
      "model_module": "@jupyter-widgets/controls",
      "model_module_version": "1.5.0",
      "model_name": "SliderStyleModel",
      "state": {
       "description_width": ""
      }
     },
     "458ac584379941128e9d828e855881d7": {
      "model_module": "@jupyter-widgets/controls",
      "model_module_version": "1.5.0",
      "model_name": "FloatSliderModel",
      "state": {
       "layout": "IPY_MODEL_aeb8eef406564adf8c9b29f6f96cb7d7",
       "max": 10,
       "min": 0.001,
       "readout": false,
       "step": 0.001,
       "style": "IPY_MODEL_962c2f952bac459297fc9fb1a9ebad95",
       "value": 0.1
      }
     },
     "45b961c94bf24c608a78266d64837dcd": {
      "model_module": "@jupyter-widgets/base",
      "model_module_version": "1.2.0",
      "model_name": "LayoutModel",
      "state": {
       "display": "flex",
       "min_height": "300px",
       "width": "100%"
      }
     },
     "45e065633f574b569cbd721ceaf106fc": {
      "model_module": "@jupyter-widgets/base",
      "model_module_version": "1.2.0",
      "model_name": "LayoutModel",
      "state": {
       "display": "flex",
       "width": "100%"
      }
     },
     "460ba90c6da34caa9476b0ca10802292": {
      "model_module": "@jupyter-widgets/base",
      "model_module_version": "1.2.0",
      "model_name": "LayoutModel",
      "state": {
       "flex": "1 1 auto",
       "width": "auto"
      }
     },
     "465a3dbaeba64682be734a055df38b23": {
      "model_module": "@jupyter-widgets/controls",
      "model_module_version": "1.5.0",
      "model_name": "SliderStyleModel",
      "state": {
       "description_width": ""
      }
     },
     "469e383a75904f439cbf02cde50ae161": {
      "model_module": "@jupyter-widgets/base",
      "model_module_version": "1.2.0",
      "model_name": "LayoutModel",
      "state": {
       "display": "flex",
       "width": "100%"
      }
     },
     "46b5fb5d4e7b4cb18829a987cfa7ab6f": {
      "model_module": "@jupyter-widgets/base",
      "model_module_version": "1.2.0",
      "model_name": "LayoutModel",
      "state": {
       "flex": "1 1 auto",
       "width": "auto"
      }
     },
     "46d04b7fa00142e889fe38f31be98e42": {
      "model_module": "@jupyter-widgets/controls",
      "model_module_version": "1.5.0",
      "model_name": "AccordionModel",
      "state": {
       "_titles": {
        "0": "Thermodynamic State",
        "1": "Flat Plate"
       },
       "children": [
        "IPY_MODEL_c78e31daa2f84489b0ca0847cd40c935",
        "IPY_MODEL_e041aafd1bd440b1b5d38d64e3e7f65b"
       ],
       "layout": "IPY_MODEL_8b3946f3db2b493eaf0e444ed178824c"
      }
     },
     "46d5579beb214eda8ea5f8e7ecab0455": {
      "model_module": "@jupyter-widgets/controls",
      "model_module_version": "1.5.0",
      "model_name": "AccordionModel",
      "state": {
       "_titles": {
        "0": "Thermodynamic State",
        "1": "Flat Plate"
       },
       "children": [
        "IPY_MODEL_666cacdbc18042d6b4495bf1f97ad2fa",
        "IPY_MODEL_80ef42e48ec04a4888393c19dac58028"
       ],
       "layout": "IPY_MODEL_d3128bce17cf412d95b5b0aca5353c5f"
      }
     },
     "47389d635f7b4bde90a3d1e383d49b1a": {
      "model_module": "@jupyter-widgets/controls",
      "model_module_version": "1.5.0",
      "model_name": "AccordionModel",
      "state": {
       "_titles": {
        "0": "Thermodynamic State",
        "1": "Flat Plate"
       },
       "children": [
        "IPY_MODEL_4e8ff89afa014816aa66a0e3fee0e03d",
        "IPY_MODEL_ad634a25b44d4064993670d92432f641"
       ],
       "layout": "IPY_MODEL_67c64a19de0a40a1a1de92909b8d44c6"
      }
     },
     "47baae1f11c7423f8692d880effa34a1": {
      "model_module": "@jupyter-widgets/controls",
      "model_module_version": "1.5.0",
      "model_name": "BoundedFloatTextModel",
      "state": {
       "layout": "IPY_MODEL_282fde11e4fc4cedbf703b022850a8d0",
       "max": 15000000,
       "min": 1,
       "step": 100000,
       "style": "IPY_MODEL_76a118d690f64860bc7b8b536bb5d73c",
       "value": 101325
      }
     },
     "47bacb53654549448ac8b9df6b11bf49": {
      "model_module": "@jupyter-widgets/base",
      "model_module_version": "1.2.0",
      "model_name": "LayoutModel",
      "state": {
       "display": "flex",
       "flex_flow": "row"
      }
     },
     "47c1ffa40812448da05f998c9a54ce92": {
      "model_module": "@jupyter-widgets/controls",
      "model_module_version": "1.5.0",
      "model_name": "DescriptionStyleModel",
      "state": {
       "description_width": ""
      }
     },
     "47d6f58ff5954001a87644978ab69702": {
      "model_module": "@jupyter-widgets/base",
      "model_module_version": "1.2.0",
      "model_name": "LayoutModel",
      "state": {
       "flex": "1 1 auto",
       "width": "auto"
      }
     },
     "47e346c6941142598ee8bb29f3d92bec": {
      "model_module": "@jupyter-widgets/base",
      "model_module_version": "1.2.0",
      "model_name": "LayoutModel",
      "state": {
       "display": "flex",
       "flex_flow": "row"
      }
     },
     "4804b46d3653498fbb9b0892a19bcecf": {
      "model_module": "@jupyter-widgets/base",
      "model_module_version": "1.2.0",
      "model_name": "LayoutModel",
      "state": {
       "flex": "10 1 auto",
       "width": "auto"
      }
     },
     "48135822651b496697f885807b43649f": {
      "model_module": "@jupyter-widgets/base",
      "model_module_version": "1.2.0",
      "model_name": "LayoutModel",
      "state": {
       "display": "flex",
       "width": "100%"
      }
     },
     "4829885b68314823a91e0de5a529aff9": {
      "model_module": "@jupyter-widgets/controls",
      "model_module_version": "1.5.0",
      "model_name": "DescriptionStyleModel",
      "state": {
       "description_width": ""
      }
     },
     "483ba422784440e38da542ef6962eb4c": {
      "model_module": "@jupyter-widgets/controls",
      "model_module_version": "1.5.0",
      "model_name": "HBoxModel",
      "state": {
       "children": [
        "IPY_MODEL_25728fb032a746048e15b342c91e3186",
        "IPY_MODEL_3fee590d2e394be8a99d52ebb9c3a450"
       ],
       "layout": "IPY_MODEL_4cdba046a49242a097b0a0fe1d35322d"
      }
     },
     "4865e67d7dd74d6bbf8a902addb93f68": {
      "model_module": "@jupyter-widgets/controls",
      "model_module_version": "1.5.0",
      "model_name": "DescriptionStyleModel",
      "state": {
       "description_width": ""
      }
     },
     "48689af0a4ad445eaa86b8dab09ca89e": {
      "model_module": "@jupyter-widgets/base",
      "model_module_version": "1.2.0",
      "model_name": "LayoutModel",
      "state": {
       "display": "flex",
       "flex_flow": "row"
      }
     },
     "487195dfe6ea4907bf91487b3dc4a54d": {
      "model_module": "@jupyter-widgets/controls",
      "model_module_version": "1.5.0",
      "model_name": "LabelModel",
      "state": {
       "layout": "IPY_MODEL_8bb61424b36f47d0b87f0347d090f8fc",
       "style": "IPY_MODEL_31b09b4541d745adb2166e6055763510",
       "value": "Gas / Specie Mixture:"
      }
     },
     "48c6f532b058490fa187259d9513dadc": {
      "model_module": "@jupyter-widgets/output",
      "model_module_version": "1.0.0",
      "model_name": "OutputModel",
      "state": {
       "layout": "IPY_MODEL_9fc483d3a6bb44d194e4a392073d3fee"
      }
     },
     "48cfa4775ce84f4189188c1a1dd4f43e": {
      "model_module": "@jupyter-widgets/base",
      "model_module_version": "1.2.0",
      "model_name": "LayoutModel",
      "state": {
       "display": "flex",
       "flex_flow": "row"
      }
     },
     "48f6ad8b7449436db3d8aeedfe92d3d5": {
      "model_module": "@jupyter-widgets/base",
      "model_module_version": "1.2.0",
      "model_name": "LayoutModel",
      "state": {
       "flex": "1 1 auto",
       "min_height": "300px",
       "min_width": "400px",
       "width": "auto"
      }
     },
     "49369d4eabd84683b249dacb956267bd": {
      "model_module": "@jupyter-widgets/controls",
      "model_module_version": "1.5.0",
      "model_name": "LabelModel",
      "state": {
       "layout": "IPY_MODEL_4b394c3466fa4a60b635b633fb31fb12",
       "style": "IPY_MODEL_eb73f4e40a1e4063af922b9abd94b0fb",
       "value": "Platelength in m"
      }
     },
     "498ecef5debd497a80b65fd323cce563": {
      "model_module": "@jupyter-widgets/controls",
      "model_module_version": "1.5.0",
      "model_name": "DescriptionStyleModel",
      "state": {
       "description_width": ""
      }
     },
     "49a067f25bd741e5867000d98f730df4": {
      "model_module": "@jupyter-widgets/base",
      "model_module_version": "1.2.0",
      "model_name": "LayoutModel",
      "state": {
       "flex": "1 1 auto",
       "width": "auto"
      }
     },
     "49b1f4378681417d9515a5ed16080a22": {
      "model_module": "@jupyter-widgets/base",
      "model_module_version": "1.2.0",
      "model_name": "LayoutModel",
      "state": {}
     },
     "49c0ce94738844b1aaf9af00e6c7d967": {
      "model_module": "@jupyter-widgets/base",
      "model_module_version": "1.2.0",
      "model_name": "LayoutModel",
      "state": {}
     },
     "49e8b2a178f6412ca403badd5d3dee57": {
      "model_module": "@jupyter-widgets/controls",
      "model_module_version": "1.5.0",
      "model_name": "DescriptionStyleModel",
      "state": {
       "description_width": ""
      }
     },
     "49ec000287144863812cfd2a4b145c08": {
      "model_module": "@jupyter-widgets/base",
      "model_module_version": "1.2.0",
      "model_name": "LayoutModel",
      "state": {
       "flex": "10 1 auto",
       "width": "auto"
      }
     },
     "4a0d66cf55a6405f8e2e836443f587d8": {
      "model_module": "@jupyter-widgets/base",
      "model_module_version": "1.2.0",
      "model_name": "LayoutModel",
      "state": {
       "display": "flex",
       "width": "100%"
      }
     },
     "4a3c107bbe5842cb90514ccf953d843e": {
      "model_module": "@jupyter-widgets/controls",
      "model_module_version": "1.5.0",
      "model_name": "SliderStyleModel",
      "state": {
       "description_width": ""
      }
     },
     "4a3f15dab85148d3935bf2a2c246b980": {
      "model_module": "@jupyter-widgets/controls",
      "model_module_version": "1.5.0",
      "model_name": "FloatSliderModel",
      "state": {
       "layout": "IPY_MODEL_0a8481f1d72d4795ac552330a902eb6c",
       "max": 15000000,
       "min": 1,
       "readout": false,
       "step": 100000,
       "style": "IPY_MODEL_ab7de6f3fbff4dcdbbfbae1f6ac2e252",
       "value": 101325
      }
     },
     "4a4695c5ff3e4ff291970c0d61624c9e": {
      "model_module": "@jupyter-widgets/controls",
      "model_module_version": "1.5.0",
      "model_name": "DescriptionStyleModel",
      "state": {
       "description_width": ""
      }
     },
     "4a933538b2584e8db81a461b8f2c4a74": {
      "model_module": "@jupyter-widgets/base",
      "model_module_version": "1.2.0",
      "model_name": "LayoutModel",
      "state": {
       "flex": "1 1 auto",
       "width": "auto"
      }
     },
     "4ab9d6a61bcb464e99ff3278be011c08": {
      "model_module": "@jupyter-widgets/controls",
      "model_module_version": "1.5.0",
      "model_name": "BoundedFloatTextModel",
      "state": {
       "layout": "IPY_MODEL_1c4469de4add433284e37e468fb79c25",
       "max": 15000000,
       "min": 1,
       "step": 100000,
       "style": "IPY_MODEL_0252eb00f14b4558919a25c4a53bf8d3",
       "value": 101325
      }
     },
     "4aded113fb494d9e8cadd470da654b32": {
      "model_module": "@jupyter-widgets/base",
      "model_module_version": "1.2.0",
      "model_name": "LayoutModel",
      "state": {}
     },
     "4afa7cab1ac7473a85ba7716fa316ce0": {
      "model_module": "@jupyter-widgets/controls",
      "model_module_version": "1.5.0",
      "model_name": "HBoxModel",
      "state": {
       "children": [
        "IPY_MODEL_f03b980117624f46ae06e6fa66a1f965",
        "IPY_MODEL_3b05f56fbfea47c083c0518103878f81",
        "IPY_MODEL_e0426f4d3b334d05aa90f138daff4b39"
       ],
       "layout": "IPY_MODEL_f3cc1458316b4b1a865834ade3461af9"
      }
     },
     "4b1e27e0a0354c1d882014d7dd3576a0": {
      "model_module": "@jupyter-widgets/base",
      "model_module_version": "1.2.0",
      "model_name": "LayoutModel",
      "state": {}
     },
     "4b34a343518044f7a15f16e466798fc7": {
      "model_module": "@jupyter-widgets/base",
      "model_module_version": "1.2.0",
      "model_name": "LayoutModel",
      "state": {
       "flex": "1 1 auto",
       "width": "auto"
      }
     },
     "4b394c3466fa4a60b635b633fb31fb12": {
      "model_module": "@jupyter-widgets/base",
      "model_module_version": "1.2.0",
      "model_name": "LayoutModel",
      "state": {
       "flex": "1 1 auto",
       "width": "auto"
      }
     },
     "4b5a0e6dfa1a49e4847a4fde504b6708": {
      "model_module": "@jupyter-widgets/controls",
      "model_module_version": "1.5.0",
      "model_name": "DescriptionStyleModel",
      "state": {
       "description_width": ""
      }
     },
     "4b610652128d4df086a0a5d87cee450b": {
      "model_module": "@jupyter-widgets/controls",
      "model_module_version": "1.5.0",
      "model_name": "AccordionModel",
      "state": {
       "_titles": {
        "0": "Thermodynamic State",
        "1": "Flat Plate"
       },
       "children": [
        "IPY_MODEL_864714c27c984323ad2085dad44c07bb",
        "IPY_MODEL_d57719413ad947d49c920c13dbae1c29"
       ],
       "layout": "IPY_MODEL_863c799d6bb94e49a398fade48d7a696"
      }
     },
     "4bb49fd8bf4f49378d7603b2dbb36e6b": {
      "model_module": "@jupyter-widgets/controls",
      "model_module_version": "1.5.0",
      "model_name": "SliderStyleModel",
      "state": {
       "description_width": ""
      }
     },
     "4c938724cc474ebeafaf2b731dbf72d8": {
      "model_module": "@jupyter-widgets/base",
      "model_module_version": "1.2.0",
      "model_name": "LayoutModel",
      "state": {
       "display": "flex",
       "width": "100%"
      }
     },
     "4cbc245f17644fc1b7ba79be7f4493ac": {
      "model_module": "@jupyter-widgets/controls",
      "model_module_version": "1.5.0",
      "model_name": "FloatSliderModel",
      "state": {
       "layout": "IPY_MODEL_c0cdb690aabc4f2fbd6adc5554cee05a",
       "max": 10,
       "min": 0.001,
       "readout": false,
       "step": 0.001,
       "style": "IPY_MODEL_30bffee445ae435b8bbc41be7e8dd439",
       "value": 0.1
      }
     },
     "4cd851bb30c84038a609c17c90d2ee80": {
      "model_module": "@jupyter-widgets/controls",
      "model_module_version": "1.5.0",
      "model_name": "HBoxModel",
      "state": {
       "children": [
        "IPY_MODEL_49369d4eabd84683b249dacb956267bd",
        "IPY_MODEL_c210b5d8c0eb4df69194374f56d9b961",
        "IPY_MODEL_1542a4094f4b4f258f8d986da09823c4"
       ],
       "layout": "IPY_MODEL_03a11590b1324e5280e431860093ba69"
      }
     },
     "4cdba046a49242a097b0a0fe1d35322d": {
      "model_module": "@jupyter-widgets/base",
      "model_module_version": "1.2.0",
      "model_name": "LayoutModel",
      "state": {}
     },
     "4ceac90f4b6b4fa1ac76d0699ace0be5": {
      "model_module": "@jupyter-widgets/base",
      "model_module_version": "1.2.0",
      "model_name": "LayoutModel",
      "state": {
       "flex": "1 1 auto",
       "width": "auto"
      }
     },
     "4d0f813a26fb4b4f88a2db3507811ea1": {
      "model_module": "@jupyter-widgets/controls",
      "model_module_version": "1.5.0",
      "model_name": "FloatSliderModel",
      "state": {
       "layout": "IPY_MODEL_166fcaa57ede4b208def6bdbaa8ed367",
       "max": 200,
       "min": 0.001,
       "readout": false,
       "step": 0.001,
       "style": "IPY_MODEL_647b70be758241a481e9d92c92c24040",
       "value": 20
      }
     },
     "4d26598561ae428c87f88f4435cb8ef0": {
      "model_module": "@jupyter-widgets/base",
      "model_module_version": "1.2.0",
      "model_name": "LayoutModel",
      "state": {
       "display": "flex",
       "width": "100%"
      }
     },
     "4d463214146347b38d44a7a0d735b969": {
      "model_module": "@jupyter-widgets/base",
      "model_module_version": "1.2.0",
      "model_name": "LayoutModel",
      "state": {
       "flex": "10 1 auto",
       "width": "auto"
      }
     },
     "4d4684d2847640b6a8c11f0e97febb43": {
      "model_module": "@jupyter-widgets/base",
      "model_module_version": "1.2.0",
      "model_name": "LayoutModel",
      "state": {
       "display": "flex",
       "width": "100%"
      }
     },
     "4d5ccd09f6124d93a251d8fbdc05671d": {
      "model_module": "@jupyter-widgets/controls",
      "model_module_version": "1.5.0",
      "model_name": "DescriptionStyleModel",
      "state": {
       "description_width": ""
      }
     },
     "4d8699f3c1f64151a06583277055e63f": {
      "model_module": "@jupyter-widgets/controls",
      "model_module_version": "1.5.0",
      "model_name": "LabelModel",
      "state": {
       "layout": "IPY_MODEL_d0a7dca0ba6d4e6aaf2efc3d4760f995",
       "style": "IPY_MODEL_134b467205ff4fe1b432a6eda9462627",
       "value": "Gas / Specie Mixture:"
      }
     },
     "4d9a65e729d744a09c51bfc141c1dbc3": {
      "model_module": "@jupyter-widgets/base",
      "model_module_version": "1.2.0",
      "model_name": "LayoutModel",
      "state": {
       "flex": "1 1 auto",
       "width": "auto"
      }
     },
     "4da13c9d8d404693aef6a78f36404bfa": {
      "model_module": "@jupyter-widgets/base",
      "model_module_version": "1.2.0",
      "model_name": "LayoutModel",
      "state": {
       "flex": "1 1 auto",
       "width": "auto"
      }
     },
     "4e007841965f4c4fa1166de3f783eb8a": {
      "model_module": "@jupyter-widgets/base",
      "model_module_version": "1.2.0",
      "model_name": "LayoutModel",
      "state": {
       "flex": "1 1 auto",
       "width": "auto"
      }
     },
     "4e1c7ff0258f4688acbb46c3b3882bec": {
      "model_module": "@jupyter-widgets/controls",
      "model_module_version": "1.5.0",
      "model_name": "BoundedFloatTextModel",
      "state": {
       "layout": "IPY_MODEL_e59f6c62d4294b0b8158f0d4b92cbff1",
       "max": 55,
       "min": -30,
       "step": 1,
       "style": "IPY_MODEL_2d6273954de640d3bdadaf4da21594f8",
       "value": 20
      }
     },
     "4e61d046b7114f4db002caa21900b9c1": {
      "model_module": "@jupyter-widgets/controls",
      "model_module_version": "1.5.0",
      "model_name": "FloatSliderModel",
      "state": {
       "layout": "IPY_MODEL_a5142188afbd4d2c80eb1573a731972a",
       "max": 200,
       "min": 0.001,
       "readout": false,
       "step": 0.001,
       "style": "IPY_MODEL_8deb4ba4bee049f9a93651f47dcec886",
       "value": 20
      }
     },
     "4e6649c4b1c14c459846ea5d385bb8c7": {
      "model_module": "@jupyter-widgets/base",
      "model_module_version": "1.2.0",
      "model_name": "LayoutModel",
      "state": {
       "flex": "1 1 auto",
       "width": "auto"
      }
     },
     "4e74f82991f2418b88bfbec391ba45f8": {
      "model_module": "@jupyter-widgets/controls",
      "model_module_version": "1.5.0",
      "model_name": "AccordionModel",
      "state": {
       "_titles": {
        "0": "Thermodynamic State",
        "1": "Flat Plate"
       },
       "children": [
        "IPY_MODEL_4300dee956b74ae988d90c809d5954e2",
        "IPY_MODEL_ab0733c480264cfc83364840eaeda71b"
       ],
       "layout": "IPY_MODEL_75e327d3461740fe8de34bf99595ee60"
      }
     },
     "4e8ff89afa014816aa66a0e3fee0e03d": {
      "model_module": "@jupyter-widgets/controls",
      "model_module_version": "1.5.0",
      "model_name": "VBoxModel",
      "state": {
       "children": [
        "IPY_MODEL_5a83899f9b954c91b383e6a2e2b4a3b6",
        "IPY_MODEL_6352dd06805643df9bdbcba4107f42a3",
        "IPY_MODEL_ccd777ec8d444d939431078955b9cc56"
       ],
       "layout": "IPY_MODEL_027d6d18aadc4c48b6847b5dffb400ac"
      }
     },
     "4e992e612f41439dbf54b10256977ab1": {
      "model_module": "@jupyter-widgets/controls",
      "model_module_version": "1.5.0",
      "model_name": "FloatSliderModel",
      "state": {
       "layout": "IPY_MODEL_bcbe5a13c6d5439a90a09ba0793de15a",
       "max": 200,
       "min": 0.001,
       "readout": false,
       "step": 0.001,
       "style": "IPY_MODEL_a7627252bf3a4d5cb0fb289e7d016f3e",
       "value": 20
      }
     },
     "4ea6ea53dced4488b6a244808edc8e23": {
      "model_module": "@jupyter-widgets/controls",
      "model_module_version": "1.5.0",
      "model_name": "LabelModel",
      "state": {
       "layout": "IPY_MODEL_11097c4e3b204f82a9bc685fe8b8becf",
       "style": "IPY_MODEL_adb0b033588f4f78b56ad5bcfa9195f0",
       "value": "Pressure in Pa:"
      }
     },
     "4eab76593b70484db2adb36c0f33f94a": {
      "model_module": "@jupyter-widgets/controls",
      "model_module_version": "1.5.0",
      "model_name": "BoundedFloatTextModel",
      "state": {
       "layout": "IPY_MODEL_252dc57e858a4319b204ecd8bbeef60a",
       "max": 15000000,
       "min": 1,
       "step": 100000,
       "style": "IPY_MODEL_92a332e79331460e820d0463907e4793",
       "value": 101325
      }
     },
     "4ed7a6364e0943258358f5d1571604da": {
      "model_module": "@jupyter-widgets/controls",
      "model_module_version": "1.5.0",
      "model_name": "AccordionModel",
      "state": {
       "_titles": {
        "0": "Thermodynamic State",
        "1": "Flat Plate"
       },
       "children": [
        "IPY_MODEL_1e1ddaa1d3dd4340802adf44cf37f608",
        "IPY_MODEL_33f4ecc407124e79a329a3d8bcb99fbb"
       ],
       "layout": "IPY_MODEL_572dd9719ebb494a914e360e77f90165"
      }
     },
     "4ee17a8207d04053bceb2c2764dd5bce": {
      "model_module": "@jupyter-widgets/base",
      "model_module_version": "1.2.0",
      "model_name": "LayoutModel",
      "state": {
       "display": "flex",
       "width": "100%"
      }
     },
     "4f1146b2f01a46a19e464167518acf2e": {
      "model_module": "@jupyter-widgets/base",
      "model_module_version": "1.2.0",
      "model_name": "LayoutModel",
      "state": {
       "flex": "1 1 auto",
       "width": "auto"
      }
     },
     "4f2dfb89e6d84ad2981d4db8670749f8": {
      "model_module": "@jupyter-widgets/controls",
      "model_module_version": "1.5.0",
      "model_name": "LabelModel",
      "state": {
       "layout": "IPY_MODEL_782571a21a784d8786f2fc4e9a55d12e",
       "style": "IPY_MODEL_8357506bee514382adb63599ec2dcdbd",
       "value": "Pressure in Pa:"
      }
     },
     "4f39bfdf9a0a41f89f0c35709b794c19": {
      "model_module": "@jupyter-widgets/controls",
      "model_module_version": "1.5.0",
      "model_name": "DescriptionStyleModel",
      "state": {
       "description_width": ""
      }
     },
     "4f6ffeacfe0e427aa17f1d25afe79d01": {
      "model_module": "@jupyter-widgets/controls",
      "model_module_version": "1.5.0",
      "model_name": "DescriptionStyleModel",
      "state": {
       "description_width": ""
      }
     },
     "4f725f8ca01148a2b866275fcfc6be8c": {
      "model_module": "@jupyter-widgets/base",
      "model_module_version": "1.2.0",
      "model_name": "LayoutModel",
      "state": {}
     },
     "4fb29bb3ccf84fe3bd36175766cd67bc": {
      "model_module": "@jupyter-widgets/controls",
      "model_module_version": "1.5.0",
      "model_name": "DescriptionStyleModel",
      "state": {
       "description_width": ""
      }
     },
     "4fce9029701e4a1eab6eb4260fd46af9": {
      "model_module": "@jupyter-widgets/controls",
      "model_module_version": "1.5.0",
      "model_name": "BoundedFloatTextModel",
      "state": {
       "layout": "IPY_MODEL_c43d2f7e9f6a4034b3c340799909b67d",
       "max": 15000000,
       "min": 1,
       "step": 100000,
       "style": "IPY_MODEL_a581d70e48bf41d1a25c0c3f82600e7d",
       "value": 101325
      }
     },
     "4fd4f28b935043e889721a471ad37cdd": {
      "model_module": "@jupyter-widgets/controls",
      "model_module_version": "1.5.0",
      "model_name": "BoundedFloatTextModel",
      "state": {
       "layout": "IPY_MODEL_fa63516a64774bfea68d6f28e822a392",
       "max": 15000000,
       "min": 1,
       "step": 100000,
       "style": "IPY_MODEL_55b7880d159542248a64fdc1fd3e4411",
       "value": 101325
      }
     },
     "4ff24447dba346e09d07726d4e4c9dcc": {
      "model_module": "@jupyter-widgets/controls",
      "model_module_version": "1.5.0",
      "model_name": "DescriptionStyleModel",
      "state": {
       "description_width": ""
      }
     },
     "500de816685543419e34dc1bbb65b170": {
      "model_module": "@jupyter-widgets/base",
      "model_module_version": "1.2.0",
      "model_name": "LayoutModel",
      "state": {
       "display": "flex",
       "width": "100%"
      }
     },
     "50247d5c1e3a4719b19b6d930430e5a0": {
      "model_module": "@jupyter-widgets/controls",
      "model_module_version": "1.5.0",
      "model_name": "VBoxModel",
      "state": {
       "children": [
        "IPY_MODEL_25d4d125ad1147e9934ea2fdc284707a",
        "IPY_MODEL_e7a68714d0314f7b9b5399b5509cef50"
       ],
       "layout": "IPY_MODEL_9dde3821a6c944d0a3e70f5e5934e75f"
      }
     },
     "5052cf6b0e044d0ab39fe725ec9bb995": {
      "model_module": "@jupyter-widgets/base",
      "model_module_version": "1.2.0",
      "model_name": "LayoutModel",
      "state": {
       "flex": "10 1 auto",
       "width": "auto"
      }
     },
     "50808270b5984578b5afb9294d179e3b": {
      "model_module": "@jupyter-widgets/base",
      "model_module_version": "1.2.0",
      "model_name": "LayoutModel",
      "state": {
       "display": "flex",
       "flex_flow": "row"
      }
     },
     "50875a4794d34c6383f33f452138f17e": {
      "model_module": "@jupyter-widgets/base",
      "model_module_version": "1.2.0",
      "model_name": "LayoutModel",
      "state": {
       "flex": "1 1 auto",
       "width": "auto"
      }
     },
     "50a9ebfebd184dfdb07f5f20a3a75648": {
      "model_module": "@jupyter-widgets/controls",
      "model_module_version": "1.5.0",
      "model_name": "HBoxModel",
      "state": {
       "children": [
        "IPY_MODEL_adc991e494684734a43943abd9f6ca26",
        "IPY_MODEL_06e15071207a498482c6b7918d5e6c22"
       ],
       "layout": "IPY_MODEL_2886c6785bc04421be5cd31a51a928f4"
      }
     },
     "50df7e76796341fba117902b8db56953": {
      "model_module": "@jupyter-widgets/base",
      "model_module_version": "1.2.0",
      "model_name": "LayoutModel",
      "state": {
       "flex": "1 1 auto",
       "width": "auto"
      }
     },
     "50e807fbcfa747829b119d28ea222906": {
      "model_module": "@jupyter-widgets/base",
      "model_module_version": "1.2.0",
      "model_name": "LayoutModel",
      "state": {}
     },
     "50f000fa1ecf4719b695be8fee6016d8": {
      "model_module": "@jupyter-widgets/controls",
      "model_module_version": "1.5.0",
      "model_name": "HBoxModel",
      "state": {
       "children": [
        "IPY_MODEL_9d7ef7f6e3aa4a14ba7f282492902586",
        "IPY_MODEL_162b8dabf6d14260b547595bd2d4f9bd",
        "IPY_MODEL_3028baac45dd4970808801b4ac321a94"
       ],
       "layout": "IPY_MODEL_01800b465ed649389dec0782a8dd45a5"
      }
     },
     "50fa547047304202be12c6027565243f": {
      "model_module": "@jupyter-widgets/controls",
      "model_module_version": "1.5.0",
      "model_name": "FloatSliderModel",
      "state": {
       "layout": "IPY_MODEL_9e7b3d72cc014e1391d3b7b263994878",
       "max": 10,
       "min": 0.001,
       "readout": false,
       "step": 0.001,
       "style": "IPY_MODEL_111f9e62c1f34dcfa92c9e40b53f8b00",
       "value": 0.1
      }
     },
     "5101b931969c4aecab9ec0f8dcd87c09": {
      "model_module": "@jupyter-widgets/controls",
      "model_module_version": "1.5.0",
      "model_name": "FloatSliderModel",
      "state": {
       "layout": "IPY_MODEL_dbc9887011bf4366a66f0922d5db88cf",
       "max": 15000000,
       "min": 1,
       "readout": false,
       "step": 100000,
       "style": "IPY_MODEL_558646b57b0e40d8bbe4f35b55e3c622",
       "value": 101325
      }
     },
     "5102c9f6d40449179d26113ecd5e0b59": {
      "model_module": "@jupyter-widgets/base",
      "model_module_version": "1.2.0",
      "model_name": "LayoutModel",
      "state": {
       "display": "flex",
       "width": "100%"
      }
     },
     "51117bac95714c839fd33442c788debf": {
      "model_module": "@jupyter-widgets/output",
      "model_module_version": "1.0.0",
      "model_name": "OutputModel",
      "state": {
       "layout": "IPY_MODEL_a2d2b2b6f02749d0a77d96af95219298",
       "outputs": [
        {
         "ename": "TypeError",
         "evalue": "'float' object is not subscriptable",
         "output_type": "error",
         "traceback": [
          "\u001b[0;31m\u001b[0m",
          "\u001b[0;31mTypeError\u001b[0mTraceback (most recent call last)",
          "\u001b[0;32m<ipython-input-64-352aef4f742a>\u001b[0m in \u001b[0;36mobserver\u001b[0;34m(change)\u001b[0m\n\u001b[1;32m     33\u001b[0m \u001b[0;34m\u001b[0m\u001b[0m\n\u001b[1;32m     34\u001b[0m             \u001b[0mclear_output\u001b[0m\u001b[0;34m(\u001b[0m\u001b[0mwait\u001b[0m\u001b[0;34m=\u001b[0m\u001b[0;32mTrue\u001b[0m\u001b[0;34m)\u001b[0m\u001b[0;34m\u001b[0m\u001b[0;34m\u001b[0m\u001b[0m\n\u001b[0;32m---> 35\u001b[0;31m             \u001b[0mf\u001b[0m\u001b[0;34m(\u001b[0m\u001b[0;34m**\u001b[0m\u001b[0mkwargs\u001b[0m\u001b[0;34m)\u001b[0m\u001b[0;34m\u001b[0m\u001b[0;34m\u001b[0m\u001b[0m\n\u001b[0m\u001b[1;32m     36\u001b[0m             \u001b[0;31m#widgets.show_inline_matplotlib_plots()\u001b[0m\u001b[0;34m\u001b[0m\u001b[0;34m\u001b[0m\u001b[0;34m\u001b[0m\u001b[0m\n\u001b[1;32m     37\u001b[0m     \u001b[0;32mfor\u001b[0m \u001b[0mk\u001b[0m\u001b[0;34m,\u001b[0m\u001b[0mw\u001b[0m \u001b[0;32min\u001b[0m \u001b[0mcontrols\u001b[0m\u001b[0;34m.\u001b[0m\u001b[0mitems\u001b[0m\u001b[0;34m(\u001b[0m\u001b[0;34m)\u001b[0m\u001b[0;34m:\u001b[0m\u001b[0;34m\u001b[0m\u001b[0;34m\u001b[0m\u001b[0m\n",
          "\u001b[0;32m<ipython-input-63-bcaaa3d4e8a3>\u001b[0m in \u001b[0;36mupdate\u001b[0;34m(platelength, u, pressure, temperature, gasname)\u001b[0m\n\u001b[1;32m     32\u001b[0m         \u001b[0;32mif\u001b[0m \u001b[0;32mnot\u001b[0m \u001b[0mnp\u001b[0m\u001b[0;34m.\u001b[0m\u001b[0misnan\u001b[0m\u001b[0;34m(\u001b[0m\u001b[0mg\u001b[0m\u001b[0;34m.\u001b[0m\u001b[0mdensity\u001b[0m\u001b[0;34m)\u001b[0m\u001b[0;34m:\u001b[0m\u001b[0;34m\u001b[0m\u001b[0;34m\u001b[0m\u001b[0m\n\u001b[1;32m     33\u001b[0m             \u001b[0mbl\u001b[0m\u001b[0;34m,\u001b[0m \u001b[0mtransition\u001b[0m \u001b[0;34m=\u001b[0m \u001b[0mmomentum_boundarylayer\u001b[0m\u001b[0;34m(\u001b[0m\u001b[0mx\u001b[0m\u001b[0;34m,\u001b[0m \u001b[0mu\u001b[0m\u001b[0;34m,\u001b[0m \u001b[0mg\u001b[0m\u001b[0;34m)\u001b[0m\u001b[0;34m\u001b[0m\u001b[0;34m\u001b[0m\u001b[0m\n\u001b[0;32m---> 34\u001b[0;31m             \u001b[0mtransition_bl\u001b[0m\u001b[0;34m,\u001b[0m \u001b[0m_\u001b[0m \u001b[0;34m=\u001b[0m  \u001b[0mmomentum_boundarylayer\u001b[0m\u001b[0;34m(\u001b[0m\u001b[0mtransition\u001b[0m\u001b[0;34m[\u001b[0m\u001b[0;36m0\u001b[0m\u001b[0;34m]\u001b[0m\u001b[0;34m,\u001b[0m \u001b[0mu\u001b[0m\u001b[0;34m,\u001b[0m \u001b[0mg\u001b[0m\u001b[0;34m)\u001b[0m\u001b[0;34m\u001b[0m\u001b[0;34m\u001b[0m\u001b[0m\n\u001b[0m\u001b[1;32m     35\u001b[0m             \u001b[0mwarningtext\u001b[0m\u001b[0;34m.\u001b[0m\u001b[0mset_visible\u001b[0m\u001b[0;34m(\u001b[0m\u001b[0;32mFalse\u001b[0m\u001b[0;34m)\u001b[0m\u001b[0;34m\u001b[0m\u001b[0;34m\u001b[0m\u001b[0m\n\u001b[1;32m     36\u001b[0m             \u001b[0mblline\u001b[0m\u001b[0;34m.\u001b[0m\u001b[0mset_xdata\u001b[0m\u001b[0;34m(\u001b[0m\u001b[0mx\u001b[0m\u001b[0;34m)\u001b[0m\u001b[0;34m\u001b[0m\u001b[0;34m\u001b[0m\u001b[0m\n",
          "\u001b[0;31mTypeError\u001b[0m: 'float' object is not subscriptable"
         ]
        }
       ]
      }
     },
     "511984947f0b4fb9a266ca0f0d969d91": {
      "model_module": "@jupyter-widgets/controls",
      "model_module_version": "1.5.0",
      "model_name": "VBoxModel",
      "state": {
       "children": [
        "IPY_MODEL_179c15ef18b04ce2b1e8e100b1c209e3",
        "IPY_MODEL_efd9175097ef46ec8ac813ba82248fb0",
        "IPY_MODEL_6cf9676a217a4f34886fc9f805ff4a72"
       ],
       "layout": "IPY_MODEL_a89e12eaa3394e32ba1c52de1fdbe44d"
      }
     },
     "5130ecc4d39d488a90b0aa64733817c7": {
      "model_module": "@jupyter-widgets/base",
      "model_module_version": "1.2.0",
      "model_name": "LayoutModel",
      "state": {
       "display": "flex",
       "width": "100%"
      }
     },
     "513498e7d3c74ef498ae7751b9a0fc66": {
      "model_module": "@jupyter-widgets/base",
      "model_module_version": "1.2.0",
      "model_name": "LayoutModel",
      "state": {
       "flex": "10 1 auto",
       "width": "auto"
      }
     },
     "51545da415fe4c039520682e233b9399": {
      "model_module": "@jupyter-widgets/base",
      "model_module_version": "1.2.0",
      "model_name": "LayoutModel",
      "state": {
       "display": "flex",
       "flex_flow": "row"
      }
     },
     "518288cfc26a48e3889e3408921337e5": {
      "model_module": "@jupyter-widgets/controls",
      "model_module_version": "1.5.0",
      "model_name": "FloatSliderModel",
      "state": {
       "layout": "IPY_MODEL_0b94c9b71df44f34b3f72ab5e4324d64",
       "max": 55,
       "min": -30,
       "readout": false,
       "style": "IPY_MODEL_c6470b854cc247c88b5610ae508b54f5",
       "value": 20
      }
     },
     "5195f9486f544b1ba0c324e276b96754": {
      "model_module": "@jupyter-widgets/controls",
      "model_module_version": "1.5.0",
      "model_name": "FloatSliderModel",
      "state": {
       "layout": "IPY_MODEL_055f24484e9446cf85dd74f64a4b9ed5",
       "max": 55,
       "min": -30,
       "readout": false,
       "style": "IPY_MODEL_e3966a4b099448609159982f574bcecc",
       "value": 20
      }
     },
     "519fc0d3aa3f40a9b623a8425924d866": {
      "model_module": "@jupyter-widgets/controls",
      "model_module_version": "1.5.0",
      "model_name": "HBoxModel",
      "state": {
       "children": [
        "IPY_MODEL_1c954526505c4c8eb24833198ad67bd3",
        "IPY_MODEL_76eb0bc2ea12469ba0634ec13f785fb9",
        "IPY_MODEL_1a7b94774e4049c58f5673e1ada95157"
       ],
       "layout": "IPY_MODEL_bee31dcecbf74c56a24a8f8f8e2a63c2"
      }
     },
     "51c98d8fc9ee4af880d4cd27009f80b8": {
      "model_module": "@jupyter-widgets/base",
      "model_module_version": "1.2.0",
      "model_name": "LayoutModel",
      "state": {
       "flex": "1 1 auto",
       "width": "auto"
      }
     },
     "51e0742c75ad49f5b36c0af36d4b5f9e": {
      "model_module": "@jupyter-widgets/base",
      "model_module_version": "1.2.0",
      "model_name": "LayoutModel",
      "state": {}
     },
     "5220b1c762374261a4f571a0ed844337": {
      "model_module": "@jupyter-widgets/controls",
      "model_module_version": "1.5.0",
      "model_name": "AccordionModel",
      "state": {
       "_titles": {
        "0": "Thermodynamic State",
        "1": "Flat Plate"
       },
       "children": [
        "IPY_MODEL_6010560a452a4c9fa0ca1078672b6215",
        "IPY_MODEL_b107f4a207734a76a5ddf1ec6adfb3f5"
       ],
       "layout": "IPY_MODEL_bc5227a3b4fe4db2ba67d0afe70037a8"
      }
     },
     "5221b913c6864de689dba7167cf327ad": {
      "model_module": "@jupyter-widgets/controls",
      "model_module_version": "1.5.0",
      "model_name": "DescriptionStyleModel",
      "state": {
       "description_width": ""
      }
     },
     "527eb077d9e34d9b90d1e857e3e4cfa0": {
      "model_module": "@jupyter-widgets/base",
      "model_module_version": "1.2.0",
      "model_name": "LayoutModel",
      "state": {
       "display": "flex",
       "width": "100%"
      }
     },
     "52afd44f969647a9ba8877a6504ff5e6": {
      "model_module": "@jupyter-widgets/output",
      "model_module_version": "1.0.0",
      "model_name": "OutputModel",
      "state": {
       "layout": "IPY_MODEL_189f5080637449b199d51af63b20cf79",
       "outputs": [
        {
         "ename": "AttributeError",
         "evalue": "'function' object has no attribute 'clear_output'",
         "output_type": "error",
         "traceback": [
          "\u001b[0;31m\u001b[0m",
          "\u001b[0;31mAttributeError\u001b[0mTraceback (most recent call last)",
          "\u001b[0;32m<ipython-input-21-ddb1c165f750>\u001b[0m in \u001b[0;36mobserver\u001b[0;34m(change)\u001b[0m\n\u001b[1;32m     31\u001b[0m         \u001b[0;31m#widgets.show_inline_matplotlib_plots()\u001b[0m\u001b[0;34m\u001b[0m\u001b[0;34m\u001b[0m\u001b[0;34m\u001b[0m\u001b[0m\n\u001b[1;32m     32\u001b[0m         \u001b[0;32mwith\u001b[0m \u001b[0mout\u001b[0m\u001b[0;34m:\u001b[0m\u001b[0;34m\u001b[0m\u001b[0;34m\u001b[0m\u001b[0m\n\u001b[0;32m---> 33\u001b[0;31m             \u001b[0mdisplay\u001b[0m\u001b[0;34m.\u001b[0m\u001b[0mclear_output\u001b[0m\u001b[0;34m(\u001b[0m\u001b[0mwait\u001b[0m\u001b[0;34m=\u001b[0m\u001b[0;32mTrue\u001b[0m\u001b[0;34m)\u001b[0m\u001b[0;34m\u001b[0m\u001b[0;34m\u001b[0m\u001b[0m\n\u001b[0m\u001b[1;32m     34\u001b[0m             \u001b[0mf\u001b[0m\u001b[0;34m(\u001b[0m\u001b[0;34m**\u001b[0m\u001b[0mkwargs\u001b[0m\u001b[0;34m)\u001b[0m\u001b[0;34m\u001b[0m\u001b[0;34m\u001b[0m\u001b[0m\n\u001b[1;32m     35\u001b[0m             \u001b[0;31m#widgets.show_inline_matplotlib_plots()\u001b[0m\u001b[0;34m\u001b[0m\u001b[0;34m\u001b[0m\u001b[0;34m\u001b[0m\u001b[0m\n",
          "\u001b[0;31mAttributeError\u001b[0m: 'function' object has no attribute 'clear_output'"
         ]
        }
       ]
      }
     },
     "52f94042886647d98720be5685836625": {
      "model_module": "@jupyter-widgets/base",
      "model_module_version": "1.2.0",
      "model_name": "LayoutModel",
      "state": {}
     },
     "5336f431e63b461e801f52265b4bacb2": {
      "model_module": "@jupyter-widgets/base",
      "model_module_version": "1.2.0",
      "model_name": "LayoutModel",
      "state": {
       "flex": "10 1 auto",
       "width": "auto"
      }
     },
     "5379a4737d2f4b5c8bff45094988b928": {
      "model_module": "@jupyter-widgets/base",
      "model_module_version": "1.2.0",
      "model_name": "LayoutModel",
      "state": {
       "display": "flex",
       "width": "100%"
      }
     },
     "5386f14d4a4e4f619036d003f271c0f5": {
      "model_module": "@jupyter-widgets/controls",
      "model_module_version": "1.5.0",
      "model_name": "HBoxModel",
      "state": {
       "children": [
        "IPY_MODEL_cf90e1231f9a4b47b2eb6059b322e63c",
        "IPY_MODEL_7935d611ff0c4713ba45fae4ddfde4c3"
       ],
       "layout": "IPY_MODEL_eb7476c896974f5cac6c0d4ed03eda4e"
      }
     },
     "53b55d40a9dd4fc6bef0b08a80b92a0a": {
      "model_module": "@jupyter-widgets/controls",
      "model_module_version": "1.5.0",
      "model_name": "BoundedFloatTextModel",
      "state": {
       "layout": "IPY_MODEL_b168d8031ba7465396d1d492533eb46f",
       "max": 10,
       "min": 0.001,
       "step": 0.001,
       "style": "IPY_MODEL_20c258c5ac9b4c3795ca71c201d14e7a",
       "value": 0.1
      }
     },
     "53ffe7aef8cd4decaf336b2256711a63": {
      "model_module": "@jupyter-widgets/controls",
      "model_module_version": "1.5.0",
      "model_name": "LabelModel",
      "state": {
       "layout": "IPY_MODEL_4433f48bccde43ddbf1613c1e8a50d1f",
       "style": "IPY_MODEL_c1afa932caee405bb2a151acb9b28860",
       "value": "Pressure in Pa:"
      }
     },
     "54137fa0705a4b2a8fc2da13ff722116": {
      "model_module": "@jupyter-widgets/base",
      "model_module_version": "1.2.0",
      "model_name": "LayoutModel",
      "state": {}
     },
     "544b3e779a364bf09ad2654519fe2d4a": {
      "model_module": "@jupyter-widgets/base",
      "model_module_version": "1.2.0",
      "model_name": "LayoutModel",
      "state": {
       "flex": "1 1 auto",
       "min_height": "300px",
       "min_width": "400px",
       "width": "auto"
      }
     },
     "54528df0ce9c4d2e9184e9570f62b41f": {
      "model_module": "@jupyter-widgets/controls",
      "model_module_version": "1.5.0",
      "model_name": "DescriptionStyleModel",
      "state": {
       "description_width": ""
      }
     },
     "5460f9ce17fe44f593e713c2810cad0c": {
      "model_module": "@jupyter-widgets/controls",
      "model_module_version": "1.5.0",
      "model_name": "BoundedFloatTextModel",
      "state": {
       "layout": "IPY_MODEL_c3850ced0f2249769d089c1ddc66ae60",
       "max": 15000000,
       "min": 1,
       "step": 100000,
       "style": "IPY_MODEL_8bb8af4d57414af5a92b684d1f43d08c",
       "value": 101325
      }
     },
     "5486c581fae0485b84edad3df993080d": {
      "model_module": "@jupyter-widgets/controls",
      "model_module_version": "1.5.0",
      "model_name": "LabelModel",
      "state": {
       "layout": "IPY_MODEL_6606b662b4f94a96920dc3a53e26a824",
       "style": "IPY_MODEL_f75fed7c35c54b3c9d3dd63712eac016",
       "value": "Temperature in °C:"
      }
     },
     "548c16e3d53240e9a16f2e0e8d6732bf": {
      "model_module": "@jupyter-widgets/controls",
      "model_module_version": "1.5.0",
      "model_name": "BoundedFloatTextModel",
      "state": {
       "layout": "IPY_MODEL_ff48d085f7114897b07b99395de3c10f",
       "max": 200,
       "min": 0.001,
       "step": 0.001,
       "style": "IPY_MODEL_81abc4e6f0054b33a7c8eabae66127a8",
       "value": 20
      }
     },
     "5490502675264de1b71708e3663658d6": {
      "model_module": "@jupyter-widgets/controls",
      "model_module_version": "1.5.0",
      "model_name": "LabelModel",
      "state": {
       "layout": "IPY_MODEL_66d58940ac4f43a58ab7ba631bbc613b",
       "style": "IPY_MODEL_2b3364cc17d149c98cc44a68f0e9dc4d",
       "value": "Gas / Specie Mixture:"
      }
     },
     "549418a944dd45c285e2340798024014": {
      "model_module": "@jupyter-widgets/base",
      "model_module_version": "1.2.0",
      "model_name": "LayoutModel",
      "state": {
       "display": "flex",
       "width": "100%"
      }
     },
     "54a0ef7bf95044fbb1b2a539df037038": {
      "model_module": "@jupyter-widgets/base",
      "model_module_version": "1.2.0",
      "model_name": "LayoutModel",
      "state": {}
     },
     "54ab30d667ff436e9d31e3ae9cbf457c": {
      "model_module": "@jupyter-widgets/controls",
      "model_module_version": "1.5.0",
      "model_name": "DescriptionStyleModel",
      "state": {
       "description_width": ""
      }
     },
     "54bdbe01bb874d748d0978681a5b134e": {
      "model_module": "@jupyter-widgets/controls",
      "model_module_version": "1.5.0",
      "model_name": "VBoxModel",
      "state": {
       "children": [
        "IPY_MODEL_bc30d5fdc2b64c9d960f75b8aec37055",
        "IPY_MODEL_8684d9cdd6ec4f6c81db1c5e77ddf560",
        "IPY_MODEL_b4aaff76941c47e793230a04957b8235"
       ],
       "layout": "IPY_MODEL_97263dcea2d24d98975272bea0abfc2c"
      }
     },
     "54ebb5cdc6f849048cf6ad86ffd5ff85": {
      "model_module": "@jupyter-widgets/controls",
      "model_module_version": "1.5.0",
      "model_name": "HBoxModel",
      "state": {
       "children": [
        "IPY_MODEL_f4ab5149a96b4d608db1524cf7c25628",
        "IPY_MODEL_4cbc245f17644fc1b7ba79be7f4493ac",
        "IPY_MODEL_2a87b149a7ce4a5f86656166cc09ef8f"
       ],
       "layout": "IPY_MODEL_29bd00599c3d4d678ec1a8ff13b68e2c"
      }
     },
     "54f8213556534c3f9dfb18fd19193226": {
      "model_module": "@jupyter-widgets/base",
      "model_module_version": "1.2.0",
      "model_name": "LayoutModel",
      "state": {
       "flex": "1 1 auto",
       "width": "auto"
      }
     },
     "554bd3acd53f44e88ab842ce7e8634b6": {
      "model_module": "@jupyter-widgets/controls",
      "model_module_version": "1.5.0",
      "model_name": "LabelModel",
      "state": {
       "layout": "IPY_MODEL_0a94414280b34f6191545c9a27428c0b",
       "style": "IPY_MODEL_54ab30d667ff436e9d31e3ae9cbf457c",
       "value": "Temperature in °C:"
      }
     },
     "555593095246447d946279746211081d": {
      "model_module": "@jupyter-widgets/controls",
      "model_module_version": "1.5.0",
      "model_name": "BoundedFloatTextModel",
      "state": {
       "layout": "IPY_MODEL_51c98d8fc9ee4af880d4cd27009f80b8",
       "max": 200,
       "min": 0.001,
       "step": 0.001,
       "style": "IPY_MODEL_5a1f8bcc75bd40e5abefea72faf66b43",
       "value": 20
      }
     },
     "5558da4c0283428bb707091ba07c336b": {
      "model_module": "@jupyter-widgets/base",
      "model_module_version": "1.2.0",
      "model_name": "LayoutModel",
      "state": {}
     },
     "5575bd8af6794cf78de64fcb3adea4df": {
      "model_module": "@jupyter-widgets/controls",
      "model_module_version": "1.5.0",
      "model_name": "DescriptionStyleModel",
      "state": {
       "description_width": ""
      }
     },
     "558646b57b0e40d8bbe4f35b55e3c622": {
      "model_module": "@jupyter-widgets/controls",
      "model_module_version": "1.5.0",
      "model_name": "SliderStyleModel",
      "state": {
       "description_width": ""
      }
     },
     "55b7880d159542248a64fdc1fd3e4411": {
      "model_module": "@jupyter-widgets/controls",
      "model_module_version": "1.5.0",
      "model_name": "DescriptionStyleModel",
      "state": {
       "description_width": ""
      }
     },
     "55f65833fe0a4b8dbd081e6ab61ec009": {
      "model_module": "@jupyter-widgets/base",
      "model_module_version": "1.2.0",
      "model_name": "LayoutModel",
      "state": {}
     },
     "562d7afb06cc49408050e704715b3ec7": {
      "model_module": "@jupyter-widgets/controls",
      "model_module_version": "1.5.0",
      "model_name": "SliderStyleModel",
      "state": {
       "description_width": ""
      }
     },
     "5642dd466d91446b88321eef1c879ba3": {
      "model_module": "@jupyter-widgets/base",
      "model_module_version": "1.2.0",
      "model_name": "LayoutModel",
      "state": {
       "display": "flex",
       "width": "100%"
      }
     },
     "56a0278b268148e18267565c59f9b721": {
      "model_module": "@jupyter-widgets/base",
      "model_module_version": "1.2.0",
      "model_name": "LayoutModel",
      "state": {
       "flex": "1 1 auto",
       "width": "auto"
      }
     },
     "56a941c4d7a54eff894ba12673a08079": {
      "model_module": "@jupyter-widgets/base",
      "model_module_version": "1.2.0",
      "model_name": "LayoutModel",
      "state": {
       "flex": "10 1 auto",
       "width": "auto"
      }
     },
     "56aaa381589b41e4b534739fa1513c22": {
      "model_module": "@jupyter-widgets/controls",
      "model_module_version": "1.5.0",
      "model_name": "DescriptionStyleModel",
      "state": {
       "description_width": ""
      }
     },
     "56ad552e42a7490ba5073ee27476f9e0": {
      "model_module": "@jupyter-widgets/base",
      "model_module_version": "1.2.0",
      "model_name": "LayoutModel",
      "state": {
       "flex": "1 1 auto",
       "width": "auto"
      }
     },
     "56b710775d294c479fec1ac0215caa09": {
      "model_module": "@jupyter-widgets/controls",
      "model_module_version": "1.5.0",
      "model_name": "DescriptionStyleModel",
      "state": {
       "description_width": ""
      }
     },
     "56c200a30f3d43a295d0981f5b5718ff": {
      "model_module": "@jupyter-widgets/controls",
      "model_module_version": "1.5.0",
      "model_name": "FloatSliderModel",
      "state": {
       "layout": "IPY_MODEL_16982d43724d4476a3aa432a7fd605f6",
       "max": 10,
       "min": 0.001,
       "readout": false,
       "step": 0.001,
       "style": "IPY_MODEL_95d5578fdf474bde9ca12be2a628c81d",
       "value": 0.1
      }
     },
     "56cc158e5c2b43bb96ba75437e8f7409": {
      "model_module": "@jupyter-widgets/base",
      "model_module_version": "1.2.0",
      "model_name": "LayoutModel",
      "state": {}
     },
     "56ce362c0b3c4a3c840ad8199df41491": {
      "model_module": "@jupyter-widgets/base",
      "model_module_version": "1.2.0",
      "model_name": "LayoutModel",
      "state": {}
     },
     "56ddb0af5fcc46feabd97d3611ac36a5": {
      "model_module": "@jupyter-widgets/base",
      "model_module_version": "1.2.0",
      "model_name": "LayoutModel",
      "state": {
       "display": "flex",
       "width": "100%"
      }
     },
     "5728509cd7924ee6acc6f562ec73587f": {
      "model_module": "@jupyter-widgets/base",
      "model_module_version": "1.2.0",
      "model_name": "LayoutModel",
      "state": {}
     },
     "572dd9719ebb494a914e360e77f90165": {
      "model_module": "@jupyter-widgets/base",
      "model_module_version": "1.2.0",
      "model_name": "LayoutModel",
      "state": {}
     },
     "57b92dacdc9b495fbef86f3a5e775057": {
      "model_module": "@jupyter-widgets/controls",
      "model_module_version": "1.5.0",
      "model_name": "VBoxModel",
      "state": {
       "children": [
        "IPY_MODEL_923a2903ea1e406992d5c65fdacdef65",
        "IPY_MODEL_28a048c065e641e882ac4122eb2cbba3",
        "IPY_MODEL_f1c6ef0706c14467a59ef9c02f46e4c7"
       ],
       "layout": "IPY_MODEL_76f33f10c0894763bae06fb99284ea29"
      }
     },
     "57e7ce43fe614707afead3b5926e0e60": {
      "model_module": "@jupyter-widgets/controls",
      "model_module_version": "1.5.0",
      "model_name": "FloatSliderModel",
      "state": {
       "layout": "IPY_MODEL_6aae58053f674d579e5ffe154241fee3",
       "max": 200,
       "min": 0.001,
       "readout": false,
       "step": 0.001,
       "style": "IPY_MODEL_c451118a64f7470fa3b2f584512cabf4",
       "value": 20
      }
     },
     "57ec5e9de1e34e8f978827ca8947ae75": {
      "model_module": "@jupyter-widgets/base",
      "model_module_version": "1.2.0",
      "model_name": "LayoutModel",
      "state": {
       "flex": "1 1 auto",
       "width": "auto"
      }
     },
     "584e35b66f7b4f55a59293b897a876de": {
      "model_module": "@jupyter-widgets/controls",
      "model_module_version": "1.5.0",
      "model_name": "SliderStyleModel",
      "state": {
       "description_width": ""
      }
     },
     "58dd73844ca9480cb136231506a8d594": {
      "model_module": "@jupyter-widgets/controls",
      "model_module_version": "1.5.0",
      "model_name": "HBoxModel",
      "state": {
       "children": [
        "IPY_MODEL_84c6548fe743429282592a0f4e254a04",
        "IPY_MODEL_a936d2c4326e4a2c8bd2a7f5eacbdbe4",
        "IPY_MODEL_970f1e6085fe45d4b66c7c019f5399b6"
       ],
       "layout": "IPY_MODEL_6d3eacdd9c3f4b8ebd7ab07e6a839c19"
      }
     },
     "58e9aed5dea34250ad82b688e8161254": {
      "model_module": "@jupyter-widgets/controls",
      "model_module_version": "1.5.0",
      "model_name": "SliderStyleModel",
      "state": {
       "description_width": ""
      }
     },
     "59259cb7cad24bc5880312581ea41d8f": {
      "model_module": "@jupyter-widgets/controls",
      "model_module_version": "1.5.0",
      "model_name": "FloatSliderModel",
      "state": {
       "layout": "IPY_MODEL_5336f431e63b461e801f52265b4bacb2",
       "max": 10,
       "min": 0.001,
       "readout": false,
       "step": 0.001,
       "style": "IPY_MODEL_fd315e008e4144eb95f318fce09a5b4e",
       "value": 0.1
      }
     },
     "59479fa69a594b37b67d3ad622ee7618": {
      "model_module": "@jupyter-widgets/controls",
      "model_module_version": "1.5.0",
      "model_name": "SliderStyleModel",
      "state": {
       "description_width": ""
      }
     },
     "594b0bacba434d339750e5cf0806671e": {
      "model_module": "@jupyter-widgets/base",
      "model_module_version": "1.2.0",
      "model_name": "LayoutModel",
      "state": {
       "display": "flex",
       "width": "100%"
      }
     },
     "599a19084ff84abd91d458e5922303d4": {
      "model_module": "@jupyter-widgets/base",
      "model_module_version": "1.2.0",
      "model_name": "LayoutModel",
      "state": {
       "display": "flex",
       "width": "100%"
      }
     },
     "59c873b477bb4ebe8d12e8b75f6b36f3": {
      "model_module": "@jupyter-widgets/controls",
      "model_module_version": "1.5.0",
      "model_name": "DropdownModel",
      "state": {
       "_options_labels": [
        "1-Butene",
        "Acetone",
        "Air",
        "Ammonia",
        "Argon",
        "Benzene",
        "CarbonDioxide",
        "CarbonMonoxide",
        "CarbonylSulfide",
        "CycloHexane",
        "CycloPropane",
        "Cyclopentane",
        "D4",
        "D5",
        "D6",
        "Deuterium",
        "Dichloroethane",
        "DiethylEther",
        "DimethylCarbonate",
        "DimethylEther",
        "Ethane",
        "Ethanol",
        "EthylBenzene",
        "Ethylene",
        "EthyleneOxide",
        "Fluorine",
        "HFE143m",
        "HeavyWater",
        "Helium",
        "Hydrogen",
        "HydrogenChloride",
        "HydrogenSulfide",
        "IsoButane",
        "IsoButene",
        "Isohexane",
        "Isopentane",
        "Krypton",
        "MD2M",
        "MD3M",
        "MD4M",
        "MDM",
        "MM",
        "Methane",
        "Methanol",
        "MethylLinoleate",
        "MethylLinolenate",
        "MethylOleate",
        "MethylPalmitate",
        "MethylStearate",
        "Neon",
        "Neopentane",
        "Nitrogen",
        "NitrousOxide",
        "Novec649",
        "OrthoDeuterium",
        "OrthoHydrogen",
        "Oxygen",
        "ParaDeuterium",
        "ParaHydrogen",
        "Propylene",
        "Propyne",
        "R11",
        "R113",
        "R114",
        "R115",
        "R116",
        "R12",
        "R123",
        "R1233zd(E)",
        "R1234yf",
        "R1234ze(E)",
        "R1234ze(Z)",
        "R124",
        "R1243zf",
        "R125",
        "R13",
        "R134a",
        "R13I1",
        "R14",
        "R141b",
        "R142b",
        "R143a",
        "R152A",
        "R161",
        "R21",
        "R218",
        "R22",
        "R227EA",
        "R23",
        "R236EA",
        "R236FA",
        "R245ca",
        "R245fa",
        "R32",
        "R365MFC",
        "R40",
        "R404A",
        "R407C",
        "R41",
        "R410A",
        "R507A",
        "RC318",
        "SES36",
        "SulfurDioxide",
        "SulfurHexafluoride",
        "Toluene",
        "Water",
        "Xenon",
        "cis-2-Butene",
        "m-Xylene",
        "n-Butane",
        "n-Decane",
        "n-Dodecane",
        "n-Heptane",
        "n-Hexane",
        "n-Nonane",
        "n-Octane",
        "n-Pentane",
        "n-Propane",
        "n-Undecane",
        "o-Xylene",
        "p-Xylene",
        "trans-2-Butene"
       ],
       "index": 2,
       "layout": "IPY_MODEL_92f7e56cb4414180acaf74b1103e52de",
       "style": "IPY_MODEL_14e9018b47994698843059d8b347a796"
      }
     },
     "59e40ffa5aba400ea8a1662f7f716210": {
      "model_module": "@jupyter-widgets/base",
      "model_module_version": "1.2.0",
      "model_name": "LayoutModel",
      "state": {
       "flex": "1 1 auto",
       "width": "auto"
      }
     },
     "5a1f8bcc75bd40e5abefea72faf66b43": {
      "model_module": "@jupyter-widgets/controls",
      "model_module_version": "1.5.0",
      "model_name": "DescriptionStyleModel",
      "state": {
       "description_width": ""
      }
     },
     "5a3ebeb633174ab7951da297f31ed8f8": {
      "model_module": "@jupyter-widgets/controls",
      "model_module_version": "1.5.0",
      "model_name": "VBoxModel",
      "state": {
       "children": [
        "IPY_MODEL_1b7a5856b66d46c8be107408fd716d75",
        "IPY_MODEL_f880a0e3a9da4444894b3168abf3827f"
       ],
       "layout": "IPY_MODEL_4b1e27e0a0354c1d882014d7dd3576a0"
      }
     },
     "5a83899f9b954c91b383e6a2e2b4a3b6": {
      "model_module": "@jupyter-widgets/controls",
      "model_module_version": "1.5.0",
      "model_name": "HBoxModel",
      "state": {
       "children": [
        "IPY_MODEL_dc2dd6db02274f35b69ed6acdc03e25f",
        "IPY_MODEL_069df7de08ed455e85a4d1a2ba38614c",
        "IPY_MODEL_2260084db2374e138bf8e58780c03d09"
       ],
       "layout": "IPY_MODEL_7aa3a35ba6cb42f0a8b7c0223f5436a3"
      }
     },
     "5a92840da654496b82c93a52225211c6": {
      "model_module": "@jupyter-widgets/base",
      "model_module_version": "1.2.0",
      "model_name": "LayoutModel",
      "state": {
       "flex": "10 1 auto",
       "width": "auto"
      }
     },
     "5ac86d7b64ae4d89885f33e54ff63bf4": {
      "model_module": "@jupyter-widgets/controls",
      "model_module_version": "1.5.0",
      "model_name": "FloatSliderModel",
      "state": {
       "layout": "IPY_MODEL_1b35a88a113a4813aefeff08e7e43420",
       "max": 55,
       "min": -30,
       "readout": false,
       "style": "IPY_MODEL_06879a1e01924ff7bbf69219a4e6e59c",
       "value": 20
      }
     },
     "5b037ceb965f402b87baeb4f1004c531": {
      "model_module": "@jupyter-widgets/base",
      "model_module_version": "1.2.0",
      "model_name": "LayoutModel",
      "state": {}
     },
     "5b8ec1bf72da4756b66106deda858981": {
      "model_module": "@jupyter-widgets/base",
      "model_module_version": "1.2.0",
      "model_name": "LayoutModel",
      "state": {
       "display": "flex",
       "flex_flow": "row"
      }
     },
     "5ba31dc0410e40c88e74b52db8c9f504": {
      "model_module": "@jupyter-widgets/controls",
      "model_module_version": "1.5.0",
      "model_name": "DescriptionStyleModel",
      "state": {
       "description_width": ""
      }
     },
     "5c6df51ed7244f22987fdf2bef74e8a8": {
      "model_module": "@jupyter-widgets/base",
      "model_module_version": "1.2.0",
      "model_name": "LayoutModel",
      "state": {
       "display": "flex",
       "width": "100%"
      }
     },
     "5c6eb6ac3d1b4cc6a5682271f40ba114": {
      "model_module": "@jupyter-widgets/base",
      "model_module_version": "1.2.0",
      "model_name": "LayoutModel",
      "state": {
       "flex": "1 1 auto",
       "width": "auto"
      }
     },
     "5c88a2e8956e4e62801ebaef124f90c1": {
      "model_module": "@jupyter-widgets/controls",
      "model_module_version": "1.5.0",
      "model_name": "BoundedFloatTextModel",
      "state": {
       "layout": "IPY_MODEL_1392bb7533d041e8a817809a2719559b",
       "max": 55,
       "min": -30,
       "step": 1,
       "style": "IPY_MODEL_89f1b86b91b845af883ce6c806ea9098",
       "value": 20
      }
     },
     "5cb60554ce1f47f3bdc4c1d26819c6f2": {
      "model_module": "@jupyter-widgets/controls",
      "model_module_version": "1.5.0",
      "model_name": "LabelModel",
      "state": {
       "layout": "IPY_MODEL_57ec5e9de1e34e8f978827ca8947ae75",
       "style": "IPY_MODEL_31d3f8bcfe51441d9c332b00c98c90cd",
       "value": "Velocity in m/s:"
      }
     },
     "5cf0209a77914b2fa3fc90f8fc5070c1": {
      "model_module": "@jupyter-widgets/controls",
      "model_module_version": "1.5.0",
      "model_name": "BoundedFloatTextModel",
      "state": {
       "layout": "IPY_MODEL_65b2e23fc6e8480db0390ecc9f5150a8",
       "max": 15000000,
       "min": 1,
       "step": 100000,
       "style": "IPY_MODEL_3cd2eb70de5945c0ad1d76d3c2e3f113",
       "value": 101325
      }
     },
     "5d4bc762f1014c3aa88d3e85dc9dbd37": {
      "model_module": "@jupyter-widgets/controls",
      "model_module_version": "1.5.0",
      "model_name": "VBoxModel",
      "state": {
       "children": [
        "IPY_MODEL_373da18ab2164b7cb62ca05e7675afcc",
        "IPY_MODEL_ccbe886f9da34fa69d3bbda46c2010dc",
        "IPY_MODEL_3b7e0e8f96d64e4e88f6b3e13e60394f"
       ],
       "layout": "IPY_MODEL_2c857cf36663489a8aebb094f44717de"
      }
     },
     "5d51904341244a0c93d3cd3300623d22": {
      "model_module": "@jupyter-widgets/controls",
      "model_module_version": "1.5.0",
      "model_name": "FloatSliderModel",
      "state": {
       "layout": "IPY_MODEL_ecd5d673fb4f448c938ba8c97fdea535",
       "max": 15000000,
       "min": 1,
       "readout": false,
       "step": 100000,
       "style": "IPY_MODEL_a9558b71ce2b470f908c8e14de61622a",
       "value": 101325
      }
     },
     "5df8dc4827344a23b3c850f47cadced4": {
      "model_module": "@jupyter-widgets/controls",
      "model_module_version": "1.5.0",
      "model_name": "HBoxModel",
      "state": {
       "children": [
        "IPY_MODEL_6a5132f3efe941ba8af4b97e61ed814a",
        "IPY_MODEL_661cd140da164ddaa038959c63009cc1",
        "IPY_MODEL_f41855d608a940c89cbbc04bf6d53176"
       ],
       "layout": "IPY_MODEL_d437a8ecbb04464bac73b72a283778e1"
      }
     },
     "5e4cc22d3b53439086f98c699ecd63b6": {
      "model_module": "@jupyter-widgets/controls",
      "model_module_version": "1.5.0",
      "model_name": "BoundedFloatTextModel",
      "state": {
       "layout": "IPY_MODEL_fe0507926fd04f9a98995e8563c223dc",
       "max": 15000000,
       "min": 1,
       "step": 100000,
       "style": "IPY_MODEL_7ae3ca86e2154eaca1a837135d4ce1cd",
       "value": 101325
      }
     },
     "5e9d1ec2b08642fea14aebb1056a1adb": {
      "model_module": "@jupyter-widgets/base",
      "model_module_version": "1.2.0",
      "model_name": "LayoutModel",
      "state": {
       "flex": "1 1 auto",
       "width": "auto"
      }
     },
     "5eade0d060b44eb68d07139b2ea7d891": {
      "model_module": "@jupyter-widgets/controls",
      "model_module_version": "1.5.0",
      "model_name": "DescriptionStyleModel",
      "state": {
       "description_width": ""
      }
     },
     "5f630a762b0a41069cb2569ae1304f0d": {
      "model_module": "@jupyter-widgets/controls",
      "model_module_version": "1.5.0",
      "model_name": "FloatSliderModel",
      "state": {
       "layout": "IPY_MODEL_3f86aedac1554d2690ff592ee5fb0f2d",
       "max": 15000000,
       "min": 1,
       "readout": false,
       "step": 100000,
       "style": "IPY_MODEL_e293c5c9077646e5ad04d9b3e4554019",
       "value": 101325
      }
     },
     "5f637550903d40b9bca7aeab173c0cc1": {
      "model_module": "@jupyter-widgets/base",
      "model_module_version": "1.2.0",
      "model_name": "LayoutModel",
      "state": {
       "display": "flex",
       "flex_flow": "row"
      }
     },
     "5f6804e0333b4679b64fe3559789e8e8": {
      "model_module": "@jupyter-widgets/controls",
      "model_module_version": "1.5.0",
      "model_name": "SliderStyleModel",
      "state": {
       "description_width": ""
      }
     },
     "5fafc5a356744aad92280fde740ef630": {
      "model_module": "@jupyter-widgets/controls",
      "model_module_version": "1.5.0",
      "model_name": "LabelModel",
      "state": {
       "layout": "IPY_MODEL_76c09ed8659547cfa3d139178a3631c9",
       "style": "IPY_MODEL_6b81b953b19a44379dbb8bc869416149",
       "value": "Gas / Specie Mixture:"
      }
     },
     "5fbe6dc9f3ff47c8aac2c25ae1c76459": {
      "model_module": "@jupyter-widgets/base",
      "model_module_version": "1.2.0",
      "model_name": "LayoutModel",
      "state": {
       "display": "flex",
       "flex_flow": "row"
      }
     },
     "5ff74f1ac31d408e9d57634493ba6253": {
      "model_module": "@jupyter-widgets/base",
      "model_module_version": "1.2.0",
      "model_name": "LayoutModel",
      "state": {
       "flex": "1 1 auto",
       "width": "auto"
      }
     },
     "6010560a452a4c9fa0ca1078672b6215": {
      "model_module": "@jupyter-widgets/controls",
      "model_module_version": "1.5.0",
      "model_name": "VBoxModel",
      "state": {
       "children": [
        "IPY_MODEL_691c455cad254168b7927bb4b509b2ea",
        "IPY_MODEL_d797914f57ff4d148fe206264023bc90",
        "IPY_MODEL_061d5b5700e444028576a989d59a84ff"
       ],
       "layout": "IPY_MODEL_4459602346bb44d5ab5d8cd39f74ba8e"
      }
     },
     "603cc29d06ef47c4aee6ad56c58e6a8c": {
      "model_module": "@jupyter-widgets/base",
      "model_module_version": "1.2.0",
      "model_name": "LayoutModel",
      "state": {
       "display": "flex",
       "flex_flow": "row"
      }
     },
     "603d7982f6d945fc9389b5fd6f7d93c3": {
      "model_module": "@jupyter-widgets/base",
      "model_module_version": "1.2.0",
      "model_name": "LayoutModel",
      "state": {
       "flex": "1 1 auto",
       "width": "auto"
      }
     },
     "60dc67a10f934c68a6493c2bfecdccb8": {
      "model_module": "@jupyter-widgets/base",
      "model_module_version": "1.2.0",
      "model_name": "LayoutModel",
      "state": {}
     },
     "6106d3c8db114bd5975d5c6c97f28c89": {
      "model_module": "@jupyter-widgets/base",
      "model_module_version": "1.2.0",
      "model_name": "LayoutModel",
      "state": {}
     },
     "6109fb9ab642403a961337f996cb1b86": {
      "model_module": "@jupyter-widgets/base",
      "model_module_version": "1.2.0",
      "model_name": "LayoutModel",
      "state": {
       "flex": "10 1 auto",
       "width": "auto"
      }
     },
     "614d1d8bf6674656a3019b3a4d12e50d": {
      "model_module": "@jupyter-widgets/base",
      "model_module_version": "1.2.0",
      "model_name": "LayoutModel",
      "state": {}
     },
     "615375a2c540475986b76f69f289f9b7": {
      "model_module": "@jupyter-widgets/base",
      "model_module_version": "1.2.0",
      "model_name": "LayoutModel",
      "state": {
       "display": "flex",
       "width": "100%"
      }
     },
     "61c9ed7def794fc6be7fed3f59c303f5": {
      "model_module": "@jupyter-widgets/base",
      "model_module_version": "1.2.0",
      "model_name": "LayoutModel",
      "state": {
       "display": "flex",
       "flex_flow": "row"
      }
     },
     "6227ea764e3a415ebb9181d3b509ac5e": {
      "model_module": "@jupyter-widgets/base",
      "model_module_version": "1.2.0",
      "model_name": "LayoutModel",
      "state": {}
     },
     "62709d64708841a8b38a391091a3fb9b": {
      "model_module": "@jupyter-widgets/controls",
      "model_module_version": "1.5.0",
      "model_name": "LabelModel",
      "state": {
       "layout": "IPY_MODEL_8df67fcd0a0b453289d72c15309744d4",
       "style": "IPY_MODEL_ce142ecb8d984659ae6702ce475f65ea",
       "value": "Platelength in m"
      }
     },
     "627f7b3f5fe44e138f332adbd3808cb9": {
      "model_module": "@jupyter-widgets/base",
      "model_module_version": "1.2.0",
      "model_name": "LayoutModel",
      "state": {}
     },
     "6288c5c6dafc4745b5b6a06a298f5c30": {
      "model_module": "@jupyter-widgets/base",
      "model_module_version": "1.2.0",
      "model_name": "LayoutModel",
      "state": {
       "display": "flex",
       "width": "100%"
      }
     },
     "628fcfe98c66454886835e86f810f228": {
      "model_module": "@jupyter-widgets/base",
      "model_module_version": "1.2.0",
      "model_name": "LayoutModel",
      "state": {
       "flex": "1 1 auto",
       "width": "auto"
      }
     },
     "62cb8a1c086d440fb5b761a9e58ed729": {
      "model_module": "@jupyter-widgets/base",
      "model_module_version": "1.2.0",
      "model_name": "LayoutModel",
      "state": {}
     },
     "62ff006746c944c69507e26d58f0e8fe": {
      "model_module": "@jupyter-widgets/controls",
      "model_module_version": "1.5.0",
      "model_name": "DescriptionStyleModel",
      "state": {
       "description_width": ""
      }
     },
     "6311fda069a9403ab3858bbc1de58d77": {
      "model_module": "@jupyter-widgets/controls",
      "model_module_version": "1.5.0",
      "model_name": "SliderStyleModel",
      "state": {
       "description_width": ""
      }
     },
     "632c49bf53a74873a9893640db792dc2": {
      "model_module": "@jupyter-widgets/base",
      "model_module_version": "1.2.0",
      "model_name": "LayoutModel",
      "state": {
       "display": "flex",
       "width": "100%"
      }
     },
     "6339fcb01a0c4ee18580809270a6d8c4": {
      "model_module": "@jupyter-widgets/base",
      "model_module_version": "1.2.0",
      "model_name": "LayoutModel",
      "state": {
       "flex": "1 1 auto",
       "width": "auto"
      }
     },
     "634412e8d17f49cf9bdddd6c466085ee": {
      "model_module": "@jupyter-widgets/controls",
      "model_module_version": "1.5.0",
      "model_name": "SliderStyleModel",
      "state": {
       "description_width": ""
      }
     },
     "6352dd06805643df9bdbcba4107f42a3": {
      "model_module": "@jupyter-widgets/controls",
      "model_module_version": "1.5.0",
      "model_name": "HBoxModel",
      "state": {
       "children": [
        "IPY_MODEL_f2d2373c11fb49c5aa85a3ee258684cb",
        "IPY_MODEL_20427a6bc5ff4433bf436e6b8ef31f4e",
        "IPY_MODEL_28306bf8fade441ca66fad7771746bac"
       ],
       "layout": "IPY_MODEL_438779b9f3d242ac85e67204fbb696c1"
      }
     },
     "637e49c382da4eef9ba4801ab2807415": {
      "model_module": "@jupyter-widgets/output",
      "model_module_version": "1.0.0",
      "model_name": "OutputModel",
      "state": {
       "layout": "IPY_MODEL_2d1326c0b394417ea198522178773c02"
      }
     },
     "63b5056a43434609a782f76f99dfa222": {
      "model_module": "@jupyter-widgets/controls",
      "model_module_version": "1.5.0",
      "model_name": "HBoxModel",
      "state": {
       "children": [
        "IPY_MODEL_cb5ce64d64574279a595e4123a7db957",
        "IPY_MODEL_38c86e5c29f04a748c9db5755f3e5a1a",
        "IPY_MODEL_fa5c1779ee4f414dbef20e131f758f1c"
       ],
       "layout": "IPY_MODEL_5102c9f6d40449179d26113ecd5e0b59"
      }
     },
     "63eabcd1c1d24313896675ff817a543b": {
      "model_module": "@jupyter-widgets/controls",
      "model_module_version": "1.5.0",
      "model_name": "DescriptionStyleModel",
      "state": {
       "description_width": ""
      }
     },
     "640ee404f49b416fa68a975902e3e698": {
      "model_module": "@jupyter-widgets/controls",
      "model_module_version": "1.5.0",
      "model_name": "DescriptionStyleModel",
      "state": {
       "description_width": ""
      }
     },
     "6417243b53a54aefa0e7655a338a10b2": {
      "model_module": "@jupyter-widgets/controls",
      "model_module_version": "1.5.0",
      "model_name": "SliderStyleModel",
      "state": {
       "description_width": ""
      }
     },
     "644e44d3b66d4428ae68f4aa6f506ef2": {
      "model_module": "@jupyter-widgets/base",
      "model_module_version": "1.2.0",
      "model_name": "LayoutModel",
      "state": {
       "display": "flex",
       "width": "100%"
      }
     },
     "6450d49dd9c544af9a046a83d3844857": {
      "model_module": "@jupyter-widgets/controls",
      "model_module_version": "1.5.0",
      "model_name": "VBoxModel",
      "state": {
       "children": [
        "IPY_MODEL_f37738d71c7842eba862058a7314a6a6",
        "IPY_MODEL_fe2b34c3e45e4ff9992402fbe7561e1c"
       ],
       "layout": "IPY_MODEL_2b094860a5dc4ff7b8dcf7908dee127a"
      }
     },
     "647b70be758241a481e9d92c92c24040": {
      "model_module": "@jupyter-widgets/controls",
      "model_module_version": "1.5.0",
      "model_name": "SliderStyleModel",
      "state": {
       "description_width": ""
      }
     },
     "64801f90d27e44bb8cc8b927e29ae6e1": {
      "model_module": "@jupyter-widgets/controls",
      "model_module_version": "1.5.0",
      "model_name": "HBoxModel",
      "state": {
       "children": [
        "IPY_MODEL_4ea6ea53dced4488b6a244808edc8e23",
        "IPY_MODEL_a335652aee8645c9bbd7b33707e696bd",
        "IPY_MODEL_f83bdfb98e0f4d2e913f78687c05115d"
       ],
       "layout": "IPY_MODEL_87f3403c60824972a7026e81b41eab8a"
      }
     },
     "64857713826c4dd88145cc0e6899e851": {
      "model_module": "@jupyter-widgets/controls",
      "model_module_version": "1.5.0",
      "model_name": "DescriptionStyleModel",
      "state": {
       "description_width": ""
      }
     },
     "64cea93041ee4e67bb2a884edbe644b2": {
      "model_module": "@jupyter-widgets/base",
      "model_module_version": "1.2.0",
      "model_name": "LayoutModel",
      "state": {
       "display": "flex",
       "width": "100%"
      }
     },
     "6562caa601864a90a12bdc3471bc4c99": {
      "model_module": "@jupyter-widgets/base",
      "model_module_version": "1.2.0",
      "model_name": "LayoutModel",
      "state": {
       "flex": "1 1 auto",
       "width": "auto"
      }
     },
     "657ec04d21ee4bad8b6bc5da277fbe8b": {
      "model_module": "@jupyter-widgets/base",
      "model_module_version": "1.2.0",
      "model_name": "LayoutModel",
      "state": {
       "display": "flex",
       "flex_flow": "row"
      }
     },
     "65a47c2d95df46ce9e5deaada3c38a0d": {
      "model_module": "@jupyter-widgets/controls",
      "model_module_version": "1.5.0",
      "model_name": "DescriptionStyleModel",
      "state": {
       "description_width": ""
      }
     },
     "65b2e23fc6e8480db0390ecc9f5150a8": {
      "model_module": "@jupyter-widgets/base",
      "model_module_version": "1.2.0",
      "model_name": "LayoutModel",
      "state": {
       "flex": "1 1 auto",
       "width": "auto"
      }
     },
     "65b5b1c4e57b4c6f83fe88c7fd9e7c46": {
      "model_module": "@jupyter-widgets/controls",
      "model_module_version": "1.5.0",
      "model_name": "DescriptionStyleModel",
      "state": {
       "description_width": ""
      }
     },
     "6606b662b4f94a96920dc3a53e26a824": {
      "model_module": "@jupyter-widgets/base",
      "model_module_version": "1.2.0",
      "model_name": "LayoutModel",
      "state": {
       "flex": "1 1 auto",
       "width": "auto"
      }
     },
     "661cd140da164ddaa038959c63009cc1": {
      "model_module": "@jupyter-widgets/controls",
      "model_module_version": "1.5.0",
      "model_name": "FloatSliderModel",
      "state": {
       "layout": "IPY_MODEL_c3aeb9f1d0ce4f3cb8337a5b4d9fe0fe",
       "max": 10,
       "min": 0.001,
       "readout": false,
       "step": 0.001,
       "style": "IPY_MODEL_111d52f94c7a44f9b30ccf120e8c232f",
       "value": 0.1
      }
     },
     "666cacdbc18042d6b4495bf1f97ad2fa": {
      "model_module": "@jupyter-widgets/controls",
      "model_module_version": "1.5.0",
      "model_name": "VBoxModel",
      "state": {
       "children": [
        "IPY_MODEL_358d29971ef04642997016b589c2f4ee",
        "IPY_MODEL_c26b543de61c4975ab8b23c2d63cab1c",
        "IPY_MODEL_50a9ebfebd184dfdb07f5f20a3a75648"
       ],
       "layout": "IPY_MODEL_55f65833fe0a4b8dbd081e6ab61ec009"
      }
     },
     "66751a9b29d644229b6fe1ef211b7a37": {
      "model_module": "@jupyter-widgets/base",
      "model_module_version": "1.2.0",
      "model_name": "LayoutModel",
      "state": {
       "flex": "1 1 auto",
       "width": "auto"
      }
     },
     "668c7e4a916e42159c24f7a374aa94d4": {
      "model_module": "@jupyter-widgets/base",
      "model_module_version": "1.2.0",
      "model_name": "LayoutModel",
      "state": {
       "flex": "1 1 auto",
       "width": "auto"
      }
     },
     "668eaf5950bf430fa8bc974803880dbb": {
      "model_module": "@jupyter-widgets/base",
      "model_module_version": "1.2.0",
      "model_name": "LayoutModel",
      "state": {}
     },
     "669459072c1047f8902c81172224e427": {
      "model_module": "@jupyter-widgets/base",
      "model_module_version": "1.2.0",
      "model_name": "LayoutModel",
      "state": {
       "display": "flex",
       "width": "100%"
      }
     },
     "66b959413c8a412abcb80147d78abf04": {
      "model_module": "@jupyter-widgets/controls",
      "model_module_version": "1.5.0",
      "model_name": "SliderStyleModel",
      "state": {
       "description_width": ""
      }
     },
     "66d58940ac4f43a58ab7ba631bbc613b": {
      "model_module": "@jupyter-widgets/base",
      "model_module_version": "1.2.0",
      "model_name": "LayoutModel",
      "state": {}
     },
     "672bf62934404117a258a966751ca554": {
      "model_module": "@jupyter-widgets/controls",
      "model_module_version": "1.5.0",
      "model_name": "DescriptionStyleModel",
      "state": {
       "description_width": ""
      }
     },
     "674abd1c8b294555ab9cb62dd860ff36": {
      "model_module": "@jupyter-widgets/controls",
      "model_module_version": "1.5.0",
      "model_name": "DescriptionStyleModel",
      "state": {
       "description_width": ""
      }
     },
     "6776a3dcdd4c45a58c5496fe32c3408c": {
      "model_module": "@jupyter-widgets/controls",
      "model_module_version": "1.5.0",
      "model_name": "BoundedFloatTextModel",
      "state": {
       "layout": "IPY_MODEL_9cac685d5870421e8904e7de3368293b",
       "max": 55,
       "min": -30,
       "step": 1,
       "style": "IPY_MODEL_54528df0ce9c4d2e9184e9570f62b41f",
       "value": 20
      }
     },
     "67b66c13a87646df9fd4491226503d7c": {
      "model_module": "@jupyter-widgets/controls",
      "model_module_version": "1.5.0",
      "model_name": "LabelModel",
      "state": {
       "layout": "IPY_MODEL_bad77b38c6a14ad89fda28c1beecb46a",
       "style": "IPY_MODEL_84810940dba143e0859751b91e1d782b",
       "value": "Velocity in m/s:"
      }
     },
     "67c64a19de0a40a1a1de92909b8d44c6": {
      "model_module": "@jupyter-widgets/base",
      "model_module_version": "1.2.0",
      "model_name": "LayoutModel",
      "state": {}
     },
     "67f0777ecd4a4fa1b534a4b149a49e15": {
      "model_module": "@jupyter-widgets/controls",
      "model_module_version": "1.5.0",
      "model_name": "BoundedFloatTextModel",
      "state": {
       "layout": "IPY_MODEL_9a3c93525dd545858a622f3e50cbdff2",
       "max": 55,
       "min": -30,
       "step": 1,
       "style": "IPY_MODEL_be8e9ea20c7a43e78a40b84c64b32995",
       "value": 20
      }
     },
     "67f3b7f4fa6b4ac0a3f306a36baf4db3": {
      "model_module": "@jupyter-widgets/base",
      "model_module_version": "1.2.0",
      "model_name": "LayoutModel",
      "state": {
       "display": "flex",
       "width": "100%"
      }
     },
     "67fe74a8119c42b086b887f0b583fa66": {
      "model_module": "@jupyter-widgets/base",
      "model_module_version": "1.2.0",
      "model_name": "LayoutModel",
      "state": {
       "display": "flex",
       "flex_flow": "row"
      }
     },
     "681ef448f6a64d86b5ba11193ef0994d": {
      "model_module": "@jupyter-widgets/controls",
      "model_module_version": "1.5.0",
      "model_name": "FloatSliderModel",
      "state": {
       "layout": "IPY_MODEL_7fe365ca768547d5ac8115aabe8dd0a3",
       "max": 10,
       "min": 0.001,
       "readout": false,
       "step": 0.001,
       "style": "IPY_MODEL_a15fc7ff260046568ee2a2477e41f4c0",
       "value": 0.1
      }
     },
     "682873377d7f4454918c5b2e85950523": {
      "model_module": "@jupyter-widgets/base",
      "model_module_version": "1.2.0",
      "model_name": "LayoutModel",
      "state": {
       "flex": "10 1 auto",
       "width": "auto"
      }
     },
     "6838231f902b44eb8c0f625463158b2d": {
      "model_module": "@jupyter-widgets/base",
      "model_module_version": "1.2.0",
      "model_name": "LayoutModel",
      "state": {}
     },
     "683cf8993fb34418b3ca3b337e8f28af": {
      "model_module": "@jupyter-widgets/controls",
      "model_module_version": "1.5.0",
      "model_name": "HBoxModel",
      "state": {
       "children": [
        "IPY_MODEL_f9fe3825340a40758490d5adda5c5116",
        "IPY_MODEL_5195f9486f544b1ba0c324e276b96754",
        "IPY_MODEL_a00d646ba71e4b8eb0ca443b480fc6d0"
       ],
       "layout": "IPY_MODEL_64cea93041ee4e67bb2a884edbe644b2"
      }
     },
     "687eebb8691e453a9598cd3a4b41936f": {
      "model_module": "@jupyter-widgets/base",
      "model_module_version": "1.2.0",
      "model_name": "LayoutModel",
      "state": {
       "flex": "10 1 auto",
       "width": "auto"
      }
     },
     "6884465e11404a1b9421805bda4a8a32": {
      "model_module": "@jupyter-widgets/controls",
      "model_module_version": "1.5.0",
      "model_name": "FloatSliderModel",
      "state": {
       "layout": "IPY_MODEL_e390b8a3bbb34fbe95800488129740b7",
       "max": 200,
       "min": 0.001,
       "readout": false,
       "step": 0.001,
       "style": "IPY_MODEL_4a3c107bbe5842cb90514ccf953d843e",
       "value": 20
      }
     },
     "68985da20ec446419940ae1b39096454": {
      "model_module": "@jupyter-widgets/base",
      "model_module_version": "1.2.0",
      "model_name": "LayoutModel",
      "state": {}
     },
     "68b14dc39604464ab4d0554f1c9a4828": {
      "model_module": "@jupyter-widgets/base",
      "model_module_version": "1.2.0",
      "model_name": "LayoutModel",
      "state": {
       "display": "flex",
       "flex_flow": "row"
      }
     },
     "691c455cad254168b7927bb4b509b2ea": {
      "model_module": "@jupyter-widgets/controls",
      "model_module_version": "1.5.0",
      "model_name": "HBoxModel",
      "state": {
       "children": [
        "IPY_MODEL_b8e802c2e0ce47dba0df11c90609b2c1",
        "IPY_MODEL_33d647ed25f44f94848fc5d78be255e0",
        "IPY_MODEL_a0778baacce9465193120a4eb82b3c2a"
       ],
       "layout": "IPY_MODEL_a38bbbfd27bd42e995469de6e82b44b8"
      }
     },
     "693380c877f74c15b8130c09cff40158": {
      "model_module": "@jupyter-widgets/base",
      "model_module_version": "1.2.0",
      "model_name": "LayoutModel",
      "state": {
       "flex": "1 1 auto",
       "width": "auto"
      }
     },
     "694f18b5cddb4d12963214b09cbf1631": {
      "model_module": "@jupyter-widgets/base",
      "model_module_version": "1.2.0",
      "model_name": "LayoutModel",
      "state": {
       "flex": "1 1 auto",
       "width": "auto"
      }
     },
     "696276111e0742bb8797b47efa28f7ef": {
      "model_module": "@jupyter-widgets/base",
      "model_module_version": "1.2.0",
      "model_name": "LayoutModel",
      "state": {
       "display": "flex",
       "width": "100%"
      }
     },
     "69a55585d00b44628f60d5a80c415957": {
      "model_module": "@jupyter-widgets/controls",
      "model_module_version": "1.5.0",
      "model_name": "DescriptionStyleModel",
      "state": {
       "description_width": ""
      }
     },
     "69c81d5363dc4b88b9b968c57dde4f23": {
      "model_module": "@jupyter-widgets/base",
      "model_module_version": "1.2.0",
      "model_name": "LayoutModel",
      "state": {
       "flex": "1 1 auto",
       "width": "auto"
      }
     },
     "69ef1731672d4dcfb83d48cd25ff41a6": {
      "model_module": "@jupyter-widgets/base",
      "model_module_version": "1.2.0",
      "model_name": "LayoutModel",
      "state": {
       "flex": "10 1 auto",
       "width": "auto"
      }
     },
     "6a2a1ae809fd49d68959b440d1328e87": {
      "model_module": "@jupyter-widgets/base",
      "model_module_version": "1.2.0",
      "model_name": "LayoutModel",
      "state": {
       "flex": "10 1 auto",
       "width": "auto"
      }
     },
     "6a450a29c0fe4096a48181918014c27a": {
      "model_module": "@jupyter-widgets/controls",
      "model_module_version": "1.5.0",
      "model_name": "LabelModel",
      "state": {
       "layout": "IPY_MODEL_ac64591b973640289d12846d4754f302",
       "style": "IPY_MODEL_214d50bb12f8433a81eb5dbe6612a189",
       "value": "Temperature in °C:"
      }
     },
     "6a46bd9e61854af8b3c0c8cb930bd479": {
      "model_module": "@jupyter-widgets/base",
      "model_module_version": "1.2.0",
      "model_name": "LayoutModel",
      "state": {
       "flex": "1 1 auto",
       "width": "auto"
      }
     },
     "6a5132f3efe941ba8af4b97e61ed814a": {
      "model_module": "@jupyter-widgets/controls",
      "model_module_version": "1.5.0",
      "model_name": "LabelModel",
      "state": {
       "layout": "IPY_MODEL_b9c4b8cbee1b4408930a524247e1dca4",
       "style": "IPY_MODEL_e802c348bc2d442c951b6be5170c5fb4",
       "value": "Platelength in m"
      }
     },
     "6a82cffa341241f4a42998df3e73b982": {
      "model_module": "@jupyter-widgets/base",
      "model_module_version": "1.2.0",
      "model_name": "LayoutModel",
      "state": {}
     },
     "6a8ad61214ef462194afc8b80a186664": {
      "model_module": "@jupyter-widgets/base",
      "model_module_version": "1.2.0",
      "model_name": "LayoutModel",
      "state": {
       "flex": "1 1 auto",
       "width": "auto"
      }
     },
     "6aae58053f674d579e5ffe154241fee3": {
      "model_module": "@jupyter-widgets/base",
      "model_module_version": "1.2.0",
      "model_name": "LayoutModel",
      "state": {
       "flex": "10 1 auto",
       "width": "auto"
      }
     },
     "6b0e5b20c0b64dec8b7c06ec60e02fac": {
      "model_module": "@jupyter-widgets/base",
      "model_module_version": "1.2.0",
      "model_name": "LayoutModel",
      "state": {
       "display": "flex",
       "width": "100%"
      }
     },
     "6b2a244794f64a78972f7f987d59401d": {
      "model_module": "@jupyter-widgets/controls",
      "model_module_version": "1.5.0",
      "model_name": "DescriptionStyleModel",
      "state": {
       "description_width": ""
      }
     },
     "6b419a4bb575460fb1608bd74c492a6e": {
      "model_module": "@jupyter-widgets/controls",
      "model_module_version": "1.5.0",
      "model_name": "FloatSliderModel",
      "state": {
       "layout": "IPY_MODEL_a4f44d19d9f04c9a86f332ccb3676d77",
       "max": 10,
       "min": 0.001,
       "readout": false,
       "step": 0.001,
       "style": "IPY_MODEL_a5465b0f7f064a65a02deb2daaf87345",
       "value": 0.1
      }
     },
     "6b81b953b19a44379dbb8bc869416149": {
      "model_module": "@jupyter-widgets/controls",
      "model_module_version": "1.5.0",
      "model_name": "DescriptionStyleModel",
      "state": {
       "description_width": ""
      }
     },
     "6b9bb7f22b064a44acc6dbcfa9b2403c": {
      "model_module": "@jupyter-widgets/controls",
      "model_module_version": "1.5.0",
      "model_name": "BoundedFloatTextModel",
      "state": {
       "layout": "IPY_MODEL_6dc68df44aec459f82dc4ddecf814025",
       "max": 10,
       "min": 0.001,
       "step": 0.001,
       "style": "IPY_MODEL_1da47dc3e3ca403cb7249fcdcb474d20",
       "value": 0.1
      }
     },
     "6bacd9b2009d4fbea45ea50c4f5785d4": {
      "model_module": "@jupyter-widgets/controls",
      "model_module_version": "1.5.0",
      "model_name": "DescriptionStyleModel",
      "state": {
       "description_width": ""
      }
     },
     "6bbe4d1ba46241e9be1daff8a4db6989": {
      "model_module": "@jupyter-widgets/controls",
      "model_module_version": "1.5.0",
      "model_name": "BoundedFloatTextModel",
      "state": {
       "layout": "IPY_MODEL_9ba2b9ca28ac41d4927d58c338d9841c",
       "max": 10,
       "min": 0.001,
       "step": 0.001,
       "style": "IPY_MODEL_5221b913c6864de689dba7167cf327ad",
       "value": 0.1
      }
     },
     "6bd0e88e3d68435987f339997b663d6d": {
      "model_module": "@jupyter-widgets/controls",
      "model_module_version": "1.5.0",
      "model_name": "FloatSliderModel",
      "state": {
       "layout": "IPY_MODEL_281732cc7f094e5591cc06f6d37313ce",
       "max": 15000000,
       "min": 1,
       "readout": false,
       "step": 100000,
       "style": "IPY_MODEL_187aa65b2e754a249f619bbc448a7626",
       "value": 101325
      }
     },
     "6bf393c42645485bb89a77b257efa50f": {
      "model_module": "@jupyter-widgets/controls",
      "model_module_version": "1.5.0",
      "model_name": "DescriptionStyleModel",
      "state": {
       "description_width": ""
      }
     },
     "6c0add39708f4538bd98df85bb87fce8": {
      "model_module": "@jupyter-widgets/controls",
      "model_module_version": "1.5.0",
      "model_name": "SliderStyleModel",
      "state": {
       "description_width": ""
      }
     },
     "6c434255bd5741e09b71b7e7634e77e8": {
      "model_module": "@jupyter-widgets/controls",
      "model_module_version": "1.5.0",
      "model_name": "AccordionModel",
      "state": {
       "_titles": {
        "0": "Thermodynamic State",
        "1": "Flat Plate"
       },
       "children": [
        "IPY_MODEL_7d2e78f4accf49b0a63039e7cf2fb9c7",
        "IPY_MODEL_3fbc15fe717d46eabaa6ba60e10d81a5"
       ],
       "layout": "IPY_MODEL_9ffd37a584664763985f3979244f01ca"
      }
     },
     "6c749a71285742d4a53c42baf8014ede": {
      "model_module": "@jupyter-widgets/controls",
      "model_module_version": "1.5.0",
      "model_name": "SliderStyleModel",
      "state": {
       "description_width": ""
      }
     },
     "6c8a9b5622c64aa6b7db68792388d936": {
      "model_module": "@jupyter-widgets/controls",
      "model_module_version": "1.5.0",
      "model_name": "FloatSliderModel",
      "state": {
       "layout": "IPY_MODEL_2614ead484704cbea4a4c3e4b3e51117",
       "max": 10,
       "min": 0.001,
       "readout": false,
       "step": 0.001,
       "style": "IPY_MODEL_f391b0e827684144989f156d32d69bd0",
       "value": 0.1
      }
     },
     "6cf9676a217a4f34886fc9f805ff4a72": {
      "model_module": "@jupyter-widgets/controls",
      "model_module_version": "1.5.0",
      "model_name": "HBoxModel",
      "state": {
       "children": [
        "IPY_MODEL_0fad47cfccfe45ddbce49261e29eb84a",
        "IPY_MODEL_3ec67c9a99b64611a9ee1864fb824bfa"
       ],
       "layout": "IPY_MODEL_7fb477eb36464e87a043ce3233e7bcad"
      }
     },
     "6d0bcc6bbb1d45bca408976adcc0e59c": {
      "model_module": "@jupyter-widgets/base",
      "model_module_version": "1.2.0",
      "model_name": "LayoutModel",
      "state": {}
     },
     "6d37f5766d1a4e9c88e965852bad6b4c": {
      "model_module": "@jupyter-widgets/base",
      "model_module_version": "1.2.0",
      "model_name": "LayoutModel",
      "state": {
       "flex": "1 1 auto",
       "width": "auto"
      }
     },
     "6d3eacdd9c3f4b8ebd7ab07e6a839c19": {
      "model_module": "@jupyter-widgets/base",
      "model_module_version": "1.2.0",
      "model_name": "LayoutModel",
      "state": {
       "display": "flex",
       "width": "100%"
      }
     },
     "6dafee1c9cf44c39adabdc619633bd70": {
      "model_module": "@jupyter-widgets/controls",
      "model_module_version": "1.5.0",
      "model_name": "LabelModel",
      "state": {
       "layout": "IPY_MODEL_38c61091c0ab4ee1b09ecbf734004d53",
       "style": "IPY_MODEL_14d37420a6254e2da7f52454a9ba2a9a",
       "value": "Temperature in °C:"
      }
     },
     "6dc68df44aec459f82dc4ddecf814025": {
      "model_module": "@jupyter-widgets/base",
      "model_module_version": "1.2.0",
      "model_name": "LayoutModel",
      "state": {
       "flex": "1 1 auto",
       "width": "auto"
      }
     },
     "6e456a9af4ad4d368e652e11bc44105d": {
      "model_module": "@jupyter-widgets/base",
      "model_module_version": "1.2.0",
      "model_name": "LayoutModel",
      "state": {
       "display": "flex",
       "width": "100%"
      }
     },
     "6ebb49bd3c8c4ea3a68282530772431e": {
      "model_module": "@jupyter-widgets/base",
      "model_module_version": "1.2.0",
      "model_name": "LayoutModel",
      "state": {}
     },
     "6ebc742ae23d4797bb1e952c79fbd4be": {
      "model_module": "@jupyter-widgets/base",
      "model_module_version": "1.2.0",
      "model_name": "LayoutModel",
      "state": {
       "flex": "1 1 auto",
       "min_height": "300px",
       "min_width": "400px",
       "width": "auto"
      }
     },
     "6ec4db93c66c48b5b4ab4f16063f5f17": {
      "model_module": "@jupyter-widgets/controls",
      "model_module_version": "1.5.0",
      "model_name": "LabelModel",
      "state": {
       "layout": "IPY_MODEL_29b1c89518e84836873278cb911ac7ef",
       "style": "IPY_MODEL_fd997fbd9b0b4bc7aaeae6d77a0f00f1",
       "value": "Velocity in m/s:"
      }
     },
     "6ed07276512347ed9bb0706725dd719f": {
      "model_module": "@jupyter-widgets/base",
      "model_module_version": "1.2.0",
      "model_name": "LayoutModel",
      "state": {}
     },
     "6f28628020c648d6ad186e0f939648c4": {
      "model_module": "@jupyter-widgets/controls",
      "model_module_version": "1.5.0",
      "model_name": "LabelModel",
      "state": {
       "layout": "IPY_MODEL_9c7ceee92e0d4ae997957336501035fb",
       "style": "IPY_MODEL_4b5a0e6dfa1a49e4847a4fde504b6708",
       "value": "Platelength in m"
      }
     },
     "6f63f15214f443c8a92a0e9f5ae1d2ed": {
      "model_module": "@jupyter-widgets/controls",
      "model_module_version": "1.5.0",
      "model_name": "DescriptionStyleModel",
      "state": {
       "description_width": ""
      }
     },
     "6f74970b0060474aa70c3c0e8cd7fbb7": {
      "model_module": "@jupyter-widgets/controls",
      "model_module_version": "1.5.0",
      "model_name": "DescriptionStyleModel",
      "state": {
       "description_width": ""
      }
     },
     "6fb360e9ce20460ab7b5b11611d45aff": {
      "model_module": "@jupyter-widgets/controls",
      "model_module_version": "1.5.0",
      "model_name": "HBoxModel",
      "state": {
       "children": [
        "IPY_MODEL_7965c54fcd3a48b8ad356aff0439dcf2",
        "IPY_MODEL_2aa7d14adedd464c850f47c17e292f4c",
        "IPY_MODEL_4eab76593b70484db2adb36c0f33f94a"
       ],
       "layout": "IPY_MODEL_a3c8e7a6a5004abeb7883bad5c0de303"
      }
     },
     "6fdafdc545974dedaa8f357edbb01d85": {
      "model_module": "@jupyter-widgets/controls",
      "model_module_version": "1.5.0",
      "model_name": "DescriptionStyleModel",
      "state": {
       "description_width": ""
      }
     },
     "6fddf754107c4f32b0f8e24965999c03": {
      "model_module": "@jupyter-widgets/controls",
      "model_module_version": "1.5.0",
      "model_name": "DescriptionStyleModel",
      "state": {
       "description_width": ""
      }
     },
     "6ff0f43aa0a54388b1f6f2e3023473d4": {
      "model_module": "@jupyter-widgets/controls",
      "model_module_version": "1.5.0",
      "model_name": "FloatSliderModel",
      "state": {
       "layout": "IPY_MODEL_41bcbf2a64824facaa3973f9ea9065b6",
       "max": 55,
       "min": -30,
       "readout": false,
       "style": "IPY_MODEL_4bb49fd8bf4f49378d7603b2dbb36e6b",
       "value": 20
      }
     },
     "7019eb2228714e69a672766147703516": {
      "model_module": "@jupyter-widgets/base",
      "model_module_version": "1.2.0",
      "model_name": "LayoutModel",
      "state": {
       "flex": "1 1 auto",
       "width": "auto"
      }
     },
     "7020c276b9414829bdc99d7c5296d50f": {
      "model_module": "@jupyter-widgets/controls",
      "model_module_version": "1.5.0",
      "model_name": "DescriptionStyleModel",
      "state": {
       "description_width": ""
      }
     },
     "704cc58c7cdb4daa8dc75f3d96ee4f85": {
      "model_module": "@jupyter-widgets/controls",
      "model_module_version": "1.5.0",
      "model_name": "HBoxModel",
      "state": {
       "children": [
        "IPY_MODEL_e53420ac60d34bb4a295b643434041c6",
        "IPY_MODEL_710910233e2745f19b28d30f39ff0bb9"
       ],
       "layout": "IPY_MODEL_bcfb87690e1a469ea748cdbfb5d14cb5"
      }
     },
     "704d564dec884b9a84b917b51999707a": {
      "model_module": "@jupyter-widgets/controls",
      "model_module_version": "1.5.0",
      "model_name": "BoundedFloatTextModel",
      "state": {
       "layout": "IPY_MODEL_aab4e649a5244886856893cf1192dd80",
       "max": 200,
       "min": 0.001,
       "step": 0.001,
       "style": "IPY_MODEL_5eade0d060b44eb68d07139b2ea7d891",
       "value": 20
      }
     },
     "70601f5104694f5d9f4411860a0ffccb": {
      "model_module": "@jupyter-widgets/base",
      "model_module_version": "1.2.0",
      "model_name": "LayoutModel",
      "state": {
       "flex": "1 1 auto",
       "width": "auto"
      }
     },
     "7076032e695144e8b402e1fb65c77ca4": {
      "model_module": "@jupyter-widgets/controls",
      "model_module_version": "1.5.0",
      "model_name": "DescriptionStyleModel",
      "state": {
       "description_width": ""
      }
     },
     "709303fa4a5843c1893114dc3f8693f7": {
      "model_module": "@jupyter-widgets/controls",
      "model_module_version": "1.5.0",
      "model_name": "LabelModel",
      "state": {
       "layout": "IPY_MODEL_cb7ea067fb0b4ec6bd9b0ba757d82b7e",
       "style": "IPY_MODEL_c424b313f8c844fa81e273c7cfe54f9c",
       "value": "Temperature in °C:"
      }
     },
     "70cb4cb6b9414017add1645f6cac6e9f": {
      "model_module": "@jupyter-widgets/base",
      "model_module_version": "1.2.0",
      "model_name": "LayoutModel",
      "state": {
       "display": "flex",
       "width": "100%"
      }
     },
     "710910233e2745f19b28d30f39ff0bb9": {
      "model_module": "@jupyter-widgets/controls",
      "model_module_version": "1.5.0",
      "model_name": "DropdownModel",
      "state": {
       "_options_labels": [
        "1-Butene",
        "Acetone",
        "Air",
        "Ammonia",
        "Argon",
        "Benzene",
        "CarbonDioxide",
        "CarbonMonoxide",
        "CarbonylSulfide",
        "CycloHexane",
        "CycloPropane",
        "Cyclopentane",
        "D4",
        "D5",
        "D6",
        "Deuterium",
        "Dichloroethane",
        "DiethylEther",
        "DimethylCarbonate",
        "DimethylEther",
        "Ethane",
        "Ethanol",
        "EthylBenzene",
        "Ethylene",
        "EthyleneOxide",
        "Fluorine",
        "HFE143m",
        "HeavyWater",
        "Helium",
        "Hydrogen",
        "HydrogenChloride",
        "HydrogenSulfide",
        "IsoButane",
        "IsoButene",
        "Isohexane",
        "Isopentane",
        "Krypton",
        "MD2M",
        "MD3M",
        "MD4M",
        "MDM",
        "MM",
        "Methane",
        "Methanol",
        "MethylLinoleate",
        "MethylLinolenate",
        "MethylOleate",
        "MethylPalmitate",
        "MethylStearate",
        "Neon",
        "Neopentane",
        "Nitrogen",
        "NitrousOxide",
        "Novec649",
        "OrthoDeuterium",
        "OrthoHydrogen",
        "Oxygen",
        "ParaDeuterium",
        "ParaHydrogen",
        "Propylene",
        "Propyne",
        "R11",
        "R113",
        "R114",
        "R115",
        "R116",
        "R12",
        "R123",
        "R1233zd(E)",
        "R1234yf",
        "R1234ze(E)",
        "R1234ze(Z)",
        "R124",
        "R1243zf",
        "R125",
        "R13",
        "R134a",
        "R13I1",
        "R14",
        "R141b",
        "R142b",
        "R143a",
        "R152A",
        "R161",
        "R21",
        "R218",
        "R22",
        "R227EA",
        "R23",
        "R236EA",
        "R236FA",
        "R245ca",
        "R245fa",
        "R32",
        "R365MFC",
        "R40",
        "R404A",
        "R407C",
        "R41",
        "R410A",
        "R507A",
        "RC318",
        "SES36",
        "SulfurDioxide",
        "SulfurHexafluoride",
        "Toluene",
        "Water",
        "Xenon",
        "cis-2-Butene",
        "m-Xylene",
        "n-Butane",
        "n-Decane",
        "n-Dodecane",
        "n-Heptane",
        "n-Hexane",
        "n-Nonane",
        "n-Octane",
        "n-Pentane",
        "n-Propane",
        "n-Undecane",
        "o-Xylene",
        "p-Xylene",
        "trans-2-Butene"
       ],
       "index": 2,
       "layout": "IPY_MODEL_324f6da229ac461485ed66c1dadaa8f5",
       "style": "IPY_MODEL_0cada49970ad491c82cd7d687695f868"
      }
     },
     "7137915db818466788fe26f3e05d25a7": {
      "model_module": "@jupyter-widgets/base",
      "model_module_version": "1.2.0",
      "model_name": "LayoutModel",
      "state": {
       "display": "flex",
       "min_height": "300px",
       "width": "100%"
      }
     },
     "7157261696e94c378077684a1a55d179": {
      "model_module": "@jupyter-widgets/controls",
      "model_module_version": "1.5.0",
      "model_name": "HBoxModel",
      "state": {
       "children": [
        "IPY_MODEL_ccd6cb6d141f438c9f7c3498e66e3638",
        "IPY_MODEL_f2ce9cf4c2f14919b232531bf8ece732",
        "IPY_MODEL_11ee631fea2f4c50a811a5fc1bf125b2"
       ],
       "layout": "IPY_MODEL_312bafd0a34745ff853f1200d116fcec"
      }
     },
     "719b02c467344557a40f2eb8f2c96cfd": {
      "model_module": "@jupyter-widgets/controls",
      "model_module_version": "1.5.0",
      "model_name": "DescriptionStyleModel",
      "state": {
       "description_width": ""
      }
     },
     "71f3d6fdbe1a4fac967bdc2dd3113c85": {
      "model_module": "@jupyter-widgets/controls",
      "model_module_version": "1.5.0",
      "model_name": "FloatSliderModel",
      "state": {
       "layout": "IPY_MODEL_01f81e1932cb4fa98bd3ca8c825296fd",
       "max": 15000000,
       "min": 1,
       "readout": false,
       "step": 100000,
       "style": "IPY_MODEL_7746a018c08042c3ac4721ffd1ebf79d",
       "value": 101325
      }
     },
     "720370e3af63444a9b4a0c4ea7fcfdfb": {
      "model_module": "@jupyter-widgets/controls",
      "model_module_version": "1.5.0",
      "model_name": "AccordionModel",
      "state": {
       "_titles": {
        "0": "Thermodynamic State",
        "1": "Flat Plate"
       },
       "children": [
        "IPY_MODEL_78d3ecdfd8e047039530e488d93fc48d",
        "IPY_MODEL_50247d5c1e3a4719b19b6d930430e5a0"
       ],
       "layout": "IPY_MODEL_0b2eaf14e2dc4d66b8e077a5739a4b8e"
      }
     },
     "72098f6ea9bd4655ae4f8f4bd049bd15": {
      "model_module": "@jupyter-widgets/base",
      "model_module_version": "1.2.0",
      "model_name": "LayoutModel",
      "state": {
       "display": "flex",
       "flex_flow": "row"
      }
     },
     "72478222e9784df7949f340b43467f81": {
      "model_module": "@jupyter-widgets/base",
      "model_module_version": "1.2.0",
      "model_name": "LayoutModel",
      "state": {
       "flex": "10 1 auto",
       "width": "auto"
      }
     },
     "725d27d0ab6e47a9b9b6340c80363f02": {
      "model_module": "@jupyter-widgets/controls",
      "model_module_version": "1.5.0",
      "model_name": "HBoxModel",
      "state": {
       "children": [
        "IPY_MODEL_e72b28f0457d4155b5961e777e68283a",
        "IPY_MODEL_3e4c6f8ed7a944e7a31ed14acb5c628e",
        "IPY_MODEL_91a64255657748e69bb0a1a9c35ad0a8"
       ],
       "layout": "IPY_MODEL_812479eb6df646e7b10450436f1b4bd6"
      }
     },
     "72b04c140e824d868510cbf22e11cbb1": {
      "model_module": "@jupyter-widgets/base",
      "model_module_version": "1.2.0",
      "model_name": "LayoutModel",
      "state": {}
     },
     "72e7eca389554a9589f464419ad48471": {
      "model_module": "@jupyter-widgets/base",
      "model_module_version": "1.2.0",
      "model_name": "LayoutModel",
      "state": {
       "flex": "1 1 auto",
       "width": "auto"
      }
     },
     "73140a49066742e78d760754bd39c6e9": {
      "model_module": "@jupyter-widgets/controls",
      "model_module_version": "1.5.0",
      "model_name": "DescriptionStyleModel",
      "state": {
       "description_width": ""
      }
     },
     "7344bb81d25b43f6b360639205df3968": {
      "model_module": "@jupyter-widgets/controls",
      "model_module_version": "1.5.0",
      "model_name": "DescriptionStyleModel",
      "state": {
       "description_width": ""
      }
     },
     "73b863dbab1d48fa8a6e5b849108f88b": {
      "model_module": "@jupyter-widgets/base",
      "model_module_version": "1.2.0",
      "model_name": "LayoutModel",
      "state": {}
     },
     "7437a773f2dc4da49fb3a61980061881": {
      "model_module": "@jupyter-widgets/controls",
      "model_module_version": "1.5.0",
      "model_name": "HBoxModel",
      "state": {
       "children": [
        "IPY_MODEL_085d1a1c6b854fc0b6149b54155604ec",
        "IPY_MODEL_7769c46e5be04c35a14b5777553869e5",
        "IPY_MODEL_ebcf747d53b3441594b57457c4da9888"
       ],
       "layout": "IPY_MODEL_95b7f43446644fd497e6005da62adef8"
      }
     },
     "745fe38edaf24db1bcad97ba0e72e55e": {
      "model_module": "@jupyter-widgets/controls",
      "model_module_version": "1.5.0",
      "model_name": "LabelModel",
      "state": {
       "layout": "IPY_MODEL_981acb413b394217a725aaee52eba78c",
       "style": "IPY_MODEL_6b2a244794f64a78972f7f987d59401d",
       "value": "Pressure in Pa:"
      }
     },
     "74993abb42484b38b31b579241af7901": {
      "model_module": "@jupyter-widgets/base",
      "model_module_version": "1.2.0",
      "model_name": "LayoutModel",
      "state": {
       "flex": "1 1 auto",
       "width": "auto"
      }
     },
     "74da8a0bd3d44039adc7d4a4161bb4ac": {
      "model_module": "@jupyter-widgets/base",
      "model_module_version": "1.2.0",
      "model_name": "LayoutModel",
      "state": {
       "display": "flex",
       "width": "100%"
      }
     },
     "75119880a8404e13b59a5d581e0c34eb": {
      "model_module": "@jupyter-widgets/base",
      "model_module_version": "1.2.0",
      "model_name": "LayoutModel",
      "state": {
       "flex": "1 1 auto",
       "width": "auto"
      }
     },
     "7523d1e53af345c89727f0af59450582": {
      "model_module": "@jupyter-widgets/controls",
      "model_module_version": "1.5.0",
      "model_name": "SliderStyleModel",
      "state": {
       "description_width": ""
      }
     },
     "75e327d3461740fe8de34bf99595ee60": {
      "model_module": "@jupyter-widgets/base",
      "model_module_version": "1.2.0",
      "model_name": "LayoutModel",
      "state": {}
     },
     "76205c7cb88647caaa39ebad55cd1628": {
      "model_module": "@jupyter-widgets/controls",
      "model_module_version": "1.5.0",
      "model_name": "HBoxModel",
      "state": {
       "children": [
        "IPY_MODEL_3124420d3ab64cd1b2489ccce1fc31a5",
        "IPY_MODEL_df8da9044cc6420bb67e4b3e574c4207",
        "IPY_MODEL_86e7e05334624e5c8903dd07ad77143c"
       ],
       "layout": "IPY_MODEL_f81075991cd7430aaa49abe81cebefa9"
      }
     },
     "76320047de1b4d83b611f861a8b585c1": {
      "model_module": "@jupyter-widgets/controls",
      "model_module_version": "1.5.0",
      "model_name": "DropdownModel",
      "state": {
       "_options_labels": [
        "1-Butene",
        "Acetone",
        "Air",
        "Ammonia",
        "Argon",
        "Benzene",
        "CarbonDioxide",
        "CarbonMonoxide",
        "CarbonylSulfide",
        "CycloHexane",
        "CycloPropane",
        "Cyclopentane",
        "D4",
        "D5",
        "D6",
        "Deuterium",
        "Dichloroethane",
        "DiethylEther",
        "DimethylCarbonate",
        "DimethylEther",
        "Ethane",
        "Ethanol",
        "EthylBenzene",
        "Ethylene",
        "EthyleneOxide",
        "Fluorine",
        "HFE143m",
        "HeavyWater",
        "Helium",
        "Hydrogen",
        "HydrogenChloride",
        "HydrogenSulfide",
        "IsoButane",
        "IsoButene",
        "Isohexane",
        "Isopentane",
        "Krypton",
        "MD2M",
        "MD3M",
        "MD4M",
        "MDM",
        "MM",
        "Methane",
        "Methanol",
        "MethylLinoleate",
        "MethylLinolenate",
        "MethylOleate",
        "MethylPalmitate",
        "MethylStearate",
        "Neon",
        "Neopentane",
        "Nitrogen",
        "NitrousOxide",
        "Novec649",
        "OrthoDeuterium",
        "OrthoHydrogen",
        "Oxygen",
        "ParaDeuterium",
        "ParaHydrogen",
        "Propylene",
        "Propyne",
        "R11",
        "R113",
        "R114",
        "R115",
        "R116",
        "R12",
        "R123",
        "R1233zd(E)",
        "R1234yf",
        "R1234ze(E)",
        "R1234ze(Z)",
        "R124",
        "R1243zf",
        "R125",
        "R13",
        "R134a",
        "R13I1",
        "R14",
        "R141b",
        "R142b",
        "R143a",
        "R152A",
        "R161",
        "R21",
        "R218",
        "R22",
        "R227EA",
        "R23",
        "R236EA",
        "R236FA",
        "R245ca",
        "R245fa",
        "R32",
        "R365MFC",
        "R40",
        "R404A",
        "R407C",
        "R41",
        "R410A",
        "R507A",
        "RC318",
        "SES36",
        "SulfurDioxide",
        "SulfurHexafluoride",
        "Toluene",
        "Water",
        "Xenon",
        "cis-2-Butene",
        "m-Xylene",
        "n-Butane",
        "n-Decane",
        "n-Dodecane",
        "n-Heptane",
        "n-Hexane",
        "n-Nonane",
        "n-Octane",
        "n-Pentane",
        "n-Propane",
        "n-Undecane",
        "o-Xylene",
        "p-Xylene",
        "trans-2-Butene"
       ],
       "index": 2,
       "layout": "IPY_MODEL_4f725f8ca01148a2b866275fcfc6be8c",
       "style": "IPY_MODEL_47c1ffa40812448da05f998c9a54ce92"
      }
     },
     "763e36ede9984386adf267e6a005bace": {
      "model_module": "@jupyter-widgets/base",
      "model_module_version": "1.2.0",
      "model_name": "LayoutModel",
      "state": {
       "display": "flex",
       "width": "100%"
      }
     },
     "76567c44d9b24465abf641e957931205": {
      "model_module": "@jupyter-widgets/base",
      "model_module_version": "1.2.0",
      "model_name": "LayoutModel",
      "state": {
       "flex": "1 1 auto",
       "width": "auto"
      }
     },
     "76649452ce2b438898aba61b34f072db": {
      "model_module": "@jupyter-widgets/controls",
      "model_module_version": "1.5.0",
      "model_name": "HBoxModel",
      "state": {
       "children": [
        "IPY_MODEL_b1c2a857a67c43d1b0d9181315998503",
        "IPY_MODEL_87922049c2d74c6392d8ff5dc22c799b",
        "IPY_MODEL_c573a8ce3f0b4f3496132f3735b564d0"
       ],
       "layout": "IPY_MODEL_215f62884b63479c9690332a8c3ac941"
      }
     },
     "7687d98e2ae949c9833efaf62670daf2": {
      "model_module": "@jupyter-widgets/base",
      "model_module_version": "1.2.0",
      "model_name": "LayoutModel",
      "state": {
       "flex": "1 1 auto",
       "width": "auto"
      }
     },
     "76a118d690f64860bc7b8b536bb5d73c": {
      "model_module": "@jupyter-widgets/controls",
      "model_module_version": "1.5.0",
      "model_name": "DescriptionStyleModel",
      "state": {
       "description_width": ""
      }
     },
     "76c09ed8659547cfa3d139178a3631c9": {
      "model_module": "@jupyter-widgets/base",
      "model_module_version": "1.2.0",
      "model_name": "LayoutModel",
      "state": {}
     },
     "76eb0bc2ea12469ba0634ec13f785fb9": {
      "model_module": "@jupyter-widgets/controls",
      "model_module_version": "1.5.0",
      "model_name": "FloatSliderModel",
      "state": {
       "layout": "IPY_MODEL_92951d87be5b403e985504f99fe567a0",
       "max": 10,
       "min": 0.001,
       "readout": false,
       "step": 0.001,
       "style": "IPY_MODEL_d8e26dbc17d640f587c71e4fc8e575e2",
       "value": 0.1
      }
     },
     "76f33f10c0894763bae06fb99284ea29": {
      "model_module": "@jupyter-widgets/base",
      "model_module_version": "1.2.0",
      "model_name": "LayoutModel",
      "state": {}
     },
     "7746a018c08042c3ac4721ffd1ebf79d": {
      "model_module": "@jupyter-widgets/controls",
      "model_module_version": "1.5.0",
      "model_name": "SliderStyleModel",
      "state": {
       "description_width": ""
      }
     },
     "774d3fd473e9413a94a2626d05849c2c": {
      "model_module": "@jupyter-widgets/controls",
      "model_module_version": "1.5.0",
      "model_name": "VBoxModel",
      "state": {
       "children": [
        "IPY_MODEL_7437a773f2dc4da49fb3a61980061881",
        "IPY_MODEL_b911c1900fd64a2ba1d41b1af4a4113c",
        "IPY_MODEL_483ba422784440e38da542ef6962eb4c"
       ],
       "layout": "IPY_MODEL_379eb4badc744af39422cec366a3c59d"
      }
     },
     "7769c46e5be04c35a14b5777553869e5": {
      "model_module": "@jupyter-widgets/controls",
      "model_module_version": "1.5.0",
      "model_name": "FloatSliderModel",
      "state": {
       "layout": "IPY_MODEL_0b2482aa9847484c9e9be5d6155e9282",
       "max": 15000000,
       "min": 1,
       "readout": false,
       "step": 100000,
       "style": "IPY_MODEL_634412e8d17f49cf9bdddd6c466085ee",
       "value": 101325
      }
     },
     "7780a03d93af41c39d95a58cbf223020": {
      "model_module": "@jupyter-widgets/base",
      "model_module_version": "1.2.0",
      "model_name": "LayoutModel",
      "state": {}
     },
     "778fa45a2dbb4d5aba0efadc408819cd": {
      "model_module": "@jupyter-widgets/base",
      "model_module_version": "1.2.0",
      "model_name": "LayoutModel",
      "state": {}
     },
     "77b6e215a9044c369664cc1dda608f8d": {
      "model_module": "@jupyter-widgets/base",
      "model_module_version": "1.2.0",
      "model_name": "LayoutModel",
      "state": {
       "display": "flex",
       "flex_flow": "row"
      }
     },
     "77c3e1090c3f45e28f732d2707083e9f": {
      "model_module": "@jupyter-widgets/base",
      "model_module_version": "1.2.0",
      "model_name": "LayoutModel",
      "state": {
       "display": "flex",
       "width": "100%"
      }
     },
     "77d281c28e824abe80fe5b164f25afcf": {
      "model_module": "@jupyter-widgets/base",
      "model_module_version": "1.2.0",
      "model_name": "LayoutModel",
      "state": {}
     },
     "780bbaa7602440a8962fc0f2a507ce01": {
      "model_module": "@jupyter-widgets/controls",
      "model_module_version": "1.5.0",
      "model_name": "AccordionModel",
      "state": {
       "_titles": {
        "0": "Thermodynamic State",
        "1": "Flat Plate"
       },
       "children": [
        "IPY_MODEL_7a06ae0f0f444b4ebf865f680f7d1407",
        "IPY_MODEL_85e1038de0d94154a4f888d08f235de4"
       ],
       "layout": "IPY_MODEL_9d752aaa11d047d9802b10abcc6f0013"
      }
     },
     "782571a21a784d8786f2fc4e9a55d12e": {
      "model_module": "@jupyter-widgets/base",
      "model_module_version": "1.2.0",
      "model_name": "LayoutModel",
      "state": {
       "flex": "1 1 auto",
       "width": "auto"
      }
     },
     "7826f913859149b5a90e12922832cdde": {
      "model_module": "@jupyter-widgets/controls",
      "model_module_version": "1.5.0",
      "model_name": "DescriptionStyleModel",
      "state": {
       "description_width": ""
      }
     },
     "78a86afe0ff844fb9438956bddf99768": {
      "model_module": "@jupyter-widgets/controls",
      "model_module_version": "1.5.0",
      "model_name": "SliderStyleModel",
      "state": {
       "description_width": ""
      }
     },
     "78d3ecdfd8e047039530e488d93fc48d": {
      "model_module": "@jupyter-widgets/controls",
      "model_module_version": "1.5.0",
      "model_name": "VBoxModel",
      "state": {
       "children": [
        "IPY_MODEL_725d27d0ab6e47a9b9b6340c80363f02",
        "IPY_MODEL_39a347316bdd4abd92aa43fc92311a86",
        "IPY_MODEL_c48fcaab8bd74c4491ec428a085704e5"
       ],
       "layout": "IPY_MODEL_11c9aeec567f488983a2e008d27b4c2e"
      }
     },
     "78d6fc4e280a47bf8ef8365221c85d4a": {
      "model_module": "@jupyter-widgets/base",
      "model_module_version": "1.2.0",
      "model_name": "LayoutModel",
      "state": {
       "display": "flex",
       "width": "100%"
      }
     },
     "78de021d3e074ab78a7225f218d7e178": {
      "model_module": "@jupyter-widgets/controls",
      "model_module_version": "1.5.0",
      "model_name": "DescriptionStyleModel",
      "state": {
       "description_width": ""
      }
     },
     "78e39e6a8e3e48f897bc3924ee735e91": {
      "model_module": "@jupyter-widgets/output",
      "model_module_version": "1.0.0",
      "model_name": "OutputModel",
      "state": {
       "layout": "IPY_MODEL_8ccf5ef716ac40c3ba5e2741ab6428ea"
      }
     },
     "78fa6eac033743f198973a2c769f4532": {
      "model_module": "@jupyter-widgets/base",
      "model_module_version": "1.2.0",
      "model_name": "LayoutModel",
      "state": {}
     },
     "7935d611ff0c4713ba45fae4ddfde4c3": {
      "model_module": "@jupyter-widgets/controls",
      "model_module_version": "1.5.0",
      "model_name": "DropdownModel",
      "state": {
       "_options_labels": [
        "1-Butene",
        "Acetone",
        "Air",
        "Ammonia",
        "Argon",
        "Benzene",
        "CarbonDioxide",
        "CarbonMonoxide",
        "CarbonylSulfide",
        "CycloHexane",
        "CycloPropane",
        "Cyclopentane",
        "D4",
        "D5",
        "D6",
        "Deuterium",
        "Dichloroethane",
        "DiethylEther",
        "DimethylCarbonate",
        "DimethylEther",
        "Ethane",
        "Ethanol",
        "EthylBenzene",
        "Ethylene",
        "EthyleneOxide",
        "Fluorine",
        "HFE143m",
        "HeavyWater",
        "Helium",
        "Hydrogen",
        "HydrogenChloride",
        "HydrogenSulfide",
        "IsoButane",
        "IsoButene",
        "Isohexane",
        "Isopentane",
        "Krypton",
        "MD2M",
        "MD3M",
        "MD4M",
        "MDM",
        "MM",
        "Methane",
        "Methanol",
        "MethylLinoleate",
        "MethylLinolenate",
        "MethylOleate",
        "MethylPalmitate",
        "MethylStearate",
        "Neon",
        "Neopentane",
        "Nitrogen",
        "NitrousOxide",
        "Novec649",
        "OrthoDeuterium",
        "OrthoHydrogen",
        "Oxygen",
        "ParaDeuterium",
        "ParaHydrogen",
        "Propylene",
        "Propyne",
        "R11",
        "R113",
        "R114",
        "R115",
        "R116",
        "R12",
        "R123",
        "R1233zd(E)",
        "R1234yf",
        "R1234ze(E)",
        "R1234ze(Z)",
        "R124",
        "R1243zf",
        "R125",
        "R13",
        "R134a",
        "R13I1",
        "R14",
        "R141b",
        "R142b",
        "R143a",
        "R152A",
        "R161",
        "R21",
        "R218",
        "R22",
        "R227EA",
        "R23",
        "R236EA",
        "R236FA",
        "R245ca",
        "R245fa",
        "R32",
        "R365MFC",
        "R40",
        "R404A",
        "R407C",
        "R41",
        "R410A",
        "R507A",
        "RC318",
        "SES36",
        "SulfurDioxide",
        "SulfurHexafluoride",
        "Toluene",
        "Water",
        "Xenon",
        "cis-2-Butene",
        "m-Xylene",
        "n-Butane",
        "n-Decane",
        "n-Dodecane",
        "n-Heptane",
        "n-Hexane",
        "n-Nonane",
        "n-Octane",
        "n-Pentane",
        "n-Propane",
        "n-Undecane",
        "o-Xylene",
        "p-Xylene",
        "trans-2-Butene"
       ],
       "index": 2,
       "layout": "IPY_MODEL_f48ae7c693af46889ca8ad90a0a091bd",
       "style": "IPY_MODEL_0faf9a0fb22a417b80661eee3ecee2cf"
      }
     },
     "7965c54fcd3a48b8ad356aff0439dcf2": {
      "model_module": "@jupyter-widgets/controls",
      "model_module_version": "1.5.0",
      "model_name": "LabelModel",
      "state": {
       "layout": "IPY_MODEL_8af66b74eba24a3eb517ed90b5175b3c",
       "style": "IPY_MODEL_6fdafdc545974dedaa8f357edbb01d85",
       "value": "Pressure in Pa:"
      }
     },
     "79759ff57bad4ebbbe12acb3b6f3b80d": {
      "model_module": "@jupyter-widgets/base",
      "model_module_version": "1.2.0",
      "model_name": "LayoutModel",
      "state": {
       "display": "flex",
       "width": "100%"
      }
     },
     "797a6c88e53141548d1612b76b6b860b": {
      "model_module": "@jupyter-widgets/controls",
      "model_module_version": "1.5.0",
      "model_name": "DescriptionStyleModel",
      "state": {
       "description_width": ""
      }
     },
     "797b55e618764ca89f42d7c678103ea4": {
      "model_module": "@jupyter-widgets/base",
      "model_module_version": "1.2.0",
      "model_name": "LayoutModel",
      "state": {
       "flex": "1 1 auto",
       "width": "auto"
      }
     },
     "798c54bf07e6443d82f4def831894d95": {
      "model_module": "@jupyter-widgets/controls",
      "model_module_version": "1.5.0",
      "model_name": "LabelModel",
      "state": {
       "layout": "IPY_MODEL_c4f76adc34a04119a029d6402e0614c3",
       "style": "IPY_MODEL_147332810cc94b10b081d63d139099f2",
       "value": "Velocity in m/s:"
      }
     },
     "79a07f690f4b42f2a1bf5faacd95a047": {
      "model_module": "@jupyter-widgets/base",
      "model_module_version": "1.2.0",
      "model_name": "LayoutModel",
      "state": {}
     },
     "79b96c855570428c8e3b363a8c0445b6": {
      "model_module": "@jupyter-widgets/base",
      "model_module_version": "1.2.0",
      "model_name": "LayoutModel",
      "state": {}
     },
     "79d7965f3c1b444bb84d7ac87903e5bb": {
      "model_module": "@jupyter-widgets/base",
      "model_module_version": "1.2.0",
      "model_name": "LayoutModel",
      "state": {
       "display": "flex",
       "width": "100%"
      }
     },
     "79e743030a0943028478c6ce75b533bc": {
      "model_module": "@jupyter-widgets/controls",
      "model_module_version": "1.5.0",
      "model_name": "BoundedFloatTextModel",
      "state": {
       "layout": "IPY_MODEL_add2c41faaef4479b7a7d22f79db7a40",
       "max": 15000000,
       "min": 1,
       "step": 100000,
       "style": "IPY_MODEL_f145415fcaa8406ab7781dca53a9ea90",
       "value": 101325
      }
     },
     "7a06ae0f0f444b4ebf865f680f7d1407": {
      "model_module": "@jupyter-widgets/controls",
      "model_module_version": "1.5.0",
      "model_name": "VBoxModel",
      "state": {
       "children": [
        "IPY_MODEL_6fb360e9ce20460ab7b5b11611d45aff",
        "IPY_MODEL_cdaf5728537141b88a4332bfe08f4d59",
        "IPY_MODEL_efd7cbf2b694495b9ac7f938ac2bddb8"
       ],
       "layout": "IPY_MODEL_adbc0882cfce47298c92af30ab72ed5d"
      }
     },
     "7a30c1a55fa24e8380f06a48a22bd6c8": {
      "model_module": "@jupyter-widgets/base",
      "model_module_version": "1.2.0",
      "model_name": "LayoutModel",
      "state": {
       "display": "flex",
       "flex_flow": "row"
      }
     },
     "7a81cd612587459bae3027364e292fa4": {
      "model_module": "@jupyter-widgets/base",
      "model_module_version": "1.2.0",
      "model_name": "LayoutModel",
      "state": {
       "flex": "1 1 auto",
       "width": "auto"
      }
     },
     "7aa3a35ba6cb42f0a8b7c0223f5436a3": {
      "model_module": "@jupyter-widgets/base",
      "model_module_version": "1.2.0",
      "model_name": "LayoutModel",
      "state": {
       "display": "flex",
       "width": "100%"
      }
     },
     "7ade8e5d0aad4f68a599e6620b4df853": {
      "model_module": "@jupyter-widgets/base",
      "model_module_version": "1.2.0",
      "model_name": "LayoutModel",
      "state": {
       "display": "flex",
       "flex_flow": "row"
      }
     },
     "7ae3ca86e2154eaca1a837135d4ce1cd": {
      "model_module": "@jupyter-widgets/controls",
      "model_module_version": "1.5.0",
      "model_name": "DescriptionStyleModel",
      "state": {
       "description_width": ""
      }
     },
     "7aed6c69bd13400aaad9bf7cf0c923f3": {
      "model_module": "@jupyter-widgets/base",
      "model_module_version": "1.2.0",
      "model_name": "LayoutModel",
      "state": {
       "display": "flex",
       "flex_flow": "row"
      }
     },
     "7af916c2129d4f1a9b6c167b201de1c9": {
      "model_module": "@jupyter-widgets/base",
      "model_module_version": "1.2.0",
      "model_name": "LayoutModel",
      "state": {}
     },
     "7b2d1a86dc1744ab8aebc59cfa402273": {
      "model_module": "@jupyter-widgets/controls",
      "model_module_version": "1.5.0",
      "model_name": "BoundedFloatTextModel",
      "state": {
       "layout": "IPY_MODEL_41f10b1940d34aa6b8b495b7a8208cba",
       "max": 55,
       "min": -30,
       "step": 1,
       "style": "IPY_MODEL_91488209c02d4c4686e0a510f5b71a9d",
       "value": 20
      }
     },
     "7b416a965831472691e161b1553706e4": {
      "model_module": "@jupyter-widgets/base",
      "model_module_version": "1.2.0",
      "model_name": "LayoutModel",
      "state": {
       "flex": "1 1 auto",
       "min_height": "300px",
       "min_width": "400px",
       "width": "auto"
      }
     },
     "7bf87100e34848919e311a21e891db30": {
      "model_module": "@jupyter-widgets/controls",
      "model_module_version": "1.5.0",
      "model_name": "DescriptionStyleModel",
      "state": {
       "description_width": ""
      }
     },
     "7c36b29ff3e144cf8b948b37c3ed484a": {
      "model_module": "@jupyter-widgets/base",
      "model_module_version": "1.2.0",
      "model_name": "LayoutModel",
      "state": {
       "flex": "1 1 auto",
       "width": "auto"
      }
     },
     "7c4c8c72351c45bc870290d6cb4c1c1b": {
      "model_module": "@jupyter-widgets/controls",
      "model_module_version": "1.5.0",
      "model_name": "SliderStyleModel",
      "state": {
       "description_width": ""
      }
     },
     "7c679976c13149888d11764476f1c33e": {
      "model_module": "@jupyter-widgets/controls",
      "model_module_version": "1.5.0",
      "model_name": "FloatSliderModel",
      "state": {
       "layout": "IPY_MODEL_a435cb60d803483fb616a152be51e2de",
       "max": 55,
       "min": -30,
       "readout": false,
       "style": "IPY_MODEL_e17d9248002f42ee887cf1341356a183",
       "value": 20
      }
     },
     "7cab3f0d6d864a80b8372e08a8961216": {
      "model_module": "@jupyter-widgets/output",
      "model_module_version": "1.0.0",
      "model_name": "OutputModel",
      "state": {
       "layout": "IPY_MODEL_1089c37633a94b5e984e463b52a8b580"
      }
     },
     "7cc45833b0cf44319298230dbec7ffbb": {
      "model_module": "@jupyter-widgets/base",
      "model_module_version": "1.2.0",
      "model_name": "LayoutModel",
      "state": {
       "display": "flex",
       "flex_flow": "row"
      }
     },
     "7cd5e0f0a05149c785930641bb319957": {
      "model_module": "@jupyter-widgets/controls",
      "model_module_version": "1.5.0",
      "model_name": "SliderStyleModel",
      "state": {
       "description_width": ""
      }
     },
     "7d2e78f4accf49b0a63039e7cf2fb9c7": {
      "model_module": "@jupyter-widgets/controls",
      "model_module_version": "1.5.0",
      "model_name": "VBoxModel",
      "state": {
       "children": [
        "IPY_MODEL_a503e12d4d734ebc8a1396adfdf81b71",
        "IPY_MODEL_3045fd5c720f4ee3be3f4f35a10f57be",
        "IPY_MODEL_05fc1d04c6c345df950546ce3ce7443d"
       ],
       "layout": "IPY_MODEL_627f7b3f5fe44e138f332adbd3808cb9"
      }
     },
     "7d3c653042d443c5959777e043bbfa8a": {
      "model_module": "@jupyter-widgets/controls",
      "model_module_version": "1.5.0",
      "model_name": "HBoxModel",
      "state": {
       "children": [
        "IPY_MODEL_8b7079e832904930a995b8d1a53bb0d6",
        "IPY_MODEL_6b419a4bb575460fb1608bd74c492a6e",
        "IPY_MODEL_39e9ae5c70d44ed1ab15435db485c388"
       ],
       "layout": "IPY_MODEL_77c3e1090c3f45e28f732d2707083e9f"
      }
     },
     "7d4ccb20096a417db42e8b72d5b47755": {
      "model_module": "@jupyter-widgets/base",
      "model_module_version": "1.2.0",
      "model_name": "LayoutModel",
      "state": {
       "flex": "1 1 auto",
       "width": "auto"
      }
     },
     "7d5edbd4c90746c2a39bc61e45f06669": {
      "model_module": "@jupyter-widgets/controls",
      "model_module_version": "1.5.0",
      "model_name": "FloatSliderModel",
      "state": {
       "layout": "IPY_MODEL_d45adb19b57e47bd877b8c252cbbf1bc",
       "max": 10,
       "min": 0.001,
       "readout": false,
       "step": 0.001,
       "style": "IPY_MODEL_3dfd83931c77407783bd82e76a670573",
       "value": 0.1
      }
     },
     "7d64de6a63f7408ea2bc1079510fb631": {
      "model_module": "@jupyter-widgets/controls",
      "model_module_version": "1.5.0",
      "model_name": "SliderStyleModel",
      "state": {
       "description_width": ""
      }
     },
     "7d696d57d5624a1fb60c4ec76acff46a": {
      "model_module": "@jupyter-widgets/controls",
      "model_module_version": "1.5.0",
      "model_name": "DropdownModel",
      "state": {
       "_options_labels": [
        "1-Butene",
        "Acetone",
        "Air",
        "Ammonia",
        "Argon",
        "Benzene",
        "CarbonDioxide",
        "CarbonMonoxide",
        "CarbonylSulfide",
        "CycloHexane",
        "CycloPropane",
        "Cyclopentane",
        "D4",
        "D5",
        "D6",
        "Deuterium",
        "Dichloroethane",
        "DiethylEther",
        "DimethylCarbonate",
        "DimethylEther",
        "Ethane",
        "Ethanol",
        "EthylBenzene",
        "Ethylene",
        "EthyleneOxide",
        "Fluorine",
        "HFE143m",
        "HeavyWater",
        "Helium",
        "Hydrogen",
        "HydrogenChloride",
        "HydrogenSulfide",
        "IsoButane",
        "IsoButene",
        "Isohexane",
        "Isopentane",
        "Krypton",
        "MD2M",
        "MD3M",
        "MD4M",
        "MDM",
        "MM",
        "Methane",
        "Methanol",
        "MethylLinoleate",
        "MethylLinolenate",
        "MethylOleate",
        "MethylPalmitate",
        "MethylStearate",
        "Neon",
        "Neopentane",
        "Nitrogen",
        "NitrousOxide",
        "Novec649",
        "OrthoDeuterium",
        "OrthoHydrogen",
        "Oxygen",
        "ParaDeuterium",
        "ParaHydrogen",
        "Propylene",
        "Propyne",
        "R11",
        "R113",
        "R114",
        "R115",
        "R116",
        "R12",
        "R123",
        "R1233zd(E)",
        "R1234yf",
        "R1234ze(E)",
        "R1234ze(Z)",
        "R124",
        "R1243zf",
        "R125",
        "R13",
        "R134a",
        "R13I1",
        "R14",
        "R141b",
        "R142b",
        "R143a",
        "R152A",
        "R161",
        "R21",
        "R218",
        "R22",
        "R227EA",
        "R23",
        "R236EA",
        "R236FA",
        "R245ca",
        "R245fa",
        "R32",
        "R365MFC",
        "R40",
        "R404A",
        "R407C",
        "R41",
        "R410A",
        "R507A",
        "RC318",
        "SES36",
        "SulfurDioxide",
        "SulfurHexafluoride",
        "Toluene",
        "Water",
        "Xenon",
        "cis-2-Butene",
        "m-Xylene",
        "n-Butane",
        "n-Decane",
        "n-Dodecane",
        "n-Heptane",
        "n-Hexane",
        "n-Nonane",
        "n-Octane",
        "n-Pentane",
        "n-Propane",
        "n-Undecane",
        "o-Xylene",
        "p-Xylene",
        "trans-2-Butene"
       ],
       "index": 2,
       "layout": "IPY_MODEL_6ebb49bd3c8c4ea3a68282530772431e",
       "style": "IPY_MODEL_dd050006464d424584d8420d2f854519"
      }
     },
     "7ddbaa7e1da14b79b9f9ba239a2dec9d": {
      "model_module": "@jupyter-widgets/controls",
      "model_module_version": "1.5.0",
      "model_name": "LabelModel",
      "state": {
       "layout": "IPY_MODEL_bb7cd3ee14f24113ad8198395fcbf1f7",
       "style": "IPY_MODEL_5ba31dc0410e40c88e74b52db8c9f504",
       "value": "Platelength in m"
      }
     },
     "7de3acd7138342abad51725de791f230": {
      "model_module": "@jupyter-widgets/controls",
      "model_module_version": "1.5.0",
      "model_name": "VBoxModel",
      "state": {
       "children": [
        "IPY_MODEL_50f000fa1ecf4719b695be8fee6016d8",
        "IPY_MODEL_fb79ca6a176f4420aff06c36cc6ecc6d"
       ],
       "layout": "IPY_MODEL_36d68c069d5943b5b8323ac9a7a362da"
      }
     },
     "7e1eab7a90be4a72b6b3d269d8179033": {
      "model_module": "@jupyter-widgets/base",
      "model_module_version": "1.2.0",
      "model_name": "LayoutModel",
      "state": {
       "display": "flex",
       "flex_flow": "row"
      }
     },
     "7e239621613543b082fd58d228bd58f5": {
      "model_module": "@jupyter-widgets/controls",
      "model_module_version": "1.5.0",
      "model_name": "HBoxModel",
      "state": {
       "children": [
        "IPY_MODEL_fb76014de0f94db3933b514deaea2818",
        "IPY_MODEL_4e61d046b7114f4db002caa21900b9c1",
        "IPY_MODEL_86038a89d5de4bff8da8f1c644defe0d"
       ],
       "layout": "IPY_MODEL_6288c5c6dafc4745b5b6a06a298f5c30"
      }
     },
     "7e2d1a4eeb984452ae119b2cd5c9b023": {
      "model_module": "@jupyter-widgets/base",
      "model_module_version": "1.2.0",
      "model_name": "LayoutModel",
      "state": {
       "display": "flex",
       "width": "100%"
      }
     },
     "7e6141f740dd4db9a60ba5b4e7bed238": {
      "model_module": "@jupyter-widgets/base",
      "model_module_version": "1.2.0",
      "model_name": "LayoutModel",
      "state": {
       "flex": "1 1 auto",
       "width": "auto"
      }
     },
     "7e79140459914381b67c2f036d097d0a": {
      "model_module": "@jupyter-widgets/base",
      "model_module_version": "1.2.0",
      "model_name": "LayoutModel",
      "state": {
       "display": "flex",
       "width": "100%"
      }
     },
     "7e9013d635394458949e194c709fef63": {
      "model_module": "@jupyter-widgets/controls",
      "model_module_version": "1.5.0",
      "model_name": "BoundedFloatTextModel",
      "state": {
       "layout": "IPY_MODEL_f8f83483a6c64bcb87f1894a37eb7738",
       "max": 55,
       "min": -30,
       "step": 1,
       "style": "IPY_MODEL_a0ea183bcb164ed0ac929b6029e425e3",
       "value": 20
      }
     },
     "7ea52fba649b4535a4d67944678bb6e5": {
      "model_module": "@jupyter-widgets/base",
      "model_module_version": "1.2.0",
      "model_name": "LayoutModel",
      "state": {
       "display": "flex",
       "flex_flow": "row"
      }
     },
     "7eab523375c144d3b938a75ad239afbb": {
      "model_module": "@jupyter-widgets/controls",
      "model_module_version": "1.5.0",
      "model_name": "VBoxModel",
      "state": {
       "children": [
        "IPY_MODEL_63b5056a43434609a782f76f99dfa222",
        "IPY_MODEL_d97a4e477fcd4b388d8ae98323dd1a66",
        "IPY_MODEL_d8f614954c9a4bb1abeb931a4d87a0c0"
       ],
       "layout": "IPY_MODEL_ba007c98e63446efa9b06d12658c6a2e"
      }
     },
     "7f0f24587b574320ad12a0dd54d86623": {
      "model_module": "@jupyter-widgets/controls",
      "model_module_version": "1.5.0",
      "model_name": "DescriptionStyleModel",
      "state": {
       "description_width": ""
      }
     },
     "7f503a990fbc494f866530ea1938fa1c": {
      "model_module": "@jupyter-widgets/base",
      "model_module_version": "1.2.0",
      "model_name": "LayoutModel",
      "state": {
       "flex": "1 1 auto",
       "width": "auto"
      }
     },
     "7f980c907cbc42a6abb3d821f59cecdf": {
      "model_module": "@jupyter-widgets/controls",
      "model_module_version": "1.5.0",
      "model_name": "DescriptionStyleModel",
      "state": {
       "description_width": ""
      }
     },
     "7fa4531abd154a918f630b1823f76ce1": {
      "model_module": "@jupyter-widgets/base",
      "model_module_version": "1.2.0",
      "model_name": "LayoutModel",
      "state": {
       "display": "flex",
       "flex_flow": "row"
      }
     },
     "7fb477eb36464e87a043ce3233e7bcad": {
      "model_module": "@jupyter-widgets/base",
      "model_module_version": "1.2.0",
      "model_name": "LayoutModel",
      "state": {}
     },
     "7fbc7d3fa5ae49b7b4a0ba1844c7e01b": {
      "model_module": "@jupyter-widgets/base",
      "model_module_version": "1.2.0",
      "model_name": "LayoutModel",
      "state": {
       "flex": "1 1 auto",
       "width": "auto"
      }
     },
     "7fcdb182f5524bccbb77836b6a11f82b": {
      "model_module": "@jupyter-widgets/base",
      "model_module_version": "1.2.0",
      "model_name": "LayoutModel",
      "state": {}
     },
     "7fe365ca768547d5ac8115aabe8dd0a3": {
      "model_module": "@jupyter-widgets/base",
      "model_module_version": "1.2.0",
      "model_name": "LayoutModel",
      "state": {
       "flex": "10 1 auto",
       "width": "auto"
      }
     },
     "80673f31f3c44fa3b05d9cf187d78792": {
      "model_module": "@jupyter-widgets/base",
      "model_module_version": "1.2.0",
      "model_name": "LayoutModel",
      "state": {}
     },
     "80ef42e48ec04a4888393c19dac58028": {
      "model_module": "@jupyter-widgets/controls",
      "model_module_version": "1.5.0",
      "model_name": "VBoxModel",
      "state": {
       "children": [
        "IPY_MODEL_b169e4c135844c32b882fd77b159b674",
        "IPY_MODEL_2d62c12c94534d69a9a270056813687f"
       ],
       "layout": "IPY_MODEL_86ac518c0aa04f6f806acf2453934454"
      }
     },
     "812479eb6df646e7b10450436f1b4bd6": {
      "model_module": "@jupyter-widgets/base",
      "model_module_version": "1.2.0",
      "model_name": "LayoutModel",
      "state": {
       "display": "flex",
       "width": "100%"
      }
     },
     "8148cb6569364d758927f0b6d678060b": {
      "model_module": "@jupyter-widgets/base",
      "model_module_version": "1.2.0",
      "model_name": "LayoutModel",
      "state": {
       "flex": "1 1 auto",
       "width": "auto"
      }
     },
     "81a82ffff3ce467eb594d32db66da277": {
      "model_module": "@jupyter-widgets/controls",
      "model_module_version": "1.5.0",
      "model_name": "DescriptionStyleModel",
      "state": {
       "description_width": ""
      }
     },
     "81abc4e6f0054b33a7c8eabae66127a8": {
      "model_module": "@jupyter-widgets/controls",
      "model_module_version": "1.5.0",
      "model_name": "DescriptionStyleModel",
      "state": {
       "description_width": ""
      }
     },
     "81bc240afb624a71a94ee60b5ac6eb2c": {
      "model_module": "@jupyter-widgets/controls",
      "model_module_version": "1.5.0",
      "model_name": "DescriptionStyleModel",
      "state": {
       "description_width": ""
      }
     },
     "81c3635481ef4d79956ae74ebda66b21": {
      "model_module": "@jupyter-widgets/controls",
      "model_module_version": "1.5.0",
      "model_name": "LabelModel",
      "state": {
       "layout": "IPY_MODEL_36976a4cb0cb4540b4b8a00f1635f7ed",
       "style": "IPY_MODEL_0bef64a07185424a8d67f8e0d0fe3640",
       "value": "Velocity in m/s:"
      }
     },
     "81cbe00546da4eb2b5ff2ec2e2f825ac": {
      "model_module": "@jupyter-widgets/controls",
      "model_module_version": "1.5.0",
      "model_name": "LabelModel",
      "state": {
       "layout": "IPY_MODEL_69c81d5363dc4b88b9b968c57dde4f23",
       "style": "IPY_MODEL_498ecef5debd497a80b65fd323cce563",
       "value": "Temperature in °C:"
      }
     },
     "8234b47a929a40c6ae4d6abd7eff85f5": {
      "model_module": "@jupyter-widgets/base",
      "model_module_version": "1.2.0",
      "model_name": "LayoutModel",
      "state": {}
     },
     "829595241a68469eb14e36de03be955a": {
      "model_module": "@jupyter-widgets/controls",
      "model_module_version": "1.5.0",
      "model_name": "LabelModel",
      "state": {
       "layout": "IPY_MODEL_47d6f58ff5954001a87644978ab69702",
       "style": "IPY_MODEL_7344bb81d25b43f6b360639205df3968",
       "value": "Temperature in °C:"
      }
     },
     "8299910dd5634c92a618d6e9f4fad225": {
      "model_module": "@jupyter-widgets/output",
      "model_module_version": "1.0.0",
      "model_name": "OutputModel",
      "state": {
       "layout": "IPY_MODEL_56ddb0af5fcc46feabd97d3611ac36a5"
      }
     },
     "82b5ad7c15004b8b945d6054422dab6a": {
      "model_module": "@jupyter-widgets/controls",
      "model_module_version": "1.5.0",
      "model_name": "SliderStyleModel",
      "state": {
       "description_width": ""
      }
     },
     "82ced06035bc4caa8d4767a5c5164ea1": {
      "model_module": "@jupyter-widgets/controls",
      "model_module_version": "1.5.0",
      "model_name": "SliderStyleModel",
      "state": {
       "description_width": ""
      }
     },
     "8357506bee514382adb63599ec2dcdbd": {
      "model_module": "@jupyter-widgets/controls",
      "model_module_version": "1.5.0",
      "model_name": "DescriptionStyleModel",
      "state": {
       "description_width": ""
      }
     },
     "8360f0af907845c4b70e9423275a557e": {
      "model_module": "@jupyter-widgets/controls",
      "model_module_version": "1.5.0",
      "model_name": "DescriptionStyleModel",
      "state": {
       "description_width": ""
      }
     },
     "83804978be0f49f198f4b3a9445e2b59": {
      "model_module": "@jupyter-widgets/controls",
      "model_module_version": "1.5.0",
      "model_name": "DescriptionStyleModel",
      "state": {
       "description_width": ""
      }
     },
     "838ae577ec4646e582ef17a86ca43fa2": {
      "model_module": "@jupyter-widgets/controls",
      "model_module_version": "1.5.0",
      "model_name": "LabelModel",
      "state": {
       "layout": "IPY_MODEL_6a8ad61214ef462194afc8b80a186664",
       "style": "IPY_MODEL_354c9417eba74bafa2bd220a551782ec",
       "value": "Pressure in Pa:"
      }
     },
     "839afb647c7148338f53920284d60a3d": {
      "model_module": "@jupyter-widgets/controls",
      "model_module_version": "1.5.0",
      "model_name": "LabelModel",
      "state": {
       "layout": "IPY_MODEL_9a817ea97c224b89a313251d599bc9ef",
       "style": "IPY_MODEL_87b0cfc45ca04dc1a3e43a8691e447f9",
       "value": "Pressure in Pa:"
      }
     },
     "84810940dba143e0859751b91e1d782b": {
      "model_module": "@jupyter-widgets/controls",
      "model_module_version": "1.5.0",
      "model_name": "DescriptionStyleModel",
      "state": {
       "description_width": ""
      }
     },
     "84bf277f9f064e1dad211f98a3aafba3": {
      "model_module": "@jupyter-widgets/controls",
      "model_module_version": "1.5.0",
      "model_name": "FloatSliderModel",
      "state": {
       "layout": "IPY_MODEL_e433c3e50f6349649569f9411a726028",
       "max": 200,
       "min": 0.001,
       "readout": false,
       "step": 0.001,
       "style": "IPY_MODEL_eee035cedeea4e37b32e96b4e8ed2a39",
       "value": 20
      }
     },
     "84c6548fe743429282592a0f4e254a04": {
      "model_module": "@jupyter-widgets/controls",
      "model_module_version": "1.5.0",
      "model_name": "LabelModel",
      "state": {
       "layout": "IPY_MODEL_f60aca5ca6d74019abd6d9368b2ce918",
       "style": "IPY_MODEL_c263f1164281470aa5bfb699da53a258",
       "value": "Velocity in m/s:"
      }
     },
     "84f38746e4054bd1a62d8b5168dc39de": {
      "model_module": "@jupyter-widgets/controls",
      "model_module_version": "1.5.0",
      "model_name": "DescriptionStyleModel",
      "state": {
       "description_width": ""
      }
     },
     "8536197e3386441d9725ac0e5d41b26c": {
      "model_module": "@jupyter-widgets/controls",
      "model_module_version": "1.5.0",
      "model_name": "SliderStyleModel",
      "state": {
       "description_width": ""
      }
     },
     "85e1038de0d94154a4f888d08f235de4": {
      "model_module": "@jupyter-widgets/controls",
      "model_module_version": "1.5.0",
      "model_name": "VBoxModel",
      "state": {
       "children": [
        "IPY_MODEL_f0a1e1d1b129449f981fbb76994647f2",
        "IPY_MODEL_2c37d4dcc8604c488732004154ffe52a"
       ],
       "layout": "IPY_MODEL_cc260a4c10bd4ebe8799a9f4a44a4105"
      }
     },
     "85f0d2466c9f4fd796b7b51c674b61bf": {
      "model_module": "@jupyter-widgets/base",
      "model_module_version": "1.2.0",
      "model_name": "LayoutModel",
      "state": {
       "display": "flex",
       "width": "100%"
      }
     },
     "86038a89d5de4bff8da8f1c644defe0d": {
      "model_module": "@jupyter-widgets/controls",
      "model_module_version": "1.5.0",
      "model_name": "BoundedFloatTextModel",
      "state": {
       "layout": "IPY_MODEL_3112fdf806c746a9ba3f8b766fb71c62",
       "max": 200,
       "min": 0.001,
       "step": 0.001,
       "style": "IPY_MODEL_6bacd9b2009d4fbea45ea50c4f5785d4",
       "value": 20
      }
     },
     "860c4164ad2b42efad27336c547b9611": {
      "model_module": "@jupyter-widgets/base",
      "model_module_version": "1.2.0",
      "model_name": "LayoutModel",
      "state": {}
     },
     "86126f64bc354615aefcafcbd615b440": {
      "model_module": "@jupyter-widgets/base",
      "model_module_version": "1.2.0",
      "model_name": "LayoutModel",
      "state": {
       "display": "flex",
       "flex_flow": "row"
      }
     },
     "863c799d6bb94e49a398fade48d7a696": {
      "model_module": "@jupyter-widgets/base",
      "model_module_version": "1.2.0",
      "model_name": "LayoutModel",
      "state": {}
     },
     "864714c27c984323ad2085dad44c07bb": {
      "model_module": "@jupyter-widgets/controls",
      "model_module_version": "1.5.0",
      "model_name": "VBoxModel",
      "state": {
       "children": [
        "IPY_MODEL_4afa7cab1ac7473a85ba7716fa316ce0",
        "IPY_MODEL_e98e7dfec1fa4eeda3c426c4b8daff5f",
        "IPY_MODEL_f3a4b6acb1b347fca39dd0c4237a5076"
       ],
       "layout": "IPY_MODEL_a76c13413f5e42bc824ab6cae9d31f94"
      }
     },
     "866252d8c91d498086bc1bb498a7186f": {
      "model_module": "@jupyter-widgets/base",
      "model_module_version": "1.2.0",
      "model_name": "LayoutModel",
      "state": {
       "display": "flex",
       "width": "100%"
      }
     },
     "8684d9cdd6ec4f6c81db1c5e77ddf560": {
      "model_module": "@jupyter-widgets/controls",
      "model_module_version": "1.5.0",
      "model_name": "HBoxModel",
      "state": {
       "children": [
        "IPY_MODEL_27c4d05221124392b986c07ecd1e504c",
        "IPY_MODEL_f2dbb8f534c743fdbf2edd4a888eff7c",
        "IPY_MODEL_4e1c7ff0258f4688acbb46c3b3882bec"
       ],
       "layout": "IPY_MODEL_5379a4737d2f4b5c8bff45094988b928"
      }
     },
     "869638ce0c2b4dd19883a69778dae369": {
      "model_module": "@jupyter-widgets/base",
      "model_module_version": "1.2.0",
      "model_name": "LayoutModel",
      "state": {
       "display": "flex",
       "width": "100%"
      }
     },
     "86ac518c0aa04f6f806acf2453934454": {
      "model_module": "@jupyter-widgets/base",
      "model_module_version": "1.2.0",
      "model_name": "LayoutModel",
      "state": {}
     },
     "86b1585bacb0476db25edb5d37230b50": {
      "model_module": "@jupyter-widgets/controls",
      "model_module_version": "1.5.0",
      "model_name": "DescriptionStyleModel",
      "state": {
       "description_width": ""
      }
     },
     "86bb8a22136c4572b23f54106e35e202": {
      "model_module": "@jupyter-widgets/controls",
      "model_module_version": "1.5.0",
      "model_name": "DescriptionStyleModel",
      "state": {
       "description_width": ""
      }
     },
     "86d3e8d7b0f54ba2b523b3bb9aca73f6": {
      "model_module": "@jupyter-widgets/controls",
      "model_module_version": "1.5.0",
      "model_name": "DescriptionStyleModel",
      "state": {
       "description_width": ""
      }
     },
     "86dc87f355234deb90536205b2e2288a": {
      "model_module": "@jupyter-widgets/base",
      "model_module_version": "1.2.0",
      "model_name": "LayoutModel",
      "state": {}
     },
     "86e7e05334624e5c8903dd07ad77143c": {
      "model_module": "@jupyter-widgets/controls",
      "model_module_version": "1.5.0",
      "model_name": "BoundedFloatTextModel",
      "state": {
       "layout": "IPY_MODEL_964c39c2816d43d1949cd3ec911dfc81",
       "max": 200,
       "min": 0.001,
       "step": 0.001,
       "style": "IPY_MODEL_df370da16c3848069d56f6864296ff42",
       "value": 20
      }
     },
     "87257451b36448e680204791bfe3b43e": {
      "model_module": "@jupyter-widgets/controls",
      "model_module_version": "1.5.0",
      "model_name": "LabelModel",
      "state": {
       "layout": "IPY_MODEL_ec5582e5bf024c7cb1f1fa83ed3e32b5",
       "style": "IPY_MODEL_10ffa0db167948d4b8caae90fe19a941",
       "value": "Gas / Specie Mixture:"
      }
     },
     "8740658ad12b41f381d2149603732e82": {
      "model_module": "@jupyter-widgets/controls",
      "model_module_version": "1.5.0",
      "model_name": "LabelModel",
      "state": {
       "layout": "IPY_MODEL_e61b9e69014c4bc1a4b8ebb4103d856d",
       "style": "IPY_MODEL_78de021d3e074ab78a7225f218d7e178",
       "value": "Velocity in m/s:"
      }
     },
     "87922049c2d74c6392d8ff5dc22c799b": {
      "model_module": "@jupyter-widgets/controls",
      "model_module_version": "1.5.0",
      "model_name": "FloatSliderModel",
      "state": {
       "layout": "IPY_MODEL_2d7193358dd542af80ba17e640903186",
       "max": 10,
       "min": 0.001,
       "readout": false,
       "step": 0.001,
       "style": "IPY_MODEL_dd4801916d514bbf98858ff115b426c2",
       "value": 0.1
      }
     },
     "87a886cb5d4341b1808d249a2b1e8755": {
      "model_module": "@jupyter-widgets/base",
      "model_module_version": "1.2.0",
      "model_name": "LayoutModel",
      "state": {
       "display": "flex",
       "min_height": "300px",
       "width": "100%"
      }
     },
     "87b0cfc45ca04dc1a3e43a8691e447f9": {
      "model_module": "@jupyter-widgets/controls",
      "model_module_version": "1.5.0",
      "model_name": "DescriptionStyleModel",
      "state": {
       "description_width": ""
      }
     },
     "87c7247050b348109f2b2868f601ca28": {
      "model_module": "@jupyter-widgets/controls",
      "model_module_version": "1.5.0",
      "model_name": "FloatSliderModel",
      "state": {
       "layout": "IPY_MODEL_56a941c4d7a54eff894ba12673a08079",
       "max": 200,
       "min": 0.001,
       "readout": false,
       "step": 0.001,
       "style": "IPY_MODEL_3e74ef22a1cd4706bea7e148f81e2cd9",
       "value": 20
      }
     },
     "87de0670fdd94431b9cdc3fdabb94f1e": {
      "model_module": "@jupyter-widgets/controls",
      "model_module_version": "1.5.0",
      "model_name": "DescriptionStyleModel",
      "state": {
       "description_width": ""
      }
     },
     "87ece380443b48b0a5eabda8d62a5559": {
      "model_module": "@jupyter-widgets/base",
      "model_module_version": "1.2.0",
      "model_name": "LayoutModel",
      "state": {}
     },
     "87f3403c60824972a7026e81b41eab8a": {
      "model_module": "@jupyter-widgets/base",
      "model_module_version": "1.2.0",
      "model_name": "LayoutModel",
      "state": {
       "display": "flex",
       "width": "100%"
      }
     },
     "88175c752baf453d9db82625e13c7eb7": {
      "model_module": "@jupyter-widgets/controls",
      "model_module_version": "1.5.0",
      "model_name": "FloatSliderModel",
      "state": {
       "layout": "IPY_MODEL_a3537e452b314eb98dd36e4d2d99e276",
       "max": 200,
       "min": 0.001,
       "readout": false,
       "step": 0.001,
       "style": "IPY_MODEL_e25c030d62e54292a24a796bacd58f00",
       "value": 20
      }
     },
     "883bc49cec114df5954a17e912c30fb9": {
      "model_module": "@jupyter-widgets/base",
      "model_module_version": "1.2.0",
      "model_name": "LayoutModel",
      "state": {
       "flex": "1 1 auto",
       "width": "auto"
      }
     },
     "88c3bff2fbbf4eef8846f927046845a2": {
      "model_module": "@jupyter-widgets/base",
      "model_module_version": "1.2.0",
      "model_name": "LayoutModel",
      "state": {
       "display": "flex",
       "width": "100%"
      }
     },
     "88d331f8d7b74fcb96c638307c0856b3": {
      "model_module": "@jupyter-widgets/base",
      "model_module_version": "1.2.0",
      "model_name": "LayoutModel",
      "state": {}
     },
     "88f7e5824a8d488ebba2d918afdf9d3c": {
      "model_module": "@jupyter-widgets/controls",
      "model_module_version": "1.5.0",
      "model_name": "DescriptionStyleModel",
      "state": {
       "description_width": ""
      }
     },
     "890911cb2844404ea19b6ac19bf47c1b": {
      "model_module": "@jupyter-widgets/base",
      "model_module_version": "1.2.0",
      "model_name": "LayoutModel",
      "state": {}
     },
     "893fdc7971bd45e685f03cf9c1b3259a": {
      "model_module": "@jupyter-widgets/base",
      "model_module_version": "1.2.0",
      "model_name": "LayoutModel",
      "state": {
       "flex": "1 1 auto",
       "width": "auto"
      }
     },
     "8946198cffd2456abc21e8778e38a70c": {
      "model_module": "@jupyter-widgets/controls",
      "model_module_version": "1.5.0",
      "model_name": "SliderStyleModel",
      "state": {
       "description_width": ""
      }
     },
     "8964243e31654108aaa5f4a323e0b252": {
      "model_module": "@jupyter-widgets/controls",
      "model_module_version": "1.5.0",
      "model_name": "VBoxModel",
      "state": {
       "children": [
        "IPY_MODEL_1e54529f57d84166a83b1e7ed40f77b3"
       ],
       "layout": "IPY_MODEL_4d26598561ae428c87f88f4435cb8ef0"
      }
     },
     "8967665b49364a319b4dd906fed4182a": {
      "model_module": "@jupyter-widgets/base",
      "model_module_version": "1.2.0",
      "model_name": "LayoutModel",
      "state": {
       "flex": "1 1 auto",
       "width": "auto"
      }
     },
     "898dc416db43456881fcacc6fa748e55": {
      "model_module": "@jupyter-widgets/controls",
      "model_module_version": "1.5.0",
      "model_name": "HBoxModel",
      "state": {
       "children": [
        "IPY_MODEL_979f2c6922ad41c3a11ec0b220804a0d",
        "IPY_MODEL_da3c755ccfd94504940b3edf75f8ecb3",
        "IPY_MODEL_6776a3dcdd4c45a58c5496fe32c3408c"
       ],
       "layout": "IPY_MODEL_4a0d66cf55a6405f8e2e836443f587d8"
      }
     },
     "89961d5e3dce42f1802d3095d9c4f2ed": {
      "model_module": "@jupyter-widgets/base",
      "model_module_version": "1.2.0",
      "model_name": "LayoutModel",
      "state": {
       "display": "flex",
       "width": "100%"
      }
     },
     "89962a61f3af4dcbae08d119ff4c7831": {
      "model_module": "@jupyter-widgets/controls",
      "model_module_version": "1.5.0",
      "model_name": "DescriptionStyleModel",
      "state": {
       "description_width": ""
      }
     },
     "89d6491525a9437cb14d38a68ff9afeb": {
      "model_module": "@jupyter-widgets/controls",
      "model_module_version": "1.5.0",
      "model_name": "LabelModel",
      "state": {
       "layout": "IPY_MODEL_603d7982f6d945fc9389b5fd6f7d93c3",
       "style": "IPY_MODEL_cebb7acdaa8747bd864368eca69ba45b",
       "value": "Platelength in m"
      }
     },
     "89f1b86b91b845af883ce6c806ea9098": {
      "model_module": "@jupyter-widgets/controls",
      "model_module_version": "1.5.0",
      "model_name": "DescriptionStyleModel",
      "state": {
       "description_width": ""
      }
     },
     "8a97c944cd454707b6e3e77c993e3419": {
      "model_module": "@jupyter-widgets/base",
      "model_module_version": "1.2.0",
      "model_name": "LayoutModel",
      "state": {
       "display": "flex",
       "width": "100%"
      }
     },
     "8acae838add54d2a86c3c83013356f3f": {
      "model_module": "@jupyter-widgets/base",
      "model_module_version": "1.2.0",
      "model_name": "LayoutModel",
      "state": {
       "flex": "10 1 auto",
       "width": "auto"
      }
     },
     "8ae2c27b42f94cae8f469514d7bcabaf": {
      "model_module": "@jupyter-widgets/base",
      "model_module_version": "1.2.0",
      "model_name": "LayoutModel",
      "state": {
       "flex": "1 1 auto",
       "width": "auto"
      }
     },
     "8af66b74eba24a3eb517ed90b5175b3c": {
      "model_module": "@jupyter-widgets/base",
      "model_module_version": "1.2.0",
      "model_name": "LayoutModel",
      "state": {
       "flex": "1 1 auto",
       "width": "auto"
      }
     },
     "8af8f718e7f54a9287c3585595060504": {
      "model_module": "@jupyter-widgets/controls",
      "model_module_version": "1.5.0",
      "model_name": "DescriptionStyleModel",
      "state": {
       "description_width": ""
      }
     },
     "8b3946f3db2b493eaf0e444ed178824c": {
      "model_module": "@jupyter-widgets/base",
      "model_module_version": "1.2.0",
      "model_name": "LayoutModel",
      "state": {}
     },
     "8b4e3ea15f18409d96a14976714d46ec": {
      "model_module": "@jupyter-widgets/base",
      "model_module_version": "1.2.0",
      "model_name": "LayoutModel",
      "state": {}
     },
     "8b566c75cfed44af9c993e260fb26c91": {
      "model_module": "@jupyter-widgets/base",
      "model_module_version": "1.2.0",
      "model_name": "LayoutModel",
      "state": {
       "flex": "10 1 auto",
       "width": "auto"
      }
     },
     "8b5b010b4cfc448a9e3ffba827cf65af": {
      "model_module": "@jupyter-widgets/controls",
      "model_module_version": "1.5.0",
      "model_name": "DescriptionStyleModel",
      "state": {
       "description_width": ""
      }
     },
     "8b7079e832904930a995b8d1a53bb0d6": {
      "model_module": "@jupyter-widgets/controls",
      "model_module_version": "1.5.0",
      "model_name": "LabelModel",
      "state": {
       "layout": "IPY_MODEL_1f0fd0693f704f03b4ad73f5cd1485b3",
       "style": "IPY_MODEL_b44ac810894841b6b158761693840b72",
       "value": "Platelength in m"
      }
     },
     "8bb3f1f2db6d4d568f15976c51f20c45": {
      "model_module": "@jupyter-widgets/base",
      "model_module_version": "1.2.0",
      "model_name": "LayoutModel",
      "state": {
       "display": "flex",
       "width": "100%"
      }
     },
     "8bb61424b36f47d0b87f0347d090f8fc": {
      "model_module": "@jupyter-widgets/base",
      "model_module_version": "1.2.0",
      "model_name": "LayoutModel",
      "state": {}
     },
     "8bb8af4d57414af5a92b684d1f43d08c": {
      "model_module": "@jupyter-widgets/controls",
      "model_module_version": "1.5.0",
      "model_name": "DescriptionStyleModel",
      "state": {
       "description_width": ""
      }
     },
     "8c4302e6f2a24bf6a215489b2707aec4": {
      "model_module": "@jupyter-widgets/base",
      "model_module_version": "1.2.0",
      "model_name": "LayoutModel",
      "state": {
       "flex": "10 1 auto",
       "width": "auto"
      }
     },
     "8c4446c193e54c58878cec05a1285193": {
      "model_module": "@jupyter-widgets/base",
      "model_module_version": "1.2.0",
      "model_name": "LayoutModel",
      "state": {
       "display": "flex",
       "width": "100%"
      }
     },
     "8caa04f9eed5401b854ee4e255cee333": {
      "model_module": "@jupyter-widgets/controls",
      "model_module_version": "1.5.0",
      "model_name": "HBoxModel",
      "state": {
       "children": [
        "IPY_MODEL_a0af88ef6f354206a3567334769aba06",
        "IPY_MODEL_5f630a762b0a41069cb2569ae1304f0d",
        "IPY_MODEL_47baae1f11c7423f8692d880effa34a1"
       ],
       "layout": "IPY_MODEL_fe53f15a0d084dbda64531d303e15bb8"
      }
     },
     "8ccf5ef716ac40c3ba5e2741ab6428ea": {
      "model_module": "@jupyter-widgets/base",
      "model_module_version": "1.2.0",
      "model_name": "LayoutModel",
      "state": {}
     },
     "8cdbd39a49e742fa9b314299c4a53a01": {
      "model_module": "@jupyter-widgets/controls",
      "model_module_version": "1.5.0",
      "model_name": "DescriptionStyleModel",
      "state": {
       "description_width": ""
      }
     },
     "8d1cce30599048f4a0f8cd8085591902": {
      "model_module": "@jupyter-widgets/controls",
      "model_module_version": "1.5.0",
      "model_name": "FloatSliderModel",
      "state": {
       "layout": "IPY_MODEL_274a77da0c0449b4ade40c2f175eaca1",
       "max": 200,
       "min": 0.001,
       "readout": false,
       "step": 0.001,
       "style": "IPY_MODEL_22d0ea0bff274d4989ba748dd5b21d45",
       "value": 20
      }
     },
     "8d26ec2b6e804590b4c2918fb0feee99": {
      "model_module": "@jupyter-widgets/base",
      "model_module_version": "1.2.0",
      "model_name": "LayoutModel",
      "state": {
       "flex": "1 1 auto",
       "width": "auto"
      }
     },
     "8d3eb48d518045c4b721ea867b1fdca4": {
      "model_module": "@jupyter-widgets/base",
      "model_module_version": "1.2.0",
      "model_name": "LayoutModel",
      "state": {
       "display": "flex",
       "flex_flow": "row"
      }
     },
     "8d48e5c3f1264d1da30459cf438a31fd": {
      "model_module": "@jupyter-widgets/output",
      "model_module_version": "1.0.0",
      "model_name": "OutputModel",
      "state": {
       "layout": "IPY_MODEL_3ef32f0e78274ef9b57b662ac5b8b492",
       "outputs": [
        {
         "ename": "AttributeError",
         "evalue": "'numpy.ndarray' object has no attribute 'asarray'",
         "output_type": "error",
         "traceback": [
          "\u001b[0;31m\u001b[0m",
          "\u001b[0;31mAttributeError\u001b[0mTraceback (most recent call last)",
          "\u001b[0;32m<ipython-input-59-352aef4f742a>\u001b[0m in \u001b[0;36mobserver\u001b[0;34m(change)\u001b[0m\n\u001b[1;32m     33\u001b[0m \u001b[0;34m\u001b[0m\u001b[0m\n\u001b[1;32m     34\u001b[0m             \u001b[0mclear_output\u001b[0m\u001b[0;34m(\u001b[0m\u001b[0mwait\u001b[0m\u001b[0;34m=\u001b[0m\u001b[0;32mTrue\u001b[0m\u001b[0;34m)\u001b[0m\u001b[0;34m\u001b[0m\u001b[0;34m\u001b[0m\u001b[0m\n\u001b[0;32m---> 35\u001b[0;31m             \u001b[0mf\u001b[0m\u001b[0;34m(\u001b[0m\u001b[0;34m**\u001b[0m\u001b[0mkwargs\u001b[0m\u001b[0;34m)\u001b[0m\u001b[0;34m\u001b[0m\u001b[0;34m\u001b[0m\u001b[0m\n\u001b[0m\u001b[1;32m     36\u001b[0m             \u001b[0;31m#widgets.show_inline_matplotlib_plots()\u001b[0m\u001b[0;34m\u001b[0m\u001b[0;34m\u001b[0m\u001b[0;34m\u001b[0m\u001b[0m\n\u001b[1;32m     37\u001b[0m     \u001b[0;32mfor\u001b[0m \u001b[0mk\u001b[0m\u001b[0;34m,\u001b[0m\u001b[0mw\u001b[0m \u001b[0;32min\u001b[0m \u001b[0mcontrols\u001b[0m\u001b[0;34m.\u001b[0m\u001b[0mitems\u001b[0m\u001b[0;34m(\u001b[0m\u001b[0;34m)\u001b[0m\u001b[0;34m:\u001b[0m\u001b[0;34m\u001b[0m\u001b[0;34m\u001b[0m\u001b[0m\n",
          "\u001b[0;32m<ipython-input-58-bcaaa3d4e8a3>\u001b[0m in \u001b[0;36mupdate\u001b[0;34m(platelength, u, pressure, temperature, gasname)\u001b[0m\n\u001b[1;32m     31\u001b[0m         \u001b[0mfig\u001b[0m\u001b[0;34m.\u001b[0m\u001b[0mgca\u001b[0m\u001b[0;34m(\u001b[0m\u001b[0;34m)\u001b[0m\u001b[0;34m.\u001b[0m\u001b[0mset_title\u001b[0m\u001b[0;34m(\u001b[0m\u001b[0mdesc\u001b[0m\u001b[0;34m)\u001b[0m\u001b[0;34m\u001b[0m\u001b[0;34m\u001b[0m\u001b[0m\n\u001b[1;32m     32\u001b[0m         \u001b[0;32mif\u001b[0m \u001b[0;32mnot\u001b[0m \u001b[0mnp\u001b[0m\u001b[0;34m.\u001b[0m\u001b[0misnan\u001b[0m\u001b[0;34m(\u001b[0m\u001b[0mg\u001b[0m\u001b[0;34m.\u001b[0m\u001b[0mdensity\u001b[0m\u001b[0;34m)\u001b[0m\u001b[0;34m:\u001b[0m\u001b[0;34m\u001b[0m\u001b[0;34m\u001b[0m\u001b[0m\n\u001b[0;32m---> 33\u001b[0;31m             \u001b[0mbl\u001b[0m\u001b[0;34m,\u001b[0m \u001b[0mtransition\u001b[0m \u001b[0;34m=\u001b[0m \u001b[0mmomentum_boundarylayer\u001b[0m\u001b[0;34m(\u001b[0m\u001b[0mx\u001b[0m\u001b[0;34m,\u001b[0m \u001b[0mu\u001b[0m\u001b[0;34m,\u001b[0m \u001b[0mg\u001b[0m\u001b[0;34m)\u001b[0m\u001b[0;34m\u001b[0m\u001b[0;34m\u001b[0m\u001b[0m\n\u001b[0m\u001b[1;32m     34\u001b[0m             \u001b[0mtransition_bl\u001b[0m\u001b[0;34m,\u001b[0m \u001b[0m_\u001b[0m \u001b[0;34m=\u001b[0m  \u001b[0mmomentum_boundarylayer\u001b[0m\u001b[0;34m(\u001b[0m\u001b[0mtransition\u001b[0m\u001b[0;34m[\u001b[0m\u001b[0;36m0\u001b[0m\u001b[0;34m]\u001b[0m\u001b[0;34m,\u001b[0m \u001b[0mu\u001b[0m\u001b[0;34m,\u001b[0m \u001b[0mg\u001b[0m\u001b[0;34m)\u001b[0m\u001b[0;34m\u001b[0m\u001b[0;34m\u001b[0m\u001b[0m\n\u001b[1;32m     35\u001b[0m             \u001b[0mwarningtext\u001b[0m\u001b[0;34m.\u001b[0m\u001b[0mset_visible\u001b[0m\u001b[0;34m(\u001b[0m\u001b[0;32mFalse\u001b[0m\u001b[0;34m)\u001b[0m\u001b[0;34m\u001b[0m\u001b[0;34m\u001b[0m\u001b[0m\n",
          "\u001b[0;32m<ipython-input-57-4227d74054af>\u001b[0m in \u001b[0;36mmomentum_boundarylayer\u001b[0;34m(x, u, gas)\u001b[0m\n\u001b[1;32m      1\u001b[0m \u001b[0;31m#@np.vectorize\u001b[0m\u001b[0;34m\u001b[0m\u001b[0;34m\u001b[0m\u001b[0;34m\u001b[0m\u001b[0m\n\u001b[1;32m      2\u001b[0m \u001b[0;32mdef\u001b[0m \u001b[0mmomentum_boundarylayer\u001b[0m\u001b[0;34m(\u001b[0m\u001b[0mx\u001b[0m\u001b[0;34m,\u001b[0m \u001b[0mu\u001b[0m\u001b[0;34m,\u001b[0m \u001b[0mgas\u001b[0m\u001b[0;34m)\u001b[0m\u001b[0;34m:\u001b[0m\u001b[0;34m\u001b[0m\u001b[0;34m\u001b[0m\u001b[0m\n\u001b[0;32m----> 3\u001b[0;31m     \u001b[0mx\u001b[0m \u001b[0;34m=\u001b[0m \u001b[0mx\u001b[0m\u001b[0;34m.\u001b[0m\u001b[0masarray\u001b[0m\u001b[0;34m(\u001b[0m\u001b[0;34m)\u001b[0m\u001b[0;34m\u001b[0m\u001b[0;34m\u001b[0m\u001b[0m\n\u001b[0m\u001b[1;32m      4\u001b[0m     \u001b[0;32mif\u001b[0m \u001b[0mx\u001b[0m\u001b[0;34m.\u001b[0m\u001b[0mndim\u001b[0m \u001b[0;34m==\u001b[0m \u001b[0;36m0\u001b[0m\u001b[0;34m:\u001b[0m\u001b[0;34m\u001b[0m\u001b[0;34m\u001b[0m\u001b[0m\n\u001b[1;32m      5\u001b[0m         \u001b[0mx\u001b[0m \u001b[0;34m=\u001b[0m \u001b[0mx\u001b[0m\u001b[0;34m[\u001b[0m\u001b[0mnp\u001b[0m\u001b[0;34m.\u001b[0m\u001b[0mnewaxis\u001b[0m\u001b[0;34m]\u001b[0m\u001b[0;34m\u001b[0m\u001b[0;34m\u001b[0m\u001b[0m\n",
          "\u001b[0;31mAttributeError\u001b[0m: 'numpy.ndarray' object has no attribute 'asarray'"
         ]
        }
       ]
      }
     },
     "8dbe384ee34648ff829648b43f724511": {
      "model_module": "@jupyter-widgets/controls",
      "model_module_version": "1.5.0",
      "model_name": "SliderStyleModel",
      "state": {
       "description_width": ""
      }
     },
     "8deb4ba4bee049f9a93651f47dcec886": {
      "model_module": "@jupyter-widgets/controls",
      "model_module_version": "1.5.0",
      "model_name": "SliderStyleModel",
      "state": {
       "description_width": ""
      }
     },
     "8df67fcd0a0b453289d72c15309744d4": {
      "model_module": "@jupyter-widgets/base",
      "model_module_version": "1.2.0",
      "model_name": "LayoutModel",
      "state": {
       "flex": "1 1 auto",
       "width": "auto"
      }
     },
     "8e0960830c314d16a78e9ae526e6f7ba": {
      "model_module": "@jupyter-widgets/controls",
      "model_module_version": "1.5.0",
      "model_name": "FloatSliderModel",
      "state": {
       "layout": "IPY_MODEL_2c0f93e275d34cf5b499ba98bfa98e5d",
       "max": 55,
       "min": -30,
       "readout": false,
       "style": "IPY_MODEL_f89a89f543f44e86954bb1114c4241ac",
       "value": 20
      }
     },
     "8e42f8840fbe440c93a0faf217e3a722": {
      "model_module": "@jupyter-widgets/base",
      "model_module_version": "1.2.0",
      "model_name": "LayoutModel",
      "state": {
       "flex": "1 1 auto",
       "width": "auto"
      }
     },
     "8e74ce267bc3495eb98a3d430388cc99": {
      "model_module": "@jupyter-widgets/controls",
      "model_module_version": "1.5.0",
      "model_name": "SliderStyleModel",
      "state": {
       "description_width": ""
      }
     },
     "8ededc9fabef4a7b9fe0c2b2b77b11b6": {
      "model_module": "@jupyter-widgets/base",
      "model_module_version": "1.2.0",
      "model_name": "LayoutModel",
      "state": {}
     },
     "8f1b72f7fc81444498d7e84c52d89199": {
      "model_module": "@jupyter-widgets/controls",
      "model_module_version": "1.5.0",
      "model_name": "FloatSliderModel",
      "state": {
       "layout": "IPY_MODEL_513498e7d3c74ef498ae7751b9a0fc66",
       "max": 10,
       "min": 0.001,
       "readout": false,
       "step": 0.001,
       "style": "IPY_MODEL_00ed5241b0ed4ff3af61ec1302e6a3a3",
       "value": 0.1
      }
     },
     "8f20426477234e7b807604ed4d1d9b68": {
      "model_module": "@jupyter-widgets/base",
      "model_module_version": "1.2.0",
      "model_name": "LayoutModel",
      "state": {
       "display": "flex",
       "width": "100%"
      }
     },
     "8f34aa1d3d74469fa23ab351ee2b9c06": {
      "model_module": "@jupyter-widgets/base",
      "model_module_version": "1.2.0",
      "model_name": "LayoutModel",
      "state": {
       "flex": "1 1 auto",
       "width": "auto"
      }
     },
     "8f7795940282401da8c1de1a52cce70f": {
      "model_module": "@jupyter-widgets/base",
      "model_module_version": "1.2.0",
      "model_name": "LayoutModel",
      "state": {
       "flex": "10 1 auto",
       "width": "auto"
      }
     },
     "8fe51a2090ea4587a58330a3773774b6": {
      "model_module": "@jupyter-widgets/base",
      "model_module_version": "1.2.0",
      "model_name": "LayoutModel",
      "state": {}
     },
     "8ffb0fb1e5ed49918e7ea331f64e9386": {
      "model_module": "@jupyter-widgets/base",
      "model_module_version": "1.2.0",
      "model_name": "LayoutModel",
      "state": {
       "flex": "1 1 auto",
       "width": "auto"
      }
     },
     "90b8187cacb6455885c65dee7e0bacf8": {
      "model_module": "@jupyter-widgets/controls",
      "model_module_version": "1.5.0",
      "model_name": "HBoxModel",
      "state": {
       "children": [
        "IPY_MODEL_425fdfad8c954caabd3e73cefa07e789",
        "IPY_MODEL_a13d2c275ada49d987665d4b2aa8bb3f"
       ],
       "layout": "IPY_MODEL_ce7e21ef2db34b589212556c1c6a705c"
      }
     },
     "90bca8d5b2694a0d812a0c6fab701042": {
      "model_module": "@jupyter-widgets/base",
      "model_module_version": "1.2.0",
      "model_name": "LayoutModel",
      "state": {}
     },
     "910eab7b84b642faaef4ae283e9447c1": {
      "model_module": "@jupyter-widgets/base",
      "model_module_version": "1.2.0",
      "model_name": "LayoutModel",
      "state": {
       "flex": "1 1 auto",
       "width": "auto"
      }
     },
     "91488209c02d4c4686e0a510f5b71a9d": {
      "model_module": "@jupyter-widgets/controls",
      "model_module_version": "1.5.0",
      "model_name": "DescriptionStyleModel",
      "state": {
       "description_width": ""
      }
     },
     "91a159a5c3974f499ebe2485339509f6": {
      "model_module": "@jupyter-widgets/base",
      "model_module_version": "1.2.0",
      "model_name": "LayoutModel",
      "state": {
       "display": "flex",
       "flex_flow": "row"
      }
     },
     "91a2287acbc94c358e02db2983478fb8": {
      "model_module": "@jupyter-widgets/base",
      "model_module_version": "1.2.0",
      "model_name": "LayoutModel",
      "state": {}
     },
     "91a64255657748e69bb0a1a9c35ad0a8": {
      "model_module": "@jupyter-widgets/controls",
      "model_module_version": "1.5.0",
      "model_name": "BoundedFloatTextModel",
      "state": {
       "layout": "IPY_MODEL_39b1b59e56404a88a69a892833c3ab3a",
       "max": 15000000,
       "min": 1,
       "step": 100000,
       "style": "IPY_MODEL_f6cfc5770e4b4c10b21d9ec154debfdd",
       "value": 101325
      }
     },
     "91cec29efb4540d59bcc6f0dd7e6e999": {
      "model_module": "@jupyter-widgets/base",
      "model_module_version": "1.2.0",
      "model_name": "LayoutModel",
      "state": {}
     },
     "91d6968cb35240709b7d64be64b6e5a1": {
      "model_module": "@jupyter-widgets/controls",
      "model_module_version": "1.5.0",
      "model_name": "DescriptionStyleModel",
      "state": {
       "description_width": ""
      }
     },
     "91e9e8673cb345cd824d1f37a70a682b": {
      "model_module": "@jupyter-widgets/base",
      "model_module_version": "1.2.0",
      "model_name": "LayoutModel",
      "state": {
       "flex": "1 1 auto",
       "width": "auto"
      }
     },
     "9236db682abb4b9b98c0e794e19f3d8d": {
      "model_module": "@jupyter-widgets/base",
      "model_module_version": "1.2.0",
      "model_name": "LayoutModel",
      "state": {
       "flex": "10 1 auto",
       "width": "auto"
      }
     },
     "923a2903ea1e406992d5c65fdacdef65": {
      "model_module": "@jupyter-widgets/controls",
      "model_module_version": "1.5.0",
      "model_name": "HBoxModel",
      "state": {
       "children": [
        "IPY_MODEL_4f2dfb89e6d84ad2981d4db8670749f8",
        "IPY_MODEL_1f9045dfb09d4302a44e5fc61892b50f",
        "IPY_MODEL_facd174b3a854b41a53284836f73c425"
       ],
       "layout": "IPY_MODEL_e207d6d8ed00461abcedde0f7d7f725b"
      }
     },
     "923f0bc00b4440cebec3bf4fd829d641": {
      "model_module": "@jupyter-widgets/base",
      "model_module_version": "1.2.0",
      "model_name": "LayoutModel",
      "state": {
       "flex": "1 1 auto",
       "width": "auto"
      }
     },
     "9243590dbdab461abe24f57bee8432d5": {
      "model_module": "@jupyter-widgets/base",
      "model_module_version": "1.2.0",
      "model_name": "LayoutModel",
      "state": {}
     },
     "925689bf100647d596eeedd8ab093846": {
      "model_module": "@jupyter-widgets/controls",
      "model_module_version": "1.5.0",
      "model_name": "DescriptionStyleModel",
      "state": {
       "description_width": ""
      }
     },
     "9258ab74794f4770a939f42f43f4d0f8": {
      "model_module": "@jupyter-widgets/controls",
      "model_module_version": "1.5.0",
      "model_name": "BoundedFloatTextModel",
      "state": {
       "layout": "IPY_MODEL_91e9e8673cb345cd824d1f37a70a682b",
       "max": 15000000,
       "min": 1,
       "step": 100000,
       "style": "IPY_MODEL_6f74970b0060474aa70c3c0e8cd7fbb7",
       "value": 101325
      }
     },
     "92951d87be5b403e985504f99fe567a0": {
      "model_module": "@jupyter-widgets/base",
      "model_module_version": "1.2.0",
      "model_name": "LayoutModel",
      "state": {
       "flex": "10 1 auto",
       "width": "auto"
      }
     },
     "92a332e79331460e820d0463907e4793": {
      "model_module": "@jupyter-widgets/controls",
      "model_module_version": "1.5.0",
      "model_name": "DescriptionStyleModel",
      "state": {
       "description_width": ""
      }
     },
     "92b4d78f172a41818ad5d0e856709d66": {
      "model_module": "@jupyter-widgets/controls",
      "model_module_version": "1.5.0",
      "model_name": "DropdownModel",
      "state": {
       "_options_labels": [
        "1-Butene",
        "Acetone",
        "Air",
        "Ammonia",
        "Argon",
        "Benzene",
        "CarbonDioxide",
        "CarbonMonoxide",
        "CarbonylSulfide",
        "CycloHexane",
        "CycloPropane",
        "Cyclopentane",
        "D4",
        "D5",
        "D6",
        "Deuterium",
        "Dichloroethane",
        "DiethylEther",
        "DimethylCarbonate",
        "DimethylEther",
        "Ethane",
        "Ethanol",
        "EthylBenzene",
        "Ethylene",
        "EthyleneOxide",
        "Fluorine",
        "HFE143m",
        "HeavyWater",
        "Helium",
        "Hydrogen",
        "HydrogenChloride",
        "HydrogenSulfide",
        "IsoButane",
        "IsoButene",
        "Isohexane",
        "Isopentane",
        "Krypton",
        "MD2M",
        "MD3M",
        "MD4M",
        "MDM",
        "MM",
        "Methane",
        "Methanol",
        "MethylLinoleate",
        "MethylLinolenate",
        "MethylOleate",
        "MethylPalmitate",
        "MethylStearate",
        "Neon",
        "Neopentane",
        "Nitrogen",
        "NitrousOxide",
        "Novec649",
        "OrthoDeuterium",
        "OrthoHydrogen",
        "Oxygen",
        "ParaDeuterium",
        "ParaHydrogen",
        "Propylene",
        "Propyne",
        "R11",
        "R113",
        "R114",
        "R115",
        "R116",
        "R12",
        "R123",
        "R1233zd(E)",
        "R1234yf",
        "R1234ze(E)",
        "R1234ze(Z)",
        "R124",
        "R1243zf",
        "R125",
        "R13",
        "R134a",
        "R13I1",
        "R14",
        "R141b",
        "R142b",
        "R143a",
        "R152A",
        "R161",
        "R21",
        "R218",
        "R22",
        "R227EA",
        "R23",
        "R236EA",
        "R236FA",
        "R245ca",
        "R245fa",
        "R32",
        "R365MFC",
        "R40",
        "R404A",
        "R407C",
        "R41",
        "R410A",
        "R507A",
        "RC318",
        "SES36",
        "SulfurDioxide",
        "SulfurHexafluoride",
        "Toluene",
        "Water",
        "Xenon",
        "cis-2-Butene",
        "m-Xylene",
        "n-Butane",
        "n-Decane",
        "n-Dodecane",
        "n-Heptane",
        "n-Hexane",
        "n-Nonane",
        "n-Octane",
        "n-Pentane",
        "n-Propane",
        "n-Undecane",
        "o-Xylene",
        "p-Xylene",
        "trans-2-Butene"
       ],
       "index": 2,
       "layout": "IPY_MODEL_6106d3c8db114bd5975d5c6c97f28c89",
       "style": "IPY_MODEL_a11f2283b36c410db49b46c0c1b471b1"
      }
     },
     "92dd6f49ac1f47349fdb34dc8226e74a": {
      "model_module": "@jupyter-widgets/controls",
      "model_module_version": "1.5.0",
      "model_name": "SliderStyleModel",
      "state": {
       "description_width": ""
      }
     },
     "92e48ffc1d8e4b60b4392289179f72e3": {
      "model_module": "@jupyter-widgets/base",
      "model_module_version": "1.2.0",
      "model_name": "LayoutModel",
      "state": {
       "display": "flex",
       "flex_flow": "row"
      }
     },
     "92f7e56cb4414180acaf74b1103e52de": {
      "model_module": "@jupyter-widgets/base",
      "model_module_version": "1.2.0",
      "model_name": "LayoutModel",
      "state": {}
     },
     "930fb0fa373f497fb4b5e4d286599c9f": {
      "model_module": "@jupyter-widgets/base",
      "model_module_version": "1.2.0",
      "model_name": "LayoutModel",
      "state": {
       "flex": "1 1 auto",
       "width": "auto"
      }
     },
     "931ddd8ef9f54784821d7b9644e2e456": {
      "model_module": "@jupyter-widgets/output",
      "model_module_version": "1.0.0",
      "model_name": "OutputModel",
      "state": {
       "layout": "IPY_MODEL_33bf8eb67718469f8b82fcd277fda3eb"
      }
     },
     "9367da7fffdf40bc9ae1239b3203c85e": {
      "model_module": "@jupyter-widgets/controls",
      "model_module_version": "1.5.0",
      "model_name": "HBoxModel",
      "state": {
       "children": [
        "IPY_MODEL_0b96324282a5426cbca0760c01688f06",
        "IPY_MODEL_16fbd9011e6e483e87b9bb82b55ec54d",
        "IPY_MODEL_4350ca30d9384acaa46f63e0d4de6333"
       ],
       "layout": "IPY_MODEL_d8f218422b214394a5a75748bcb63a20"
      }
     },
     "93771026a04642819c60fe9594d8065c": {
      "model_module": "@jupyter-widgets/base",
      "model_module_version": "1.2.0",
      "model_name": "LayoutModel",
      "state": {
       "display": "flex",
       "flex_flow": "row"
      }
     },
     "93d7ea8d20784ca0a8db7abf7e66e7d1": {
      "model_module": "@jupyter-widgets/base",
      "model_module_version": "1.2.0",
      "model_name": "LayoutModel",
      "state": {
       "flex": "1 1 auto",
       "width": "auto"
      }
     },
     "940cd83e9f7a49f98fc7900ac45bccc8": {
      "model_module": "@jupyter-widgets/controls",
      "model_module_version": "1.5.0",
      "model_name": "BoundedFloatTextModel",
      "state": {
       "layout": "IPY_MODEL_e977c0e5b3104c0aab3fa9c58f6a4c3c",
       "max": 55,
       "min": -30,
       "step": 1,
       "style": "IPY_MODEL_1a8cd244e52f41548e48f364a209f4a6",
       "value": 20
      }
     },
     "944783260bd9469f835c8ab222f3c1c6": {
      "model_module": "@jupyter-widgets/base",
      "model_module_version": "1.2.0",
      "model_name": "LayoutModel",
      "state": {}
     },
     "94711cdc5f1845e4b4e67ab3d4b8e150": {
      "model_module": "@jupyter-widgets/controls",
      "model_module_version": "1.5.0",
      "model_name": "HBoxModel",
      "state": {
       "children": [
        "IPY_MODEL_4d8699f3c1f64151a06583277055e63f",
        "IPY_MODEL_d2f1f749e4b44fd199831ae02ce9800e"
       ],
       "layout": "IPY_MODEL_54137fa0705a4b2a8fc2da13ff722116"
      }
     },
     "948df7268f70401b85474d0248b94982": {
      "model_module": "@jupyter-widgets/controls",
      "model_module_version": "1.5.0",
      "model_name": "AccordionModel",
      "state": {
       "_titles": {
        "0": "Thermodynamic State",
        "1": "Flat Plate"
       },
       "children": [
        "IPY_MODEL_18b241c6756f48e0815717b5cf0dd48f",
        "IPY_MODEL_a3eb5907e6d9402ab166f64996e79f4d"
       ],
       "layout": "IPY_MODEL_80673f31f3c44fa3b05d9cf187d78792"
      }
     },
     "94b98d285e8d44a3a55e060f4f362e97": {
      "model_module": "@jupyter-widgets/base",
      "model_module_version": "1.2.0",
      "model_name": "LayoutModel",
      "state": {
       "flex": "10 1 auto",
       "width": "auto"
      }
     },
     "9525c660484f4f5da7237cda56f9cc81": {
      "model_module": "@jupyter-widgets/controls",
      "model_module_version": "1.5.0",
      "model_name": "BoundedFloatTextModel",
      "state": {
       "layout": "IPY_MODEL_32fa92ea075f4cc3895a63354487fd55",
       "max": 200,
       "min": 0.001,
       "step": 0.001,
       "style": "IPY_MODEL_efd67a850e9a43dea3f6fd2856a36af3",
       "value": 20
      }
     },
     "9557fae34a3340dc9f36a679c72fe7cc": {
      "model_module": "@jupyter-widgets/base",
      "model_module_version": "1.2.0",
      "model_name": "LayoutModel",
      "state": {}
     },
     "955ed21541ee4c169e9fd15bb139eaf9": {
      "model_module": "@jupyter-widgets/controls",
      "model_module_version": "1.5.0",
      "model_name": "FloatSliderModel",
      "state": {
       "layout": "IPY_MODEL_5052cf6b0e044d0ab39fe725ec9bb995",
       "max": 200,
       "min": 0.001,
       "readout": false,
       "step": 0.001,
       "style": "IPY_MODEL_a2e7fc93a8fb4530b9b723c1c982162c",
       "value": 20
      }
     },
     "95b7f43446644fd497e6005da62adef8": {
      "model_module": "@jupyter-widgets/base",
      "model_module_version": "1.2.0",
      "model_name": "LayoutModel",
      "state": {
       "display": "flex",
       "width": "100%"
      }
     },
     "95d5578fdf474bde9ca12be2a628c81d": {
      "model_module": "@jupyter-widgets/controls",
      "model_module_version": "1.5.0",
      "model_name": "SliderStyleModel",
      "state": {
       "description_width": ""
      }
     },
     "962c2f952bac459297fc9fb1a9ebad95": {
      "model_module": "@jupyter-widgets/controls",
      "model_module_version": "1.5.0",
      "model_name": "SliderStyleModel",
      "state": {
       "description_width": ""
      }
     },
     "964c39c2816d43d1949cd3ec911dfc81": {
      "model_module": "@jupyter-widgets/base",
      "model_module_version": "1.2.0",
      "model_name": "LayoutModel",
      "state": {
       "flex": "1 1 auto",
       "width": "auto"
      }
     },
     "96600d35e1fe4f55b1e9bac85223c5e0": {
      "model_module": "@jupyter-widgets/base",
      "model_module_version": "1.2.0",
      "model_name": "LayoutModel",
      "state": {
       "flex": "1 1 auto",
       "width": "auto"
      }
     },
     "967eb9ea8bb746d8b184dd3ee4ff7802": {
      "model_module": "@jupyter-widgets/controls",
      "model_module_version": "1.5.0",
      "model_name": "VBoxModel",
      "state": {
       "children": [
        "IPY_MODEL_f996b71a187b4b948bdb48aee2206a68",
        "IPY_MODEL_ec5ea047025944b887adc74f1dac832b",
        "IPY_MODEL_a1bbb237542d49378ac2adf05d01ea05"
       ],
       "layout": "IPY_MODEL_6227ea764e3a415ebb9181d3b509ac5e"
      }
     },
     "96c3b9661dd545029b294dd3528ca7e0": {
      "model_module": "@jupyter-widgets/controls",
      "model_module_version": "1.5.0",
      "model_name": "AccordionModel",
      "state": {
       "_titles": {
        "0": "Thermodynamic State",
        "1": "Flat Plate"
       },
       "children": [
        "IPY_MODEL_54bdbe01bb874d748d0978681a5b134e",
        "IPY_MODEL_0c35ec5faf8942fcb349c421c2c22a5b"
       ],
       "layout": "IPY_MODEL_02bd85daecb74d11ad31f16cc0981bb2"
      }
     },
     "96eb74f10a3246c592b7b82a0cdd89f1": {
      "model_module": "@jupyter-widgets/base",
      "model_module_version": "1.2.0",
      "model_name": "LayoutModel",
      "state": {
       "flex": "1 1 auto",
       "width": "auto"
      }
     },
     "970b7fc1c05043f1bae0a0dc142ffb71": {
      "model_module": "@jupyter-widgets/base",
      "model_module_version": "1.2.0",
      "model_name": "LayoutModel",
      "state": {
       "display": "flex",
       "width": "100%"
      }
     },
     "970f1e6085fe45d4b66c7c019f5399b6": {
      "model_module": "@jupyter-widgets/controls",
      "model_module_version": "1.5.0",
      "model_name": "BoundedFloatTextModel",
      "state": {
       "layout": "IPY_MODEL_96600d35e1fe4f55b1e9bac85223c5e0",
       "max": 200,
       "min": 0.001,
       "step": 0.001,
       "style": "IPY_MODEL_b9cc1ee43b7e497b922095239a7b4b0c",
       "value": 20
      }
     },
     "97263dcea2d24d98975272bea0abfc2c": {
      "model_module": "@jupyter-widgets/base",
      "model_module_version": "1.2.0",
      "model_name": "LayoutModel",
      "state": {}
     },
     "9754402a63e4424b93d134e769637d60": {
      "model_module": "@jupyter-widgets/base",
      "model_module_version": "1.2.0",
      "model_name": "LayoutModel",
      "state": {}
     },
     "979f2c6922ad41c3a11ec0b220804a0d": {
      "model_module": "@jupyter-widgets/controls",
      "model_module_version": "1.5.0",
      "model_name": "LabelModel",
      "state": {
       "layout": "IPY_MODEL_8ffb0fb1e5ed49918e7ea331f64e9386",
       "style": "IPY_MODEL_1073a4dc93b04852bd8634fb4ddfea20",
       "value": "Temperature in °C:"
      }
     },
     "98145e1b45024db3a90fc65e4ca98b75": {
      "model_module": "@jupyter-widgets/base",
      "model_module_version": "1.2.0",
      "model_name": "LayoutModel",
      "state": {
       "display": "flex",
       "width": "100%"
      }
     },
     "981acb413b394217a725aaee52eba78c": {
      "model_module": "@jupyter-widgets/base",
      "model_module_version": "1.2.0",
      "model_name": "LayoutModel",
      "state": {
       "flex": "1 1 auto",
       "width": "auto"
      }
     },
     "986905e6a273464f8439c27db55c46e8": {
      "model_module": "@jupyter-widgets/controls",
      "model_module_version": "1.5.0",
      "model_name": "DropdownModel",
      "state": {
       "_options_labels": [
        "1-Butene",
        "Acetone",
        "Air",
        "Ammonia",
        "Argon",
        "Benzene",
        "CarbonDioxide",
        "CarbonMonoxide",
        "CarbonylSulfide",
        "CycloHexane",
        "CycloPropane",
        "Cyclopentane",
        "D4",
        "D5",
        "D6",
        "Deuterium",
        "Dichloroethane",
        "DiethylEther",
        "DimethylCarbonate",
        "DimethylEther",
        "Ethane",
        "Ethanol",
        "EthylBenzene",
        "Ethylene",
        "EthyleneOxide",
        "Fluorine",
        "HFE143m",
        "HeavyWater",
        "Helium",
        "Hydrogen",
        "HydrogenChloride",
        "HydrogenSulfide",
        "IsoButane",
        "IsoButene",
        "Isohexane",
        "Isopentane",
        "Krypton",
        "MD2M",
        "MD3M",
        "MD4M",
        "MDM",
        "MM",
        "Methane",
        "Methanol",
        "MethylLinoleate",
        "MethylLinolenate",
        "MethylOleate",
        "MethylPalmitate",
        "MethylStearate",
        "Neon",
        "Neopentane",
        "Nitrogen",
        "NitrousOxide",
        "Novec649",
        "OrthoDeuterium",
        "OrthoHydrogen",
        "Oxygen",
        "ParaDeuterium",
        "ParaHydrogen",
        "Propylene",
        "Propyne",
        "R11",
        "R113",
        "R114",
        "R115",
        "R116",
        "R12",
        "R123",
        "R1233zd(E)",
        "R1234yf",
        "R1234ze(E)",
        "R1234ze(Z)",
        "R124",
        "R1243zf",
        "R125",
        "R13",
        "R134a",
        "R13I1",
        "R14",
        "R141b",
        "R142b",
        "R143a",
        "R152A",
        "R161",
        "R21",
        "R218",
        "R22",
        "R227EA",
        "R23",
        "R236EA",
        "R236FA",
        "R245ca",
        "R245fa",
        "R32",
        "R365MFC",
        "R40",
        "R404A",
        "R407C",
        "R41",
        "R410A",
        "R507A",
        "RC318",
        "SES36",
        "SulfurDioxide",
        "SulfurHexafluoride",
        "Toluene",
        "Water",
        "Xenon",
        "cis-2-Butene",
        "m-Xylene",
        "n-Butane",
        "n-Decane",
        "n-Dodecane",
        "n-Heptane",
        "n-Hexane",
        "n-Nonane",
        "n-Octane",
        "n-Pentane",
        "n-Propane",
        "n-Undecane",
        "o-Xylene",
        "p-Xylene",
        "trans-2-Butene"
       ],
       "index": 2,
       "layout": "IPY_MODEL_b36aa2380279475dadb6d698712b2b28",
       "style": "IPY_MODEL_b47c90d7c95c49cb857ccea59f487d1d"
      }
     },
     "98f4b6a10d7740869d7063abcd17f4db": {
      "model_module": "@jupyter-widgets/controls",
      "model_module_version": "1.5.0",
      "model_name": "FloatSliderModel",
      "state": {
       "layout": "IPY_MODEL_8c4302e6f2a24bf6a215489b2707aec4",
       "max": 200,
       "min": 0.001,
       "readout": false,
       "step": 0.001,
       "style": "IPY_MODEL_2afb97dcc1f047728789a632d05b5df4",
       "value": 20
      }
     },
     "98f98c6a499a4a4fa34e58329627d6ab": {
      "model_module": "@jupyter-widgets/controls",
      "model_module_version": "1.5.0",
      "model_name": "FloatSliderModel",
      "state": {
       "layout": "IPY_MODEL_bd44ecb6873549a99c8f6a61294740bb",
       "max": 10,
       "min": 0.001,
       "readout": false,
       "step": 0.001,
       "style": "IPY_MODEL_c49f496f2f8245fbaee915bf9eb532d9",
       "value": 0.1
      }
     },
     "9964c6a86084425383332959eb4b5e0e": {
      "model_module": "@jupyter-widgets/base",
      "model_module_version": "1.2.0",
      "model_name": "LayoutModel",
      "state": {
       "flex": "10 1 auto",
       "width": "auto"
      }
     },
     "99686beef82a486198c871c1e49dea79": {
      "model_module": "@jupyter-widgets/base",
      "model_module_version": "1.2.0",
      "model_name": "LayoutModel",
      "state": {
       "flex": "1 1 auto",
       "width": "auto"
      }
     },
     "997062603f9b45eb9b6c3fac7761af36": {
      "model_module": "@jupyter-widgets/base",
      "model_module_version": "1.2.0",
      "model_name": "LayoutModel",
      "state": {
       "flex": "1 1 auto",
       "width": "auto"
      }
     },
     "9a0b94cc2e3c4c91959e47435749edef": {
      "model_module": "@jupyter-widgets/base",
      "model_module_version": "1.2.0",
      "model_name": "LayoutModel",
      "state": {
       "display": "flex",
       "flex_flow": "row"
      }
     },
     "9a38d2936a9141e0be03c6bae1d285d5": {
      "model_module": "@jupyter-widgets/base",
      "model_module_version": "1.2.0",
      "model_name": "LayoutModel",
      "state": {
       "flex": "1 1 auto",
       "width": "auto"
      }
     },
     "9a3c93525dd545858a622f3e50cbdff2": {
      "model_module": "@jupyter-widgets/base",
      "model_module_version": "1.2.0",
      "model_name": "LayoutModel",
      "state": {
       "flex": "1 1 auto",
       "width": "auto"
      }
     },
     "9a42f8ff09c2449ebc450fcf9f234e92": {
      "model_module": "@jupyter-widgets/controls",
      "model_module_version": "1.5.0",
      "model_name": "FloatSliderModel",
      "state": {
       "layout": "IPY_MODEL_d766f668d5ae43fab17881a9f4f006e6",
       "max": 10,
       "min": 0.001,
       "readout": false,
       "step": 0.001,
       "style": "IPY_MODEL_f1b003b8ca254d80bb991a2e889226f0",
       "value": 0.1
      }
     },
     "9a817ea97c224b89a313251d599bc9ef": {
      "model_module": "@jupyter-widgets/base",
      "model_module_version": "1.2.0",
      "model_name": "LayoutModel",
      "state": {
       "flex": "1 1 auto",
       "width": "auto"
      }
     },
     "9ac0301f35b946f286b7897204d68ca3": {
      "model_module": "@jupyter-widgets/controls",
      "model_module_version": "1.5.0",
      "model_name": "LabelModel",
      "state": {
       "layout": "IPY_MODEL_0071ac99dfa446e1a838ab756b9dc317",
       "style": "IPY_MODEL_430140ae6fe24a0cafbe7eab008f8fb6",
       "value": "Gas / Specie Mixture:"
      }
     },
     "9b8e56dbec28437c93e5288d170a0fee": {
      "model_module": "@jupyter-widgets/controls",
      "model_module_version": "1.5.0",
      "model_name": "HBoxModel",
      "state": {
       "children": [
        "IPY_MODEL_a5d4c0501dba48af9738bf1e7d58d9fd",
        "IPY_MODEL_a5453503290443ee9e04902024e78c9d",
        "IPY_MODEL_383f8ce118c54a3bbf7dda77589d622e"
       ],
       "layout": "IPY_MODEL_316da4425b274984bfb98e53af1b1467"
      }
     },
     "9ba2b9ca28ac41d4927d58c338d9841c": {
      "model_module": "@jupyter-widgets/base",
      "model_module_version": "1.2.0",
      "model_name": "LayoutModel",
      "state": {
       "flex": "1 1 auto",
       "width": "auto"
      }
     },
     "9ba7c1bcc1d146ddaf66a776e425ea19": {
      "model_module": "@jupyter-widgets/base",
      "model_module_version": "1.2.0",
      "model_name": "LayoutModel",
      "state": {
       "flex": "1 1 auto",
       "width": "auto"
      }
     },
     "9bb4d5f381814b36b51eebc7d19d40bb": {
      "model_module": "@jupyter-widgets/controls",
      "model_module_version": "1.5.0",
      "model_name": "BoundedFloatTextModel",
      "state": {
       "layout": "IPY_MODEL_1053b9b664034110beea1562f55cf1f2",
       "max": 200,
       "min": 0.001,
       "step": 0.001,
       "style": "IPY_MODEL_bb7bdfbd12244dc580e577716d1cf6d5",
       "value": 20
      }
     },
     "9bf22d62f6e949dcab18a0a488d5895a": {
      "model_module": "@jupyter-widgets/base",
      "model_module_version": "1.2.0",
      "model_name": "LayoutModel",
      "state": {
       "display": "flex",
       "min_height": "300px",
       "width": "100%"
      }
     },
     "9c1e088404b54c54a56ec49106dbf609": {
      "model_module": "@jupyter-widgets/base",
      "model_module_version": "1.2.0",
      "model_name": "LayoutModel",
      "state": {
       "display": "flex",
       "width": "100%"
      }
     },
     "9c1e9782bda04c409eb360dbe8786a54": {
      "model_module": "@jupyter-widgets/base",
      "model_module_version": "1.2.0",
      "model_name": "LayoutModel",
      "state": {
       "flex": "1 1 auto",
       "width": "auto"
      }
     },
     "9c5d35b3b6c34b6bb529f919be0e584d": {
      "model_module": "@jupyter-widgets/base",
      "model_module_version": "1.2.0",
      "model_name": "LayoutModel",
      "state": {
       "display": "flex",
       "width": "100%"
      }
     },
     "9c7ceee92e0d4ae997957336501035fb": {
      "model_module": "@jupyter-widgets/base",
      "model_module_version": "1.2.0",
      "model_name": "LayoutModel",
      "state": {
       "flex": "1 1 auto",
       "width": "auto"
      }
     },
     "9cac685d5870421e8904e7de3368293b": {
      "model_module": "@jupyter-widgets/base",
      "model_module_version": "1.2.0",
      "model_name": "LayoutModel",
      "state": {
       "flex": "1 1 auto",
       "width": "auto"
      }
     },
     "9cccc939c86f461b8242c0aa74043326": {
      "model_module": "@jupyter-widgets/base",
      "model_module_version": "1.2.0",
      "model_name": "LayoutModel",
      "state": {
       "flex": "1 1 auto",
       "width": "auto"
      }
     },
     "9ce887f7724242aa964e350911af4241": {
      "model_module": "@jupyter-widgets/base",
      "model_module_version": "1.2.0",
      "model_name": "LayoutModel",
      "state": {}
     },
     "9d13b4e9cd12465b826a89686bbf6467": {
      "model_module": "@jupyter-widgets/controls",
      "model_module_version": "1.5.0",
      "model_name": "DescriptionStyleModel",
      "state": {
       "description_width": ""
      }
     },
     "9d538bbdf8d74114b48d86ce243ef406": {
      "model_module": "@jupyter-widgets/controls",
      "model_module_version": "1.5.0",
      "model_name": "BoundedFloatTextModel",
      "state": {
       "layout": "IPY_MODEL_2ad9d8bcd96c4dd0a1f4f281bcd0050e",
       "max": 200,
       "min": 0.001,
       "step": 0.001,
       "style": "IPY_MODEL_c8bc2c49772a42249e670d8e367e2383",
       "value": 20
      }
     },
     "9d752aaa11d047d9802b10abcc6f0013": {
      "model_module": "@jupyter-widgets/base",
      "model_module_version": "1.2.0",
      "model_name": "LayoutModel",
      "state": {}
     },
     "9d7ddab15c404f0da73936317a8eee56": {
      "model_module": "@jupyter-widgets/base",
      "model_module_version": "1.2.0",
      "model_name": "LayoutModel",
      "state": {
       "flex": "10 1 auto",
       "width": "auto"
      }
     },
     "9d7ef7f6e3aa4a14ba7f282492902586": {
      "model_module": "@jupyter-widgets/controls",
      "model_module_version": "1.5.0",
      "model_name": "LabelModel",
      "state": {
       "layout": "IPY_MODEL_fcd4f14bc37a474ca1ebb88c82e6dc27",
       "style": "IPY_MODEL_56aaa381589b41e4b534739fa1513c22",
       "value": "Platelength in m"
      }
     },
     "9d9bdf51450e46918cfb2c235afb7e81": {
      "model_module": "@jupyter-widgets/controls",
      "model_module_version": "1.5.0",
      "model_name": "BoundedFloatTextModel",
      "state": {
       "layout": "IPY_MODEL_3f29288408584d8d92ee42af955aaf25",
       "max": 55,
       "min": -30,
       "step": 1,
       "style": "IPY_MODEL_7bf87100e34848919e311a21e891db30",
       "value": 20
      }
     },
     "9dde3821a6c944d0a3e70f5e5934e75f": {
      "model_module": "@jupyter-widgets/base",
      "model_module_version": "1.2.0",
      "model_name": "LayoutModel",
      "state": {}
     },
     "9e3b2b9494384ee7b5f3a3fa274b80df": {
      "model_module": "@jupyter-widgets/output",
      "model_module_version": "1.0.0",
      "model_name": "OutputModel",
      "state": {
       "layout": "IPY_MODEL_e3a09fa34ac44e7fb2dc2e37296c727d"
      }
     },
     "9e3f6518b4074fa99a63f6c5a2551799": {
      "model_module": "@jupyter-widgets/base",
      "model_module_version": "1.2.0",
      "model_name": "LayoutModel",
      "state": {
       "flex": "1 1 auto",
       "width": "auto"
      }
     },
     "9e79403132f14d50ba571d623912bc34": {
      "model_module": "@jupyter-widgets/base",
      "model_module_version": "1.2.0",
      "model_name": "LayoutModel",
      "state": {}
     },
     "9e7b3d72cc014e1391d3b7b263994878": {
      "model_module": "@jupyter-widgets/base",
      "model_module_version": "1.2.0",
      "model_name": "LayoutModel",
      "state": {
       "flex": "10 1 auto",
       "width": "auto"
      }
     },
     "9e9b362632994d74a9c622b05d27dce3": {
      "model_module": "@jupyter-widgets/controls",
      "model_module_version": "1.5.0",
      "model_name": "HBoxModel",
      "state": {
       "children": [
        "IPY_MODEL_f505e645353f49dbb85b2ee4bfb2615e",
        "IPY_MODEL_311bd1c88f774aceb9259c6aeb32e169",
        "IPY_MODEL_ca56c7c2748649bbb79f43b4efbb0535"
       ],
       "layout": "IPY_MODEL_79759ff57bad4ebbbe12acb3b6f3b80d"
      }
     },
     "9ef99e235cb14f9f942c888b1fb3c5d9": {
      "model_module": "@jupyter-widgets/controls",
      "model_module_version": "1.5.0",
      "model_name": "SliderStyleModel",
      "state": {
       "description_width": ""
      }
     },
     "9f5bdfc9cc1e4d9a9ead05bca642e699": {
      "model_module": "@jupyter-widgets/base",
      "model_module_version": "1.2.0",
      "model_name": "LayoutModel",
      "state": {
       "flex": "10 1 auto",
       "width": "auto"
      }
     },
     "9f927d54d22746069ffabe6029c01379": {
      "model_module": "@jupyter-widgets/base",
      "model_module_version": "1.2.0",
      "model_name": "LayoutModel",
      "state": {
       "display": "flex",
       "min_height": "300px",
       "width": "100%"
      }
     },
     "9f9298a80c5144b2b49efd57d6d36807": {
      "model_module": "@jupyter-widgets/base",
      "model_module_version": "1.2.0",
      "model_name": "LayoutModel",
      "state": {
       "flex": "1 1 auto",
       "width": "auto"
      }
     },
     "9f9b5ae99ae94daf9af373ab7c537431": {
      "model_module": "@jupyter-widgets/base",
      "model_module_version": "1.2.0",
      "model_name": "LayoutModel",
      "state": {}
     },
     "9fa58390906341109a7973ab0f22818a": {
      "model_module": "@jupyter-widgets/base",
      "model_module_version": "1.2.0",
      "model_name": "LayoutModel",
      "state": {
       "flex": "1 1 auto",
       "width": "auto"
      }
     },
     "9fc483d3a6bb44d194e4a392073d3fee": {
      "model_module": "@jupyter-widgets/base",
      "model_module_version": "1.2.0",
      "model_name": "LayoutModel",
      "state": {}
     },
     "9fd6cb963ca54a7285bcc053ba7bd13f": {
      "model_module": "@jupyter-widgets/controls",
      "model_module_version": "1.5.0",
      "model_name": "LabelModel",
      "state": {
       "layout": "IPY_MODEL_9e3f6518b4074fa99a63f6c5a2551799",
       "style": "IPY_MODEL_d3688b4afaec4b7f82058c79a977e84c",
       "value": "Temperature in °C:"
      }
     },
     "9ffd37a584664763985f3979244f01ca": {
      "model_module": "@jupyter-widgets/base",
      "model_module_version": "1.2.0",
      "model_name": "LayoutModel",
      "state": {}
     },
     "a0077b1df8864874a6e1191a9bd6937f": {
      "model_module": "@jupyter-widgets/controls",
      "model_module_version": "1.5.0",
      "model_name": "DescriptionStyleModel",
      "state": {
       "description_width": ""
      }
     },
     "a00d646ba71e4b8eb0ca443b480fc6d0": {
      "model_module": "@jupyter-widgets/controls",
      "model_module_version": "1.5.0",
      "model_name": "BoundedFloatTextModel",
      "state": {
       "layout": "IPY_MODEL_2377d69daef74154bb280cc2030a7905",
       "max": 55,
       "min": -30,
       "step": 1,
       "style": "IPY_MODEL_d03e523c4f694b48bc49eff3656cbdd8",
       "value": 20
      }
     },
     "a012a1f8375c452682ad38d1cdab9a89": {
      "model_module": "@jupyter-widgets/base",
      "model_module_version": "1.2.0",
      "model_name": "LayoutModel",
      "state": {
       "flex": "1 1 auto",
       "width": "auto"
      }
     },
     "a0778baacce9465193120a4eb82b3c2a": {
      "model_module": "@jupyter-widgets/controls",
      "model_module_version": "1.5.0",
      "model_name": "BoundedFloatTextModel",
      "state": {
       "layout": "IPY_MODEL_d3afa79995e64dde867b9fc098a6741d",
       "max": 15000000,
       "min": 1,
       "step": 100000,
       "style": "IPY_MODEL_8cdbd39a49e742fa9b314299c4a53a01",
       "value": 101325
      }
     },
     "a0af88ef6f354206a3567334769aba06": {
      "model_module": "@jupyter-widgets/controls",
      "model_module_version": "1.5.0",
      "model_name": "LabelModel",
      "state": {
       "layout": "IPY_MODEL_4b34a343518044f7a15f16e466798fc7",
       "style": "IPY_MODEL_cc373ba2e64945dab6606984d2d4b00c",
       "value": "Pressure in Pa:"
      }
     },
     "a0c114553b4240108a3d35a7b4672723": {
      "model_module": "@jupyter-widgets/base",
      "model_module_version": "1.2.0",
      "model_name": "LayoutModel",
      "state": {
       "display": "flex",
       "width": "100%"
      }
     },
     "a0cea089f5b647dd93ea6dbd7239b886": {
      "model_module": "@jupyter-widgets/controls",
      "model_module_version": "1.5.0",
      "model_name": "DescriptionStyleModel",
      "state": {
       "description_width": ""
      }
     },
     "a0ea183bcb164ed0ac929b6029e425e3": {
      "model_module": "@jupyter-widgets/controls",
      "model_module_version": "1.5.0",
      "model_name": "DescriptionStyleModel",
      "state": {
       "description_width": ""
      }
     },
     "a0f5c35bba224b9f8b0fcc46562e637a": {
      "model_module": "@jupyter-widgets/base",
      "model_module_version": "1.2.0",
      "model_name": "LayoutModel",
      "state": {
       "flex": "10 1 auto",
       "width": "auto"
      }
     },
     "a0fb72705674438aa39d550731d2761a": {
      "model_module": "@jupyter-widgets/base",
      "model_module_version": "1.2.0",
      "model_name": "LayoutModel",
      "state": {
       "display": "flex",
       "width": "100%"
      }
     },
     "a11f2283b36c410db49b46c0c1b471b1": {
      "model_module": "@jupyter-widgets/controls",
      "model_module_version": "1.5.0",
      "model_name": "DescriptionStyleModel",
      "state": {
       "description_width": ""
      }
     },
     "a125582065464d509efe7847bb05ae6e": {
      "model_module": "@jupyter-widgets/controls",
      "model_module_version": "1.5.0",
      "model_name": "LabelModel",
      "state": {
       "layout": "IPY_MODEL_0464df78296642848327def8aec9d2e1",
       "style": "IPY_MODEL_8b5b010b4cfc448a9e3ffba827cf65af",
       "value": "Gas / Specie Mixture:"
      }
     },
     "a13d2c275ada49d987665d4b2aa8bb3f": {
      "model_module": "@jupyter-widgets/controls",
      "model_module_version": "1.5.0",
      "model_name": "DropdownModel",
      "state": {
       "_options_labels": [
        "1-Butene",
        "Acetone",
        "Air",
        "Ammonia",
        "Argon",
        "Benzene",
        "CarbonDioxide",
        "CarbonMonoxide",
        "CarbonylSulfide",
        "CycloHexane",
        "CycloPropane",
        "Cyclopentane",
        "D4",
        "D5",
        "D6",
        "Deuterium",
        "Dichloroethane",
        "DiethylEther",
        "DimethylCarbonate",
        "DimethylEther",
        "Ethane",
        "Ethanol",
        "EthylBenzene",
        "Ethylene",
        "EthyleneOxide",
        "Fluorine",
        "HFE143m",
        "HeavyWater",
        "Helium",
        "Hydrogen",
        "HydrogenChloride",
        "HydrogenSulfide",
        "IsoButane",
        "IsoButene",
        "Isohexane",
        "Isopentane",
        "Krypton",
        "MD2M",
        "MD3M",
        "MD4M",
        "MDM",
        "MM",
        "Methane",
        "Methanol",
        "MethylLinoleate",
        "MethylLinolenate",
        "MethylOleate",
        "MethylPalmitate",
        "MethylStearate",
        "Neon",
        "Neopentane",
        "Nitrogen",
        "NitrousOxide",
        "Novec649",
        "OrthoDeuterium",
        "OrthoHydrogen",
        "Oxygen",
        "ParaDeuterium",
        "ParaHydrogen",
        "Propylene",
        "Propyne",
        "R11",
        "R113",
        "R114",
        "R115",
        "R116",
        "R12",
        "R123",
        "R1233zd(E)",
        "R1234yf",
        "R1234ze(E)",
        "R1234ze(Z)",
        "R124",
        "R1243zf",
        "R125",
        "R13",
        "R134a",
        "R13I1",
        "R14",
        "R141b",
        "R142b",
        "R143a",
        "R152A",
        "R161",
        "R21",
        "R218",
        "R22",
        "R227EA",
        "R23",
        "R236EA",
        "R236FA",
        "R245ca",
        "R245fa",
        "R32",
        "R365MFC",
        "R40",
        "R404A",
        "R407C",
        "R41",
        "R410A",
        "R507A",
        "RC318",
        "SES36",
        "SulfurDioxide",
        "SulfurHexafluoride",
        "Toluene",
        "Water",
        "Xenon",
        "cis-2-Butene",
        "m-Xylene",
        "n-Butane",
        "n-Decane",
        "n-Dodecane",
        "n-Heptane",
        "n-Hexane",
        "n-Nonane",
        "n-Octane",
        "n-Pentane",
        "n-Propane",
        "n-Undecane",
        "o-Xylene",
        "p-Xylene",
        "trans-2-Butene"
       ],
       "index": 2,
       "layout": "IPY_MODEL_a917c27717fe49a0b41d4a082e8689f5",
       "style": "IPY_MODEL_63eabcd1c1d24313896675ff817a543b"
      }
     },
     "a15fc7ff260046568ee2a2477e41f4c0": {
      "model_module": "@jupyter-widgets/controls",
      "model_module_version": "1.5.0",
      "model_name": "SliderStyleModel",
      "state": {
       "description_width": ""
      }
     },
     "a1973915e2784d19aeb0cf1cfee30dc1": {
      "model_module": "@jupyter-widgets/controls",
      "model_module_version": "1.5.0",
      "model_name": "SliderStyleModel",
      "state": {
       "description_width": ""
      }
     },
     "a197469b341a42209b145a900bd96871": {
      "model_module": "@jupyter-widgets/controls",
      "model_module_version": "1.5.0",
      "model_name": "BoundedFloatTextModel",
      "state": {
       "layout": "IPY_MODEL_46b5fb5d4e7b4cb18829a987cfa7ab6f",
       "max": 10,
       "min": 0.001,
       "step": 0.001,
       "style": "IPY_MODEL_a85b44920ed84837ba2f29e450ab4d36",
       "value": 0.1
      }
     },
     "a19fd0a97eda4e8fae47d71ef33fc7f8": {
      "model_module": "@jupyter-widgets/base",
      "model_module_version": "1.2.0",
      "model_name": "LayoutModel",
      "state": {
       "display": "flex",
       "width": "100%"
      }
     },
     "a1bbb237542d49378ac2adf05d01ea05": {
      "model_module": "@jupyter-widgets/controls",
      "model_module_version": "1.5.0",
      "model_name": "HBoxModel",
      "state": {
       "children": [
        "IPY_MODEL_bbb492ab511342529c698246f65d1508",
        "IPY_MODEL_3a66645c6dd640ffa2c4ea53196b95f7"
       ],
       "layout": "IPY_MODEL_6838231f902b44eb8c0f625463158b2d"
      }
     },
     "a1c22361252e4bfea4d005d3a9587e16": {
      "model_module": "@jupyter-widgets/controls",
      "model_module_version": "1.5.0",
      "model_name": "BoundedFloatTextModel",
      "state": {
       "layout": "IPY_MODEL_6a46bd9e61854af8b3c0c8cb930bd479",
       "max": 10,
       "min": 0.001,
       "step": 0.001,
       "style": "IPY_MODEL_e711793d2cc44de1955671b9b51a95fa",
       "value": 0.1
      }
     },
     "a1d9cbf5e4ff43d3bdf69a293da016e7": {
      "model_module": "@jupyter-widgets/base",
      "model_module_version": "1.2.0",
      "model_name": "LayoutModel",
      "state": {
       "display": "flex",
       "width": "100%"
      }
     },
     "a1e6a9c89d604c47bdfbcbfe95ef83d5": {
      "model_module": "@jupyter-widgets/controls",
      "model_module_version": "1.5.0",
      "model_name": "LabelModel",
      "state": {
       "layout": "IPY_MODEL_227bf29b0801443da6ab6ad65b10f055",
       "style": "IPY_MODEL_bbaa9c1e3ac04db98cc72a7a7263ed4b",
       "value": "Gas / Specie Mixture:"
      }
     },
     "a1f9b10eab6343c1ad5ae9100075268d": {
      "model_module": "@jupyter-widgets/base",
      "model_module_version": "1.2.0",
      "model_name": "LayoutModel",
      "state": {
       "display": "flex",
       "flex_flow": "row"
      }
     },
     "a21bbb0ee22d48c3a331b96899c088ad": {
      "model_module": "@jupyter-widgets/base",
      "model_module_version": "1.2.0",
      "model_name": "LayoutModel",
      "state": {
       "display": "flex",
       "flex_flow": "row"
      }
     },
     "a21bdecdd76c4d51859d085a1179ce8c": {
      "model_module": "@jupyter-widgets/base",
      "model_module_version": "1.2.0",
      "model_name": "LayoutModel",
      "state": {
       "display": "flex",
       "min_height": "300px",
       "width": "100%"
      }
     },
     "a251ead5028d4a5183567f84367710e8": {
      "model_module": "@jupyter-widgets/controls",
      "model_module_version": "1.5.0",
      "model_name": "LabelModel",
      "state": {
       "layout": "IPY_MODEL_668c7e4a916e42159c24f7a374aa94d4",
       "style": "IPY_MODEL_17d37c905ec54e8189bbffa33f63516e",
       "value": "Velocity in m/s:"
      }
     },
     "a2bcbd1e29a04318a5e25661e1b56bbf": {
      "model_module": "@jupyter-widgets/base",
      "model_module_version": "1.2.0",
      "model_name": "LayoutModel",
      "state": {}
     },
     "a2d2b2b6f02749d0a77d96af95219298": {
      "model_module": "@jupyter-widgets/base",
      "model_module_version": "1.2.0",
      "model_name": "LayoutModel",
      "state": {
       "display": "flex",
       "width": "100%"
      }
     },
     "a2e7fc93a8fb4530b9b723c1c982162c": {
      "model_module": "@jupyter-widgets/controls",
      "model_module_version": "1.5.0",
      "model_name": "SliderStyleModel",
      "state": {
       "description_width": ""
      }
     },
     "a2ef14c8d09448a3ba7e05b625f14427": {
      "model_module": "@jupyter-widgets/base",
      "model_module_version": "1.2.0",
      "model_name": "LayoutModel",
      "state": {
       "flex": "1 1 auto",
       "width": "auto"
      }
     },
     "a2fa8ba15e3a4b02a38f7550b14ef36f": {
      "model_module": "@jupyter-widgets/base",
      "model_module_version": "1.2.0",
      "model_name": "LayoutModel",
      "state": {
       "display": "flex",
       "flex_flow": "row"
      }
     },
     "a335652aee8645c9bbd7b33707e696bd": {
      "model_module": "@jupyter-widgets/controls",
      "model_module_version": "1.5.0",
      "model_name": "FloatSliderModel",
      "state": {
       "layout": "IPY_MODEL_43c0a7b362444cbfa7c94fe7692ffcd3",
       "max": 15000000,
       "min": 1,
       "readout": false,
       "step": 100000,
       "style": "IPY_MODEL_af6e1056317448e48183111fd3eb51a1",
       "value": 101325
      }
     },
     "a3463ca435ee4467b1f5df128641ce80": {
      "model_module": "@jupyter-widgets/base",
      "model_module_version": "1.2.0",
      "model_name": "LayoutModel",
      "state": {
       "display": "flex",
       "flex_flow": "row"
      }
     },
     "a3487d1ffc584b14b0bd4c7cb73df54a": {
      "model_module": "@jupyter-widgets/controls",
      "model_module_version": "1.5.0",
      "model_name": "DescriptionStyleModel",
      "state": {
       "description_width": ""
      }
     },
     "a3537e452b314eb98dd36e4d2d99e276": {
      "model_module": "@jupyter-widgets/base",
      "model_module_version": "1.2.0",
      "model_name": "LayoutModel",
      "state": {
       "flex": "10 1 auto",
       "width": "auto"
      }
     },
     "a3661257f5bb4b8392d48147c8c48a68": {
      "model_module": "@jupyter-widgets/controls",
      "model_module_version": "1.5.0",
      "model_name": "DropdownModel",
      "state": {
       "_options_labels": [
        "1-Butene",
        "Acetone",
        "Air",
        "Ammonia",
        "Argon",
        "Benzene",
        "CarbonDioxide",
        "CarbonMonoxide",
        "CarbonylSulfide",
        "CycloHexane",
        "CycloPropane",
        "Cyclopentane",
        "D4",
        "D5",
        "D6",
        "Deuterium",
        "Dichloroethane",
        "DiethylEther",
        "DimethylCarbonate",
        "DimethylEther",
        "Ethane",
        "Ethanol",
        "EthylBenzene",
        "Ethylene",
        "EthyleneOxide",
        "Fluorine",
        "HFE143m",
        "HeavyWater",
        "Helium",
        "Hydrogen",
        "HydrogenChloride",
        "HydrogenSulfide",
        "IsoButane",
        "IsoButene",
        "Isohexane",
        "Isopentane",
        "Krypton",
        "MD2M",
        "MD3M",
        "MD4M",
        "MDM",
        "MM",
        "Methane",
        "Methanol",
        "MethylLinoleate",
        "MethylLinolenate",
        "MethylOleate",
        "MethylPalmitate",
        "MethylStearate",
        "Neon",
        "Neopentane",
        "Nitrogen",
        "NitrousOxide",
        "Novec649",
        "OrthoDeuterium",
        "OrthoHydrogen",
        "Oxygen",
        "ParaDeuterium",
        "ParaHydrogen",
        "Propylene",
        "Propyne",
        "R11",
        "R113",
        "R114",
        "R115",
        "R116",
        "R12",
        "R123",
        "R1233zd(E)",
        "R1234yf",
        "R1234ze(E)",
        "R1234ze(Z)",
        "R124",
        "R1243zf",
        "R125",
        "R13",
        "R134a",
        "R13I1",
        "R14",
        "R141b",
        "R142b",
        "R143a",
        "R152A",
        "R161",
        "R21",
        "R218",
        "R22",
        "R227EA",
        "R23",
        "R236EA",
        "R236FA",
        "R245ca",
        "R245fa",
        "R32",
        "R365MFC",
        "R40",
        "R404A",
        "R407C",
        "R41",
        "R410A",
        "R507A",
        "RC318",
        "SES36",
        "SulfurDioxide",
        "SulfurHexafluoride",
        "Toluene",
        "Water",
        "Xenon",
        "cis-2-Butene",
        "m-Xylene",
        "n-Butane",
        "n-Decane",
        "n-Dodecane",
        "n-Heptane",
        "n-Hexane",
        "n-Nonane",
        "n-Octane",
        "n-Pentane",
        "n-Propane",
        "n-Undecane",
        "o-Xylene",
        "p-Xylene",
        "trans-2-Butene"
       ],
       "index": 2,
       "layout": "IPY_MODEL_a72560dc512a475991757def8139b0f3",
       "style": "IPY_MODEL_3392ca87238c4666a250b4bea86053c0"
      }
     },
     "a38bbbfd27bd42e995469de6e82b44b8": {
      "model_module": "@jupyter-widgets/base",
      "model_module_version": "1.2.0",
      "model_name": "LayoutModel",
      "state": {
       "display": "flex",
       "width": "100%"
      }
     },
     "a3978e2ff99e420b98a9017c8844bced": {
      "model_module": "@jupyter-widgets/controls",
      "model_module_version": "1.5.0",
      "model_name": "HBoxModel",
      "state": {
       "children": [
        "IPY_MODEL_5486c581fae0485b84edad3df993080d",
        "IPY_MODEL_c2c5dfe074524c1ba99fb188e4d02835",
        "IPY_MODEL_2c14464491f04bc988501618abedc396"
       ],
       "layout": "IPY_MODEL_32dde0ec93d74951bba6df79d2867516"
      }
     },
     "a3b7f3a9369f438e93e95837010c8402": {
      "model_module": "@jupyter-widgets/controls",
      "model_module_version": "1.5.0",
      "model_name": "LabelModel",
      "state": {
       "layout": "IPY_MODEL_9a38d2936a9141e0be03c6bae1d285d5",
       "style": "IPY_MODEL_b6f3408c5261477c8a608b1b036526a6",
       "value": "Temperature in °C:"
      }
     },
     "a3c8e7a6a5004abeb7883bad5c0de303": {
      "model_module": "@jupyter-widgets/base",
      "model_module_version": "1.2.0",
      "model_name": "LayoutModel",
      "state": {
       "display": "flex",
       "width": "100%"
      }
     },
     "a3eb5907e6d9402ab166f64996e79f4d": {
      "model_module": "@jupyter-widgets/controls",
      "model_module_version": "1.5.0",
      "model_name": "VBoxModel",
      "state": {
       "children": [
        "IPY_MODEL_0f8ad4b8c4c1446a9e87c748033c530e",
        "IPY_MODEL_7e239621613543b082fd58d228bd58f5"
       ],
       "layout": "IPY_MODEL_9754402a63e4424b93d134e769637d60"
      }
     },
     "a3f07567601c4375885a5b9191e49e2a": {
      "model_module": "@jupyter-widgets/base",
      "model_module_version": "1.2.0",
      "model_name": "LayoutModel",
      "state": {
       "flex": "1 1 auto",
       "width": "auto"
      }
     },
     "a4224af243694e2395646b3f26218a1a": {
      "model_module": "@jupyter-widgets/base",
      "model_module_version": "1.2.0",
      "model_name": "LayoutModel",
      "state": {
       "flex": "10 1 auto",
       "width": "auto"
      }
     },
     "a42f9304600c490e96bb2121ff4aec77": {
      "model_module": "@jupyter-widgets/controls",
      "model_module_version": "1.5.0",
      "model_name": "FloatSliderModel",
      "state": {
       "layout": "IPY_MODEL_c9f7d2d69b86410d9c0afb31b72fba13",
       "max": 10,
       "min": 0.001,
       "readout": false,
       "step": 0.001,
       "style": "IPY_MODEL_3fe2036fb09a4411b10648767ebd2866",
       "value": 0.1
      }
     },
     "a435cb60d803483fb616a152be51e2de": {
      "model_module": "@jupyter-widgets/base",
      "model_module_version": "1.2.0",
      "model_name": "LayoutModel",
      "state": {
       "flex": "10 1 auto",
       "width": "auto"
      }
     },
     "a444bfacb1434bf0820d84b5a91fa7c7": {
      "model_module": "@jupyter-widgets/base",
      "model_module_version": "1.2.0",
      "model_name": "LayoutModel",
      "state": {
       "display": "flex",
       "width": "100%"
      }
     },
     "a4b6eb7278bb459a9405ce47e5ec4cc5": {
      "model_module": "@jupyter-widgets/controls",
      "model_module_version": "1.5.0",
      "model_name": "DescriptionStyleModel",
      "state": {
       "description_width": ""
      }
     },
     "a4f44d19d9f04c9a86f332ccb3676d77": {
      "model_module": "@jupyter-widgets/base",
      "model_module_version": "1.2.0",
      "model_name": "LayoutModel",
      "state": {
       "flex": "10 1 auto",
       "width": "auto"
      }
     },
     "a503e12d4d734ebc8a1396adfdf81b71": {
      "model_module": "@jupyter-widgets/controls",
      "model_module_version": "1.5.0",
      "model_name": "HBoxModel",
      "state": {
       "children": [
        "IPY_MODEL_b8d251ddbd214af682a95e25b9277785",
        "IPY_MODEL_bdcdb0a930db4ab2a271694b5badb42f",
        "IPY_MODEL_24c6f0b2a32543f193f603aac5e940b4"
       ],
       "layout": "IPY_MODEL_d50cb299f8f34ed5aafad4e38efa5821"
      }
     },
     "a5142188afbd4d2c80eb1573a731972a": {
      "model_module": "@jupyter-widgets/base",
      "model_module_version": "1.2.0",
      "model_name": "LayoutModel",
      "state": {
       "flex": "10 1 auto",
       "width": "auto"
      }
     },
     "a51a7f2f37784660a2c273983b32e7ef": {
      "model_module": "@jupyter-widgets/base",
      "model_module_version": "1.2.0",
      "model_name": "LayoutModel",
      "state": {}
     },
     "a54144d851f74c25a5a7ab621de921a0": {
      "model_module": "@jupyter-widgets/base",
      "model_module_version": "1.2.0",
      "model_name": "LayoutModel",
      "state": {
       "display": "flex",
       "width": "100%"
      }
     },
     "a54458b7a49a43679223a622cbdeb083": {
      "model_module": "@jupyter-widgets/base",
      "model_module_version": "1.2.0",
      "model_name": "LayoutModel",
      "state": {}
     },
     "a5453503290443ee9e04902024e78c9d": {
      "model_module": "@jupyter-widgets/controls",
      "model_module_version": "1.5.0",
      "model_name": "FloatSliderModel",
      "state": {
       "layout": "IPY_MODEL_2ea7642c7a6144039b3e1a9c7667722f",
       "max": 15000000,
       "min": 1,
       "readout": false,
       "step": 100000,
       "style": "IPY_MODEL_20322507c2ec4e1db292a54f14742019",
       "value": 101325
      }
     },
     "a5465b0f7f064a65a02deb2daaf87345": {
      "model_module": "@jupyter-widgets/controls",
      "model_module_version": "1.5.0",
      "model_name": "SliderStyleModel",
      "state": {
       "description_width": ""
      }
     },
     "a55f1266f3d14299a53a4ba93ed84a93": {
      "model_module": "@jupyter-widgets/base",
      "model_module_version": "1.2.0",
      "model_name": "LayoutModel",
      "state": {
       "display": "flex",
       "min_height": "300px",
       "width": "100%"
      }
     },
     "a581d70e48bf41d1a25c0c3f82600e7d": {
      "model_module": "@jupyter-widgets/controls",
      "model_module_version": "1.5.0",
      "model_name": "DescriptionStyleModel",
      "state": {
       "description_width": ""
      }
     },
     "a59bd647adb142fba0d7869c1965fdef": {
      "model_module": "@jupyter-widgets/base",
      "model_module_version": "1.2.0",
      "model_name": "LayoutModel",
      "state": {
       "display": "flex",
       "flex_flow": "row"
      }
     },
     "a5a5c083d7804fa4a316679b9f5ff4f1": {
      "model_module": "@jupyter-widgets/base",
      "model_module_version": "1.2.0",
      "model_name": "LayoutModel",
      "state": {
       "flex": "1 1 auto",
       "width": "auto"
      }
     },
     "a5d4c0501dba48af9738bf1e7d58d9fd": {
      "model_module": "@jupyter-widgets/controls",
      "model_module_version": "1.5.0",
      "model_name": "LabelModel",
      "state": {
       "layout": "IPY_MODEL_3529c58a52544d58be63c44a1229a1c0",
       "style": "IPY_MODEL_e1618a0c1e3f44359a09635f877720a2",
       "value": "Pressure in Pa:"
      }
     },
     "a66de3445ca247568412fb9ff1400b87": {
      "model_module": "@jupyter-widgets/controls",
      "model_module_version": "1.5.0",
      "model_name": "BoundedFloatTextModel",
      "state": {
       "layout": "IPY_MODEL_54f8213556534c3f9dfb18fd19193226",
       "max": 15000000,
       "min": 1,
       "step": 100000,
       "style": "IPY_MODEL_8af8f718e7f54a9287c3585595060504",
       "value": 101325
      }
     },
     "a6c3b7a1512d4adcaec42976b44566b3": {
      "model_module": "@jupyter-widgets/controls",
      "model_module_version": "1.5.0",
      "model_name": "FloatSliderModel",
      "state": {
       "layout": "IPY_MODEL_161029cf75b6460eb7ce49434687205c",
       "max": 15000000,
       "min": 1,
       "readout": false,
       "step": 100000,
       "style": "IPY_MODEL_3752fee7622c43bea9908ecc5a08e4b0",
       "value": 101325
      }
     },
     "a6ebd265097a4146a37dde9f607f29e6": {
      "model_module": "@jupyter-widgets/controls",
      "model_module_version": "1.5.0",
      "model_name": "LabelModel",
      "state": {
       "layout": "IPY_MODEL_90bca8d5b2694a0d812a0c6fab701042",
       "style": "IPY_MODEL_293c1bce4345465f8b402e528b7ae497",
       "value": "Gas / Specie Mixture:"
      }
     },
     "a72560dc512a475991757def8139b0f3": {
      "model_module": "@jupyter-widgets/base",
      "model_module_version": "1.2.0",
      "model_name": "LayoutModel",
      "state": {}
     },
     "a73142ad957e4ba6b740f719955261f1": {
      "model_module": "@jupyter-widgets/controls",
      "model_module_version": "1.5.0",
      "model_name": "LabelModel",
      "state": {
       "layout": "IPY_MODEL_b00974998a384043af137fb0068f46c8",
       "style": "IPY_MODEL_c135973fa311413187296484841bac08",
       "value": "Platelength in m"
      }
     },
     "a73888ec089d453fb35c1d9fdef61f3a": {
      "model_module": "@jupyter-widgets/base",
      "model_module_version": "1.2.0",
      "model_name": "LayoutModel",
      "state": {
       "flex": "1 1 auto",
       "width": "auto"
      }
     },
     "a73b30dfc180468cad353cab2f2183c5": {
      "model_module": "@jupyter-widgets/controls",
      "model_module_version": "1.5.0",
      "model_name": "LabelModel",
      "state": {
       "layout": "IPY_MODEL_af210028481f4b89a047ec490b837fa6",
       "style": "IPY_MODEL_c09dbc7e26de48038e2d722360be40b8",
       "value": "Pressure in Pa:"
      }
     },
     "a7627252bf3a4d5cb0fb289e7d016f3e": {
      "model_module": "@jupyter-widgets/controls",
      "model_module_version": "1.5.0",
      "model_name": "SliderStyleModel",
      "state": {
       "description_width": ""
      }
     },
     "a76c13413f5e42bc824ab6cae9d31f94": {
      "model_module": "@jupyter-widgets/base",
      "model_module_version": "1.2.0",
      "model_name": "LayoutModel",
      "state": {}
     },
     "a80d928d7148450f9a913d736f59240e": {
      "model_module": "@jupyter-widgets/controls",
      "model_module_version": "1.5.0",
      "model_name": "DescriptionStyleModel",
      "state": {
       "description_width": ""
      }
     },
     "a8184d3368194aa09cb1a137833083e9": {
      "model_module": "@jupyter-widgets/controls",
      "model_module_version": "1.5.0",
      "model_name": "LabelModel",
      "state": {
       "layout": "IPY_MODEL_0e644882490b40abb201836893721e43",
       "style": "IPY_MODEL_d3502caddea8435e9f95fcfd6d3b4644",
       "value": "Gas / Specie Mixture:"
      }
     },
     "a82204fabbf349459b49fc6a6cfc6d6c": {
      "model_module": "@jupyter-widgets/controls",
      "model_module_version": "1.5.0",
      "model_name": "HBoxModel",
      "state": {
       "children": [
        "IPY_MODEL_f60a6bb53089459da9b50d35afd60c35",
        "IPY_MODEL_30d781ea53064722b73d11f1a43bca7c",
        "IPY_MODEL_dbcb25a69b6b484a8da4a8d490f8ec7c"
       ],
       "layout": "IPY_MODEL_78d6fc4e280a47bf8ef8365221c85d4a"
      }
     },
     "a84749d3520342abb18efafbfa1b418d": {
      "model_module": "@jupyter-widgets/base",
      "model_module_version": "1.2.0",
      "model_name": "LayoutModel",
      "state": {
       "flex": "10 1 auto",
       "width": "auto"
      }
     },
     "a8566c91b7c14208bf239d1bc32b3684": {
      "model_module": "@jupyter-widgets/controls",
      "model_module_version": "1.5.0",
      "model_name": "DescriptionStyleModel",
      "state": {
       "description_width": ""
      }
     },
     "a85b44920ed84837ba2f29e450ab4d36": {
      "model_module": "@jupyter-widgets/controls",
      "model_module_version": "1.5.0",
      "model_name": "DescriptionStyleModel",
      "state": {
       "description_width": ""
      }
     },
     "a866255a3dfa4dd38d1c6ca8a45402c5": {
      "model_module": "@jupyter-widgets/base",
      "model_module_version": "1.2.0",
      "model_name": "LayoutModel",
      "state": {
       "flex": "1 1 auto",
       "width": "auto"
      }
     },
     "a86c954d7679478e9404345889264ba8": {
      "model_module": "@jupyter-widgets/base",
      "model_module_version": "1.2.0",
      "model_name": "LayoutModel",
      "state": {
       "display": "flex",
       "width": "100%"
      }
     },
     "a89e12eaa3394e32ba1c52de1fdbe44d": {
      "model_module": "@jupyter-widgets/base",
      "model_module_version": "1.2.0",
      "model_name": "LayoutModel",
      "state": {}
     },
     "a89f234c52404bc1883075fe14f511db": {
      "model_module": "@jupyter-widgets/controls",
      "model_module_version": "1.5.0",
      "model_name": "FloatSliderModel",
      "state": {
       "layout": "IPY_MODEL_01efee24e91740b4a606e51bef45a3ae",
       "max": 55,
       "min": -30,
       "readout": false,
       "style": "IPY_MODEL_a9069e4884f247b69f4c062bcf58d795",
       "value": 20
      }
     },
     "a8e79943956b4ba89338319906f1594f": {
      "model_module": "@jupyter-widgets/controls",
      "model_module_version": "1.5.0",
      "model_name": "DropdownModel",
      "state": {
       "_options_labels": [
        "1-Butene",
        "Acetone",
        "Air",
        "Ammonia",
        "Argon",
        "Benzene",
        "CarbonDioxide",
        "CarbonMonoxide",
        "CarbonylSulfide",
        "CycloHexane",
        "CycloPropane",
        "Cyclopentane",
        "D4",
        "D5",
        "D6",
        "Deuterium",
        "Dichloroethane",
        "DiethylEther",
        "DimethylCarbonate",
        "DimethylEther",
        "Ethane",
        "Ethanol",
        "EthylBenzene",
        "Ethylene",
        "EthyleneOxide",
        "Fluorine",
        "HFE143m",
        "HeavyWater",
        "Helium",
        "Hydrogen",
        "HydrogenChloride",
        "HydrogenSulfide",
        "IsoButane",
        "IsoButene",
        "Isohexane",
        "Isopentane",
        "Krypton",
        "MD2M",
        "MD3M",
        "MD4M",
        "MDM",
        "MM",
        "Methane",
        "Methanol",
        "MethylLinoleate",
        "MethylLinolenate",
        "MethylOleate",
        "MethylPalmitate",
        "MethylStearate",
        "Neon",
        "Neopentane",
        "Nitrogen",
        "NitrousOxide",
        "Novec649",
        "OrthoDeuterium",
        "OrthoHydrogen",
        "Oxygen",
        "ParaDeuterium",
        "ParaHydrogen",
        "Propylene",
        "Propyne",
        "R11",
        "R113",
        "R114",
        "R115",
        "R116",
        "R12",
        "R123",
        "R1233zd(E)",
        "R1234yf",
        "R1234ze(E)",
        "R1234ze(Z)",
        "R124",
        "R1243zf",
        "R125",
        "R13",
        "R134a",
        "R13I1",
        "R14",
        "R141b",
        "R142b",
        "R143a",
        "R152A",
        "R161",
        "R21",
        "R218",
        "R22",
        "R227EA",
        "R23",
        "R236EA",
        "R236FA",
        "R245ca",
        "R245fa",
        "R32",
        "R365MFC",
        "R40",
        "R404A",
        "R407C",
        "R41",
        "R410A",
        "R507A",
        "RC318",
        "SES36",
        "SulfurDioxide",
        "SulfurHexafluoride",
        "Toluene",
        "Water",
        "Xenon",
        "cis-2-Butene",
        "m-Xylene",
        "n-Butane",
        "n-Decane",
        "n-Dodecane",
        "n-Heptane",
        "n-Hexane",
        "n-Nonane",
        "n-Octane",
        "n-Pentane",
        "n-Propane",
        "n-Undecane",
        "o-Xylene",
        "p-Xylene",
        "trans-2-Butene"
       ],
       "index": 2,
       "layout": "IPY_MODEL_5728509cd7924ee6acc6f562ec73587f",
       "style": "IPY_MODEL_39548bfd3ae5403f98d8521a5e002666"
      }
     },
     "a9069e4884f247b69f4c062bcf58d795": {
      "model_module": "@jupyter-widgets/controls",
      "model_module_version": "1.5.0",
      "model_name": "SliderStyleModel",
      "state": {
       "description_width": ""
      }
     },
     "a90947ad2968490f9129ab2ef59820a1": {
      "model_module": "@jupyter-widgets/base",
      "model_module_version": "1.2.0",
      "model_name": "LayoutModel",
      "state": {
       "flex": "1 1 auto",
       "width": "auto"
      }
     },
     "a915adde17864ceeb404e3d8de02ed29": {
      "model_module": "@jupyter-widgets/controls",
      "model_module_version": "1.5.0",
      "model_name": "SliderStyleModel",
      "state": {
       "description_width": ""
      }
     },
     "a917c27717fe49a0b41d4a082e8689f5": {
      "model_module": "@jupyter-widgets/base",
      "model_module_version": "1.2.0",
      "model_name": "LayoutModel",
      "state": {}
     },
     "a936d2c4326e4a2c8bd2a7f5eacbdbe4": {
      "model_module": "@jupyter-widgets/controls",
      "model_module_version": "1.5.0",
      "model_name": "FloatSliderModel",
      "state": {
       "layout": "IPY_MODEL_36aad86d15604019908f8041c9eaa807",
       "max": 200,
       "min": 0.001,
       "readout": false,
       "step": 0.001,
       "style": "IPY_MODEL_66b959413c8a412abcb80147d78abf04",
       "value": 20
      }
     },
     "a955787058434c60ae5898d723155a8f": {
      "model_module": "@jupyter-widgets/controls",
      "model_module_version": "1.5.0",
      "model_name": "VBoxModel",
      "state": {
       "children": [
        "IPY_MODEL_ef73c079e78a4110891dfa0d3250055c",
        "IPY_MODEL_a82204fabbf349459b49fc6a6cfc6d6c",
        "IPY_MODEL_90b8187cacb6455885c65dee7e0bacf8"
       ],
       "layout": "IPY_MODEL_ad9bd556f5e74c0e82267f6eec8db887"
      }
     },
     "a9558b71ce2b470f908c8e14de61622a": {
      "model_module": "@jupyter-widgets/controls",
      "model_module_version": "1.5.0",
      "model_name": "SliderStyleModel",
      "state": {
       "description_width": ""
      }
     },
     "a996191a90364d9baa132b9931ea06d9": {
      "model_module": "@jupyter-widgets/controls",
      "model_module_version": "1.5.0",
      "model_name": "VBoxModel",
      "state": {
       "children": [
        "IPY_MODEL_3c6a12b0707043eda08ccfa282ee24b9",
        "IPY_MODEL_58dd73844ca9480cb136231506a8d594"
       ],
       "layout": "IPY_MODEL_86dc87f355234deb90536205b2e2288a"
      }
     },
     "a9e9debb70624a7b9620f6509265af8e": {
      "model_module": "@jupyter-widgets/base",
      "model_module_version": "1.2.0",
      "model_name": "LayoutModel",
      "state": {
       "flex": "1 1 auto",
       "width": "auto"
      }
     },
     "aa1f52eab08c475ebd439135e485970d": {
      "model_module": "@jupyter-widgets/controls",
      "model_module_version": "1.5.0",
      "model_name": "LabelModel",
      "state": {
       "layout": "IPY_MODEL_0b6eae137c4f4098afaaa63489aa3e32",
       "style": "IPY_MODEL_1add5e5a2cf64393a58d15cf0bfae7b9",
       "value": "Platelength in m"
      }
     },
     "aa820aeee91a49dcabe25f785c272b9d": {
      "model_module": "@jupyter-widgets/base",
      "model_module_version": "1.2.0",
      "model_name": "LayoutModel",
      "state": {
       "flex": "10 1 auto",
       "width": "auto"
      }
     },
     "aa94f03934fd4a14864c25c9677ada19": {
      "model_module": "@jupyter-widgets/controls",
      "model_module_version": "1.5.0",
      "model_name": "LabelModel",
      "state": {
       "layout": "IPY_MODEL_893fdc7971bd45e685f03cf9c1b3259a",
       "style": "IPY_MODEL_0b9f212557444185b350e81b48261863",
       "value": "Temperature in °C:"
      }
     },
     "aab4e649a5244886856893cf1192dd80": {
      "model_module": "@jupyter-widgets/base",
      "model_module_version": "1.2.0",
      "model_name": "LayoutModel",
      "state": {
       "flex": "1 1 auto",
       "width": "auto"
      }
     },
     "aac8b9b5f7484782a509b0ff22353fa5": {
      "model_module": "@jupyter-widgets/controls",
      "model_module_version": "1.5.0",
      "model_name": "HBoxModel",
      "state": {
       "children": [
        "IPY_MODEL_41ffdc3f02aa4d17a38bb86811cf9346",
        "IPY_MODEL_fd158e7fb63c473d930205b36c803085",
        "IPY_MODEL_faea361b93fd488a9ee50f0971206798"
       ],
       "layout": "IPY_MODEL_a444bfacb1434bf0820d84b5a91fa7c7"
      }
     },
     "aac99808a3554138a9264911cd2b4f02": {
      "model_module": "@jupyter-widgets/base",
      "model_module_version": "1.2.0",
      "model_name": "LayoutModel",
      "state": {
       "display": "flex",
       "flex_flow": "row"
      }
     },
     "ab0733c480264cfc83364840eaeda71b": {
      "model_module": "@jupyter-widgets/controls",
      "model_module_version": "1.5.0",
      "model_name": "VBoxModel",
      "state": {
       "children": [
        "IPY_MODEL_cefee0292b2248928c8fb0fda4dc058e",
        "IPY_MODEL_0341fac21dd74966bfcacfe8adebb4b4"
       ],
       "layout": "IPY_MODEL_9e79403132f14d50ba571d623912bc34"
      }
     },
     "ab3dc685ef0c478896e261fd2091a56e": {
      "model_module": "@jupyter-widgets/controls",
      "model_module_version": "1.5.0",
      "model_name": "DescriptionStyleModel",
      "state": {
       "description_width": ""
      }
     },
     "ab7de6f3fbff4dcdbbfbae1f6ac2e252": {
      "model_module": "@jupyter-widgets/controls",
      "model_module_version": "1.5.0",
      "model_name": "SliderStyleModel",
      "state": {
       "description_width": ""
      }
     },
     "ab8fdf8c85c947cda66b975977f0ae23": {
      "model_module": "@jupyter-widgets/controls",
      "model_module_version": "1.5.0",
      "model_name": "SliderStyleModel",
      "state": {
       "description_width": ""
      }
     },
     "ab961ed6412c4693b9bf1c18aa8a9b1d": {
      "model_module": "@jupyter-widgets/controls",
      "model_module_version": "1.5.0",
      "model_name": "DescriptionStyleModel",
      "state": {
       "description_width": ""
      }
     },
     "abddbf1c3bca43d4b42c4fb36a974fb5": {
      "model_module": "@jupyter-widgets/base",
      "model_module_version": "1.2.0",
      "model_name": "LayoutModel",
      "state": {}
     },
     "abf6a5035834447988daf09acd3ed292": {
      "model_module": "@jupyter-widgets/controls",
      "model_module_version": "1.5.0",
      "model_name": "BoundedFloatTextModel",
      "state": {
       "layout": "IPY_MODEL_9cccc939c86f461b8242c0aa74043326",
       "max": 200,
       "min": 0.001,
       "step": 0.001,
       "style": "IPY_MODEL_1c545dfe4ba9487ab82ec495d4e3125c",
       "value": 20
      }
     },
     "ac1e5f1ca6074ec1b2df2c661e5d1f58": {
      "model_module": "@jupyter-widgets/controls",
      "model_module_version": "1.5.0",
      "model_name": "LabelModel",
      "state": {
       "layout": "IPY_MODEL_a012a1f8375c452682ad38d1cdab9a89",
       "style": "IPY_MODEL_1ef490c1a5504f3abe611dfa4a94e918",
       "value": "Temperature in °C:"
      }
     },
     "ac2c0abd29584b82a60b04ee4e104ab7": {
      "model_module": "@jupyter-widgets/base",
      "model_module_version": "1.2.0",
      "model_name": "LayoutModel",
      "state": {
       "flex": "10 1 auto",
       "width": "auto"
      }
     },
     "ac351fac19ef479f80f717e9f16f2b5a": {
      "model_module": "@jupyter-widgets/base",
      "model_module_version": "1.2.0",
      "model_name": "LayoutModel",
      "state": {
       "display": "flex",
       "flex_flow": "row"
      }
     },
     "ac64591b973640289d12846d4754f302": {
      "model_module": "@jupyter-widgets/base",
      "model_module_version": "1.2.0",
      "model_name": "LayoutModel",
      "state": {
       "flex": "1 1 auto",
       "width": "auto"
      }
     },
     "aca0298a991c478da1196ebfaabec3d4": {
      "model_module": "@jupyter-widgets/controls",
      "model_module_version": "1.5.0",
      "model_name": "DescriptionStyleModel",
      "state": {
       "description_width": ""
      }
     },
     "ad31385d7d1740899cd71edff1d7f328": {
      "model_module": "@jupyter-widgets/controls",
      "model_module_version": "1.5.0",
      "model_name": "BoundedFloatTextModel",
      "state": {
       "layout": "IPY_MODEL_11f001ed7bc04687ae7b1a04d101d69c",
       "max": 55,
       "min": -30,
       "step": 1,
       "style": "IPY_MODEL_42ea0c34a3fa47738de07878bf63c7a8",
       "value": 20
      }
     },
     "ad44314e444d40289b424275967dba0c": {
      "model_module": "@jupyter-widgets/base",
      "model_module_version": "1.2.0",
      "model_name": "LayoutModel",
      "state": {
       "display": "flex",
       "flex_flow": "row"
      }
     },
     "ad634a25b44d4064993670d92432f641": {
      "model_module": "@jupyter-widgets/controls",
      "model_module_version": "1.5.0",
      "model_name": "VBoxModel",
      "state": {
       "children": [
        "IPY_MODEL_17f3129d3b8b4cdbb70365a8174410f2",
        "IPY_MODEL_cd59cbf0f9474197b77fc999d8ab4267"
       ],
       "layout": "IPY_MODEL_fcad7d8a881e40659e6e0eaf78312381"
      }
     },
     "ad9809b183044617b83ff1f7297d51f9": {
      "model_module": "@jupyter-widgets/base",
      "model_module_version": "1.2.0",
      "model_name": "LayoutModel",
      "state": {
       "flex": "1 1 auto",
       "width": "auto"
      }
     },
     "ad9bd556f5e74c0e82267f6eec8db887": {
      "model_module": "@jupyter-widgets/base",
      "model_module_version": "1.2.0",
      "model_name": "LayoutModel",
      "state": {}
     },
     "adac2d7a8ba64529ab8f625e18432944": {
      "model_module": "@jupyter-widgets/controls",
      "model_module_version": "1.5.0",
      "model_name": "DescriptionStyleModel",
      "state": {
       "description_width": ""
      }
     },
     "adaec098ed2d4d80b8f77321ef2309af": {
      "model_module": "@jupyter-widgets/base",
      "model_module_version": "1.2.0",
      "model_name": "LayoutModel",
      "state": {}
     },
     "adb0b033588f4f78b56ad5bcfa9195f0": {
      "model_module": "@jupyter-widgets/controls",
      "model_module_version": "1.5.0",
      "model_name": "DescriptionStyleModel",
      "state": {
       "description_width": ""
      }
     },
     "adb0ce73f6114d2da5ea7b964c224ae6": {
      "model_module": "@jupyter-widgets/controls",
      "model_module_version": "1.5.0",
      "model_name": "BoundedFloatTextModel",
      "state": {
       "layout": "IPY_MODEL_fee4b03dd1f34349b1ee0b64aabecac3",
       "max": 55,
       "min": -30,
       "step": 1,
       "style": "IPY_MODEL_f2935a5aeb6644a2be0e3f35365f7b02",
       "value": 20
      }
     },
     "adbc0882cfce47298c92af30ab72ed5d": {
      "model_module": "@jupyter-widgets/base",
      "model_module_version": "1.2.0",
      "model_name": "LayoutModel",
      "state": {}
     },
     "adc009089e91426b88d31469f9f77c37": {
      "model_module": "@jupyter-widgets/controls",
      "model_module_version": "1.5.0",
      "model_name": "VBoxModel",
      "state": {
       "children": [
        "IPY_MODEL_5df8dc4827344a23b3c850f47cadced4",
        "IPY_MODEL_d8609b074b4a4b1db80c16c8e2bd7815"
       ],
       "layout": "IPY_MODEL_f16bced1e54447babda86a3ecfc78321"
      }
     },
     "adc991e494684734a43943abd9f6ca26": {
      "model_module": "@jupyter-widgets/controls",
      "model_module_version": "1.5.0",
      "model_name": "LabelModel",
      "state": {
       "layout": "IPY_MODEL_ee08ab3b2f1d42e6b3fbc01decf38a06",
       "style": "IPY_MODEL_269098320ffe44669bb95155c60b7155",
       "value": "Gas / Specie Mixture:"
      }
     },
     "adcabcd5c3be43b495d5a465fa00dad6": {
      "model_module": "@jupyter-widgets/controls",
      "model_module_version": "1.5.0",
      "model_name": "LabelModel",
      "state": {
       "layout": "IPY_MODEL_56a0278b268148e18267565c59f9b721",
       "style": "IPY_MODEL_0224a56a25fe4691a61834e3180ac937",
       "value": "Temperature in °C:"
      }
     },
     "add2c41faaef4479b7a7d22f79db7a40": {
      "model_module": "@jupyter-widgets/base",
      "model_module_version": "1.2.0",
      "model_name": "LayoutModel",
      "state": {
       "flex": "1 1 auto",
       "width": "auto"
      }
     },
     "ae621e03672641f9890114b5fb7da4c4": {
      "model_module": "@jupyter-widgets/base",
      "model_module_version": "1.2.0",
      "model_name": "LayoutModel",
      "state": {
       "flex": "1 1 auto",
       "width": "auto"
      }
     },
     "ae77f2d5f96e492a9cd11aa526412ce3": {
      "model_module": "@jupyter-widgets/controls",
      "model_module_version": "1.5.0",
      "model_name": "FloatSliderModel",
      "state": {
       "layout": "IPY_MODEL_e07b7bf7bad84aee85e22fec0affac20",
       "max": 15000000,
       "min": 1,
       "readout": false,
       "step": 100000,
       "style": "IPY_MODEL_465a3dbaeba64682be734a055df38b23",
       "value": 101325
      }
     },
     "ae873bf3a0384b37a9ba26e55e1196b0": {
      "model_module": "@jupyter-widgets/controls",
      "model_module_version": "1.5.0",
      "model_name": "DescriptionStyleModel",
      "state": {
       "description_width": ""
      }
     },
     "aeb8eef406564adf8c9b29f6f96cb7d7": {
      "model_module": "@jupyter-widgets/base",
      "model_module_version": "1.2.0",
      "model_name": "LayoutModel",
      "state": {
       "flex": "10 1 auto",
       "width": "auto"
      }
     },
     "af210028481f4b89a047ec490b837fa6": {
      "model_module": "@jupyter-widgets/base",
      "model_module_version": "1.2.0",
      "model_name": "LayoutModel",
      "state": {
       "flex": "1 1 auto",
       "width": "auto"
      }
     },
     "af25a1d167284e438b11ae19f794ce1f": {
      "model_module": "@jupyter-widgets/base",
      "model_module_version": "1.2.0",
      "model_name": "LayoutModel",
      "state": {
       "flex": "1 1 auto",
       "width": "auto"
      }
     },
     "af3ba4a2fde9439e8546874fa09fea00": {
      "model_module": "@jupyter-widgets/controls",
      "model_module_version": "1.5.0",
      "model_name": "SliderStyleModel",
      "state": {
       "description_width": ""
      }
     },
     "af5e77b028ca4eee9aff07fecac2c118": {
      "model_module": "@jupyter-widgets/base",
      "model_module_version": "1.2.0",
      "model_name": "LayoutModel",
      "state": {
       "flex": "10 1 auto",
       "width": "auto"
      }
     },
     "af6e1056317448e48183111fd3eb51a1": {
      "model_module": "@jupyter-widgets/controls",
      "model_module_version": "1.5.0",
      "model_name": "SliderStyleModel",
      "state": {
       "description_width": ""
      }
     },
     "b0068b032e414f38984c6af9d9f8f932": {
      "model_module": "@jupyter-widgets/controls",
      "model_module_version": "1.5.0",
      "model_name": "VBoxModel",
      "state": {
       "children": [
        "IPY_MODEL_cd0adb75feba428b881b464bdf467311",
        "IPY_MODEL_1bb4d9cf17214f34a1bf71cbd3446428"
       ],
       "layout": "IPY_MODEL_5b037ceb965f402b87baeb4f1004c531"
      }
     },
     "b00974998a384043af137fb0068f46c8": {
      "model_module": "@jupyter-widgets/base",
      "model_module_version": "1.2.0",
      "model_name": "LayoutModel",
      "state": {
       "flex": "1 1 auto",
       "width": "auto"
      }
     },
     "b0bd971707b94caebb80c809833480df": {
      "model_module": "@jupyter-widgets/controls",
      "model_module_version": "1.5.0",
      "model_name": "AccordionModel",
      "state": {
       "_titles": {
        "0": "Thermodynamic State",
        "1": "Flat Plate"
       },
       "children": [
        "IPY_MODEL_511984947f0b4fb9a266ca0f0d969d91",
        "IPY_MODEL_bfa31db168d542cea9719ce0e2f92b66"
       ],
       "layout": "IPY_MODEL_73b863dbab1d48fa8a6e5b849108f88b"
      }
     },
     "b0d84884f99145b69045e395b807245c": {
      "model_module": "@jupyter-widgets/controls",
      "model_module_version": "1.5.0",
      "model_name": "HBoxModel",
      "state": {
       "children": [
        "IPY_MODEL_745fe38edaf24db1bcad97ba0e72e55e",
        "IPY_MODEL_6bd0e88e3d68435987f339997b663d6d",
        "IPY_MODEL_03bf775efbde4ddf961ca73b9b7ae0c0"
       ],
       "layout": "IPY_MODEL_88c3bff2fbbf4eef8846f927046845a2"
      }
     },
     "b0fa6fb7cdea43d3a7ca1b170b1cc688": {
      "model_module": "@jupyter-widgets/base",
      "model_module_version": "1.2.0",
      "model_name": "LayoutModel",
      "state": {}
     },
     "b107f4a207734a76a5ddf1ec6adfb3f5": {
      "model_module": "@jupyter-widgets/controls",
      "model_module_version": "1.5.0",
      "model_name": "VBoxModel",
      "state": {
       "children": [
        "IPY_MODEL_54ebb5cdc6f849048cf6ad86ffd5ff85",
        "IPY_MODEL_7157261696e94c378077684a1a55d179"
       ],
       "layout": "IPY_MODEL_860c4164ad2b42efad27336c547b9611"
      }
     },
     "b152dd349b4e4c89b19db9793df3abf3": {
      "model_module": "@jupyter-widgets/controls",
      "model_module_version": "1.5.0",
      "model_name": "FloatSliderModel",
      "state": {
       "layout": "IPY_MODEL_9236db682abb4b9b98c0e794e19f3d8d",
       "max": 55,
       "min": -30,
       "readout": false,
       "style": "IPY_MODEL_008c6ed283484dfda813d3ef3f1a213e",
       "value": 20
      }
     },
     "b168d8031ba7465396d1d492533eb46f": {
      "model_module": "@jupyter-widgets/base",
      "model_module_version": "1.2.0",
      "model_name": "LayoutModel",
      "state": {
       "flex": "1 1 auto",
       "width": "auto"
      }
     },
     "b169e4c135844c32b882fd77b159b674": {
      "model_module": "@jupyter-widgets/controls",
      "model_module_version": "1.5.0",
      "model_name": "HBoxModel",
      "state": {
       "children": [
        "IPY_MODEL_b58df8cb8588413cbe048185fa7077f9",
        "IPY_MODEL_7d5edbd4c90746c2a39bc61e45f06669",
        "IPY_MODEL_1926e2f79d6340a48e8de2c14355e22f"
       ],
       "layout": "IPY_MODEL_d0ccd39fb22947d5b31786ae4703949f"
      }
     },
     "b1749d224912469cab4a25c970c1e745": {
      "model_module": "@jupyter-widgets/base",
      "model_module_version": "1.2.0",
      "model_name": "LayoutModel",
      "state": {
       "display": "flex",
       "flex_flow": "row"
      }
     },
     "b1c2a857a67c43d1b0d9181315998503": {
      "model_module": "@jupyter-widgets/controls",
      "model_module_version": "1.5.0",
      "model_name": "LabelModel",
      "state": {
       "layout": "IPY_MODEL_7f503a990fbc494f866530ea1938fa1c",
       "style": "IPY_MODEL_c68faa4402cf4d33846eb41a6c0c159c",
       "value": "Platelength in m"
      }
     },
     "b23d6c3dc3cc4073914966fe172d4868": {
      "model_module": "@jupyter-widgets/base",
      "model_module_version": "1.2.0",
      "model_name": "LayoutModel",
      "state": {}
     },
     "b252b96deec1490c80823fdf9531f770": {
      "model_module": "@jupyter-widgets/base",
      "model_module_version": "1.2.0",
      "model_name": "LayoutModel",
      "state": {
       "flex": "10 1 auto",
       "width": "auto"
      }
     },
     "b269992e13c740dd8abf3699826959bf": {
      "model_module": "@jupyter-widgets/controls",
      "model_module_version": "1.5.0",
      "model_name": "FloatSliderModel",
      "state": {
       "layout": "IPY_MODEL_0c420c6568db4a18883ffa8264f8c2f2",
       "max": 200,
       "min": 0.001,
       "readout": false,
       "step": 0.001,
       "style": "IPY_MODEL_f7bfd671c51f4d55952317c42141f2e7",
       "value": 20
      }
     },
     "b277aa9f5ce74490a2765ca146ee3ca4": {
      "model_module": "@jupyter-widgets/controls",
      "model_module_version": "1.5.0",
      "model_name": "SliderStyleModel",
      "state": {
       "description_width": ""
      }
     },
     "b28397bc81554619a324df4a12156723": {
      "model_module": "@jupyter-widgets/controls",
      "model_module_version": "1.5.0",
      "model_name": "BoundedFloatTextModel",
      "state": {
       "layout": "IPY_MODEL_28e984d0b2ea4327b95e5d6014fbe8f8",
       "max": 10,
       "min": 0.001,
       "step": 0.001,
       "style": "IPY_MODEL_719b02c467344557a40f2eb8f2c96cfd",
       "value": 0.1
      }
     },
     "b2aea1a2e0a741a8a33dcad59330911f": {
      "model_module": "@jupyter-widgets/base",
      "model_module_version": "1.2.0",
      "model_name": "LayoutModel",
      "state": {}
     },
     "b2eb96aea50a42d5917912a5bfdc378f": {
      "model_module": "@jupyter-widgets/controls",
      "model_module_version": "1.5.0",
      "model_name": "BoundedFloatTextModel",
      "state": {
       "layout": "IPY_MODEL_7d4ccb20096a417db42e8b72d5b47755",
       "max": 200,
       "min": 0.001,
       "step": 0.001,
       "style": "IPY_MODEL_6fddf754107c4f32b0f8e24965999c03",
       "value": 20
      }
     },
     "b33fb244922c423fa2ff6312de4a6b8f": {
      "model_module": "@jupyter-widgets/base",
      "model_module_version": "1.2.0",
      "model_name": "LayoutModel",
      "state": {}
     },
     "b355a0a66e2746c2bbd1163c7dae5cb9": {
      "model_module": "@jupyter-widgets/controls",
      "model_module_version": "1.5.0",
      "model_name": "SliderStyleModel",
      "state": {
       "description_width": ""
      }
     },
     "b35d5995a21d46049dfc76f1cee718b3": {
      "model_module": "@jupyter-widgets/controls",
      "model_module_version": "1.5.0",
      "model_name": "BoundedFloatTextModel",
      "state": {
       "layout": "IPY_MODEL_4d9a65e729d744a09c51bfc141c1dbc3",
       "max": 15000000,
       "min": 1,
       "step": 100000,
       "style": "IPY_MODEL_bd748511211947318796fb7e56572208",
       "value": 101325
      }
     },
     "b36aa2380279475dadb6d698712b2b28": {
      "model_module": "@jupyter-widgets/base",
      "model_module_version": "1.2.0",
      "model_name": "LayoutModel",
      "state": {}
     },
     "b3cec420d40f41dba5ce822122d87b9d": {
      "model_module": "@jupyter-widgets/controls",
      "model_module_version": "1.5.0",
      "model_name": "FloatSliderModel",
      "state": {
       "layout": "IPY_MODEL_f2ee25f5925a4f45b5f18b07a0fa7b14",
       "max": 15000000,
       "min": 1,
       "readout": false,
       "step": 100000,
       "style": "IPY_MODEL_132b37c4e61d4b1795ec5563ace3fd12",
       "value": 101325
      }
     },
     "b44ac810894841b6b158761693840b72": {
      "model_module": "@jupyter-widgets/controls",
      "model_module_version": "1.5.0",
      "model_name": "DescriptionStyleModel",
      "state": {
       "description_width": ""
      }
     },
     "b45bdb586b114b9c80ee9172b0150512": {
      "model_module": "@jupyter-widgets/base",
      "model_module_version": "1.2.0",
      "model_name": "LayoutModel",
      "state": {}
     },
     "b47c90d7c95c49cb857ccea59f487d1d": {
      "model_module": "@jupyter-widgets/controls",
      "model_module_version": "1.5.0",
      "model_name": "DescriptionStyleModel",
      "state": {
       "description_width": ""
      }
     },
     "b4a6950b58b447e79e0981542bf220b8": {
      "model_module": "@jupyter-widgets/controls",
      "model_module_version": "1.5.0",
      "model_name": "LabelModel",
      "state": {
       "layout": "IPY_MODEL_ec035a0d205640d387717ae88793fc62",
       "style": "IPY_MODEL_4829885b68314823a91e0de5a529aff9",
       "value": "Temperature in °C:"
      }
     },
     "b4aaff76941c47e793230a04957b8235": {
      "model_module": "@jupyter-widgets/controls",
      "model_module_version": "1.5.0",
      "model_name": "HBoxModel",
      "state": {
       "children": [
        "IPY_MODEL_a8184d3368194aa09cb1a137833083e9",
        "IPY_MODEL_c33f4fc86eb14b3988aa6773f5bd5c72"
       ],
       "layout": "IPY_MODEL_a51a7f2f37784660a2c273983b32e7ef"
      }
     },
     "b4db9a2ea4ff41e6b144f0f8e2f05cb8": {
      "model_module": "@jupyter-widgets/base",
      "model_module_version": "1.2.0",
      "model_name": "LayoutModel",
      "state": {
       "flex": "10 1 auto",
       "width": "auto"
      }
     },
     "b4e84de47e6a46028ce7e1c27a87d292": {
      "model_module": "@jupyter-widgets/base",
      "model_module_version": "1.2.0",
      "model_name": "LayoutModel",
      "state": {
       "display": "flex",
       "width": "100%"
      }
     },
     "b507a191a8d342af8f8d3895cdc64e18": {
      "model_module": "@jupyter-widgets/controls",
      "model_module_version": "1.5.0",
      "model_name": "BoundedFloatTextModel",
      "state": {
       "layout": "IPY_MODEL_66751a9b29d644229b6fe1ef211b7a37",
       "max": 10,
       "min": 0.001,
       "step": 0.001,
       "style": "IPY_MODEL_adac2d7a8ba64529ab8f625e18432944",
       "value": 0.1
      }
     },
     "b50f9b517867495ba9b326e96904a3ad": {
      "model_module": "@jupyter-widgets/controls",
      "model_module_version": "1.5.0",
      "model_name": "AccordionModel",
      "state": {
       "_titles": {
        "0": "Thermodynamic State",
        "1": "Flat Plate"
       },
       "children": [
        "IPY_MODEL_1f76518a319a441d8f04a6a279968bf2",
        "IPY_MODEL_fd5f33f0521f444aa6e64971c3804bc6"
       ],
       "layout": "IPY_MODEL_205ef363b7fa4987839e5381edb6c936"
      }
     },
     "b58df8cb8588413cbe048185fa7077f9": {
      "model_module": "@jupyter-widgets/controls",
      "model_module_version": "1.5.0",
      "model_name": "LabelModel",
      "state": {
       "layout": "IPY_MODEL_ea723a674a594fa9ae1a120e3c31ecd0",
       "style": "IPY_MODEL_65a47c2d95df46ce9e5deaada3c38a0d",
       "value": "Platelength in m"
      }
     },
     "b5c01c28912444829c56cf8ad8e62a5d": {
      "model_module": "@jupyter-widgets/base",
      "model_module_version": "1.2.0",
      "model_name": "LayoutModel",
      "state": {}
     },
     "b5fcd078656d4624a8eaa281d23a0990": {
      "model_module": "@jupyter-widgets/controls",
      "model_module_version": "1.5.0",
      "model_name": "DescriptionStyleModel",
      "state": {
       "description_width": ""
      }
     },
     "b6f3408c5261477c8a608b1b036526a6": {
      "model_module": "@jupyter-widgets/controls",
      "model_module_version": "1.5.0",
      "model_name": "DescriptionStyleModel",
      "state": {
       "description_width": ""
      }
     },
     "b7493057a4354a1ba04497567bfd1bad": {
      "model_module": "@jupyter-widgets/controls",
      "model_module_version": "1.5.0",
      "model_name": "FloatSliderModel",
      "state": {
       "layout": "IPY_MODEL_2c4716733597440594781b20a90279ac",
       "max": 200,
       "min": 0.001,
       "readout": false,
       "step": 0.001,
       "style": "IPY_MODEL_f5245348460e47c4921a170fd63ce8bb",
       "value": 20
      }
     },
     "b75ec268df504df1969142c53bc0dce0": {
      "model_module": "@jupyter-widgets/base",
      "model_module_version": "1.2.0",
      "model_name": "LayoutModel",
      "state": {
       "flex": "1 1 auto",
       "width": "auto"
      }
     },
     "b77146198d72447fbd903c4d9e67b9f8": {
      "model_module": "@jupyter-widgets/base",
      "model_module_version": "1.2.0",
      "model_name": "LayoutModel",
      "state": {
       "display": "flex",
       "width": "100%"
      }
     },
     "b7adf4df82b84a41b463de1d40ea219c": {
      "model_module": "@jupyter-widgets/controls",
      "model_module_version": "1.5.0",
      "model_name": "DescriptionStyleModel",
      "state": {
       "description_width": ""
      }
     },
     "b7b9154dd9a64c09ba4583f4adabf6d5": {
      "model_module": "@jupyter-widgets/base",
      "model_module_version": "1.2.0",
      "model_name": "LayoutModel",
      "state": {
       "display": "flex",
       "width": "100%"
      }
     },
     "b870cd7bc9ed4c8d8fa32cd8f52d0f76": {
      "model_module": "@jupyter-widgets/base",
      "model_module_version": "1.2.0",
      "model_name": "LayoutModel",
      "state": {}
     },
     "b8816de08ada40a99dea230382da4bba": {
      "model_module": "@jupyter-widgets/controls",
      "model_module_version": "1.5.0",
      "model_name": "DescriptionStyleModel",
      "state": {
       "description_width": ""
      }
     },
     "b896923d7e294bdbbc7457fc94824f9f": {
      "model_module": "@jupyter-widgets/controls",
      "model_module_version": "1.5.0",
      "model_name": "FloatSliderModel",
      "state": {
       "layout": "IPY_MODEL_f93785f7f44a4ce2822f3b24c3d2a971",
       "max": 200,
       "min": 0.001,
       "readout": false,
       "step": 0.001,
       "style": "IPY_MODEL_0edecb1bb7dc4ee59f087fa56c14e8ef",
       "value": 20
      }
     },
     "b89a81dcab224bda94a5316d3a7f4875": {
      "model_module": "@jupyter-widgets/output",
      "model_module_version": "1.0.0",
      "model_name": "OutputModel",
      "state": {
       "layout": "IPY_MODEL_5558da4c0283428bb707091ba07c336b"
      }
     },
     "b8c344c7ec184fa0b63f206a508cc4ed": {
      "model_module": "@jupyter-widgets/controls",
      "model_module_version": "1.5.0",
      "model_name": "BoundedFloatTextModel",
      "state": {
       "layout": "IPY_MODEL_3bfac8db05794e52b24233437ffc4d53",
       "max": 200,
       "min": 0.001,
       "step": 0.001,
       "style": "IPY_MODEL_91d6968cb35240709b7d64be64b6e5a1",
       "value": 20
      }
     },
     "b8d251ddbd214af682a95e25b9277785": {
      "model_module": "@jupyter-widgets/controls",
      "model_module_version": "1.5.0",
      "model_name": "LabelModel",
      "state": {
       "layout": "IPY_MODEL_d7762997fd7e496890c7c5985925ab52",
       "style": "IPY_MODEL_4f39bfdf9a0a41f89f0c35709b794c19",
       "value": "Pressure in Pa:"
      }
     },
     "b8e802c2e0ce47dba0df11c90609b2c1": {
      "model_module": "@jupyter-widgets/controls",
      "model_module_version": "1.5.0",
      "model_name": "LabelModel",
      "state": {
       "layout": "IPY_MODEL_0bec925143ec4fa98e71c03cb21c429d",
       "style": "IPY_MODEL_b7adf4df82b84a41b463de1d40ea219c",
       "value": "Pressure in Pa:"
      }
     },
     "b8f55921fd9d4590bba15105268a8684": {
      "model_module": "@jupyter-widgets/base",
      "model_module_version": "1.2.0",
      "model_name": "LayoutModel",
      "state": {}
     },
     "b9069d067eec42bab0e52acdcff5e242": {
      "model_module": "@jupyter-widgets/base",
      "model_module_version": "1.2.0",
      "model_name": "LayoutModel",
      "state": {
       "flex": "1 1 auto",
       "width": "auto"
      }
     },
     "b911c1900fd64a2ba1d41b1af4a4113c": {
      "model_module": "@jupyter-widgets/controls",
      "model_module_version": "1.5.0",
      "model_name": "HBoxModel",
      "state": {
       "children": [
        "IPY_MODEL_0130f751450a4d678e364ff97eca0a93",
        "IPY_MODEL_30f22d391ec74fca81acd4281780d494",
        "IPY_MODEL_bb0265b86f254bfcb9ae059a811c1df5"
       ],
       "layout": "IPY_MODEL_9c5d35b3b6c34b6bb529f919be0e584d"
      }
     },
     "b956a80f475647c2b7ebcba1abd6ffb5": {
      "model_module": "@jupyter-widgets/base",
      "model_module_version": "1.2.0",
      "model_name": "LayoutModel",
      "state": {
       "flex": "1 1 auto",
       "width": "auto"
      }
     },
     "b99ebd09fa64400183d0eabd82ed3c0d": {
      "model_module": "@jupyter-widgets/controls",
      "model_module_version": "1.5.0",
      "model_name": "LabelModel",
      "state": {
       "layout": "IPY_MODEL_10793682576d49f982fa39626370fc40",
       "style": "IPY_MODEL_bcb3eafd9b20421f8502d841b09c3511",
       "value": "Velocity in m/s:"
      }
     },
     "b9c4b8cbee1b4408930a524247e1dca4": {
      "model_module": "@jupyter-widgets/base",
      "model_module_version": "1.2.0",
      "model_name": "LayoutModel",
      "state": {
       "flex": "1 1 auto",
       "width": "auto"
      }
     },
     "b9cc1ee43b7e497b922095239a7b4b0c": {
      "model_module": "@jupyter-widgets/controls",
      "model_module_version": "1.5.0",
      "model_name": "DescriptionStyleModel",
      "state": {
       "description_width": ""
      }
     },
     "ba007c98e63446efa9b06d12658c6a2e": {
      "model_module": "@jupyter-widgets/base",
      "model_module_version": "1.2.0",
      "model_name": "LayoutModel",
      "state": {}
     },
     "ba5292e3cf9140b9a92aac34e45f3946": {
      "model_module": "@jupyter-widgets/base",
      "model_module_version": "1.2.0",
      "model_name": "LayoutModel",
      "state": {
       "display": "flex",
       "flex_flow": "row"
      }
     },
     "ba82a487a75a4b718f6b153f53ff3479": {
      "model_module": "@jupyter-widgets/base",
      "model_module_version": "1.2.0",
      "model_name": "LayoutModel",
      "state": {
       "display": "flex",
       "flex_flow": "row"
      }
     },
     "baa649f4475f4631b59270d608e4017b": {
      "model_module": "@jupyter-widgets/controls",
      "model_module_version": "1.5.0",
      "model_name": "DescriptionStyleModel",
      "state": {
       "description_width": ""
      }
     },
     "bab29f00eef34a3986fd5382a1dbda63": {
      "model_module": "@jupyter-widgets/controls",
      "model_module_version": "1.5.0",
      "model_name": "DescriptionStyleModel",
      "state": {
       "description_width": ""
      }
     },
     "bad30caaebd9464a8bc2c6c972b74edf": {
      "model_module": "@jupyter-widgets/controls",
      "model_module_version": "1.5.0",
      "model_name": "FloatSliderModel",
      "state": {
       "layout": "IPY_MODEL_a4224af243694e2395646b3f26218a1a",
       "max": 10,
       "min": 0.001,
       "readout": false,
       "step": 0.001,
       "style": "IPY_MODEL_c5cec0e523c94fe48ad826968811dc5a",
       "value": 0.1
      }
     },
     "bad77b38c6a14ad89fda28c1beecb46a": {
      "model_module": "@jupyter-widgets/base",
      "model_module_version": "1.2.0",
      "model_name": "LayoutModel",
      "state": {
       "flex": "1 1 auto",
       "width": "auto"
      }
     },
     "baea9112ce374afb908da978d1d7a0dd": {
      "model_module": "@jupyter-widgets/controls",
      "model_module_version": "1.5.0",
      "model_name": "DropdownModel",
      "state": {
       "_options_labels": [
        "1-Butene",
        "Acetone",
        "Air",
        "Ammonia",
        "Argon",
        "Benzene",
        "CarbonDioxide",
        "CarbonMonoxide",
        "CarbonylSulfide",
        "CycloHexane",
        "CycloPropane",
        "Cyclopentane",
        "D4",
        "D5",
        "D6",
        "Deuterium",
        "Dichloroethane",
        "DiethylEther",
        "DimethylCarbonate",
        "DimethylEther",
        "Ethane",
        "Ethanol",
        "EthylBenzene",
        "Ethylene",
        "EthyleneOxide",
        "Fluorine",
        "HFE143m",
        "HeavyWater",
        "Helium",
        "Hydrogen",
        "HydrogenChloride",
        "HydrogenSulfide",
        "IsoButane",
        "IsoButene",
        "Isohexane",
        "Isopentane",
        "Krypton",
        "MD2M",
        "MD3M",
        "MD4M",
        "MDM",
        "MM",
        "Methane",
        "Methanol",
        "MethylLinoleate",
        "MethylLinolenate",
        "MethylOleate",
        "MethylPalmitate",
        "MethylStearate",
        "Neon",
        "Neopentane",
        "Nitrogen",
        "NitrousOxide",
        "Novec649",
        "OrthoDeuterium",
        "OrthoHydrogen",
        "Oxygen",
        "ParaDeuterium",
        "ParaHydrogen",
        "Propylene",
        "Propyne",
        "R11",
        "R113",
        "R114",
        "R115",
        "R116",
        "R12",
        "R123",
        "R1233zd(E)",
        "R1234yf",
        "R1234ze(E)",
        "R1234ze(Z)",
        "R124",
        "R1243zf",
        "R125",
        "R13",
        "R134a",
        "R13I1",
        "R14",
        "R141b",
        "R142b",
        "R143a",
        "R152A",
        "R161",
        "R21",
        "R218",
        "R22",
        "R227EA",
        "R23",
        "R236EA",
        "R236FA",
        "R245ca",
        "R245fa",
        "R32",
        "R365MFC",
        "R40",
        "R404A",
        "R407C",
        "R41",
        "R410A",
        "R507A",
        "RC318",
        "SES36",
        "SulfurDioxide",
        "SulfurHexafluoride",
        "Toluene",
        "Water",
        "Xenon",
        "cis-2-Butene",
        "m-Xylene",
        "n-Butane",
        "n-Decane",
        "n-Dodecane",
        "n-Heptane",
        "n-Hexane",
        "n-Nonane",
        "n-Octane",
        "n-Pentane",
        "n-Propane",
        "n-Undecane",
        "o-Xylene",
        "p-Xylene",
        "trans-2-Butene"
       ],
       "index": 2,
       "layout": "IPY_MODEL_cdf4e88b023841189a53749afba60dbe",
       "style": "IPY_MODEL_d22655d07fdd42d5bba460d338a6c62a"
      }
     },
     "bb0265b86f254bfcb9ae059a811c1df5": {
      "model_module": "@jupyter-widgets/controls",
      "model_module_version": "1.5.0",
      "model_name": "BoundedFloatTextModel",
      "state": {
       "layout": "IPY_MODEL_7c36b29ff3e144cf8b948b37c3ed484a",
       "max": 55,
       "min": -30,
       "step": 1,
       "style": "IPY_MODEL_daf4ec8dc8054a6b84d0afa295c3d8de",
       "value": 20
      }
     },
     "bb035845706e478ea4c7d204df3c1bff": {
      "model_module": "@jupyter-widgets/base",
      "model_module_version": "1.2.0",
      "model_name": "LayoutModel",
      "state": {
       "display": "flex",
       "width": "100%"
      }
     },
     "bb2b091917cc4253a19d4057466caf0d": {
      "model_module": "@jupyter-widgets/controls",
      "model_module_version": "1.5.0",
      "model_name": "DescriptionStyleModel",
      "state": {
       "description_width": ""
      }
     },
     "bb7bdfbd12244dc580e577716d1cf6d5": {
      "model_module": "@jupyter-widgets/controls",
      "model_module_version": "1.5.0",
      "model_name": "DescriptionStyleModel",
      "state": {
       "description_width": ""
      }
     },
     "bb7cd3ee14f24113ad8198395fcbf1f7": {
      "model_module": "@jupyter-widgets/base",
      "model_module_version": "1.2.0",
      "model_name": "LayoutModel",
      "state": {
       "flex": "1 1 auto",
       "width": "auto"
      }
     },
     "bbaa9c1e3ac04db98cc72a7a7263ed4b": {
      "model_module": "@jupyter-widgets/controls",
      "model_module_version": "1.5.0",
      "model_name": "DescriptionStyleModel",
      "state": {
       "description_width": ""
      }
     },
     "bbb492ab511342529c698246f65d1508": {
      "model_module": "@jupyter-widgets/controls",
      "model_module_version": "1.5.0",
      "model_name": "LabelModel",
      "state": {
       "layout": "IPY_MODEL_b45bdb586b114b9c80ee9172b0150512",
       "style": "IPY_MODEL_c13844dfee3c4b8fb75bef394099d4e9",
       "value": "Gas / Specie Mixture:"
      }
     },
     "bbd8993af8a2462fa5ada47c91edc5f7": {
      "model_module": "@jupyter-widgets/controls",
      "model_module_version": "1.5.0",
      "model_name": "DescriptionStyleModel",
      "state": {
       "description_width": ""
      }
     },
     "bbe161fd4c504620b1b11f16b4607e24": {
      "model_module": "@jupyter-widgets/controls",
      "model_module_version": "1.5.0",
      "model_name": "AccordionModel",
      "state": {
       "_titles": {
        "0": "Thermodynamic State",
        "1": "Flat Plate"
       },
       "children": [
        "IPY_MODEL_da5c557807dd4660a8550192db1224a0",
        "IPY_MODEL_1fbcd91dafa5499ca64ee5731f2c6e36"
       ],
       "layout": "IPY_MODEL_cb9d965ecd9c40c0986eb0733a1d6c9f"
      }
     },
     "bc30d5fdc2b64c9d960f75b8aec37055": {
      "model_module": "@jupyter-widgets/controls",
      "model_module_version": "1.5.0",
      "model_name": "HBoxModel",
      "state": {
       "children": [
        "IPY_MODEL_cdb30118215c4d4f844e38f427a2b044",
        "IPY_MODEL_2317d3b0b385456189ed38cee4d8ca80",
        "IPY_MODEL_5cf0209a77914b2fa3fc90f8fc5070c1"
       ],
       "layout": "IPY_MODEL_594b0bacba434d339750e5cf0806671e"
      }
     },
     "bc5227a3b4fe4db2ba67d0afe70037a8": {
      "model_module": "@jupyter-widgets/base",
      "model_module_version": "1.2.0",
      "model_name": "LayoutModel",
      "state": {}
     },
     "bc569123b3ad479c8cbf0bbd0717c6e7": {
      "model_module": "@jupyter-widgets/controls",
      "model_module_version": "1.5.0",
      "model_name": "DescriptionStyleModel",
      "state": {
       "description_width": ""
      }
     },
     "bc74d6ea86b149b095e8833415837d13": {
      "model_module": "@jupyter-widgets/controls",
      "model_module_version": "1.5.0",
      "model_name": "VBoxModel",
      "state": {
       "children": [
        "IPY_MODEL_8caa04f9eed5401b854ee4e255cee333",
        "IPY_MODEL_a3978e2ff99e420b98a9017c8844bced",
        "IPY_MODEL_e58e39a8e714404f8f1f9eb25a4b19e0"
       ],
       "layout": "IPY_MODEL_49b1f4378681417d9515a5ed16080a22"
      }
     },
     "bc9610053afd4a628536923ef1bf3ee9": {
      "model_module": "@jupyter-widgets/controls",
      "model_module_version": "1.5.0",
      "model_name": "LabelModel",
      "state": {
       "layout": "IPY_MODEL_d4579fbc63b74fe899807a1bf83659db",
       "style": "IPY_MODEL_138ae3e4ad0e4a83b92e783316ed7ce8",
       "value": "Velocity in m/s:"
      }
     },
     "bcb3eafd9b20421f8502d841b09c3511": {
      "model_module": "@jupyter-widgets/controls",
      "model_module_version": "1.5.0",
      "model_name": "DescriptionStyleModel",
      "state": {
       "description_width": ""
      }
     },
     "bcbd56c742554c5f94a834d19ebf9eed": {
      "model_module": "@jupyter-widgets/controls",
      "model_module_version": "1.5.0",
      "model_name": "BoundedFloatTextModel",
      "state": {
       "layout": "IPY_MODEL_e08c1d0245214de5a030827a08b5238a",
       "max": 55,
       "min": -30,
       "step": 1,
       "style": "IPY_MODEL_925689bf100647d596eeedd8ab093846",
       "value": 20
      }
     },
     "bcbe5a13c6d5439a90a09ba0793de15a": {
      "model_module": "@jupyter-widgets/base",
      "model_module_version": "1.2.0",
      "model_name": "LayoutModel",
      "state": {
       "flex": "10 1 auto",
       "width": "auto"
      }
     },
     "bcef46c57e0f4281b2c48ab3f32ffd52": {
      "model_module": "@jupyter-widgets/base",
      "model_module_version": "1.2.0",
      "model_name": "LayoutModel",
      "state": {
       "display": "flex",
       "width": "100%"
      }
     },
     "bcfb87690e1a469ea748cdbfb5d14cb5": {
      "model_module": "@jupyter-widgets/base",
      "model_module_version": "1.2.0",
      "model_name": "LayoutModel",
      "state": {}
     },
     "bd3a5b2041c440d1b9ecf19f46d6aa47": {
      "model_module": "@jupyter-widgets/controls",
      "model_module_version": "1.5.0",
      "model_name": "LabelModel",
      "state": {
       "layout": "IPY_MODEL_8234b47a929a40c6ae4d6abd7eff85f5",
       "style": "IPY_MODEL_deac7f98374c44639770ae6521163ff6",
       "value": "Gas / Specie Mixture:"
      }
     },
     "bd44ecb6873549a99c8f6a61294740bb": {
      "model_module": "@jupyter-widgets/base",
      "model_module_version": "1.2.0",
      "model_name": "LayoutModel",
      "state": {
       "flex": "10 1 auto",
       "width": "auto"
      }
     },
     "bd748511211947318796fb7e56572208": {
      "model_module": "@jupyter-widgets/controls",
      "model_module_version": "1.5.0",
      "model_name": "DescriptionStyleModel",
      "state": {
       "description_width": ""
      }
     },
     "bd75a23311bb4c3b9bcddb0ceb1def4d": {
      "model_module": "@jupyter-widgets/controls",
      "model_module_version": "1.5.0",
      "model_name": "DescriptionStyleModel",
      "state": {
       "description_width": ""
      }
     },
     "bda33117b3f442bf81ad4bd540cdd28c": {
      "model_module": "@jupyter-widgets/base",
      "model_module_version": "1.2.0",
      "model_name": "LayoutModel",
      "state": {}
     },
     "bdc7626464db4b55babc1c759102bb23": {
      "model_module": "@jupyter-widgets/base",
      "model_module_version": "1.2.0",
      "model_name": "LayoutModel",
      "state": {
       "display": "flex",
       "flex_flow": "row"
      }
     },
     "bdcdb0a930db4ab2a271694b5badb42f": {
      "model_module": "@jupyter-widgets/controls",
      "model_module_version": "1.5.0",
      "model_name": "FloatSliderModel",
      "state": {
       "layout": "IPY_MODEL_c2d003c70b8d4a91a6eb8e6114fdd018",
       "max": 15000000,
       "min": 1,
       "readout": false,
       "step": 100000,
       "style": "IPY_MODEL_8dbe384ee34648ff829648b43f724511",
       "value": 101325
      }
     },
     "bdceeebbe56b44b48b720e7e944e6b86": {
      "model_module": "@jupyter-widgets/controls",
      "model_module_version": "1.5.0",
      "model_name": "LabelModel",
      "state": {
       "layout": "IPY_MODEL_7fbc7d3fa5ae49b7b4a0ba1844c7e01b",
       "style": "IPY_MODEL_81a82ffff3ce467eb594d32db66da277",
       "value": "Velocity in m/s:"
      }
     },
     "bde229f1d3c54ae6b87c9b20978e94b8": {
      "model_module": "@jupyter-widgets/controls",
      "model_module_version": "1.5.0",
      "model_name": "DescriptionStyleModel",
      "state": {
       "description_width": ""
      }
     },
     "bdf4d3433cd74978a00b60105b53f63e": {
      "model_module": "@jupyter-widgets/controls",
      "model_module_version": "1.5.0",
      "model_name": "DescriptionStyleModel",
      "state": {
       "description_width": ""
      }
     },
     "be5ec9e1e6b14a248a268f26a71f12c0": {
      "model_module": "@jupyter-widgets/controls",
      "model_module_version": "1.5.0",
      "model_name": "FloatSliderModel",
      "state": {
       "layout": "IPY_MODEL_3377f12db7c445038edacacea991524a",
       "max": 55,
       "min": -30,
       "readout": false,
       "style": "IPY_MODEL_d8b04ce7208a41a2ba9d2ede3ac0452d",
       "value": 20
      }
     },
     "be5fd4ecfcd24071aecc4cf5ebed87c1": {
      "model_module": "@jupyter-widgets/controls",
      "model_module_version": "1.5.0",
      "model_name": "BoundedFloatTextModel",
      "state": {
       "layout": "IPY_MODEL_693380c877f74c15b8130c09cff40158",
       "max": 15000000,
       "min": 1,
       "step": 100000,
       "style": "IPY_MODEL_31632d277b0b4c71a1959ba7e0f3ca0d",
       "value": 101325
      }
     },
     "be6be15c14954f2f9ab80a737b272814": {
      "model_module": "@jupyter-widgets/controls",
      "model_module_version": "1.5.0",
      "model_name": "HBoxModel",
      "state": {
       "children": [
        "IPY_MODEL_ecc596da9f974d5183ed6f3f03f36523",
        "IPY_MODEL_cd8206683cfc4ccd87c8ffabe6455ac0",
        "IPY_MODEL_5c88a2e8956e4e62801ebaef124f90c1"
       ],
       "layout": "IPY_MODEL_89961d5e3dce42f1802d3095d9c4f2ed"
      }
     },
     "be8e9ea20c7a43e78a40b84c64b32995": {
      "model_module": "@jupyter-widgets/controls",
      "model_module_version": "1.5.0",
      "model_name": "DescriptionStyleModel",
      "state": {
       "description_width": ""
      }
     },
     "bee31dcecbf74c56a24a8f8f8e2a63c2": {
      "model_module": "@jupyter-widgets/base",
      "model_module_version": "1.2.0",
      "model_name": "LayoutModel",
      "state": {
       "display": "flex",
       "width": "100%"
      }
     },
     "bef234da2ebf4a8096b46deb952d91b1": {
      "model_module": "@jupyter-widgets/controls",
      "model_module_version": "1.5.0",
      "model_name": "DescriptionStyleModel",
      "state": {
       "description_width": ""
      }
     },
     "bf2999b8a355435dad35e46d20f09df6": {
      "model_module": "@jupyter-widgets/controls",
      "model_module_version": "1.5.0",
      "model_name": "HBoxModel",
      "state": {
       "children": [
        "IPY_MODEL_3c23bb86d5164978b706807acf044d71",
        "IPY_MODEL_b3cec420d40f41dba5ce822122d87b9d",
        "IPY_MODEL_5e4cc22d3b53439086f98c699ecd63b6"
       ],
       "layout": "IPY_MODEL_5642dd466d91446b88321eef1c879ba3"
      }
     },
     "bf3470e959a24466a5bd14dc5583db7a": {
      "model_module": "@jupyter-widgets/controls",
      "model_module_version": "1.5.0",
      "model_name": "VBoxModel",
      "state": {
       "children": [
        "IPY_MODEL_cb38ba64415d4f4fa37d2f223a1917d4",
        "IPY_MODEL_1a1e7cb03d304fef90174921261bfb41",
        "IPY_MODEL_01e73c8c08d94fadb28fbd1816fabaf3"
       ],
       "layout": "IPY_MODEL_d7aaa1c497bc432bb36115bb208e46b2"
      }
     },
     "bf47448d509f433db04738d247a1d2d3": {
      "model_module": "@jupyter-widgets/base",
      "model_module_version": "1.2.0",
      "model_name": "LayoutModel",
      "state": {
       "display": "flex",
       "flex_flow": "row"
      }
     },
     "bfa31db168d542cea9719ce0e2f92b66": {
      "model_module": "@jupyter-widgets/controls",
      "model_module_version": "1.5.0",
      "model_name": "VBoxModel",
      "state": {
       "children": [
        "IPY_MODEL_c7febd1fab5c492b890020c607f5caf9",
        "IPY_MODEL_f5cfa4c0bd3e40159d4d3bf8eaed1b6b"
       ],
       "layout": "IPY_MODEL_52f94042886647d98720be5685836625"
      }
     },
     "bfee6f79643544dda2ee548ce5284ac8": {
      "model_module": "@jupyter-widgets/base",
      "model_module_version": "1.2.0",
      "model_name": "LayoutModel",
      "state": {
       "display": "flex",
       "flex_flow": "row"
      }
     },
     "c09dbc7e26de48038e2d722360be40b8": {
      "model_module": "@jupyter-widgets/controls",
      "model_module_version": "1.5.0",
      "model_name": "DescriptionStyleModel",
      "state": {
       "description_width": ""
      }
     },
     "c0c5926f0d0a4329ac8f48eed817bab9": {
      "model_module": "@jupyter-widgets/base",
      "model_module_version": "1.2.0",
      "model_name": "LayoutModel",
      "state": {
       "flex": "1 1 auto",
       "width": "auto"
      }
     },
     "c0cdb690aabc4f2fbd6adc5554cee05a": {
      "model_module": "@jupyter-widgets/base",
      "model_module_version": "1.2.0",
      "model_name": "LayoutModel",
      "state": {
       "flex": "10 1 auto",
       "width": "auto"
      }
     },
     "c0fe1d9873974328ace6d8128c8eb7ac": {
      "model_module": "@jupyter-widgets/controls",
      "model_module_version": "1.5.0",
      "model_name": "LabelModel",
      "state": {
       "layout": "IPY_MODEL_ef85426f5a4b4d58b39d2cb01cc7377f",
       "style": "IPY_MODEL_ab961ed6412c4693b9bf1c18aa8a9b1d",
       "value": "Velocity in m/s:"
      }
     },
     "c135973fa311413187296484841bac08": {
      "model_module": "@jupyter-widgets/controls",
      "model_module_version": "1.5.0",
      "model_name": "DescriptionStyleModel",
      "state": {
       "description_width": ""
      }
     },
     "c13844dfee3c4b8fb75bef394099d4e9": {
      "model_module": "@jupyter-widgets/controls",
      "model_module_version": "1.5.0",
      "model_name": "DescriptionStyleModel",
      "state": {
       "description_width": ""
      }
     },
     "c13e336d86e44306938b03fdf98139e2": {
      "model_module": "@jupyter-widgets/base",
      "model_module_version": "1.2.0",
      "model_name": "LayoutModel",
      "state": {
       "display": "flex",
       "width": "100%"
      }
     },
     "c1afa932caee405bb2a151acb9b28860": {
      "model_module": "@jupyter-widgets/controls",
      "model_module_version": "1.5.0",
      "model_name": "DescriptionStyleModel",
      "state": {
       "description_width": ""
      }
     },
     "c1bf58d429964ef693cf2a9eaae9164e": {
      "model_module": "@jupyter-widgets/base",
      "model_module_version": "1.2.0",
      "model_name": "LayoutModel",
      "state": {
       "flex": "10 1 auto",
       "width": "auto"
      }
     },
     "c1e596930f5e4012b1577e09b5931d94": {
      "model_module": "@jupyter-widgets/base",
      "model_module_version": "1.2.0",
      "model_name": "LayoutModel",
      "state": {
       "flex": "1 1 auto",
       "width": "auto"
      }
     },
     "c210b5d8c0eb4df69194374f56d9b961": {
      "model_module": "@jupyter-widgets/controls",
      "model_module_version": "1.5.0",
      "model_name": "FloatSliderModel",
      "state": {
       "layout": "IPY_MODEL_e7aa2d84fd774a74957966510fec0f5a",
       "max": 10,
       "min": 0.001,
       "readout": false,
       "step": 0.001,
       "style": "IPY_MODEL_c4540d52565948e59aafdf3846fe4055",
       "value": 0.1
      }
     },
     "c22f3fe3c7f94e8a96628af487920119": {
      "model_module": "@jupyter-widgets/controls",
      "model_module_version": "1.5.0",
      "model_name": "FloatSliderModel",
      "state": {
       "layout": "IPY_MODEL_188c6828beb74f89b596666e5e6026cd",
       "max": 10,
       "min": 0.001,
       "readout": false,
       "step": 0.001,
       "style": "IPY_MODEL_8e74ce267bc3495eb98a3d430388cc99",
       "value": 0.1
      }
     },
     "c263f1164281470aa5bfb699da53a258": {
      "model_module": "@jupyter-widgets/controls",
      "model_module_version": "1.5.0",
      "model_name": "DescriptionStyleModel",
      "state": {
       "description_width": ""
      }
     },
     "c26b543de61c4975ab8b23c2d63cab1c": {
      "model_module": "@jupyter-widgets/controls",
      "model_module_version": "1.5.0",
      "model_name": "HBoxModel",
      "state": {
       "children": [
        "IPY_MODEL_829595241a68469eb14e36de03be955a",
        "IPY_MODEL_d86c1d1ed3164e8f83959d27eecb8785",
        "IPY_MODEL_0f7ac4fb21af460d8fc7d3b8e00bf70b"
       ],
       "layout": "IPY_MODEL_98145e1b45024db3a90fc65e4ca98b75"
      }
     },
     "c2c5dfe074524c1ba99fb188e4d02835": {
      "model_module": "@jupyter-widgets/controls",
      "model_module_version": "1.5.0",
      "model_name": "FloatSliderModel",
      "state": {
       "layout": "IPY_MODEL_682873377d7f4454918c5b2e85950523",
       "max": 55,
       "min": -30,
       "readout": false,
       "style": "IPY_MODEL_5f6804e0333b4679b64fe3559789e8e8",
       "value": 20
      }
     },
     "c2d003c70b8d4a91a6eb8e6114fdd018": {
      "model_module": "@jupyter-widgets/base",
      "model_module_version": "1.2.0",
      "model_name": "LayoutModel",
      "state": {
       "flex": "10 1 auto",
       "width": "auto"
      }
     },
     "c2d8d93aced04f7991c4130ae648ebdf": {
      "model_module": "@jupyter-widgets/base",
      "model_module_version": "1.2.0",
      "model_name": "LayoutModel",
      "state": {
       "flex": "1 1 auto",
       "width": "auto"
      }
     },
     "c2e0b345ccbe4f3ca75fd88d0af5d2c9": {
      "model_module": "@jupyter-widgets/base",
      "model_module_version": "1.2.0",
      "model_name": "LayoutModel",
      "state": {
       "flex": "1 1 auto",
       "width": "auto"
      }
     },
     "c2fb51b4eff9410b920da429cdaa0a7c": {
      "model_module": "@jupyter-widgets/base",
      "model_module_version": "1.2.0",
      "model_name": "LayoutModel",
      "state": {
       "flex": "1 1 auto",
       "width": "auto"
      }
     },
     "c31febbe26e943cfa7731dfcf1f3ef18": {
      "model_module": "@jupyter-widgets/base",
      "model_module_version": "1.2.0",
      "model_name": "LayoutModel",
      "state": {
       "display": "flex",
       "width": "100%"
      }
     },
     "c33f4fc86eb14b3988aa6773f5bd5c72": {
      "model_module": "@jupyter-widgets/controls",
      "model_module_version": "1.5.0",
      "model_name": "DropdownModel",
      "state": {
       "_options_labels": [
        "1-Butene",
        "Acetone",
        "Air",
        "Ammonia",
        "Argon",
        "Benzene",
        "CarbonDioxide",
        "CarbonMonoxide",
        "CarbonylSulfide",
        "CycloHexane",
        "CycloPropane",
        "Cyclopentane",
        "D4",
        "D5",
        "D6",
        "Deuterium",
        "Dichloroethane",
        "DiethylEther",
        "DimethylCarbonate",
        "DimethylEther",
        "Ethane",
        "Ethanol",
        "EthylBenzene",
        "Ethylene",
        "EthyleneOxide",
        "Fluorine",
        "HFE143m",
        "HeavyWater",
        "Helium",
        "Hydrogen",
        "HydrogenChloride",
        "HydrogenSulfide",
        "IsoButane",
        "IsoButene",
        "Isohexane",
        "Isopentane",
        "Krypton",
        "MD2M",
        "MD3M",
        "MD4M",
        "MDM",
        "MM",
        "Methane",
        "Methanol",
        "MethylLinoleate",
        "MethylLinolenate",
        "MethylOleate",
        "MethylPalmitate",
        "MethylStearate",
        "Neon",
        "Neopentane",
        "Nitrogen",
        "NitrousOxide",
        "Novec649",
        "OrthoDeuterium",
        "OrthoHydrogen",
        "Oxygen",
        "ParaDeuterium",
        "ParaHydrogen",
        "Propylene",
        "Propyne",
        "R11",
        "R113",
        "R114",
        "R115",
        "R116",
        "R12",
        "R123",
        "R1233zd(E)",
        "R1234yf",
        "R1234ze(E)",
        "R1234ze(Z)",
        "R124",
        "R1243zf",
        "R125",
        "R13",
        "R134a",
        "R13I1",
        "R14",
        "R141b",
        "R142b",
        "R143a",
        "R152A",
        "R161",
        "R21",
        "R218",
        "R22",
        "R227EA",
        "R23",
        "R236EA",
        "R236FA",
        "R245ca",
        "R245fa",
        "R32",
        "R365MFC",
        "R40",
        "R404A",
        "R407C",
        "R41",
        "R410A",
        "R507A",
        "RC318",
        "SES36",
        "SulfurDioxide",
        "SulfurHexafluoride",
        "Toluene",
        "Water",
        "Xenon",
        "cis-2-Butene",
        "m-Xylene",
        "n-Butane",
        "n-Decane",
        "n-Dodecane",
        "n-Heptane",
        "n-Hexane",
        "n-Nonane",
        "n-Octane",
        "n-Pentane",
        "n-Propane",
        "n-Undecane",
        "o-Xylene",
        "p-Xylene",
        "trans-2-Butene"
       ],
       "index": 2,
       "layout": "IPY_MODEL_1ef7b2bb6b894eff9a9114c630fd6739",
       "style": "IPY_MODEL_49e8b2a178f6412ca403badd5d3dee57"
      }
     },
     "c3445da6be874d3ca367d449a34258cd": {
      "model_module": "@jupyter-widgets/base",
      "model_module_version": "1.2.0",
      "model_name": "LayoutModel",
      "state": {}
     },
     "c3850ced0f2249769d089c1ddc66ae60": {
      "model_module": "@jupyter-widgets/base",
      "model_module_version": "1.2.0",
      "model_name": "LayoutModel",
      "state": {
       "flex": "1 1 auto",
       "width": "auto"
      }
     },
     "c3aeb9f1d0ce4f3cb8337a5b4d9fe0fe": {
      "model_module": "@jupyter-widgets/base",
      "model_module_version": "1.2.0",
      "model_name": "LayoutModel",
      "state": {
       "flex": "10 1 auto",
       "width": "auto"
      }
     },
     "c3d1b480c5854b8c871fa6321bfd6cc5": {
      "model_module": "@jupyter-widgets/controls",
      "model_module_version": "1.5.0",
      "model_name": "VBoxModel",
      "state": {
       "children": [
        "IPY_MODEL_184d59d3cb51416b811fc82b0abb0e96",
        "IPY_MODEL_be6be15c14954f2f9ab80a737b272814",
        "IPY_MODEL_d050447444b34131a642af791403fe2e"
       ],
       "layout": "IPY_MODEL_62cb8a1c086d440fb5b761a9e58ed729"
      }
     },
     "c3e61f0ad16541e987e754606fd5af3a": {
      "model_module": "@jupyter-widgets/controls",
      "model_module_version": "1.5.0",
      "model_name": "LabelModel",
      "state": {
       "layout": "IPY_MODEL_76567c44d9b24465abf641e957931205",
       "style": "IPY_MODEL_bbd8993af8a2462fa5ada47c91edc5f7",
       "value": "Temperature in °C:"
      }
     },
     "c424b313f8c844fa81e273c7cfe54f9c": {
      "model_module": "@jupyter-widgets/controls",
      "model_module_version": "1.5.0",
      "model_name": "DescriptionStyleModel",
      "state": {
       "description_width": ""
      }
     },
     "c43d2f7e9f6a4034b3c340799909b67d": {
      "model_module": "@jupyter-widgets/base",
      "model_module_version": "1.2.0",
      "model_name": "LayoutModel",
      "state": {
       "flex": "1 1 auto",
       "width": "auto"
      }
     },
     "c43ea393dec740998c6c0b0a665f4f79": {
      "model_module": "@jupyter-widgets/base",
      "model_module_version": "1.2.0",
      "model_name": "LayoutModel",
      "state": {
       "display": "flex",
       "flex_flow": "row"
      }
     },
     "c451118a64f7470fa3b2f584512cabf4": {
      "model_module": "@jupyter-widgets/controls",
      "model_module_version": "1.5.0",
      "model_name": "SliderStyleModel",
      "state": {
       "description_width": ""
      }
     },
     "c4540d52565948e59aafdf3846fe4055": {
      "model_module": "@jupyter-widgets/controls",
      "model_module_version": "1.5.0",
      "model_name": "SliderStyleModel",
      "state": {
       "description_width": ""
      }
     },
     "c46054c149a5420db399984d2e6edc02": {
      "model_module": "@jupyter-widgets/base",
      "model_module_version": "1.2.0",
      "model_name": "LayoutModel",
      "state": {
       "flex": "10 1 auto",
       "width": "auto"
      }
     },
     "c474a660e7474afea050ea738547c953": {
      "model_module": "@jupyter-widgets/controls",
      "model_module_version": "1.5.0",
      "model_name": "DescriptionStyleModel",
      "state": {
       "description_width": ""
      }
     },
     "c48f69ce92074a9ca9e831616404841e": {
      "model_module": "@jupyter-widgets/controls",
      "model_module_version": "1.5.0",
      "model_name": "DescriptionStyleModel",
      "state": {
       "description_width": ""
      }
     },
     "c48fcaab8bd74c4491ec428a085704e5": {
      "model_module": "@jupyter-widgets/controls",
      "model_module_version": "1.5.0",
      "model_name": "HBoxModel",
      "state": {
       "children": [
        "IPY_MODEL_a125582065464d509efe7847bb05ae6e",
        "IPY_MODEL_a8e79943956b4ba89338319906f1594f"
       ],
       "layout": "IPY_MODEL_eb09c2e327c848e196e85bb495bd6135"
      }
     },
     "c49f496f2f8245fbaee915bf9eb532d9": {
      "model_module": "@jupyter-widgets/controls",
      "model_module_version": "1.5.0",
      "model_name": "SliderStyleModel",
      "state": {
       "description_width": ""
      }
     },
     "c4c2b8354ab44dd987a0977bc2315198": {
      "model_module": "@jupyter-widgets/base",
      "model_module_version": "1.2.0",
      "model_name": "LayoutModel",
      "state": {
       "display": "flex",
       "flex_flow": "row"
      }
     },
     "c4f76adc34a04119a029d6402e0614c3": {
      "model_module": "@jupyter-widgets/base",
      "model_module_version": "1.2.0",
      "model_name": "LayoutModel",
      "state": {
       "flex": "1 1 auto",
       "width": "auto"
      }
     },
     "c4fa01df4cc7428595deb642ef78e0ae": {
      "model_module": "@jupyter-widgets/controls",
      "model_module_version": "1.5.0",
      "model_name": "LabelModel",
      "state": {
       "layout": "IPY_MODEL_6339fcb01a0c4ee18580809270a6d8c4",
       "style": "IPY_MODEL_00537d8d9a1044c5ac3436eeb6834291",
       "value": "Pressure in Pa:"
      }
     },
     "c51edfe4c3854e1a8770f99998a7607f": {
      "model_module": "@jupyter-widgets/base",
      "model_module_version": "1.2.0",
      "model_name": "LayoutModel",
      "state": {
       "display": "flex",
       "flex_flow": "row"
      }
     },
     "c55301a5d7ea4bb7ab4b96bb3a1b83a7": {
      "model_module": "@jupyter-widgets/controls",
      "model_module_version": "1.5.0",
      "model_name": "FloatSliderModel",
      "state": {
       "layout": "IPY_MODEL_687eebb8691e453a9598cd3a4b41936f",
       "max": 200,
       "min": 0.001,
       "readout": false,
       "step": 0.001,
       "style": "IPY_MODEL_0d0e9e1cbb4147bda417527934fa4d6c",
       "value": 20
      }
     },
     "c565008a582041bfbdf8145eb5d0bfbe": {
      "model_module": "@jupyter-widgets/base",
      "model_module_version": "1.2.0",
      "model_name": "LayoutModel",
      "state": {
       "flex": "10 1 auto",
       "width": "auto"
      }
     },
     "c573a8ce3f0b4f3496132f3735b564d0": {
      "model_module": "@jupyter-widgets/controls",
      "model_module_version": "1.5.0",
      "model_name": "BoundedFloatTextModel",
      "state": {
       "layout": "IPY_MODEL_8967665b49364a319b4dd906fed4182a",
       "max": 10,
       "min": 0.001,
       "step": 0.001,
       "style": "IPY_MODEL_ece0d040316b4279b64afc9418f6e764",
       "value": 0.1
      }
     },
     "c5cec0e523c94fe48ad826968811dc5a": {
      "model_module": "@jupyter-widgets/controls",
      "model_module_version": "1.5.0",
      "model_name": "SliderStyleModel",
      "state": {
       "description_width": ""
      }
     },
     "c5fae627408f4938b9e909e80c12f4bb": {
      "model_module": "@jupyter-widgets/base",
      "model_module_version": "1.2.0",
      "model_name": "LayoutModel",
      "state": {}
     },
     "c6104330f8aa42d19f70d5b0a12394eb": {
      "model_module": "@jupyter-widgets/controls",
      "model_module_version": "1.5.0",
      "model_name": "LabelModel",
      "state": {
       "layout": "IPY_MODEL_88d331f8d7b74fcb96c638307c0856b3",
       "style": "IPY_MODEL_cc9f1d25a45341559a87b284fb8c2240",
       "value": "Gas / Specie Mixture:"
      }
     },
     "c6470b854cc247c88b5610ae508b54f5": {
      "model_module": "@jupyter-widgets/controls",
      "model_module_version": "1.5.0",
      "model_name": "SliderStyleModel",
      "state": {
       "description_width": ""
      }
     },
     "c64801d37a5442e1ae0cb68282e5acac": {
      "model_module": "@jupyter-widgets/controls",
      "model_module_version": "1.5.0",
      "model_name": "FloatSliderModel",
      "state": {
       "layout": "IPY_MODEL_49ec000287144863812cfd2a4b145c08",
       "max": 10,
       "min": 0.001,
       "readout": false,
       "step": 0.001,
       "style": "IPY_MODEL_e53157439d1b43a19ea2abbdfd669f29",
       "value": 0.1
      }
     },
     "c6578f17e799461caecf8a781a94ac50": {
      "model_module": "@jupyter-widgets/controls",
      "model_module_version": "1.5.0",
      "model_name": "FloatSliderModel",
      "state": {
       "layout": "IPY_MODEL_6109fb9ab642403a961337f996cb1b86",
       "max": 15000000,
       "min": 1,
       "readout": false,
       "step": 100000,
       "style": "IPY_MODEL_8536197e3386441d9725ac0e5d41b26c",
       "value": 101325
      }
     },
     "c66921bceabf4067a07e90ddcdf6949b": {
      "model_module": "@jupyter-widgets/controls",
      "model_module_version": "1.5.0",
      "model_name": "FloatSliderModel",
      "state": {
       "layout": "IPY_MODEL_9964c6a86084425383332959eb4b5e0e",
       "max": 10,
       "min": 0.001,
       "readout": false,
       "step": 0.001,
       "style": "IPY_MODEL_7cd5e0f0a05149c785930641bb319957",
       "value": 0.1
      }
     },
     "c68faa4402cf4d33846eb41a6c0c159c": {
      "model_module": "@jupyter-widgets/controls",
      "model_module_version": "1.5.0",
      "model_name": "DescriptionStyleModel",
      "state": {
       "description_width": ""
      }
     },
     "c6ea583b3c7249888e014bbe74acb4a0": {
      "model_module": "@jupyter-widgets/controls",
      "model_module_version": "1.5.0",
      "model_name": "SliderStyleModel",
      "state": {
       "description_width": ""
      }
     },
     "c744432f4cbe43869dec779df9564cde": {
      "model_module": "@jupyter-widgets/controls",
      "model_module_version": "1.5.0",
      "model_name": "DescriptionStyleModel",
      "state": {
       "description_width": ""
      }
     },
     "c7587d65e4b34af6834a573bf1f7f953": {
      "model_module": "@jupyter-widgets/controls",
      "model_module_version": "1.5.0",
      "model_name": "DescriptionStyleModel",
      "state": {
       "description_width": ""
      }
     },
     "c76abe8c605c40368dae86dfd1a4f4d5": {
      "model_module": "@jupyter-widgets/controls",
      "model_module_version": "1.5.0",
      "model_name": "DescriptionStyleModel",
      "state": {
       "description_width": ""
      }
     },
     "c78e31daa2f84489b0ca0847cd40c935": {
      "model_module": "@jupyter-widgets/controls",
      "model_module_version": "1.5.0",
      "model_name": "VBoxModel",
      "state": {
       "children": [
        "IPY_MODEL_43998be58926472baef120daa3da716d",
        "IPY_MODEL_898dc416db43456881fcacc6fa748e55",
        "IPY_MODEL_704cc58c7cdb4daa8dc75f3d96ee4f85"
       ],
       "layout": "IPY_MODEL_7fcdb182f5524bccbb77836b6a11f82b"
      }
     },
     "c7ba71d8fd9647989151dcd8e166477b": {
      "model_module": "@jupyter-widgets/base",
      "model_module_version": "1.2.0",
      "model_name": "LayoutModel",
      "state": {
       "flex": "1 1 auto",
       "width": "auto"
      }
     },
     "c7e0a07a407348daa3a33f0d7653cd12": {
      "model_module": "@jupyter-widgets/base",
      "model_module_version": "1.2.0",
      "model_name": "LayoutModel",
      "state": {
       "display": "flex",
       "flex_flow": "row"
      }
     },
     "c7febd1fab5c492b890020c607f5caf9": {
      "model_module": "@jupyter-widgets/controls",
      "model_module_version": "1.5.0",
      "model_name": "HBoxModel",
      "state": {
       "children": [
        "IPY_MODEL_3f7ad69131d74742a6131ac606dbf4f5",
        "IPY_MODEL_6c8a9b5622c64aa6b7db68792388d936",
        "IPY_MODEL_a197469b341a42209b145a900bd96871"
       ],
       "layout": "IPY_MODEL_5130ecc4d39d488a90b0aa64733817c7"
      }
     },
     "c81e07acb90941b39cddc8224bab5dcf": {
      "model_module": "@jupyter-widgets/controls",
      "model_module_version": "1.5.0",
      "model_name": "HBoxModel",
      "state": {
       "children": [
        "IPY_MODEL_3324c76114864c408a0b723d8d78cdd9",
        "IPY_MODEL_8d1cce30599048f4a0f8cd8085591902",
        "IPY_MODEL_b8c344c7ec184fa0b63f206a508cc4ed"
       ],
       "layout": "IPY_MODEL_eaeefafc0da948ddb24bbd019abe8459"
      }
     },
     "c845db5b515243d59d81d172a825fa67": {
      "model_module": "@jupyter-widgets/base",
      "model_module_version": "1.2.0",
      "model_name": "LayoutModel",
      "state": {
       "display": "flex",
       "flex_flow": "row"
      }
     },
     "c89f26c098f24ae4b94f2c83592b9ec2": {
      "model_module": "@jupyter-widgets/controls",
      "model_module_version": "1.5.0",
      "model_name": "BoundedFloatTextModel",
      "state": {
       "layout": "IPY_MODEL_a73888ec089d453fb35c1d9fdef61f3a",
       "max": 200,
       "min": 0.001,
       "step": 0.001,
       "style": "IPY_MODEL_5575bd8af6794cf78de64fcb3adea4df",
       "value": 20
      }
     },
     "c8bc2c49772a42249e670d8e367e2383": {
      "model_module": "@jupyter-widgets/controls",
      "model_module_version": "1.5.0",
      "model_name": "DescriptionStyleModel",
      "state": {
       "description_width": ""
      }
     },
     "c8c48c0811b84aa982877b8f576d23ff": {
      "model_module": "@jupyter-widgets/base",
      "model_module_version": "1.2.0",
      "model_name": "LayoutModel",
      "state": {
       "display": "flex",
       "width": "100%"
      }
     },
     "c8f47c6026504a988fbb2b10ca1907ef": {
      "model_module": "@jupyter-widgets/controls",
      "model_module_version": "1.5.0",
      "model_name": "DescriptionStyleModel",
      "state": {
       "description_width": ""
      }
     },
     "c8f7e73a8b9a43ea9ee184c8dceb3459": {
      "model_module": "@jupyter-widgets/controls",
      "model_module_version": "1.5.0",
      "model_name": "BoundedFloatTextModel",
      "state": {
       "layout": "IPY_MODEL_c2fb51b4eff9410b920da429cdaa0a7c",
       "max": 55,
       "min": -30,
       "step": 1,
       "style": "IPY_MODEL_bb2b091917cc4253a19d4057466caf0d",
       "value": 20
      }
     },
     "c8f7f41a86ea4d4dae39917fbdaa0c50": {
      "model_module": "@jupyter-widgets/base",
      "model_module_version": "1.2.0",
      "model_name": "LayoutModel",
      "state": {
       "flex": "1 1 auto",
       "width": "auto"
      }
     },
     "c9de93865e5549848fce5b66b30e76e2": {
      "model_module": "@jupyter-widgets/controls",
      "model_module_version": "1.5.0",
      "model_name": "FloatSliderModel",
      "state": {
       "layout": "IPY_MODEL_2e121da9de624deab0268d857bbf8a1b",
       "max": 200,
       "min": 0.001,
       "readout": false,
       "step": 0.001,
       "style": "IPY_MODEL_6c0add39708f4538bd98df85bb87fce8",
       "value": 20
      }
     },
     "c9f7d2d69b86410d9c0afb31b72fba13": {
      "model_module": "@jupyter-widgets/base",
      "model_module_version": "1.2.0",
      "model_name": "LayoutModel",
      "state": {
       "flex": "10 1 auto",
       "width": "auto"
      }
     },
     "ca56c7c2748649bbb79f43b4efbb0535": {
      "model_module": "@jupyter-widgets/controls",
      "model_module_version": "1.5.0",
      "model_name": "BoundedFloatTextModel",
      "state": {
       "layout": "IPY_MODEL_fe91c0c28cc64bd8a891e2461654955f",
       "max": 55,
       "min": -30,
       "step": 1,
       "style": "IPY_MODEL_11d0918225ec4471b178f6cc03290ae6",
       "value": 20
      }
     },
     "cae0d4ac06d34c70ab60980e760945f6": {
      "model_module": "@jupyter-widgets/base",
      "model_module_version": "1.2.0",
      "model_name": "LayoutModel",
      "state": {
       "flex": "1 1 auto",
       "width": "auto"
      }
     },
     "cafa404cc4fe43cdbbd05833792d28d4": {
      "model_module": "@jupyter-widgets/base",
      "model_module_version": "1.2.0",
      "model_name": "LayoutModel",
      "state": {
       "display": "flex",
       "flex_flow": "row"
      }
     },
     "cb16ca3ebbec45e299d157a4e17edb77": {
      "model_module": "@jupyter-widgets/base",
      "model_module_version": "1.2.0",
      "model_name": "LayoutModel",
      "state": {
       "display": "flex",
       "flex_flow": "row"
      }
     },
     "cb16de7aafd746b1bfe0bcdf198d6d61": {
      "model_module": "@jupyter-widgets/controls",
      "model_module_version": "1.5.0",
      "model_name": "HBoxModel",
      "state": {
       "children": [
        "IPY_MODEL_aa94f03934fd4a14864c25c9677ada19",
        "IPY_MODEL_5ac86d7b64ae4d89885f33e54ff63bf4",
        "IPY_MODEL_9d9bdf51450e46918cfb2c235afb7e81"
       ],
       "layout": "IPY_MODEL_02aa8370759f4a3b979baad4a00d4df8"
      }
     },
     "cb3718824a3f495f89238c9b67f016f3": {
      "model_module": "@jupyter-widgets/base",
      "model_module_version": "1.2.0",
      "model_name": "LayoutModel",
      "state": {
       "display": "flex",
       "flex_flow": "row"
      }
     },
     "cb38ba64415d4f4fa37d2f223a1917d4": {
      "model_module": "@jupyter-widgets/controls",
      "model_module_version": "1.5.0",
      "model_name": "HBoxModel",
      "state": {
       "children": [
        "IPY_MODEL_53ffe7aef8cd4decaf336b2256711a63",
        "IPY_MODEL_09576c1a529d43e2858d95f108936be0",
        "IPY_MODEL_a66de3445ca247568412fb9ff1400b87"
       ],
       "layout": "IPY_MODEL_f81bdfc5ce9e4f6c8fcdf0cf8867d079"
      }
     },
     "cb423ca5236f4947bc79e7614009149b": {
      "model_module": "@jupyter-widgets/controls",
      "model_module_version": "1.5.0",
      "model_name": "DescriptionStyleModel",
      "state": {
       "description_width": ""
      }
     },
     "cb5ce64d64574279a595e4123a7db957": {
      "model_module": "@jupyter-widgets/controls",
      "model_module_version": "1.5.0",
      "model_name": "LabelModel",
      "state": {
       "layout": "IPY_MODEL_72e7eca389554a9589f464419ad48471",
       "style": "IPY_MODEL_3602eee9bbbf43e4ac4d421db6eb2242",
       "value": "Pressure in Pa:"
      }
     },
     "cb6c804d0ac74976b425cb4b70cd6cc8": {
      "model_module": "@jupyter-widgets/base",
      "model_module_version": "1.2.0",
      "model_name": "LayoutModel",
      "state": {
       "display": "flex",
       "width": "100%"
      }
     },
     "cb7ea067fb0b4ec6bd9b0ba757d82b7e": {
      "model_module": "@jupyter-widgets/base",
      "model_module_version": "1.2.0",
      "model_name": "LayoutModel",
      "state": {
       "flex": "1 1 auto",
       "width": "auto"
      }
     },
     "cb9d965ecd9c40c0986eb0733a1d6c9f": {
      "model_module": "@jupyter-widgets/base",
      "model_module_version": "1.2.0",
      "model_name": "LayoutModel",
      "state": {}
     },
     "cbcba054d20542db950769da1f9b0f0a": {
      "model_module": "@jupyter-widgets/output",
      "model_module_version": "1.0.0",
      "model_name": "OutputModel",
      "state": {
       "layout": "IPY_MODEL_a86c954d7679478e9404345889264ba8"
      }
     },
     "cc0f7bc4468f40daacc398e780857995": {
      "model_module": "@jupyter-widgets/controls",
      "model_module_version": "1.5.0",
      "model_name": "DescriptionStyleModel",
      "state": {
       "description_width": ""
      }
     },
     "cc260a4c10bd4ebe8799a9f4a44a4105": {
      "model_module": "@jupyter-widgets/base",
      "model_module_version": "1.2.0",
      "model_name": "LayoutModel",
      "state": {}
     },
     "cc373ba2e64945dab6606984d2d4b00c": {
      "model_module": "@jupyter-widgets/controls",
      "model_module_version": "1.5.0",
      "model_name": "DescriptionStyleModel",
      "state": {
       "description_width": ""
      }
     },
     "cc5614c057784eebb0bf422f45c291a1": {
      "model_module": "@jupyter-widgets/base",
      "model_module_version": "1.2.0",
      "model_name": "LayoutModel",
      "state": {}
     },
     "cc749484eed8487a84199afe7f95cccf": {
      "model_module": "@jupyter-widgets/base",
      "model_module_version": "1.2.0",
      "model_name": "LayoutModel",
      "state": {}
     },
     "cc986768f50f441fbb0d909d064720f1": {
      "model_module": "@jupyter-widgets/output",
      "model_module_version": "1.0.0",
      "model_name": "OutputModel",
      "state": {
       "layout": "IPY_MODEL_d6aaba985f2744f79ddac20dc534605e"
      }
     },
     "cc9f1d25a45341559a87b284fb8c2240": {
      "model_module": "@jupyter-widgets/controls",
      "model_module_version": "1.5.0",
      "model_name": "DescriptionStyleModel",
      "state": {
       "description_width": ""
      }
     },
     "ccb7d0c9f101474d94b94faad9492f2a": {
      "model_module": "@jupyter-widgets/controls",
      "model_module_version": "1.5.0",
      "model_name": "SliderStyleModel",
      "state": {
       "description_width": ""
      }
     },
     "ccbe886f9da34fa69d3bbda46c2010dc": {
      "model_module": "@jupyter-widgets/controls",
      "model_module_version": "1.5.0",
      "model_name": "HBoxModel",
      "state": {
       "children": [
        "IPY_MODEL_6a450a29c0fe4096a48181918014c27a",
        "IPY_MODEL_518288cfc26a48e3889e3408921337e5",
        "IPY_MODEL_e1b8e5d1cbe54c428d7d5acbaf1441ce"
       ],
       "layout": "IPY_MODEL_e10cab3f2b5646cca3d04e08887bdd73"
      }
     },
     "ccd6cb6d141f438c9f7c3498e66e3638": {
      "model_module": "@jupyter-widgets/controls",
      "model_module_version": "1.5.0",
      "model_name": "LabelModel",
      "state": {
       "layout": "IPY_MODEL_2a711da41af149aaa069464ab8d14316",
       "style": "IPY_MODEL_e0937db4bea747dc9e2a0c17be05e94a",
       "value": "Velocity in m/s:"
      }
     },
     "ccd777ec8d444d939431078955b9cc56": {
      "model_module": "@jupyter-widgets/controls",
      "model_module_version": "1.5.0",
      "model_name": "HBoxModel",
      "state": {
       "children": [
        "IPY_MODEL_87257451b36448e680204791bfe3b43e",
        "IPY_MODEL_120cd95d316c4b348941bd709ae24366"
       ],
       "layout": "IPY_MODEL_49c0ce94738844b1aaf9af00e6c7d967"
      }
     },
     "cd0adb75feba428b881b464bdf467311": {
      "model_module": "@jupyter-widgets/controls",
      "model_module_version": "1.5.0",
      "model_name": "HBoxModel",
      "state": {
       "children": [
        "IPY_MODEL_aa1f52eab08c475ebd439135e485970d",
        "IPY_MODEL_681ef448f6a64d86b5ba11193ef0994d",
        "IPY_MODEL_edf25439e4504d84802015197414ef50"
       ],
       "layout": "IPY_MODEL_67f3b7f4fa6b4ac0a3f306a36baf4db3"
      }
     },
     "cd1876e884cc49688c3a79645d46a771": {
      "model_module": "@jupyter-widgets/controls",
      "model_module_version": "1.5.0",
      "model_name": "DescriptionStyleModel",
      "state": {
       "description_width": ""
      }
     },
     "cd59cbf0f9474197b77fc999d8ab4267": {
      "model_module": "@jupyter-widgets/controls",
      "model_module_version": "1.5.0",
      "model_name": "HBoxModel",
      "state": {
       "children": [
        "IPY_MODEL_26ea4c5b5e184da59c8038cd7dc78139",
        "IPY_MODEL_44656b38879c47708ef42d2a50abcd6d",
        "IPY_MODEL_3321f47fd7f143328374be5a0ff3cab8"
       ],
       "layout": "IPY_MODEL_c31febbe26e943cfa7731dfcf1f3ef18"
      }
     },
     "cd6acce932ef48fe93a2c433e8296bda": {
      "model_module": "@jupyter-widgets/base",
      "model_module_version": "1.2.0",
      "model_name": "LayoutModel",
      "state": {}
     },
     "cd8206683cfc4ccd87c8ffabe6455ac0": {
      "model_module": "@jupyter-widgets/controls",
      "model_module_version": "1.5.0",
      "model_name": "FloatSliderModel",
      "state": {
       "layout": "IPY_MODEL_ec3753af2e5a4d978eb046da2a27eb92",
       "max": 55,
       "min": -30,
       "readout": false,
       "style": "IPY_MODEL_b277aa9f5ce74490a2765ca146ee3ca4",
       "value": 20
      }
     },
     "cdaf5728537141b88a4332bfe08f4d59": {
      "model_module": "@jupyter-widgets/controls",
      "model_module_version": "1.5.0",
      "model_name": "HBoxModel",
      "state": {
       "children": [
        "IPY_MODEL_adcabcd5c3be43b495d5a465fa00dad6",
        "IPY_MODEL_41a768c4bcca43759da1e946d2e958aa",
        "IPY_MODEL_7b2d1a86dc1744ab8aebc59cfa402273"
       ],
       "layout": "IPY_MODEL_79d7965f3c1b444bb84d7ac87903e5bb"
      }
     },
     "cdb30118215c4d4f844e38f427a2b044": {
      "model_module": "@jupyter-widgets/controls",
      "model_module_version": "1.5.0",
      "model_name": "LabelModel",
      "state": {
       "layout": "IPY_MODEL_fd0226053fce42e4b54366cf47afaa38",
       "style": "IPY_MODEL_e25e7b120f424c959b6d7ddd13daace3",
       "value": "Pressure in Pa:"
      }
     },
     "cddc8cb40fe747bea3c1eb6e8d19bf18": {
      "model_module": "@jupyter-widgets/controls",
      "model_module_version": "1.5.0",
      "model_name": "BoundedFloatTextModel",
      "state": {
       "layout": "IPY_MODEL_a2ef14c8d09448a3ba7e05b625f14427",
       "max": 200,
       "min": 0.001,
       "step": 0.001,
       "style": "IPY_MODEL_7826f913859149b5a90e12922832cdde",
       "value": 20
      }
     },
     "cdf4e88b023841189a53749afba60dbe": {
      "model_module": "@jupyter-widgets/base",
      "model_module_version": "1.2.0",
      "model_name": "LayoutModel",
      "state": {}
     },
     "ce142ecb8d984659ae6702ce475f65ea": {
      "model_module": "@jupyter-widgets/controls",
      "model_module_version": "1.5.0",
      "model_name": "DescriptionStyleModel",
      "state": {
       "description_width": ""
      }
     },
     "ce1e279fa53e406ea3eed79147a03d25": {
      "model_module": "@jupyter-widgets/base",
      "model_module_version": "1.2.0",
      "model_name": "LayoutModel",
      "state": {}
     },
     "ce7e21ef2db34b589212556c1c6a705c": {
      "model_module": "@jupyter-widgets/base",
      "model_module_version": "1.2.0",
      "model_name": "LayoutModel",
      "state": {}
     },
     "cebb7acdaa8747bd864368eca69ba45b": {
      "model_module": "@jupyter-widgets/controls",
      "model_module_version": "1.5.0",
      "model_name": "DescriptionStyleModel",
      "state": {
       "description_width": ""
      }
     },
     "cec51a2f5261459fb4dce01e5a0466da": {
      "model_module": "@jupyter-widgets/base",
      "model_module_version": "1.2.0",
      "model_name": "LayoutModel",
      "state": {
       "display": "flex",
       "width": "100%"
      }
     },
     "ced641101c8048ae8e15a6ae9cd4e709": {
      "model_module": "@jupyter-widgets/controls",
      "model_module_version": "1.5.0",
      "model_name": "DescriptionStyleModel",
      "state": {
       "description_width": ""
      }
     },
     "cef359c42ce347a4bb24fa2dc14abbca": {
      "model_module": "@jupyter-widgets/base",
      "model_module_version": "1.2.0",
      "model_name": "LayoutModel",
      "state": {
       "flex": "10 1 auto",
       "width": "auto"
      }
     },
     "cefee0292b2248928c8fb0fda4dc058e": {
      "model_module": "@jupyter-widgets/controls",
      "model_module_version": "1.5.0",
      "model_name": "HBoxModel",
      "state": {
       "children": [
        "IPY_MODEL_2ae49341911f4593be837815766b4b00",
        "IPY_MODEL_98f98c6a499a4a4fa34e58329627d6ab",
        "IPY_MODEL_d5c8759f51de49498a8a38819af98217"
       ],
       "layout": "IPY_MODEL_e83b1544ab9a49d29cdaf89157ef85e8"
      }
     },
     "cf206089b90b46b0b25ff9451a7a5996": {
      "model_module": "@jupyter-widgets/base",
      "model_module_version": "1.2.0",
      "model_name": "LayoutModel",
      "state": {
       "flex": "1 1 auto",
       "width": "auto"
      }
     },
     "cf90e1231f9a4b47b2eb6059b322e63c": {
      "model_module": "@jupyter-widgets/controls",
      "model_module_version": "1.5.0",
      "model_name": "LabelModel",
      "state": {
       "layout": "IPY_MODEL_60dc67a10f934c68a6493c2bfecdccb8",
       "style": "IPY_MODEL_056d59ec64154dcba94306b796369361",
       "value": "Gas / Specie Mixture:"
      }
     },
     "d03e523c4f694b48bc49eff3656cbdd8": {
      "model_module": "@jupyter-widgets/controls",
      "model_module_version": "1.5.0",
      "model_name": "DescriptionStyleModel",
      "state": {
       "description_width": ""
      }
     },
     "d050447444b34131a642af791403fe2e": {
      "model_module": "@jupyter-widgets/controls",
      "model_module_version": "1.5.0",
      "model_name": "HBoxModel",
      "state": {
       "children": [
        "IPY_MODEL_38007e30713e4cfbad01e5ae34b28d75",
        "IPY_MODEL_0b553b63d453471baa20c9b7bb1b127a"
       ],
       "layout": "IPY_MODEL_b0fa6fb7cdea43d3a7ca1b170b1cc688"
      }
     },
     "d061f30284384dceb51bbfa03d86d916": {
      "model_module": "@jupyter-widgets/controls",
      "model_module_version": "1.5.0",
      "model_name": "LabelModel",
      "state": {
       "layout": "IPY_MODEL_d8d6f21ed82f4b1faa3a83847167d7ae",
       "style": "IPY_MODEL_3450bcea6ebb422d8ea4648e335eae0a",
       "value": "Pressure in Pa:"
      }
     },
     "d08e97e2b7c64ff289b2c3cc4e48084e": {
      "model_module": "@jupyter-widgets/controls",
      "model_module_version": "1.5.0",
      "model_name": "DescriptionStyleModel",
      "state": {
       "description_width": ""
      }
     },
     "d09af0d109994accbc71099e8b5bde72": {
      "model_module": "@jupyter-widgets/controls",
      "model_module_version": "1.5.0",
      "model_name": "BoundedFloatTextModel",
      "state": {
       "layout": "IPY_MODEL_628fcfe98c66454886835e86f810f228",
       "max": 15000000,
       "min": 1,
       "step": 100000,
       "style": "IPY_MODEL_4f6ffeacfe0e427aa17f1d25afe79d01",
       "value": 101325
      }
     },
     "d09c3c72096d4b62a2ad139b6abbc997": {
      "model_module": "@jupyter-widgets/base",
      "model_module_version": "1.2.0",
      "model_name": "LayoutModel",
      "state": {}
     },
     "d0a528253ebd41528bb238e084b51e55": {
      "model_module": "@jupyter-widgets/controls",
      "model_module_version": "1.5.0",
      "model_name": "HBoxModel",
      "state": {
       "children": [
        "IPY_MODEL_5fafc5a356744aad92280fde740ef630",
        "IPY_MODEL_76320047de1b4d83b611f861a8b585c1"
       ],
       "layout": "IPY_MODEL_0d06a2208d3c459d9657c3e134773a7c"
      }
     },
     "d0a7dca0ba6d4e6aaf2efc3d4760f995": {
      "model_module": "@jupyter-widgets/base",
      "model_module_version": "1.2.0",
      "model_name": "LayoutModel",
      "state": {}
     },
     "d0ccd39fb22947d5b31786ae4703949f": {
      "model_module": "@jupyter-widgets/base",
      "model_module_version": "1.2.0",
      "model_name": "LayoutModel",
      "state": {
       "display": "flex",
       "width": "100%"
      }
     },
     "d132974657f94a29b65169220970b362": {
      "model_module": "@jupyter-widgets/controls",
      "model_module_version": "1.5.0",
      "model_name": "BoundedFloatTextModel",
      "state": {
       "layout": "IPY_MODEL_2ae5ebd07e7540fe99bfa6871202095e",
       "max": 200,
       "min": 0.001,
       "step": 0.001,
       "style": "IPY_MODEL_b8816de08ada40a99dea230382da4bba",
       "value": 20
      }
     },
     "d1349546352b4328b6b5f5a13c27c271": {
      "model_module": "@jupyter-widgets/controls",
      "model_module_version": "1.5.0",
      "model_name": "HBoxModel",
      "state": {
       "children": [
        "IPY_MODEL_e92110f0fa414728baa4e4b396229b39",
        "IPY_MODEL_4d0f813a26fb4b4f88a2db3507811ea1",
        "IPY_MODEL_3a029c8e1c0f4d9181f94af56c0752e7"
       ],
       "layout": "IPY_MODEL_d84bb8f781f3441fa978126f8d530a50"
      }
     },
     "d1430390482f4ed890b9658f02d6ad68": {
      "model_module": "@jupyter-widgets/base",
      "model_module_version": "1.2.0",
      "model_name": "LayoutModel",
      "state": {
       "flex": "1 1 auto",
       "width": "auto"
      }
     },
     "d1797ae72c164bfaa69cf643ee104ce6": {
      "model_module": "@jupyter-widgets/controls",
      "model_module_version": "1.5.0",
      "model_name": "DescriptionStyleModel",
      "state": {
       "description_width": ""
      }
     },
     "d188dff5b00a4b8f8d3d9ac18a686444": {
      "model_module": "@jupyter-widgets/controls",
      "model_module_version": "1.5.0",
      "model_name": "BoundedFloatTextModel",
      "state": {
       "layout": "IPY_MODEL_ad9809b183044617b83ff1f7297d51f9",
       "max": 200,
       "min": 0.001,
       "step": 0.001,
       "style": "IPY_MODEL_83804978be0f49f198f4b3a9445e2b59",
       "value": 20
      }
     },
     "d18b9bfeac014bd6b9d662a31add5503": {
      "model_module": "@jupyter-widgets/controls",
      "model_module_version": "1.5.0",
      "model_name": "DescriptionStyleModel",
      "state": {
       "description_width": ""
      }
     },
     "d19266af037f40dbb85d0f7286e2e60b": {
      "model_module": "@jupyter-widgets/base",
      "model_module_version": "1.2.0",
      "model_name": "LayoutModel",
      "state": {
       "display": "flex",
       "flex_flow": "row"
      }
     },
     "d1b635f01cfd44d79eb0eea500f3ffd5": {
      "model_module": "@jupyter-widgets/controls",
      "model_module_version": "1.5.0",
      "model_name": "DescriptionStyleModel",
      "state": {
       "description_width": ""
      }
     },
     "d1b6b713d685425da90ebfcb6a8da8ec": {
      "model_module": "@jupyter-widgets/controls",
      "model_module_version": "1.5.0",
      "model_name": "SliderStyleModel",
      "state": {
       "description_width": ""
      }
     },
     "d22655d07fdd42d5bba460d338a6c62a": {
      "model_module": "@jupyter-widgets/controls",
      "model_module_version": "1.5.0",
      "model_name": "DescriptionStyleModel",
      "state": {
       "description_width": ""
      }
     },
     "d25d0617dfe14665b201b6bb596cd7ba": {
      "model_module": "@jupyter-widgets/base",
      "model_module_version": "1.2.0",
      "model_name": "LayoutModel",
      "state": {
       "display": "flex",
       "min_height": "300px",
       "width": "100%"
      }
     },
     "d27b52c4fdf04c86b9cf3658ca57b6e7": {
      "model_module": "@jupyter-widgets/base",
      "model_module_version": "1.2.0",
      "model_name": "LayoutModel",
      "state": {
       "display": "flex",
       "flex_flow": "row"
      }
     },
     "d2bc466d27424a78bb4a1361376de893": {
      "model_module": "@jupyter-widgets/controls",
      "model_module_version": "1.5.0",
      "model_name": "DescriptionStyleModel",
      "state": {
       "description_width": ""
      }
     },
     "d2f1f749e4b44fd199831ae02ce9800e": {
      "model_module": "@jupyter-widgets/controls",
      "model_module_version": "1.5.0",
      "model_name": "DropdownModel",
      "state": {
       "_options_labels": [
        "1-Butene",
        "Acetone",
        "Air",
        "Ammonia",
        "Argon",
        "Benzene",
        "CarbonDioxide",
        "CarbonMonoxide",
        "CarbonylSulfide",
        "CycloHexane",
        "CycloPropane",
        "Cyclopentane",
        "D4",
        "D5",
        "D6",
        "Deuterium",
        "Dichloroethane",
        "DiethylEther",
        "DimethylCarbonate",
        "DimethylEther",
        "Ethane",
        "Ethanol",
        "EthylBenzene",
        "Ethylene",
        "EthyleneOxide",
        "Fluorine",
        "HFE143m",
        "HeavyWater",
        "Helium",
        "Hydrogen",
        "HydrogenChloride",
        "HydrogenSulfide",
        "IsoButane",
        "IsoButene",
        "Isohexane",
        "Isopentane",
        "Krypton",
        "MD2M",
        "MD3M",
        "MD4M",
        "MDM",
        "MM",
        "Methane",
        "Methanol",
        "MethylLinoleate",
        "MethylLinolenate",
        "MethylOleate",
        "MethylPalmitate",
        "MethylStearate",
        "Neon",
        "Neopentane",
        "Nitrogen",
        "NitrousOxide",
        "Novec649",
        "OrthoDeuterium",
        "OrthoHydrogen",
        "Oxygen",
        "ParaDeuterium",
        "ParaHydrogen",
        "Propylene",
        "Propyne",
        "R11",
        "R113",
        "R114",
        "R115",
        "R116",
        "R12",
        "R123",
        "R1233zd(E)",
        "R1234yf",
        "R1234ze(E)",
        "R1234ze(Z)",
        "R124",
        "R1243zf",
        "R125",
        "R13",
        "R134a",
        "R13I1",
        "R14",
        "R141b",
        "R142b",
        "R143a",
        "R152A",
        "R161",
        "R21",
        "R218",
        "R22",
        "R227EA",
        "R23",
        "R236EA",
        "R236FA",
        "R245ca",
        "R245fa",
        "R32",
        "R365MFC",
        "R40",
        "R404A",
        "R407C",
        "R41",
        "R410A",
        "R507A",
        "RC318",
        "SES36",
        "SulfurDioxide",
        "SulfurHexafluoride",
        "Toluene",
        "Water",
        "Xenon",
        "cis-2-Butene",
        "m-Xylene",
        "n-Butane",
        "n-Decane",
        "n-Dodecane",
        "n-Heptane",
        "n-Hexane",
        "n-Nonane",
        "n-Octane",
        "n-Pentane",
        "n-Propane",
        "n-Undecane",
        "o-Xylene",
        "p-Xylene",
        "trans-2-Butene"
       ],
       "index": 2,
       "layout": "IPY_MODEL_d5d11949ffdc4929b68c10bb3ffc77aa",
       "style": "IPY_MODEL_a3487d1ffc584b14b0bd4c7cb73df54a"
      }
     },
     "d3128bce17cf412d95b5b0aca5353c5f": {
      "model_module": "@jupyter-widgets/base",
      "model_module_version": "1.2.0",
      "model_name": "LayoutModel",
      "state": {}
     },
     "d34ffe4ad9bd422d8ae91148bb9fc395": {
      "model_module": "@jupyter-widgets/base",
      "model_module_version": "1.2.0",
      "model_name": "LayoutModel",
      "state": {}
     },
     "d3502caddea8435e9f95fcfd6d3b4644": {
      "model_module": "@jupyter-widgets/controls",
      "model_module_version": "1.5.0",
      "model_name": "DescriptionStyleModel",
      "state": {
       "description_width": ""
      }
     },
     "d3688b4afaec4b7f82058c79a977e84c": {
      "model_module": "@jupyter-widgets/controls",
      "model_module_version": "1.5.0",
      "model_name": "DescriptionStyleModel",
      "state": {
       "description_width": ""
      }
     },
     "d3afa79995e64dde867b9fc098a6741d": {
      "model_module": "@jupyter-widgets/base",
      "model_module_version": "1.2.0",
      "model_name": "LayoutModel",
      "state": {
       "flex": "1 1 auto",
       "width": "auto"
      }
     },
     "d437a8ecbb04464bac73b72a283778e1": {
      "model_module": "@jupyter-widgets/base",
      "model_module_version": "1.2.0",
      "model_name": "LayoutModel",
      "state": {
       "display": "flex",
       "width": "100%"
      }
     },
     "d4579fbc63b74fe899807a1bf83659db": {
      "model_module": "@jupyter-widgets/base",
      "model_module_version": "1.2.0",
      "model_name": "LayoutModel",
      "state": {
       "flex": "1 1 auto",
       "width": "auto"
      }
     },
     "d45adb19b57e47bd877b8c252cbbf1bc": {
      "model_module": "@jupyter-widgets/base",
      "model_module_version": "1.2.0",
      "model_name": "LayoutModel",
      "state": {
       "flex": "10 1 auto",
       "width": "auto"
      }
     },
     "d4cf7787b8b04f6d97c88e3a23f67b42": {
      "model_module": "@jupyter-widgets/controls",
      "model_module_version": "1.5.0",
      "model_name": "SliderStyleModel",
      "state": {
       "description_width": ""
      }
     },
     "d5032412d7b748409f39b96659763032": {
      "model_module": "@jupyter-widgets/base",
      "model_module_version": "1.2.0",
      "model_name": "LayoutModel",
      "state": {
       "display": "flex",
       "flex_flow": "row"
      }
     },
     "d50cb299f8f34ed5aafad4e38efa5821": {
      "model_module": "@jupyter-widgets/base",
      "model_module_version": "1.2.0",
      "model_name": "LayoutModel",
      "state": {
       "display": "flex",
       "width": "100%"
      }
     },
     "d57719413ad947d49c920c13dbae1c29": {
      "model_module": "@jupyter-widgets/controls",
      "model_module_version": "1.5.0",
      "model_name": "VBoxModel",
      "state": {
       "children": [
        "IPY_MODEL_76649452ce2b438898aba61b34f072db",
        "IPY_MODEL_c81e07acb90941b39cddc8224bab5dcf"
       ],
       "layout": "IPY_MODEL_77d281c28e824abe80fe5b164f25afcf"
      }
     },
     "d581d59a78224eada4288d546e267ee9": {
      "model_module": "@jupyter-widgets/controls",
      "model_module_version": "1.5.0",
      "model_name": "BoundedFloatTextModel",
      "state": {
       "layout": "IPY_MODEL_460ba90c6da34caa9476b0ca10802292",
       "max": 200,
       "min": 0.001,
       "step": 0.001,
       "style": "IPY_MODEL_f4c821888e7c43cfa0d9fa5a539d057f",
       "value": 20
      }
     },
     "d5a33c0bc2804de282c0080f520263b4": {
      "model_module": "@jupyter-widgets/controls",
      "model_module_version": "1.5.0",
      "model_name": "LabelModel",
      "state": {
       "layout": "IPY_MODEL_923f0bc00b4440cebec3bf4fd829d641",
       "style": "IPY_MODEL_4329f37e474745dab17d8f69ddae8cc9",
       "value": "Velocity in m/s:"
      }
     },
     "d5c8759f51de49498a8a38819af98217": {
      "model_module": "@jupyter-widgets/controls",
      "model_module_version": "1.5.0",
      "model_name": "BoundedFloatTextModel",
      "state": {
       "layout": "IPY_MODEL_b75ec268df504df1969142c53bc0dce0",
       "max": 10,
       "min": 0.001,
       "step": 0.001,
       "style": "IPY_MODEL_2bc52a4e9bca44f78d6932c5e33aada4",
       "value": 0.1
      }
     },
     "d5d11949ffdc4929b68c10bb3ffc77aa": {
      "model_module": "@jupyter-widgets/base",
      "model_module_version": "1.2.0",
      "model_name": "LayoutModel",
      "state": {}
     },
     "d64b8bf642164b179c17f6c79808f37e": {
      "model_module": "@jupyter-widgets/base",
      "model_module_version": "1.2.0",
      "model_name": "LayoutModel",
      "state": {
       "flex": "10 1 auto",
       "width": "auto"
      }
     },
     "d69a813e28c24d69a7d6d1de598d5988": {
      "model_module": "@jupyter-widgets/base",
      "model_module_version": "1.2.0",
      "model_name": "LayoutModel",
      "state": {
       "display": "flex",
       "flex_flow": "row"
      }
     },
     "d6a45517416b41e4ad3ecfa760940929": {
      "model_module": "@jupyter-widgets/output",
      "model_module_version": "1.0.0",
      "model_name": "OutputModel",
      "state": {
       "layout": "IPY_MODEL_5c6df51ed7244f22987fdf2bef74e8a8"
      }
     },
     "d6aaba985f2744f79ddac20dc534605e": {
      "model_module": "@jupyter-widgets/base",
      "model_module_version": "1.2.0",
      "model_name": "LayoutModel",
      "state": {
       "display": "flex",
       "width": "100%"
      }
     },
     "d6ec6d5fc35649e09a4690a136f7354a": {
      "model_module": "@jupyter-widgets/base",
      "model_module_version": "1.2.0",
      "model_name": "LayoutModel",
      "state": {}
     },
     "d766f668d5ae43fab17881a9f4f006e6": {
      "model_module": "@jupyter-widgets/base",
      "model_module_version": "1.2.0",
      "model_name": "LayoutModel",
      "state": {
       "flex": "10 1 auto",
       "width": "auto"
      }
     },
     "d7762997fd7e496890c7c5985925ab52": {
      "model_module": "@jupyter-widgets/base",
      "model_module_version": "1.2.0",
      "model_name": "LayoutModel",
      "state": {
       "flex": "1 1 auto",
       "width": "auto"
      }
     },
     "d797914f57ff4d148fe206264023bc90": {
      "model_module": "@jupyter-widgets/controls",
      "model_module_version": "1.5.0",
      "model_name": "HBoxModel",
      "state": {
       "children": [
        "IPY_MODEL_b4a6950b58b447e79e0981542bf220b8",
        "IPY_MODEL_b152dd349b4e4c89b19db9793df3abf3",
        "IPY_MODEL_c8f7e73a8b9a43ea9ee184c8dceb3459"
       ],
       "layout": "IPY_MODEL_f0a824df5a8146d2a5c4466ae19bab9a"
      }
     },
     "d7aaa1c497bc432bb36115bb208e46b2": {
      "model_module": "@jupyter-widgets/base",
      "model_module_version": "1.2.0",
      "model_name": "LayoutModel",
      "state": {}
     },
     "d7cab04025114a7b97c490e88e153116": {
      "model_module": "@jupyter-widgets/controls",
      "model_module_version": "1.5.0",
      "model_name": "LabelModel",
      "state": {
       "layout": "IPY_MODEL_3616c6643875453c84c5711ea88cabe7",
       "style": "IPY_MODEL_de963a94a90641d1ad9a4ba2cbce525a",
       "value": "Platelength in m"
      }
     },
     "d84bb8f781f3441fa978126f8d530a50": {
      "model_module": "@jupyter-widgets/base",
      "model_module_version": "1.2.0",
      "model_name": "LayoutModel",
      "state": {
       "display": "flex",
       "width": "100%"
      }
     },
     "d8609b074b4a4b1db80c16c8e2bd7815": {
      "model_module": "@jupyter-widgets/controls",
      "model_module_version": "1.5.0",
      "model_name": "HBoxModel",
      "state": {
       "children": [
        "IPY_MODEL_81c3635481ef4d79956ae74ebda66b21",
        "IPY_MODEL_ef4d82d030a142d3b16d395790d09571",
        "IPY_MODEL_2b5ad87235b94d3c805a7b47fedfcf08"
       ],
       "layout": "IPY_MODEL_8c4446c193e54c58878cec05a1285193"
      }
     },
     "d86bb572d185426abe79594aa217bcd7": {
      "model_module": "@jupyter-widgets/base",
      "model_module_version": "1.2.0",
      "model_name": "LayoutModel",
      "state": {
       "flex": "10 1 auto",
       "width": "auto"
      }
     },
     "d86c1d1ed3164e8f83959d27eecb8785": {
      "model_module": "@jupyter-widgets/controls",
      "model_module_version": "1.5.0",
      "model_name": "FloatSliderModel",
      "state": {
       "layout": "IPY_MODEL_a84749d3520342abb18efafbfa1b418d",
       "max": 55,
       "min": -30,
       "readout": false,
       "style": "IPY_MODEL_82ced06035bc4caa8d4767a5c5164ea1",
       "value": 20
      }
     },
     "d8b04ce7208a41a2ba9d2ede3ac0452d": {
      "model_module": "@jupyter-widgets/controls",
      "model_module_version": "1.5.0",
      "model_name": "SliderStyleModel",
      "state": {
       "description_width": ""
      }
     },
     "d8b2851f59b64eef9f81d0ab79d8dd26": {
      "model_module": "@jupyter-widgets/controls",
      "model_module_version": "1.5.0",
      "model_name": "FloatSliderModel",
      "state": {
       "layout": "IPY_MODEL_8acae838add54d2a86c3c83013356f3f",
       "max": 200,
       "min": 0.001,
       "readout": false,
       "step": 0.001,
       "style": "IPY_MODEL_1f70412fe83a431bbe24b53f1a7c3dbd",
       "value": 20
      }
     },
     "d8c75a1a265d4dd68e50542ac2b1e35d": {
      "model_module": "@jupyter-widgets/controls",
      "model_module_version": "1.5.0",
      "model_name": "HBoxModel",
      "state": {
       "children": [
        "IPY_MODEL_d5a33c0bc2804de282c0080f520263b4",
        "IPY_MODEL_57e7ce43fe614707afead3b5926e0e60",
        "IPY_MODEL_548c16e3d53240e9a16f2e0e8d6732bf"
       ],
       "layout": "IPY_MODEL_599a19084ff84abd91d458e5922303d4"
      }
     },
     "d8d6f21ed82f4b1faa3a83847167d7ae": {
      "model_module": "@jupyter-widgets/base",
      "model_module_version": "1.2.0",
      "model_name": "LayoutModel",
      "state": {
       "flex": "1 1 auto",
       "width": "auto"
      }
     },
     "d8e26dbc17d640f587c71e4fc8e575e2": {
      "model_module": "@jupyter-widgets/controls",
      "model_module_version": "1.5.0",
      "model_name": "SliderStyleModel",
      "state": {
       "description_width": ""
      }
     },
     "d8f218422b214394a5a75748bcb63a20": {
      "model_module": "@jupyter-widgets/base",
      "model_module_version": "1.2.0",
      "model_name": "LayoutModel",
      "state": {
       "display": "flex",
       "width": "100%"
      }
     },
     "d8f614954c9a4bb1abeb931a4d87a0c0": {
      "model_module": "@jupyter-widgets/controls",
      "model_module_version": "1.5.0",
      "model_name": "HBoxModel",
      "state": {
       "children": [
        "IPY_MODEL_0981c6bbe3484cc4b7ffcdbfd059c159",
        "IPY_MODEL_baea9112ce374afb908da978d1d7a0dd"
       ],
       "layout": "IPY_MODEL_17596cf6c1d9440485d7cf1bf75195e3"
      }
     },
     "d96f4357f26d47c88e6eb1a8783c9f75": {
      "model_module": "@jupyter-widgets/controls",
      "model_module_version": "1.5.0",
      "model_name": "DescriptionStyleModel",
      "state": {
       "description_width": ""
      }
     },
     "d97a4e477fcd4b388d8ae98323dd1a66": {
      "model_module": "@jupyter-widgets/controls",
      "model_module_version": "1.5.0",
      "model_name": "HBoxModel",
      "state": {
       "children": [
        "IPY_MODEL_113eabe981434a6cb37c07245887b37e",
        "IPY_MODEL_278207a1c9d8493d93e0ef3a4023932d",
        "IPY_MODEL_e6b563b69cc14954ad3f02dfcecc9b01"
       ],
       "layout": "IPY_MODEL_088cb5ae797040aab8ab2e02e1877752"
      }
     },
     "d998db0679894829a365213620959b78": {
      "model_module": "@jupyter-widgets/base",
      "model_module_version": "1.2.0",
      "model_name": "LayoutModel",
      "state": {
       "flex": "1 1 auto",
       "width": "auto"
      }
     },
     "d9a461f2bd464e899633296e8223f0d8": {
      "model_module": "@jupyter-widgets/base",
      "model_module_version": "1.2.0",
      "model_name": "LayoutModel",
      "state": {}
     },
     "d9bb389bc5b0405abd5a7724e754cfef": {
      "model_module": "@jupyter-widgets/controls",
      "model_module_version": "1.5.0",
      "model_name": "LabelModel",
      "state": {
       "layout": "IPY_MODEL_1a2deb484682401daaa1e8f9648f2273",
       "style": "IPY_MODEL_f3f1f81384e54bf2a5c484d8f2ef4f39",
       "value": "Velocity in m/s:"
      }
     },
     "da3c755ccfd94504940b3edf75f8ecb3": {
      "model_module": "@jupyter-widgets/controls",
      "model_module_version": "1.5.0",
      "model_name": "FloatSliderModel",
      "state": {
       "layout": "IPY_MODEL_5a92840da654496b82c93a52225211c6",
       "max": 55,
       "min": -30,
       "readout": false,
       "style": "IPY_MODEL_10d4c46048e3498c8a7a3a56f0f134c7",
       "value": 20
      }
     },
     "da4005af5242462fa4351dc25eb28280": {
      "model_module": "@jupyter-widgets/controls",
      "model_module_version": "1.5.0",
      "model_name": "LabelModel",
      "state": {
       "layout": "IPY_MODEL_4f1146b2f01a46a19e464167518acf2e",
       "style": "IPY_MODEL_bef234da2ebf4a8096b46deb952d91b1",
       "value": "Platelength in m"
      }
     },
     "da57aeb225c0485c95b6c738c7448dfb": {
      "model_module": "@jupyter-widgets/controls",
      "model_module_version": "1.5.0",
      "model_name": "LabelModel",
      "state": {
       "layout": "IPY_MODEL_56ad552e42a7490ba5073ee27476f9e0",
       "style": "IPY_MODEL_89962a61f3af4dcbae08d119ff4c7831",
       "value": "Platelength in m"
      }
     },
     "da5c557807dd4660a8550192db1224a0": {
      "model_module": "@jupyter-widgets/controls",
      "model_module_version": "1.5.0",
      "model_name": "VBoxModel",
      "state": {
       "children": [
        "IPY_MODEL_171f421c8e774e5fa8b99b56bbdb5456",
        "IPY_MODEL_683cf8993fb34418b3ca3b337e8f28af",
        "IPY_MODEL_09ff7d35fa844a7a932a498fdcd568ef"
       ],
       "layout": "IPY_MODEL_075ca536cf3d423eb77f690ad0bae21a"
      }
     },
     "da84411e02f94c429e58d9404007bd6e": {
      "model_module": "@jupyter-widgets/controls",
      "model_module_version": "1.5.0",
      "model_name": "FloatSliderModel",
      "state": {
       "layout": "IPY_MODEL_8f7795940282401da8c1de1a52cce70f",
       "max": 55,
       "min": -30,
       "readout": false,
       "style": "IPY_MODEL_7d64de6a63f7408ea2bc1079510fb631",
       "value": 20
      }
     },
     "da9c6898fe2a4f85a77a1dd605b27d21": {
      "model_module": "@jupyter-widgets/controls",
      "model_module_version": "1.5.0",
      "model_name": "LabelModel",
      "state": {
       "layout": "IPY_MODEL_2030d2d1385a44d48d23fb80e165988f",
       "style": "IPY_MODEL_d96f4357f26d47c88e6eb1a8783c9f75",
       "value": "Pressure in Pa:"
      }
     },
     "daf4ec8dc8054a6b84d0afa295c3d8de": {
      "model_module": "@jupyter-widgets/controls",
      "model_module_version": "1.5.0",
      "model_name": "DescriptionStyleModel",
      "state": {
       "description_width": ""
      }
     },
     "db063d73fa6a4078bb11c2f8d3bec1a8": {
      "model_module": "@jupyter-widgets/base",
      "model_module_version": "1.2.0",
      "model_name": "LayoutModel",
      "state": {
       "display": "flex",
       "width": "100%"
      }
     },
     "db45bfaa075042cd9a0d6fb14a03edfa": {
      "model_module": "@jupyter-widgets/controls",
      "model_module_version": "1.5.0",
      "model_name": "LabelModel",
      "state": {
       "layout": "IPY_MODEL_c2d8d93aced04f7991c4130ae648ebdf",
       "style": "IPY_MODEL_1262133f42f4485ab477ce202f27b6fa",
       "value": "Platelength in m"
      }
     },
     "dbc9887011bf4366a66f0922d5db88cf": {
      "model_module": "@jupyter-widgets/base",
      "model_module_version": "1.2.0",
      "model_name": "LayoutModel",
      "state": {
       "flex": "10 1 auto",
       "width": "auto"
      }
     },
     "dbcb25a69b6b484a8da4a8d490f8ec7c": {
      "model_module": "@jupyter-widgets/controls",
      "model_module_version": "1.5.0",
      "model_name": "BoundedFloatTextModel",
      "state": {
       "layout": "IPY_MODEL_0be346250a2d46bcae848ea96a97bfd7",
       "max": 55,
       "min": -30,
       "step": 1,
       "style": "IPY_MODEL_c76abe8c605c40368dae86dfd1a4f4d5",
       "value": 20
      }
     },
     "dbce5c34947e46e2a318710cefdda72a": {
      "model_module": "@jupyter-widgets/base",
      "model_module_version": "1.2.0",
      "model_name": "LayoutModel",
      "state": {
       "flex": "1 1 auto",
       "min_height": "300px",
       "min_width": "400px",
       "width": "auto"
      }
     },
     "dc0ac7ea0c434991a1335e30c67ddd3e": {
      "model_module": "@jupyter-widgets/base",
      "model_module_version": "1.2.0",
      "model_name": "LayoutModel",
      "state": {
       "display": "flex",
       "flex_flow": "row"
      }
     },
     "dc2dd6db02274f35b69ed6acdc03e25f": {
      "model_module": "@jupyter-widgets/controls",
      "model_module_version": "1.5.0",
      "model_name": "LabelModel",
      "state": {
       "layout": "IPY_MODEL_a90947ad2968490f9129ab2ef59820a1",
       "style": "IPY_MODEL_06347a86447d4b05b08d194f9cb697f4",
       "value": "Pressure in Pa:"
      }
     },
     "dd050006464d424584d8420d2f854519": {
      "model_module": "@jupyter-widgets/controls",
      "model_module_version": "1.5.0",
      "model_name": "DescriptionStyleModel",
      "state": {
       "description_width": ""
      }
     },
     "dd3f94007a6241e489bd13b6da41d4e1": {
      "model_module": "@jupyter-widgets/controls",
      "model_module_version": "1.5.0",
      "model_name": "HBoxModel",
      "state": {
       "children": [
        "IPY_MODEL_db45bfaa075042cd9a0d6fb14a03edfa",
        "IPY_MODEL_9a42f8ff09c2449ebc450fcf9f234e92",
        "IPY_MODEL_05fd667b39c64affa535d3d2fac57b70"
       ],
       "layout": "IPY_MODEL_527eb077d9e34d9b90d1e857e3e4cfa0"
      }
     },
     "dd4801916d514bbf98858ff115b426c2": {
      "model_module": "@jupyter-widgets/controls",
      "model_module_version": "1.5.0",
      "model_name": "SliderStyleModel",
      "state": {
       "description_width": ""
      }
     },
     "ddb00f9d14da4b848587ef51199d97f3": {
      "model_module": "@jupyter-widgets/base",
      "model_module_version": "1.2.0",
      "model_name": "LayoutModel",
      "state": {
       "display": "flex",
       "flex_flow": "row"
      }
     },
     "de0c30ef19244ef5a315e6e8256cba86": {
      "model_module": "@jupyter-widgets/base",
      "model_module_version": "1.2.0",
      "model_name": "LayoutModel",
      "state": {
       "flex": "10 1 auto",
       "width": "auto"
      }
     },
     "de24b15e15b64354b71d9f446f859c85": {
      "model_module": "@jupyter-widgets/base",
      "model_module_version": "1.2.0",
      "model_name": "LayoutModel",
      "state": {
       "display": "flex",
       "flex_flow": "row"
      }
     },
     "de65320be1a442328344bda08e74f5d5": {
      "model_module": "@jupyter-widgets/base",
      "model_module_version": "1.2.0",
      "model_name": "LayoutModel",
      "state": {
       "display": "flex",
       "min_height": "300px",
       "width": "100%"
      }
     },
     "de663a57a15f42d9ab09bf4ea60a5f71": {
      "model_module": "@jupyter-widgets/controls",
      "model_module_version": "1.5.0",
      "model_name": "DescriptionStyleModel",
      "state": {
       "description_width": ""
      }
     },
     "de963a94a90641d1ad9a4ba2cbce525a": {
      "model_module": "@jupyter-widgets/controls",
      "model_module_version": "1.5.0",
      "model_name": "DescriptionStyleModel",
      "state": {
       "description_width": ""
      }
     },
     "deac7f98374c44639770ae6521163ff6": {
      "model_module": "@jupyter-widgets/controls",
      "model_module_version": "1.5.0",
      "model_name": "DescriptionStyleModel",
      "state": {
       "description_width": ""
      }
     },
     "deb5ac0dc1124d11b8fa4e3714b8ec99": {
      "model_module": "@jupyter-widgets/controls",
      "model_module_version": "1.5.0",
      "model_name": "HBoxModel",
      "state": {
       "children": [
        "IPY_MODEL_b99ebd09fa64400183d0eabd82ed3c0d",
        "IPY_MODEL_98f4b6a10d7740869d7063abcd17f4db",
        "IPY_MODEL_1000a8eb468d4609acb07acde6fd1fcf"
       ],
       "layout": "IPY_MODEL_869638ce0c2b4dd19883a69778dae369"
      }
     },
     "dec681ced54241f1b5a132721bf0e7fd": {
      "model_module": "@jupyter-widgets/base",
      "model_module_version": "1.2.0",
      "model_name": "LayoutModel",
      "state": {
       "display": "flex",
       "flex_flow": "row"
      }
     },
     "decfa2cde3504165ab8d1977cbe070ae": {
      "model_module": "@jupyter-widgets/controls",
      "model_module_version": "1.5.0",
      "model_name": "DescriptionStyleModel",
      "state": {
       "description_width": ""
      }
     },
     "df370da16c3848069d56f6864296ff42": {
      "model_module": "@jupyter-widgets/controls",
      "model_module_version": "1.5.0",
      "model_name": "DescriptionStyleModel",
      "state": {
       "description_width": ""
      }
     },
     "df8da9044cc6420bb67e4b3e574c4207": {
      "model_module": "@jupyter-widgets/controls",
      "model_module_version": "1.5.0",
      "model_name": "FloatSliderModel",
      "state": {
       "layout": "IPY_MODEL_cef359c42ce347a4bb24fa2dc14abbca",
       "max": 200,
       "min": 0.001,
       "readout": false,
       "step": 0.001,
       "style": "IPY_MODEL_ee793e62a28d45af80caa54f289ddacc",
       "value": 20
      }
     },
     "df9543e0cd06420f871e699d7b2298c4": {
      "model_module": "@jupyter-widgets/controls",
      "model_module_version": "1.5.0",
      "model_name": "LabelModel",
      "state": {
       "layout": "IPY_MODEL_c8f7f41a86ea4d4dae39917fbdaa0c50",
       "style": "IPY_MODEL_41290d227e194bb594c6cc0a37182dd1",
       "value": "Velocity in m/s:"
      }
     },
     "dfa5538d0ca34cae92b704598275b367": {
      "model_module": "@jupyter-widgets/base",
      "model_module_version": "1.2.0",
      "model_name": "LayoutModel",
      "state": {
       "display": "flex",
       "width": "100%"
      }
     },
     "dfb1ed596fd24f10bc693719a92d625c": {
      "model_module": "@jupyter-widgets/controls",
      "model_module_version": "1.5.0",
      "model_name": "DescriptionStyleModel",
      "state": {
       "description_width": ""
      }
     },
     "dffd7a6c0cf64cf9bbbce990210fdef5": {
      "model_module": "@jupyter-widgets/controls",
      "model_module_version": "1.5.0",
      "model_name": "AccordionModel",
      "state": {
       "_titles": {
        "0": "Thermodynamic State",
        "1": "Flat Plate"
       },
       "children": [
        "IPY_MODEL_7eab523375c144d3b938a75ad239afbb",
        "IPY_MODEL_ec77a5ea07dd494ab2184381372eae08"
       ],
       "layout": "IPY_MODEL_4ee17a8207d04053bceb2c2764dd5bce"
      }
     },
     "e041aafd1bd440b1b5d38d64e3e7f65b": {
      "model_module": "@jupyter-widgets/controls",
      "model_module_version": "1.5.0",
      "model_name": "VBoxModel",
      "state": {
       "children": [
        "IPY_MODEL_296c9dc5b4084a7e9df4e8b507359dc4",
        "IPY_MODEL_e77c9ecb27004950b256c578446ed740"
       ],
       "layout": "IPY_MODEL_232e99ded3e84aca9962a04e6832fd6d"
      }
     },
     "e0426f4d3b334d05aa90f138daff4b39": {
      "model_module": "@jupyter-widgets/controls",
      "model_module_version": "1.5.0",
      "model_name": "BoundedFloatTextModel",
      "state": {
       "layout": "IPY_MODEL_7e6141f740dd4db9a60ba5b4e7bed238",
       "max": 15000000,
       "min": 1,
       "step": 100000,
       "style": "IPY_MODEL_0effd024ebfc4cdf8289ba24daf296c4",
       "value": 101325
      }
     },
     "e0493721013a4c6aacdab9861ab59b45": {
      "model_module": "@jupyter-widgets/base",
      "model_module_version": "1.2.0",
      "model_name": "LayoutModel",
      "state": {
       "flex": "1 1 auto",
       "width": "auto"
      }
     },
     "e07b7bf7bad84aee85e22fec0affac20": {
      "model_module": "@jupyter-widgets/base",
      "model_module_version": "1.2.0",
      "model_name": "LayoutModel",
      "state": {
       "flex": "10 1 auto",
       "width": "auto"
      }
     },
     "e08c1d0245214de5a030827a08b5238a": {
      "model_module": "@jupyter-widgets/base",
      "model_module_version": "1.2.0",
      "model_name": "LayoutModel",
      "state": {
       "flex": "1 1 auto",
       "width": "auto"
      }
     },
     "e0937db4bea747dc9e2a0c17be05e94a": {
      "model_module": "@jupyter-widgets/controls",
      "model_module_version": "1.5.0",
      "model_name": "DescriptionStyleModel",
      "state": {
       "description_width": ""
      }
     },
     "e0d36e7651fa4c7a9cbe2b5be24dc14c": {
      "model_module": "@jupyter-widgets/controls",
      "model_module_version": "1.5.0",
      "model_name": "SliderStyleModel",
      "state": {
       "description_width": ""
      }
     },
     "e10cab3f2b5646cca3d04e08887bdd73": {
      "model_module": "@jupyter-widgets/base",
      "model_module_version": "1.2.0",
      "model_name": "LayoutModel",
      "state": {
       "display": "flex",
       "width": "100%"
      }
     },
     "e1618a0c1e3f44359a09635f877720a2": {
      "model_module": "@jupyter-widgets/controls",
      "model_module_version": "1.5.0",
      "model_name": "DescriptionStyleModel",
      "state": {
       "description_width": ""
      }
     },
     "e17d9248002f42ee887cf1341356a183": {
      "model_module": "@jupyter-widgets/controls",
      "model_module_version": "1.5.0",
      "model_name": "SliderStyleModel",
      "state": {
       "description_width": ""
      }
     },
     "e1abf468b20b4599be6ec3131195695d": {
      "model_module": "@jupyter-widgets/controls",
      "model_module_version": "1.5.0",
      "model_name": "BoundedFloatTextModel",
      "state": {
       "layout": "IPY_MODEL_cf206089b90b46b0b25ff9451a7a5996",
       "max": 10,
       "min": 0.001,
       "step": 0.001,
       "style": "IPY_MODEL_c474a660e7474afea050ea738547c953",
       "value": 0.1
      }
     },
     "e1b8e5d1cbe54c428d7d5acbaf1441ce": {
      "model_module": "@jupyter-widgets/controls",
      "model_module_version": "1.5.0",
      "model_name": "BoundedFloatTextModel",
      "state": {
       "layout": "IPY_MODEL_75119880a8404e13b59a5d581e0c34eb",
       "max": 55,
       "min": -30,
       "step": 1,
       "style": "IPY_MODEL_f3d60f87a03c45cbbd85ca837d79e463",
       "value": 20
      }
     },
     "e207d6d8ed00461abcedde0f7d7f725b": {
      "model_module": "@jupyter-widgets/base",
      "model_module_version": "1.2.0",
      "model_name": "LayoutModel",
      "state": {
       "display": "flex",
       "width": "100%"
      }
     },
     "e22eb81a0ba04a2cb0dc3c6cd427e40b": {
      "model_module": "@jupyter-widgets/controls",
      "model_module_version": "1.5.0",
      "model_name": "DescriptionStyleModel",
      "state": {
       "description_width": ""
      }
     },
     "e24b3155a2044ec8b34bd62778577ac1": {
      "model_module": "@jupyter-widgets/controls",
      "model_module_version": "1.5.0",
      "model_name": "FloatSliderModel",
      "state": {
       "layout": "IPY_MODEL_ac2c0abd29584b82a60b04ee4e104ab7",
       "max": 10,
       "min": 0.001,
       "readout": false,
       "step": 0.001,
       "style": "IPY_MODEL_82b5ad7c15004b8b945d6054422dab6a",
       "value": 0.1
      }
     },
     "e25c030d62e54292a24a796bacd58f00": {
      "model_module": "@jupyter-widgets/controls",
      "model_module_version": "1.5.0",
      "model_name": "SliderStyleModel",
      "state": {
       "description_width": ""
      }
     },
     "e25e7b120f424c959b6d7ddd13daace3": {
      "model_module": "@jupyter-widgets/controls",
      "model_module_version": "1.5.0",
      "model_name": "DescriptionStyleModel",
      "state": {
       "description_width": ""
      }
     },
     "e277732944e3453f98182087347e992d": {
      "model_module": "@jupyter-widgets/base",
      "model_module_version": "1.2.0",
      "model_name": "LayoutModel",
      "state": {}
     },
     "e2860cdee8234733aec6a9b5988749dd": {
      "model_module": "@jupyter-widgets/controls",
      "model_module_version": "1.5.0",
      "model_name": "DescriptionStyleModel",
      "state": {
       "description_width": ""
      }
     },
     "e293c5c9077646e5ad04d9b3e4554019": {
      "model_module": "@jupyter-widgets/controls",
      "model_module_version": "1.5.0",
      "model_name": "SliderStyleModel",
      "state": {
       "description_width": ""
      }
     },
     "e2aeb04861ae4d7fa712f93e0704899b": {
      "model_module": "@jupyter-widgets/base",
      "model_module_version": "1.2.0",
      "model_name": "LayoutModel",
      "state": {}
     },
     "e2cddabd968d4eca8ec0653e7a4ad42d": {
      "model_module": "@jupyter-widgets/base",
      "model_module_version": "1.2.0",
      "model_name": "LayoutModel",
      "state": {}
     },
     "e2e251ee3d484e17bb3ede47ddeb46d9": {
      "model_module": "@jupyter-widgets/base",
      "model_module_version": "1.2.0",
      "model_name": "LayoutModel",
      "state": {
       "display": "flex",
       "min_height": "300px",
       "width": "100%"
      }
     },
     "e316ee62c71e4a0fa111a231a1a62c86": {
      "model_module": "@jupyter-widgets/base",
      "model_module_version": "1.2.0",
      "model_name": "LayoutModel",
      "state": {
       "flex": "10 1 auto",
       "width": "auto"
      }
     },
     "e38e4976ade645af87aac0f48d6ec84a": {
      "model_module": "@jupyter-widgets/base",
      "model_module_version": "1.2.0",
      "model_name": "LayoutModel",
      "state": {
       "flex": "1 1 auto",
       "width": "auto"
      }
     },
     "e390b8a3bbb34fbe95800488129740b7": {
      "model_module": "@jupyter-widgets/base",
      "model_module_version": "1.2.0",
      "model_name": "LayoutModel",
      "state": {
       "flex": "10 1 auto",
       "width": "auto"
      }
     },
     "e3966a4b099448609159982f574bcecc": {
      "model_module": "@jupyter-widgets/controls",
      "model_module_version": "1.5.0",
      "model_name": "SliderStyleModel",
      "state": {
       "description_width": ""
      }
     },
     "e3a09fa34ac44e7fb2dc2e37296c727d": {
      "model_module": "@jupyter-widgets/base",
      "model_module_version": "1.2.0",
      "model_name": "LayoutModel",
      "state": {
       "display": "flex",
       "width": "100%"
      }
     },
     "e433c3e50f6349649569f9411a726028": {
      "model_module": "@jupyter-widgets/base",
      "model_module_version": "1.2.0",
      "model_name": "LayoutModel",
      "state": {
       "flex": "10 1 auto",
       "width": "auto"
      }
     },
     "e45fb5327535441d82e55bde25c8b2e6": {
      "model_module": "@jupyter-widgets/controls",
      "model_module_version": "1.5.0",
      "model_name": "FloatSliderModel",
      "state": {
       "layout": "IPY_MODEL_0982bd9feac447d8a87e5db50b01de20",
       "max": 10,
       "min": 0.001,
       "readout": false,
       "step": 0.001,
       "style": "IPY_MODEL_92dd6f49ac1f47349fdb34dc8226e74a",
       "value": 0.1
      }
     },
     "e46410c3b5d0440981ad2c83180aeaec": {
      "model_module": "@jupyter-widgets/base",
      "model_module_version": "1.2.0",
      "model_name": "LayoutModel",
      "state": {}
     },
     "e4dbff912a7c48b8b2e87ec8eec55a14": {
      "model_module": "@jupyter-widgets/base",
      "model_module_version": "1.2.0",
      "model_name": "LayoutModel",
      "state": {
       "display": "flex",
       "width": "100%"
      }
     },
     "e511bccea77b47c493c1a1ad303ae1d3": {
      "model_module": "@jupyter-widgets/output",
      "model_module_version": "1.0.0",
      "model_name": "OutputModel",
      "state": {
       "layout": "IPY_MODEL_970b7fc1c05043f1bae0a0dc142ffb71"
      }
     },
     "e53157439d1b43a19ea2abbdfd669f29": {
      "model_module": "@jupyter-widgets/controls",
      "model_module_version": "1.5.0",
      "model_name": "SliderStyleModel",
      "state": {
       "description_width": ""
      }
     },
     "e53420ac60d34bb4a295b643434041c6": {
      "model_module": "@jupyter-widgets/controls",
      "model_module_version": "1.5.0",
      "model_name": "LabelModel",
      "state": {
       "layout": "IPY_MODEL_8fe51a2090ea4587a58330a3773774b6",
       "style": "IPY_MODEL_a0cea089f5b647dd93ea6dbd7239b886",
       "value": "Gas / Specie Mixture:"
      }
     },
     "e58c6919677a48f2a11d188b8fd4f49f": {
      "model_module": "@jupyter-widgets/base",
      "model_module_version": "1.2.0",
      "model_name": "LayoutModel",
      "state": {
       "display": "flex",
       "width": "100%"
      }
     },
     "e58e39a8e714404f8f1f9eb25a4b19e0": {
      "model_module": "@jupyter-widgets/controls",
      "model_module_version": "1.5.0",
      "model_name": "HBoxModel",
      "state": {
       "children": [
        "IPY_MODEL_5490502675264de1b71708e3663658d6",
        "IPY_MODEL_2aaa73b757db49998ae45b7dbdeb35fd"
       ],
       "layout": "IPY_MODEL_f578a606697f4dd781c6be2bf89deb6e"
      }
     },
     "e59f6c62d4294b0b8158f0d4b92cbff1": {
      "model_module": "@jupyter-widgets/base",
      "model_module_version": "1.2.0",
      "model_name": "LayoutModel",
      "state": {
       "flex": "1 1 auto",
       "width": "auto"
      }
     },
     "e5a5bd1274864300a3be12f0ea0ff20a": {
      "model_module": "@jupyter-widgets/base",
      "model_module_version": "1.2.0",
      "model_name": "LayoutModel",
      "state": {}
     },
     "e5ace8ca7c29440ea801cab8c967e409": {
      "model_module": "@jupyter-widgets/base",
      "model_module_version": "1.2.0",
      "model_name": "LayoutModel",
      "state": {
       "display": "flex",
       "width": "100%"
      }
     },
     "e61b9e69014c4bc1a4b8ebb4103d856d": {
      "model_module": "@jupyter-widgets/base",
      "model_module_version": "1.2.0",
      "model_name": "LayoutModel",
      "state": {
       "flex": "1 1 auto",
       "width": "auto"
      }
     },
     "e646c148c82b4662a2174996b4c8c29d": {
      "model_module": "@jupyter-widgets/base",
      "model_module_version": "1.2.0",
      "model_name": "LayoutModel",
      "state": {
       "flex": "1 1 auto",
       "width": "auto"
      }
     },
     "e66e20cded494286b961a73e90c0002e": {
      "model_module": "@jupyter-widgets/controls",
      "model_module_version": "1.5.0",
      "model_name": "DescriptionStyleModel",
      "state": {
       "description_width": ""
      }
     },
     "e6748312c8d64448b32997bf21187a15": {
      "model_module": "@jupyter-widgets/base",
      "model_module_version": "1.2.0",
      "model_name": "LayoutModel",
      "state": {}
     },
     "e6b563b69cc14954ad3f02dfcecc9b01": {
      "model_module": "@jupyter-widgets/controls",
      "model_module_version": "1.5.0",
      "model_name": "BoundedFloatTextModel",
      "state": {
       "layout": "IPY_MODEL_4ceac90f4b6b4fa1ac76d0699ace0be5",
       "max": 55,
       "min": -30,
       "step": 1,
       "style": "IPY_MODEL_ced641101c8048ae8e15a6ae9cd4e709",
       "value": 20
      }
     },
     "e6c4f9348345469bb1e99aba9a362eb2": {
      "model_module": "@jupyter-widgets/base",
      "model_module_version": "1.2.0",
      "model_name": "LayoutModel",
      "state": {
       "flex": "1 1 auto",
       "width": "auto"
      }
     },
     "e708999d8ec44c0eb6c6e0a8aab954ae": {
      "model_module": "@jupyter-widgets/controls",
      "model_module_version": "1.5.0",
      "model_name": "LabelModel",
      "state": {
       "layout": "IPY_MODEL_8f34aa1d3d74469fa23ab351ee2b9c06",
       "style": "IPY_MODEL_0e87124cc2f5491c8fd26ce7f7345c7a",
       "value": "Pressure in Pa:"
      }
     },
     "e711793d2cc44de1955671b9b51a95fa": {
      "model_module": "@jupyter-widgets/controls",
      "model_module_version": "1.5.0",
      "model_name": "DescriptionStyleModel",
      "state": {
       "description_width": ""
      }
     },
     "e72b28f0457d4155b5961e777e68283a": {
      "model_module": "@jupyter-widgets/controls",
      "model_module_version": "1.5.0",
      "model_name": "LabelModel",
      "state": {
       "layout": "IPY_MODEL_ae621e03672641f9890114b5fb7da4c4",
       "style": "IPY_MODEL_d1b635f01cfd44d79eb0eea500f3ffd5",
       "value": "Pressure in Pa:"
      }
     },
     "e77c9ecb27004950b256c578446ed740": {
      "model_module": "@jupyter-widgets/controls",
      "model_module_version": "1.5.0",
      "model_name": "HBoxModel",
      "state": {
       "children": [
        "IPY_MODEL_d9bb389bc5b0405abd5a7724e754cfef",
        "IPY_MODEL_87c7247050b348109f2b2868f601ca28",
        "IPY_MODEL_c89f26c098f24ae4b94f2c83592b9ec2"
       ],
       "layout": "IPY_MODEL_cec51a2f5261459fb4dce01e5a0466da"
      }
     },
     "e7a68714d0314f7b9b5399b5509cef50": {
      "model_module": "@jupyter-widgets/controls",
      "model_module_version": "1.5.0",
      "model_name": "HBoxModel",
      "state": {
       "children": [
        "IPY_MODEL_0a8656dadf0f4d81a8ed055d77b8e6fd",
        "IPY_MODEL_b269992e13c740dd8abf3699826959bf",
        "IPY_MODEL_b2eb96aea50a42d5917912a5bfdc378f"
       ],
       "layout": "IPY_MODEL_696276111e0742bb8797b47efa28f7ef"
      }
     },
     "e7aa2d84fd774a74957966510fec0f5a": {
      "model_module": "@jupyter-widgets/base",
      "model_module_version": "1.2.0",
      "model_name": "LayoutModel",
      "state": {
       "flex": "10 1 auto",
       "width": "auto"
      }
     },
     "e7b9ae94891b4cc6af5d769f784525f0": {
      "model_module": "@jupyter-widgets/base",
      "model_module_version": "1.2.0",
      "model_name": "LayoutModel",
      "state": {
       "display": "flex",
       "flex_flow": "row"
      }
     },
     "e7ce8ba482a04104ba3a4ce47dc9a57b": {
      "model_module": "@jupyter-widgets/controls",
      "model_module_version": "1.5.0",
      "model_name": "VBoxModel",
      "state": {
       "children": [
        "IPY_MODEL_bf2999b8a355435dad35e46d20f09df6",
        "IPY_MODEL_9e9b362632994d74a9c622b05d27dce3",
        "IPY_MODEL_16d420467faf441487c42c8d0780dbf2"
       ],
       "layout": "IPY_MODEL_4aded113fb494d9e8cadd470da654b32"
      }
     },
     "e7e8870281a74849bbd9ae76211695b8": {
      "model_module": "@jupyter-widgets/controls",
      "model_module_version": "1.5.0",
      "model_name": "DescriptionStyleModel",
      "state": {
       "description_width": ""
      }
     },
     "e802c348bc2d442c951b6be5170c5fb4": {
      "model_module": "@jupyter-widgets/controls",
      "model_module_version": "1.5.0",
      "model_name": "DescriptionStyleModel",
      "state": {
       "description_width": ""
      }
     },
     "e80c2dd44c0342fc883636b80fe7030f": {
      "model_module": "@jupyter-widgets/base",
      "model_module_version": "1.2.0",
      "model_name": "LayoutModel",
      "state": {
       "flex": "1 1 auto",
       "min_height": "300px",
       "min_width": "400px",
       "width": "auto"
      }
     },
     "e823e58f0adb49e9ad73e0aa82d0492a": {
      "model_module": "@jupyter-widgets/controls",
      "model_module_version": "1.5.0",
      "model_name": "DescriptionStyleModel",
      "state": {
       "description_width": ""
      }
     },
     "e82db2f5cf6845f8af31fc2712aabeae": {
      "model_module": "@jupyter-widgets/controls",
      "model_module_version": "1.5.0",
      "model_name": "LabelModel",
      "state": {
       "layout": "IPY_MODEL_70601f5104694f5d9f4411860a0ffccb",
       "style": "IPY_MODEL_e823e58f0adb49e9ad73e0aa82d0492a",
       "value": "Platelength in m"
      }
     },
     "e83b1544ab9a49d29cdaf89157ef85e8": {
      "model_module": "@jupyter-widgets/base",
      "model_module_version": "1.2.0",
      "model_name": "LayoutModel",
      "state": {
       "display": "flex",
       "width": "100%"
      }
     },
     "e8447a2c72a141bd827357058ac00b1a": {
      "model_module": "@jupyter-widgets/controls",
      "model_module_version": "1.5.0",
      "model_name": "SliderStyleModel",
      "state": {
       "description_width": ""
      }
     },
     "e8807b5e20d346738f87b364fe49243f": {
      "model_module": "@jupyter-widgets/base",
      "model_module_version": "1.2.0",
      "model_name": "LayoutModel",
      "state": {
       "display": "flex",
       "flex_flow": "row"
      }
     },
     "e8ddb23d6c5b42cebca3e4ae809807e4": {
      "model_module": "@jupyter-widgets/controls",
      "model_module_version": "1.5.0",
      "model_name": "DescriptionStyleModel",
      "state": {
       "description_width": ""
      }
     },
     "e92110f0fa414728baa4e4b396229b39": {
      "model_module": "@jupyter-widgets/controls",
      "model_module_version": "1.5.0",
      "model_name": "LabelModel",
      "state": {
       "layout": "IPY_MODEL_3975095d3c6547d5afdae41089c7f559",
       "style": "IPY_MODEL_3178a73d81f5408a82e7146758cbeb31",
       "value": "Velocity in m/s:"
      }
     },
     "e977c0e5b3104c0aab3fa9c58f6a4c3c": {
      "model_module": "@jupyter-widgets/base",
      "model_module_version": "1.2.0",
      "model_name": "LayoutModel",
      "state": {
       "flex": "1 1 auto",
       "width": "auto"
      }
     },
     "e9833396539e49af983f622e906ba056": {
      "model_module": "@jupyter-widgets/controls",
      "model_module_version": "1.5.0",
      "model_name": "SliderStyleModel",
      "state": {
       "description_width": ""
      }
     },
     "e98e7dfec1fa4eeda3c426c4b8daff5f": {
      "model_module": "@jupyter-widgets/controls",
      "model_module_version": "1.5.0",
      "model_name": "HBoxModel",
      "state": {
       "children": [
        "IPY_MODEL_ac1e5f1ca6074ec1b2df2c661e5d1f58",
        "IPY_MODEL_0b0292603e604390bff482b80c57e6d7",
        "IPY_MODEL_f3b8f5db9a324218a7c0a01345035799"
       ],
       "layout": "IPY_MODEL_763e36ede9984386adf267e6a005bace"
      }
     },
     "e99801e4ae2844cbbe1555e71f1fd139": {
      "model_module": "@jupyter-widgets/controls",
      "model_module_version": "1.5.0",
      "model_name": "DescriptionStyleModel",
      "state": {
       "description_width": ""
      }
     },
     "e9c25d00c26842d5833d3b58aae8c6bd": {
      "model_module": "@jupyter-widgets/base",
      "model_module_version": "1.2.0",
      "model_name": "LayoutModel",
      "state": {}
     },
     "ea139e5077f848e4ad0482986ac7f1fc": {
      "model_module": "@jupyter-widgets/controls",
      "model_module_version": "1.5.0",
      "model_name": "BoundedFloatTextModel",
      "state": {
       "layout": "IPY_MODEL_74993abb42484b38b31b579241af7901",
       "max": 200,
       "min": 0.001,
       "step": 0.001,
       "style": "IPY_MODEL_64857713826c4dd88145cc0e6899e851",
       "value": 20
      }
     },
     "ea723a674a594fa9ae1a120e3c31ecd0": {
      "model_module": "@jupyter-widgets/base",
      "model_module_version": "1.2.0",
      "model_name": "LayoutModel",
      "state": {
       "flex": "1 1 auto",
       "width": "auto"
      }
     },
     "ea967975faba4aa78f05f1018186ee98": {
      "model_module": "@jupyter-widgets/output",
      "model_module_version": "1.0.0",
      "model_name": "OutputModel",
      "state": {
       "layout": "IPY_MODEL_b4e84de47e6a46028ce7e1c27a87d292"
      }
     },
     "ea98a375aa7344b09d4baf3dbf33d030": {
      "model_module": "@jupyter-widgets/controls",
      "model_module_version": "1.5.0",
      "model_name": "BoundedFloatTextModel",
      "state": {
       "layout": "IPY_MODEL_4e6649c4b1c14c459846ea5d385bb8c7",
       "max": 55,
       "min": -30,
       "step": 1,
       "style": "IPY_MODEL_bdf4d3433cd74978a00b60105b53f63e",
       "value": 20
      }
     },
     "eac2626b8cbf4699b7045aa49608c756": {
      "model_module": "@jupyter-widgets/controls",
      "model_module_version": "1.5.0",
      "model_name": "DescriptionStyleModel",
      "state": {
       "description_width": ""
      }
     },
     "ead43b8aeb4c43a79933c3b68418dbe1": {
      "model_module": "@jupyter-widgets/base",
      "model_module_version": "1.2.0",
      "model_name": "LayoutModel",
      "state": {}
     },
     "eaeefafc0da948ddb24bbd019abe8459": {
      "model_module": "@jupyter-widgets/base",
      "model_module_version": "1.2.0",
      "model_name": "LayoutModel",
      "state": {
       "display": "flex",
       "width": "100%"
      }
     },
     "eb09c2e327c848e196e85bb495bd6135": {
      "model_module": "@jupyter-widgets/base",
      "model_module_version": "1.2.0",
      "model_name": "LayoutModel",
      "state": {}
     },
     "eb284ebb74324c5e89e436aff086a523": {
      "model_module": "@jupyter-widgets/controls",
      "model_module_version": "1.5.0",
      "model_name": "LabelModel",
      "state": {
       "layout": "IPY_MODEL_5e9d1ec2b08642fea14aebb1056a1adb",
       "style": "IPY_MODEL_69a55585d00b44628f60d5a80c415957",
       "value": "Temperature in °C:"
      }
     },
     "eb73f4e40a1e4063af922b9abd94b0fb": {
      "model_module": "@jupyter-widgets/controls",
      "model_module_version": "1.5.0",
      "model_name": "DescriptionStyleModel",
      "state": {
       "description_width": ""
      }
     },
     "eb7476c896974f5cac6c0d4ed03eda4e": {
      "model_module": "@jupyter-widgets/base",
      "model_module_version": "1.2.0",
      "model_name": "LayoutModel",
      "state": {}
     },
     "eb79c6942c994073be3270bc00ebe199": {
      "model_module": "@jupyter-widgets/controls",
      "model_module_version": "1.5.0",
      "model_name": "LabelModel",
      "state": {
       "layout": "IPY_MODEL_797b55e618764ca89f42d7c678103ea4",
       "style": "IPY_MODEL_7020c276b9414829bdc99d7c5296d50f",
       "value": "Velocity in m/s:"
      }
     },
     "eba98f7f56c847bcabf6bbaa4ec7dcb9": {
      "model_module": "@jupyter-widgets/base",
      "model_module_version": "1.2.0",
      "model_name": "LayoutModel",
      "state": {
       "flex": "1 1 auto",
       "width": "auto"
      }
     },
     "ebcf747d53b3441594b57457c4da9888": {
      "model_module": "@jupyter-widgets/controls",
      "model_module_version": "1.5.0",
      "model_name": "BoundedFloatTextModel",
      "state": {
       "layout": "IPY_MODEL_ef7ffca5f23542da8407557d98a63415",
       "max": 15000000,
       "min": 1,
       "step": 100000,
       "style": "IPY_MODEL_bc569123b3ad479c8cbf0bbd0717c6e7",
       "value": 101325
      }
     },
     "ebe27a89f71b4ff5a54e3b4ce718a0c3": {
      "model_module": "@jupyter-widgets/base",
      "model_module_version": "1.2.0",
      "model_name": "LayoutModel",
      "state": {
       "display": "flex",
       "flex_flow": "row"
      }
     },
     "ec009c5e11904c60957c2d321523275e": {
      "model_module": "@jupyter-widgets/base",
      "model_module_version": "1.2.0",
      "model_name": "LayoutModel",
      "state": {
       "display": "flex",
       "flex_flow": "row"
      }
     },
     "ec035a0d205640d387717ae88793fc62": {
      "model_module": "@jupyter-widgets/base",
      "model_module_version": "1.2.0",
      "model_name": "LayoutModel",
      "state": {
       "flex": "1 1 auto",
       "width": "auto"
      }
     },
     "ec3753af2e5a4d978eb046da2a27eb92": {
      "model_module": "@jupyter-widgets/base",
      "model_module_version": "1.2.0",
      "model_name": "LayoutModel",
      "state": {
       "flex": "10 1 auto",
       "width": "auto"
      }
     },
     "ec5582e5bf024c7cb1f1fa83ed3e32b5": {
      "model_module": "@jupyter-widgets/base",
      "model_module_version": "1.2.0",
      "model_name": "LayoutModel",
      "state": {}
     },
     "ec5ea047025944b887adc74f1dac832b": {
      "model_module": "@jupyter-widgets/controls",
      "model_module_version": "1.5.0",
      "model_name": "HBoxModel",
      "state": {
       "children": [
        "IPY_MODEL_9fd6cb963ca54a7285bcc053ba7bd13f",
        "IPY_MODEL_da84411e02f94c429e58d9404007bd6e",
        "IPY_MODEL_67f0777ecd4a4fa1b534a4b149a49e15"
       ],
       "layout": "IPY_MODEL_a1d9cbf5e4ff43d3bdf69a293da016e7"
      }
     },
     "ec77a5ea07dd494ab2184381372eae08": {
      "model_module": "@jupyter-widgets/controls",
      "model_module_version": "1.5.0",
      "model_name": "VBoxModel",
      "state": {
       "children": [
        "IPY_MODEL_195a390b86a749aab2105c8466b5529c",
        "IPY_MODEL_d8c75a1a265d4dd68e50542ac2b1e35d"
       ],
       "layout": "IPY_MODEL_6a82cffa341241f4a42998df3e73b982"
      }
     },
     "eca762f396c54c0aabdef87611ba8243": {
      "model_module": "@jupyter-widgets/base",
      "model_module_version": "1.2.0",
      "model_name": "LayoutModel",
      "state": {
       "display": "flex",
       "width": "100%"
      }
     },
     "ecb75e769b9d4c02a378416c11899f3c": {
      "model_module": "@jupyter-widgets/base",
      "model_module_version": "1.2.0",
      "model_name": "LayoutModel",
      "state": {}
     },
     "ecc596da9f974d5183ed6f3f03f36523": {
      "model_module": "@jupyter-widgets/controls",
      "model_module_version": "1.5.0",
      "model_name": "LabelModel",
      "state": {
       "layout": "IPY_MODEL_af25a1d167284e438b11ae19f794ce1f",
       "style": "IPY_MODEL_6f63f15214f443c8a92a0e9f5ae1d2ed",
       "value": "Temperature in °C:"
      }
     },
     "ecd5d673fb4f448c938ba8c97fdea535": {
      "model_module": "@jupyter-widgets/base",
      "model_module_version": "1.2.0",
      "model_name": "LayoutModel",
      "state": {
       "flex": "10 1 auto",
       "width": "auto"
      }
     },
     "ece0d040316b4279b64afc9418f6e764": {
      "model_module": "@jupyter-widgets/controls",
      "model_module_version": "1.5.0",
      "model_name": "DescriptionStyleModel",
      "state": {
       "description_width": ""
      }
     },
     "ece3becd036741ffa05ed01d0ecd83c1": {
      "model_module": "@jupyter-widgets/base",
      "model_module_version": "1.2.0",
      "model_name": "LayoutModel",
      "state": {
       "flex": "1 1 auto",
       "width": "auto"
      }
     },
     "ed5a93dbcd40436a83a59b6d50a9091a": {
      "model_module": "@jupyter-widgets/base",
      "model_module_version": "1.2.0",
      "model_name": "LayoutModel",
      "state": {
       "display": "flex",
       "flex_flow": "row"
      }
     },
     "ed92aad7c1304169928272dc69aaa007": {
      "model_module": "@jupyter-widgets/base",
      "model_module_version": "1.2.0",
      "model_name": "LayoutModel",
      "state": {
       "display": "flex",
       "flex_flow": "row"
      }
     },
     "edaa2aeacb1945b4b74c3a19bbfb0041": {
      "model_module": "@jupyter-widgets/base",
      "model_module_version": "1.2.0",
      "model_name": "LayoutModel",
      "state": {
       "flex": "1 1 auto",
       "min_height": "300px",
       "min_width": "400px",
       "width": "auto"
      }
     },
     "edbf0dcd0fdc44778a9d40edddfdb669": {
      "model_module": "@jupyter-widgets/base",
      "model_module_version": "1.2.0",
      "model_name": "LayoutModel",
      "state": {
       "display": "flex",
       "width": "100%"
      }
     },
     "edf25439e4504d84802015197414ef50": {
      "model_module": "@jupyter-widgets/controls",
      "model_module_version": "1.5.0",
      "model_name": "BoundedFloatTextModel",
      "state": {
       "layout": "IPY_MODEL_18b44aba6f884026bb8a0101ea936b16",
       "max": 10,
       "min": 0.001,
       "step": 0.001,
       "style": "IPY_MODEL_4fb29bb3ccf84fe3bd36175766cd67bc",
       "value": 0.1
      }
     },
     "ee08ab3b2f1d42e6b3fbc01decf38a06": {
      "model_module": "@jupyter-widgets/base",
      "model_module_version": "1.2.0",
      "model_name": "LayoutModel",
      "state": {}
     },
     "ee68fa4ea22a4182ac75b8efa67f9b24": {
      "model_module": "@jupyter-widgets/base",
      "model_module_version": "1.2.0",
      "model_name": "LayoutModel",
      "state": {
       "display": "flex",
       "width": "100%"
      }
     },
     "ee793e62a28d45af80caa54f289ddacc": {
      "model_module": "@jupyter-widgets/controls",
      "model_module_version": "1.5.0",
      "model_name": "SliderStyleModel",
      "state": {
       "description_width": ""
      }
     },
     "ee9a8cb2aa1b446b857831d4e6808d6c": {
      "model_module": "@jupyter-widgets/base",
      "model_module_version": "1.2.0",
      "model_name": "LayoutModel",
      "state": {
       "flex": "10 1 auto",
       "width": "auto"
      }
     },
     "eee035cedeea4e37b32e96b4e8ed2a39": {
      "model_module": "@jupyter-widgets/controls",
      "model_module_version": "1.5.0",
      "model_name": "SliderStyleModel",
      "state": {
       "description_width": ""
      }
     },
     "ef238e841f38492899fee8ea1e515b69": {
      "model_module": "@jupyter-widgets/base",
      "model_module_version": "1.2.0",
      "model_name": "LayoutModel",
      "state": {
       "flex": "10 1 auto",
       "width": "auto"
      }
     },
     "ef4d82d030a142d3b16d395790d09571": {
      "model_module": "@jupyter-widgets/controls",
      "model_module_version": "1.5.0",
      "model_name": "FloatSliderModel",
      "state": {
       "layout": "IPY_MODEL_ee9a8cb2aa1b446b857831d4e6808d6c",
       "max": 200,
       "min": 0.001,
       "readout": false,
       "step": 0.001,
       "style": "IPY_MODEL_7c4c8c72351c45bc870290d6cb4c1c1b",
       "value": 20
      }
     },
     "ef73c079e78a4110891dfa0d3250055c": {
      "model_module": "@jupyter-widgets/controls",
      "model_module_version": "1.5.0",
      "model_name": "HBoxModel",
      "state": {
       "children": [
        "IPY_MODEL_a73b30dfc180468cad353cab2f2183c5",
        "IPY_MODEL_5d51904341244a0c93d3cd3300623d22",
        "IPY_MODEL_be5fd4ecfcd24071aecc4cf5ebed87c1"
       ],
       "layout": "IPY_MODEL_7e2d1a4eeb984452ae119b2cd5c9b023"
      }
     },
     "ef7ffca5f23542da8407557d98a63415": {
      "model_module": "@jupyter-widgets/base",
      "model_module_version": "1.2.0",
      "model_name": "LayoutModel",
      "state": {
       "flex": "1 1 auto",
       "width": "auto"
      }
     },
     "ef85426f5a4b4d58b39d2cb01cc7377f": {
      "model_module": "@jupyter-widgets/base",
      "model_module_version": "1.2.0",
      "model_name": "LayoutModel",
      "state": {
       "flex": "1 1 auto",
       "width": "auto"
      }
     },
     "efd32ba1438e49aa807481ebb906ecb4": {
      "model_module": "@jupyter-widgets/controls",
      "model_module_version": "1.5.0",
      "model_name": "BoundedFloatTextModel",
      "state": {
       "layout": "IPY_MODEL_f47cc9df49b343c59dfd9e98c07d71b9",
       "max": 10,
       "min": 0.001,
       "step": 0.001,
       "style": "IPY_MODEL_fc15e181b61d4594a93cd953604f54a7",
       "value": 0.1
      }
     },
     "efd67a850e9a43dea3f6fd2856a36af3": {
      "model_module": "@jupyter-widgets/controls",
      "model_module_version": "1.5.0",
      "model_name": "DescriptionStyleModel",
      "state": {
       "description_width": ""
      }
     },
     "efd7cbf2b694495b9ac7f938ac2bddb8": {
      "model_module": "@jupyter-widgets/controls",
      "model_module_version": "1.5.0",
      "model_name": "HBoxModel",
      "state": {
       "children": [
        "IPY_MODEL_f232be08109940daaa95a2fb3f80b7b8",
        "IPY_MODEL_1ddb7b8dd1394dbd86c23b8ba7145a9c"
       ],
       "layout": "IPY_MODEL_44fd472f197349f9abb947569e22a3aa"
      }
     },
     "efd9175097ef46ec8ac813ba82248fb0": {
      "model_module": "@jupyter-widgets/controls",
      "model_module_version": "1.5.0",
      "model_name": "HBoxModel",
      "state": {
       "children": [
        "IPY_MODEL_fbba2e29de0e429f93e9660855591e36",
        "IPY_MODEL_a89f234c52404bc1883075fe14f511db",
        "IPY_MODEL_adb0ce73f6114d2da5ea7b964c224ae6"
       ],
       "layout": "IPY_MODEL_85f0d2466c9f4fd796b7b51c674b61bf"
      }
     },
     "efdbc03522b84c5d939f21f869a4de2f": {
      "model_module": "@jupyter-widgets/base",
      "model_module_version": "1.2.0",
      "model_name": "LayoutModel",
      "state": {
       "display": "flex",
       "flex_flow": "row"
      }
     },
     "f0003d268733436eb8fbd883f1524ffe": {
      "model_module": "@jupyter-widgets/output",
      "model_module_version": "1.0.0",
      "model_name": "OutputModel",
      "state": {
       "layout": "IPY_MODEL_e58c6919677a48f2a11d188b8fd4f49f"
      }
     },
     "f03b980117624f46ae06e6fa66a1f965": {
      "model_module": "@jupyter-widgets/controls",
      "model_module_version": "1.5.0",
      "model_name": "LabelModel",
      "state": {
       "layout": "IPY_MODEL_7687d98e2ae949c9833efaf62670daf2",
       "style": "IPY_MODEL_1e4da38b368949d09c722296b009a575",
       "value": "Pressure in Pa:"
      }
     },
     "f06fe259d90b4c2284ecdab98a87696d": {
      "model_module": "@jupyter-widgets/controls",
      "model_module_version": "1.5.0",
      "model_name": "DescriptionStyleModel",
      "state": {
       "description_width": ""
      }
     },
     "f09356c4e8494f6289e58850a5a2028b": {
      "model_module": "@jupyter-widgets/controls",
      "model_module_version": "1.5.0",
      "model_name": "FloatSliderModel",
      "state": {
       "layout": "IPY_MODEL_72478222e9784df7949f340b43467f81",
       "max": 15000000,
       "min": 1,
       "readout": false,
       "step": 100000,
       "style": "IPY_MODEL_b355a0a66e2746c2bbd1163c7dae5cb9",
       "value": 101325
      }
     },
     "f0a1e1d1b129449f981fbb76994647f2": {
      "model_module": "@jupyter-widgets/controls",
      "model_module_version": "1.5.0",
      "model_name": "HBoxModel",
      "state": {
       "children": [
        "IPY_MODEL_6f28628020c648d6ad186e0f939648c4",
        "IPY_MODEL_50fa547047304202be12c6027565243f",
        "IPY_MODEL_445acbc5a6904a6999f7a3eff560b1b0"
       ],
       "layout": "IPY_MODEL_615375a2c540475986b76f69f289f9b7"
      }
     },
     "f0a824df5a8146d2a5c4466ae19bab9a": {
      "model_module": "@jupyter-widgets/base",
      "model_module_version": "1.2.0",
      "model_name": "LayoutModel",
      "state": {
       "display": "flex",
       "width": "100%"
      }
     },
     "f0a91ab0c49945b38e3e9bab26802469": {
      "model_module": "@jupyter-widgets/base",
      "model_module_version": "1.2.0",
      "model_name": "LayoutModel",
      "state": {
       "flex": "10 1 auto",
       "width": "auto"
      }
     },
     "f0f8711c3f544664bbd1603b882312d0": {
      "model_module": "@jupyter-widgets/base",
      "model_module_version": "1.2.0",
      "model_name": "LayoutModel",
      "state": {}
     },
     "f105840ddfa64203bf621582c5d92632": {
      "model_module": "@jupyter-widgets/controls",
      "model_module_version": "1.5.0",
      "model_name": "FloatSliderModel",
      "state": {
       "layout": "IPY_MODEL_aa820aeee91a49dcabe25f785c272b9d",
       "max": 200,
       "min": 0.001,
       "readout": false,
       "step": 0.001,
       "style": "IPY_MODEL_e0d36e7651fa4c7a9cbe2b5be24dc14c",
       "value": 20
      }
     },
     "f145415fcaa8406ab7781dca53a9ea90": {
      "model_module": "@jupyter-widgets/controls",
      "model_module_version": "1.5.0",
      "model_name": "DescriptionStyleModel",
      "state": {
       "description_width": ""
      }
     },
     "f16bced1e54447babda86a3ecfc78321": {
      "model_module": "@jupyter-widgets/base",
      "model_module_version": "1.2.0",
      "model_name": "LayoutModel",
      "state": {}
     },
     "f1b003b8ca254d80bb991a2e889226f0": {
      "model_module": "@jupyter-widgets/controls",
      "model_module_version": "1.5.0",
      "model_name": "SliderStyleModel",
      "state": {
       "description_width": ""
      }
     },
     "f1c6ef0706c14467a59ef9c02f46e4c7": {
      "model_module": "@jupyter-widgets/controls",
      "model_module_version": "1.5.0",
      "model_name": "HBoxModel",
      "state": {
       "children": [
        "IPY_MODEL_bd3a5b2041c440d1b9ecf19f46d6aa47",
        "IPY_MODEL_92b4d78f172a41818ad5d0e856709d66"
       ],
       "layout": "IPY_MODEL_03ee94235c0b412fba4a658ec305520f"
      }
     },
     "f1d8353de0e84bbb88e524eb8996cf08": {
      "model_module": "@jupyter-widgets/base",
      "model_module_version": "1.2.0",
      "model_name": "LayoutModel",
      "state": {
       "flex": "1 1 auto",
       "width": "auto"
      }
     },
     "f1dacb2a073a48c6b8822d26bf39a4df": {
      "model_module": "@jupyter-widgets/base",
      "model_module_version": "1.2.0",
      "model_name": "LayoutModel",
      "state": {
       "display": "flex",
       "flex_flow": "row"
      }
     },
     "f232be08109940daaa95a2fb3f80b7b8": {
      "model_module": "@jupyter-widgets/controls",
      "model_module_version": "1.5.0",
      "model_name": "LabelModel",
      "state": {
       "layout": "IPY_MODEL_7af916c2129d4f1a9b6c167b201de1c9",
       "style": "IPY_MODEL_c8f47c6026504a988fbb2b10ca1907ef",
       "value": "Gas / Specie Mixture:"
      }
     },
     "f240532a1f0a43dbbfa737d4dacb8b94": {
      "model_module": "@jupyter-widgets/base",
      "model_module_version": "1.2.0",
      "model_name": "LayoutModel",
      "state": {}
     },
     "f2935a5aeb6644a2be0e3f35365f7b02": {
      "model_module": "@jupyter-widgets/controls",
      "model_module_version": "1.5.0",
      "model_name": "DescriptionStyleModel",
      "state": {
       "description_width": ""
      }
     },
     "f2ce9cf4c2f14919b232531bf8ece732": {
      "model_module": "@jupyter-widgets/controls",
      "model_module_version": "1.5.0",
      "model_name": "FloatSliderModel",
      "state": {
       "layout": "IPY_MODEL_e316ee62c71e4a0fa111a231a1a62c86",
       "max": 200,
       "min": 0.001,
       "readout": false,
       "step": 0.001,
       "style": "IPY_MODEL_584e35b66f7b4f55a59293b897a876de",
       "value": 20
      }
     },
     "f2d2373c11fb49c5aa85a3ee258684cb": {
      "model_module": "@jupyter-widgets/controls",
      "model_module_version": "1.5.0",
      "model_name": "LabelModel",
      "state": {
       "layout": "IPY_MODEL_9ba7c1bcc1d146ddaf66a776e425ea19",
       "style": "IPY_MODEL_3d4fa2aeb75944cbacd75569c0eabfa0",
       "value": "Temperature in °C:"
      }
     },
     "f2dbb8f534c743fdbf2edd4a888eff7c": {
      "model_module": "@jupyter-widgets/controls",
      "model_module_version": "1.5.0",
      "model_name": "FloatSliderModel",
      "state": {
       "layout": "IPY_MODEL_4d463214146347b38d44a7a0d735b969",
       "max": 55,
       "min": -30,
       "readout": false,
       "style": "IPY_MODEL_1a7fccad401240f6b43eed69556541c5",
       "value": 20
      }
     },
     "f2ee25f5925a4f45b5f18b07a0fa7b14": {
      "model_module": "@jupyter-widgets/base",
      "model_module_version": "1.2.0",
      "model_name": "LayoutModel",
      "state": {
       "flex": "10 1 auto",
       "width": "auto"
      }
     },
     "f33e05215f6948a5a1c09dad6d69d343": {
      "model_module": "@jupyter-widgets/base",
      "model_module_version": "1.2.0",
      "model_name": "LayoutModel",
      "state": {
       "display": "flex",
       "flex_flow": "row"
      }
     },
     "f376a1708afb4c42872b086d63cb34af": {
      "model_module": "@jupyter-widgets/base",
      "model_module_version": "1.2.0",
      "model_name": "LayoutModel",
      "state": {
       "display": "flex",
       "width": "100%"
      }
     },
     "f37738d71c7842eba862058a7314a6a6": {
      "model_module": "@jupyter-widgets/controls",
      "model_module_version": "1.5.0",
      "model_name": "HBoxModel",
      "state": {
       "children": [
        "IPY_MODEL_1e74e139a1744d389199949233a8e0fb",
        "IPY_MODEL_458ac584379941128e9d828e855881d7",
        "IPY_MODEL_2cb210001136404983d9032dcf189b42"
       ],
       "layout": "IPY_MODEL_b77146198d72447fbd903c4d9e67b9f8"
      }
     },
     "f391b0e827684144989f156d32d69bd0": {
      "model_module": "@jupyter-widgets/controls",
      "model_module_version": "1.5.0",
      "model_name": "SliderStyleModel",
      "state": {
       "description_width": ""
      }
     },
     "f3a4b6acb1b347fca39dd0c4237a5076": {
      "model_module": "@jupyter-widgets/controls",
      "model_module_version": "1.5.0",
      "model_name": "HBoxModel",
      "state": {
       "children": [
        "IPY_MODEL_c6104330f8aa42d19f70d5b0a12394eb",
        "IPY_MODEL_2e3d3ebdbd5d4dc29811ceee90b9ac46"
       ],
       "layout": "IPY_MODEL_11a328286aa44379b15966740ee52f2b"
      }
     },
     "f3ab0e1508644da385b0a2096fcc6d72": {
      "model_module": "@jupyter-widgets/controls",
      "model_module_version": "1.5.0",
      "model_name": "BoundedFloatTextModel",
      "state": {
       "layout": "IPY_MODEL_05bad4dc6bac4ae481f44e56fc454d37",
       "max": 55,
       "min": -30,
       "step": 1,
       "style": "IPY_MODEL_f7a57730ef39464284f8a539a537fe2c",
       "value": 20
      }
     },
     "f3ad2c99aa9a4c019368c5f31be01090": {
      "model_module": "@jupyter-widgets/base",
      "model_module_version": "1.2.0",
      "model_name": "LayoutModel",
      "state": {
       "flex": "1 1 auto",
       "width": "auto"
      }
     },
     "f3b8f5db9a324218a7c0a01345035799": {
      "model_module": "@jupyter-widgets/controls",
      "model_module_version": "1.5.0",
      "model_name": "BoundedFloatTextModel",
      "state": {
       "layout": "IPY_MODEL_10f71ac8a7e74765a07f226b78840552",
       "max": 55,
       "min": -30,
       "step": 1,
       "style": "IPY_MODEL_415f0b66aa4e4f6a96bc0a995d749c73",
       "value": 20
      }
     },
     "f3cc1458316b4b1a865834ade3461af9": {
      "model_module": "@jupyter-widgets/base",
      "model_module_version": "1.2.0",
      "model_name": "LayoutModel",
      "state": {
       "display": "flex",
       "width": "100%"
      }
     },
     "f3cca6309d0a4e20b12da6824b1799c6": {
      "model_module": "@jupyter-widgets/base",
      "model_module_version": "1.2.0",
      "model_name": "LayoutModel",
      "state": {
       "flex": "10 1 auto",
       "width": "auto"
      }
     },
     "f3d60f87a03c45cbbd85ca837d79e463": {
      "model_module": "@jupyter-widgets/controls",
      "model_module_version": "1.5.0",
      "model_name": "DescriptionStyleModel",
      "state": {
       "description_width": ""
      }
     },
     "f3f1f81384e54bf2a5c484d8f2ef4f39": {
      "model_module": "@jupyter-widgets/controls",
      "model_module_version": "1.5.0",
      "model_name": "DescriptionStyleModel",
      "state": {
       "description_width": ""
      }
     },
     "f41855d608a940c89cbbc04bf6d53176": {
      "model_module": "@jupyter-widgets/controls",
      "model_module_version": "1.5.0",
      "model_name": "BoundedFloatTextModel",
      "state": {
       "layout": "IPY_MODEL_d998db0679894829a365213620959b78",
       "max": 10,
       "min": 0.001,
       "step": 0.001,
       "style": "IPY_MODEL_a4b6eb7278bb459a9405ce47e5ec4cc5",
       "value": 0.1
      }
     },
     "f47cc9df49b343c59dfd9e98c07d71b9": {
      "model_module": "@jupyter-widgets/base",
      "model_module_version": "1.2.0",
      "model_name": "LayoutModel",
      "state": {
       "flex": "1 1 auto",
       "width": "auto"
      }
     },
     "f48ae7c693af46889ca8ad90a0a091bd": {
      "model_module": "@jupyter-widgets/base",
      "model_module_version": "1.2.0",
      "model_name": "LayoutModel",
      "state": {}
     },
     "f490d7003b5849019072d5276f5d1300": {
      "model_module": "@jupyter-widgets/base",
      "model_module_version": "1.2.0",
      "model_name": "LayoutModel",
      "state": {
       "flex": "1 1 auto",
       "width": "auto"
      }
     },
     "f4ab5149a96b4d608db1524cf7c25628": {
      "model_module": "@jupyter-widgets/controls",
      "model_module_version": "1.5.0",
      "model_name": "LabelModel",
      "state": {
       "layout": "IPY_MODEL_4e007841965f4c4fa1166de3f783eb8a",
       "style": "IPY_MODEL_decfa2cde3504165ab8d1977cbe070ae",
       "value": "Platelength in m"
      }
     },
     "f4c821888e7c43cfa0d9fa5a539d057f": {
      "model_module": "@jupyter-widgets/controls",
      "model_module_version": "1.5.0",
      "model_name": "DescriptionStyleModel",
      "state": {
       "description_width": ""
      }
     },
     "f505e645353f49dbb85b2ee4bfb2615e": {
      "model_module": "@jupyter-widgets/controls",
      "model_module_version": "1.5.0",
      "model_name": "LabelModel",
      "state": {
       "layout": "IPY_MODEL_1a4d16ed92674e458cf53fa33452d497",
       "style": "IPY_MODEL_bab29f00eef34a3986fd5382a1dbda63",
       "value": "Temperature in °C:"
      }
     },
     "f5245348460e47c4921a170fd63ce8bb": {
      "model_module": "@jupyter-widgets/controls",
      "model_module_version": "1.5.0",
      "model_name": "SliderStyleModel",
      "state": {
       "description_width": ""
      }
     },
     "f578a606697f4dd781c6be2bf89deb6e": {
      "model_module": "@jupyter-widgets/base",
      "model_module_version": "1.2.0",
      "model_name": "LayoutModel",
      "state": {}
     },
     "f58f154ab3bc4b3296504d7ed5ea21fd": {
      "model_module": "@jupyter-widgets/base",
      "model_module_version": "1.2.0",
      "model_name": "LayoutModel",
      "state": {
       "flex": "1 1 auto",
       "width": "auto"
      }
     },
     "f5cfa4c0bd3e40159d4d3bf8eaed1b6b": {
      "model_module": "@jupyter-widgets/controls",
      "model_module_version": "1.5.0",
      "model_name": "HBoxModel",
      "state": {
       "children": [
        "IPY_MODEL_a251ead5028d4a5183567f84367710e8",
        "IPY_MODEL_f105840ddfa64203bf621582c5d92632",
        "IPY_MODEL_704d564dec884b9a84b917b51999707a"
       ],
       "layout": "IPY_MODEL_3c78990275224f42b4fb8b1a6cf7dd7f"
      }
     },
     "f60a6bb53089459da9b50d35afd60c35": {
      "model_module": "@jupyter-widgets/controls",
      "model_module_version": "1.5.0",
      "model_name": "LabelModel",
      "state": {
       "layout": "IPY_MODEL_3f36575bef484ec7ae7a1a80b50c2fd0",
       "style": "IPY_MODEL_73140a49066742e78d760754bd39c6e9",
       "value": "Temperature in °C:"
      }
     },
     "f60aca5ca6d74019abd6d9368b2ce918": {
      "model_module": "@jupyter-widgets/base",
      "model_module_version": "1.2.0",
      "model_name": "LayoutModel",
      "state": {
       "flex": "1 1 auto",
       "width": "auto"
      }
     },
     "f68678d699df47f68f18c6602486cf3c": {
      "model_module": "@jupyter-widgets/controls",
      "model_module_version": "1.5.0",
      "model_name": "HBoxModel",
      "state": {
       "children": [
        "IPY_MODEL_839afb647c7148338f53920284d60a3d",
        "IPY_MODEL_71f3d6fdbe1a4fac967bdc2dd3113c85",
        "IPY_MODEL_79e743030a0943028478c6ce75b533bc"
       ],
       "layout": "IPY_MODEL_a54144d851f74c25a5a7ab621de921a0"
      }
     },
     "f6cfc5770e4b4c10b21d9ec154debfdd": {
      "model_module": "@jupyter-widgets/controls",
      "model_module_version": "1.5.0",
      "model_name": "DescriptionStyleModel",
      "state": {
       "description_width": ""
      }
     },
     "f6df07039f8347fcb6d5a411bfd8eaba": {
      "model_module": "@jupyter-widgets/base",
      "model_module_version": "1.2.0",
      "model_name": "LayoutModel",
      "state": {
       "flex": "1 1 auto",
       "width": "auto"
      }
     },
     "f74d5510a8d147baac872115a4f2a7ad": {
      "model_module": "@jupyter-widgets/base",
      "model_module_version": "1.2.0",
      "model_name": "LayoutModel",
      "state": {}
     },
     "f74fa0bf1f0b4024a8c2d7fd5274e9b3": {
      "model_module": "@jupyter-widgets/output",
      "model_module_version": "1.0.0",
      "model_name": "OutputModel",
      "state": {
       "layout": "IPY_MODEL_0d1091aee808413db38b95f6062de6ae"
      }
     },
     "f75fed7c35c54b3c9d3dd63712eac016": {
      "model_module": "@jupyter-widgets/controls",
      "model_module_version": "1.5.0",
      "model_name": "DescriptionStyleModel",
      "state": {
       "description_width": ""
      }
     },
     "f7a57730ef39464284f8a539a537fe2c": {
      "model_module": "@jupyter-widgets/controls",
      "model_module_version": "1.5.0",
      "model_name": "DescriptionStyleModel",
      "state": {
       "description_width": ""
      }
     },
     "f7bfd671c51f4d55952317c42141f2e7": {
      "model_module": "@jupyter-widgets/controls",
      "model_module_version": "1.5.0",
      "model_name": "SliderStyleModel",
      "state": {
       "description_width": ""
      }
     },
     "f7ceedc86e9e4a018b26978a5117f654": {
      "model_module": "@jupyter-widgets/controls",
      "model_module_version": "1.5.0",
      "model_name": "LabelModel",
      "state": {
       "layout": "IPY_MODEL_2c5b294c98e14b1a8985a80e73332810",
       "style": "IPY_MODEL_7f0f24587b574320ad12a0dd54d86623",
       "value": "Gas / Specie Mixture:"
      }
     },
     "f7f3f82d27b84078a97a191725ace5e0": {
      "model_module": "@jupyter-widgets/base",
      "model_module_version": "1.2.0",
      "model_name": "LayoutModel",
      "state": {
       "flex": "1 1 auto",
       "width": "auto"
      }
     },
     "f81075991cd7430aaa49abe81cebefa9": {
      "model_module": "@jupyter-widgets/base",
      "model_module_version": "1.2.0",
      "model_name": "LayoutModel",
      "state": {
       "display": "flex",
       "width": "100%"
      }
     },
     "f81bdfc5ce9e4f6c8fcdf0cf8867d079": {
      "model_module": "@jupyter-widgets/base",
      "model_module_version": "1.2.0",
      "model_name": "LayoutModel",
      "state": {
       "display": "flex",
       "width": "100%"
      }
     },
     "f83bdfb98e0f4d2e913f78687c05115d": {
      "model_module": "@jupyter-widgets/controls",
      "model_module_version": "1.5.0",
      "model_name": "BoundedFloatTextModel",
      "state": {
       "layout": "IPY_MODEL_93d7ea8d20784ca0a8db7abf7e66e7d1",
       "max": 15000000,
       "min": 1,
       "step": 100000,
       "style": "IPY_MODEL_0b434f134c934f4c826cf159be161711",
       "value": 101325
      }
     },
     "f880a0e3a9da4444894b3168abf3827f": {
      "model_module": "@jupyter-widgets/controls",
      "model_module_version": "1.5.0",
      "model_name": "HBoxModel",
      "state": {
       "children": [
        "IPY_MODEL_bc9610053afd4a628536923ef1bf3ee9",
        "IPY_MODEL_06553a33e4c242a9a5da4273606b3e03",
        "IPY_MODEL_abf6a5035834447988daf09acd3ed292"
       ],
       "layout": "IPY_MODEL_c13e336d86e44306938b03fdf98139e2"
      }
     },
     "f89a89f543f44e86954bb1114c4241ac": {
      "model_module": "@jupyter-widgets/controls",
      "model_module_version": "1.5.0",
      "model_name": "SliderStyleModel",
      "state": {
       "description_width": ""
      }
     },
     "f8d68f07ab044668b9d87fc196fed900": {
      "model_module": "@jupyter-widgets/base",
      "model_module_version": "1.2.0",
      "model_name": "LayoutModel",
      "state": {}
     },
     "f8f83483a6c64bcb87f1894a37eb7738": {
      "model_module": "@jupyter-widgets/base",
      "model_module_version": "1.2.0",
      "model_name": "LayoutModel",
      "state": {
       "flex": "1 1 auto",
       "width": "auto"
      }
     },
     "f93785f7f44a4ce2822f3b24c3d2a971": {
      "model_module": "@jupyter-widgets/base",
      "model_module_version": "1.2.0",
      "model_name": "LayoutModel",
      "state": {
       "flex": "10 1 auto",
       "width": "auto"
      }
     },
     "f996b71a187b4b948bdb48aee2206a68": {
      "model_module": "@jupyter-widgets/controls",
      "model_module_version": "1.5.0",
      "model_name": "HBoxModel",
      "state": {
       "children": [
        "IPY_MODEL_e708999d8ec44c0eb6c6e0a8aab954ae",
        "IPY_MODEL_ae77f2d5f96e492a9cd11aa526412ce3",
        "IPY_MODEL_4ab9d6a61bcb464e99ff3278be011c08"
       ],
       "layout": "IPY_MODEL_7e79140459914381b67c2f036d097d0a"
      }
     },
     "f99e5c5e6c2b407baa60830a3dc6a3f6": {
      "model_module": "@jupyter-widgets/controls",
      "model_module_version": "1.5.0",
      "model_name": "LabelModel",
      "state": {
       "layout": "IPY_MODEL_f7f3f82d27b84078a97a191725ace5e0",
       "style": "IPY_MODEL_aca0298a991c478da1196ebfaabec3d4",
       "value": "Platelength in m"
      }
     },
     "f9e0dbb5a6ea44e4ba79d98a6bf914bb": {
      "model_module": "@jupyter-widgets/base",
      "model_module_version": "1.2.0",
      "model_name": "LayoutModel",
      "state": {
       "display": "flex",
       "flex_flow": "row"
      }
     },
     "f9fe3825340a40758490d5adda5c5116": {
      "model_module": "@jupyter-widgets/controls",
      "model_module_version": "1.5.0",
      "model_name": "LabelModel",
      "state": {
       "layout": "IPY_MODEL_4da13c9d8d404693aef6a78f36404bfa",
       "style": "IPY_MODEL_797a6c88e53141548d1612b76b6b860b",
       "value": "Temperature in °C:"
      }
     },
     "fa010e4da5a044b19e7d5105fd04c0e9": {
      "model_module": "@jupyter-widgets/controls",
      "model_module_version": "1.5.0",
      "model_name": "AccordionModel",
      "state": {
       "_titles": {
        "0": "Thermodynamic State",
        "1": "Flat Plate"
       },
       "children": [
        "IPY_MODEL_a955787058434c60ae5898d723155a8f",
        "IPY_MODEL_adc009089e91426b88d31469f9f77c37"
       ],
       "layout": "IPY_MODEL_56ce362c0b3c4a3c840ad8199df41491"
      }
     },
     "fa41765e6af4468e9f85361076f4499b": {
      "model_module": "@jupyter-widgets/controls",
      "model_module_version": "1.5.0",
      "model_name": "LabelModel",
      "state": {
       "layout": "IPY_MODEL_2ecc36179b8a42888e55a2fcb8d2614a",
       "style": "IPY_MODEL_bde229f1d3c54ae6b87c9b20978e94b8",
       "value": "Velocity in m/s:"
      }
     },
     "fa46af33cae9490eba3a25a92c995ebc": {
      "model_module": "@jupyter-widgets/controls",
      "model_module_version": "1.5.0",
      "model_name": "HBoxModel",
      "state": {
       "children": [
        "IPY_MODEL_a3b7f3a9369f438e93e95837010c8402",
        "IPY_MODEL_377f2ea59a3142f99193d0a14bfce58d",
        "IPY_MODEL_0371f67d75f84de2b697e8650009c5f6"
       ],
       "layout": "IPY_MODEL_1a4bd03ee58f425ca845c620a910bb65"
      }
     },
     "fa5c1779ee4f414dbef20e131f758f1c": {
      "model_module": "@jupyter-widgets/controls",
      "model_module_version": "1.5.0",
      "model_name": "BoundedFloatTextModel",
      "state": {
       "layout": "IPY_MODEL_c7ba71d8fd9647989151dcd8e166477b",
       "max": 15000000,
       "min": 1,
       "step": 100000,
       "style": "IPY_MODEL_11269ba8cb884cb29ddef3fd83472d68",
       "value": 101325
      }
     },
     "fa63516a64774bfea68d6f28e822a392": {
      "model_module": "@jupyter-widgets/base",
      "model_module_version": "1.2.0",
      "model_name": "LayoutModel",
      "state": {
       "flex": "1 1 auto",
       "width": "auto"
      }
     },
     "fa8a5bc390cf49948c6d3baf577776f8": {
      "model_module": "@jupyter-widgets/controls",
      "model_module_version": "1.5.0",
      "model_name": "VBoxModel",
      "state": {
       "children": [
        "IPY_MODEL_7d3c653042d443c5959777e043bbfa8a",
        "IPY_MODEL_9367da7fffdf40bc9ae1239b3203c85e"
       ],
       "layout": "IPY_MODEL_bda33117b3f442bf81ad4bd540cdd28c"
      }
     },
     "fa9f53f780684a4eb3b9f66399aeb658": {
      "model_module": "@jupyter-widgets/controls",
      "model_module_version": "1.5.0",
      "model_name": "HBoxModel",
      "state": {
       "children": [
        "IPY_MODEL_709303fa4a5843c1893114dc3f8693f7",
        "IPY_MODEL_2980173cc111432f97f5f5e619ca2a40",
        "IPY_MODEL_ad31385d7d1740899cd71edff1d7f328"
       ],
       "layout": "IPY_MODEL_6b0e5b20c0b64dec8b7c06ec60e02fac"
      }
     },
     "fabc5b631a6e4ee4b73b9d6bae1a8061": {
      "model_module": "@jupyter-widgets/base",
      "model_module_version": "1.2.0",
      "model_name": "LayoutModel",
      "state": {
       "display": "flex",
       "flex_flow": "row"
      }
     },
     "facd174b3a854b41a53284836f73c425": {
      "model_module": "@jupyter-widgets/controls",
      "model_module_version": "1.5.0",
      "model_name": "BoundedFloatTextModel",
      "state": {
       "layout": "IPY_MODEL_385b628775864537af30526a65d65f4e",
       "max": 15000000,
       "min": 1,
       "step": 100000,
       "style": "IPY_MODEL_1bf04ee4ce104e09b3b7c9fc9df91d43",
       "value": 101325
      }
     },
     "fae559f1173f4365b2e9aad8bd3bc5d5": {
      "model_module": "@jupyter-widgets/base",
      "model_module_version": "1.2.0",
      "model_name": "LayoutModel",
      "state": {}
     },
     "faea361b93fd488a9ee50f0971206798": {
      "model_module": "@jupyter-widgets/controls",
      "model_module_version": "1.5.0",
      "model_name": "BoundedFloatTextModel",
      "state": {
       "layout": "IPY_MODEL_694f18b5cddb4d12963214b09cbf1631",
       "max": 10,
       "min": 0.001,
       "step": 0.001,
       "style": "IPY_MODEL_0aa602429c6d4563b182ebfb3e8702de",
       "value": 0.1
      }
     },
     "fb76014de0f94db3933b514deaea2818": {
      "model_module": "@jupyter-widgets/controls",
      "model_module_version": "1.5.0",
      "model_name": "LabelModel",
      "state": {
       "layout": "IPY_MODEL_e646c148c82b4662a2174996b4c8c29d",
       "style": "IPY_MODEL_88f7e5824a8d488ebba2d918afdf9d3c",
       "value": "Velocity in m/s:"
      }
     },
     "fb79ca6a176f4420aff06c36cc6ecc6d": {
      "model_module": "@jupyter-widgets/controls",
      "model_module_version": "1.5.0",
      "model_name": "HBoxModel",
      "state": {
       "children": [
        "IPY_MODEL_6ec4db93c66c48b5b4ab4f16063f5f17",
        "IPY_MODEL_d8b2851f59b64eef9f81d0ab79d8dd26",
        "IPY_MODEL_05ab5b7b33a64e5db3769f9ac9fb2a29"
       ],
       "layout": "IPY_MODEL_3f84c6e9ae4843acbacc7f50414194cf"
      }
     },
     "fb885fff30f14ce1a2c4e7a036f2a074": {
      "model_module": "@jupyter-widgets/controls",
      "model_module_version": "1.5.0",
      "model_name": "DescriptionStyleModel",
      "state": {
       "description_width": ""
      }
     },
     "fbba2e29de0e429f93e9660855591e36": {
      "model_module": "@jupyter-widgets/controls",
      "model_module_version": "1.5.0",
      "model_name": "LabelModel",
      "state": {
       "layout": "IPY_MODEL_d1430390482f4ed890b9658f02d6ad68",
       "style": "IPY_MODEL_4865e67d7dd74d6bbf8a902addb93f68",
       "value": "Temperature in °C:"
      }
     },
     "fbbad68ee8f34ec4a168b6f707faf2f6": {
      "model_module": "@jupyter-widgets/base",
      "model_module_version": "1.2.0",
      "model_name": "LayoutModel",
      "state": {}
     },
     "fbd23c23e3e244e48f1080d84403c385": {
      "model_module": "@jupyter-widgets/controls",
      "model_module_version": "1.5.0",
      "model_name": "DescriptionStyleModel",
      "state": {
       "description_width": ""
      }
     },
     "fc01a6eaf9924bc6963222ce47b3502e": {
      "model_module": "@jupyter-widgets/controls",
      "model_module_version": "1.5.0",
      "model_name": "HBoxModel",
      "state": {
       "children": [
        "IPY_MODEL_da9c6898fe2a4f85a77a1dd605b27d21",
        "IPY_MODEL_3998ee7450934499bb093819e1b51734",
        "IPY_MODEL_9258ab74794f4770a939f42f43f4d0f8"
       ],
       "layout": "IPY_MODEL_549418a944dd45c285e2340798024014"
      }
     },
     "fc15e181b61d4594a93cd953604f54a7": {
      "model_module": "@jupyter-widgets/controls",
      "model_module_version": "1.5.0",
      "model_name": "DescriptionStyleModel",
      "state": {
       "description_width": ""
      }
     },
     "fc9808a3ed62477c8ac2703ea66d830a": {
      "model_module": "@jupyter-widgets/controls",
      "model_module_version": "1.5.0",
      "model_name": "DescriptionStyleModel",
      "state": {
       "description_width": ""
      }
     },
     "fcad7d8a881e40659e6e0eaf78312381": {
      "model_module": "@jupyter-widgets/base",
      "model_module_version": "1.2.0",
      "model_name": "LayoutModel",
      "state": {}
     },
     "fcb7bc3726e1462fac43b263723b42e3": {
      "model_module": "@jupyter-widgets/controls",
      "model_module_version": "1.5.0",
      "model_name": "LabelModel",
      "state": {
       "layout": "IPY_MODEL_c2e0b345ccbe4f3ca75fd88d0af5d2c9",
       "style": "IPY_MODEL_e8ddb23d6c5b42cebca3e4ae809807e4",
       "value": "Velocity in m/s:"
      }
     },
     "fcd4f14bc37a474ca1ebb88c82e6dc27": {
      "model_module": "@jupyter-widgets/base",
      "model_module_version": "1.2.0",
      "model_name": "LayoutModel",
      "state": {
       "flex": "1 1 auto",
       "width": "auto"
      }
     },
     "fd0226053fce42e4b54366cf47afaa38": {
      "model_module": "@jupyter-widgets/base",
      "model_module_version": "1.2.0",
      "model_name": "LayoutModel",
      "state": {
       "flex": "1 1 auto",
       "width": "auto"
      }
     },
     "fd0448d67ccd4881a9d2722a07f9c969": {
      "model_module": "@jupyter-widgets/base",
      "model_module_version": "1.2.0",
      "model_name": "LayoutModel",
      "state": {
       "display": "flex",
       "flex_flow": "row"
      }
     },
     "fd158e7fb63c473d930205b36c803085": {
      "model_module": "@jupyter-widgets/controls",
      "model_module_version": "1.5.0",
      "model_name": "FloatSliderModel",
      "state": {
       "layout": "IPY_MODEL_11d5aff87904493a9344784b1597011e",
       "max": 10,
       "min": 0.001,
       "readout": false,
       "step": 0.001,
       "style": "IPY_MODEL_58e9aed5dea34250ad82b688e8161254",
       "value": 0.1
      }
     },
     "fd221d04a31340adabe80d88eceedcd6": {
      "model_module": "@jupyter-widgets/controls",
      "model_module_version": "1.5.0",
      "model_name": "FloatSliderModel",
      "state": {
       "layout": "IPY_MODEL_69ef1731672d4dcfb83d48cd25ff41a6",
       "max": 55,
       "min": -30,
       "readout": false,
       "style": "IPY_MODEL_ab8fdf8c85c947cda66b975977f0ae23",
       "value": 20
      }
     },
     "fd315e008e4144eb95f318fce09a5b4e": {
      "model_module": "@jupyter-widgets/controls",
      "model_module_version": "1.5.0",
      "model_name": "SliderStyleModel",
      "state": {
       "description_width": ""
      }
     },
     "fd3aad1d6f0946fab86f1b8a97dee5f7": {
      "model_module": "@jupyter-widgets/base",
      "model_module_version": "1.2.0",
      "model_name": "LayoutModel",
      "state": {}
     },
     "fd5f33f0521f444aa6e64971c3804bc6": {
      "model_module": "@jupyter-widgets/controls",
      "model_module_version": "1.5.0",
      "model_name": "VBoxModel",
      "state": {
       "children": [
        "IPY_MODEL_dd3f94007a6241e489bd13b6da41d4e1",
        "IPY_MODEL_d1349546352b4328b6b5f5a13c27c271"
       ],
       "layout": "IPY_MODEL_8b4e3ea15f18409d96a14976714d46ec"
      }
     },
     "fd71ae9ec0c341ca82682bfc9f30caf6": {
      "model_module": "@jupyter-widgets/controls",
      "model_module_version": "1.5.0",
      "model_name": "FloatSliderModel",
      "state": {
       "layout": "IPY_MODEL_de0c30ef19244ef5a315e6e8256cba86",
       "max": 55,
       "min": -30,
       "readout": false,
       "style": "IPY_MODEL_9ef99e235cb14f9f942c888b1fb3c5d9",
       "value": 20
      }
     },
     "fd997fbd9b0b4bc7aaeae6d77a0f00f1": {
      "model_module": "@jupyter-widgets/controls",
      "model_module_version": "1.5.0",
      "model_name": "DescriptionStyleModel",
      "state": {
       "description_width": ""
      }
     },
     "fe0507926fd04f9a98995e8563c223dc": {
      "model_module": "@jupyter-widgets/base",
      "model_module_version": "1.2.0",
      "model_name": "LayoutModel",
      "state": {
       "flex": "1 1 auto",
       "width": "auto"
      }
     },
     "fe2b34c3e45e4ff9992402fbe7561e1c": {
      "model_module": "@jupyter-widgets/controls",
      "model_module_version": "1.5.0",
      "model_name": "HBoxModel",
      "state": {
       "children": [
        "IPY_MODEL_c0fe1d9873974328ace6d8128c8eb7ac",
        "IPY_MODEL_c9de93865e5549848fce5b66b30e76e2",
        "IPY_MODEL_9bb4d5f381814b36b51eebc7d19d40bb"
       ],
       "layout": "IPY_MODEL_4d4684d2847640b6a8c11f0e97febb43"
      }
     },
     "fe53f15a0d084dbda64531d303e15bb8": {
      "model_module": "@jupyter-widgets/base",
      "model_module_version": "1.2.0",
      "model_name": "LayoutModel",
      "state": {
       "display": "flex",
       "width": "100%"
      }
     },
     "fe91c0c28cc64bd8a891e2461654955f": {
      "model_module": "@jupyter-widgets/base",
      "model_module_version": "1.2.0",
      "model_name": "LayoutModel",
      "state": {
       "flex": "1 1 auto",
       "width": "auto"
      }
     },
     "fea799a87252464284d13ac968ae5daa": {
      "model_module": "@jupyter-widgets/base",
      "model_module_version": "1.2.0",
      "model_name": "LayoutModel",
      "state": {
       "display": "flex",
       "flex_flow": "row"
      }
     },
     "fee4b03dd1f34349b1ee0b64aabecac3": {
      "model_module": "@jupyter-widgets/base",
      "model_module_version": "1.2.0",
      "model_name": "LayoutModel",
      "state": {
       "flex": "1 1 auto",
       "width": "auto"
      }
     },
     "ff1629b8fb82406bbb0d20cd6def2949": {
      "model_module": "@jupyter-widgets/base",
      "model_module_version": "1.2.0",
      "model_name": "LayoutModel",
      "state": {}
     },
     "ff256e0473cd4a2c99266d9094709b45": {
      "model_module": "@jupyter-widgets/controls",
      "model_module_version": "1.5.0",
      "model_name": "HBoxModel",
      "state": {
       "children": [
        "IPY_MODEL_df9543e0cd06420f871e699d7b2298c4",
        "IPY_MODEL_88175c752baf453d9db82625e13c7eb7",
        "IPY_MODEL_ea139e5077f848e4ad0482986ac7f1fc"
       ],
       "layout": "IPY_MODEL_48135822651b496697f885807b43649f"
      }
     },
     "ff48d085f7114897b07b99395de3c10f": {
      "model_module": "@jupyter-widgets/base",
      "model_module_version": "1.2.0",
      "model_name": "LayoutModel",
      "state": {
       "flex": "1 1 auto",
       "width": "auto"
      }
     },
     "ff7d45d33a0d41cbb6266d081a68098f": {
      "model_module": "@jupyter-widgets/controls",
      "model_module_version": "1.5.0",
      "model_name": "SliderStyleModel",
      "state": {
       "description_width": ""
      }
     },
     "ffbe1cc1b94843aeb4367d7a8fbe3f6c": {
      "model_module": "@jupyter-widgets/controls",
      "model_module_version": "1.5.0",
      "model_name": "VBoxModel",
      "state": {
       "children": [
        "IPY_MODEL_4cd851bb30c84038a609c17c90d2ee80",
        "IPY_MODEL_deb5ac0dc1124d11b8fa4e3714b8ec99"
       ],
       "layout": "IPY_MODEL_f8d68f07ab044668b9d87fc196fed900"
      }
     }
    },
    "version_major": 2,
    "version_minor": 0
   }
  }
 },
 "nbformat": 4,
 "nbformat_minor": 4
}
