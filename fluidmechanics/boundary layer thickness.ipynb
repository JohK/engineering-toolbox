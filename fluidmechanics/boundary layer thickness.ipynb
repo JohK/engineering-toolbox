{
 "cells": [
  {
   "cell_type": "markdown",
   "metadata": {},
   "source": [
    "Boundary Layer Thickness on a Flat Plate\n",
    "===\n",
    "\n",
    "This is a tool for a quick estimation of the boundary layer thickness on a flat plate.\n",
    "\n",
    "The momentum loss thickness of a laminar boundary layer $\\delta_l$ (Blasius solution):\n",
    "$$ \\delta_l = 0.664 \\cdot \\sqrt{\\frac{\\nu \\cdot x}{u}} $$\n",
    "\n",
    "For a turbulent flow:\n",
    "$$ \\delta_t = 0.0142 \\cdot x \\cdot \\left(\\frac{u\\cdot x}{\\nu}\\right)^\\left(-\\frac{1}{7}\\right) $$"
   ]
  },
  {
   "cell_type": "code",
   "execution_count": 1,
   "metadata": {},
   "outputs": [],
   "source": [
    "from ipywidgets import interact, interactive, fixed, interact_manual, interactive_output\n",
    "import ipywidgets as widgets\n",
    "\n",
    "import numpy as np\n",
    "import matplotlib.pyplot as plt\n",
    "\n",
    "from scipy.optimize import root_scalar\n",
    "\n",
    "import sys\n",
    "sys.path.append('../_lib')\n",
    "import gas\n",
    "\n",
    "nu = 151e-7\n",
    "x = np.linspace(1e-20,31.4e-3,100)\n",
    "\n",
    "c1 = 1\n",
    "\n",
    "\n",
    "                  \n",
    "@np.vectorize\n",
    "def momentum_boundarylayer(x, u, gas):\n",
    "    rho = gas.density\n",
    "    nu = gas.kinematic_viscosity\n",
    "    \n",
    "    fdelta_laminar = lambda x: 0.664*np.sqrt(nu*x/u)\n",
    "    fdelta_turbulent = lambda x: 0.0142*(u*x/nu)**(-1/7)*x\n",
    "    \n",
    "    try:\n",
    "        boundarylayer_thickness = [np.max(fdelta_laminar(xi), fdelta_turbulent(xi)) for xi in x]\n",
    "    except TypeError:\n",
    "        boundarylayer_thickness = np.max([fdelta_laminar(x), fdelta_turbulent(x)])\n",
    "    \n",
    "    #find where laminar and turbulent boundary layer thickness intersect\n",
    "    sol = root_scalar(lambda x: fdelta_laminar(x)-fdelta_turbulent(x), bracket=[1e-6,10e6])\n",
    "    transition_position = sol.root\n",
    "    \n",
    "    return(boundarylayer_thickness,\n",
    "           transition_position)\n",
    "    \n",
    "nu = 151e-7\n",
    "Lchar = 0.032\n",
    "\n",
    "Re = lambda u: Lchar*u/nu\n",
    "    \n",
    "g = gas.state('Air', 298.15, 101325)\n",
    "\n",
    "u = np.linspace(0.1,50, 1000)\n",
    "bl = momentum_boundarylayer(0.032, u, g)[0]\n",
    "#bl = np.array([np.array(momentum_boundarylayer(0.032, vel, g)) for vel in u])\n",
    "\n",
    "\n",
    "#plt.plot(Re(u),bl*1000)\n",
    "#plt.grid()\n",
    "#plt.xlabel('Reynolds number')\n",
    "#plt.ylabel('boundary layer thickness in mm')\n",
    "    \n",
    "    "
   ]
  },
  {
   "cell_type": "code",
   "execution_count": 40,
   "metadata": {},
   "outputs": [],
   "source": [
    "def fplot(platelength, u, pressure, temperature, gasname):\n",
    "    g = gas.state(gasname, 273.15+temperature, pressure*1e5)\n",
    "    \n",
    "    \n",
    "    plt.figure()\n",
    "    #print(xmax, u, gas.gasname)\n",
    "    x = np.linspace(0.0000001, platelength, num=1000)\n",
    "    \n",
    "    bl, transition = momentum_boundarylayer(x, u, g)\n",
    "    transition_bl, _ =  momentum_boundarylayer(transition[0], u, g)\n",
    "    #print(x, bl)\n",
    "    plt.plot(x, bl*1000, label='boundary layer thickness')\n",
    "    plt.plot(transition[0], transition_bl*1000, 'o', label='laminar-turbulent transition')\n",
    "    plt.xlabel('length of flat plate in m')\n",
    "    plt.ylabel('boundary layer thickness in mm')\n",
    "    plt.grid()\n",
    "    plt.xlim([0, platelength])\n",
    "    plt.ylim([0, np.max(bl)*1000])\n",
    "    plt.title('')\n",
    "    plt.legend()\n",
    "    plt.show()"
   ]
  },
  {
   "cell_type": "code",
   "execution_count": 41,
   "metadata": {},
   "outputs": [
    {
     "data": {
      "application/vnd.jupyter.widget-view+json": {
       "model_id": "3fa620b5e8674b8ea8eaea0757cc2b72",
       "version_major": 2,
       "version_minor": 0
      },
      "text/plain": [
       "Accordion(children=(VBox(children=(HBox(children=(FloatSlider(value=0.101325, description='pressure:', max=15.…"
      ]
     },
     "metadata": {},
     "output_type": "display_data"
    },
    {
     "data": {
      "application/vnd.jupyter.widget-view+json": {
       "model_id": "72a82265607246ed99023b6f68ecbc25",
       "version_major": 2,
       "version_minor": 0
      },
      "text/plain": [
       "Output()"
      ]
     },
     "metadata": {},
     "output_type": "display_data"
    }
   ],
   "source": [
    "unit_MPa = widgets.Label(value='\\(\\mathrm{MPa}\\)')\n",
    "unit_C = widgets.Label(value='\\(\\mathrm{°C}\\)')\n",
    "unit_m = widgets.Label(value='\\(\\mathrm{m}\\)')\n",
    "unit_mpers = widgets.Label(value='\\(\\mathrm{m/s}\\)')\n",
    "\n",
    "pressure_slider = widgets.FloatSlider(value=0.101325, min=0.1, max=15, step=0.1,\n",
    "                                      description='pressure:', readout_format='.1f')\n",
    "\n",
    "\n",
    "temperature_slider = widgets.IntSlider(value=20, min=-20, max=50, step=1,\n",
    "                                       description='temperature:')\n",
    "\n",
    "\n",
    "\n",
    "#gas_dropdown = widgets.Dropdown(options={'Air, 1atm, 20C': gas.state('Air', 298.15, 101325),\n",
    "#                                    'Air, 17bar, 20C': gas.state('Air', 298.15, 17e5),\n",
    "#                                    'Air, 50bar, 20C': gas.state('Air', 298.15, 5e6),\n",
    "#                                    'N2': gas.state('N2', 298.15, 101325),\n",
    "#                                    'H2': gas.state('H2', 298.15, 101325)})\n",
    "gas_dropdown = widgets.Dropdown(options=['Air', 'N2', 'H2', 'CH4'])\n",
    "\n",
    "platelength_slider = widgets.FloatSlider(description='plate length:',\n",
    "                                         readout_format='.3f',\n",
    "                                         min=0.001, max=1, step=0.001, value=0.032)\n",
    "velocity_slider = widgets.FloatSlider(description='velocity:',\n",
    "                                         min=0.25, max=100, step=0.25, value=25.0)\n",
    "\n",
    "\n",
    "thermostate = widgets.VBox([\n",
    "    widgets.HBox([pressure_slider, unit_MPa]),\n",
    "    widgets.HBox([temperature_slider, unit_C]),\n",
    "    widgets.HBox([widgets.Label('gas:'), gas_dropdown])\n",
    "])\n",
    "\n",
    "flow = widgets.VBox([\n",
    "    widgets.HBox([platelength_slider, unit_m]),\n",
    "    widgets.HBox([velocity_slider, unit_mpers]),\n",
    "                 \n",
    "])\n",
    "\n",
    "accordion = widgets.Accordion(children=[thermostate, flow])\n",
    "accordion.set_title(0, 'Thermodynamic State')\n",
    "accordion.set_title(1, 'Flat Plate')\n",
    "\n",
    "\n",
    "interactive_plot = interactive_output(fplot,\n",
    "                               {'platelength': platelength_slider,\n",
    "                                'u': velocity_slider,\n",
    "                                'pressure': pressure_slider,\n",
    "                                'temperature': temperature_slider,\n",
    "                                'gasname': gas_dropdown})\n",
    "\n",
    "display(accordion, interactive_plot)"
   ]
  },
  {
   "cell_type": "code",
   "execution_count": null,
   "metadata": {},
   "outputs": [],
   "source": []
  },
  {
   "cell_type": "code",
   "execution_count": null,
   "metadata": {},
   "outputs": [],
   "source": []
  }
 ],
 "metadata": {
  "kernelspec": {
   "display_name": "Python 3",
   "language": "python",
   "name": "python3"
  },
  "language_info": {
   "codemirror_mode": {
    "name": "ipython",
    "version": 3
   },
   "file_extension": ".py",
   "mimetype": "text/x-python",
   "name": "python",
   "nbconvert_exporter": "python",
   "pygments_lexer": "ipython3",
   "version": "3.8.6"
  }
 },
 "nbformat": 4,
 "nbformat_minor": 4
}
